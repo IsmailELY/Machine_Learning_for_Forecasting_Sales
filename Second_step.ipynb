{
 "cells": [
  {
   "cell_type": "code",
   "execution_count": 1,
   "metadata": {},
   "outputs": [],
   "source": [
    "import pandas as pd\n",
    "import matplotlib.pyplot as plt\n",
    "import plotly.offline as pyo\n",
    "import numpy as np\n",
    "import os\n",
    "from tqdm.notebook import tqdm"
   ]
  },
  {
   "cell_type": "code",
   "execution_count": 2,
   "metadata": {},
   "outputs": [],
   "source": [
    "file_lenght=-len(os.path.abspath(\".\").split(\"\\\\\")[-1])\n",
    "csv_path =  os.path.abspath(\".\")[:file_lenght]+\"Data\\\\\""
   ]
  },
  {
   "cell_type": "code",
   "execution_count": 4,
   "metadata": {},
   "outputs": [
    {
     "name": "stderr",
     "output_type": "stream",
     "text": [
      "E:\\user\\anaconda\\envs\\Forecasting_sales\\lib\\site-packages\\numpy\\lib\\arraysetops.py:569: FutureWarning:\n",
      "\n",
      "elementwise comparison failed; returning scalar instead, but in the future will perform elementwise comparison\n",
      "\n"
     ]
    },
    {
     "data": {
      "text/html": [
       "<div>\n",
       "<style scoped>\n",
       "    .dataframe tbody tr th:only-of-type {\n",
       "        vertical-align: middle;\n",
       "    }\n",
       "\n",
       "    .dataframe tbody tr th {\n",
       "        vertical-align: top;\n",
       "    }\n",
       "\n",
       "    .dataframe thead th {\n",
       "        text-align: right;\n",
       "    }\n",
       "</style>\n",
       "<table border=\"1\" class=\"dataframe\">\n",
       "  <thead>\n",
       "    <tr style=\"text-align: right;\">\n",
       "      <th></th>\n",
       "      <th>ITINERARY_CODE</th>\n",
       "      <th>ITINERARY_NAME</th>\n",
       "      <th>PARTNER_CODE</th>\n",
       "      <th>PARTNERCATEGORY_CODE</th>\n",
       "      <th>PARTNERCATEGORYTYPE_CODE</th>\n",
       "      <th>VENDOR</th>\n",
       "      <th>SECTOR CODE</th>\n",
       "      <th>SECTOR NAME</th>\n",
       "      <th>REGION CODE</th>\n",
       "      <th>REGION NAME</th>\n",
       "      <th>...</th>\n",
       "      <th>UNITPRICE</th>\n",
       "      <th>SOLD QUANTITY</th>\n",
       "      <th>TURNOVER</th>\n",
       "      <th>DISCOUNT</th>\n",
       "      <th>GREGORIAN_DATE</th>\n",
       "      <th>HOLIDAY</th>\n",
       "      <th>SCOLAR_HOLIDAY</th>\n",
       "      <th>ISLAM_EVENT</th>\n",
       "      <th>TEMPERATURE</th>\n",
       "      <th>HUMIDITY</th>\n",
       "    </tr>\n",
       "  </thead>\n",
       "  <tbody>\n",
       "    <tr>\n",
       "      <th>0</th>\n",
       "      <td>S02001</td>\n",
       "      <td>Samedi, Centre ville 1</td>\n",
       "      <td>02/0002</td>\n",
       "      <td>M</td>\n",
       "      <td>M</td>\n",
       "      <td>R0201</td>\n",
       "      <td>201</td>\n",
       "      <td>EURL ADEMLAIT-CHLEF</td>\n",
       "      <td>2</td>\n",
       "      <td>CHLEF</td>\n",
       "      <td>...</td>\n",
       "      <td>88.000000</td>\n",
       "      <td>12.0</td>\n",
       "      <td>1056.000000</td>\n",
       "      <td>0.0</td>\n",
       "      <td>2017-11-25</td>\n",
       "      <td>0</td>\n",
       "      <td>0</td>\n",
       "      <td>None</td>\n",
       "      <td>55.59</td>\n",
       "      <td>0.54</td>\n",
       "    </tr>\n",
       "    <tr>\n",
       "      <th>1</th>\n",
       "      <td>S02001</td>\n",
       "      <td>Samedi, Centre ville 1</td>\n",
       "      <td>02/0004</td>\n",
       "      <td>GM</td>\n",
       "      <td>GM</td>\n",
       "      <td>R0201</td>\n",
       "      <td>201</td>\n",
       "      <td>EURL ADEMLAIT-CHLEF</td>\n",
       "      <td>2</td>\n",
       "      <td>CHLEF</td>\n",
       "      <td>...</td>\n",
       "      <td>83.333333</td>\n",
       "      <td>36.0</td>\n",
       "      <td>2999.999988</td>\n",
       "      <td>0.0</td>\n",
       "      <td>2017-11-25</td>\n",
       "      <td>0</td>\n",
       "      <td>0</td>\n",
       "      <td>None</td>\n",
       "      <td>55.59</td>\n",
       "      <td>0.54</td>\n",
       "    </tr>\n",
       "    <tr>\n",
       "      <th>2</th>\n",
       "      <td>S02001</td>\n",
       "      <td>Samedi, Centre ville 1</td>\n",
       "      <td>02/0004</td>\n",
       "      <td>GM</td>\n",
       "      <td>GM</td>\n",
       "      <td>R0201</td>\n",
       "      <td>201</td>\n",
       "      <td>EURL ADEMLAIT-CHLEF</td>\n",
       "      <td>2</td>\n",
       "      <td>CHLEF</td>\n",
       "      <td>...</td>\n",
       "      <td>88.000000</td>\n",
       "      <td>36.0</td>\n",
       "      <td>3168.000000</td>\n",
       "      <td>0.0</td>\n",
       "      <td>2017-11-25</td>\n",
       "      <td>0</td>\n",
       "      <td>0</td>\n",
       "      <td>None</td>\n",
       "      <td>55.59</td>\n",
       "      <td>0.54</td>\n",
       "    </tr>\n",
       "    <tr>\n",
       "      <th>3</th>\n",
       "      <td>S02001</td>\n",
       "      <td>Samedi, Centre ville 1</td>\n",
       "      <td>02/0005</td>\n",
       "      <td>M</td>\n",
       "      <td>M</td>\n",
       "      <td>R0201</td>\n",
       "      <td>201</td>\n",
       "      <td>EURL ADEMLAIT-CHLEF</td>\n",
       "      <td>2</td>\n",
       "      <td>CHLEF</td>\n",
       "      <td>...</td>\n",
       "      <td>45.000000</td>\n",
       "      <td>12.0</td>\n",
       "      <td>540.000000</td>\n",
       "      <td>0.0</td>\n",
       "      <td>2017-11-25</td>\n",
       "      <td>0</td>\n",
       "      <td>0</td>\n",
       "      <td>None</td>\n",
       "      <td>55.59</td>\n",
       "      <td>0.54</td>\n",
       "    </tr>\n",
       "    <tr>\n",
       "      <th>4</th>\n",
       "      <td>S02001</td>\n",
       "      <td>Samedi, Centre ville 1</td>\n",
       "      <td>02/0006</td>\n",
       "      <td>M</td>\n",
       "      <td>M</td>\n",
       "      <td>R0201</td>\n",
       "      <td>201</td>\n",
       "      <td>EURL ADEMLAIT-CHLEF</td>\n",
       "      <td>2</td>\n",
       "      <td>CHLEF</td>\n",
       "      <td>...</td>\n",
       "      <td>45.000000</td>\n",
       "      <td>24.0</td>\n",
       "      <td>1080.000000</td>\n",
       "      <td>0.0</td>\n",
       "      <td>2017-11-25</td>\n",
       "      <td>0</td>\n",
       "      <td>0</td>\n",
       "      <td>None</td>\n",
       "      <td>55.59</td>\n",
       "      <td>0.54</td>\n",
       "    </tr>\n",
       "  </tbody>\n",
       "</table>\n",
       "<p>5 rows × 23 columns</p>\n",
       "</div>"
      ],
      "text/plain": [
       "  ITINERARY_CODE          ITINERARY_NAME PARTNER_CODE PARTNERCATEGORY_CODE  \\\n",
       "0         S02001  Samedi, Centre ville 1      02/0002                    M   \n",
       "1         S02001  Samedi, Centre ville 1      02/0004                   GM   \n",
       "2         S02001  Samedi, Centre ville 1      02/0004                   GM   \n",
       "3         S02001  Samedi, Centre ville 1      02/0005                    M   \n",
       "4         S02001  Samedi, Centre ville 1      02/0006                    M   \n",
       "\n",
       "  PARTNERCATEGORYTYPE_CODE VENDOR  SECTOR CODE          SECTOR NAME  \\\n",
       "0                        M  R0201          201  EURL ADEMLAIT-CHLEF   \n",
       "1                       GM  R0201          201  EURL ADEMLAIT-CHLEF   \n",
       "2                       GM  R0201          201  EURL ADEMLAIT-CHLEF   \n",
       "3                        M  R0201          201  EURL ADEMLAIT-CHLEF   \n",
       "4                        M  R0201          201  EURL ADEMLAIT-CHLEF   \n",
       "\n",
       "   REGION CODE REGION NAME  ...  UNITPRICE SOLD QUANTITY     TURNOVER  \\\n",
       "0            2       CHLEF  ...  88.000000          12.0  1056.000000   \n",
       "1            2       CHLEF  ...  83.333333          36.0  2999.999988   \n",
       "2            2       CHLEF  ...  88.000000          36.0  3168.000000   \n",
       "3            2       CHLEF  ...  45.000000          12.0   540.000000   \n",
       "4            2       CHLEF  ...  45.000000          24.0  1080.000000   \n",
       "\n",
       "   DISCOUNT  GREGORIAN_DATE  HOLIDAY  SCOLAR_HOLIDAY ISLAM_EVENT  TEMPERATURE  \\\n",
       "0       0.0      2017-11-25        0               0        None        55.59   \n",
       "1       0.0      2017-11-25        0               0        None        55.59   \n",
       "2       0.0      2017-11-25        0               0        None        55.59   \n",
       "3       0.0      2017-11-25        0               0        None        55.59   \n",
       "4       0.0      2017-11-25        0               0        None        55.59   \n",
       "\n",
       "   HUMIDITY  \n",
       "0      0.54  \n",
       "1      0.54  \n",
       "2      0.54  \n",
       "3      0.54  \n",
       "4      0.54  \n",
       "\n",
       "[5 rows x 23 columns]"
      ]
     },
     "execution_count": 4,
     "metadata": {},
     "output_type": "execute_result"
    }
   ],
   "source": [
    "myData = pd.read_csv(csv_path+\"Updated_Data_2.csv\",header=0,engine='c',index_col=[0],low_memory=False)\n",
    "myData.head()"
   ]
  },
  {
   "cell_type": "markdown",
   "metadata": {},
   "source": [
    "<h4>Detail about our Data and optimize the reading process for quick interactions</h4>"
   ]
  },
  {
   "cell_type": "code",
   "execution_count": 14,
   "metadata": {},
   "outputs": [
    {
     "name": "stdout",
     "output_type": "stream",
     "text": [
      "<class 'pandas.core.frame.DataFrame'>\n",
      "Int64Index: 15692870 entries, 0 to 15692869\n",
      "Data columns (total 23 columns):\n",
      " #   Column                    Dtype  \n",
      "---  ------                    -----  \n",
      " 0   ITINERARY_CODE            object \n",
      " 1   ITINERARY_NAME            object \n",
      " 2   PARTNER_CODE              object \n",
      " 3   PARTNERCATEGORY_CODE      object \n",
      " 4   PARTNERCATEGORYTYPE_CODE  object \n",
      " 5   VENDOR                    object \n",
      " 6   SECTOR CODE               int64  \n",
      " 7   SECTOR NAME               object \n",
      " 8   REGION CODE               int64  \n",
      " 9   REGION NAME               object \n",
      " 10  PRODUCT_CODE              object \n",
      " 11  PRODUCT_NAME              object \n",
      " 12  PRODUCTPAGE_CODE          object \n",
      " 13  UNITPRICE                 float64\n",
      " 14  SOLD QUANTITY             float64\n",
      " 15  TURNOVER                  float64\n",
      " 16  DISCOUNT                  float64\n",
      " 17  GREGORIAN_DATE            object \n",
      " 18  HOLIDAY                   int64  \n",
      " 19  SCOLAR_HOLIDAY            int64  \n",
      " 20  ISLAM_EVENT               object \n",
      " 21  TEMPERATURE               float64\n",
      " 22  HUMIDITY                  float64\n",
      "dtypes: float64(6), int64(4), object(13)\n",
      "memory usage: 2.8+ GB\n"
     ]
    }
   ],
   "source": [
    "myData.info() #first look"
   ]
  },
  {
   "cell_type": "code",
   "execution_count": 15,
   "metadata": {
    "scrolled": true
   },
   "outputs": [
    {
     "name": "stdout",
     "output_type": "stream",
     "text": [
      "<class 'pandas.core.frame.DataFrame'>\n",
      "Int64Index: 15692870 entries, 0 to 15692869\n",
      "Data columns (total 23 columns):\n",
      " #   Column                    Dtype  \n",
      "---  ------                    -----  \n",
      " 0   ITINERARY_CODE            object \n",
      " 1   ITINERARY_NAME            object \n",
      " 2   PARTNER_CODE              object \n",
      " 3   PARTNERCATEGORY_CODE      object \n",
      " 4   PARTNERCATEGORYTYPE_CODE  object \n",
      " 5   VENDOR                    object \n",
      " 6   SECTOR CODE               int64  \n",
      " 7   SECTOR NAME               object \n",
      " 8   REGION CODE               int64  \n",
      " 9   REGION NAME               object \n",
      " 10  PRODUCT_CODE              object \n",
      " 11  PRODUCT_NAME              object \n",
      " 12  PRODUCTPAGE_CODE          object \n",
      " 13  UNITPRICE                 float64\n",
      " 14  SOLD QUANTITY             float64\n",
      " 15  TURNOVER                  float64\n",
      " 16  DISCOUNT                  float64\n",
      " 17  GREGORIAN_DATE            object \n",
      " 18  HOLIDAY                   int64  \n",
      " 19  SCOLAR_HOLIDAY            int64  \n",
      " 20  ISLAM_EVENT               object \n",
      " 21  TEMPERATURE               float64\n",
      " 22  HUMIDITY                  float64\n",
      "dtypes: float64(6), int64(4), object(13)\n",
      "memory usage: 14.0 GB\n"
     ]
    }
   ],
   "source": [
    "myData.info(memory_usage='deep') #deep look"
   ]
  },
  {
   "cell_type": "code",
   "execution_count": null,
   "metadata": {},
   "outputs": [],
   "source": [
    "for c in myData:\n",
    "    k=myData[str(c)].unique()\n",
    "    if len(k)<60 and str(c): #our data is composed of 15 million rows (category of 60 element is still saving memory usage)\n",
    "        myData[str(c)]=myData[str(c)].astype(\"category\")"
   ]
  },
  {
   "cell_type": "code",
   "execution_count": 17,
   "metadata": {
    "scrolled": true
   },
   "outputs": [
    {
     "name": "stdout",
     "output_type": "stream",
     "text": [
      "<class 'pandas.core.frame.DataFrame'>\n",
      "Int64Index: 15692870 entries, 0 to 15692869\n",
      "Data columns (total 23 columns):\n",
      " #   Column                    Dtype   \n",
      "---  ------                    -----   \n",
      " 0   ITINERARY_CODE            object  \n",
      " 1   ITINERARY_NAME            object  \n",
      " 2   PARTNER_CODE              object  \n",
      " 3   PARTNERCATEGORY_CODE      category\n",
      " 4   PARTNERCATEGORYTYPE_CODE  category\n",
      " 5   VENDOR                    object  \n",
      " 6   SECTOR CODE               int64   \n",
      " 7   SECTOR NAME               object  \n",
      " 8   REGION CODE               category\n",
      " 9   REGION NAME               category\n",
      " 10  PRODUCT_CODE              category\n",
      " 11  PRODUCT_NAME              category\n",
      " 12  PRODUCTPAGE_CODE          category\n",
      " 13  UNITPRICE                 category\n",
      " 14  SOLD QUANTITY             float64 \n",
      " 15  TURNOVER                  float64 \n",
      " 16  DISCOUNT                  float64 \n",
      " 17  GREGORIAN_DATE            object  \n",
      " 18  HOLIDAY                   category\n",
      " 19  SCOLAR_HOLIDAY            category\n",
      " 20  ISLAM_EVENT               category\n",
      " 21  TEMPERATURE               float64 \n",
      " 22  HUMIDITY                  float64 \n",
      "dtypes: category(11), float64(5), int64(1), object(6)\n",
      "memory usage: 7.0 GB\n"
     ]
    }
   ],
   "source": [
    "myData.info(memory_usage='deep') #result"
   ]
  },
  {
   "cell_type": "markdown",
   "metadata": {},
   "source": [
    "<p>We saved <b>7.0 GB</b> of memory</p>"
   ]
  },
  {
   "cell_type": "markdown",
   "metadata": {},
   "source": [
    "<h2>Time series plot</h2>\n",
    "<ul>\n",
    "    <li>Daily Revenue all clients & all sectors (chiffre affaire par jour)</li>\n",
    "    <li>Daily Revenue all product per sector (MCA par jour de tout produit par secteur)</li>\n",
    "    <li>Daily Revenue all clients per Product range (MCA par jour selon la gamme produit de tout clients)</li>\n",
    "</ul>\n",
    "\n",
    "### Parameters as Daily-Monthly Progress, Menu Gamme Produit, Secteur-Region"
   ]
  },
  {
   "cell_type": "markdown",
   "metadata": {},
   "source": [
    "<h4>Daily Revenue all clients & all sectors (chiffre affaire par jour)</h4>"
   ]
  },
  {
   "cell_type": "code",
   "execution_count": 128,
   "metadata": {
    "scrolled": true
   },
   "outputs": [
    {
     "data": {
      "text/html": [
       "<div>\n",
       "<style scoped>\n",
       "    .dataframe tbody tr th:only-of-type {\n",
       "        vertical-align: middle;\n",
       "    }\n",
       "\n",
       "    .dataframe tbody tr th {\n",
       "        vertical-align: top;\n",
       "    }\n",
       "\n",
       "    .dataframe thead th {\n",
       "        text-align: right;\n",
       "    }\n",
       "</style>\n",
       "<table border=\"1\" class=\"dataframe\">\n",
       "  <thead>\n",
       "    <tr style=\"text-align: right;\">\n",
       "      <th></th>\n",
       "      <th>SECTOR NAME</th>\n",
       "      <th>REGION NAME</th>\n",
       "      <th>PRODUCT_NAME</th>\n",
       "      <th>PRODUCTPAGE_CODE</th>\n",
       "      <th>TURNOVER</th>\n",
       "      <th>DISCOUNT</th>\n",
       "      <th>GREGORIAN_DATE</th>\n",
       "    </tr>\n",
       "  </thead>\n",
       "  <tbody>\n",
       "    <tr>\n",
       "      <th>0</th>\n",
       "      <td>EURL ADEMLAIT-CHLEF</td>\n",
       "      <td>CHLEF</td>\n",
       "      <td>ENTIER</td>\n",
       "      <td>Laits Blancs</td>\n",
       "      <td>1056.000000</td>\n",
       "      <td>0.0</td>\n",
       "      <td>2017-11-25</td>\n",
       "    </tr>\n",
       "    <tr>\n",
       "      <th>1</th>\n",
       "      <td>EURL ADEMLAIT-CHLEF</td>\n",
       "      <td>CHLEF</td>\n",
       "      <td>DE 1L</td>\n",
       "      <td>Laits Blancs</td>\n",
       "      <td>2999.999988</td>\n",
       "      <td>0.0</td>\n",
       "      <td>2017-11-25</td>\n",
       "    </tr>\n",
       "    <tr>\n",
       "      <th>2</th>\n",
       "      <td>EURL ADEMLAIT-CHLEF</td>\n",
       "      <td>CHLEF</td>\n",
       "      <td>VIVA</td>\n",
       "      <td>Laits Blancs</td>\n",
       "      <td>3168.000000</td>\n",
       "      <td>0.0</td>\n",
       "      <td>2017-11-25</td>\n",
       "    </tr>\n",
       "    <tr>\n",
       "      <th>3</th>\n",
       "      <td>EURL ADEMLAIT-CHLEF</td>\n",
       "      <td>CHLEF</td>\n",
       "      <td>DE 50CL</td>\n",
       "      <td>Laits Blancs</td>\n",
       "      <td>540.000000</td>\n",
       "      <td>0.0</td>\n",
       "      <td>2017-11-25</td>\n",
       "    </tr>\n",
       "    <tr>\n",
       "      <th>4</th>\n",
       "      <td>EURL ADEMLAIT-CHLEF</td>\n",
       "      <td>CHLEF</td>\n",
       "      <td>DE 50CL</td>\n",
       "      <td>Laits Blancs</td>\n",
       "      <td>1080.000000</td>\n",
       "      <td>0.0</td>\n",
       "      <td>2017-11-25</td>\n",
       "    </tr>\n",
       "  </tbody>\n",
       "</table>\n",
       "</div>"
      ],
      "text/plain": [
       "           SECTOR NAME REGION NAME PRODUCT_NAME PRODUCTPAGE_CODE     TURNOVER  \\\n",
       "0  EURL ADEMLAIT-CHLEF       CHLEF       ENTIER     Laits Blancs  1056.000000   \n",
       "1  EURL ADEMLAIT-CHLEF       CHLEF        DE 1L     Laits Blancs  2999.999988   \n",
       "2  EURL ADEMLAIT-CHLEF       CHLEF         VIVA     Laits Blancs  3168.000000   \n",
       "3  EURL ADEMLAIT-CHLEF       CHLEF      DE 50CL     Laits Blancs   540.000000   \n",
       "4  EURL ADEMLAIT-CHLEF       CHLEF      DE 50CL     Laits Blancs  1080.000000   \n",
       "\n",
       "   DISCOUNT GREGORIAN_DATE  \n",
       "0       0.0     2017-11-25  \n",
       "1       0.0     2017-11-25  \n",
       "2       0.0     2017-11-25  \n",
       "3       0.0     2017-11-25  \n",
       "4       0.0     2017-11-25  "
      ]
     },
     "execution_count": 128,
     "metadata": {},
     "output_type": "execute_result"
    }
   ],
   "source": [
    "cols=[\"SECTOR NAME\",\"REGION NAME\",\"PRODUCT_NAME\",\"PRODUCTPAGE_CODE\",\"TURNOVER\",\"DISCOUNT\",\"GREGORIAN_DATE\"]\n",
    "types={\"SECTOR NAME\": \"category\",\"REGION NAME\": \"category\",\"PRODUCT_NAME\": \"category\",\"PRODUCTPAGE_CODE\": \"category\"}\n",
    "myData = pd.read_csv(csv_path+\"Updated_Data_2.csv\",header=0,engine='c',usecols=cols,low_memory=False)\n",
    "myData.head()"
   ]
  },
  {
   "cell_type": "code",
   "execution_count": 5,
   "metadata": {},
   "outputs": [
    {
     "name": "stdout",
     "output_type": "stream",
     "text": [
      "<class 'pandas.core.frame.DataFrame'>\n",
      "RangeIndex: 15692870 entries, 0 to 15692869\n",
      "Data columns (total 7 columns):\n",
      " #   Column            Dtype  \n",
      "---  ------            -----  \n",
      " 0   SECTOR NAME       object \n",
      " 1   REGION NAME       object \n",
      " 2   PRODUCT_NAME      object \n",
      " 3   PRODUCTPAGE_CODE  object \n",
      " 4   TURNOVER          object \n",
      " 5   DISCOUNT          float64\n",
      " 6   GREGORIAN_DATE    object \n",
      "dtypes: float64(1), object(6)\n",
      "memory usage: 6.1 GB\n"
     ]
    }
   ],
   "source": [
    "myData.info(memory_usage='deep') #deep look"
   ]
  },
  {
   "cell_type": "code",
   "execution_count": 20,
   "metadata": {},
   "outputs": [
    {
     "data": {
      "text/html": [
       "        <script type=\"text/javascript\">\n",
       "        window.PlotlyConfig = {MathJaxConfig: 'local'};\n",
       "        if (window.MathJax) {MathJax.Hub.Config({SVG: {font: \"STIX-Web\"}});}\n",
       "        if (typeof require !== 'undefined') {\n",
       "        require.undef(\"plotly\");\n",
       "        requirejs.config({\n",
       "            paths: {\n",
       "                'plotly': ['https://cdn.plot.ly/plotly-latest.min']\n",
       "            }\n",
       "        });\n",
       "        require(['plotly'], function(Plotly) {\n",
       "            window._Plotly = Plotly;\n",
       "        });\n",
       "        }\n",
       "        </script>\n",
       "        "
      ]
     },
     "metadata": {},
     "output_type": "display_data"
    },
    {
     "data": {
      "text/html": [
       "        <script type=\"text/javascript\">\n",
       "        window.PlotlyConfig = {MathJaxConfig: 'local'};\n",
       "        if (window.MathJax) {MathJax.Hub.Config({SVG: {font: \"STIX-Web\"}});}\n",
       "        if (typeof require !== 'undefined') {\n",
       "        require.undef(\"plotly\");\n",
       "        requirejs.config({\n",
       "            paths: {\n",
       "                'plotly': ['https://cdn.plot.ly/plotly-latest.min']\n",
       "            }\n",
       "        });\n",
       "        require(['plotly'], function(Plotly) {\n",
       "            window._Plotly = Plotly;\n",
       "        });\n",
       "        }\n",
       "        </script>\n",
       "        "
      ]
     },
     "metadata": {},
     "output_type": "display_data"
    }
   ],
   "source": [
    "import cufflinks as cf               # third-party library for Pandas \n",
    "import plotly.graph_objs as go\n",
    "%matplotlib inline\n",
    "cf.go_offline()\n",
    "pyo.init_notebook_mode(connected=True)\n",
    "import ipywidgets as widgets\n",
    "import itertools"
   ]
  },
  {
   "cell_type": "markdown",
   "metadata": {},
   "source": [
    "#### Extract Attributes"
   ]
  },
  {
   "cell_type": "code",
   "execution_count": 129,
   "metadata": {
    "scrolled": true
   },
   "outputs": [
    {
     "data": {
      "text/plain": [
       "{'CHLEF': ['EURL ADEMLAIT-CHLEF'],\n",
       " 'LAGHOUAT': ['DOUIHASNI AYACHE'],\n",
       " 'OUM EL BOUAGHI': ['BOUCHAKOUR RAFIK'],\n",
       " 'BATNA': ['BAAZIZI MOHAMED FOUZI', 'BAAZIZI MOHAMED FOUZI BARIKA'],\n",
       " 'BEJAIA': ['MD CHERIF HAKIM', 'FOURAR AHCENE', 'IBRIR MERZOUK'],\n",
       " 'BISKRA': ['EURL GOUBAA DISTRIBUTION'],\n",
       " 'BECHAR': ['LAAMA MOUSSA'],\n",
       " 'BLIDA': ['HADDAD ZAHIR'],\n",
       " 'ALGER': ['MD CHERIF SAMIR',\n",
       "  'IBRIR SLIMANE',\n",
       "  'IBRIR ABDELHAK',\n",
       "  'EURL MILK SODA FOOD',\n",
       "  'IBRIR LARBI ALGER',\n",
       "  'EURL CANDILAIT'],\n",
       " 'BOUIRA': ['IBRIR ABDESLAM'],\n",
       " 'TEBESSA': ['EURL NASR ECHARK'],\n",
       " 'TLEMCEN': ['IBRIRKHELIL'],\n",
       " 'TIARET': ['IBRIR SAMIR'],\n",
       " 'TIZI OUZOU': ['SARL CANDY DISTRIBUTION', 'SARL CANDY DISTRIBUTION 2 -TO'],\n",
       " 'DJELFA': ['BOUZIDI ABDELKRIM'],\n",
       " 'JIJEL': ['SARL JGOAA'],\n",
       " 'SETIF': ['EURL CANDY MILK', 'EURL DELICIOUS MILK'],\n",
       " 'SAIDA': ['BELHOCINE Abdellatif'],\n",
       " 'SKIKDA': ['HAMAZA LAKHDAR', 'FOURAR ALI'],\n",
       " 'SIDI BEL ABBES': ['EURL EL TEWFIK'],\n",
       " 'ANNABA': ['EURL ILYES FOOD', 'ANNABA 2'],\n",
       " 'GUELMA': ['AZERINE YACINE', 'TABOU HAMID'],\n",
       " 'CONSTANTINE': ['IBRIR AZEDINE', 'FOURAR SAID', 'EURL NOUNOU COMMERCE '],\n",
       " 'MEDEA': ['SNC TITTERI DISTRIB'],\n",
       " 'TAMANRASSET': ['TAMANRASSET'],\n",
       " 'MOSTAGHANEM': ['AKLI FATAH', 'IBRIR YANIS'],\n",
       " \"M'SILA\": ['SARL SONARIX'],\n",
       " 'MASCARA': ['IBRIR NACER'],\n",
       " 'OUARGLA': ['SARL BATEAU SUD OUAREGLA', 'SARL BATEAU SUD TOUGGOURT'],\n",
       " 'ORAN': ['MELIANI SID AHMED', 'IBRIR MOHAMED', 'IBRIR LAIT', 'BENOUHAMOU'],\n",
       " 'RELIZANE': ['BOURZIG BOUZIANE', 'IBRIR FAROUK'],\n",
       " 'BBA': ['EURL AT FOODS DISTRIBUTION'],\n",
       " 'BOUMERDES': ['EURL LAIT PROD - BOUMERDES 2', 'EURL LAIT PROD'],\n",
       " 'EL TAREF': ['BOUTELIATE MESSAOUDN '],\n",
       " 'EL OUED': ['ABDESSADOK ALAEDDINE'],\n",
       " 'KHENCHELA': ['HANI MOUAD', 'TOUAT A/MADJID'],\n",
       " 'SOUK AHRAS': ['DRIDI LARBI'],\n",
       " 'TIPAZA': ['SARL DISTRI LAIT'],\n",
       " 'MILA': ['IBRIR RIDA'],\n",
       " 'AIN DEFLA': ['EURL ADEMLAIT-AIN DEFLA'],\n",
       " 'AIN TEMOUCHENT': ['BENDIMRED SAMIR'],\n",
       " 'EL MENIA': ['IBRIR GHARDAIA', 'Boussena']}"
      ]
     },
     "execution_count": 129,
     "metadata": {},
     "output_type": "execute_result"
    }
   ],
   "source": [
    "sectors = myData[[\"SECTOR NAME\",\"REGION NAME\"]].drop_duplicates()\n",
    "sectorDict = { region.upper() : [sector for sector in sectors[sectors[\"REGION NAME\"]==region][\"SECTOR NAME\"]] for region in sectors[\"REGION NAME\"].drop_duplicates().tolist()}\n",
    "sectorDict"
   ]
  },
  {
   "cell_type": "code",
   "execution_count": 130,
   "metadata": {
    "scrolled": true
   },
   "outputs": [
    {
     "data": {
      "text/plain": [
       "{'laits blancs': ['entier',\n",
       "  'de 1l',\n",
       "  'viva',\n",
       "  'de 50cl',\n",
       "  'silhouette',\n",
       "  'de 1l sans lactose'],\n",
       " 'laits aromatisés': ['choco 20cl',\n",
       "  'choco 125 ml',\n",
       "  'fraise 125 ml',\n",
       "  'candy caramel 125 ml',\n",
       "  'choco 1l',\n",
       "  'fraise 20cl',\n",
       "  'banane 125 ml'],\n",
       " 'laits & jus': ['twist o-a 20cl',\n",
       "  'twist o-f-b 20cl',\n",
       "  'twist o-f-b 1l',\n",
       "  'twist o-a 1l',\n",
       "  'twist o-m 20cl',\n",
       "  'twist p-a 20cl',\n",
       "  'twist o-m 1l',\n",
       "  'twist p-a 1l',\n",
       "  'twist o-f-b 125ml',\n",
       "  'twist o-a 125ml'],\n",
       " 'boissons': ['cocktail 1l',\n",
       "  'orange 1l',\n",
       "  'citronnade',\n",
       "  'nectar de grenade',\n",
       "  'cocktail 20cl',\n",
       "  'orange 20cl'],\n",
       " 'le maitre cuisinier': ['preparation culinaire'],\n",
       " 'le maitre glacier': ['ice cream - vanille',\n",
       "  'ice cream - chocolat',\n",
       "  'ice cream - fraise'],\n",
       " 'poudre etui': ['etui 500g']}"
      ]
     },
     "execution_count": 130,
     "metadata": {},
     "output_type": "execute_result"
    }
   ],
   "source": [
    "productGamme = myData[[\"PRODUCT_NAME\",\"PRODUCTPAGE_CODE\"]].drop_duplicates()\n",
    "productDict = { gamme.lower() : [product.lower() for product in productGamme[productGamme[\"PRODUCTPAGE_CODE\"]==gamme][\"PRODUCT_NAME\"]] for gamme in productGamme[\"PRODUCTPAGE_CODE\"].drop_duplicates().tolist()}\n",
    "productDict"
   ]
  },
  {
   "cell_type": "code",
   "execution_count": 79,
   "metadata": {},
   "outputs": [
    {
     "name": "stdout",
     "output_type": "stream",
     "text": [
      "4.32 s ± 99.1 ms per loop (mean ± std. dev. of 7 runs, 1 loop each)\n"
     ]
    }
   ],
   "source": [
    "%%timeit\n",
    "myData[\"GREGORIAN_DATE\"].str.slice(stop=7).drop_duplicates().sort_values()"
   ]
  },
  {
   "cell_type": "code",
   "execution_count": 80,
   "metadata": {},
   "outputs": [
    {
     "name": "stdout",
     "output_type": "stream",
     "text": [
      "3.89 s ± 45.8 ms per loop (mean ± std. dev. of 7 runs, 1 loop each)\n"
     ]
    }
   ],
   "source": [
    "%%timeit\n",
    "myData[\"GREGORIAN_DATE\"].map(lambda x: x[:7]).drop_duplicates().sort_values()"
   ]
  },
  {
   "cell_type": "code",
   "execution_count": 82,
   "metadata": {},
   "outputs": [
    {
     "name": "stdout",
     "output_type": "stream",
     "text": [
      "223 ms ± 4.91 ms per loop (mean ± std. dev. of 7 runs, 1 loop each)\n"
     ]
    }
   ],
   "source": [
    "%%timeit\n",
    "myData[\"GREGORIAN_DATE\"].drop_duplicates().str.slice(stop=7).drop_duplicates().sort_values()"
   ]
  },
  {
   "cell_type": "code",
   "execution_count": 81,
   "metadata": {},
   "outputs": [
    {
     "name": "stdout",
     "output_type": "stream",
     "text": [
      "217 ms ± 4 ms per loop (mean ± std. dev. of 7 runs, 1 loop each)\n"
     ]
    }
   ],
   "source": [
    "%%timeit\n",
    "myData[\"GREGORIAN_DATE\"].drop_duplicates().map(lambda x: x[:7]).drop_duplicates().sort_values()"
   ]
  },
  {
   "cell_type": "code",
   "execution_count": 133,
   "metadata": {},
   "outputs": [
    {
     "data": {
      "text/html": [
       "<div>\n",
       "<style scoped>\n",
       "    .dataframe tbody tr th:only-of-type {\n",
       "        vertical-align: middle;\n",
       "    }\n",
       "\n",
       "    .dataframe tbody tr th {\n",
       "        vertical-align: top;\n",
       "    }\n",
       "\n",
       "    .dataframe thead th {\n",
       "        text-align: right;\n",
       "    }\n",
       "</style>\n",
       "<table border=\"1\" class=\"dataframe\">\n",
       "  <thead>\n",
       "    <tr style=\"text-align: right;\">\n",
       "      <th></th>\n",
       "      <th>SECTOR NAME</th>\n",
       "      <th>REGION NAME</th>\n",
       "      <th>PRODUCT_NAME</th>\n",
       "      <th>PRODUCTPAGE_CODE</th>\n",
       "      <th>TURNOVER</th>\n",
       "      <th>DISCOUNT</th>\n",
       "      <th>GREGORIAN_DATE</th>\n",
       "      <th>GREGORIAN_MONTH</th>\n",
       "    </tr>\n",
       "  </thead>\n",
       "  <tbody>\n",
       "    <tr>\n",
       "      <th>0</th>\n",
       "      <td>EURL ADEMLAIT-CHLEF</td>\n",
       "      <td>CHLEF</td>\n",
       "      <td>ENTIER</td>\n",
       "      <td>Laits Blancs</td>\n",
       "      <td>1056.0</td>\n",
       "      <td>0.0</td>\n",
       "      <td>2017-11-25</td>\n",
       "      <td>2017-11</td>\n",
       "    </tr>\n",
       "  </tbody>\n",
       "</table>\n",
       "</div>"
      ],
      "text/plain": [
       "           SECTOR NAME REGION NAME PRODUCT_NAME PRODUCTPAGE_CODE  TURNOVER  \\\n",
       "0  EURL ADEMLAIT-CHLEF       CHLEF       ENTIER     Laits Blancs    1056.0   \n",
       "\n",
       "   DISCOUNT GREGORIAN_DATE GREGORIAN_MONTH  \n",
       "0       0.0     2017-11-25         2017-11  "
      ]
     },
     "execution_count": 133,
     "metadata": {},
     "output_type": "execute_result"
    }
   ],
   "source": [
    "NewDataStock = myData\n",
    "NewDataStock[\"GREGORIAN_MONTH\"] = myData[\"GREGORIAN_DATE\"].map(lambda x: x[:7])\n",
    "NewDataStock.head(1)"
   ]
  },
  {
   "cell_type": "code",
   "execution_count": 134,
   "metadata": {},
   "outputs": [],
   "source": [
    "layout = go.Layout(\n",
    "                    title=\"Serie temporelles - Ventes de produits laitiers\",\n",
    "                    xaxis= {\"title\": \"Time\"},\n",
    "                    yaxis= {\"title\": \"per 1M dinar\"}\n",
    "                    )\n",
    "def DataDisp(Mode,productGamme,regionSlider,promotion):\n",
    "    \n",
    "    data = []\n",
    "     \n",
    "    for gamme,region in tqdm(list(itertools.product(productGamme,regionSlider))):\n",
    "        y = NewDataStock \n",
    "        if gamme != 'tous':\n",
    "            y= y[y[\"PRODUCTPAGE_CODE\"].str.lower().str.match(gamme)]\n",
    "        if region != 'TOUS':\n",
    "            y= y[y[\"REGION NAME\"].str.upper().str.match(region)]\n",
    "\n",
    "        if Mode=='Monthly':\n",
    "            x= NewDataStock[\"GREGORIAN_MONTH\"].drop_duplicates().sort_values()\n",
    "            if promotion:\n",
    "                y2= y.groupby(\"GREGORIAN_MONTH\")[\"DISCOUNT\"].sum()/1000000\n",
    "            y= y.groupby(\"GREGORIAN_MONTH\")[\"TURNOVER\"].sum()/1000000\n",
    "        else:\n",
    "            x= NewDataStock[\"GREGORIAN_DATE\"].drop_duplicates().sort_values()\n",
    "            if promotion:\n",
    "                y2= y.groupby(\"GREGORIAN_MONTH\")[\"DISCOUNT\"].sum()/1000000\n",
    "            y= y.groupby(\"GREGORIAN_DATE\")[\"TURNOVER\"].sum()/1000000\n",
    "\n",
    "        data.append(\n",
    "            go.Scatter(\n",
    "                x = x,\n",
    "                y = y,\n",
    "                mode=\"lines\",\n",
    "                name=f'CAF -- PRD:{gamme}, REG:{region}, {Mode}',\n",
    "            )\n",
    "        )\n",
    "        \n",
    "        if promotion:\n",
    "            data.append(\n",
    "                go.Scatter(\n",
    "                    x = x,\n",
    "                    y = y2,\n",
    "                    mode=\"lines\",\n",
    "                    name=f'Promo -- PRD:{gamme}, REG:{region}, {Mode}',\n",
    "                )\n",
    "            )\n",
    "    fig = go.Figure(data=data,layout=layout)\n",
    "    pyo.iplot(fig)"
   ]
  },
  {
   "cell_type": "code",
   "execution_count": 135,
   "metadata": {},
   "outputs": [
    {
     "data": {
      "application/vnd.jupyter.widget-view+json": {
       "model_id": "487212a7a2c14144aa1e30f6fc433914",
       "version_major": 2,
       "version_minor": 0
      },
      "text/plain": [
       "interactive(children=(RadioButtons(description='Mode:', layout=Layout(width='max-content'), options=('Daily', …"
      ]
     },
     "metadata": {},
     "output_type": "display_data"
    }
   ],
   "source": [
    "Mode = widgets.RadioButtons(\n",
    "    options=['Daily', 'Monthly'],\n",
    "    value='Daily', # Defaults to daily\n",
    "    layout={'width': 'max-content'}, \n",
    "    description='Mode:',\n",
    "    disabled=False\n",
    ")\n",
    "\n",
    "\n",
    "promotion = widgets.Checkbox(\n",
    "    value=False,\n",
    "    description='Promotion',\n",
    "    disabled=False\n",
    ")\n",
    "\n",
    "\n",
    "productGamme = widgets.SelectMultiple(\n",
    "    options=['tous']+list(productDict.keys()),\n",
    "    value=['tous'],\n",
    "    rows=4,\n",
    "    description='Gamme',\n",
    "    disabled=False\n",
    ")\n",
    "\n",
    "regionSlider = widgets.SelectMultiple(\n",
    "    options=['TOUS']+list(sectorDict.keys()),\n",
    "    value=['TOUS'],\n",
    "    rows=4,\n",
    "    description='Region',\n",
    "    disabled=False\n",
    ")\n",
    "        \n",
    "widgets.interactive(DataDisp,Mode=Mode,productGamme=productGamme,regionSlider=regionSlider,promotion=promotion)"
   ]
  },
  {
   "cell_type": "markdown",
   "metadata": {},
   "source": [
    "### Seasonability"
   ]
  },
  {
   "cell_type": "code",
   "execution_count": null,
   "metadata": {},
   "outputs": [],
   "source": [
    "cols=[\"SECTOR NAME\",\"REGION NAME\",\"TURNOVER\",\"DISCOUNT\",\"GREGORIAN_DATE\",\"VENDOR\"]\n",
    "types={\"SECTOR NAME\": \"category\",\"REGION NAME\": \"category\"}\n",
    "myData2 = pd.read_csv(csv_path+\"Updated_Data_2.csv\",header=0,engine='c',usecols=cols,low_memory=False)\n",
    "myData2.head()"
   ]
  },
  {
   "cell_type": "code",
   "execution_count": 173,
   "metadata": {
    "scrolled": false
   },
   "outputs": [
    {
     "data": {
      "application/vnd.jupyter.widget-view+json": {
       "model_id": "7443bf9579144d129c1cb579dc204368",
       "version_major": 2,
       "version_minor": 0
      },
      "text/plain": [
       "HBox(children=(FloatProgress(value=0.0, max=12.0), HTML(value='')))"
      ]
     },
     "metadata": {},
     "output_type": "display_data"
    },
    {
     "name": "stdout",
     "output_type": "stream",
     "text": [
      "\n"
     ]
    },
    {
     "data": {
      "application/vnd.jupyter.widget-view+json": {
       "model_id": "3d8f24a854c4418fb7a02e6d31249c33",
       "version_major": 2,
       "version_minor": 0
      },
      "text/plain": [
       "HBox(children=(FloatProgress(value=0.0, max=12.0), HTML(value='')))"
      ]
     },
     "metadata": {},
     "output_type": "display_data"
    },
    {
     "name": "stdout",
     "output_type": "stream",
     "text": [
      "\n"
     ]
    },
    {
     "data": {
      "application/vnd.jupyter.widget-view+json": {
       "model_id": "a8fb8fbfb7fd4bc29859e10e28209731",
       "version_major": 2,
       "version_minor": 0
      },
      "text/plain": [
       "HBox(children=(FloatProgress(value=0.0, max=12.0), HTML(value='')))"
      ]
     },
     "metadata": {},
     "output_type": "display_data"
    },
    {
     "name": "stdout",
     "output_type": "stream",
     "text": [
      "\n"
     ]
    },
    {
     "data": {
      "application/vnd.jupyter.widget-view+json": {
       "model_id": "7f8ebce5b6734ba3bc9d62f5efec3697",
       "version_major": 2,
       "version_minor": 0
      },
      "text/plain": [
       "HBox(children=(FloatProgress(value=0.0, max=12.0), HTML(value='')))"
      ]
     },
     "metadata": {},
     "output_type": "display_data"
    },
    {
     "name": "stdout",
     "output_type": "stream",
     "text": [
      "\n"
     ]
    },
    {
     "data": {
      "application/vnd.plotly.v1+json": {
       "config": {
        "linkText": "Export to plot.ly",
        "plotlyServerURL": "https://plot.ly",
        "showLink": false
       },
       "data": [
        {
         "mode": "lines",
         "name": "mean seasonability",
         "type": "scatter",
         "x": [
          "-01-",
          "-02-",
          "-03-",
          "-04-",
          "-05-",
          "-06-",
          "-07-",
          "-08-",
          "-09-",
          "-10-",
          "-11-",
          "-12-"
         ],
         "y": [
          1178069624.0650346,
          1070062159.9727808,
          1182983136.780864,
          1205462942.6088717,
          1419788179.1396835,
          1204290022.048942,
          1516378678.8274515,
          1590393948.5540235,
          1621267346.9843848,
          1730999692.513018,
          1547578779.0552466,
          1549650662.9709408
         ]
        },
        {
         "mode": "lines",
         "name": "2016 seasonability",
         "type": "scatter",
         "x": [
          "-01-",
          "-02-",
          "-03-",
          "-04-",
          "-05-",
          "-06-",
          "-07-",
          "-08-",
          "-09-",
          "-10-",
          "-11-",
          "-12-"
         ],
         "y": [
          817327585,
          658962249,
          708764276,
          755236818,
          851128389,
          772133020,
          851378923,
          1040178851,
          1049045249,
          1193685961,
          1161975401,
          1005508334
         ]
        },
        {
         "mode": "lines",
         "name": "2017 seasonability",
         "type": "scatter",
         "x": [
          "-01-",
          "-02-",
          "-03-",
          "-04-",
          "-05-",
          "-06-",
          "-07-",
          "-08-",
          "-09-",
          "-10-",
          "-11-",
          "-12-"
         ],
         "y": [
          1238519547,
          1097211304.7416883,
          1226528052.945176,
          1303069379.2360237,
          1417121152.208134,
          982566573.463572,
          1354844803.9483957,
          1454154881.9577575,
          1299542462.83276,
          1437784506.0167718,
          1277699502.0764842,
          1329007442.300002
         ]
        },
        {
         "mode": "lines",
         "name": "2018 seasonability",
         "type": "scatter",
         "x": [
          "-01-",
          "-02-",
          "-03-",
          "-04-",
          "-05-",
          "-06-",
          "-07-",
          "-08-",
          "-09-",
          "-10-",
          "-11-",
          "-12-"
         ],
         "y": [
          1478361740.1951034,
          1454012926.176654,
          1613657081.3974159,
          1558082630.590591,
          1991114996.2109163,
          1858170472.6832535,
          2342912309.533959,
          2276848112.704317,
          2515214329.120396,
          2561528610.522281,
          2203061434.089254,
          2314436212.6128182
         ]
        }
       ],
       "layout": {
        "template": {
         "data": {
          "bar": [
           {
            "error_x": {
             "color": "#2a3f5f"
            },
            "error_y": {
             "color": "#2a3f5f"
            },
            "marker": {
             "line": {
              "color": "#E5ECF6",
              "width": 0.5
             }
            },
            "type": "bar"
           }
          ],
          "barpolar": [
           {
            "marker": {
             "line": {
              "color": "#E5ECF6",
              "width": 0.5
             }
            },
            "type": "barpolar"
           }
          ],
          "carpet": [
           {
            "aaxis": {
             "endlinecolor": "#2a3f5f",
             "gridcolor": "white",
             "linecolor": "white",
             "minorgridcolor": "white",
             "startlinecolor": "#2a3f5f"
            },
            "baxis": {
             "endlinecolor": "#2a3f5f",
             "gridcolor": "white",
             "linecolor": "white",
             "minorgridcolor": "white",
             "startlinecolor": "#2a3f5f"
            },
            "type": "carpet"
           }
          ],
          "choropleth": [
           {
            "colorbar": {
             "outlinewidth": 0,
             "ticks": ""
            },
            "type": "choropleth"
           }
          ],
          "contour": [
           {
            "colorbar": {
             "outlinewidth": 0,
             "ticks": ""
            },
            "colorscale": [
             [
              0,
              "#0d0887"
             ],
             [
              0.1111111111111111,
              "#46039f"
             ],
             [
              0.2222222222222222,
              "#7201a8"
             ],
             [
              0.3333333333333333,
              "#9c179e"
             ],
             [
              0.4444444444444444,
              "#bd3786"
             ],
             [
              0.5555555555555556,
              "#d8576b"
             ],
             [
              0.6666666666666666,
              "#ed7953"
             ],
             [
              0.7777777777777778,
              "#fb9f3a"
             ],
             [
              0.8888888888888888,
              "#fdca26"
             ],
             [
              1,
              "#f0f921"
             ]
            ],
            "type": "contour"
           }
          ],
          "contourcarpet": [
           {
            "colorbar": {
             "outlinewidth": 0,
             "ticks": ""
            },
            "type": "contourcarpet"
           }
          ],
          "heatmap": [
           {
            "colorbar": {
             "outlinewidth": 0,
             "ticks": ""
            },
            "colorscale": [
             [
              0,
              "#0d0887"
             ],
             [
              0.1111111111111111,
              "#46039f"
             ],
             [
              0.2222222222222222,
              "#7201a8"
             ],
             [
              0.3333333333333333,
              "#9c179e"
             ],
             [
              0.4444444444444444,
              "#bd3786"
             ],
             [
              0.5555555555555556,
              "#d8576b"
             ],
             [
              0.6666666666666666,
              "#ed7953"
             ],
             [
              0.7777777777777778,
              "#fb9f3a"
             ],
             [
              0.8888888888888888,
              "#fdca26"
             ],
             [
              1,
              "#f0f921"
             ]
            ],
            "type": "heatmap"
           }
          ],
          "heatmapgl": [
           {
            "colorbar": {
             "outlinewidth": 0,
             "ticks": ""
            },
            "colorscale": [
             [
              0,
              "#0d0887"
             ],
             [
              0.1111111111111111,
              "#46039f"
             ],
             [
              0.2222222222222222,
              "#7201a8"
             ],
             [
              0.3333333333333333,
              "#9c179e"
             ],
             [
              0.4444444444444444,
              "#bd3786"
             ],
             [
              0.5555555555555556,
              "#d8576b"
             ],
             [
              0.6666666666666666,
              "#ed7953"
             ],
             [
              0.7777777777777778,
              "#fb9f3a"
             ],
             [
              0.8888888888888888,
              "#fdca26"
             ],
             [
              1,
              "#f0f921"
             ]
            ],
            "type": "heatmapgl"
           }
          ],
          "histogram": [
           {
            "marker": {
             "colorbar": {
              "outlinewidth": 0,
              "ticks": ""
             }
            },
            "type": "histogram"
           }
          ],
          "histogram2d": [
           {
            "colorbar": {
             "outlinewidth": 0,
             "ticks": ""
            },
            "colorscale": [
             [
              0,
              "#0d0887"
             ],
             [
              0.1111111111111111,
              "#46039f"
             ],
             [
              0.2222222222222222,
              "#7201a8"
             ],
             [
              0.3333333333333333,
              "#9c179e"
             ],
             [
              0.4444444444444444,
              "#bd3786"
             ],
             [
              0.5555555555555556,
              "#d8576b"
             ],
             [
              0.6666666666666666,
              "#ed7953"
             ],
             [
              0.7777777777777778,
              "#fb9f3a"
             ],
             [
              0.8888888888888888,
              "#fdca26"
             ],
             [
              1,
              "#f0f921"
             ]
            ],
            "type": "histogram2d"
           }
          ],
          "histogram2dcontour": [
           {
            "colorbar": {
             "outlinewidth": 0,
             "ticks": ""
            },
            "colorscale": [
             [
              0,
              "#0d0887"
             ],
             [
              0.1111111111111111,
              "#46039f"
             ],
             [
              0.2222222222222222,
              "#7201a8"
             ],
             [
              0.3333333333333333,
              "#9c179e"
             ],
             [
              0.4444444444444444,
              "#bd3786"
             ],
             [
              0.5555555555555556,
              "#d8576b"
             ],
             [
              0.6666666666666666,
              "#ed7953"
             ],
             [
              0.7777777777777778,
              "#fb9f3a"
             ],
             [
              0.8888888888888888,
              "#fdca26"
             ],
             [
              1,
              "#f0f921"
             ]
            ],
            "type": "histogram2dcontour"
           }
          ],
          "mesh3d": [
           {
            "colorbar": {
             "outlinewidth": 0,
             "ticks": ""
            },
            "type": "mesh3d"
           }
          ],
          "parcoords": [
           {
            "line": {
             "colorbar": {
              "outlinewidth": 0,
              "ticks": ""
             }
            },
            "type": "parcoords"
           }
          ],
          "pie": [
           {
            "automargin": true,
            "type": "pie"
           }
          ],
          "scatter": [
           {
            "marker": {
             "colorbar": {
              "outlinewidth": 0,
              "ticks": ""
             }
            },
            "type": "scatter"
           }
          ],
          "scatter3d": [
           {
            "line": {
             "colorbar": {
              "outlinewidth": 0,
              "ticks": ""
             }
            },
            "marker": {
             "colorbar": {
              "outlinewidth": 0,
              "ticks": ""
             }
            },
            "type": "scatter3d"
           }
          ],
          "scattercarpet": [
           {
            "marker": {
             "colorbar": {
              "outlinewidth": 0,
              "ticks": ""
             }
            },
            "type": "scattercarpet"
           }
          ],
          "scattergeo": [
           {
            "marker": {
             "colorbar": {
              "outlinewidth": 0,
              "ticks": ""
             }
            },
            "type": "scattergeo"
           }
          ],
          "scattergl": [
           {
            "marker": {
             "colorbar": {
              "outlinewidth": 0,
              "ticks": ""
             }
            },
            "type": "scattergl"
           }
          ],
          "scattermapbox": [
           {
            "marker": {
             "colorbar": {
              "outlinewidth": 0,
              "ticks": ""
             }
            },
            "type": "scattermapbox"
           }
          ],
          "scatterpolar": [
           {
            "marker": {
             "colorbar": {
              "outlinewidth": 0,
              "ticks": ""
             }
            },
            "type": "scatterpolar"
           }
          ],
          "scatterpolargl": [
           {
            "marker": {
             "colorbar": {
              "outlinewidth": 0,
              "ticks": ""
             }
            },
            "type": "scatterpolargl"
           }
          ],
          "scatterternary": [
           {
            "marker": {
             "colorbar": {
              "outlinewidth": 0,
              "ticks": ""
             }
            },
            "type": "scatterternary"
           }
          ],
          "surface": [
           {
            "colorbar": {
             "outlinewidth": 0,
             "ticks": ""
            },
            "colorscale": [
             [
              0,
              "#0d0887"
             ],
             [
              0.1111111111111111,
              "#46039f"
             ],
             [
              0.2222222222222222,
              "#7201a8"
             ],
             [
              0.3333333333333333,
              "#9c179e"
             ],
             [
              0.4444444444444444,
              "#bd3786"
             ],
             [
              0.5555555555555556,
              "#d8576b"
             ],
             [
              0.6666666666666666,
              "#ed7953"
             ],
             [
              0.7777777777777778,
              "#fb9f3a"
             ],
             [
              0.8888888888888888,
              "#fdca26"
             ],
             [
              1,
              "#f0f921"
             ]
            ],
            "type": "surface"
           }
          ],
          "table": [
           {
            "cells": {
             "fill": {
              "color": "#EBF0F8"
             },
             "line": {
              "color": "white"
             }
            },
            "header": {
             "fill": {
              "color": "#C8D4E3"
             },
             "line": {
              "color": "white"
             }
            },
            "type": "table"
           }
          ]
         },
         "layout": {
          "annotationdefaults": {
           "arrowcolor": "#2a3f5f",
           "arrowhead": 0,
           "arrowwidth": 1
          },
          "coloraxis": {
           "colorbar": {
            "outlinewidth": 0,
            "ticks": ""
           }
          },
          "colorscale": {
           "diverging": [
            [
             0,
             "#8e0152"
            ],
            [
             0.1,
             "#c51b7d"
            ],
            [
             0.2,
             "#de77ae"
            ],
            [
             0.3,
             "#f1b6da"
            ],
            [
             0.4,
             "#fde0ef"
            ],
            [
             0.5,
             "#f7f7f7"
            ],
            [
             0.6,
             "#e6f5d0"
            ],
            [
             0.7,
             "#b8e186"
            ],
            [
             0.8,
             "#7fbc41"
            ],
            [
             0.9,
             "#4d9221"
            ],
            [
             1,
             "#276419"
            ]
           ],
           "sequential": [
            [
             0,
             "#0d0887"
            ],
            [
             0.1111111111111111,
             "#46039f"
            ],
            [
             0.2222222222222222,
             "#7201a8"
            ],
            [
             0.3333333333333333,
             "#9c179e"
            ],
            [
             0.4444444444444444,
             "#bd3786"
            ],
            [
             0.5555555555555556,
             "#d8576b"
            ],
            [
             0.6666666666666666,
             "#ed7953"
            ],
            [
             0.7777777777777778,
             "#fb9f3a"
            ],
            [
             0.8888888888888888,
             "#fdca26"
            ],
            [
             1,
             "#f0f921"
            ]
           ],
           "sequentialminus": [
            [
             0,
             "#0d0887"
            ],
            [
             0.1111111111111111,
             "#46039f"
            ],
            [
             0.2222222222222222,
             "#7201a8"
            ],
            [
             0.3333333333333333,
             "#9c179e"
            ],
            [
             0.4444444444444444,
             "#bd3786"
            ],
            [
             0.5555555555555556,
             "#d8576b"
            ],
            [
             0.6666666666666666,
             "#ed7953"
            ],
            [
             0.7777777777777778,
             "#fb9f3a"
            ],
            [
             0.8888888888888888,
             "#fdca26"
            ],
            [
             1,
             "#f0f921"
            ]
           ]
          },
          "colorway": [
           "#636efa",
           "#EF553B",
           "#00cc96",
           "#ab63fa",
           "#FFA15A",
           "#19d3f3",
           "#FF6692",
           "#B6E880",
           "#FF97FF",
           "#FECB52"
          ],
          "font": {
           "color": "#2a3f5f"
          },
          "geo": {
           "bgcolor": "white",
           "lakecolor": "white",
           "landcolor": "#E5ECF6",
           "showlakes": true,
           "showland": true,
           "subunitcolor": "white"
          },
          "hoverlabel": {
           "align": "left"
          },
          "hovermode": "closest",
          "mapbox": {
           "style": "light"
          },
          "paper_bgcolor": "white",
          "plot_bgcolor": "#E5ECF6",
          "polar": {
           "angularaxis": {
            "gridcolor": "white",
            "linecolor": "white",
            "ticks": ""
           },
           "bgcolor": "#E5ECF6",
           "radialaxis": {
            "gridcolor": "white",
            "linecolor": "white",
            "ticks": ""
           }
          },
          "scene": {
           "xaxis": {
            "backgroundcolor": "#E5ECF6",
            "gridcolor": "white",
            "gridwidth": 2,
            "linecolor": "white",
            "showbackground": true,
            "ticks": "",
            "zerolinecolor": "white"
           },
           "yaxis": {
            "backgroundcolor": "#E5ECF6",
            "gridcolor": "white",
            "gridwidth": 2,
            "linecolor": "white",
            "showbackground": true,
            "ticks": "",
            "zerolinecolor": "white"
           },
           "zaxis": {
            "backgroundcolor": "#E5ECF6",
            "gridcolor": "white",
            "gridwidth": 2,
            "linecolor": "white",
            "showbackground": true,
            "ticks": "",
            "zerolinecolor": "white"
           }
          },
          "shapedefaults": {
           "line": {
            "color": "#2a3f5f"
           }
          },
          "ternary": {
           "aaxis": {
            "gridcolor": "white",
            "linecolor": "white",
            "ticks": ""
           },
           "baxis": {
            "gridcolor": "white",
            "linecolor": "white",
            "ticks": ""
           },
           "bgcolor": "#E5ECF6",
           "caxis": {
            "gridcolor": "white",
            "linecolor": "white",
            "ticks": ""
           }
          },
          "title": {
           "x": 0.05
          },
          "xaxis": {
           "automargin": true,
           "gridcolor": "white",
           "linecolor": "white",
           "ticks": "",
           "title": {
            "standoff": 15
           },
           "zerolinecolor": "white",
           "zerolinewidth": 2
          },
          "yaxis": {
           "automargin": true,
           "gridcolor": "white",
           "linecolor": "white",
           "ticks": "",
           "title": {
            "standoff": 15
           },
           "zerolinecolor": "white",
           "zerolinewidth": 2
          }
         }
        },
        "title": {
         "text": "Seasonability behaviours"
        }
       }
      },
      "text/html": [
       "<div>\n",
       "        \n",
       "        \n",
       "            <div id=\"3ff0072f-044a-4a90-bd86-3022ff70571e\" class=\"plotly-graph-div\" style=\"height:525px; width:100%;\"></div>\n",
       "            <script type=\"text/javascript\">\n",
       "                require([\"plotly\"], function(Plotly) {\n",
       "                    window.PLOTLYENV=window.PLOTLYENV || {};\n",
       "                    \n",
       "                if (document.getElementById(\"3ff0072f-044a-4a90-bd86-3022ff70571e\")) {\n",
       "                    Plotly.newPlot(\n",
       "                        '3ff0072f-044a-4a90-bd86-3022ff70571e',\n",
       "                        [{\"mode\": \"lines\", \"name\": \"mean seasonability\", \"type\": \"scatter\", \"x\": [\"-01-\", \"-02-\", \"-03-\", \"-04-\", \"-05-\", \"-06-\", \"-07-\", \"-08-\", \"-09-\", \"-10-\", \"-11-\", \"-12-\"], \"y\": [1178069624.0650346, 1070062159.9727808, 1182983136.780864, 1205462942.6088717, 1419788179.1396835, 1204290022.048942, 1516378678.8274515, 1590393948.5540235, 1621267346.9843848, 1730999692.513018, 1547578779.0552466, 1549650662.9709408]}, {\"mode\": \"lines\", \"name\": \"2016 seasonability\", \"type\": \"scatter\", \"x\": [\"-01-\", \"-02-\", \"-03-\", \"-04-\", \"-05-\", \"-06-\", \"-07-\", \"-08-\", \"-09-\", \"-10-\", \"-11-\", \"-12-\"], \"y\": [817327585.0, 658962249.0, 708764276.0, 755236818.0, 851128389.0, 772133020.0, 851378923.0, 1040178851.0, 1049045249.0, 1193685961.0, 1161975401.0, 1005508334.0]}, {\"mode\": \"lines\", \"name\": \"2017 seasonability\", \"type\": \"scatter\", \"x\": [\"-01-\", \"-02-\", \"-03-\", \"-04-\", \"-05-\", \"-06-\", \"-07-\", \"-08-\", \"-09-\", \"-10-\", \"-11-\", \"-12-\"], \"y\": [1238519547.0, 1097211304.7416883, 1226528052.945176, 1303069379.2360237, 1417121152.208134, 982566573.463572, 1354844803.9483957, 1454154881.9577575, 1299542462.83276, 1437784506.0167718, 1277699502.0764842, 1329007442.300002]}, {\"mode\": \"lines\", \"name\": \"2018 seasonability\", \"type\": \"scatter\", \"x\": [\"-01-\", \"-02-\", \"-03-\", \"-04-\", \"-05-\", \"-06-\", \"-07-\", \"-08-\", \"-09-\", \"-10-\", \"-11-\", \"-12-\"], \"y\": [1478361740.1951034, 1454012926.176654, 1613657081.3974159, 1558082630.590591, 1991114996.2109163, 1858170472.6832535, 2342912309.533959, 2276848112.704317, 2515214329.120396, 2561528610.522281, 2203061434.089254, 2314436212.6128182]}],\n",
       "                        {\"template\": {\"data\": {\"bar\": [{\"error_x\": {\"color\": \"#2a3f5f\"}, \"error_y\": {\"color\": \"#2a3f5f\"}, \"marker\": {\"line\": {\"color\": \"#E5ECF6\", \"width\": 0.5}}, \"type\": \"bar\"}], \"barpolar\": [{\"marker\": {\"line\": {\"color\": \"#E5ECF6\", \"width\": 0.5}}, \"type\": \"barpolar\"}], \"carpet\": [{\"aaxis\": {\"endlinecolor\": \"#2a3f5f\", \"gridcolor\": \"white\", \"linecolor\": \"white\", \"minorgridcolor\": \"white\", \"startlinecolor\": \"#2a3f5f\"}, \"baxis\": {\"endlinecolor\": \"#2a3f5f\", \"gridcolor\": \"white\", \"linecolor\": \"white\", \"minorgridcolor\": \"white\", \"startlinecolor\": \"#2a3f5f\"}, \"type\": \"carpet\"}], \"choropleth\": [{\"colorbar\": {\"outlinewidth\": 0, \"ticks\": \"\"}, \"type\": \"choropleth\"}], \"contour\": [{\"colorbar\": {\"outlinewidth\": 0, \"ticks\": \"\"}, \"colorscale\": [[0.0, \"#0d0887\"], [0.1111111111111111, \"#46039f\"], [0.2222222222222222, \"#7201a8\"], [0.3333333333333333, \"#9c179e\"], [0.4444444444444444, \"#bd3786\"], [0.5555555555555556, \"#d8576b\"], [0.6666666666666666, \"#ed7953\"], [0.7777777777777778, \"#fb9f3a\"], [0.8888888888888888, \"#fdca26\"], [1.0, \"#f0f921\"]], \"type\": \"contour\"}], \"contourcarpet\": [{\"colorbar\": {\"outlinewidth\": 0, \"ticks\": \"\"}, \"type\": \"contourcarpet\"}], \"heatmap\": [{\"colorbar\": {\"outlinewidth\": 0, \"ticks\": \"\"}, \"colorscale\": [[0.0, \"#0d0887\"], [0.1111111111111111, \"#46039f\"], [0.2222222222222222, \"#7201a8\"], [0.3333333333333333, \"#9c179e\"], [0.4444444444444444, \"#bd3786\"], [0.5555555555555556, \"#d8576b\"], [0.6666666666666666, \"#ed7953\"], [0.7777777777777778, \"#fb9f3a\"], [0.8888888888888888, \"#fdca26\"], [1.0, \"#f0f921\"]], \"type\": \"heatmap\"}], \"heatmapgl\": [{\"colorbar\": {\"outlinewidth\": 0, \"ticks\": \"\"}, \"colorscale\": [[0.0, \"#0d0887\"], [0.1111111111111111, \"#46039f\"], [0.2222222222222222, \"#7201a8\"], [0.3333333333333333, \"#9c179e\"], [0.4444444444444444, \"#bd3786\"], [0.5555555555555556, \"#d8576b\"], [0.6666666666666666, \"#ed7953\"], [0.7777777777777778, \"#fb9f3a\"], [0.8888888888888888, \"#fdca26\"], [1.0, \"#f0f921\"]], \"type\": \"heatmapgl\"}], \"histogram\": [{\"marker\": {\"colorbar\": {\"outlinewidth\": 0, \"ticks\": \"\"}}, \"type\": \"histogram\"}], \"histogram2d\": [{\"colorbar\": {\"outlinewidth\": 0, \"ticks\": \"\"}, \"colorscale\": [[0.0, \"#0d0887\"], [0.1111111111111111, \"#46039f\"], [0.2222222222222222, \"#7201a8\"], [0.3333333333333333, \"#9c179e\"], [0.4444444444444444, \"#bd3786\"], [0.5555555555555556, \"#d8576b\"], [0.6666666666666666, \"#ed7953\"], [0.7777777777777778, \"#fb9f3a\"], [0.8888888888888888, \"#fdca26\"], [1.0, \"#f0f921\"]], \"type\": \"histogram2d\"}], \"histogram2dcontour\": [{\"colorbar\": {\"outlinewidth\": 0, \"ticks\": \"\"}, \"colorscale\": [[0.0, \"#0d0887\"], [0.1111111111111111, \"#46039f\"], [0.2222222222222222, \"#7201a8\"], [0.3333333333333333, \"#9c179e\"], [0.4444444444444444, \"#bd3786\"], [0.5555555555555556, \"#d8576b\"], [0.6666666666666666, \"#ed7953\"], [0.7777777777777778, \"#fb9f3a\"], [0.8888888888888888, \"#fdca26\"], [1.0, \"#f0f921\"]], \"type\": \"histogram2dcontour\"}], \"mesh3d\": [{\"colorbar\": {\"outlinewidth\": 0, \"ticks\": \"\"}, \"type\": \"mesh3d\"}], \"parcoords\": [{\"line\": {\"colorbar\": {\"outlinewidth\": 0, \"ticks\": \"\"}}, \"type\": \"parcoords\"}], \"pie\": [{\"automargin\": true, \"type\": \"pie\"}], \"scatter\": [{\"marker\": {\"colorbar\": {\"outlinewidth\": 0, \"ticks\": \"\"}}, \"type\": \"scatter\"}], \"scatter3d\": [{\"line\": {\"colorbar\": {\"outlinewidth\": 0, \"ticks\": \"\"}}, \"marker\": {\"colorbar\": {\"outlinewidth\": 0, \"ticks\": \"\"}}, \"type\": \"scatter3d\"}], \"scattercarpet\": [{\"marker\": {\"colorbar\": {\"outlinewidth\": 0, \"ticks\": \"\"}}, \"type\": \"scattercarpet\"}], \"scattergeo\": [{\"marker\": {\"colorbar\": {\"outlinewidth\": 0, \"ticks\": \"\"}}, \"type\": \"scattergeo\"}], \"scattergl\": [{\"marker\": {\"colorbar\": {\"outlinewidth\": 0, \"ticks\": \"\"}}, \"type\": \"scattergl\"}], \"scattermapbox\": [{\"marker\": {\"colorbar\": {\"outlinewidth\": 0, \"ticks\": \"\"}}, \"type\": \"scattermapbox\"}], \"scatterpolar\": [{\"marker\": {\"colorbar\": {\"outlinewidth\": 0, \"ticks\": \"\"}}, \"type\": \"scatterpolar\"}], \"scatterpolargl\": [{\"marker\": {\"colorbar\": {\"outlinewidth\": 0, \"ticks\": \"\"}}, \"type\": \"scatterpolargl\"}], \"scatterternary\": [{\"marker\": {\"colorbar\": {\"outlinewidth\": 0, \"ticks\": \"\"}}, \"type\": \"scatterternary\"}], \"surface\": [{\"colorbar\": {\"outlinewidth\": 0, \"ticks\": \"\"}, \"colorscale\": [[0.0, \"#0d0887\"], [0.1111111111111111, \"#46039f\"], [0.2222222222222222, \"#7201a8\"], [0.3333333333333333, \"#9c179e\"], [0.4444444444444444, \"#bd3786\"], [0.5555555555555556, \"#d8576b\"], [0.6666666666666666, \"#ed7953\"], [0.7777777777777778, \"#fb9f3a\"], [0.8888888888888888, \"#fdca26\"], [1.0, \"#f0f921\"]], \"type\": \"surface\"}], \"table\": [{\"cells\": {\"fill\": {\"color\": \"#EBF0F8\"}, \"line\": {\"color\": \"white\"}}, \"header\": {\"fill\": {\"color\": \"#C8D4E3\"}, \"line\": {\"color\": \"white\"}}, \"type\": \"table\"}]}, \"layout\": {\"annotationdefaults\": {\"arrowcolor\": \"#2a3f5f\", \"arrowhead\": 0, \"arrowwidth\": 1}, \"coloraxis\": {\"colorbar\": {\"outlinewidth\": 0, \"ticks\": \"\"}}, \"colorscale\": {\"diverging\": [[0, \"#8e0152\"], [0.1, \"#c51b7d\"], [0.2, \"#de77ae\"], [0.3, \"#f1b6da\"], [0.4, \"#fde0ef\"], [0.5, \"#f7f7f7\"], [0.6, \"#e6f5d0\"], [0.7, \"#b8e186\"], [0.8, \"#7fbc41\"], [0.9, \"#4d9221\"], [1, \"#276419\"]], \"sequential\": [[0.0, \"#0d0887\"], [0.1111111111111111, \"#46039f\"], [0.2222222222222222, \"#7201a8\"], [0.3333333333333333, \"#9c179e\"], [0.4444444444444444, \"#bd3786\"], [0.5555555555555556, \"#d8576b\"], [0.6666666666666666, \"#ed7953\"], [0.7777777777777778, \"#fb9f3a\"], [0.8888888888888888, \"#fdca26\"], [1.0, \"#f0f921\"]], \"sequentialminus\": [[0.0, \"#0d0887\"], [0.1111111111111111, \"#46039f\"], [0.2222222222222222, \"#7201a8\"], [0.3333333333333333, \"#9c179e\"], [0.4444444444444444, \"#bd3786\"], [0.5555555555555556, \"#d8576b\"], [0.6666666666666666, \"#ed7953\"], [0.7777777777777778, \"#fb9f3a\"], [0.8888888888888888, \"#fdca26\"], [1.0, \"#f0f921\"]]}, \"colorway\": [\"#636efa\", \"#EF553B\", \"#00cc96\", \"#ab63fa\", \"#FFA15A\", \"#19d3f3\", \"#FF6692\", \"#B6E880\", \"#FF97FF\", \"#FECB52\"], \"font\": {\"color\": \"#2a3f5f\"}, \"geo\": {\"bgcolor\": \"white\", \"lakecolor\": \"white\", \"landcolor\": \"#E5ECF6\", \"showlakes\": true, \"showland\": true, \"subunitcolor\": \"white\"}, \"hoverlabel\": {\"align\": \"left\"}, \"hovermode\": \"closest\", \"mapbox\": {\"style\": \"light\"}, \"paper_bgcolor\": \"white\", \"plot_bgcolor\": \"#E5ECF6\", \"polar\": {\"angularaxis\": {\"gridcolor\": \"white\", \"linecolor\": \"white\", \"ticks\": \"\"}, \"bgcolor\": \"#E5ECF6\", \"radialaxis\": {\"gridcolor\": \"white\", \"linecolor\": \"white\", \"ticks\": \"\"}}, \"scene\": {\"xaxis\": {\"backgroundcolor\": \"#E5ECF6\", \"gridcolor\": \"white\", \"gridwidth\": 2, \"linecolor\": \"white\", \"showbackground\": true, \"ticks\": \"\", \"zerolinecolor\": \"white\"}, \"yaxis\": {\"backgroundcolor\": \"#E5ECF6\", \"gridcolor\": \"white\", \"gridwidth\": 2, \"linecolor\": \"white\", \"showbackground\": true, \"ticks\": \"\", \"zerolinecolor\": \"white\"}, \"zaxis\": {\"backgroundcolor\": \"#E5ECF6\", \"gridcolor\": \"white\", \"gridwidth\": 2, \"linecolor\": \"white\", \"showbackground\": true, \"ticks\": \"\", \"zerolinecolor\": \"white\"}}, \"shapedefaults\": {\"line\": {\"color\": \"#2a3f5f\"}}, \"ternary\": {\"aaxis\": {\"gridcolor\": \"white\", \"linecolor\": \"white\", \"ticks\": \"\"}, \"baxis\": {\"gridcolor\": \"white\", \"linecolor\": \"white\", \"ticks\": \"\"}, \"bgcolor\": \"#E5ECF6\", \"caxis\": {\"gridcolor\": \"white\", \"linecolor\": \"white\", \"ticks\": \"\"}}, \"title\": {\"x\": 0.05}, \"xaxis\": {\"automargin\": true, \"gridcolor\": \"white\", \"linecolor\": \"white\", \"ticks\": \"\", \"title\": {\"standoff\": 15}, \"zerolinecolor\": \"white\", \"zerolinewidth\": 2}, \"yaxis\": {\"automargin\": true, \"gridcolor\": \"white\", \"linecolor\": \"white\", \"ticks\": \"\", \"title\": {\"standoff\": 15}, \"zerolinecolor\": \"white\", \"zerolinewidth\": 2}}}, \"title\": {\"text\": \"Seasonability behaviours\"}},\n",
       "                        {\"responsive\": true}\n",
       "                    ).then(function(){\n",
       "                            \n",
       "var gd = document.getElementById('3ff0072f-044a-4a90-bd86-3022ff70571e');\n",
       "var x = new MutationObserver(function (mutations, observer) {{\n",
       "        var display = window.getComputedStyle(gd).display;\n",
       "        if (!display || display === 'none') {{\n",
       "            console.log([gd, 'removed!']);\n",
       "            Plotly.purge(gd);\n",
       "            observer.disconnect();\n",
       "        }}\n",
       "}});\n",
       "\n",
       "// Listen for the removal of the full notebook cells\n",
       "var notebookContainer = gd.closest('#notebook-container');\n",
       "if (notebookContainer) {{\n",
       "    x.observe(notebookContainer, {childList: true});\n",
       "}}\n",
       "\n",
       "// Listen for the clearing of the current output cell\n",
       "var outputEl = gd.closest('.output');\n",
       "if (outputEl) {{\n",
       "    x.observe(outputEl, {childList: true});\n",
       "}}\n",
       "\n",
       "                        })\n",
       "                };\n",
       "                });\n",
       "            </script>\n",
       "        </div>"
      ]
     },
     "metadata": {},
     "output_type": "display_data"
    }
   ],
   "source": [
    "x = [f'-{i:02d}-' for i in range(1,13)]\n",
    "y = [myData2[myData2[\"GREGORIAN_DATE\"].str.contains(sub)][\"TURNOVER\"].sum()/3 for sub in tqdm(x)]\n",
    "layout = go.Layout(title=\"Seasonability behaviours\")\n",
    "data=[]\n",
    "data.append(go.Scatter(\n",
    "            x = x,\n",
    "            y = y,\n",
    "            mode=\"lines\",\n",
    "            name=\"mean seasonability\",))\n",
    "for year in (2016,2017,2018):\n",
    "    data.append(go.Scatter(\n",
    "            x = x,\n",
    "            y = [myData2[myData2[\"GREGORIAN_DATE\"].str.match(str(year)+sub)][\"TURNOVER\"].sum() for sub in tqdm(x)],\n",
    "            mode=\"lines\",\n",
    "            name=f\"{year} seasonability\",))\n",
    "\n",
    "fig = go.Figure(data=data,layout=layout)\n",
    "pyo.iplot(fig)"
   ]
  },
  {
   "cell_type": "markdown",
   "metadata": {},
   "source": [
    "### Comportement vis à vis les vacances"
   ]
  },
  {
   "cell_type": "code",
   "execution_count": 176,
   "metadata": {},
   "outputs": [
    {
     "data": {
      "text/html": [
       "<div>\n",
       "<style scoped>\n",
       "    .dataframe tbody tr th:only-of-type {\n",
       "        vertical-align: middle;\n",
       "    }\n",
       "\n",
       "    .dataframe tbody tr th {\n",
       "        vertical-align: top;\n",
       "    }\n",
       "\n",
       "    .dataframe thead th {\n",
       "        text-align: right;\n",
       "    }\n",
       "</style>\n",
       "<table border=\"1\" class=\"dataframe\">\n",
       "  <thead>\n",
       "    <tr style=\"text-align: right;\">\n",
       "      <th></th>\n",
       "      <th>VENDOR</th>\n",
       "      <th>REGION NAME</th>\n",
       "      <th>PRODUCT_NAME</th>\n",
       "      <th>PRODUCTPAGE_CODE</th>\n",
       "      <th>TURNOVER</th>\n",
       "      <th>GREGORIAN_DATE</th>\n",
       "      <th>HOLIDAY</th>\n",
       "      <th>SCOLAR_HOLIDAY</th>\n",
       "      <th>ISLAM_EVENT</th>\n",
       "    </tr>\n",
       "  </thead>\n",
       "  <tbody>\n",
       "    <tr>\n",
       "      <th>0</th>\n",
       "      <td>R0201</td>\n",
       "      <td>CHLEF</td>\n",
       "      <td>ENTIER</td>\n",
       "      <td>Laits Blancs</td>\n",
       "      <td>1056.000000</td>\n",
       "      <td>2017-11-25</td>\n",
       "      <td>0</td>\n",
       "      <td>0</td>\n",
       "      <td>None</td>\n",
       "    </tr>\n",
       "    <tr>\n",
       "      <th>1</th>\n",
       "      <td>R0201</td>\n",
       "      <td>CHLEF</td>\n",
       "      <td>DE 1L</td>\n",
       "      <td>Laits Blancs</td>\n",
       "      <td>2999.999988</td>\n",
       "      <td>2017-11-25</td>\n",
       "      <td>0</td>\n",
       "      <td>0</td>\n",
       "      <td>None</td>\n",
       "    </tr>\n",
       "    <tr>\n",
       "      <th>2</th>\n",
       "      <td>R0201</td>\n",
       "      <td>CHLEF</td>\n",
       "      <td>VIVA</td>\n",
       "      <td>Laits Blancs</td>\n",
       "      <td>3168.000000</td>\n",
       "      <td>2017-11-25</td>\n",
       "      <td>0</td>\n",
       "      <td>0</td>\n",
       "      <td>None</td>\n",
       "    </tr>\n",
       "    <tr>\n",
       "      <th>3</th>\n",
       "      <td>R0201</td>\n",
       "      <td>CHLEF</td>\n",
       "      <td>DE 50CL</td>\n",
       "      <td>Laits Blancs</td>\n",
       "      <td>540.000000</td>\n",
       "      <td>2017-11-25</td>\n",
       "      <td>0</td>\n",
       "      <td>0</td>\n",
       "      <td>None</td>\n",
       "    </tr>\n",
       "    <tr>\n",
       "      <th>4</th>\n",
       "      <td>R0201</td>\n",
       "      <td>CHLEF</td>\n",
       "      <td>DE 50CL</td>\n",
       "      <td>Laits Blancs</td>\n",
       "      <td>1080.000000</td>\n",
       "      <td>2017-11-25</td>\n",
       "      <td>0</td>\n",
       "      <td>0</td>\n",
       "      <td>None</td>\n",
       "    </tr>\n",
       "  </tbody>\n",
       "</table>\n",
       "</div>"
      ],
      "text/plain": [
       "  VENDOR REGION NAME PRODUCT_NAME PRODUCTPAGE_CODE     TURNOVER  \\\n",
       "0  R0201       CHLEF       ENTIER     Laits Blancs  1056.000000   \n",
       "1  R0201       CHLEF        DE 1L     Laits Blancs  2999.999988   \n",
       "2  R0201       CHLEF         VIVA     Laits Blancs  3168.000000   \n",
       "3  R0201       CHLEF      DE 50CL     Laits Blancs   540.000000   \n",
       "4  R0201       CHLEF      DE 50CL     Laits Blancs  1080.000000   \n",
       "\n",
       "  GREGORIAN_DATE  HOLIDAY  SCOLAR_HOLIDAY ISLAM_EVENT  \n",
       "0     2017-11-25        0               0        None  \n",
       "1     2017-11-25        0               0        None  \n",
       "2     2017-11-25        0               0        None  \n",
       "3     2017-11-25        0               0        None  \n",
       "4     2017-11-25        0               0        None  "
      ]
     },
     "execution_count": 176,
     "metadata": {},
     "output_type": "execute_result"
    }
   ],
   "source": [
    "cols=[\"REGION NAME\",\"PRODUCT_NAME\",\"PRODUCTPAGE_CODE\",\"GREGORIAN_DATE\",\"HOLIDAY\",\"SCOLAR_HOLIDAY\",\"ISLAM_EVENT\",\"TURNOVER\",\"VENDOR\"]\n",
    "types={column : \"category\" for column in cols[:7]}\n",
    "myData3 = pd.read_csv(csv_path+\"Updated_Data_2.csv\",header=0,engine='c',usecols=cols,low_memory=False)\n",
    "myData3.head()"
   ]
  },
  {
   "cell_type": "code",
   "execution_count": 178,
   "metadata": {},
   "outputs": [
    {
     "name": "stdout",
     "output_type": "stream",
     "text": [
      "<class 'pandas.core.frame.DataFrame'>\n",
      "RangeIndex: 15692870 entries, 0 to 15692869\n",
      "Data columns (total 9 columns):\n",
      " #   Column            Dtype  \n",
      "---  ------            -----  \n",
      " 0   VENDOR            object \n",
      " 1   REGION NAME       object \n",
      " 2   PRODUCT_NAME      object \n",
      " 3   PRODUCTPAGE_CODE  object \n",
      " 4   TURNOVER          float64\n",
      " 5   GREGORIAN_DATE    object \n",
      " 6   HOLIDAY           int64  \n",
      " 7   SCOLAR_HOLIDAY    int64  \n",
      " 8   ISLAM_EVENT       object \n",
      "dtypes: float64(1), int64(2), object(6)\n",
      "memory usage: 6.2 GB\n"
     ]
    }
   ],
   "source": [
    "myData3.info(memory_usage='deep') #deep look"
   ]
  },
  {
   "cell_type": "code",
   "execution_count": 188,
   "metadata": {},
   "outputs": [
    {
     "data": {
      "text/plain": [
       "(GREGORIAN_DATE\n",
       " 2016-05-05    11.154047\n",
       " Name: TURNOVER, dtype: float64,\n",
       " 0      0\n",
       " 500    1\n",
       " Name: SCOLAR_HOLIDAY, dtype: int64)"
      ]
     },
     "execution_count": 188,
     "metadata": {},
     "output_type": "execute_result"
    }
   ],
   "source": [
    "y=myData3[[\"GREGORIAN_DATE\",\"PRODUCTPAGE_CODE\",\"ISLAM_EVENT\",\"SCOLAR_HOLIDAY\",\"HOLIDAY\",\"TURNOVER\"]]\n",
    "y_islam=y[y[\"ISLAM_EVENT\"]!=\"None\"].groupby(\"GREGORIAN_DATE\")[\"TURNOVER\"].sum()/1000000\n",
    "y_scolar=y[y[\"SCOLAR_HOLIDAY\"]!=0].groupby(\"GREGORIAN_DATE\")[\"TURNOVER\"].sum()/1000000\n",
    "y_holiday=y[y[\"HOLIDAY\"]!=0].groupby(\"GREGORIAN_DATE\")[\"TURNOVER\"].sum()/1000000\n",
    "y=y.groupby(\"GREGORIAN_DATE\")[\"TURNOVER\"].sum()/1000000"
   ]
  },
  {
   "cell_type": "code",
   "execution_count": 203,
   "metadata": {},
   "outputs": [
    {
     "data": {
      "text/html": [
       "<div>\n",
       "<style scoped>\n",
       "    .dataframe tbody tr th:only-of-type {\n",
       "        vertical-align: middle;\n",
       "    }\n",
       "\n",
       "    .dataframe tbody tr th {\n",
       "        vertical-align: top;\n",
       "    }\n",
       "\n",
       "    .dataframe thead th {\n",
       "        text-align: right;\n",
       "    }\n",
       "</style>\n",
       "<table border=\"1\" class=\"dataframe\">\n",
       "  <thead>\n",
       "    <tr style=\"text-align: right;\">\n",
       "      <th></th>\n",
       "      <th>VENDOR</th>\n",
       "      <th>REGION NAME</th>\n",
       "      <th>PRODUCT_NAME</th>\n",
       "      <th>PRODUCTPAGE_CODE</th>\n",
       "      <th>TURNOVER</th>\n",
       "      <th>GREGORIAN_DATE</th>\n",
       "      <th>HOLIDAY</th>\n",
       "      <th>SCOLAR_HOLIDAY</th>\n",
       "      <th>ISLAM_EVENT</th>\n",
       "    </tr>\n",
       "  </thead>\n",
       "  <tbody>\n",
       "    <tr>\n",
       "      <th>562405</th>\n",
       "      <td>15</td>\n",
       "      <td>BEJAIA</td>\n",
       "      <td>DE 1L</td>\n",
       "      <td>Laits Blancs</td>\n",
       "      <td>900.0</td>\n",
       "      <td>2016-05-05</td>\n",
       "      <td>0</td>\n",
       "      <td>0</td>\n",
       "      <td>Lailat al Miraj</td>\n",
       "    </tr>\n",
       "    <tr>\n",
       "      <th>2096417</th>\n",
       "      <td>0907R</td>\n",
       "      <td>BLIDA</td>\n",
       "      <td>CHOCO 20CL</td>\n",
       "      <td>Laits Aromatisés</td>\n",
       "      <td>2700.0</td>\n",
       "      <td>2016-05-05</td>\n",
       "      <td>0</td>\n",
       "      <td>0</td>\n",
       "      <td>Lailat al Miraj</td>\n",
       "    </tr>\n",
       "    <tr>\n",
       "      <th>2096418</th>\n",
       "      <td>0907R</td>\n",
       "      <td>BLIDA</td>\n",
       "      <td>COCKTAIL 1L</td>\n",
       "      <td>Boissons</td>\n",
       "      <td>936.0</td>\n",
       "      <td>2016-05-05</td>\n",
       "      <td>0</td>\n",
       "      <td>0</td>\n",
       "      <td>Lailat al Miraj</td>\n",
       "    </tr>\n",
       "    <tr>\n",
       "      <th>2096419</th>\n",
       "      <td>0907R</td>\n",
       "      <td>BLIDA</td>\n",
       "      <td>COCKTAIL 20CL</td>\n",
       "      <td>Boissons</td>\n",
       "      <td>360.0</td>\n",
       "      <td>2016-05-05</td>\n",
       "      <td>0</td>\n",
       "      <td>0</td>\n",
       "      <td>Lailat al Miraj</td>\n",
       "    </tr>\n",
       "    <tr>\n",
       "      <th>2096460</th>\n",
       "      <td>0907R</td>\n",
       "      <td>BLIDA</td>\n",
       "      <td>CHOCO 20CL</td>\n",
       "      <td>Laits Aromatisés</td>\n",
       "      <td>1620.0</td>\n",
       "      <td>2016-05-05</td>\n",
       "      <td>0</td>\n",
       "      <td>0</td>\n",
       "      <td>Lailat al Miraj</td>\n",
       "    </tr>\n",
       "    <tr>\n",
       "      <th>...</th>\n",
       "      <td>...</td>\n",
       "      <td>...</td>\n",
       "      <td>...</td>\n",
       "      <td>...</td>\n",
       "      <td>...</td>\n",
       "      <td>...</td>\n",
       "      <td>...</td>\n",
       "      <td>...</td>\n",
       "      <td>...</td>\n",
       "    </tr>\n",
       "    <tr>\n",
       "      <th>15534724</th>\n",
       "      <td>R4204</td>\n",
       "      <td>TIPAZA</td>\n",
       "      <td>DE 1L</td>\n",
       "      <td>Laits Blancs</td>\n",
       "      <td>63000.0</td>\n",
       "      <td>2016-05-05</td>\n",
       "      <td>0</td>\n",
       "      <td>0</td>\n",
       "      <td>Lailat al Miraj</td>\n",
       "    </tr>\n",
       "    <tr>\n",
       "      <th>15534725</th>\n",
       "      <td>R4204</td>\n",
       "      <td>TIPAZA</td>\n",
       "      <td>CHOCO 20CL</td>\n",
       "      <td>Laits Aromatisés</td>\n",
       "      <td>32400.0</td>\n",
       "      <td>2016-05-05</td>\n",
       "      <td>0</td>\n",
       "      <td>0</td>\n",
       "      <td>Lailat al Miraj</td>\n",
       "    </tr>\n",
       "    <tr>\n",
       "      <th>15534726</th>\n",
       "      <td>R4204</td>\n",
       "      <td>TIPAZA</td>\n",
       "      <td>DE 1L</td>\n",
       "      <td>Laits Blancs</td>\n",
       "      <td>54000.0</td>\n",
       "      <td>2016-05-05</td>\n",
       "      <td>0</td>\n",
       "      <td>0</td>\n",
       "      <td>Lailat al Miraj</td>\n",
       "    </tr>\n",
       "    <tr>\n",
       "      <th>15534727</th>\n",
       "      <td>R4204</td>\n",
       "      <td>TIPAZA</td>\n",
       "      <td>VIVA</td>\n",
       "      <td>Laits Blancs</td>\n",
       "      <td>21360.0</td>\n",
       "      <td>2016-05-05</td>\n",
       "      <td>0</td>\n",
       "      <td>0</td>\n",
       "      <td>Lailat al Miraj</td>\n",
       "    </tr>\n",
       "    <tr>\n",
       "      <th>15534728</th>\n",
       "      <td>R4204</td>\n",
       "      <td>TIPAZA</td>\n",
       "      <td>ENTIER</td>\n",
       "      <td>Laits Blancs</td>\n",
       "      <td>3204.0</td>\n",
       "      <td>2016-05-05</td>\n",
       "      <td>0</td>\n",
       "      <td>0</td>\n",
       "      <td>Lailat al Miraj</td>\n",
       "    </tr>\n",
       "  </tbody>\n",
       "</table>\n",
       "<p>3372 rows × 9 columns</p>\n",
       "</div>"
      ],
      "text/plain": [
       "         VENDOR REGION NAME   PRODUCT_NAME  PRODUCTPAGE_CODE  TURNOVER  \\\n",
       "562405       15      BEJAIA          DE 1L      Laits Blancs     900.0   \n",
       "2096417   0907R       BLIDA     CHOCO 20CL  Laits Aromatisés    2700.0   \n",
       "2096418   0907R       BLIDA    COCKTAIL 1L          Boissons     936.0   \n",
       "2096419   0907R       BLIDA  COCKTAIL 20CL          Boissons     360.0   \n",
       "2096460   0907R       BLIDA     CHOCO 20CL  Laits Aromatisés    1620.0   \n",
       "...         ...         ...            ...               ...       ...   \n",
       "15534724  R4204      TIPAZA          DE 1L      Laits Blancs   63000.0   \n",
       "15534725  R4204      TIPAZA     CHOCO 20CL  Laits Aromatisés   32400.0   \n",
       "15534726  R4204      TIPAZA          DE 1L      Laits Blancs   54000.0   \n",
       "15534727  R4204      TIPAZA           VIVA      Laits Blancs   21360.0   \n",
       "15534728  R4204      TIPAZA         ENTIER      Laits Blancs    3204.0   \n",
       "\n",
       "         GREGORIAN_DATE  HOLIDAY  SCOLAR_HOLIDAY      ISLAM_EVENT  \n",
       "562405       2016-05-05        0               0  Lailat al Miraj  \n",
       "2096417      2016-05-05        0               0  Lailat al Miraj  \n",
       "2096418      2016-05-05        0               0  Lailat al Miraj  \n",
       "2096419      2016-05-05        0               0  Lailat al Miraj  \n",
       "2096460      2016-05-05        0               0  Lailat al Miraj  \n",
       "...                 ...      ...             ...              ...  \n",
       "15534724     2016-05-05        0               0  Lailat al Miraj  \n",
       "15534725     2016-05-05        0               0  Lailat al Miraj  \n",
       "15534726     2016-05-05        0               0  Lailat al Miraj  \n",
       "15534727     2016-05-05        0               0  Lailat al Miraj  \n",
       "15534728     2016-05-05        0               0  Lailat al Miraj  \n",
       "\n",
       "[3372 rows x 9 columns]"
      ]
     },
     "execution_count": 203,
     "metadata": {},
     "output_type": "execute_result"
    }
   ],
   "source": [
    "myData3[-myData3[\"ISLAM_EVENT\"].str.match(\"None\")]"
   ]
  },
  {
   "cell_type": "code",
   "execution_count": 185,
   "metadata": {},
   "outputs": [
    {
     "data": {
      "application/vnd.jupyter.widget-view+json": {
       "model_id": "c09c41de845c4f0a832fb0f157a9eade",
       "version_major": 2,
       "version_minor": 0
      },
      "text/plain": [
       "interactive(children=(Select(description='Gamme de produit', options=('tous', 'laits blancs', 'laits aromatisé…"
      ]
     },
     "metadata": {},
     "output_type": "display_data"
    }
   ],
   "source": [
    "productGamme = widgets.Select(\n",
    "    options=['tous']+list(productDict.keys()),\n",
    "    value='tous',\n",
    "    rows=4,\n",
    "    description='Gamme de produit',\n",
    "    disabled=False\n",
    ")\n",
    "\n",
    "def Events(product):\n",
    "    x=myData3[\"GREGORIAN_DATE\"].drop_duplicates().sort_values()\n",
    "    \n",
    "    y=myData3[[\"GREGORIAN_DATE\",\"PRODUCTPAGE_CODE\",\"ISLAM_EVENT\",\"SCOLAR_HOLIDAY\",\"HOLIDAY\",\"TURNOVER\"]]\n",
    "    if product != 'tous':\n",
    "        y=y[y[\"PRODUCTPAGE_CODE\"].str.match(product)]\n",
    "    \n",
    "    y_islam=y[y[\"ISLAM_EVENT\"]!=\"None\"].groupby(\"GREGORIAN_DATE\")[\"TURNOVER\"].sum()/1000000\n",
    "    y_scolar=y[y[\"SCOLAR_HOLIDAY\"]!=0].groupby(\"GREGORIAN_DATE\")[\"TURNOVER\"].sum()/1000000\n",
    "    y_holiday=y[y[\"HOLIDAY\"]!=0].groupby(\"GREGORIAN_DATE\")[\"TURNOVER\"].sum()/1000000\n",
    "    y=y.groupby(\"GREGORIAN_DATE\")[\"TURNOVER\"].sum()/1000000\n",
    "    \n",
    "    data=[go.Scatter(\n",
    "            x = x,\n",
    "            y = y_islam,\n",
    "            mode=\"markers\",\n",
    "            name=f\"Islam events\",),\n",
    "          go.Scatter(\n",
    "            x = x,\n",
    "            y = y_scolar,\n",
    "            mode=\"markers\",\n",
    "            name=f\"Scolar holidays\",),\n",
    "          go.Scatter(\n",
    "            x = x,\n",
    "            y = y_islam,\n",
    "            mode=\"markers\",\n",
    "            name=f\"Holidays\",),\n",
    "          go.Scatter(\n",
    "            x = x,\n",
    "            y = y_islam,\n",
    "            mode=\"lines\",\n",
    "            name=f\"Time Serie\",),]\n",
    "    layout = go.Layout(title=\"Holidays behaviour\")\n",
    "    fig = go.Figure(data=data,layout=layout)\n",
    "    pyo.iplot(fig)\n",
    "\n",
    "widgets.interactive(Events,product = productGamme)"
   ]
  },
  {
   "cell_type": "markdown",
   "metadata": {},
   "source": [
    "### Clients par secteur ( pourcentage de clients )"
   ]
  },
  {
   "cell_type": "code",
   "execution_count": 148,
   "metadata": {
    "scrolled": false
   },
   "outputs": [
    {
     "name": "stdout",
     "output_type": "stream",
     "text": [
      "Nombre total de clients est : 480\n",
      "Nombre de clients en 2016 est : 223\n",
      "Nombre de clients en 2017 est : 264\n",
      "Nombre de clients en 2018 est : 467\n"
     ]
    }
   ],
   "source": [
    "print(f\"Nombre total de clients est : {len(myData2['VENDOR'].drop_duplicates().tolist())}\")\n",
    "for annee in (2016,2017,2018):    \n",
    "    data = myData2[myData2[\"GREGORIAN_DATE\"].str.match(str(annee))]['VENDOR'].drop_duplicates().tolist()\n",
    "    print(f\"Nombre de clients en {annee} est : {len(data)}\")"
   ]
  },
  {
   "cell_type": "code",
   "execution_count": 136,
   "metadata": {},
   "outputs": [
    {
     "data": {
      "text/plain": [
       "{'CHLEF': {'EURL ADEMLAIT-CHLEF': {'R0201',\n",
       "   'R0202',\n",
       "   'R0203',\n",
       "   'R0204',\n",
       "   'R0205',\n",
       "   'R0206'}},\n",
       " 'LAGHOUAT': {'DOUIHASNI AYACHE': {'R0301', 'R0302', 'R0303', 'R0304'}},\n",
       " 'OUM EL BOUAGHI': {'BOUCHAKOUR RAFIK': {'R0401',\n",
       "   'R0402',\n",
       "   'R04021',\n",
       "   'R04022',\n",
       "   'R04023',\n",
       "   'R04024',\n",
       "   'R04025',\n",
       "   'R0403',\n",
       "   'R0404',\n",
       "   'R0405'}},\n",
       " 'BATNA': {'BAAZIZI MOHAMED FOUZI': {'R0501',\n",
       "   'R0502',\n",
       "   'R0503',\n",
       "   'R0504',\n",
       "   'R0505',\n",
       "   'R0506',\n",
       "   'R0507',\n",
       "   'R0508',\n",
       "   'R0509',\n",
       "   'R0510',\n",
       "   'R0511',\n",
       "   'R0512'},\n",
       "  'BAAZIZI MOHAMED FOUZI BARIKA': {'R05021',\n",
       "   'R05022',\n",
       "   'R05023',\n",
       "   'R0503',\n",
       "   'R0504',\n",
       "   'R0506',\n",
       "   'R0512'}},\n",
       " 'BEJAIA': {'MD CHERIF HAKIM': {'1',\n",
       "   '15',\n",
       "   '4',\n",
       "   '5',\n",
       "   '6',\n",
       "   '7',\n",
       "   'R06008',\n",
       "   'R06031',\n",
       "   'R06032',\n",
       "   'R06033',\n",
       "   'R06034',\n",
       "   'R06035',\n",
       "   'R06036',\n",
       "   'R06037'},\n",
       "  'FOURAR AHCENE': {'1',\n",
       "   '15',\n",
       "   '3',\n",
       "   '5',\n",
       "   '6',\n",
       "   '7',\n",
       "   'R06008',\n",
       "   'R06041',\n",
       "   'R06042',\n",
       "   'R06043',\n",
       "   'R06044',\n",
       "   'R06045',\n",
       "   'R06046',\n",
       "   'R06047',\n",
       "   'R06048',\n",
       "   'R06049'},\n",
       "  'IBRIR MERZOUK': {'10',\n",
       "   '11',\n",
       "   '12',\n",
       "   '13',\n",
       "   'R06014',\n",
       "   'R06015',\n",
       "   'R06016',\n",
       "   'R06017',\n",
       "   'R06018'}},\n",
       " 'BISKRA': {'EURL GOUBAA DISTRIBUTION': {'R0701',\n",
       "   'R0702',\n",
       "   'R0703',\n",
       "   'R0704',\n",
       "   'R0705',\n",
       "   'R0706',\n",
       "   'R0707',\n",
       "   'R0708',\n",
       "   'R0709',\n",
       "   'R0710',\n",
       "   'R0711'}},\n",
       " 'BECHAR': {'LAAMA MOUSSA': {'R0801', 'R0802'}},\n",
       " 'BLIDA': {'HADDAD ZAHIR': {'0901R',\n",
       "   '0902R',\n",
       "   '0903R',\n",
       "   '0904R',\n",
       "   '0905R',\n",
       "   '0906R',\n",
       "   '0907R',\n",
       "   '0908R',\n",
       "   '0909R',\n",
       "   '0910R',\n",
       "   'R0911'}},\n",
       " 'ALGER': {'MD CHERIF SAMIR': {'0903R',\n",
       "   '0905R',\n",
       "   '0906R',\n",
       "   '0909R',\n",
       "   'P160224',\n",
       "   'P16028',\n",
       "   'R0911',\n",
       "   'R16041',\n",
       "   'R160413',\n",
       "   'R16046',\n",
       "   'R16047',\n",
       "   'R16048',\n",
       "   'R16051',\n",
       "   'R160510',\n",
       "   'R16052',\n",
       "   'R16053',\n",
       "   'R16054',\n",
       "   'R16055',\n",
       "   'R16056',\n",
       "   'R16057',\n",
       "   'R16058',\n",
       "   'R16059'},\n",
       "  'IBRIR SLIMANE': {'R16031',\n",
       "   'R160310',\n",
       "   'R160312',\n",
       "   'R16032',\n",
       "   'R16033',\n",
       "   'R16034',\n",
       "   'R16035',\n",
       "   'R16036',\n",
       "   'R16038',\n",
       "   'R16039',\n",
       "   'R16051',\n",
       "   'TP160311',\n",
       "   'TP16037'},\n",
       "  'IBRIR ABDELHAK': {'R16041',\n",
       "   'R160410',\n",
       "   'R160411',\n",
       "   'R160412',\n",
       "   'R160413',\n",
       "   'R16042',\n",
       "   'R16043',\n",
       "   'R16044',\n",
       "   'R16045',\n",
       "   'R16046',\n",
       "   'R16047',\n",
       "   'R16048',\n",
       "   'R16049',\n",
       "   'R16059'},\n",
       "  'EURL MILK SODA FOOD': {'0901R',\n",
       "   '0904R',\n",
       "   '9',\n",
       "   'P16021',\n",
       "   'P160210',\n",
       "   'P160211',\n",
       "   'P160212',\n",
       "   'P160213',\n",
       "   'P160214',\n",
       "   'P160215',\n",
       "   'P160216',\n",
       "   'P160219',\n",
       "   'P16022',\n",
       "   'P160222',\n",
       "   'P160224',\n",
       "   'P160226',\n",
       "   'P16023',\n",
       "   'P16024',\n",
       "   'P16025',\n",
       "   'P16026',\n",
       "   'P16027',\n",
       "   'P16028',\n",
       "   'P16029',\n",
       "   'R160218',\n",
       "   'R160220',\n",
       "   'R160221',\n",
       "   'R160223',\n",
       "   'R160225',\n",
       "   'TP160217'},\n",
       "  'IBRIR LARBI ALGER': {'0902R',\n",
       "   'P160210',\n",
       "   'P160226',\n",
       "   'P16027',\n",
       "   'R160120',\n",
       "   'R160125',\n",
       "   'R160128',\n",
       "   'R16015',\n",
       "   'R16016',\n",
       "   'R16018',\n",
       "   'R160223',\n",
       "   'R16061',\n",
       "   'R160610',\n",
       "   'R160611',\n",
       "   'R16062',\n",
       "   'R16063',\n",
       "   'R16064',\n",
       "   'R16065',\n",
       "   'R16066',\n",
       "   'R16067',\n",
       "   'R16068',\n",
       "   'R16069',\n",
       "   'TP160126'},\n",
       "  'EURL CANDILAIT': {'8',\n",
       "   '9',\n",
       "   'R16011',\n",
       "   'R160110',\n",
       "   'R160111',\n",
       "   'R160112',\n",
       "   'R160113',\n",
       "   'R160114',\n",
       "   'R160115',\n",
       "   'R160116',\n",
       "   'R160117',\n",
       "   'R160118',\n",
       "   'R160119',\n",
       "   'R16012',\n",
       "   'R160120',\n",
       "   'R160123',\n",
       "   'R160124',\n",
       "   'R160125',\n",
       "   'R160127',\n",
       "   'R160128',\n",
       "   'R160129',\n",
       "   'R16013',\n",
       "   'R160130',\n",
       "   'R160131',\n",
       "   'R160132',\n",
       "   'R16014',\n",
       "   'R16015',\n",
       "   'R16016',\n",
       "   'R16017',\n",
       "   'R16018',\n",
       "   'R16019',\n",
       "   'TP160126'}},\n",
       " 'BOUIRA': {'IBRIR ABDESLAM': {'14',\n",
       "   'R1001',\n",
       "   'R1002',\n",
       "   'R1003',\n",
       "   'R1004',\n",
       "   'R1006',\n",
       "   'R1007',\n",
       "   'R1008',\n",
       "   'TP1005'}},\n",
       " 'TEBESSA': {'EURL NASR ECHARK': {'R12011',\n",
       "   'R12012',\n",
       "   'R12013',\n",
       "   'R12014',\n",
       "   'R12015',\n",
       "   'R12016',\n",
       "   'R12017'}},\n",
       " 'TLEMCEN': {'IBRIRKHELIL': {'R1301',\n",
       "   'R1302',\n",
       "   'R1303',\n",
       "   'R1304',\n",
       "   'R1305',\n",
       "   'R1306',\n",
       "   'R1307 ',\n",
       "   'R1308'}},\n",
       " 'TIARET': {'IBRIR SAMIR': {'R1401', 'R1402', 'R1403', 'R1404'}},\n",
       " 'TIZI OUZOU': {'SARL CANDY DISTRIBUTION': {'R1501',\n",
       "   'R15010',\n",
       "   'R15011',\n",
       "   'R15013',\n",
       "   'R15014',\n",
       "   'R1502',\n",
       "   'R1503',\n",
       "   'R1504',\n",
       "   'R1505',\n",
       "   'R1506',\n",
       "   'R1507',\n",
       "   'R1508',\n",
       "   'R1517'},\n",
       "  'SARL CANDY DISTRIBUTION 2 -TO': {'R15011',\n",
       "   'R15013',\n",
       "   'R1502',\n",
       "   'R1503',\n",
       "   'R1504',\n",
       "   'R1505',\n",
       "   'R1506',\n",
       "   'R1507',\n",
       "   'R1508',\n",
       "   'R1509',\n",
       "   'R1512',\n",
       "   'R1515',\n",
       "   'R1516',\n",
       "   'R1518'}},\n",
       " 'DJELFA': {'BOUZIDI ABDELKRIM': {'R1701', 'R1702', 'R1703', 'R1704'}},\n",
       " 'JIJEL': {'SARL JGOAA': {'R1801',\n",
       "   'R1802',\n",
       "   'R1803',\n",
       "   'R1804',\n",
       "   'R1805',\n",
       "   'R1806',\n",
       "   'R1807',\n",
       "   'R1808'}},\n",
       " 'SETIF': {'EURL CANDY MILK': {'R1901',\n",
       "   'R1905',\n",
       "   'R1906',\n",
       "   'R1907',\n",
       "   'R1909',\n",
       "   'R1912',\n",
       "   'R1913',\n",
       "   'R1914'},\n",
       "  'EURL DELICIOUS MILK': {'R1902',\n",
       "   'R1903',\n",
       "   'R1904',\n",
       "   'R1907',\n",
       "   'R1908',\n",
       "   'R1909',\n",
       "   'R1910',\n",
       "   'R1911'}},\n",
       " 'SAIDA': {'BELHOCINE ABDELLATIF': {'R2001', 'R2002', 'R2003', 'R2903'}},\n",
       " 'SKIKDA': {'HAMAZA LAKHDAR': {'R2101',\n",
       "   'R210110',\n",
       "   'R2102',\n",
       "   'R2103',\n",
       "   'R2104',\n",
       "   'R2105',\n",
       "   'R2106',\n",
       "   'R2107',\n",
       "   'R2108',\n",
       "   'R2109'},\n",
       "  'FOURAR ALI': {'R2102',\n",
       "   'R21021',\n",
       "   'R21022',\n",
       "   'R21023',\n",
       "   'R21024',\n",
       "   'R2104',\n",
       "   'R2108'}},\n",
       " 'SIDI BEL ABBES': {'EURL EL TEWFIK': {'R2201',\n",
       "   'R2202',\n",
       "   'R2203',\n",
       "   'R2204',\n",
       "   'R2205',\n",
       "   'R2206',\n",
       "   'R2207'}},\n",
       " 'ANNABA': {'EURL ILYES FOOD': {'R2301',\n",
       "   'R2302',\n",
       "   'R2303',\n",
       "   'R2306',\n",
       "   'R2307',\n",
       "   'R2308',\n",
       "   'R2309'},\n",
       "  'ANNABA 2': {'R230110', 'R230111', 'R230113', 'R2304', 'R2305'}},\n",
       " 'GUELMA': {'AZERINE YACINE': {'R24011', 'R24012'},\n",
       "  'TABOU HAMID': {'R24021', 'R24022', 'R24023'}},\n",
       " 'CONSTANTINE': {'IBRIR AZEDINE': {'R25011',\n",
       "   'R25013',\n",
       "   'R25014',\n",
       "   'R25016',\n",
       "   'R25018'},\n",
       "  'FOURAR SAID': {'R250110', 'R250111', 'R25012', 'R25015', 'R25017'},\n",
       "  'EURL NOUNOU COMMERCE ': {'R250110',\n",
       "   'R25014',\n",
       "   'R25015',\n",
       "   'R25019',\n",
       "   'R25021',\n",
       "   'R25022',\n",
       "   'R25023',\n",
       "   'R25024',\n",
       "   'R25025'}},\n",
       " 'MEDEA': {'SNC TITTERI DISTRIB': {'R2601',\n",
       "   'R2602',\n",
       "   'R2603',\n",
       "   'R2604',\n",
       "   'R2605',\n",
       "   'R2606',\n",
       "   'R2607'}},\n",
       " 'TAMANRASSET': {'TAMANRASSET': {'R1101'}},\n",
       " 'MOSTAGHANEM': {'AKLI FATAH': {'R27021',\n",
       "   'R27022',\n",
       "   'R27023',\n",
       "   'R27024',\n",
       "   'R27025'},\n",
       "  'IBRIR YANIS': {'R27011', 'R27012', 'R27013', 'R27014', 'R27022', 'R27024'}},\n",
       " \"M'SILA\": {'SARL SONARIX': {'R2801',\n",
       "   'R2802',\n",
       "   'R2803',\n",
       "   'R2804',\n",
       "   'R2805',\n",
       "   'R2806'}},\n",
       " 'MASCARA': {'IBRIR NACER': {'R2901', 'R2902', 'R2903', 'R2904', 'R2905'}},\n",
       " 'OUARGLA': {'SARL BATEAU SUD OUAREGLA': {'R30011',\n",
       "   'R30012',\n",
       "   'R30013',\n",
       "   'R30014',\n",
       "   'R30015'},\n",
       "  'SARL BATEAU SUD TOUGGOURT': {'R30021',\n",
       "   'R30022',\n",
       "   'R30023',\n",
       "   'R30024',\n",
       "   'R30025'}},\n",
       " 'ORAN': {'MELIANI SID AHMED': {'R31021',\n",
       "   'R310210',\n",
       "   'R310211',\n",
       "   'R31022',\n",
       "   'R31023',\n",
       "   'R31024',\n",
       "   'R31025',\n",
       "   'R31026',\n",
       "   'R31027',\n",
       "   'R31028',\n",
       "   'R31029'},\n",
       "  'IBRIR MOHAMED': {'R310110',\n",
       "   'R310111',\n",
       "   'R310113',\n",
       "   'R310114',\n",
       "   'R310116',\n",
       "   'R310117',\n",
       "   'R310118',\n",
       "   'R310119',\n",
       "   'R31013',\n",
       "   'R31014',\n",
       "   'R31015',\n",
       "   'R31017',\n",
       "   'R31019',\n",
       "   'R310210',\n",
       "   'R31023'},\n",
       "  'IBRIR LAIT': {'R31011',\n",
       "   'R310112',\n",
       "   'R310115',\n",
       "   'R310117',\n",
       "   'R31012',\n",
       "   'R31013',\n",
       "   'R31016',\n",
       "   'R31017',\n",
       "   'R31018',\n",
       "   'R31019',\n",
       "   'R310210',\n",
       "   'R310211',\n",
       "   'R31023',\n",
       "   'R31024'},\n",
       "  'BENOUHAMOU': {'R310110',\n",
       "   'R310111',\n",
       "   'R310116',\n",
       "   'R31012',\n",
       "   'R31013',\n",
       "   'R31014',\n",
       "   'R31015',\n",
       "   'R31018',\n",
       "   'R31019',\n",
       "   'R31031',\n",
       "   'R31032',\n",
       "   'R31033',\n",
       "   'R31034',\n",
       "   'R31035',\n",
       "   'R31036',\n",
       "   'R31037',\n",
       "   'R31038'}},\n",
       " 'RELIZANE': {'BOURZIG BOUZIANE': {'R3201', 'R3202', 'R3203'},\n",
       "  'IBRIR FAROUK': {'R4801', 'R4802', 'R4803', 'R4804'}},\n",
       " 'BBA': {'EURL AT FOODS DISTRIBUTION': {'R3401',\n",
       "   'R3402',\n",
       "   'R3403',\n",
       "   'R3404',\n",
       "   'R3405',\n",
       "   'R3406',\n",
       "   'R3407'}},\n",
       " 'BOUMERDES': {'EURL LAIT PROD - BOUMERDES 2': {'3501R',\n",
       "   '3502R',\n",
       "   '3504R',\n",
       "   '3507R',\n",
       "   '3508R',\n",
       "   'R3509',\n",
       "   'R3510',\n",
       "   'R3512',\n",
       "   'R3515',\n",
       "   'R3516',\n",
       "   'R3517',\n",
       "   'R3519'},\n",
       "  'EURL LAIT PROD': {'3503R',\n",
       "   '3505R',\n",
       "   '3506R',\n",
       "   '3508R',\n",
       "   'R3511',\n",
       "   'R3513',\n",
       "   'R3514',\n",
       "   'R3515',\n",
       "   'R3516',\n",
       "   'R3517'}},\n",
       " 'EL TAREF': {'BOUTELIATE MESSAOUDN ': {'R3601', 'R3602', 'R3603', 'R3604'}},\n",
       " 'EL OUED': {'ABDESSADOK ALAEDDINE': {'R3901', 'R3902', 'R3903', 'R3904'}},\n",
       " 'KHENCHELA': {'HANI MOUAD': {'R40011', 'R40012', 'R40013', 'R40014'},\n",
       "  'TOUAT A/MADJID': {'R40021', 'R40022'}},\n",
       " 'SOUK AHRAS': {'DRIDI LARBI': {'R24024', 'R4101', 'R4102', 'R4103'}},\n",
       " 'TIPAZA': {'SARL DISTRI LAIT': {'R4201',\n",
       "   'R4202',\n",
       "   'R4203',\n",
       "   'R4204',\n",
       "   'R4205',\n",
       "   'R4206',\n",
       "   'R4207'}},\n",
       " 'MILA': {'IBRIR RIDA': {'R4301',\n",
       "   'R4302',\n",
       "   'R4303',\n",
       "   'R4304',\n",
       "   'R4305',\n",
       "   'R4306',\n",
       "   'R4307'}},\n",
       " 'AIN DEFLA': {'EURL ADEMLAIT-AIN DEFLA': {'R4401',\n",
       "   'R4402',\n",
       "   'R4403',\n",
       "   'R4404',\n",
       "   'R4405'}},\n",
       " 'AIN TEMOUCHENT': {'BENDIMRED SAMIR': {'R4601', 'R4602', 'R4603', 'R4604'}},\n",
       " 'EL MENIA': {'IBRIR GHARDAIA': {'R4701', 'R4702', 'R4703', 'R4704', 'R4705'},\n",
       "  'BOUSSENA': {'R47021'}}}"
      ]
     },
     "execution_count": 136,
     "metadata": {},
     "output_type": "execute_result"
    }
   ],
   "source": [
    "sectors = myData2[[\"SECTOR NAME\",\"REGION NAME\",\"VENDOR\"]].drop_duplicates()\n",
    "sectorDict = { region.upper() : {sector.upper(): {client.upper() for client in sectors[sectors[\"SECTOR NAME\"]==sector][\"VENDOR\"]} for sector in sectors[sectors[\"REGION NAME\"]==region][\"SECTOR NAME\"]} for region in sectors[\"REGION NAME\"].drop_duplicates().tolist()}\n",
    "sectorDict"
   ]
  },
  {
   "cell_type": "code",
   "execution_count": 137,
   "metadata": {},
   "outputs": [],
   "source": [
    "import plotly.express as px\n",
    "\n",
    "def MoneyDisp(regions):\n",
    "    List = [\"ALGERIE\"]\n",
    "    REGIONS = [\"\"]\n",
    "    Value = [0]\n",
    "    for region in tqdm(list(regions)[:10]):\n",
    "        List.append(region)\n",
    "        REGIONS.append(\"ALGERIE\")\n",
    "        Value.append(0)\n",
    "        for secteur in sectorDict[region].keys():\n",
    "            List.append(secteur)\n",
    "            REGIONS.append(region)\n",
    "            Value.append(myData2[myData2[\"SECTOR NAME\"]==secteur][\"TURNOVER\"].sum())     \n",
    "            \n",
    "    data = dict(\n",
    "        character=List,\n",
    "        parent=REGIONS,\n",
    "        value=Value\n",
    "        )\n",
    "\n",
    "    fig =px.sunburst(\n",
    "        data,\n",
    "        names='character',\n",
    "        parents='parent',\n",
    "        values='value',\n",
    "    )\n",
    "    fig = go.Figure(data=fig)\n",
    "    pyo.iplot(fig)"
   ]
  },
  {
   "cell_type": "code",
   "execution_count": 138,
   "metadata": {},
   "outputs": [
    {
     "data": {
      "application/vnd.jupyter.widget-view+json": {
       "model_id": "6505ec3d42bb4fa393095777201695d2",
       "version_major": 2,
       "version_minor": 0
      },
      "text/plain": [
       "interactive(children=(SelectMultiple(description='Region', index=(8,), options=('CHLEF', 'LAGHOUAT', 'OUM EL B…"
      ]
     },
     "metadata": {},
     "output_type": "display_data"
    }
   ],
   "source": [
    "region_name = widgets.SelectMultiple(\n",
    "    options=list(sectorDict.keys()),\n",
    "    value=[\"ALGER\"],\n",
    "    rows=4,\n",
    "    description='Region',\n",
    "    disabled=False\n",
    ")\n",
    "widgets.interactive(MoneyDisp,regions=region_name)"
   ]
  },
  {
   "cell_type": "code",
   "execution_count": 58,
   "metadata": {
    "scrolled": true
   },
   "outputs": [
    {
     "data": {
      "application/vnd.jupyter.widget-view+json": {
       "model_id": "eeace5d3f3f1465cb6b9bd5182fd86ea",
       "version_major": 2,
       "version_minor": 0
      },
      "text/plain": [
       "interactive(children=(Select(description='Region', index=8, options=('CHLEF', 'LAGHOUAT', 'OUM EL BOUAGHI', 'B…"
      ]
     },
     "metadata": {},
     "output_type": "display_data"
    }
   ],
   "source": [
    "def test(region,population):\n",
    "    print(f'les secteur sont {list(sectorDict[region])} qui est situe a la region {region}, on a choisis une population de {population} pourcent')\n",
    "    \n",
    "widgets.interactive(test,region=region_name,population=Population)"
   ]
  },
  {
   "cell_type": "markdown",
   "metadata": {},
   "source": [
    "### Granularité d'étude : Clients par REGION"
   ]
  },
  {
   "cell_type": "code",
   "execution_count": 144,
   "metadata": {},
   "outputs": [
    {
     "data": {
      "application/vnd.plotly.v1+json": {
       "config": {
        "plotlyServerURL": "https://plot.ly"
       },
       "data": [
        {
         "marker": {
          "color": "hsl(0.0,50%,50%)"
         },
         "name": "CHLEF",
         "type": "box",
         "y": [
          130091135.7115462,
          79671569.88793302,
          82737140.9195794,
          75739361.45641616,
          79574012.8708848,
          17798859.489676017
         ]
        },
        {
         "marker": {
          "color": "hsl(8.78048780487805,50%,50%)"
         },
         "name": "LAGHOUAT",
         "type": "box",
         "y": [
          44634008.32688495,
          44652237.208464734,
          24979657.11298408,
          103127858.75070062
         ]
        },
        {
         "marker": {
          "color": "hsl(17.5609756097561,50%,50%)"
         },
         "name": "OUM EL BOUAGHI",
         "type": "box",
         "y": [
          46342163.34503665,
          44592468.914224185,
          38756478.38533414,
          42204561.91176419,
          18929347.99817108,
          93612671.85471627,
          11732149.497700041,
          33666972.33048704,
          79278191.8572243,
          20540069.498598035
         ]
        },
        {
         "marker": {
          "color": "hsl(26.34146341463415,50%,50%)"
         },
         "name": "BATNA",
         "type": "box",
         "y": [
          60144294.54845041,
          65651081.86871643,
          22628621.304539643,
          23713795.960148465,
          22894209.956532054,
          26005352.454151697,
          52407317.911740184,
          75915940.17740706,
          49972999.026692785,
          34514794.00331603,
          36295247.112419985,
          34560073.50251203,
          51083693.00870026,
          148049065.7433966,
          27888575.933784027
         ]
        },
        {
         "marker": {
          "color": "hsl(35.1219512195122,50%,50%)"
         },
         "name": "BEJAIA",
         "type": "box",
         "y": [
          25372662,
          159841188.9098024,
          170001606.7952558,
          271924220.38113916,
          139170732.47382462,
          26596524,
          9738264,
          20039388,
          23481726,
          9919800,
          26457576,
          36400794,
          46202331.77687583,
          17690298.00088602,
          16106697.002548026,
          71281003.91725221,
          26369821.47580032,
          165523189.01726577,
          148974249.01018703,
          154454622.79252222,
          190720726.02374196,
          152680454.8909386,
          105387178.01500419,
          86373605.18276429,
          150136981.00337628,
          142824764.133125,
          157433016.95269865,
          185349428.0339608,
          98557321.69108759,
          161444482.5587414,
          71724409.79332359,
          36099072.4226286,
          5497561.992167985
         ]
        },
        {
         "marker": {
          "color": "hsl(43.90243902439025,50%,50%)"
         },
         "name": "BISKRA",
         "type": "box",
         "y": [
          192244802.98663178,
          182134335.01348993,
          213986705.06203222,
          178175802.4499456,
          178077308.89948526,
          173335193.66812629,
          193396612.0437982,
          219102778.04625925,
          108438621.82292566,
          64374072.67088341,
          66097773.95711983
         ]
        },
        {
         "marker": {
          "color": "hsl(52.6829268292683,50%,50%)"
         },
         "name": "BECHAR",
         "type": "box",
         "y": [
          2237403.995591997,
          3111699.9903479996
         ]
        },
        {
         "marker": {
          "color": "hsl(61.463414634146346,50%,50%)"
         },
         "name": "BLIDA",
         "type": "box",
         "y": [
          198847762.03416222,
          242192230.37300566,
          31743599.942379747,
          190333416.47465765,
          126160207.52286676,
          601344060.01212,
          137067096.78465244,
          151725311.55617276,
          34511797.98938416,
          150472752.66846886,
          97159663.55904424
         ]
        },
        {
         "marker": {
          "color": "hsl(70.2439024390244,50%,50%)"
         },
         "name": "ALGER",
         "type": "box",
         "y": [
          11088012,
          7839762,
          65850766.89371352,
          2200563.9965520003,
          43798693.94888679,
          23217634.00938001,
          60566324.89071992,
          214915.999644,
          134175524.2831994,
          162535590.01930887,
          183941194.0910952,
          130859528.12356769,
          277774078.0519978,
          517824880.1422275,
          438355349.87521327,
          424513429.11306894,
          428339526.1717179,
          121238066.970861,
          151262712.37023646,
          84415453.00310399,
          155251795.88403565,
          132553401.97285663,
          57352461,
          135670710.00988656,
          113531000.95668578,
          190325041.03946516,
          190409842.64983478,
          132936328.09502062,
          171800182.01502582,
          29363868.334871978,
          163234549.0310763,
          150348684.03471765,
          39539406,
          173348972.0153044,
          178419714.07389596,
          203782833.02696243,
          394477634.03232914,
          226488498.24418536,
          330416560.1665548,
          313954176.02584475,
          272829934.04829323,
          142471788.01022393,
          387321815.1552976,
          92441409.997464,
          63223319.99813974,
          52652184.99686393,
          255917,
          68407219.98166399,
          54576447.9990239,
          199608145.02627677,
          106443249.57869765,
          54582585.99803985,
          317581.99933200004,
          138138242.86762136,
          158752975.09938797,
          193287889.01936212,
          167865047.35564077,
          185012102.05323932,
          155795273.36659062,
          98908631.99737218,
          93500682.99451222,
          99935580.97670062,
          138912695.55291212,
          83247391.997336,
          173703426.05600354,
          80207781.99904798,
          78100018.95205219,
          123089402.03496192,
          136313930.04178748,
          133645154.03822981,
          138242783.04845232,
          320424310.04462254,
          86260217.99864398,
          59163793.00061993,
          201629840.02884609,
          109020036.99940805,
          118545444.00460812,
          122623020.00103235,
          68848172.00182797,
          200397043.0281127,
          207468231.03775942,
          216184634.01341182,
          184068824.82166594,
          126455603.16771144,
          580154065.1298461,
          123736439.99973246,
          109838423.99911223,
          53483849.31227126,
          116273043.78882086,
          55213329.87364208,
          46791846.89344815,
          73807093.81276844,
          52020624.00199185,
          52386619.002219915,
          46072218.00296385,
          56627836.00405168,
          304555709.9958196,
          34246526.914264895,
          19204414.667916015,
          44713092.93273297,
          33931283.140864596,
          31694253.58964373,
          29164639.92446469,
          25928488.600755583,
          26971427.557384014,
          22928732.779652026,
          21648068.223328013,
          20022169.889392022,
          84286743.99799998,
          82756592.00015996,
          80171201.11050802,
          77542561.99829601
         ]
        },
        {
         "marker": {
          "color": "hsl(79.02439024390245,50%,50%)"
         },
         "name": "BOUIRA",
         "type": "box",
         "y": [
          8332554,
          197495025.93120268,
          160025679.24339348,
          178257748.03932625,
          142255137.33936083,
          105190781.11126031,
          69356726.87601899,
          10529010.550048048,
          133107681.00091314
         ]
        },
        {
         "marker": {
          "color": "hsl(87.8048780487805,50%,50%)"
         },
         "name": "TEBESSA",
         "type": "box",
         "y": [
          52476793.864788,
          50892431.86186819,
          57312475.854288265,
          52612493.8810561,
          32146901.997696105,
          26872077.997572057,
          92196925.72106451
         ]
        },
        {
         "marker": {
          "color": "hsl(96.58536585365854,50%,50%)"
         },
         "name": "TLEMCEN",
         "type": "box",
         "y": [
          46927685.881147705,
          55736574.87671571,
          60532699.80563519,
          29863398.005632117,
          40380524.0055957,
          122091555.68571693,
          150779025.56930482,
          27229415.00254816
         ]
        },
        {
         "marker": {
          "color": "hsl(105.3658536585366,50%,50%)"
         },
         "name": "TIARET",
         "type": "box",
         "y": [
          67803179.86619931,
          51057477.89609899,
          55625407.88735856,
          6936629.116208009
         ]
        },
        {
         "marker": {
          "color": "hsl(114.14634146341464,50%,50%)"
         },
         "name": "TIZI OUZOU",
         "type": "box",
         "y": [
          179107939.03255165,
          145165720.01144835,
          215261610.02813897,
          75428460.00724761,
          36370554.00224397,
          248721106.01599887,
          208416966.02867717,
          179958719.991758,
          118905916.00392564,
          190182547.34342143,
          153740302.04342392,
          169345768.01251268,
          188810552.02535513,
          92568168.01143987,
          33205958.005188037,
          30339474.003216024,
          10489663.999336015,
          1516794.0009599992
         ]
        },
        {
         "marker": {
          "color": "hsl(122.92682926829269,50%,50%)"
         },
         "name": "DJELFA",
         "type": "box",
         "y": [
          136651882.02157462,
          138143606.01466662,
          240809648.1031778,
          112913922.01068199
         ]
        },
        {
         "marker": {
          "color": "hsl(131.70731707317074,50%,50%)"
         },
         "name": "JIJEL",
         "type": "box",
         "y": [
          153048063.0203504,
          176807756.00684065,
          175896215.01424444,
          160401773.0111899,
          284099284.73877037,
          135154612.89174426,
          22884627.889708024,
          15361523.43896001
         ]
        },
        {
         "marker": {
          "color": "hsl(140.4878048780488,50%,50%)"
         },
         "name": "SETIF",
         "type": "box",
         "y": [
          183948596.03865424,
          238535759.98023874,
          232455226.02484068,
          199769746.00689954,
          258318951.98486564,
          265050660.0299437,
          377117480.00911,
          100804714.02091217,
          197597650.2962158,
          112729147.81927261,
          28878307.99473622,
          54332633.93560818,
          36818462.00299194,
          26295302.00043601
         ]
        },
        {
         "marker": {
          "color": "hsl(149.26829268292684,50%,50%)"
         },
         "name": "SAIDA",
         "type": "box",
         "y": [
          18951083.939654574,
          10048943.999600008,
          21017709.945270207,
          28180532.593039293
         ]
        },
        {
         "marker": {
          "color": "hsl(158.0487804878049,50%,50%)"
         },
         "name": "SKIKDA",
         "type": "box",
         "y": [
          149145476.052829,
          33439111.94666401,
          180672504.36720484,
          62901457.85194785,
          35796474.001188,
          49184467.93717075,
          30044981.958396703,
          149289486.027199,
          146634951.03935817,
          175545507.039883,
          102491061.00966008,
          79433455.64549205,
          69182546.46532358,
          19895953.969092183
         ]
        },
        {
         "marker": {
          "color": "hsl(166.82926829268294,50%,50%)"
         },
         "name": "SIDI BEL ABBES",
         "type": "box",
         "y": [
          66975153.82396718,
          62158987.884110145,
          63209755.789761595,
          36702540.00466801,
          28727357.99445613,
          114928041.67917767,
          5667368.001264005
         ]
        },
        {
         "marker": {
          "color": "hsl(175.609756097561,50%,50%)"
         },
         "name": "ANNABA",
         "type": "box",
         "y": [
          176869882.05235445,
          81742440.00195596,
          48810356.00077191,
          169066954.0325416,
          162005620.04647356,
          143372091.69697934,
          183436844.681346,
          55263336.02647203,
          90391209.00144796,
          89677379.50358792,
          90895310.00217596,
          38576583.96593796
         ]
        },
        {
         "marker": {
          "color": "hsl(184.39024390243904,50%,50%)"
         },
         "name": "GUELMA",
         "type": "box",
         "y": [
          70025197.91606204,
          86774207.00048801,
          51211286.23552335,
          52689017.92222654,
          33595604.999556005
         ]
        },
        {
         "marker": {
          "color": "hsl(193.1707317073171,50%,50%)"
         },
         "name": "CONSTANTINE",
         "type": "box",
         "y": [
          34761535.93361273,
          33213551.44739604,
          113101477.82851279,
          46295317.90315279,
          43406239.909716584,
          30071371.963248525,
          35572811.921280906,
          29911696.001808036,
          34455538.666584074,
          48250677.97270805,
          12292150.002768014,
          27717155.949684806,
          25393740.000348017,
          19648967.962632723,
          15568004.000736015,
          38649281.96378405
         ]
        },
        {
         "marker": {
          "color": "hsl(201.95121951219514,50%,50%)"
         },
         "name": "MEDEA",
         "type": "box",
         "y": [
          200878664.00534618,
          145044651.99116445,
          294144852.187607,
          129436882.00694428,
          71765920.0039438,
          55497456.0015958,
          58201735.89908284
         ]
        },
        {
         "marker": {
          "color": "hsl(210.7317073170732,50%,50%)"
         },
         "name": "TAMANRASSET",
         "type": "box",
         "y": [
          999.9999960000001
         ]
        },
        {
         "marker": {
          "color": "hsl(219.51219512195124,50%,50%)"
         },
         "name": "MOSTAGHANEM",
         "type": "box",
         "y": [
          45718205.85339644,
          31891911.9742247,
          101598153.72606148,
          5612323.986077972,
          81648199.82385053,
          74122772.44438653,
          34597061.005384155,
          28279159.991196383,
          10214271.977159977
         ]
        },
        {
         "marker": {
          "color": "hsl(228.2926829268293,50%,50%)"
         },
         "name": "M'SILA",
         "type": "box",
         "y": [
          180878118.0230576,
          207926932.04154563,
          347283548.4126579,
          111312862.0139283,
          106976937.97938251,
          26108271.99445205
         ]
        },
        {
         "marker": {
          "color": "hsl(237.07317073170734,50%,50%)"
         },
         "name": "MASCARA",
         "type": "box",
         "y": [
          82775709.73231442,
          63550619.79976105,
          9957910.496596001,
          19414976.01302405,
          126920867.5787892
         ]
        },
        {
         "marker": {
          "color": "hsl(245.85365853658539,50%,50%)"
         },
         "name": "OUARGLA",
         "type": "box",
         "y": [
          80440543.77387217,
          69360914.02806889,
          27519136.99829201,
          24943525.11057203,
          92585379.71406041,
          19090789.943252176,
          14663042.62786304,
          6549699.999924,
          25421973.92221187,
          2161235.9997119997
         ]
        },
        {
         "marker": {
          "color": "hsl(254.63414634146343,50%,50%)"
         },
         "name": "ORAN",
         "type": "box",
         "y": [
          56193489.833232515,
          18967408.004676048,
          24267962.00721607,
          16464754.004328018,
          93520121.73190916,
          79498547.74156867,
          94329029.77614099,
          60428021.96712006,
          18209861.997972213,
          8025623.980367948,
          4126563.9973799973,
          60400837.82708445,
          48257583.85308049,
          50243705.8428606,
          72508351.77217324,
          73461339.81560446,
          16507664.003760029,
          21548236.004952043,
          16388050.670215037,
          291769315.4451998,
          65895340.00217973,
          72725989.99480778,
          242174549.0488135,
          266556152.12290314,
          266131496.2553249,
          351464604.1758616,
          300388388.02944773,
          345938432.1068598,
          92942626.02200411,
          62506944.000923775,
          37864393.87652479,
          37646547.20821492,
          39738633.20479477,
          19945849.99300804,
          17659318.001928028,
          15820831.995828025,
          83817907.8200764,
          49963951.84204799
         ]
        },
        {
         "marker": {
          "color": "hsl(263.4146341463415,50%,50%)"
         },
         "name": "RELIZANE",
         "type": "box",
         "y": [
          19226069.95889437,
          17715697.904488385,
          12774683.970684089,
          112614025.99674283,
          122891566.0223459,
          91466525.01819313,
          210255472.08586738
         ]
        },
        {
         "marker": {
          "color": "hsl(272.19512195121956,50%,50%)"
         },
         "name": "BBA",
         "type": "box",
         "y": [
          60840669.89412705,
          59556402.90032356,
          60896073.24581656,
          58841455.9248951,
          103515179.83226481,
          19923790.003136005,
          13173308.000700016
         ]
        },
        {
         "marker": {
          "color": "hsl(280.9756097560976,50%,50%)"
         },
         "name": "BOUMERDES",
         "type": "box",
         "y": [
          181953850.04439914,
          150770342.48491588,
          173662432.38111582,
          163685378.69837198,
          157869885.13935104,
          177237005.72325426,
          318140453.9670574,
          380394112.03770185,
          129390339.99980466,
          120807639.44229229,
          133190210.21858868,
          88233476.66318399,
          118375091.99791268,
          152310013.44178495,
          262971202.18571812,
          222086356.05335897,
          31085305.973232143,
          15969737.983487986
         ]
        },
        {
         "marker": {
          "color": "hsl(289.7560975609756,50%,50%)"
         },
         "name": "EL TAREF",
         "type": "box",
         "y": [
          134702825.0227139,
          129342564.02547942,
          121230978.01750803,
          92425790.00088802
         ]
        },
        {
         "marker": {
          "color": "hsl(298.5365853658537,50%,50%)"
         },
         "name": "EL OUED",
         "type": "box",
         "y": [
          118716360.36359702,
          44162231.99881193,
          2775775.994688,
          197964035.620812
         ]
        },
        {
         "marker": {
          "color": "hsl(307.31707317073176,50%,50%)"
         },
         "name": "KHENCHELA",
         "type": "box",
         "y": [
          46063377.89274468,
          36074977.00378398,
          55931091.88619123,
          254351.9994959999,
          43440691.88379647,
          20488142.00006401
         ]
        },
        {
         "marker": {
          "color": "hsl(316.0975609756098,50%,50%)"
         },
         "name": "SOUK AHRAS",
         "type": "box",
         "y": [
          16972353.975144178,
          27470587.458568268,
          31273793.95044003,
          38733628.612259395
         ]
        },
        {
         "marker": {
          "color": "hsl(324.8780487804878,50%,50%)"
         },
         "name": "TIPAZA",
         "type": "box",
         "y": [
          214940770.0127203,
          222899914.03786293,
          207028525.0042713,
          492645804.114302,
          130880306.00917248,
          151874802.0155287,
          154692260.00770462
         ]
        },
        {
         "marker": {
          "color": "hsl(333.6585365853659,50%,50%)"
         },
         "name": "MILA",
         "type": "box",
         "y": [
          159677733.97254175,
          123307512.06359766,
          109686988.00894484,
          131859364.0358391,
          38197495.93219214,
          27698999.505183168,
          14720673.999168037
         ]
        },
        {
         "marker": {
          "color": "hsl(342.43902439024396,50%,50%)"
         },
         "name": "AIN DEFLA",
         "type": "box",
         "y": [
          76017809.85376783,
          78632659.31146085,
          74414439.67053792,
          42263305.99835579,
          23401229.392246757
         ]
        },
        {
         "marker": {
          "color": "hsl(351.219512195122,50%,50%)"
         },
         "name": "AIN TEMOUCHENT",
         "type": "box",
         "y": [
          63584707.808097124,
          60131159.84888806,
          125191446.25192404,
          26086458.003904056
         ]
        },
        {
         "marker": {
          "color": "hsl(360.0,50%,50%)"
         },
         "name": "EL MENIA",
         "type": "box",
         "y": []
        }
       ],
       "layout": {
        "paper_bgcolor": "rgb(233,233,233)",
        "plot_bgcolor": "rgb(233,233,233)",
        "template": {
         "data": {
          "bar": [
           {
            "error_x": {
             "color": "#2a3f5f"
            },
            "error_y": {
             "color": "#2a3f5f"
            },
            "marker": {
             "line": {
              "color": "#E5ECF6",
              "width": 0.5
             }
            },
            "type": "bar"
           }
          ],
          "barpolar": [
           {
            "marker": {
             "line": {
              "color": "#E5ECF6",
              "width": 0.5
             }
            },
            "type": "barpolar"
           }
          ],
          "carpet": [
           {
            "aaxis": {
             "endlinecolor": "#2a3f5f",
             "gridcolor": "white",
             "linecolor": "white",
             "minorgridcolor": "white",
             "startlinecolor": "#2a3f5f"
            },
            "baxis": {
             "endlinecolor": "#2a3f5f",
             "gridcolor": "white",
             "linecolor": "white",
             "minorgridcolor": "white",
             "startlinecolor": "#2a3f5f"
            },
            "type": "carpet"
           }
          ],
          "choropleth": [
           {
            "colorbar": {
             "outlinewidth": 0,
             "ticks": ""
            },
            "type": "choropleth"
           }
          ],
          "contour": [
           {
            "colorbar": {
             "outlinewidth": 0,
             "ticks": ""
            },
            "colorscale": [
             [
              0,
              "#0d0887"
             ],
             [
              0.1111111111111111,
              "#46039f"
             ],
             [
              0.2222222222222222,
              "#7201a8"
             ],
             [
              0.3333333333333333,
              "#9c179e"
             ],
             [
              0.4444444444444444,
              "#bd3786"
             ],
             [
              0.5555555555555556,
              "#d8576b"
             ],
             [
              0.6666666666666666,
              "#ed7953"
             ],
             [
              0.7777777777777778,
              "#fb9f3a"
             ],
             [
              0.8888888888888888,
              "#fdca26"
             ],
             [
              1,
              "#f0f921"
             ]
            ],
            "type": "contour"
           }
          ],
          "contourcarpet": [
           {
            "colorbar": {
             "outlinewidth": 0,
             "ticks": ""
            },
            "type": "contourcarpet"
           }
          ],
          "heatmap": [
           {
            "colorbar": {
             "outlinewidth": 0,
             "ticks": ""
            },
            "colorscale": [
             [
              0,
              "#0d0887"
             ],
             [
              0.1111111111111111,
              "#46039f"
             ],
             [
              0.2222222222222222,
              "#7201a8"
             ],
             [
              0.3333333333333333,
              "#9c179e"
             ],
             [
              0.4444444444444444,
              "#bd3786"
             ],
             [
              0.5555555555555556,
              "#d8576b"
             ],
             [
              0.6666666666666666,
              "#ed7953"
             ],
             [
              0.7777777777777778,
              "#fb9f3a"
             ],
             [
              0.8888888888888888,
              "#fdca26"
             ],
             [
              1,
              "#f0f921"
             ]
            ],
            "type": "heatmap"
           }
          ],
          "heatmapgl": [
           {
            "colorbar": {
             "outlinewidth": 0,
             "ticks": ""
            },
            "colorscale": [
             [
              0,
              "#0d0887"
             ],
             [
              0.1111111111111111,
              "#46039f"
             ],
             [
              0.2222222222222222,
              "#7201a8"
             ],
             [
              0.3333333333333333,
              "#9c179e"
             ],
             [
              0.4444444444444444,
              "#bd3786"
             ],
             [
              0.5555555555555556,
              "#d8576b"
             ],
             [
              0.6666666666666666,
              "#ed7953"
             ],
             [
              0.7777777777777778,
              "#fb9f3a"
             ],
             [
              0.8888888888888888,
              "#fdca26"
             ],
             [
              1,
              "#f0f921"
             ]
            ],
            "type": "heatmapgl"
           }
          ],
          "histogram": [
           {
            "marker": {
             "colorbar": {
              "outlinewidth": 0,
              "ticks": ""
             }
            },
            "type": "histogram"
           }
          ],
          "histogram2d": [
           {
            "colorbar": {
             "outlinewidth": 0,
             "ticks": ""
            },
            "colorscale": [
             [
              0,
              "#0d0887"
             ],
             [
              0.1111111111111111,
              "#46039f"
             ],
             [
              0.2222222222222222,
              "#7201a8"
             ],
             [
              0.3333333333333333,
              "#9c179e"
             ],
             [
              0.4444444444444444,
              "#bd3786"
             ],
             [
              0.5555555555555556,
              "#d8576b"
             ],
             [
              0.6666666666666666,
              "#ed7953"
             ],
             [
              0.7777777777777778,
              "#fb9f3a"
             ],
             [
              0.8888888888888888,
              "#fdca26"
             ],
             [
              1,
              "#f0f921"
             ]
            ],
            "type": "histogram2d"
           }
          ],
          "histogram2dcontour": [
           {
            "colorbar": {
             "outlinewidth": 0,
             "ticks": ""
            },
            "colorscale": [
             [
              0,
              "#0d0887"
             ],
             [
              0.1111111111111111,
              "#46039f"
             ],
             [
              0.2222222222222222,
              "#7201a8"
             ],
             [
              0.3333333333333333,
              "#9c179e"
             ],
             [
              0.4444444444444444,
              "#bd3786"
             ],
             [
              0.5555555555555556,
              "#d8576b"
             ],
             [
              0.6666666666666666,
              "#ed7953"
             ],
             [
              0.7777777777777778,
              "#fb9f3a"
             ],
             [
              0.8888888888888888,
              "#fdca26"
             ],
             [
              1,
              "#f0f921"
             ]
            ],
            "type": "histogram2dcontour"
           }
          ],
          "mesh3d": [
           {
            "colorbar": {
             "outlinewidth": 0,
             "ticks": ""
            },
            "type": "mesh3d"
           }
          ],
          "parcoords": [
           {
            "line": {
             "colorbar": {
              "outlinewidth": 0,
              "ticks": ""
             }
            },
            "type": "parcoords"
           }
          ],
          "pie": [
           {
            "automargin": true,
            "type": "pie"
           }
          ],
          "scatter": [
           {
            "marker": {
             "colorbar": {
              "outlinewidth": 0,
              "ticks": ""
             }
            },
            "type": "scatter"
           }
          ],
          "scatter3d": [
           {
            "line": {
             "colorbar": {
              "outlinewidth": 0,
              "ticks": ""
             }
            },
            "marker": {
             "colorbar": {
              "outlinewidth": 0,
              "ticks": ""
             }
            },
            "type": "scatter3d"
           }
          ],
          "scattercarpet": [
           {
            "marker": {
             "colorbar": {
              "outlinewidth": 0,
              "ticks": ""
             }
            },
            "type": "scattercarpet"
           }
          ],
          "scattergeo": [
           {
            "marker": {
             "colorbar": {
              "outlinewidth": 0,
              "ticks": ""
             }
            },
            "type": "scattergeo"
           }
          ],
          "scattergl": [
           {
            "marker": {
             "colorbar": {
              "outlinewidth": 0,
              "ticks": ""
             }
            },
            "type": "scattergl"
           }
          ],
          "scattermapbox": [
           {
            "marker": {
             "colorbar": {
              "outlinewidth": 0,
              "ticks": ""
             }
            },
            "type": "scattermapbox"
           }
          ],
          "scatterpolar": [
           {
            "marker": {
             "colorbar": {
              "outlinewidth": 0,
              "ticks": ""
             }
            },
            "type": "scatterpolar"
           }
          ],
          "scatterpolargl": [
           {
            "marker": {
             "colorbar": {
              "outlinewidth": 0,
              "ticks": ""
             }
            },
            "type": "scatterpolargl"
           }
          ],
          "scatterternary": [
           {
            "marker": {
             "colorbar": {
              "outlinewidth": 0,
              "ticks": ""
             }
            },
            "type": "scatterternary"
           }
          ],
          "surface": [
           {
            "colorbar": {
             "outlinewidth": 0,
             "ticks": ""
            },
            "colorscale": [
             [
              0,
              "#0d0887"
             ],
             [
              0.1111111111111111,
              "#46039f"
             ],
             [
              0.2222222222222222,
              "#7201a8"
             ],
             [
              0.3333333333333333,
              "#9c179e"
             ],
             [
              0.4444444444444444,
              "#bd3786"
             ],
             [
              0.5555555555555556,
              "#d8576b"
             ],
             [
              0.6666666666666666,
              "#ed7953"
             ],
             [
              0.7777777777777778,
              "#fb9f3a"
             ],
             [
              0.8888888888888888,
              "#fdca26"
             ],
             [
              1,
              "#f0f921"
             ]
            ],
            "type": "surface"
           }
          ],
          "table": [
           {
            "cells": {
             "fill": {
              "color": "#EBF0F8"
             },
             "line": {
              "color": "white"
             }
            },
            "header": {
             "fill": {
              "color": "#C8D4E3"
             },
             "line": {
              "color": "white"
             }
            },
            "type": "table"
           }
          ]
         },
         "layout": {
          "annotationdefaults": {
           "arrowcolor": "#2a3f5f",
           "arrowhead": 0,
           "arrowwidth": 1
          },
          "coloraxis": {
           "colorbar": {
            "outlinewidth": 0,
            "ticks": ""
           }
          },
          "colorscale": {
           "diverging": [
            [
             0,
             "#8e0152"
            ],
            [
             0.1,
             "#c51b7d"
            ],
            [
             0.2,
             "#de77ae"
            ],
            [
             0.3,
             "#f1b6da"
            ],
            [
             0.4,
             "#fde0ef"
            ],
            [
             0.5,
             "#f7f7f7"
            ],
            [
             0.6,
             "#e6f5d0"
            ],
            [
             0.7,
             "#b8e186"
            ],
            [
             0.8,
             "#7fbc41"
            ],
            [
             0.9,
             "#4d9221"
            ],
            [
             1,
             "#276419"
            ]
           ],
           "sequential": [
            [
             0,
             "#0d0887"
            ],
            [
             0.1111111111111111,
             "#46039f"
            ],
            [
             0.2222222222222222,
             "#7201a8"
            ],
            [
             0.3333333333333333,
             "#9c179e"
            ],
            [
             0.4444444444444444,
             "#bd3786"
            ],
            [
             0.5555555555555556,
             "#d8576b"
            ],
            [
             0.6666666666666666,
             "#ed7953"
            ],
            [
             0.7777777777777778,
             "#fb9f3a"
            ],
            [
             0.8888888888888888,
             "#fdca26"
            ],
            [
             1,
             "#f0f921"
            ]
           ],
           "sequentialminus": [
            [
             0,
             "#0d0887"
            ],
            [
             0.1111111111111111,
             "#46039f"
            ],
            [
             0.2222222222222222,
             "#7201a8"
            ],
            [
             0.3333333333333333,
             "#9c179e"
            ],
            [
             0.4444444444444444,
             "#bd3786"
            ],
            [
             0.5555555555555556,
             "#d8576b"
            ],
            [
             0.6666666666666666,
             "#ed7953"
            ],
            [
             0.7777777777777778,
             "#fb9f3a"
            ],
            [
             0.8888888888888888,
             "#fdca26"
            ],
            [
             1,
             "#f0f921"
            ]
           ]
          },
          "colorway": [
           "#636efa",
           "#EF553B",
           "#00cc96",
           "#ab63fa",
           "#FFA15A",
           "#19d3f3",
           "#FF6692",
           "#B6E880",
           "#FF97FF",
           "#FECB52"
          ],
          "font": {
           "color": "#2a3f5f"
          },
          "geo": {
           "bgcolor": "white",
           "lakecolor": "white",
           "landcolor": "#E5ECF6",
           "showlakes": true,
           "showland": true,
           "subunitcolor": "white"
          },
          "hoverlabel": {
           "align": "left"
          },
          "hovermode": "closest",
          "mapbox": {
           "style": "light"
          },
          "paper_bgcolor": "white",
          "plot_bgcolor": "#E5ECF6",
          "polar": {
           "angularaxis": {
            "gridcolor": "white",
            "linecolor": "white",
            "ticks": ""
           },
           "bgcolor": "#E5ECF6",
           "radialaxis": {
            "gridcolor": "white",
            "linecolor": "white",
            "ticks": ""
           }
          },
          "scene": {
           "xaxis": {
            "backgroundcolor": "#E5ECF6",
            "gridcolor": "white",
            "gridwidth": 2,
            "linecolor": "white",
            "showbackground": true,
            "ticks": "",
            "zerolinecolor": "white"
           },
           "yaxis": {
            "backgroundcolor": "#E5ECF6",
            "gridcolor": "white",
            "gridwidth": 2,
            "linecolor": "white",
            "showbackground": true,
            "ticks": "",
            "zerolinecolor": "white"
           },
           "zaxis": {
            "backgroundcolor": "#E5ECF6",
            "gridcolor": "white",
            "gridwidth": 2,
            "linecolor": "white",
            "showbackground": true,
            "ticks": "",
            "zerolinecolor": "white"
           }
          },
          "shapedefaults": {
           "line": {
            "color": "#2a3f5f"
           }
          },
          "ternary": {
           "aaxis": {
            "gridcolor": "white",
            "linecolor": "white",
            "ticks": ""
           },
           "baxis": {
            "gridcolor": "white",
            "linecolor": "white",
            "ticks": ""
           },
           "bgcolor": "#E5ECF6",
           "caxis": {
            "gridcolor": "white",
            "linecolor": "white",
            "ticks": ""
           }
          },
          "title": {
           "x": 0.05
          },
          "xaxis": {
           "automargin": true,
           "gridcolor": "white",
           "linecolor": "white",
           "ticks": "",
           "title": {
            "standoff": 15
           },
           "zerolinecolor": "white",
           "zerolinewidth": 2
          },
          "yaxis": {
           "automargin": true,
           "gridcolor": "white",
           "linecolor": "white",
           "ticks": "",
           "title": {
            "standoff": 15
           },
           "zerolinecolor": "white",
           "zerolinewidth": 2
          }
         }
        },
        "xaxis": {
         "showgrid": false,
         "showticklabels": false,
         "zeroline": false
        },
        "yaxis": {
         "gridcolor": "white",
         "zeroline": false
        }
       }
      },
      "text/html": [
       "<div>\n",
       "        \n",
       "        \n",
       "            <div id=\"e1ef4d01-98d7-4944-bb99-e81a92a3170e\" class=\"plotly-graph-div\" style=\"height:525px; width:100%;\"></div>\n",
       "            <script type=\"text/javascript\">\n",
       "                require([\"plotly\"], function(Plotly) {\n",
       "                    window.PLOTLYENV=window.PLOTLYENV || {};\n",
       "                    \n",
       "                if (document.getElementById(\"e1ef4d01-98d7-4944-bb99-e81a92a3170e\")) {\n",
       "                    Plotly.newPlot(\n",
       "                        'e1ef4d01-98d7-4944-bb99-e81a92a3170e',\n",
       "                        [{\"marker\": {\"color\": \"hsl(0.0,50%,50%)\"}, \"name\": \"CHLEF\", \"type\": \"box\", \"y\": [130091135.7115462, 79671569.88793302, 82737140.9195794, 75739361.45641616, 79574012.8708848, 17798859.489676017]}, {\"marker\": {\"color\": \"hsl(8.78048780487805,50%,50%)\"}, \"name\": \"LAGHOUAT\", \"type\": \"box\", \"y\": [44634008.32688495, 44652237.208464734, 24979657.11298408, 103127858.75070062]}, {\"marker\": {\"color\": \"hsl(17.5609756097561,50%,50%)\"}, \"name\": \"OUM EL BOUAGHI\", \"type\": \"box\", \"y\": [46342163.34503665, 44592468.914224185, 38756478.38533414, 42204561.91176419, 18929347.99817108, 93612671.85471627, 11732149.497700041, 33666972.33048704, 79278191.8572243, 20540069.498598035]}, {\"marker\": {\"color\": \"hsl(26.34146341463415,50%,50%)\"}, \"name\": \"BATNA\", \"type\": \"box\", \"y\": [60144294.54845041, 65651081.86871643, 22628621.304539643, 23713795.960148465, 22894209.956532054, 26005352.454151697, 52407317.911740184, 75915940.17740706, 49972999.026692785, 34514794.00331603, 36295247.112419985, 34560073.50251203, 51083693.00870026, 148049065.7433966, 27888575.933784027]}, {\"marker\": {\"color\": \"hsl(35.1219512195122,50%,50%)\"}, \"name\": \"BEJAIA\", \"type\": \"box\", \"y\": [25372662.0, 159841188.9098024, 170001606.7952558, 271924220.38113916, 139170732.47382462, 26596524.0, 9738264.0, 20039388.0, 23481726.0, 9919800.0, 26457576.0, 36400794.0, 46202331.77687583, 17690298.00088602, 16106697.002548026, 71281003.91725221, 26369821.47580032, 165523189.01726577, 148974249.01018703, 154454622.79252222, 190720726.02374196, 152680454.8909386, 105387178.01500419, 86373605.18276429, 150136981.00337628, 142824764.133125, 157433016.95269865, 185349428.0339608, 98557321.69108759, 161444482.5587414, 71724409.79332359, 36099072.4226286, 5497561.992167985]}, {\"marker\": {\"color\": \"hsl(43.90243902439025,50%,50%)\"}, \"name\": \"BISKRA\", \"type\": \"box\", \"y\": [192244802.98663178, 182134335.01348993, 213986705.06203222, 178175802.4499456, 178077308.89948526, 173335193.66812629, 193396612.0437982, 219102778.04625925, 108438621.82292566, 64374072.67088341, 66097773.95711983]}, {\"marker\": {\"color\": \"hsl(52.6829268292683,50%,50%)\"}, \"name\": \"BECHAR\", \"type\": \"box\", \"y\": [2237403.995591997, 3111699.9903479996]}, {\"marker\": {\"color\": \"hsl(61.463414634146346,50%,50%)\"}, \"name\": \"BLIDA\", \"type\": \"box\", \"y\": [198847762.03416222, 242192230.37300566, 31743599.942379747, 190333416.47465765, 126160207.52286676, 601344060.01212, 137067096.78465244, 151725311.55617276, 34511797.98938416, 150472752.66846886, 97159663.55904424]}, {\"marker\": {\"color\": \"hsl(70.2439024390244,50%,50%)\"}, \"name\": \"ALGER\", \"type\": \"box\", \"y\": [11088012.0, 7839762.0, 65850766.89371352, 2200563.9965520003, 43798693.94888679, 23217634.00938001, 60566324.89071992, 214915.999644, 134175524.2831994, 162535590.01930887, 183941194.0910952, 130859528.12356769, 277774078.0519978, 517824880.1422275, 438355349.87521327, 424513429.11306894, 428339526.1717179, 121238066.970861, 151262712.37023646, 84415453.00310399, 155251795.88403565, 132553401.97285663, 57352461.0, 135670710.00988656, 113531000.95668578, 190325041.03946516, 190409842.64983478, 132936328.09502062, 171800182.01502582, 29363868.334871978, 163234549.0310763, 150348684.03471765, 39539406.0, 173348972.0153044, 178419714.07389596, 203782833.02696243, 394477634.03232914, 226488498.24418536, 330416560.1665548, 313954176.02584475, 272829934.04829323, 142471788.01022393, 387321815.1552976, 92441409.997464, 63223319.99813974, 52652184.99686393, 255917.0, 68407219.98166399, 54576447.9990239, 199608145.02627677, 106443249.57869765, 54582585.99803985, 317581.99933200004, 138138242.86762136, 158752975.09938797, 193287889.01936212, 167865047.35564077, 185012102.05323932, 155795273.36659062, 98908631.99737218, 93500682.99451222, 99935580.97670062, 138912695.55291212, 83247391.997336, 173703426.05600354, 80207781.99904798, 78100018.95205219, 123089402.03496192, 136313930.04178748, 133645154.03822981, 138242783.04845232, 320424310.04462254, 86260217.99864398, 59163793.00061993, 201629840.02884609, 109020036.99940805, 118545444.00460812, 122623020.00103235, 68848172.00182797, 200397043.0281127, 207468231.03775942, 216184634.01341182, 184068824.82166594, 126455603.16771144, 580154065.1298461, 123736439.99973246, 109838423.99911223, 53483849.31227126, 116273043.78882086, 55213329.87364208, 46791846.89344815, 73807093.81276844, 52020624.00199185, 52386619.002219915, 46072218.00296385, 56627836.00405168, 304555709.9958196, 34246526.914264895, 19204414.667916015, 44713092.93273297, 33931283.140864596, 31694253.58964373, 29164639.92446469, 25928488.600755583, 26971427.557384014, 22928732.779652026, 21648068.223328013, 20022169.889392022, 84286743.99799998, 82756592.00015996, 80171201.11050802, 77542561.99829601]}, {\"marker\": {\"color\": \"hsl(79.02439024390245,50%,50%)\"}, \"name\": \"BOUIRA\", \"type\": \"box\", \"y\": [8332554.0, 197495025.93120268, 160025679.24339348, 178257748.03932625, 142255137.33936083, 105190781.11126031, 69356726.87601899, 10529010.550048048, 133107681.00091314]}, {\"marker\": {\"color\": \"hsl(87.8048780487805,50%,50%)\"}, \"name\": \"TEBESSA\", \"type\": \"box\", \"y\": [52476793.864788, 50892431.86186819, 57312475.854288265, 52612493.8810561, 32146901.997696105, 26872077.997572057, 92196925.72106451]}, {\"marker\": {\"color\": \"hsl(96.58536585365854,50%,50%)\"}, \"name\": \"TLEMCEN\", \"type\": \"box\", \"y\": [46927685.881147705, 55736574.87671571, 60532699.80563519, 29863398.005632117, 40380524.0055957, 122091555.68571693, 150779025.56930482, 27229415.00254816]}, {\"marker\": {\"color\": \"hsl(105.3658536585366,50%,50%)\"}, \"name\": \"TIARET\", \"type\": \"box\", \"y\": [67803179.86619931, 51057477.89609899, 55625407.88735856, 6936629.116208009]}, {\"marker\": {\"color\": \"hsl(114.14634146341464,50%,50%)\"}, \"name\": \"TIZI OUZOU\", \"type\": \"box\", \"y\": [179107939.03255165, 145165720.01144835, 215261610.02813897, 75428460.00724761, 36370554.00224397, 248721106.01599887, 208416966.02867717, 179958719.991758, 118905916.00392564, 190182547.34342143, 153740302.04342392, 169345768.01251268, 188810552.02535513, 92568168.01143987, 33205958.005188037, 30339474.003216024, 10489663.999336015, 1516794.0009599992]}, {\"marker\": {\"color\": \"hsl(122.92682926829269,50%,50%)\"}, \"name\": \"DJELFA\", \"type\": \"box\", \"y\": [136651882.02157462, 138143606.01466662, 240809648.1031778, 112913922.01068199]}, {\"marker\": {\"color\": \"hsl(131.70731707317074,50%,50%)\"}, \"name\": \"JIJEL\", \"type\": \"box\", \"y\": [153048063.0203504, 176807756.00684065, 175896215.01424444, 160401773.0111899, 284099284.73877037, 135154612.89174426, 22884627.889708024, 15361523.43896001]}, {\"marker\": {\"color\": \"hsl(140.4878048780488,50%,50%)\"}, \"name\": \"SETIF\", \"type\": \"box\", \"y\": [183948596.03865424, 238535759.98023874, 232455226.02484068, 199769746.00689954, 258318951.98486564, 265050660.0299437, 377117480.00911, 100804714.02091217, 197597650.2962158, 112729147.81927261, 28878307.99473622, 54332633.93560818, 36818462.00299194, 26295302.00043601]}, {\"marker\": {\"color\": \"hsl(149.26829268292684,50%,50%)\"}, \"name\": \"SAIDA\", \"type\": \"box\", \"y\": [18951083.939654574, 10048943.999600008, 21017709.945270207, 28180532.593039293]}, {\"marker\": {\"color\": \"hsl(158.0487804878049,50%,50%)\"}, \"name\": \"SKIKDA\", \"type\": \"box\", \"y\": [149145476.052829, 33439111.94666401, 180672504.36720484, 62901457.85194785, 35796474.001188, 49184467.93717075, 30044981.958396703, 149289486.027199, 146634951.03935817, 175545507.039883, 102491061.00966008, 79433455.64549205, 69182546.46532358, 19895953.969092183]}, {\"marker\": {\"color\": \"hsl(166.82926829268294,50%,50%)\"}, \"name\": \"SIDI BEL ABBES\", \"type\": \"box\", \"y\": [66975153.82396718, 62158987.884110145, 63209755.789761595, 36702540.00466801, 28727357.99445613, 114928041.67917767, 5667368.001264005]}, {\"marker\": {\"color\": \"hsl(175.609756097561,50%,50%)\"}, \"name\": \"ANNABA\", \"type\": \"box\", \"y\": [176869882.05235445, 81742440.00195596, 48810356.00077191, 169066954.0325416, 162005620.04647356, 143372091.69697934, 183436844.681346, 55263336.02647203, 90391209.00144796, 89677379.50358792, 90895310.00217596, 38576583.96593796]}, {\"marker\": {\"color\": \"hsl(184.39024390243904,50%,50%)\"}, \"name\": \"GUELMA\", \"type\": \"box\", \"y\": [70025197.91606204, 86774207.00048801, 51211286.23552335, 52689017.92222654, 33595604.999556005]}, {\"marker\": {\"color\": \"hsl(193.1707317073171,50%,50%)\"}, \"name\": \"CONSTANTINE\", \"type\": \"box\", \"y\": [34761535.93361273, 33213551.44739604, 113101477.82851279, 46295317.90315279, 43406239.909716584, 30071371.963248525, 35572811.921280906, 29911696.001808036, 34455538.666584074, 48250677.97270805, 12292150.002768014, 27717155.949684806, 25393740.000348017, 19648967.962632723, 15568004.000736015, 38649281.96378405]}, {\"marker\": {\"color\": \"hsl(201.95121951219514,50%,50%)\"}, \"name\": \"MEDEA\", \"type\": \"box\", \"y\": [200878664.00534618, 145044651.99116445, 294144852.187607, 129436882.00694428, 71765920.0039438, 55497456.0015958, 58201735.89908284]}, {\"marker\": {\"color\": \"hsl(210.7317073170732,50%,50%)\"}, \"name\": \"TAMANRASSET\", \"type\": \"box\", \"y\": [999.9999960000001]}, {\"marker\": {\"color\": \"hsl(219.51219512195124,50%,50%)\"}, \"name\": \"MOSTAGHANEM\", \"type\": \"box\", \"y\": [45718205.85339644, 31891911.9742247, 101598153.72606148, 5612323.986077972, 81648199.82385053, 74122772.44438653, 34597061.005384155, 28279159.991196383, 10214271.977159977]}, {\"marker\": {\"color\": \"hsl(228.2926829268293,50%,50%)\"}, \"name\": \"M'SILA\", \"type\": \"box\", \"y\": [180878118.0230576, 207926932.04154563, 347283548.4126579, 111312862.0139283, 106976937.97938251, 26108271.99445205]}, {\"marker\": {\"color\": \"hsl(237.07317073170734,50%,50%)\"}, \"name\": \"MASCARA\", \"type\": \"box\", \"y\": [82775709.73231442, 63550619.79976105, 9957910.496596001, 19414976.01302405, 126920867.5787892]}, {\"marker\": {\"color\": \"hsl(245.85365853658539,50%,50%)\"}, \"name\": \"OUARGLA\", \"type\": \"box\", \"y\": [80440543.77387217, 69360914.02806889, 27519136.99829201, 24943525.11057203, 92585379.71406041, 19090789.943252176, 14663042.62786304, 6549699.999924, 25421973.92221187, 2161235.9997119997]}, {\"marker\": {\"color\": \"hsl(254.63414634146343,50%,50%)\"}, \"name\": \"ORAN\", \"type\": \"box\", \"y\": [56193489.833232515, 18967408.004676048, 24267962.00721607, 16464754.004328018, 93520121.73190916, 79498547.74156867, 94329029.77614099, 60428021.96712006, 18209861.997972213, 8025623.980367948, 4126563.9973799973, 60400837.82708445, 48257583.85308049, 50243705.8428606, 72508351.77217324, 73461339.81560446, 16507664.003760029, 21548236.004952043, 16388050.670215037, 291769315.4451998, 65895340.00217973, 72725989.99480778, 242174549.0488135, 266556152.12290314, 266131496.2553249, 351464604.1758616, 300388388.02944773, 345938432.1068598, 92942626.02200411, 62506944.000923775, 37864393.87652479, 37646547.20821492, 39738633.20479477, 19945849.99300804, 17659318.001928028, 15820831.995828025, 83817907.8200764, 49963951.84204799]}, {\"marker\": {\"color\": \"hsl(263.4146341463415,50%,50%)\"}, \"name\": \"RELIZANE\", \"type\": \"box\", \"y\": [19226069.95889437, 17715697.904488385, 12774683.970684089, 112614025.99674283, 122891566.0223459, 91466525.01819313, 210255472.08586738]}, {\"marker\": {\"color\": \"hsl(272.19512195121956,50%,50%)\"}, \"name\": \"BBA\", \"type\": \"box\", \"y\": [60840669.89412705, 59556402.90032356, 60896073.24581656, 58841455.9248951, 103515179.83226481, 19923790.003136005, 13173308.000700016]}, {\"marker\": {\"color\": \"hsl(280.9756097560976,50%,50%)\"}, \"name\": \"BOUMERDES\", \"type\": \"box\", \"y\": [181953850.04439914, 150770342.48491588, 173662432.38111582, 163685378.69837198, 157869885.13935104, 177237005.72325426, 318140453.9670574, 380394112.03770185, 129390339.99980466, 120807639.44229229, 133190210.21858868, 88233476.66318399, 118375091.99791268, 152310013.44178495, 262971202.18571812, 222086356.05335897, 31085305.973232143, 15969737.983487986]}, {\"marker\": {\"color\": \"hsl(289.7560975609756,50%,50%)\"}, \"name\": \"EL TAREF\", \"type\": \"box\", \"y\": [134702825.0227139, 129342564.02547942, 121230978.01750803, 92425790.00088802]}, {\"marker\": {\"color\": \"hsl(298.5365853658537,50%,50%)\"}, \"name\": \"EL OUED\", \"type\": \"box\", \"y\": [118716360.36359702, 44162231.99881193, 2775775.994688, 197964035.620812]}, {\"marker\": {\"color\": \"hsl(307.31707317073176,50%,50%)\"}, \"name\": \"KHENCHELA\", \"type\": \"box\", \"y\": [46063377.89274468, 36074977.00378398, 55931091.88619123, 254351.9994959999, 43440691.88379647, 20488142.00006401]}, {\"marker\": {\"color\": \"hsl(316.0975609756098,50%,50%)\"}, \"name\": \"SOUK AHRAS\", \"type\": \"box\", \"y\": [16972353.975144178, 27470587.458568268, 31273793.95044003, 38733628.612259395]}, {\"marker\": {\"color\": \"hsl(324.8780487804878,50%,50%)\"}, \"name\": \"TIPAZA\", \"type\": \"box\", \"y\": [214940770.0127203, 222899914.03786293, 207028525.0042713, 492645804.114302, 130880306.00917248, 151874802.0155287, 154692260.00770462]}, {\"marker\": {\"color\": \"hsl(333.6585365853659,50%,50%)\"}, \"name\": \"MILA\", \"type\": \"box\", \"y\": [159677733.97254175, 123307512.06359766, 109686988.00894484, 131859364.0358391, 38197495.93219214, 27698999.505183168, 14720673.999168037]}, {\"marker\": {\"color\": \"hsl(342.43902439024396,50%,50%)\"}, \"name\": \"AIN DEFLA\", \"type\": \"box\", \"y\": [76017809.85376783, 78632659.31146085, 74414439.67053792, 42263305.99835579, 23401229.392246757]}, {\"marker\": {\"color\": \"hsl(351.219512195122,50%,50%)\"}, \"name\": \"AIN TEMOUCHENT\", \"type\": \"box\", \"y\": [63584707.808097124, 60131159.84888806, 125191446.25192404, 26086458.003904056]}, {\"marker\": {\"color\": \"hsl(360.0,50%,50%)\"}, \"name\": \"EL MENIA\", \"type\": \"box\", \"y\": []}],\n",
       "                        {\"paper_bgcolor\": \"rgb(233,233,233)\", \"plot_bgcolor\": \"rgb(233,233,233)\", \"template\": {\"data\": {\"bar\": [{\"error_x\": {\"color\": \"#2a3f5f\"}, \"error_y\": {\"color\": \"#2a3f5f\"}, \"marker\": {\"line\": {\"color\": \"#E5ECF6\", \"width\": 0.5}}, \"type\": \"bar\"}], \"barpolar\": [{\"marker\": {\"line\": {\"color\": \"#E5ECF6\", \"width\": 0.5}}, \"type\": \"barpolar\"}], \"carpet\": [{\"aaxis\": {\"endlinecolor\": \"#2a3f5f\", \"gridcolor\": \"white\", \"linecolor\": \"white\", \"minorgridcolor\": \"white\", \"startlinecolor\": \"#2a3f5f\"}, \"baxis\": {\"endlinecolor\": \"#2a3f5f\", \"gridcolor\": \"white\", \"linecolor\": \"white\", \"minorgridcolor\": \"white\", \"startlinecolor\": \"#2a3f5f\"}, \"type\": \"carpet\"}], \"choropleth\": [{\"colorbar\": {\"outlinewidth\": 0, \"ticks\": \"\"}, \"type\": \"choropleth\"}], \"contour\": [{\"colorbar\": {\"outlinewidth\": 0, \"ticks\": \"\"}, \"colorscale\": [[0.0, \"#0d0887\"], [0.1111111111111111, \"#46039f\"], [0.2222222222222222, \"#7201a8\"], [0.3333333333333333, \"#9c179e\"], [0.4444444444444444, \"#bd3786\"], [0.5555555555555556, \"#d8576b\"], [0.6666666666666666, \"#ed7953\"], [0.7777777777777778, \"#fb9f3a\"], [0.8888888888888888, \"#fdca26\"], [1.0, \"#f0f921\"]], \"type\": \"contour\"}], \"contourcarpet\": [{\"colorbar\": {\"outlinewidth\": 0, \"ticks\": \"\"}, \"type\": \"contourcarpet\"}], \"heatmap\": [{\"colorbar\": {\"outlinewidth\": 0, \"ticks\": \"\"}, \"colorscale\": [[0.0, \"#0d0887\"], [0.1111111111111111, \"#46039f\"], [0.2222222222222222, \"#7201a8\"], [0.3333333333333333, \"#9c179e\"], [0.4444444444444444, \"#bd3786\"], [0.5555555555555556, \"#d8576b\"], [0.6666666666666666, \"#ed7953\"], [0.7777777777777778, \"#fb9f3a\"], [0.8888888888888888, \"#fdca26\"], [1.0, \"#f0f921\"]], \"type\": \"heatmap\"}], \"heatmapgl\": [{\"colorbar\": {\"outlinewidth\": 0, \"ticks\": \"\"}, \"colorscale\": [[0.0, \"#0d0887\"], [0.1111111111111111, \"#46039f\"], [0.2222222222222222, \"#7201a8\"], [0.3333333333333333, \"#9c179e\"], [0.4444444444444444, \"#bd3786\"], [0.5555555555555556, \"#d8576b\"], [0.6666666666666666, \"#ed7953\"], [0.7777777777777778, \"#fb9f3a\"], [0.8888888888888888, \"#fdca26\"], [1.0, \"#f0f921\"]], \"type\": \"heatmapgl\"}], \"histogram\": [{\"marker\": {\"colorbar\": {\"outlinewidth\": 0, \"ticks\": \"\"}}, \"type\": \"histogram\"}], \"histogram2d\": [{\"colorbar\": {\"outlinewidth\": 0, \"ticks\": \"\"}, \"colorscale\": [[0.0, \"#0d0887\"], [0.1111111111111111, \"#46039f\"], [0.2222222222222222, \"#7201a8\"], [0.3333333333333333, \"#9c179e\"], [0.4444444444444444, \"#bd3786\"], [0.5555555555555556, \"#d8576b\"], [0.6666666666666666, \"#ed7953\"], [0.7777777777777778, \"#fb9f3a\"], [0.8888888888888888, \"#fdca26\"], [1.0, \"#f0f921\"]], \"type\": \"histogram2d\"}], \"histogram2dcontour\": [{\"colorbar\": {\"outlinewidth\": 0, \"ticks\": \"\"}, \"colorscale\": [[0.0, \"#0d0887\"], [0.1111111111111111, \"#46039f\"], [0.2222222222222222, \"#7201a8\"], [0.3333333333333333, \"#9c179e\"], [0.4444444444444444, \"#bd3786\"], [0.5555555555555556, \"#d8576b\"], [0.6666666666666666, \"#ed7953\"], [0.7777777777777778, \"#fb9f3a\"], [0.8888888888888888, \"#fdca26\"], [1.0, \"#f0f921\"]], \"type\": \"histogram2dcontour\"}], \"mesh3d\": [{\"colorbar\": {\"outlinewidth\": 0, \"ticks\": \"\"}, \"type\": \"mesh3d\"}], \"parcoords\": [{\"line\": {\"colorbar\": {\"outlinewidth\": 0, \"ticks\": \"\"}}, \"type\": \"parcoords\"}], \"pie\": [{\"automargin\": true, \"type\": \"pie\"}], \"scatter\": [{\"marker\": {\"colorbar\": {\"outlinewidth\": 0, \"ticks\": \"\"}}, \"type\": \"scatter\"}], \"scatter3d\": [{\"line\": {\"colorbar\": {\"outlinewidth\": 0, \"ticks\": \"\"}}, \"marker\": {\"colorbar\": {\"outlinewidth\": 0, \"ticks\": \"\"}}, \"type\": \"scatter3d\"}], \"scattercarpet\": [{\"marker\": {\"colorbar\": {\"outlinewidth\": 0, \"ticks\": \"\"}}, \"type\": \"scattercarpet\"}], \"scattergeo\": [{\"marker\": {\"colorbar\": {\"outlinewidth\": 0, \"ticks\": \"\"}}, \"type\": \"scattergeo\"}], \"scattergl\": [{\"marker\": {\"colorbar\": {\"outlinewidth\": 0, \"ticks\": \"\"}}, \"type\": \"scattergl\"}], \"scattermapbox\": [{\"marker\": {\"colorbar\": {\"outlinewidth\": 0, \"ticks\": \"\"}}, \"type\": \"scattermapbox\"}], \"scatterpolar\": [{\"marker\": {\"colorbar\": {\"outlinewidth\": 0, \"ticks\": \"\"}}, \"type\": \"scatterpolar\"}], \"scatterpolargl\": [{\"marker\": {\"colorbar\": {\"outlinewidth\": 0, \"ticks\": \"\"}}, \"type\": \"scatterpolargl\"}], \"scatterternary\": [{\"marker\": {\"colorbar\": {\"outlinewidth\": 0, \"ticks\": \"\"}}, \"type\": \"scatterternary\"}], \"surface\": [{\"colorbar\": {\"outlinewidth\": 0, \"ticks\": \"\"}, \"colorscale\": [[0.0, \"#0d0887\"], [0.1111111111111111, \"#46039f\"], [0.2222222222222222, \"#7201a8\"], [0.3333333333333333, \"#9c179e\"], [0.4444444444444444, \"#bd3786\"], [0.5555555555555556, \"#d8576b\"], [0.6666666666666666, \"#ed7953\"], [0.7777777777777778, \"#fb9f3a\"], [0.8888888888888888, \"#fdca26\"], [1.0, \"#f0f921\"]], \"type\": \"surface\"}], \"table\": [{\"cells\": {\"fill\": {\"color\": \"#EBF0F8\"}, \"line\": {\"color\": \"white\"}}, \"header\": {\"fill\": {\"color\": \"#C8D4E3\"}, \"line\": {\"color\": \"white\"}}, \"type\": \"table\"}]}, \"layout\": {\"annotationdefaults\": {\"arrowcolor\": \"#2a3f5f\", \"arrowhead\": 0, \"arrowwidth\": 1}, \"coloraxis\": {\"colorbar\": {\"outlinewidth\": 0, \"ticks\": \"\"}}, \"colorscale\": {\"diverging\": [[0, \"#8e0152\"], [0.1, \"#c51b7d\"], [0.2, \"#de77ae\"], [0.3, \"#f1b6da\"], [0.4, \"#fde0ef\"], [0.5, \"#f7f7f7\"], [0.6, \"#e6f5d0\"], [0.7, \"#b8e186\"], [0.8, \"#7fbc41\"], [0.9, \"#4d9221\"], [1, \"#276419\"]], \"sequential\": [[0.0, \"#0d0887\"], [0.1111111111111111, \"#46039f\"], [0.2222222222222222, \"#7201a8\"], [0.3333333333333333, \"#9c179e\"], [0.4444444444444444, \"#bd3786\"], [0.5555555555555556, \"#d8576b\"], [0.6666666666666666, \"#ed7953\"], [0.7777777777777778, \"#fb9f3a\"], [0.8888888888888888, \"#fdca26\"], [1.0, \"#f0f921\"]], \"sequentialminus\": [[0.0, \"#0d0887\"], [0.1111111111111111, \"#46039f\"], [0.2222222222222222, \"#7201a8\"], [0.3333333333333333, \"#9c179e\"], [0.4444444444444444, \"#bd3786\"], [0.5555555555555556, \"#d8576b\"], [0.6666666666666666, \"#ed7953\"], [0.7777777777777778, \"#fb9f3a\"], [0.8888888888888888, \"#fdca26\"], [1.0, \"#f0f921\"]]}, \"colorway\": [\"#636efa\", \"#EF553B\", \"#00cc96\", \"#ab63fa\", \"#FFA15A\", \"#19d3f3\", \"#FF6692\", \"#B6E880\", \"#FF97FF\", \"#FECB52\"], \"font\": {\"color\": \"#2a3f5f\"}, \"geo\": {\"bgcolor\": \"white\", \"lakecolor\": \"white\", \"landcolor\": \"#E5ECF6\", \"showlakes\": true, \"showland\": true, \"subunitcolor\": \"white\"}, \"hoverlabel\": {\"align\": \"left\"}, \"hovermode\": \"closest\", \"mapbox\": {\"style\": \"light\"}, \"paper_bgcolor\": \"white\", \"plot_bgcolor\": \"#E5ECF6\", \"polar\": {\"angularaxis\": {\"gridcolor\": \"white\", \"linecolor\": \"white\", \"ticks\": \"\"}, \"bgcolor\": \"#E5ECF6\", \"radialaxis\": {\"gridcolor\": \"white\", \"linecolor\": \"white\", \"ticks\": \"\"}}, \"scene\": {\"xaxis\": {\"backgroundcolor\": \"#E5ECF6\", \"gridcolor\": \"white\", \"gridwidth\": 2, \"linecolor\": \"white\", \"showbackground\": true, \"ticks\": \"\", \"zerolinecolor\": \"white\"}, \"yaxis\": {\"backgroundcolor\": \"#E5ECF6\", \"gridcolor\": \"white\", \"gridwidth\": 2, \"linecolor\": \"white\", \"showbackground\": true, \"ticks\": \"\", \"zerolinecolor\": \"white\"}, \"zaxis\": {\"backgroundcolor\": \"#E5ECF6\", \"gridcolor\": \"white\", \"gridwidth\": 2, \"linecolor\": \"white\", \"showbackground\": true, \"ticks\": \"\", \"zerolinecolor\": \"white\"}}, \"shapedefaults\": {\"line\": {\"color\": \"#2a3f5f\"}}, \"ternary\": {\"aaxis\": {\"gridcolor\": \"white\", \"linecolor\": \"white\", \"ticks\": \"\"}, \"baxis\": {\"gridcolor\": \"white\", \"linecolor\": \"white\", \"ticks\": \"\"}, \"bgcolor\": \"#E5ECF6\", \"caxis\": {\"gridcolor\": \"white\", \"linecolor\": \"white\", \"ticks\": \"\"}}, \"title\": {\"x\": 0.05}, \"xaxis\": {\"automargin\": true, \"gridcolor\": \"white\", \"linecolor\": \"white\", \"ticks\": \"\", \"title\": {\"standoff\": 15}, \"zerolinecolor\": \"white\", \"zerolinewidth\": 2}, \"yaxis\": {\"automargin\": true, \"gridcolor\": \"white\", \"linecolor\": \"white\", \"ticks\": \"\", \"title\": {\"standoff\": 15}, \"zerolinecolor\": \"white\", \"zerolinewidth\": 2}}}, \"xaxis\": {\"showgrid\": false, \"showticklabels\": false, \"zeroline\": false}, \"yaxis\": {\"gridcolor\": \"white\", \"zeroline\": false}},\n",
       "                        {\"responsive\": true}\n",
       "                    ).then(function(){\n",
       "                            \n",
       "var gd = document.getElementById('e1ef4d01-98d7-4944-bb99-e81a92a3170e');\n",
       "var x = new MutationObserver(function (mutations, observer) {{\n",
       "        var display = window.getComputedStyle(gd).display;\n",
       "        if (!display || display === 'none') {{\n",
       "            console.log([gd, 'removed!']);\n",
       "            Plotly.purge(gd);\n",
       "            observer.disconnect();\n",
       "        }}\n",
       "}});\n",
       "\n",
       "// Listen for the removal of the full notebook cells\n",
       "var notebookContainer = gd.closest('#notebook-container');\n",
       "if (notebookContainer) {{\n",
       "    x.observe(notebookContainer, {childList: true});\n",
       "}}\n",
       "\n",
       "// Listen for the clearing of the current output cell\n",
       "var outputEl = gd.closest('.output');\n",
       "if (outputEl) {{\n",
       "    x.observe(outputEl, {childList: true});\n",
       "}}\n",
       "\n",
       "                        })\n",
       "                };\n",
       "                });\n",
       "            </script>\n",
       "        </div>"
      ]
     },
     "metadata": {},
     "output_type": "display_data"
    }
   ],
   "source": [
    "N = len(sectorDict.keys())     # Number of boxes\n",
    "c = ['hsl('+str(h)+',50%'+',50%)' for h in np.linspace(0, 360, N)] #colors\n",
    "\n",
    "fig = go.Figure(data=[go.Box(\n",
    "    y= myData2[myData2[\"REGION NAME\"]==list(sectorDict.keys())[i]].groupby([\"VENDOR\"])[\"TURNOVER\"].sum().tolist(),\n",
    "    marker_color=c[i],\n",
    "    name=list(sectorDict.keys())[i],\n",
    "    ) for i in range(N)])\n",
    "\n",
    "# format the layout\n",
    "fig.update_layout(\n",
    "    xaxis=dict(showgrid=False, zeroline=False, showticklabels=False),\n",
    "    yaxis=dict(zeroline=False, gridcolor='white'),\n",
    "    paper_bgcolor='rgb(233,233,233)',\n",
    "    plot_bgcolor='rgb(233,233,233)',\n",
    ")\n",
    "\n",
    "fig.show()"
   ]
  },
  {
   "cell_type": "markdown",
   "metadata": {},
   "source": [
    "### Granularité : client par secteur"
   ]
  },
  {
   "cell_type": "code",
   "execution_count": 145,
   "metadata": {},
   "outputs": [],
   "source": [
    "def ClientDisp(region,choix):\n",
    "    df = myData2[myData2[\"REGION NAME\"]==\"ALGER\"].groupby([\"VENDOR\",\"SECTOR NAME\"]).sum().reset_index()\n",
    "    fig = px.box(df, x=\"SECTOR NAME\", y=choix, points=\"all\",color = \"SECTOR NAME\")\n",
    "    fig = go.Figure(data=fig)\n",
    "    pyo.iplot(fig)"
   ]
  },
  {
   "cell_type": "code",
   "execution_count": 126,
   "metadata": {},
   "outputs": [
    {
     "data": {
      "application/vnd.jupyter.widget-view+json": {
       "model_id": "2a6bb502645a4b25862b776c29b1a607",
       "version_major": 2,
       "version_minor": 0
      },
      "text/plain": [
       "interactive(children=(SelectMultiple(description='Region', index=(8,), options=('CHLEF', 'LAGHOUAT', 'OUM EL B…"
      ]
     },
     "metadata": {},
     "output_type": "display_data"
    }
   ],
   "source": [
    "region_name = widgets.SelectMultiple(\n",
    "    options=list(sectorDict.keys()),\n",
    "    value=[\"ALGER\"],\n",
    "    rows=4,\n",
    "    description='Region',\n",
    "    disabled=False\n",
    ")\n",
    "\n",
    "choix = widgets.RadioButtons(\n",
    "    options=['TURNOVER', 'DISCOUNT'],\n",
    "    value='TURNOVER', # Defaults to turnover\n",
    "    layout={'width': 'max-content'}, \n",
    "    description='Mode:',\n",
    "    disabled=False\n",
    ")\n",
    "\n",
    "widgets.interactive(ClientDisp,region=region_name,choix=choix)"
   ]
  },
  {
   "cell_type": "code",
   "execution_count": null,
   "metadata": {},
   "outputs": [],
   "source": []
  }
 ],
 "metadata": {
  "kernelspec": {
   "display_name": "Python 3",
   "language": "python",
   "name": "python3"
  },
  "language_info": {
   "codemirror_mode": {
    "name": "ipython",
    "version": 3
   },
   "file_extension": ".py",
   "mimetype": "text/x-python",
   "name": "python",
   "nbconvert_exporter": "python",
   "pygments_lexer": "ipython3",
   "version": "3.7.6"
  }
 },
 "nbformat": 4,
 "nbformat_minor": 4
}

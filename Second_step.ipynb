{
 "cells": [
  {
   "cell_type": "code",
   "execution_count": 1,
   "metadata": {},
   "outputs": [],
   "source": [
    "import pandas as pd\n",
    "import matplotlib.pyplot as plt\n",
    "import plotly.offline as pyo\n",
    "import numpy as np\n",
    "import os\n",
    "from tqdm.notebook import tqdm"
   ]
  },
  {
   "cell_type": "code",
   "execution_count": 2,
   "metadata": {},
   "outputs": [],
   "source": [
    "file_lenght=-len(os.path.abspath(\".\").split(\"\\\\\")[-1])\n",
    "csv_path =  os.path.abspath(\".\")[:file_lenght]+\"Data\\\\\""
   ]
  },
  {
   "cell_type": "code",
   "execution_count": 4,
   "metadata": {},
   "outputs": [
    {
     "name": "stderr",
     "output_type": "stream",
     "text": [
      "E:\\user\\anaconda\\envs\\Forecasting_sales\\lib\\site-packages\\numpy\\lib\\arraysetops.py:569: FutureWarning:\n",
      "\n",
      "elementwise comparison failed; returning scalar instead, but in the future will perform elementwise comparison\n",
      "\n"
     ]
    },
    {
     "data": {
      "text/html": [
       "<div>\n",
       "<style scoped>\n",
       "    .dataframe tbody tr th:only-of-type {\n",
       "        vertical-align: middle;\n",
       "    }\n",
       "\n",
       "    .dataframe tbody tr th {\n",
       "        vertical-align: top;\n",
       "    }\n",
       "\n",
       "    .dataframe thead th {\n",
       "        text-align: right;\n",
       "    }\n",
       "</style>\n",
       "<table border=\"1\" class=\"dataframe\">\n",
       "  <thead>\n",
       "    <tr style=\"text-align: right;\">\n",
       "      <th></th>\n",
       "      <th>ITINERARY_CODE</th>\n",
       "      <th>ITINERARY_NAME</th>\n",
       "      <th>PARTNER_CODE</th>\n",
       "      <th>PARTNERCATEGORY_CODE</th>\n",
       "      <th>PARTNERCATEGORYTYPE_CODE</th>\n",
       "      <th>VENDOR</th>\n",
       "      <th>SECTOR CODE</th>\n",
       "      <th>SECTOR NAME</th>\n",
       "      <th>REGION CODE</th>\n",
       "      <th>REGION NAME</th>\n",
       "      <th>...</th>\n",
       "      <th>UNITPRICE</th>\n",
       "      <th>SOLD QUANTITY</th>\n",
       "      <th>TURNOVER</th>\n",
       "      <th>DISCOUNT</th>\n",
       "      <th>GREGORIAN_DATE</th>\n",
       "      <th>HOLIDAY</th>\n",
       "      <th>SCOLAR_HOLIDAY</th>\n",
       "      <th>ISLAM_EVENT</th>\n",
       "      <th>TEMPERATURE</th>\n",
       "      <th>HUMIDITY</th>\n",
       "    </tr>\n",
       "  </thead>\n",
       "  <tbody>\n",
       "    <tr>\n",
       "      <th>0</th>\n",
       "      <td>S02001</td>\n",
       "      <td>Samedi, Centre ville 1</td>\n",
       "      <td>02/0002</td>\n",
       "      <td>M</td>\n",
       "      <td>M</td>\n",
       "      <td>R0201</td>\n",
       "      <td>201</td>\n",
       "      <td>EURL ADEMLAIT-CHLEF</td>\n",
       "      <td>2</td>\n",
       "      <td>CHLEF</td>\n",
       "      <td>...</td>\n",
       "      <td>88.000000</td>\n",
       "      <td>12.0</td>\n",
       "      <td>1056.000000</td>\n",
       "      <td>0.0</td>\n",
       "      <td>2017-11-25</td>\n",
       "      <td>0</td>\n",
       "      <td>0</td>\n",
       "      <td>None</td>\n",
       "      <td>55.59</td>\n",
       "      <td>0.54</td>\n",
       "    </tr>\n",
       "    <tr>\n",
       "      <th>1</th>\n",
       "      <td>S02001</td>\n",
       "      <td>Samedi, Centre ville 1</td>\n",
       "      <td>02/0004</td>\n",
       "      <td>GM</td>\n",
       "      <td>GM</td>\n",
       "      <td>R0201</td>\n",
       "      <td>201</td>\n",
       "      <td>EURL ADEMLAIT-CHLEF</td>\n",
       "      <td>2</td>\n",
       "      <td>CHLEF</td>\n",
       "      <td>...</td>\n",
       "      <td>83.333333</td>\n",
       "      <td>36.0</td>\n",
       "      <td>2999.999988</td>\n",
       "      <td>0.0</td>\n",
       "      <td>2017-11-25</td>\n",
       "      <td>0</td>\n",
       "      <td>0</td>\n",
       "      <td>None</td>\n",
       "      <td>55.59</td>\n",
       "      <td>0.54</td>\n",
       "    </tr>\n",
       "    <tr>\n",
       "      <th>2</th>\n",
       "      <td>S02001</td>\n",
       "      <td>Samedi, Centre ville 1</td>\n",
       "      <td>02/0004</td>\n",
       "      <td>GM</td>\n",
       "      <td>GM</td>\n",
       "      <td>R0201</td>\n",
       "      <td>201</td>\n",
       "      <td>EURL ADEMLAIT-CHLEF</td>\n",
       "      <td>2</td>\n",
       "      <td>CHLEF</td>\n",
       "      <td>...</td>\n",
       "      <td>88.000000</td>\n",
       "      <td>36.0</td>\n",
       "      <td>3168.000000</td>\n",
       "      <td>0.0</td>\n",
       "      <td>2017-11-25</td>\n",
       "      <td>0</td>\n",
       "      <td>0</td>\n",
       "      <td>None</td>\n",
       "      <td>55.59</td>\n",
       "      <td>0.54</td>\n",
       "    </tr>\n",
       "    <tr>\n",
       "      <th>3</th>\n",
       "      <td>S02001</td>\n",
       "      <td>Samedi, Centre ville 1</td>\n",
       "      <td>02/0005</td>\n",
       "      <td>M</td>\n",
       "      <td>M</td>\n",
       "      <td>R0201</td>\n",
       "      <td>201</td>\n",
       "      <td>EURL ADEMLAIT-CHLEF</td>\n",
       "      <td>2</td>\n",
       "      <td>CHLEF</td>\n",
       "      <td>...</td>\n",
       "      <td>45.000000</td>\n",
       "      <td>12.0</td>\n",
       "      <td>540.000000</td>\n",
       "      <td>0.0</td>\n",
       "      <td>2017-11-25</td>\n",
       "      <td>0</td>\n",
       "      <td>0</td>\n",
       "      <td>None</td>\n",
       "      <td>55.59</td>\n",
       "      <td>0.54</td>\n",
       "    </tr>\n",
       "    <tr>\n",
       "      <th>4</th>\n",
       "      <td>S02001</td>\n",
       "      <td>Samedi, Centre ville 1</td>\n",
       "      <td>02/0006</td>\n",
       "      <td>M</td>\n",
       "      <td>M</td>\n",
       "      <td>R0201</td>\n",
       "      <td>201</td>\n",
       "      <td>EURL ADEMLAIT-CHLEF</td>\n",
       "      <td>2</td>\n",
       "      <td>CHLEF</td>\n",
       "      <td>...</td>\n",
       "      <td>45.000000</td>\n",
       "      <td>24.0</td>\n",
       "      <td>1080.000000</td>\n",
       "      <td>0.0</td>\n",
       "      <td>2017-11-25</td>\n",
       "      <td>0</td>\n",
       "      <td>0</td>\n",
       "      <td>None</td>\n",
       "      <td>55.59</td>\n",
       "      <td>0.54</td>\n",
       "    </tr>\n",
       "  </tbody>\n",
       "</table>\n",
       "<p>5 rows × 23 columns</p>\n",
       "</div>"
      ],
      "text/plain": [
       "  ITINERARY_CODE          ITINERARY_NAME PARTNER_CODE PARTNERCATEGORY_CODE  \\\n",
       "0         S02001  Samedi, Centre ville 1      02/0002                    M   \n",
       "1         S02001  Samedi, Centre ville 1      02/0004                   GM   \n",
       "2         S02001  Samedi, Centre ville 1      02/0004                   GM   \n",
       "3         S02001  Samedi, Centre ville 1      02/0005                    M   \n",
       "4         S02001  Samedi, Centre ville 1      02/0006                    M   \n",
       "\n",
       "  PARTNERCATEGORYTYPE_CODE VENDOR  SECTOR CODE          SECTOR NAME  \\\n",
       "0                        M  R0201          201  EURL ADEMLAIT-CHLEF   \n",
       "1                       GM  R0201          201  EURL ADEMLAIT-CHLEF   \n",
       "2                       GM  R0201          201  EURL ADEMLAIT-CHLEF   \n",
       "3                        M  R0201          201  EURL ADEMLAIT-CHLEF   \n",
       "4                        M  R0201          201  EURL ADEMLAIT-CHLEF   \n",
       "\n",
       "   REGION CODE REGION NAME  ...  UNITPRICE SOLD QUANTITY     TURNOVER  \\\n",
       "0            2       CHLEF  ...  88.000000          12.0  1056.000000   \n",
       "1            2       CHLEF  ...  83.333333          36.0  2999.999988   \n",
       "2            2       CHLEF  ...  88.000000          36.0  3168.000000   \n",
       "3            2       CHLEF  ...  45.000000          12.0   540.000000   \n",
       "4            2       CHLEF  ...  45.000000          24.0  1080.000000   \n",
       "\n",
       "   DISCOUNT  GREGORIAN_DATE  HOLIDAY  SCOLAR_HOLIDAY ISLAM_EVENT  TEMPERATURE  \\\n",
       "0       0.0      2017-11-25        0               0        None        55.59   \n",
       "1       0.0      2017-11-25        0               0        None        55.59   \n",
       "2       0.0      2017-11-25        0               0        None        55.59   \n",
       "3       0.0      2017-11-25        0               0        None        55.59   \n",
       "4       0.0      2017-11-25        0               0        None        55.59   \n",
       "\n",
       "   HUMIDITY  \n",
       "0      0.54  \n",
       "1      0.54  \n",
       "2      0.54  \n",
       "3      0.54  \n",
       "4      0.54  \n",
       "\n",
       "[5 rows x 23 columns]"
      ]
     },
     "execution_count": 4,
     "metadata": {},
     "output_type": "execute_result"
    }
   ],
   "source": [
    "myData = pd.read_csv(csv_path+\"Updated_Data_2.csv\",header=0,engine='c',index_col=[0],low_memory=False)\n",
    "myData.head()"
   ]
  },
  {
   "cell_type": "markdown",
   "metadata": {},
   "source": [
    "<h4>Detail about our Data and optimize the reading process for quick interactions</h4>"
   ]
  },
  {
   "cell_type": "code",
   "execution_count": 14,
   "metadata": {},
   "outputs": [
    {
     "name": "stdout",
     "output_type": "stream",
     "text": [
      "<class 'pandas.core.frame.DataFrame'>\n",
      "Int64Index: 15692870 entries, 0 to 15692869\n",
      "Data columns (total 23 columns):\n",
      " #   Column                    Dtype  \n",
      "---  ------                    -----  \n",
      " 0   ITINERARY_CODE            object \n",
      " 1   ITINERARY_NAME            object \n",
      " 2   PARTNER_CODE              object \n",
      " 3   PARTNERCATEGORY_CODE      object \n",
      " 4   PARTNERCATEGORYTYPE_CODE  object \n",
      " 5   VENDOR                    object \n",
      " 6   SECTOR CODE               int64  \n",
      " 7   SECTOR NAME               object \n",
      " 8   REGION CODE               int64  \n",
      " 9   REGION NAME               object \n",
      " 10  PRODUCT_CODE              object \n",
      " 11  PRODUCT_NAME              object \n",
      " 12  PRODUCTPAGE_CODE          object \n",
      " 13  UNITPRICE                 float64\n",
      " 14  SOLD QUANTITY             float64\n",
      " 15  TURNOVER                  float64\n",
      " 16  DISCOUNT                  float64\n",
      " 17  GREGORIAN_DATE            object \n",
      " 18  HOLIDAY                   int64  \n",
      " 19  SCOLAR_HOLIDAY            int64  \n",
      " 20  ISLAM_EVENT               object \n",
      " 21  TEMPERATURE               float64\n",
      " 22  HUMIDITY                  float64\n",
      "dtypes: float64(6), int64(4), object(13)\n",
      "memory usage: 2.8+ GB\n"
     ]
    }
   ],
   "source": [
    "myData.info() #first look"
   ]
  },
  {
   "cell_type": "code",
   "execution_count": 15,
   "metadata": {
    "scrolled": true
   },
   "outputs": [
    {
     "name": "stdout",
     "output_type": "stream",
     "text": [
      "<class 'pandas.core.frame.DataFrame'>\n",
      "Int64Index: 15692870 entries, 0 to 15692869\n",
      "Data columns (total 23 columns):\n",
      " #   Column                    Dtype  \n",
      "---  ------                    -----  \n",
      " 0   ITINERARY_CODE            object \n",
      " 1   ITINERARY_NAME            object \n",
      " 2   PARTNER_CODE              object \n",
      " 3   PARTNERCATEGORY_CODE      object \n",
      " 4   PARTNERCATEGORYTYPE_CODE  object \n",
      " 5   VENDOR                    object \n",
      " 6   SECTOR CODE               int64  \n",
      " 7   SECTOR NAME               object \n",
      " 8   REGION CODE               int64  \n",
      " 9   REGION NAME               object \n",
      " 10  PRODUCT_CODE              object \n",
      " 11  PRODUCT_NAME              object \n",
      " 12  PRODUCTPAGE_CODE          object \n",
      " 13  UNITPRICE                 float64\n",
      " 14  SOLD QUANTITY             float64\n",
      " 15  TURNOVER                  float64\n",
      " 16  DISCOUNT                  float64\n",
      " 17  GREGORIAN_DATE            object \n",
      " 18  HOLIDAY                   int64  \n",
      " 19  SCOLAR_HOLIDAY            int64  \n",
      " 20  ISLAM_EVENT               object \n",
      " 21  TEMPERATURE               float64\n",
      " 22  HUMIDITY                  float64\n",
      "dtypes: float64(6), int64(4), object(13)\n",
      "memory usage: 14.0 GB\n"
     ]
    }
   ],
   "source": [
    "myData.info(memory_usage='deep') #deep look"
   ]
  },
  {
   "cell_type": "code",
   "execution_count": null,
   "metadata": {},
   "outputs": [],
   "source": [
    "for c in myData:\n",
    "    k=myData[str(c)].unique()\n",
    "    if len(k)<60 and str(c): #our data is composed of 15 million rows (category of 60 element is still saving memory usage)\n",
    "        myData[str(c)]=myData[str(c)].astype(\"category\")"
   ]
  },
  {
   "cell_type": "code",
   "execution_count": 17,
   "metadata": {
    "scrolled": true
   },
   "outputs": [
    {
     "name": "stdout",
     "output_type": "stream",
     "text": [
      "<class 'pandas.core.frame.DataFrame'>\n",
      "Int64Index: 15692870 entries, 0 to 15692869\n",
      "Data columns (total 23 columns):\n",
      " #   Column                    Dtype   \n",
      "---  ------                    -----   \n",
      " 0   ITINERARY_CODE            object  \n",
      " 1   ITINERARY_NAME            object  \n",
      " 2   PARTNER_CODE              object  \n",
      " 3   PARTNERCATEGORY_CODE      category\n",
      " 4   PARTNERCATEGORYTYPE_CODE  category\n",
      " 5   VENDOR                    object  \n",
      " 6   SECTOR CODE               int64   \n",
      " 7   SECTOR NAME               object  \n",
      " 8   REGION CODE               category\n",
      " 9   REGION NAME               category\n",
      " 10  PRODUCT_CODE              category\n",
      " 11  PRODUCT_NAME              category\n",
      " 12  PRODUCTPAGE_CODE          category\n",
      " 13  UNITPRICE                 category\n",
      " 14  SOLD QUANTITY             float64 \n",
      " 15  TURNOVER                  float64 \n",
      " 16  DISCOUNT                  float64 \n",
      " 17  GREGORIAN_DATE            object  \n",
      " 18  HOLIDAY                   category\n",
      " 19  SCOLAR_HOLIDAY            category\n",
      " 20  ISLAM_EVENT               category\n",
      " 21  TEMPERATURE               float64 \n",
      " 22  HUMIDITY                  float64 \n",
      "dtypes: category(11), float64(5), int64(1), object(6)\n",
      "memory usage: 7.0 GB\n"
     ]
    }
   ],
   "source": [
    "myData.info(memory_usage='deep') #result"
   ]
  },
  {
   "cell_type": "markdown",
   "metadata": {},
   "source": [
    "<p>We saved <b>7.0 GB</b> of memory</p>"
   ]
  },
  {
   "cell_type": "markdown",
   "metadata": {},
   "source": [
    "<h2>Time series plot</h2>\n",
    "<ul>\n",
    "    <li>Daily Revenue all clients & all sectors (chiffre affaire par jour)</li>\n",
    "    <li>Daily Revenue all product per sector (MCA par jour de tout produit par secteur)</li>\n",
    "    <li>Daily Revenue all clients per Product range (MCA par jour selon la gamme produit de tout clients)</li>\n",
    "</ul>\n",
    "\n",
    "### Parameters as Daily-Monthly Progress, Menu Gamme Produit, Secteur-Region"
   ]
  },
  {
   "cell_type": "markdown",
   "metadata": {},
   "source": [
    "<h4>Daily Revenue all clients & all sectors (chiffre affaire par jour)</h4>"
   ]
  },
  {
   "cell_type": "code",
   "execution_count": 3,
   "metadata": {
    "scrolled": true
   },
   "outputs": [
    {
     "data": {
      "text/html": [
       "<div>\n",
       "<style scoped>\n",
       "    .dataframe tbody tr th:only-of-type {\n",
       "        vertical-align: middle;\n",
       "    }\n",
       "\n",
       "    .dataframe tbody tr th {\n",
       "        vertical-align: top;\n",
       "    }\n",
       "\n",
       "    .dataframe thead th {\n",
       "        text-align: right;\n",
       "    }\n",
       "</style>\n",
       "<table border=\"1\" class=\"dataframe\">\n",
       "  <thead>\n",
       "    <tr style=\"text-align: right;\">\n",
       "      <th></th>\n",
       "      <th>SECTOR NAME</th>\n",
       "      <th>REGION NAME</th>\n",
       "      <th>PRODUCT_NAME</th>\n",
       "      <th>PRODUCTPAGE_CODE</th>\n",
       "      <th>TURNOVER</th>\n",
       "      <th>DISCOUNT</th>\n",
       "      <th>GREGORIAN_DATE</th>\n",
       "    </tr>\n",
       "  </thead>\n",
       "  <tbody>\n",
       "    <tr>\n",
       "      <th>0</th>\n",
       "      <td>EURL ADEMLAIT-CHLEF</td>\n",
       "      <td>CHLEF</td>\n",
       "      <td>ENTIER</td>\n",
       "      <td>Laits Blancs</td>\n",
       "      <td>1056.000000</td>\n",
       "      <td>0.0</td>\n",
       "      <td>2017-11-25</td>\n",
       "    </tr>\n",
       "    <tr>\n",
       "      <th>1</th>\n",
       "      <td>EURL ADEMLAIT-CHLEF</td>\n",
       "      <td>CHLEF</td>\n",
       "      <td>DE 1L</td>\n",
       "      <td>Laits Blancs</td>\n",
       "      <td>2999.999988</td>\n",
       "      <td>0.0</td>\n",
       "      <td>2017-11-25</td>\n",
       "    </tr>\n",
       "    <tr>\n",
       "      <th>2</th>\n",
       "      <td>EURL ADEMLAIT-CHLEF</td>\n",
       "      <td>CHLEF</td>\n",
       "      <td>VIVA</td>\n",
       "      <td>Laits Blancs</td>\n",
       "      <td>3168.000000</td>\n",
       "      <td>0.0</td>\n",
       "      <td>2017-11-25</td>\n",
       "    </tr>\n",
       "    <tr>\n",
       "      <th>3</th>\n",
       "      <td>EURL ADEMLAIT-CHLEF</td>\n",
       "      <td>CHLEF</td>\n",
       "      <td>DE 50CL</td>\n",
       "      <td>Laits Blancs</td>\n",
       "      <td>540.000000</td>\n",
       "      <td>0.0</td>\n",
       "      <td>2017-11-25</td>\n",
       "    </tr>\n",
       "    <tr>\n",
       "      <th>4</th>\n",
       "      <td>EURL ADEMLAIT-CHLEF</td>\n",
       "      <td>CHLEF</td>\n",
       "      <td>DE 50CL</td>\n",
       "      <td>Laits Blancs</td>\n",
       "      <td>1080.000000</td>\n",
       "      <td>0.0</td>\n",
       "      <td>2017-11-25</td>\n",
       "    </tr>\n",
       "  </tbody>\n",
       "</table>\n",
       "</div>"
      ],
      "text/plain": [
       "           SECTOR NAME REGION NAME PRODUCT_NAME PRODUCTPAGE_CODE     TURNOVER  \\\n",
       "0  EURL ADEMLAIT-CHLEF       CHLEF       ENTIER     Laits Blancs  1056.000000   \n",
       "1  EURL ADEMLAIT-CHLEF       CHLEF        DE 1L     Laits Blancs  2999.999988   \n",
       "2  EURL ADEMLAIT-CHLEF       CHLEF         VIVA     Laits Blancs  3168.000000   \n",
       "3  EURL ADEMLAIT-CHLEF       CHLEF      DE 50CL     Laits Blancs   540.000000   \n",
       "4  EURL ADEMLAIT-CHLEF       CHLEF      DE 50CL     Laits Blancs  1080.000000   \n",
       "\n",
       "   DISCOUNT GREGORIAN_DATE  \n",
       "0       0.0     2017-11-25  \n",
       "1       0.0     2017-11-25  \n",
       "2       0.0     2017-11-25  \n",
       "3       0.0     2017-11-25  \n",
       "4       0.0     2017-11-25  "
      ]
     },
     "execution_count": 3,
     "metadata": {},
     "output_type": "execute_result"
    }
   ],
   "source": [
    "cols=[\"SECTOR NAME\",\"REGION NAME\",\"PRODUCT_NAME\",\"PRODUCTPAGE_CODE\",\"TURNOVER\",\"DISCOUNT\",\"GREGORIAN_DATE\"]\n",
    "types={\"SECTOR NAME\": \"category\",\"REGION NAME\": \"category\",\"PRODUCT_NAME\": \"category\",\"PRODUCTPAGE_CODE\": \"category\"}\n",
    "myData = pd.read_csv(csv_path+\"Updated_Data_2.csv\",header=0,engine='c',usecols=cols,low_memory=False)\n",
    "myData.head()"
   ]
  },
  {
   "cell_type": "code",
   "execution_count": 5,
   "metadata": {},
   "outputs": [
    {
     "name": "stdout",
     "output_type": "stream",
     "text": [
      "<class 'pandas.core.frame.DataFrame'>\n",
      "RangeIndex: 15692870 entries, 0 to 15692869\n",
      "Data columns (total 7 columns):\n",
      " #   Column            Dtype  \n",
      "---  ------            -----  \n",
      " 0   SECTOR NAME       object \n",
      " 1   REGION NAME       object \n",
      " 2   PRODUCT_NAME      object \n",
      " 3   PRODUCTPAGE_CODE  object \n",
      " 4   TURNOVER          object \n",
      " 5   DISCOUNT          float64\n",
      " 6   GREGORIAN_DATE    object \n",
      "dtypes: float64(1), object(6)\n",
      "memory usage: 6.1 GB\n"
     ]
    }
   ],
   "source": [
    "myData.info(memory_usage='deep') #deep look"
   ]
  },
  {
   "cell_type": "code",
   "execution_count": 4,
   "metadata": {},
   "outputs": [
    {
     "data": {
      "text/html": [
       "        <script type=\"text/javascript\">\n",
       "        window.PlotlyConfig = {MathJaxConfig: 'local'};\n",
       "        if (window.MathJax) {MathJax.Hub.Config({SVG: {font: \"STIX-Web\"}});}\n",
       "        if (typeof require !== 'undefined') {\n",
       "        require.undef(\"plotly\");\n",
       "        requirejs.config({\n",
       "            paths: {\n",
       "                'plotly': ['https://cdn.plot.ly/plotly-latest.min']\n",
       "            }\n",
       "        });\n",
       "        require(['plotly'], function(Plotly) {\n",
       "            window._Plotly = Plotly;\n",
       "        });\n",
       "        }\n",
       "        </script>\n",
       "        "
      ]
     },
     "metadata": {},
     "output_type": "display_data"
    },
    {
     "data": {
      "text/html": [
       "        <script type=\"text/javascript\">\n",
       "        window.PlotlyConfig = {MathJaxConfig: 'local'};\n",
       "        if (window.MathJax) {MathJax.Hub.Config({SVG: {font: \"STIX-Web\"}});}\n",
       "        if (typeof require !== 'undefined') {\n",
       "        require.undef(\"plotly\");\n",
       "        requirejs.config({\n",
       "            paths: {\n",
       "                'plotly': ['https://cdn.plot.ly/plotly-latest.min']\n",
       "            }\n",
       "        });\n",
       "        require(['plotly'], function(Plotly) {\n",
       "            window._Plotly = Plotly;\n",
       "        });\n",
       "        }\n",
       "        </script>\n",
       "        "
      ]
     },
     "metadata": {},
     "output_type": "display_data"
    }
   ],
   "source": [
    "import cufflinks as cf               # third-party library for Pandas \n",
    "import plotly.graph_objs as go\n",
    "%matplotlib inline\n",
    "cf.go_offline()\n",
    "pyo.init_notebook_mode(connected=True)\n",
    "import ipywidgets as widgets\n",
    "import itertools"
   ]
  },
  {
   "cell_type": "markdown",
   "metadata": {},
   "source": [
    "#### Extract Attributes"
   ]
  },
  {
   "cell_type": "code",
   "execution_count": 5,
   "metadata": {
    "scrolled": true
   },
   "outputs": [
    {
     "data": {
      "text/plain": [
       "{'CHLEF': ['EURL ADEMLAIT-CHLEF'],\n",
       " 'LAGHOUAT': ['DOUIHASNI AYACHE'],\n",
       " 'OUM EL BOUAGHI': ['BOUCHAKOUR RAFIK'],\n",
       " 'BATNA': ['BAAZIZI MOHAMED FOUZI', 'BAAZIZI MOHAMED FOUZI BARIKA'],\n",
       " 'BEJAIA': ['MD CHERIF HAKIM', 'FOURAR AHCENE', 'IBRIR MERZOUK'],\n",
       " 'BISKRA': ['EURL GOUBAA DISTRIBUTION'],\n",
       " 'BECHAR': ['LAAMA MOUSSA'],\n",
       " 'BLIDA': ['HADDAD ZAHIR'],\n",
       " 'ALGER': ['MD CHERIF SAMIR',\n",
       "  'IBRIR SLIMANE',\n",
       "  'IBRIR ABDELHAK',\n",
       "  'EURL MILK SODA FOOD',\n",
       "  'IBRIR LARBI ALGER',\n",
       "  'EURL CANDILAIT'],\n",
       " 'BOUIRA': ['IBRIR ABDESLAM'],\n",
       " 'TEBESSA': ['EURL NASR ECHARK'],\n",
       " 'TLEMCEN': ['IBRIRKHELIL'],\n",
       " 'TIARET': ['IBRIR SAMIR'],\n",
       " 'TIZI OUZOU': ['SARL CANDY DISTRIBUTION', 'SARL CANDY DISTRIBUTION 2 -TO'],\n",
       " 'DJELFA': ['BOUZIDI ABDELKRIM'],\n",
       " 'JIJEL': ['SARL JGOAA'],\n",
       " 'SETIF': ['EURL CANDY MILK', 'EURL DELICIOUS MILK'],\n",
       " 'SAIDA': ['BELHOCINE Abdellatif'],\n",
       " 'SKIKDA': ['HAMAZA LAKHDAR', 'FOURAR ALI'],\n",
       " 'SIDI BEL ABBES': ['EURL EL TEWFIK'],\n",
       " 'ANNABA': ['EURL ILYES FOOD', 'ANNABA 2'],\n",
       " 'GUELMA': ['AZERINE YACINE', 'TABOU HAMID'],\n",
       " 'CONSTANTINE': ['IBRIR AZEDINE', 'FOURAR SAID', 'EURL NOUNOU COMMERCE '],\n",
       " 'MEDEA': ['SNC TITTERI DISTRIB'],\n",
       " 'TAMANRASSET': ['TAMANRASSET'],\n",
       " 'MOSTAGHANEM': ['AKLI FATAH', 'IBRIR YANIS'],\n",
       " \"M'SILA\": ['SARL SONARIX'],\n",
       " 'MASCARA': ['IBRIR NACER'],\n",
       " 'OUARGLA': ['SARL BATEAU SUD OUAREGLA', 'SARL BATEAU SUD TOUGGOURT'],\n",
       " 'ORAN': ['MELIANI SID AHMED', 'IBRIR MOHAMED', 'IBRIR LAIT', 'BENOUHAMOU'],\n",
       " 'RELIZANE': ['BOURZIG BOUZIANE', 'IBRIR FAROUK'],\n",
       " 'BBA': ['EURL AT FOODS DISTRIBUTION'],\n",
       " 'BOUMERDES': ['EURL LAIT PROD - BOUMERDES 2', 'EURL LAIT PROD'],\n",
       " 'EL TAREF': ['BOUTELIATE MESSAOUDN '],\n",
       " 'EL OUED': ['ABDESSADOK ALAEDDINE'],\n",
       " 'KHENCHELA': ['HANI MOUAD', 'TOUAT A/MADJID'],\n",
       " 'SOUK AHRAS': ['DRIDI LARBI'],\n",
       " 'TIPAZA': ['SARL DISTRI LAIT'],\n",
       " 'MILA': ['IBRIR RIDA'],\n",
       " 'AIN DEFLA': ['EURL ADEMLAIT-AIN DEFLA'],\n",
       " 'AIN TEMOUCHENT': ['BENDIMRED SAMIR'],\n",
       " 'EL MENIA': ['IBRIR GHARDAIA', 'Boussena']}"
      ]
     },
     "execution_count": 5,
     "metadata": {},
     "output_type": "execute_result"
    }
   ],
   "source": [
    "sectors = myData[[\"SECTOR NAME\",\"REGION NAME\"]].drop_duplicates()\n",
    "sectorDict = { region.upper() : [sector for sector in sectors[sectors[\"REGION NAME\"]==region][\"SECTOR NAME\"]] for region in sectors[\"REGION NAME\"].drop_duplicates().tolist()}\n",
    "sectorDict"
   ]
  },
  {
   "cell_type": "code",
   "execution_count": 6,
   "metadata": {
    "scrolled": true
   },
   "outputs": [
    {
     "data": {
      "text/plain": [
       "{'laits blancs': ['entier',\n",
       "  'de 1l',\n",
       "  'viva',\n",
       "  'de 50cl',\n",
       "  'silhouette',\n",
       "  'de 1l sans lactose'],\n",
       " 'laits aromatisés': ['choco 20cl',\n",
       "  'choco 125 ml',\n",
       "  'fraise 125 ml',\n",
       "  'candy caramel 125 ml',\n",
       "  'choco 1l',\n",
       "  'fraise 20cl',\n",
       "  'banane 125 ml'],\n",
       " 'laits & jus': ['twist o-a 20cl',\n",
       "  'twist o-f-b 20cl',\n",
       "  'twist o-f-b 1l',\n",
       "  'twist o-a 1l',\n",
       "  'twist o-m 20cl',\n",
       "  'twist p-a 20cl',\n",
       "  'twist o-m 1l',\n",
       "  'twist p-a 1l',\n",
       "  'twist o-f-b 125ml',\n",
       "  'twist o-a 125ml'],\n",
       " 'boissons': ['cocktail 1l',\n",
       "  'orange 1l',\n",
       "  'citronnade',\n",
       "  'nectar de grenade',\n",
       "  'cocktail 20cl',\n",
       "  'orange 20cl'],\n",
       " 'le maitre cuisinier': ['preparation culinaire'],\n",
       " 'le maitre glacier': ['ice cream - vanille',\n",
       "  'ice cream - chocolat',\n",
       "  'ice cream - fraise'],\n",
       " 'poudre etui': ['etui 500g']}"
      ]
     },
     "execution_count": 6,
     "metadata": {},
     "output_type": "execute_result"
    }
   ],
   "source": [
    "productGamme = myData[[\"PRODUCT_NAME\",\"PRODUCTPAGE_CODE\"]].drop_duplicates()\n",
    "productDict = { gamme.lower() : [product.lower() for product in productGamme[productGamme[\"PRODUCTPAGE_CODE\"]==gamme][\"PRODUCT_NAME\"]] for gamme in productGamme[\"PRODUCTPAGE_CODE\"].drop_duplicates().tolist()}\n",
    "productDict"
   ]
  },
  {
   "cell_type": "code",
   "execution_count": 79,
   "metadata": {},
   "outputs": [
    {
     "name": "stdout",
     "output_type": "stream",
     "text": [
      "4.32 s ± 99.1 ms per loop (mean ± std. dev. of 7 runs, 1 loop each)\n"
     ]
    }
   ],
   "source": [
    "%%timeit\n",
    "# myData[myData[\"GREGORIAN_DATE\"].str.match(\"2018-01\")]\n",
    "myData[\"GREGORIAN_DATE\"].str.slice(stop=7).drop_duplicates().sort_values()"
   ]
  },
  {
   "cell_type": "code",
   "execution_count": 80,
   "metadata": {},
   "outputs": [
    {
     "name": "stdout",
     "output_type": "stream",
     "text": [
      "3.89 s ± 45.8 ms per loop (mean ± std. dev. of 7 runs, 1 loop each)\n"
     ]
    }
   ],
   "source": [
    "%%timeit\n",
    "myData[\"GREGORIAN_DATE\"].map(lambda x: x[:7]).drop_duplicates().sort_values()"
   ]
  },
  {
   "cell_type": "code",
   "execution_count": 82,
   "metadata": {},
   "outputs": [
    {
     "name": "stdout",
     "output_type": "stream",
     "text": [
      "223 ms ± 4.91 ms per loop (mean ± std. dev. of 7 runs, 1 loop each)\n"
     ]
    }
   ],
   "source": [
    "%%timeit\n",
    "myData[\"GREGORIAN_DATE\"].drop_duplicates().str.slice(stop=7).drop_duplicates().sort_values()"
   ]
  },
  {
   "cell_type": "code",
   "execution_count": 81,
   "metadata": {},
   "outputs": [
    {
     "name": "stdout",
     "output_type": "stream",
     "text": [
      "217 ms ± 4 ms per loop (mean ± std. dev. of 7 runs, 1 loop each)\n"
     ]
    }
   ],
   "source": [
    "%%timeit\n",
    "myData[\"GREGORIAN_DATE\"].drop_duplicates().map(lambda x: x[:7]).drop_duplicates().sort_values()"
   ]
  },
  {
   "cell_type": "code",
   "execution_count": 7,
   "metadata": {},
   "outputs": [
    {
     "data": {
      "text/html": [
       "<div>\n",
       "<style scoped>\n",
       "    .dataframe tbody tr th:only-of-type {\n",
       "        vertical-align: middle;\n",
       "    }\n",
       "\n",
       "    .dataframe tbody tr th {\n",
       "        vertical-align: top;\n",
       "    }\n",
       "\n",
       "    .dataframe thead th {\n",
       "        text-align: right;\n",
       "    }\n",
       "</style>\n",
       "<table border=\"1\" class=\"dataframe\">\n",
       "  <thead>\n",
       "    <tr style=\"text-align: right;\">\n",
       "      <th></th>\n",
       "      <th>SECTOR NAME</th>\n",
       "      <th>REGION NAME</th>\n",
       "      <th>PRODUCT_NAME</th>\n",
       "      <th>PRODUCTPAGE_CODE</th>\n",
       "      <th>TURNOVER</th>\n",
       "      <th>DISCOUNT</th>\n",
       "      <th>GREGORIAN_DATE</th>\n",
       "      <th>GREGORIAN_MONTH</th>\n",
       "    </tr>\n",
       "  </thead>\n",
       "  <tbody>\n",
       "    <tr>\n",
       "      <th>0</th>\n",
       "      <td>EURL ADEMLAIT-CHLEF</td>\n",
       "      <td>CHLEF</td>\n",
       "      <td>ENTIER</td>\n",
       "      <td>Laits Blancs</td>\n",
       "      <td>1056.0</td>\n",
       "      <td>0.0</td>\n",
       "      <td>2017-11-25</td>\n",
       "      <td>2017-11</td>\n",
       "    </tr>\n",
       "  </tbody>\n",
       "</table>\n",
       "</div>"
      ],
      "text/plain": [
       "           SECTOR NAME REGION NAME PRODUCT_NAME PRODUCTPAGE_CODE  TURNOVER  \\\n",
       "0  EURL ADEMLAIT-CHLEF       CHLEF       ENTIER     Laits Blancs    1056.0   \n",
       "\n",
       "   DISCOUNT GREGORIAN_DATE GREGORIAN_MONTH  \n",
       "0       0.0     2017-11-25         2017-11  "
      ]
     },
     "execution_count": 7,
     "metadata": {},
     "output_type": "execute_result"
    }
   ],
   "source": [
    "NewDataStock = myData\n",
    "NewDataStock[\"GREGORIAN_MONTH\"] = myData[\"GREGORIAN_DATE\"].map(lambda x: x[:7])\n",
    "NewDataStock.head(1)"
   ]
  },
  {
   "cell_type": "code",
   "execution_count": 14,
   "metadata": {},
   "outputs": [],
   "source": [
    "layout = go.Layout(\n",
    "                    title=\"Serie temporelles - Ventes de produits laitiers\",\n",
    "                    xaxis= {\"title\": \"Time\"},\n",
    "                    yaxis= {\"title\": \"per 1M dinar\"}\n",
    "                    )\n",
    "def DataDisp(Mode,productGamme,regionSlider):\n",
    "    \n",
    "    data = []\n",
    "     \n",
    "    for gamme,region in tqdm(list(itertools.product(productGamme,regionSlider))):\n",
    "        y = NewDataStock \n",
    "        if gamme != 'tous':\n",
    "            y= y[y[\"PRODUCTPAGE_CODE\"].str.lower().str.match(gamme)]\n",
    "        if region != 'TOUS':\n",
    "            y= y[y[\"REGION NAME\"].str.upper().str.match(region)]\n",
    "\n",
    "        if Mode=='Monthly':\n",
    "            x= NewDataStock[\"GREGORIAN_MONTH\"].drop_duplicates().sort_values()\n",
    "            y= y.groupby(\"GREGORIAN_MONTH\")[\"TURNOVER\"].sum()/1000000\n",
    "        else:\n",
    "            x= NewDataStock[\"GREGORIAN_DATE\"].drop_duplicates().sort_values()\n",
    "            y= y.groupby(\"GREGORIAN_DATE\")[\"TURNOVER\"].sum()/1000000\n",
    "\n",
    "        data.append(\n",
    "            go.Scatter(\n",
    "                x = x,\n",
    "                y = y,\n",
    "                mode=\"lines\",\n",
    "                name=f'PRD:{gamme}, REG:{region}, {Mode}',\n",
    "            )\n",
    "        )\n",
    "    fig = go.Figure(data=data,layout=layout)\n",
    "    pyo.iplot(fig)"
   ]
  },
  {
   "cell_type": "code",
   "execution_count": 16,
   "metadata": {},
   "outputs": [
    {
     "data": {
      "application/vnd.jupyter.widget-view+json": {
       "model_id": "f1fd4b52c83c434a9099d450aec15f85",
       "version_major": 2,
       "version_minor": 0
      },
      "text/plain": [
       "interactive(children=(RadioButtons(description='Mode:', layout=Layout(width='max-content'), options=('Daily', …"
      ]
     },
     "metadata": {},
     "output_type": "display_data"
    }
   ],
   "source": [
    "Mode = widgets.RadioButtons(\n",
    "    options=['Daily', 'Monthly'],\n",
    "    value='Daily', # Defaults to 'pineapple'\n",
    "    layout={'width': 'max-content'}, # If the items' names are long\n",
    "    description='Mode:',\n",
    "    disabled=False\n",
    ")\n",
    "\n",
    "productGamme = widgets.SelectMultiple(\n",
    "    options=['tous']+list(productDict.keys()),\n",
    "    value=['tous'],\n",
    "    rows=4,\n",
    "    description='Gamme',\n",
    "    disabled=False\n",
    ")\n",
    "\n",
    "regionSlider = widgets.SelectMultiple(\n",
    "    options=['TOUS']+list(sectorDict.keys()),\n",
    "    value=['TOUS'],\n",
    "    rows=4,\n",
    "    description='Region',\n",
    "    disabled=False\n",
    ")\n",
    "\n",
    "def TestDisp(Mode,productGamme,regionSlider):\n",
    "    print(\"gamme:\")\n",
    "    for g in productGamme:\n",
    "        print(g,end=\", \")\n",
    "    print(\"\\nregion:\")\n",
    "    for g in regionSlider:\n",
    "        print(g,end=\", \")\n",
    "        \n",
    "widgets.interactive(DataDisp,Mode=Mode,productGamme=productGamme,regionSlider=regionSlider)"
   ]
  },
  {
   "cell_type": "code",
   "execution_count": 75,
   "metadata": {},
   "outputs": [
    {
     "data": {
      "application/vnd.jupyter.widget-view+json": {
       "model_id": "0330ee710cee489082aa635e7f2aacba",
       "version_major": 2,
       "version_minor": 0
      },
      "text/plain": [
       "interactive(children=(RadioButtons(description='Mode:', layout=Layout(width='max-content'), options=('Daily', …"
      ]
     },
     "metadata": {},
     "output_type": "display_data"
    }
   ],
   "source": [
    "widgets.interactive(TestDisp,Mode=Mode,productGamme=productGamme,regionSlider=regionSlider)"
   ]
  },
  {
   "cell_type": "code",
   "execution_count": null,
   "metadata": {},
   "outputs": [],
   "source": []
  }
 ],
 "metadata": {
  "kernelspec": {
   "display_name": "Python 3",
   "language": "python",
   "name": "python3"
  },
  "language_info": {
   "codemirror_mode": {
    "name": "ipython",
    "version": 3
   },
   "file_extension": ".py",
   "mimetype": "text/x-python",
   "name": "python",
   "nbconvert_exporter": "python",
   "pygments_lexer": "ipython3",
   "version": "3.7.6"
  }
 },
 "nbformat": 4,
 "nbformat_minor": 4
}

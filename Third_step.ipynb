{
 "cells": [
  {
   "cell_type": "code",
   "execution_count": 1,
   "metadata": {},
   "outputs": [],
   "source": [
    "import pandas as pd\n",
    "import matplotlib.pyplot as plt\n",
    "import plotly.offline as pyo\n",
    "import numpy as np\n",
    "import os\n",
    "from tqdm.notebook import tqdm"
   ]
  },
  {
   "cell_type": "code",
   "execution_count": 2,
   "metadata": {},
   "outputs": [
    {
     "data": {
      "text/html": [
       "        <script type=\"text/javascript\">\n",
       "        window.PlotlyConfig = {MathJaxConfig: 'local'};\n",
       "        if (window.MathJax) {MathJax.Hub.Config({SVG: {font: \"STIX-Web\"}});}\n",
       "        if (typeof require !== 'undefined') {\n",
       "        require.undef(\"plotly\");\n",
       "        requirejs.config({\n",
       "            paths: {\n",
       "                'plotly': ['https://cdn.plot.ly/plotly-latest.min']\n",
       "            }\n",
       "        });\n",
       "        require(['plotly'], function(Plotly) {\n",
       "            window._Plotly = Plotly;\n",
       "        });\n",
       "        }\n",
       "        </script>\n",
       "        "
      ]
     },
     "metadata": {},
     "output_type": "display_data"
    },
    {
     "data": {
      "text/html": [
       "        <script type=\"text/javascript\">\n",
       "        window.PlotlyConfig = {MathJaxConfig: 'local'};\n",
       "        if (window.MathJax) {MathJax.Hub.Config({SVG: {font: \"STIX-Web\"}});}\n",
       "        if (typeof require !== 'undefined') {\n",
       "        require.undef(\"plotly\");\n",
       "        requirejs.config({\n",
       "            paths: {\n",
       "                'plotly': ['https://cdn.plot.ly/plotly-latest.min']\n",
       "            }\n",
       "        });\n",
       "        require(['plotly'], function(Plotly) {\n",
       "            window._Plotly = Plotly;\n",
       "        });\n",
       "        }\n",
       "        </script>\n",
       "        "
      ]
     },
     "metadata": {},
     "output_type": "display_data"
    }
   ],
   "source": [
    "import cufflinks as cf               # third-party library for Pandas \n",
    "import plotly.graph_objs as go\n",
    "%matplotlib inline\n",
    "cf.go_offline()\n",
    "pyo.init_notebook_mode(connected=True)\n",
    "import ipywidgets as widgets\n",
    "import itertools"
   ]
  },
  {
   "cell_type": "code",
   "execution_count": 3,
   "metadata": {},
   "outputs": [],
   "source": [
    "file_lenght=-len(os.path.abspath(\".\").split(\"\\\\\")[-1])\n",
    "csv_path =  os.path.abspath(\".\")[:file_lenght]+\"Data\\\\\""
   ]
  },
  {
   "cell_type": "markdown",
   "metadata": {},
   "source": [
    "### Before we do any further analysis, we would like to clean our data first :\n",
    "<p>This decision is made because of the following reasons:</p><br> \n",
    "<ul>\n",
    "    <li>The Company stopped producing some products and started to focus on few</li>\n",
    "    <li>The Company stopped delivering to some regions and focused only on some active regions</li>\n",
    "</ul>\n",
    "<p>Once this cleaning part is done, we can dig more into studying our client and their behaviours regarding the product.<br>And also their behave regarding the humidity and temperature factor </p>"
   ]
  },
  {
   "cell_type": "code",
   "execution_count": 40,
   "metadata": {},
   "outputs": [
    {
     "name": "stderr",
     "output_type": "stream",
     "text": [
      "E:\\user\\anaconda\\envs\\Forecasting_sales\\lib\\site-packages\\numpy\\lib\\arraysetops.py:569: FutureWarning:\n",
      "\n",
      "elementwise comparison failed; returning scalar instead, but in the future will perform elementwise comparison\n",
      "\n"
     ]
    },
    {
     "data": {
      "text/html": [
       "<div>\n",
       "<style scoped>\n",
       "    .dataframe tbody tr th:only-of-type {\n",
       "        vertical-align: middle;\n",
       "    }\n",
       "\n",
       "    .dataframe tbody tr th {\n",
       "        vertical-align: top;\n",
       "    }\n",
       "\n",
       "    .dataframe thead th {\n",
       "        text-align: right;\n",
       "    }\n",
       "</style>\n",
       "<table border=\"1\" class=\"dataframe\">\n",
       "  <thead>\n",
       "    <tr style=\"text-align: right;\">\n",
       "      <th></th>\n",
       "      <th>ITINERARY_CODE</th>\n",
       "      <th>ITINERARY_NAME</th>\n",
       "      <th>PARTNER_CODE</th>\n",
       "      <th>PARTNERCATEGORY_CODE</th>\n",
       "      <th>PARTNERCATEGORYTYPE_CODE</th>\n",
       "      <th>VENDOR</th>\n",
       "      <th>SECTOR CODE</th>\n",
       "      <th>SECTOR NAME</th>\n",
       "      <th>REGION CODE</th>\n",
       "      <th>REGION NAME</th>\n",
       "      <th>...</th>\n",
       "      <th>UNITPRICE</th>\n",
       "      <th>SOLD QUANTITY</th>\n",
       "      <th>TURNOVER</th>\n",
       "      <th>DISCOUNT</th>\n",
       "      <th>GREGORIAN_DATE</th>\n",
       "      <th>HOLIDAY</th>\n",
       "      <th>SCOLAR_HOLIDAY</th>\n",
       "      <th>ISLAM_EVENT</th>\n",
       "      <th>TEMPERATURE</th>\n",
       "      <th>HUMIDITY</th>\n",
       "    </tr>\n",
       "  </thead>\n",
       "  <tbody>\n",
       "    <tr>\n",
       "      <th>0</th>\n",
       "      <td>S02001</td>\n",
       "      <td>Samedi, Centre ville 1</td>\n",
       "      <td>02/0002</td>\n",
       "      <td>M</td>\n",
       "      <td>M</td>\n",
       "      <td>R0201</td>\n",
       "      <td>201</td>\n",
       "      <td>EURL ADEMLAIT-CHLEF</td>\n",
       "      <td>2</td>\n",
       "      <td>CHLEF</td>\n",
       "      <td>...</td>\n",
       "      <td>88.0000</td>\n",
       "      <td>12.0</td>\n",
       "      <td>1056.000000</td>\n",
       "      <td>0.0</td>\n",
       "      <td>2017-11-25</td>\n",
       "      <td>0</td>\n",
       "      <td>0</td>\n",
       "      <td>None</td>\n",
       "      <td>55.59375</td>\n",
       "      <td>0.540039</td>\n",
       "    </tr>\n",
       "    <tr>\n",
       "      <th>1</th>\n",
       "      <td>S02001</td>\n",
       "      <td>Samedi, Centre ville 1</td>\n",
       "      <td>02/0004</td>\n",
       "      <td>GM</td>\n",
       "      <td>GM</td>\n",
       "      <td>R0201</td>\n",
       "      <td>201</td>\n",
       "      <td>EURL ADEMLAIT-CHLEF</td>\n",
       "      <td>2</td>\n",
       "      <td>CHLEF</td>\n",
       "      <td>...</td>\n",
       "      <td>83.3125</td>\n",
       "      <td>36.0</td>\n",
       "      <td>2999.999988</td>\n",
       "      <td>0.0</td>\n",
       "      <td>2017-11-25</td>\n",
       "      <td>0</td>\n",
       "      <td>0</td>\n",
       "      <td>None</td>\n",
       "      <td>55.59375</td>\n",
       "      <td>0.540039</td>\n",
       "    </tr>\n",
       "    <tr>\n",
       "      <th>2</th>\n",
       "      <td>S02001</td>\n",
       "      <td>Samedi, Centre ville 1</td>\n",
       "      <td>02/0004</td>\n",
       "      <td>GM</td>\n",
       "      <td>GM</td>\n",
       "      <td>R0201</td>\n",
       "      <td>201</td>\n",
       "      <td>EURL ADEMLAIT-CHLEF</td>\n",
       "      <td>2</td>\n",
       "      <td>CHLEF</td>\n",
       "      <td>...</td>\n",
       "      <td>88.0000</td>\n",
       "      <td>36.0</td>\n",
       "      <td>3168.000000</td>\n",
       "      <td>0.0</td>\n",
       "      <td>2017-11-25</td>\n",
       "      <td>0</td>\n",
       "      <td>0</td>\n",
       "      <td>None</td>\n",
       "      <td>55.59375</td>\n",
       "      <td>0.540039</td>\n",
       "    </tr>\n",
       "    <tr>\n",
       "      <th>3</th>\n",
       "      <td>S02001</td>\n",
       "      <td>Samedi, Centre ville 1</td>\n",
       "      <td>02/0005</td>\n",
       "      <td>M</td>\n",
       "      <td>M</td>\n",
       "      <td>R0201</td>\n",
       "      <td>201</td>\n",
       "      <td>EURL ADEMLAIT-CHLEF</td>\n",
       "      <td>2</td>\n",
       "      <td>CHLEF</td>\n",
       "      <td>...</td>\n",
       "      <td>45.0000</td>\n",
       "      <td>12.0</td>\n",
       "      <td>540.000000</td>\n",
       "      <td>0.0</td>\n",
       "      <td>2017-11-25</td>\n",
       "      <td>0</td>\n",
       "      <td>0</td>\n",
       "      <td>None</td>\n",
       "      <td>55.59375</td>\n",
       "      <td>0.540039</td>\n",
       "    </tr>\n",
       "    <tr>\n",
       "      <th>4</th>\n",
       "      <td>S02001</td>\n",
       "      <td>Samedi, Centre ville 1</td>\n",
       "      <td>02/0006</td>\n",
       "      <td>M</td>\n",
       "      <td>M</td>\n",
       "      <td>R0201</td>\n",
       "      <td>201</td>\n",
       "      <td>EURL ADEMLAIT-CHLEF</td>\n",
       "      <td>2</td>\n",
       "      <td>CHLEF</td>\n",
       "      <td>...</td>\n",
       "      <td>45.0000</td>\n",
       "      <td>24.0</td>\n",
       "      <td>1080.000000</td>\n",
       "      <td>0.0</td>\n",
       "      <td>2017-11-25</td>\n",
       "      <td>0</td>\n",
       "      <td>0</td>\n",
       "      <td>None</td>\n",
       "      <td>55.59375</td>\n",
       "      <td>0.540039</td>\n",
       "    </tr>\n",
       "  </tbody>\n",
       "</table>\n",
       "<p>5 rows × 23 columns</p>\n",
       "</div>"
      ],
      "text/plain": [
       "  ITINERARY_CODE          ITINERARY_NAME PARTNER_CODE PARTNERCATEGORY_CODE  \\\n",
       "0         S02001  Samedi, Centre ville 1      02/0002                    M   \n",
       "1         S02001  Samedi, Centre ville 1      02/0004                   GM   \n",
       "2         S02001  Samedi, Centre ville 1      02/0004                   GM   \n",
       "3         S02001  Samedi, Centre ville 1      02/0005                    M   \n",
       "4         S02001  Samedi, Centre ville 1      02/0006                    M   \n",
       "\n",
       "  PARTNERCATEGORYTYPE_CODE VENDOR SECTOR CODE          SECTOR NAME  \\\n",
       "0                        M  R0201         201  EURL ADEMLAIT-CHLEF   \n",
       "1                       GM  R0201         201  EURL ADEMLAIT-CHLEF   \n",
       "2                       GM  R0201         201  EURL ADEMLAIT-CHLEF   \n",
       "3                        M  R0201         201  EURL ADEMLAIT-CHLEF   \n",
       "4                        M  R0201         201  EURL ADEMLAIT-CHLEF   \n",
       "\n",
       "  REGION CODE REGION NAME  ... UNITPRICE SOLD QUANTITY     TURNOVER  DISCOUNT  \\\n",
       "0           2       CHLEF  ...   88.0000          12.0  1056.000000       0.0   \n",
       "1           2       CHLEF  ...   83.3125          36.0  2999.999988       0.0   \n",
       "2           2       CHLEF  ...   88.0000          36.0  3168.000000       0.0   \n",
       "3           2       CHLEF  ...   45.0000          12.0   540.000000       0.0   \n",
       "4           2       CHLEF  ...   45.0000          24.0  1080.000000       0.0   \n",
       "\n",
       "  GREGORIAN_DATE  HOLIDAY  SCOLAR_HOLIDAY ISLAM_EVENT TEMPERATURE  HUMIDITY  \n",
       "0     2017-11-25        0               0        None    55.59375  0.540039  \n",
       "1     2017-11-25        0               0        None    55.59375  0.540039  \n",
       "2     2017-11-25        0               0        None    55.59375  0.540039  \n",
       "3     2017-11-25        0               0        None    55.59375  0.540039  \n",
       "4     2017-11-25        0               0        None    55.59375  0.540039  \n",
       "\n",
       "[5 rows x 23 columns]"
      ]
     },
     "execution_count": 40,
     "metadata": {},
     "output_type": "execute_result"
    }
   ],
   "source": [
    "types={       \n",
    "    \"PARTNERCATEGORY_CODE\" : \"category\" \n",
    "    ,\"PARTNERCATEGORYTYPE_CODE\" : \"category\" \n",
    "    ,\"VENDOR\" : \"category\"           \n",
    "    ,\"SECTOR CODE\" : \"category\"         \n",
    "    ,\"SECTOR NAME\" : \"category\"       \n",
    "    ,\"REGION CODE\" : \"category\"        \n",
    "    ,\"REGION NAME\" : \"category\"       \n",
    "    ,\"PRODUCT_CODE\" : \"category\"      \n",
    "    ,\"PRODUCT_NAME\" : \"category\"       \n",
    "    ,\"PRODUCTPAGE_CODE\" : \"category\"    \n",
    "    ,\"UNITPRICE\" : \"float16\"\n",
    "    ,\"SOLD QUANTITY\" : \"category\"  \n",
    "    ,\"TURNOVER\" : \"float64\"\n",
    "    ,\"DISCOUNT\" : \"float32\" \n",
    "    ,\"HOLIDAY\" : \"category\"    \n",
    "    ,\"SCOLAR_HOLIDAY\" : \"category\"     \n",
    "    ,\"ISLAM_EVENT\" : \"category\"    \n",
    "    ,\"TEMPERATURE\" : \"float16\"\n",
    "    ,\"HUMIDITY\" : \"float16\"\n",
    "} # reduce memory consumption\n",
    "myData = pd.read_csv(csv_path+\"Updated_Data_2.csv\",header=0,engine='c',index_col=[0],dtype=types)\n",
    "myData=myData.drop(myData.columns[0],axis=1)\n",
    "myData.head()"
   ]
  },
  {
   "cell_type": "code",
   "execution_count": 41,
   "metadata": {},
   "outputs": [
    {
     "name": "stdout",
     "output_type": "stream",
     "text": [
      "<class 'pandas.core.frame.DataFrame'>\n",
      "Int64Index: 15692870 entries, 0 to 15692869\n",
      "Data columns (total 23 columns):\n",
      " #   Column                    Dtype   \n",
      "---  ------                    -----   \n",
      " 0   ITINERARY_CODE            object  \n",
      " 1   ITINERARY_NAME            object  \n",
      " 2   PARTNER_CODE              object  \n",
      " 3   PARTNERCATEGORY_CODE      category\n",
      " 4   PARTNERCATEGORYTYPE_CODE  category\n",
      " 5   VENDOR                    category\n",
      " 6   SECTOR CODE               category\n",
      " 7   SECTOR NAME               category\n",
      " 8   REGION CODE               category\n",
      " 9   REGION NAME               category\n",
      " 10  PRODUCT_CODE              category\n",
      " 11  PRODUCT_NAME              category\n",
      " 12  PRODUCTPAGE_CODE          category\n",
      " 13  UNITPRICE                 float16 \n",
      " 14  SOLD QUANTITY             category\n",
      " 15  TURNOVER                  float64 \n",
      " 16  DISCOUNT                  float32 \n",
      " 17  GREGORIAN_DATE            object  \n",
      " 18  HOLIDAY                   category\n",
      " 19  SCOLAR_HOLIDAY            category\n",
      " 20  ISLAM_EVENT               category\n",
      " 21  TEMPERATURE               float16 \n",
      " 22  HUMIDITY                  float16 \n",
      "dtypes: category(14), float16(3), float32(1), float64(1), object(4)\n",
      "memory usage: 4.7 GB\n"
     ]
    }
   ],
   "source": [
    "myData.info(memory_usage='deep') #deep look"
   ]
  },
  {
   "cell_type": "markdown",
   "metadata": {},
   "source": [
    "### Deleting Rows of old Products "
   ]
  },
  {
   "cell_type": "code",
   "execution_count": 45,
   "metadata": {},
   "outputs": [
    {
     "data": {
      "text/plain": [
       "set()"
      ]
     },
     "execution_count": 45,
     "metadata": {},
     "output_type": "execute_result"
    }
   ],
   "source": [
    "Current_C = set(myData[myData[\"GREGORIAN_DATE\"].str.match(\"2018\")][\"PRODUCT_NAME\"].tolist())\n",
    "Old_C = set(myData[\"PRODUCT_NAME\"].tolist())\n",
    "Old_C"
   ]
  },
  {
   "cell_type": "markdown",
   "metadata": {},
   "source": [
    "### check new clients"
   ]
  },
  {
   "cell_type": "code",
   "execution_count": 53,
   "metadata": {
    "collapsed": true
   },
   "outputs": [
    {
     "data": {
      "text/plain": [
       "PRODUCT_NAME\n",
       "BANANE 125 ML            1.007785e+08\n",
       "CANDY CARAMEL 125 ML     8.009312e+07\n",
       "CHOCO 125 ML             1.865349e+09\n",
       "CHOCO 1L                 3.082800e+09\n",
       "CHOCO 20CL               9.990026e+09\n",
       "CITRONNADE               2.951632e+08\n",
       "COCKTAIL 1L              4.579292e+08\n",
       "COCKTAIL 20CL            2.767200e+08\n",
       "DE 1L                    2.127034e+10\n",
       "DE 1L SANS LACTOSE       3.488842e+07\n",
       "DE 50CL                  5.402116e+08\n",
       "ENTIER                   2.326173e+09\n",
       "ETUI 500G                1.209976e+07\n",
       "FRAISE 125 ML            1.033663e+08\n",
       "FRAISE 20CL              1.316838e+08\n",
       "ICE CREAM - CHOCOLAT     2.705440e+06\n",
       "ICE CREAM - FRAISE       1.567680e+06\n",
       "ICE CREAM - VANILLE      2.058560e+06\n",
       "NECTAR DE GRENADE        1.687679e+08\n",
       "ORANGE 1L                4.430580e+08\n",
       "ORANGE 20CL              2.920169e+08\n",
       "PREPARATION CULINAIRE    2.301562e+08\n",
       "SILHOUETTE               1.388278e+09\n",
       "TWIST O-A 125ML          3.791844e+07\n",
       "TWIST O-A 1L             7.438596e+07\n",
       "TWIST O-A 20CL           4.140090e+08\n",
       "TWIST O-F-B 125ML        3.453984e+07\n",
       "TWIST O-F-B 1L           1.121360e+08\n",
       "TWIST O-F-B 20CL         4.903809e+08\n",
       "TWIST O-M 1L             6.235790e+07\n",
       "TWIST O-M 20CL           3.743551e+08\n",
       "TWIST P-A 1L             6.879774e+07\n",
       "TWIST P-A 20CL           3.906029e+08\n",
       "VIVA                     5.295056e+09\n",
       "R16054                   1.836000e+03\n",
       "Name: TURNOVER, dtype: float64"
      ]
     },
     "execution_count": 53,
     "metadata": {},
     "output_type": "execute_result"
    }
   ],
   "source": [
    "Current_C = myData[myData[\"GREGORIAN_DATE\"].str.match(\"2018\")]"
   ]
  },
  {
   "cell_type": "code",
   "execution_count": 58,
   "metadata": {
    "scrolled": false
   },
   "outputs": [
    {
     "data": {
      "text/plain": [
       "<matplotlib.axes._subplots.AxesSubplot at 0x2b8a9ecab48>"
      ]
     },
     "execution_count": 58,
     "metadata": {},
     "output_type": "execute_result"
    },
    {
     "data": {
      "image/png": "[encoded data removed]",
      "text/plain": [
       "<Figure size 432x288 with 1 Axes>"
      ]
     },
     "metadata": {
      "needs_background": "light"
     },
     "output_type": "display_data"
    }
   ],
   "source": [
    "myData.groupby(\"PRODUCT_NAME\")[\"TURNOVER\"].sum().plot.bar()"
   ]
  },
  {
   "cell_type": "code",
   "execution_count": null,
   "metadata": {},
   "outputs": [],
   "source": []
  }
 ],
 "metadata": {
  "kernelspec": {
   "display_name": "Python 3",
   "language": "python",
   "name": "python3"
  },
  "language_info": {
   "codemirror_mode": {
    "name": "ipython",
    "version": 3
   },
   "file_extension": ".py",
   "mimetype": "text/x-python",
   "name": "python",
   "nbconvert_exporter": "python",
   "pygments_lexer": "ipython3",
   "version": "3.7.6"
  }
 },
 "nbformat": 4,
 "nbformat_minor": 4
}

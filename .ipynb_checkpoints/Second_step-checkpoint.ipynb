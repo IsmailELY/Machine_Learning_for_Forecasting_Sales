{
 "cells": [
  {
   "cell_type": "code",
   "execution_count": 1,
   "metadata": {},
   "outputs": [],
   "source": [
    "import pandas as pd\n",
    "import matplotlib.pyplot as plt\n",
    "import plotly.offline as pyo\n",
    "import numpy as np\n",
    "import os\n",
    "from tqdm.notebook import tqdm"
   ]
  },
  {
   "cell_type": "code",
   "execution_count": 2,
   "metadata": {},
   "outputs": [],
   "source": [
    "file_lenght=-len(os.path.abspath(\".\").split(\"\\\\\")[-1])\n",
    "csv_path =  os.path.abspath(\".\")[:file_lenght]+\"Data\\\\\""
   ]
  },
  {
   "cell_type": "code",
   "execution_count": 4,
   "metadata": {},
   "outputs": [
    {
     "name": "stderr",
     "output_type": "stream",
     "text": [
      "E:\\user\\anaconda\\envs\\Forecasting_sales\\lib\\site-packages\\numpy\\lib\\arraysetops.py:569: FutureWarning:\n",
      "\n",
      "elementwise comparison failed; returning scalar instead, but in the future will perform elementwise comparison\n",
      "\n"
     ]
    },
    {
     "data": {
      "text/html": [
       "<div>\n",
       "<style scoped>\n",
       "    .dataframe tbody tr th:only-of-type {\n",
       "        vertical-align: middle;\n",
       "    }\n",
       "\n",
       "    .dataframe tbody tr th {\n",
       "        vertical-align: top;\n",
       "    }\n",
       "\n",
       "    .dataframe thead th {\n",
       "        text-align: right;\n",
       "    }\n",
       "</style>\n",
       "<table border=\"1\" class=\"dataframe\">\n",
       "  <thead>\n",
       "    <tr style=\"text-align: right;\">\n",
       "      <th></th>\n",
       "      <th>ITINERARY_CODE</th>\n",
       "      <th>ITINERARY_NAME</th>\n",
       "      <th>PARTNER_CODE</th>\n",
       "      <th>PARTNERCATEGORY_CODE</th>\n",
       "      <th>PARTNERCATEGORYTYPE_CODE</th>\n",
       "      <th>VENDOR</th>\n",
       "      <th>SECTOR CODE</th>\n",
       "      <th>SECTOR NAME</th>\n",
       "      <th>REGION CODE</th>\n",
       "      <th>REGION NAME</th>\n",
       "      <th>...</th>\n",
       "      <th>UNITPRICE</th>\n",
       "      <th>SOLD QUANTITY</th>\n",
       "      <th>TURNOVER</th>\n",
       "      <th>DISCOUNT</th>\n",
       "      <th>GREGORIAN_DATE</th>\n",
       "      <th>HOLIDAY</th>\n",
       "      <th>SCOLAR_HOLIDAY</th>\n",
       "      <th>ISLAM_EVENT</th>\n",
       "      <th>TEMPERATURE</th>\n",
       "      <th>HUMIDITY</th>\n",
       "    </tr>\n",
       "  </thead>\n",
       "  <tbody>\n",
       "    <tr>\n",
       "      <th>0</th>\n",
       "      <td>S02001</td>\n",
       "      <td>Samedi, Centre ville 1</td>\n",
       "      <td>02/0002</td>\n",
       "      <td>M</td>\n",
       "      <td>M</td>\n",
       "      <td>R0201</td>\n",
       "      <td>201</td>\n",
       "      <td>EURL ADEMLAIT-CHLEF</td>\n",
       "      <td>2</td>\n",
       "      <td>CHLEF</td>\n",
       "      <td>...</td>\n",
       "      <td>88.000000</td>\n",
       "      <td>12.0</td>\n",
       "      <td>1056.000000</td>\n",
       "      <td>0.0</td>\n",
       "      <td>2017-11-25</td>\n",
       "      <td>0</td>\n",
       "      <td>0</td>\n",
       "      <td>None</td>\n",
       "      <td>55.59</td>\n",
       "      <td>0.54</td>\n",
       "    </tr>\n",
       "    <tr>\n",
       "      <th>1</th>\n",
       "      <td>S02001</td>\n",
       "      <td>Samedi, Centre ville 1</td>\n",
       "      <td>02/0004</td>\n",
       "      <td>GM</td>\n",
       "      <td>GM</td>\n",
       "      <td>R0201</td>\n",
       "      <td>201</td>\n",
       "      <td>EURL ADEMLAIT-CHLEF</td>\n",
       "      <td>2</td>\n",
       "      <td>CHLEF</td>\n",
       "      <td>...</td>\n",
       "      <td>83.333333</td>\n",
       "      <td>36.0</td>\n",
       "      <td>2999.999988</td>\n",
       "      <td>0.0</td>\n",
       "      <td>2017-11-25</td>\n",
       "      <td>0</td>\n",
       "      <td>0</td>\n",
       "      <td>None</td>\n",
       "      <td>55.59</td>\n",
       "      <td>0.54</td>\n",
       "    </tr>\n",
       "    <tr>\n",
       "      <th>2</th>\n",
       "      <td>S02001</td>\n",
       "      <td>Samedi, Centre ville 1</td>\n",
       "      <td>02/0004</td>\n",
       "      <td>GM</td>\n",
       "      <td>GM</td>\n",
       "      <td>R0201</td>\n",
       "      <td>201</td>\n",
       "      <td>EURL ADEMLAIT-CHLEF</td>\n",
       "      <td>2</td>\n",
       "      <td>CHLEF</td>\n",
       "      <td>...</td>\n",
       "      <td>88.000000</td>\n",
       "      <td>36.0</td>\n",
       "      <td>3168.000000</td>\n",
       "      <td>0.0</td>\n",
       "      <td>2017-11-25</td>\n",
       "      <td>0</td>\n",
       "      <td>0</td>\n",
       "      <td>None</td>\n",
       "      <td>55.59</td>\n",
       "      <td>0.54</td>\n",
       "    </tr>\n",
       "    <tr>\n",
       "      <th>3</th>\n",
       "      <td>S02001</td>\n",
       "      <td>Samedi, Centre ville 1</td>\n",
       "      <td>02/0005</td>\n",
       "      <td>M</td>\n",
       "      <td>M</td>\n",
       "      <td>R0201</td>\n",
       "      <td>201</td>\n",
       "      <td>EURL ADEMLAIT-CHLEF</td>\n",
       "      <td>2</td>\n",
       "      <td>CHLEF</td>\n",
       "      <td>...</td>\n",
       "      <td>45.000000</td>\n",
       "      <td>12.0</td>\n",
       "      <td>540.000000</td>\n",
       "      <td>0.0</td>\n",
       "      <td>2017-11-25</td>\n",
       "      <td>0</td>\n",
       "      <td>0</td>\n",
       "      <td>None</td>\n",
       "      <td>55.59</td>\n",
       "      <td>0.54</td>\n",
       "    </tr>\n",
       "    <tr>\n",
       "      <th>4</th>\n",
       "      <td>S02001</td>\n",
       "      <td>Samedi, Centre ville 1</td>\n",
       "      <td>02/0006</td>\n",
       "      <td>M</td>\n",
       "      <td>M</td>\n",
       "      <td>R0201</td>\n",
       "      <td>201</td>\n",
       "      <td>EURL ADEMLAIT-CHLEF</td>\n",
       "      <td>2</td>\n",
       "      <td>CHLEF</td>\n",
       "      <td>...</td>\n",
       "      <td>45.000000</td>\n",
       "      <td>24.0</td>\n",
       "      <td>1080.000000</td>\n",
       "      <td>0.0</td>\n",
       "      <td>2017-11-25</td>\n",
       "      <td>0</td>\n",
       "      <td>0</td>\n",
       "      <td>None</td>\n",
       "      <td>55.59</td>\n",
       "      <td>0.54</td>\n",
       "    </tr>\n",
       "  </tbody>\n",
       "</table>\n",
       "<p>5 rows × 23 columns</p>\n",
       "</div>"
      ],
      "text/plain": [
       "  ITINERARY_CODE          ITINERARY_NAME PARTNER_CODE PARTNERCATEGORY_CODE  \\\n",
       "0         S02001  Samedi, Centre ville 1      02/0002                    M   \n",
       "1         S02001  Samedi, Centre ville 1      02/0004                   GM   \n",
       "2         S02001  Samedi, Centre ville 1      02/0004                   GM   \n",
       "3         S02001  Samedi, Centre ville 1      02/0005                    M   \n",
       "4         S02001  Samedi, Centre ville 1      02/0006                    M   \n",
       "\n",
       "  PARTNERCATEGORYTYPE_CODE VENDOR  SECTOR CODE          SECTOR NAME  \\\n",
       "0                        M  R0201          201  EURL ADEMLAIT-CHLEF   \n",
       "1                       GM  R0201          201  EURL ADEMLAIT-CHLEF   \n",
       "2                       GM  R0201          201  EURL ADEMLAIT-CHLEF   \n",
       "3                        M  R0201          201  EURL ADEMLAIT-CHLEF   \n",
       "4                        M  R0201          201  EURL ADEMLAIT-CHLEF   \n",
       "\n",
       "   REGION CODE REGION NAME  ...  UNITPRICE SOLD QUANTITY     TURNOVER  \\\n",
       "0            2       CHLEF  ...  88.000000          12.0  1056.000000   \n",
       "1            2       CHLEF  ...  83.333333          36.0  2999.999988   \n",
       "2            2       CHLEF  ...  88.000000          36.0  3168.000000   \n",
       "3            2       CHLEF  ...  45.000000          12.0   540.000000   \n",
       "4            2       CHLEF  ...  45.000000          24.0  1080.000000   \n",
       "\n",
       "   DISCOUNT  GREGORIAN_DATE  HOLIDAY  SCOLAR_HOLIDAY ISLAM_EVENT  TEMPERATURE  \\\n",
       "0       0.0      2017-11-25        0               0        None        55.59   \n",
       "1       0.0      2017-11-25        0               0        None        55.59   \n",
       "2       0.0      2017-11-25        0               0        None        55.59   \n",
       "3       0.0      2017-11-25        0               0        None        55.59   \n",
       "4       0.0      2017-11-25        0               0        None        55.59   \n",
       "\n",
       "   HUMIDITY  \n",
       "0      0.54  \n",
       "1      0.54  \n",
       "2      0.54  \n",
       "3      0.54  \n",
       "4      0.54  \n",
       "\n",
       "[5 rows x 23 columns]"
      ]
     },
     "execution_count": 4,
     "metadata": {},
     "output_type": "execute_result"
    }
   ],
   "source": [
    "myData = pd.read_csv(csv_path+\"Updated_Data_2.csv\",header=0,engine='c',index_col=[0],low_memory=False)\n",
    "myData.head()"
   ]
  },
  {
   "cell_type": "markdown",
   "metadata": {},
   "source": [
    "<h4>Detail about our Data and optimize the reading process for quick interactions</h4>"
   ]
  },
  {
   "cell_type": "code",
   "execution_count": 14,
   "metadata": {},
   "outputs": [
    {
     "name": "stdout",
     "output_type": "stream",
     "text": [
      "<class 'pandas.core.frame.DataFrame'>\n",
      "Int64Index: 15692870 entries, 0 to 15692869\n",
      "Data columns (total 23 columns):\n",
      " #   Column                    Dtype  \n",
      "---  ------                    -----  \n",
      " 0   ITINERARY_CODE            object \n",
      " 1   ITINERARY_NAME            object \n",
      " 2   PARTNER_CODE              object \n",
      " 3   PARTNERCATEGORY_CODE      object \n",
      " 4   PARTNERCATEGORYTYPE_CODE  object \n",
      " 5   VENDOR                    object \n",
      " 6   SECTOR CODE               int64  \n",
      " 7   SECTOR NAME               object \n",
      " 8   REGION CODE               int64  \n",
      " 9   REGION NAME               object \n",
      " 10  PRODUCT_CODE              object \n",
      " 11  PRODUCT_NAME              object \n",
      " 12  PRODUCTPAGE_CODE          object \n",
      " 13  UNITPRICE                 float64\n",
      " 14  SOLD QUANTITY             float64\n",
      " 15  TURNOVER                  float64\n",
      " 16  DISCOUNT                  float64\n",
      " 17  GREGORIAN_DATE            object \n",
      " 18  HOLIDAY                   int64  \n",
      " 19  SCOLAR_HOLIDAY            int64  \n",
      " 20  ISLAM_EVENT               object \n",
      " 21  TEMPERATURE               float64\n",
      " 22  HUMIDITY                  float64\n",
      "dtypes: float64(6), int64(4), object(13)\n",
      "memory usage: 2.8+ GB\n"
     ]
    }
   ],
   "source": [
    "myData.info() #first look"
   ]
  },
  {
   "cell_type": "code",
   "execution_count": 15,
   "metadata": {
    "scrolled": true
   },
   "outputs": [
    {
     "name": "stdout",
     "output_type": "stream",
     "text": [
      "<class 'pandas.core.frame.DataFrame'>\n",
      "Int64Index: 15692870 entries, 0 to 15692869\n",
      "Data columns (total 23 columns):\n",
      " #   Column                    Dtype  \n",
      "---  ------                    -----  \n",
      " 0   ITINERARY_CODE            object \n",
      " 1   ITINERARY_NAME            object \n",
      " 2   PARTNER_CODE              object \n",
      " 3   PARTNERCATEGORY_CODE      object \n",
      " 4   PARTNERCATEGORYTYPE_CODE  object \n",
      " 5   VENDOR                    object \n",
      " 6   SECTOR CODE               int64  \n",
      " 7   SECTOR NAME               object \n",
      " 8   REGION CODE               int64  \n",
      " 9   REGION NAME               object \n",
      " 10  PRODUCT_CODE              object \n",
      " 11  PRODUCT_NAME              object \n",
      " 12  PRODUCTPAGE_CODE          object \n",
      " 13  UNITPRICE                 float64\n",
      " 14  SOLD QUANTITY             float64\n",
      " 15  TURNOVER                  float64\n",
      " 16  DISCOUNT                  float64\n",
      " 17  GREGORIAN_DATE            object \n",
      " 18  HOLIDAY                   int64  \n",
      " 19  SCOLAR_HOLIDAY            int64  \n",
      " 20  ISLAM_EVENT               object \n",
      " 21  TEMPERATURE               float64\n",
      " 22  HUMIDITY                  float64\n",
      "dtypes: float64(6), int64(4), object(13)\n",
      "memory usage: 14.0 GB\n"
     ]
    }
   ],
   "source": [
    "myData.info(memory_usage='deep') #deep look"
   ]
  },
  {
   "cell_type": "code",
   "execution_count": null,
   "metadata": {},
   "outputs": [],
   "source": [
    "for c in myData:\n",
    "    k=myData[str(c)].unique()\n",
    "    if len(k)<60 and str(c): #our data is composed of 15 million rows (category of 60 element is still saving memory usage)\n",
    "        myData[str(c)]=myData[str(c)].astype(\"category\")"
   ]
  },
  {
   "cell_type": "code",
   "execution_count": 17,
   "metadata": {
    "scrolled": true
   },
   "outputs": [
    {
     "name": "stdout",
     "output_type": "stream",
     "text": [
      "<class 'pandas.core.frame.DataFrame'>\n",
      "Int64Index: 15692870 entries, 0 to 15692869\n",
      "Data columns (total 23 columns):\n",
      " #   Column                    Dtype   \n",
      "---  ------                    -----   \n",
      " 0   ITINERARY_CODE            object  \n",
      " 1   ITINERARY_NAME            object  \n",
      " 2   PARTNER_CODE              object  \n",
      " 3   PARTNERCATEGORY_CODE      category\n",
      " 4   PARTNERCATEGORYTYPE_CODE  category\n",
      " 5   VENDOR                    object  \n",
      " 6   SECTOR CODE               int64   \n",
      " 7   SECTOR NAME               object  \n",
      " 8   REGION CODE               category\n",
      " 9   REGION NAME               category\n",
      " 10  PRODUCT_CODE              category\n",
      " 11  PRODUCT_NAME              category\n",
      " 12  PRODUCTPAGE_CODE          category\n",
      " 13  UNITPRICE                 category\n",
      " 14  SOLD QUANTITY             float64 \n",
      " 15  TURNOVER                  float64 \n",
      " 16  DISCOUNT                  float64 \n",
      " 17  GREGORIAN_DATE            object  \n",
      " 18  HOLIDAY                   category\n",
      " 19  SCOLAR_HOLIDAY            category\n",
      " 20  ISLAM_EVENT               category\n",
      " 21  TEMPERATURE               float64 \n",
      " 22  HUMIDITY                  float64 \n",
      "dtypes: category(11), float64(5), int64(1), object(6)\n",
      "memory usage: 7.0 GB\n"
     ]
    }
   ],
   "source": [
    "myData.info(memory_usage='deep') #result"
   ]
  },
  {
   "cell_type": "markdown",
   "metadata": {},
   "source": [
    "<p>We saved <b>7.0 GB</b> of memory</p>"
   ]
  },
  {
   "cell_type": "markdown",
   "metadata": {},
   "source": [
    "<h2>Time series plot</h2>\n",
    "<ul>\n",
    "    <li>Daily Revenue all clients & all sectors (chiffre affaire par jour)</li>\n",
    "    <li>Daily Revenue all product per sector (MCA par jour de tout produit par secteur)</li>\n",
    "    <li>Daily Revenue all clients per Product range (MCA par jour selon la gamme produit de tout clients)</li>\n",
    "</ul>\n",
    "\n",
    "### Parameters as Daily-Monthly Progress, Menu Gamme Produit, Secteur-Region"
   ]
  },
  {
   "cell_type": "markdown",
   "metadata": {},
   "source": [
    "<h4>Daily Revenue all clients & all sectors (chiffre affaire par jour)</h4>"
   ]
  },
  {
   "cell_type": "code",
   "execution_count": 128,
   "metadata": {
    "scrolled": true
   },
   "outputs": [
    {
     "data": {
      "text/html": [
       "<div>\n",
       "<style scoped>\n",
       "    .dataframe tbody tr th:only-of-type {\n",
       "        vertical-align: middle;\n",
       "    }\n",
       "\n",
       "    .dataframe tbody tr th {\n",
       "        vertical-align: top;\n",
       "    }\n",
       "\n",
       "    .dataframe thead th {\n",
       "        text-align: right;\n",
       "    }\n",
       "</style>\n",
       "<table border=\"1\" class=\"dataframe\">\n",
       "  <thead>\n",
       "    <tr style=\"text-align: right;\">\n",
       "      <th></th>\n",
       "      <th>SECTOR NAME</th>\n",
       "      <th>REGION NAME</th>\n",
       "      <th>PRODUCT_NAME</th>\n",
       "      <th>PRODUCTPAGE_CODE</th>\n",
       "      <th>TURNOVER</th>\n",
       "      <th>DISCOUNT</th>\n",
       "      <th>GREGORIAN_DATE</th>\n",
       "    </tr>\n",
       "  </thead>\n",
       "  <tbody>\n",
       "    <tr>\n",
       "      <th>0</th>\n",
       "      <td>EURL ADEMLAIT-CHLEF</td>\n",
       "      <td>CHLEF</td>\n",
       "      <td>ENTIER</td>\n",
       "      <td>Laits Blancs</td>\n",
       "      <td>1056.000000</td>\n",
       "      <td>0.0</td>\n",
       "      <td>2017-11-25</td>\n",
       "    </tr>\n",
       "    <tr>\n",
       "      <th>1</th>\n",
       "      <td>EURL ADEMLAIT-CHLEF</td>\n",
       "      <td>CHLEF</td>\n",
       "      <td>DE 1L</td>\n",
       "      <td>Laits Blancs</td>\n",
       "      <td>2999.999988</td>\n",
       "      <td>0.0</td>\n",
       "      <td>2017-11-25</td>\n",
       "    </tr>\n",
       "    <tr>\n",
       "      <th>2</th>\n",
       "      <td>EURL ADEMLAIT-CHLEF</td>\n",
       "      <td>CHLEF</td>\n",
       "      <td>VIVA</td>\n",
       "      <td>Laits Blancs</td>\n",
       "      <td>3168.000000</td>\n",
       "      <td>0.0</td>\n",
       "      <td>2017-11-25</td>\n",
       "    </tr>\n",
       "    <tr>\n",
       "      <th>3</th>\n",
       "      <td>EURL ADEMLAIT-CHLEF</td>\n",
       "      <td>CHLEF</td>\n",
       "      <td>DE 50CL</td>\n",
       "      <td>Laits Blancs</td>\n",
       "      <td>540.000000</td>\n",
       "      <td>0.0</td>\n",
       "      <td>2017-11-25</td>\n",
       "    </tr>\n",
       "    <tr>\n",
       "      <th>4</th>\n",
       "      <td>EURL ADEMLAIT-CHLEF</td>\n",
       "      <td>CHLEF</td>\n",
       "      <td>DE 50CL</td>\n",
       "      <td>Laits Blancs</td>\n",
       "      <td>1080.000000</td>\n",
       "      <td>0.0</td>\n",
       "      <td>2017-11-25</td>\n",
       "    </tr>\n",
       "  </tbody>\n",
       "</table>\n",
       "</div>"
      ],
      "text/plain": [
       "           SECTOR NAME REGION NAME PRODUCT_NAME PRODUCTPAGE_CODE     TURNOVER  \\\n",
       "0  EURL ADEMLAIT-CHLEF       CHLEF       ENTIER     Laits Blancs  1056.000000   \n",
       "1  EURL ADEMLAIT-CHLEF       CHLEF        DE 1L     Laits Blancs  2999.999988   \n",
       "2  EURL ADEMLAIT-CHLEF       CHLEF         VIVA     Laits Blancs  3168.000000   \n",
       "3  EURL ADEMLAIT-CHLEF       CHLEF      DE 50CL     Laits Blancs   540.000000   \n",
       "4  EURL ADEMLAIT-CHLEF       CHLEF      DE 50CL     Laits Blancs  1080.000000   \n",
       "\n",
       "   DISCOUNT GREGORIAN_DATE  \n",
       "0       0.0     2017-11-25  \n",
       "1       0.0     2017-11-25  \n",
       "2       0.0     2017-11-25  \n",
       "3       0.0     2017-11-25  \n",
       "4       0.0     2017-11-25  "
      ]
     },
     "execution_count": 128,
     "metadata": {},
     "output_type": "execute_result"
    }
   ],
   "source": [
    "cols=[\"SECTOR NAME\",\"REGION NAME\",\"PRODUCT_NAME\",\"PRODUCTPAGE_CODE\",\"TURNOVER\",\"DISCOUNT\",\"GREGORIAN_DATE\"]\n",
    "types={\"SECTOR NAME\": \"category\",\"REGION NAME\": \"category\",\"PRODUCT_NAME\": \"category\",\"PRODUCTPAGE_CODE\": \"category\"}\n",
    "myData = pd.read_csv(csv_path+\"Updated_Data_2.csv\",header=0,engine='c',usecols=cols,low_memory=False)\n",
    "myData.head()"
   ]
  },
  {
   "cell_type": "code",
   "execution_count": 5,
   "metadata": {},
   "outputs": [
    {
     "name": "stdout",
     "output_type": "stream",
     "text": [
      "<class 'pandas.core.frame.DataFrame'>\n",
      "RangeIndex: 15692870 entries, 0 to 15692869\n",
      "Data columns (total 7 columns):\n",
      " #   Column            Dtype  \n",
      "---  ------            -----  \n",
      " 0   SECTOR NAME       object \n",
      " 1   REGION NAME       object \n",
      " 2   PRODUCT_NAME      object \n",
      " 3   PRODUCTPAGE_CODE  object \n",
      " 4   TURNOVER          object \n",
      " 5   DISCOUNT          float64\n",
      " 6   GREGORIAN_DATE    object \n",
      "dtypes: float64(1), object(6)\n",
      "memory usage: 6.1 GB\n"
     ]
    }
   ],
   "source": [
    "myData.info(memory_usage='deep') #deep look"
   ]
  },
  {
   "cell_type": "code",
   "execution_count": 6,
   "metadata": {},
   "outputs": [
    {
     "data": {
      "text/html": [
       "        <script type=\"text/javascript\">\n",
       "        window.PlotlyConfig = {MathJaxConfig: 'local'};\n",
       "        if (window.MathJax) {MathJax.Hub.Config({SVG: {font: \"STIX-Web\"}});}\n",
       "        if (typeof require !== 'undefined') {\n",
       "        require.undef(\"plotly\");\n",
       "        requirejs.config({\n",
       "            paths: {\n",
       "                'plotly': ['https://cdn.plot.ly/plotly-latest.min']\n",
       "            }\n",
       "        });\n",
       "        require(['plotly'], function(Plotly) {\n",
       "            window._Plotly = Plotly;\n",
       "        });\n",
       "        }\n",
       "        </script>\n",
       "        "
      ]
     },
     "metadata": {},
     "output_type": "display_data"
    },
    {
     "data": {
      "text/html": [
       "        <script type=\"text/javascript\">\n",
       "        window.PlotlyConfig = {MathJaxConfig: 'local'};\n",
       "        if (window.MathJax) {MathJax.Hub.Config({SVG: {font: \"STIX-Web\"}});}\n",
       "        if (typeof require !== 'undefined') {\n",
       "        require.undef(\"plotly\");\n",
       "        requirejs.config({\n",
       "            paths: {\n",
       "                'plotly': ['https://cdn.plot.ly/plotly-latest.min']\n",
       "            }\n",
       "        });\n",
       "        require(['plotly'], function(Plotly) {\n",
       "            window._Plotly = Plotly;\n",
       "        });\n",
       "        }\n",
       "        </script>\n",
       "        "
      ]
     },
     "metadata": {},
     "output_type": "display_data"
    }
   ],
   "source": [
    "import cufflinks as cf               # third-party library for Pandas \n",
    "import plotly.graph_objs as go\n",
    "%matplotlib inline\n",
    "cf.go_offline()\n",
    "pyo.init_notebook_mode(connected=True)\n",
    "import ipywidgets as widgets\n",
    "import itertools"
   ]
  },
  {
   "cell_type": "markdown",
   "metadata": {},
   "source": [
    "#### Extract Attributes"
   ]
  },
  {
   "cell_type": "code",
   "execution_count": 129,
   "metadata": {
    "scrolled": true
   },
   "outputs": [
    {
     "data": {
      "text/plain": [
       "{'CHLEF': ['EURL ADEMLAIT-CHLEF'],\n",
       " 'LAGHOUAT': ['DOUIHASNI AYACHE'],\n",
       " 'OUM EL BOUAGHI': ['BOUCHAKOUR RAFIK'],\n",
       " 'BATNA': ['BAAZIZI MOHAMED FOUZI', 'BAAZIZI MOHAMED FOUZI BARIKA'],\n",
       " 'BEJAIA': ['MD CHERIF HAKIM', 'FOURAR AHCENE', 'IBRIR MERZOUK'],\n",
       " 'BISKRA': ['EURL GOUBAA DISTRIBUTION'],\n",
       " 'BECHAR': ['LAAMA MOUSSA'],\n",
       " 'BLIDA': ['HADDAD ZAHIR'],\n",
       " 'ALGER': ['MD CHERIF SAMIR',\n",
       "  'IBRIR SLIMANE',\n",
       "  'IBRIR ABDELHAK',\n",
       "  'EURL MILK SODA FOOD',\n",
       "  'IBRIR LARBI ALGER',\n",
       "  'EURL CANDILAIT'],\n",
       " 'BOUIRA': ['IBRIR ABDESLAM'],\n",
       " 'TEBESSA': ['EURL NASR ECHARK'],\n",
       " 'TLEMCEN': ['IBRIRKHELIL'],\n",
       " 'TIARET': ['IBRIR SAMIR'],\n",
       " 'TIZI OUZOU': ['SARL CANDY DISTRIBUTION', 'SARL CANDY DISTRIBUTION 2 -TO'],\n",
       " 'DJELFA': ['BOUZIDI ABDELKRIM'],\n",
       " 'JIJEL': ['SARL JGOAA'],\n",
       " 'SETIF': ['EURL CANDY MILK', 'EURL DELICIOUS MILK'],\n",
       " 'SAIDA': ['BELHOCINE Abdellatif'],\n",
       " 'SKIKDA': ['HAMAZA LAKHDAR', 'FOURAR ALI'],\n",
       " 'SIDI BEL ABBES': ['EURL EL TEWFIK'],\n",
       " 'ANNABA': ['EURL ILYES FOOD', 'ANNABA 2'],\n",
       " 'GUELMA': ['AZERINE YACINE', 'TABOU HAMID'],\n",
       " 'CONSTANTINE': ['IBRIR AZEDINE', 'FOURAR SAID', 'EURL NOUNOU COMMERCE '],\n",
       " 'MEDEA': ['SNC TITTERI DISTRIB'],\n",
       " 'TAMANRASSET': ['TAMANRASSET'],\n",
       " 'MOSTAGHANEM': ['AKLI FATAH', 'IBRIR YANIS'],\n",
       " \"M'SILA\": ['SARL SONARIX'],\n",
       " 'MASCARA': ['IBRIR NACER'],\n",
       " 'OUARGLA': ['SARL BATEAU SUD OUAREGLA', 'SARL BATEAU SUD TOUGGOURT'],\n",
       " 'ORAN': ['MELIANI SID AHMED', 'IBRIR MOHAMED', 'IBRIR LAIT', 'BENOUHAMOU'],\n",
       " 'RELIZANE': ['BOURZIG BOUZIANE', 'IBRIR FAROUK'],\n",
       " 'BBA': ['EURL AT FOODS DISTRIBUTION'],\n",
       " 'BOUMERDES': ['EURL LAIT PROD - BOUMERDES 2', 'EURL LAIT PROD'],\n",
       " 'EL TAREF': ['BOUTELIATE MESSAOUDN '],\n",
       " 'EL OUED': ['ABDESSADOK ALAEDDINE'],\n",
       " 'KHENCHELA': ['HANI MOUAD', 'TOUAT A/MADJID'],\n",
       " 'SOUK AHRAS': ['DRIDI LARBI'],\n",
       " 'TIPAZA': ['SARL DISTRI LAIT'],\n",
       " 'MILA': ['IBRIR RIDA'],\n",
       " 'AIN DEFLA': ['EURL ADEMLAIT-AIN DEFLA'],\n",
       " 'AIN TEMOUCHENT': ['BENDIMRED SAMIR'],\n",
       " 'EL MENIA': ['IBRIR GHARDAIA', 'Boussena']}"
      ]
     },
     "execution_count": 129,
     "metadata": {},
     "output_type": "execute_result"
    }
   ],
   "source": [
    "sectors = myData[[\"SECTOR NAME\",\"REGION NAME\"]].drop_duplicates()\n",
    "sectorDict = { region.upper() : [sector for sector in sectors[sectors[\"REGION NAME\"]==region][\"SECTOR NAME\"]] for region in sectors[\"REGION NAME\"].drop_duplicates().tolist()}\n",
    "sectorDict"
   ]
  },
  {
   "cell_type": "code",
   "execution_count": 130,
   "metadata": {
    "scrolled": true
   },
   "outputs": [
    {
     "data": {
      "text/plain": [
       "{'laits blancs': ['entier',\n",
       "  'de 1l',\n",
       "  'viva',\n",
       "  'de 50cl',\n",
       "  'silhouette',\n",
       "  'de 1l sans lactose'],\n",
       " 'laits aromatisés': ['choco 20cl',\n",
       "  'choco 125 ml',\n",
       "  'fraise 125 ml',\n",
       "  'candy caramel 125 ml',\n",
       "  'choco 1l',\n",
       "  'fraise 20cl',\n",
       "  'banane 125 ml'],\n",
       " 'laits & jus': ['twist o-a 20cl',\n",
       "  'twist o-f-b 20cl',\n",
       "  'twist o-f-b 1l',\n",
       "  'twist o-a 1l',\n",
       "  'twist o-m 20cl',\n",
       "  'twist p-a 20cl',\n",
       "  'twist o-m 1l',\n",
       "  'twist p-a 1l',\n",
       "  'twist o-f-b 125ml',\n",
       "  'twist o-a 125ml'],\n",
       " 'boissons': ['cocktail 1l',\n",
       "  'orange 1l',\n",
       "  'citronnade',\n",
       "  'nectar de grenade',\n",
       "  'cocktail 20cl',\n",
       "  'orange 20cl'],\n",
       " 'le maitre cuisinier': ['preparation culinaire'],\n",
       " 'le maitre glacier': ['ice cream - vanille',\n",
       "  'ice cream - chocolat',\n",
       "  'ice cream - fraise'],\n",
       " 'poudre etui': ['etui 500g']}"
      ]
     },
     "execution_count": 130,
     "metadata": {},
     "output_type": "execute_result"
    }
   ],
   "source": [
    "productGamme = myData[[\"PRODUCT_NAME\",\"PRODUCTPAGE_CODE\"]].drop_duplicates()\n",
    "productDict = { gamme.lower() : [product.lower() for product in productGamme[productGamme[\"PRODUCTPAGE_CODE\"]==gamme][\"PRODUCT_NAME\"]] for gamme in productGamme[\"PRODUCTPAGE_CODE\"].drop_duplicates().tolist()}\n",
    "productDict"
   ]
  },
  {
   "cell_type": "code",
   "execution_count": 79,
   "metadata": {},
   "outputs": [
    {
     "name": "stdout",
     "output_type": "stream",
     "text": [
      "4.32 s ± 99.1 ms per loop (mean ± std. dev. of 7 runs, 1 loop each)\n"
     ]
    }
   ],
   "source": [
    "%%timeit\n",
    "myData[\"GREGORIAN_DATE\"].str.slice(stop=7).drop_duplicates().sort_values()"
   ]
  },
  {
   "cell_type": "code",
   "execution_count": 80,
   "metadata": {},
   "outputs": [
    {
     "name": "stdout",
     "output_type": "stream",
     "text": [
      "3.89 s ± 45.8 ms per loop (mean ± std. dev. of 7 runs, 1 loop each)\n"
     ]
    }
   ],
   "source": [
    "%%timeit\n",
    "myData[\"GREGORIAN_DATE\"].map(lambda x: x[:7]).drop_duplicates().sort_values()"
   ]
  },
  {
   "cell_type": "code",
   "execution_count": 82,
   "metadata": {},
   "outputs": [
    {
     "name": "stdout",
     "output_type": "stream",
     "text": [
      "223 ms ± 4.91 ms per loop (mean ± std. dev. of 7 runs, 1 loop each)\n"
     ]
    }
   ],
   "source": [
    "%%timeit\n",
    "myData[\"GREGORIAN_DATE\"].drop_duplicates().str.slice(stop=7).drop_duplicates().sort_values()"
   ]
  },
  {
   "cell_type": "code",
   "execution_count": 81,
   "metadata": {},
   "outputs": [
    {
     "name": "stdout",
     "output_type": "stream",
     "text": [
      "217 ms ± 4 ms per loop (mean ± std. dev. of 7 runs, 1 loop each)\n"
     ]
    }
   ],
   "source": [
    "%%timeit\n",
    "myData[\"GREGORIAN_DATE\"].drop_duplicates().map(lambda x: x[:7]).drop_duplicates().sort_values()"
   ]
  },
  {
   "cell_type": "code",
   "execution_count": 133,
   "metadata": {},
   "outputs": [
    {
     "data": {
      "text/html": [
       "<div>\n",
       "<style scoped>\n",
       "    .dataframe tbody tr th:only-of-type {\n",
       "        vertical-align: middle;\n",
       "    }\n",
       "\n",
       "    .dataframe tbody tr th {\n",
       "        vertical-align: top;\n",
       "    }\n",
       "\n",
       "    .dataframe thead th {\n",
       "        text-align: right;\n",
       "    }\n",
       "</style>\n",
       "<table border=\"1\" class=\"dataframe\">\n",
       "  <thead>\n",
       "    <tr style=\"text-align: right;\">\n",
       "      <th></th>\n",
       "      <th>SECTOR NAME</th>\n",
       "      <th>REGION NAME</th>\n",
       "      <th>PRODUCT_NAME</th>\n",
       "      <th>PRODUCTPAGE_CODE</th>\n",
       "      <th>TURNOVER</th>\n",
       "      <th>DISCOUNT</th>\n",
       "      <th>GREGORIAN_DATE</th>\n",
       "      <th>GREGORIAN_MONTH</th>\n",
       "    </tr>\n",
       "  </thead>\n",
       "  <tbody>\n",
       "    <tr>\n",
       "      <th>0</th>\n",
       "      <td>EURL ADEMLAIT-CHLEF</td>\n",
       "      <td>CHLEF</td>\n",
       "      <td>ENTIER</td>\n",
       "      <td>Laits Blancs</td>\n",
       "      <td>1056.0</td>\n",
       "      <td>0.0</td>\n",
       "      <td>2017-11-25</td>\n",
       "      <td>2017-11</td>\n",
       "    </tr>\n",
       "  </tbody>\n",
       "</table>\n",
       "</div>"
      ],
      "text/plain": [
       "           SECTOR NAME REGION NAME PRODUCT_NAME PRODUCTPAGE_CODE  TURNOVER  \\\n",
       "0  EURL ADEMLAIT-CHLEF       CHLEF       ENTIER     Laits Blancs    1056.0   \n",
       "\n",
       "   DISCOUNT GREGORIAN_DATE GREGORIAN_MONTH  \n",
       "0       0.0     2017-11-25         2017-11  "
      ]
     },
     "execution_count": 133,
     "metadata": {},
     "output_type": "execute_result"
    }
   ],
   "source": [
    "NewDataStock = myData\n",
    "NewDataStock[\"GREGORIAN_MONTH\"] = myData[\"GREGORIAN_DATE\"].map(lambda x: x[:7])\n",
    "NewDataStock.head(1)"
   ]
  },
  {
   "cell_type": "code",
   "execution_count": 134,
   "metadata": {},
   "outputs": [],
   "source": [
    "layout = go.Layout(\n",
    "                    title=\"Serie temporelles - Ventes de produits laitiers\",\n",
    "                    xaxis= {\"title\": \"Time\"},\n",
    "                    yaxis= {\"title\": \"per 1M dinar\"}\n",
    "                    )\n",
    "def DataDisp(Mode,productGamme,regionSlider,promotion):\n",
    "    \n",
    "    data = []\n",
    "     \n",
    "    for gamme,region in tqdm(list(itertools.product(productGamme,regionSlider))):\n",
    "        y = NewDataStock \n",
    "        if gamme != 'tous':\n",
    "            y= y[y[\"PRODUCTPAGE_CODE\"].str.lower().str.match(gamme)]\n",
    "        if region != 'TOUS':\n",
    "            y= y[y[\"REGION NAME\"].str.upper().str.match(region)]\n",
    "\n",
    "        if Mode=='Monthly':\n",
    "            x= NewDataStock[\"GREGORIAN_MONTH\"].drop_duplicates().sort_values()\n",
    "            if promotion:\n",
    "                y2= y.groupby(\"GREGORIAN_MONTH\")[\"DISCOUNT\"].sum()/1000000\n",
    "            y= y.groupby(\"GREGORIAN_MONTH\")[\"TURNOVER\"].sum()/1000000\n",
    "        else:\n",
    "            x= NewDataStock[\"GREGORIAN_DATE\"].drop_duplicates().sort_values()\n",
    "            if promotion:\n",
    "                y2= y.groupby(\"GREGORIAN_MONTH\")[\"DISCOUNT\"].sum()/1000000\n",
    "            y= y.groupby(\"GREGORIAN_DATE\")[\"TURNOVER\"].sum()/1000000\n",
    "\n",
    "        data.append(\n",
    "            go.Scatter(\n",
    "                x = x,\n",
    "                y = y,\n",
    "                mode=\"lines\",\n",
    "                name=f'CAF -- PRD:{gamme}, REG:{region}, {Mode}',\n",
    "            )\n",
    "        )\n",
    "        \n",
    "        if promotion:\n",
    "            data.append(\n",
    "                go.Scatter(\n",
    "                    x = x,\n",
    "                    y = y2,\n",
    "                    mode=\"lines\",\n",
    "                    name=f'Promo -- PRD:{gamme}, REG:{region}, {Mode}',\n",
    "                )\n",
    "            )\n",
    "    fig = go.Figure(data=data,layout=layout)\n",
    "    pyo.iplot(fig)"
   ]
  },
  {
   "cell_type": "code",
   "execution_count": 135,
   "metadata": {},
   "outputs": [
    {
     "data": {
      "application/vnd.jupyter.widget-view+json": {
       "model_id": "487212a7a2c14144aa1e30f6fc433914",
       "version_major": 2,
       "version_minor": 0
      },
      "text/plain": [
       "interactive(children=(RadioButtons(description='Mode:', layout=Layout(width='max-content'), options=('Daily', …"
      ]
     },
     "metadata": {},
     "output_type": "display_data"
    }
   ],
   "source": [
    "Mode = widgets.RadioButtons(\n",
    "    options=['Daily', 'Monthly'],\n",
    "    value='Daily', # Defaults to daily\n",
    "    layout={'width': 'max-content'}, \n",
    "    description='Mode:',\n",
    "    disabled=False\n",
    ")\n",
    "\n",
    "\n",
    "promotion = widgets.Checkbox(\n",
    "    value=False,\n",
    "    description='Promotion',\n",
    "    disabled=False\n",
    ")\n",
    "\n",
    "\n",
    "productGamme = widgets.SelectMultiple(\n",
    "    options=['tous']+list(productDict.keys()),\n",
    "    value=['tous'],\n",
    "    rows=4,\n",
    "    description='Gamme',\n",
    "    disabled=False\n",
    ")\n",
    "\n",
    "regionSlider = widgets.SelectMultiple(\n",
    "    options=['TOUS']+list(sectorDict.keys()),\n",
    "    value=['TOUS'],\n",
    "    rows=4,\n",
    "    description='Region',\n",
    "    disabled=False\n",
    ")\n",
    "        \n",
    "widgets.interactive(DataDisp,Mode=Mode,productGamme=productGamme,regionSlider=regionSlider,promotion=promotion)"
   ]
  },
  {
   "cell_type": "markdown",
   "metadata": {},
   "source": [
    "### Seasonability"
   ]
  },
  {
   "cell_type": "code",
   "execution_count": null,
   "metadata": {},
   "outputs": [],
   "source": [
    "cols=[\"SECTOR NAME\",\"REGION NAME\",\"TURNOVER\",\"DISCOUNT\",\"GREGORIAN_DATE\",\"VENDOR\"]\n",
    "types={\"SECTOR NAME\": \"category\",\"REGION NAME\": \"category\"}\n",
    "myData2 = pd.read_csv(csv_path+\"Updated_Data_2.csv\",header=0,engine='c',usecols=cols,low_memory=False)\n",
    "myData2.head()"
   ]
  },
  {
   "cell_type": "code",
   "execution_count": 173,
   "metadata": {
    "scrolled": false
   },
   "outputs": [
    {
     "data": {
      "application/vnd.jupyter.widget-view+json": {
       "model_id": "7443bf9579144d129c1cb579dc204368",
       "version_major": 2,
       "version_minor": 0
      },
      "text/plain": [
       "HBox(children=(FloatProgress(value=0.0, max=12.0), HTML(value='')))"
      ]
     },
     "metadata": {},
     "output_type": "display_data"
    },
    {
     "name": "stdout",
     "output_type": "stream",
     "text": [
      "\n"
     ]
    },
    {
     "data": {
      "application/vnd.jupyter.widget-view+json": {
       "model_id": "3d8f24a854c4418fb7a02e6d31249c33",
       "version_major": 2,
       "version_minor": 0
      },
      "text/plain": [
       "HBox(children=(FloatProgress(value=0.0, max=12.0), HTML(value='')))"
      ]
     },
     "metadata": {},
     "output_type": "display_data"
    },
    {
     "name": "stdout",
     "output_type": "stream",
     "text": [
      "\n"
     ]
    },
    {
     "data": {
      "application/vnd.jupyter.widget-view+json": {
       "model_id": "a8fb8fbfb7fd4bc29859e10e28209731",
       "version_major": 2,
       "version_minor": 0
      },
      "text/plain": [
       "HBox(children=(FloatProgress(value=0.0, max=12.0), HTML(value='')))"
      ]
     },
     "metadata": {},
     "output_type": "display_data"
    },
    {
     "name": "stdout",
     "output_type": "stream",
     "text": [
      "\n"
     ]
    },
    {
     "data": {
      "application/vnd.jupyter.widget-view+json": {
       "model_id": "7f8ebce5b6734ba3bc9d62f5efec3697",
       "version_major": 2,
       "version_minor": 0
      },
      "text/plain": [
       "HBox(children=(FloatProgress(value=0.0, max=12.0), HTML(value='')))"
      ]
     },
     "metadata": {},
     "output_type": "display_data"
    },
    {
     "name": "stdout",
     "output_type": "stream",
     "text": [
      "\n"
     ]
    },
    {
     "data": {
      "application/vnd.plotly.v1+json": {
       "config": {
        "linkText": "Export to plot.ly",
        "plotlyServerURL": "https://plot.ly",
        "showLink": false
       },
       "data": [
        {
         "mode": "lines",
         "name": "mean seasonability",
         "type": "scatter",
         "x": [
          "-01-",
          "-02-",
          "-03-",
          "-04-",
          "-05-",
          "-06-",
          "-07-",
          "-08-",
          "-09-",
          "-10-",
          "-11-",
          "-12-"
         ],
         "y": [
          1178069624.0650346,
          1070062159.9727808,
          1182983136.780864,
          1205462942.6088717,
          1419788179.1396835,
          1204290022.048942,
          1516378678.8274515,
          1590393948.5540235,
          1621267346.9843848,
          1730999692.513018,
          1547578779.0552466,
          1549650662.9709408
         ]
        },
        {
         "mode": "lines",
         "name": "2016 seasonability",
         "type": "scatter",
         "x": [
          "-01-",
          "-02-",
          "-03-",
          "-04-",
          "-05-",
          "-06-",
          "-07-",
          "-08-",
          "-09-",
          "-10-",
          "-11-",
          "-12-"
         ],
         "y": [
          817327585,
          658962249,
          708764276,
          755236818,
          851128389,
          772133020,
          851378923,
          1040178851,
          1049045249,
          1193685961,
          1161975401,
          1005508334
         ]
        },
        {
         "mode": "lines",
         "name": "2017 seasonability",
         "type": "scatter",
         "x": [
          "-01-",
          "-02-",
          "-03-",
          "-04-",
          "-05-",
          "-06-",
          "-07-",
          "-08-",
          "-09-",
          "-10-",
          "-11-",
          "-12-"
         ],
         "y": [
          1238519547,
          1097211304.7416883,
          1226528052.945176,
          1303069379.2360237,
          1417121152.208134,
          982566573.463572,
          1354844803.9483957,
          1454154881.9577575,
          1299542462.83276,
          1437784506.0167718,
          1277699502.0764842,
          1329007442.300002
         ]
        },
        {
         "mode": "lines",
         "name": "2018 seasonability",
         "type": "scatter",
         "x": [
          "-01-",
          "-02-",
          "-03-",
          "-04-",
          "-05-",
          "-06-",
          "-07-",
          "-08-",
          "-09-",
          "-10-",
          "-11-",
          "-12-"
         ],
         "y": [
          1478361740.1951034,
          1454012926.176654,
          1613657081.3974159,
          1558082630.590591,
          1991114996.2109163,
          1858170472.6832535,
          2342912309.533959,
          2276848112.704317,
          2515214329.120396,
          2561528610.522281,
          2203061434.089254,
          2314436212.6128182
         ]
        }
       ],
       "layout": {
        "template": {
         "data": {
          "bar": [
           {
            "error_x": {
             "color": "#2a3f5f"
            },
            "error_y": {
             "color": "#2a3f5f"
            },
            "marker": {
             "line": {
              "color": "#E5ECF6",
              "width": 0.5
             }
            },
            "type": "bar"
           }
          ],
          "barpolar": [
           {
            "marker": {
             "line": {
              "color": "#E5ECF6",
              "width": 0.5
             }
            },
            "type": "barpolar"
           }
          ],
          "carpet": [
           {
            "aaxis": {
             "endlinecolor": "#2a3f5f",
             "gridcolor": "white",
             "linecolor": "white",
             "minorgridcolor": "white",
             "startlinecolor": "#2a3f5f"
            },
            "baxis": {
             "endlinecolor": "#2a3f5f",
             "gridcolor": "white",
             "linecolor": "white",
             "minorgridcolor": "white",
             "startlinecolor": "#2a3f5f"
            },
            "type": "carpet"
           }
          ],
          "choropleth": [
           {
            "colorbar": {
             "outlinewidth": 0,
             "ticks": ""
            },
            "type": "choropleth"
           }
          ],
          "contour": [
           {
            "colorbar": {
             "outlinewidth": 0,
             "ticks": ""
            },
            "colorscale": [
             [
              0,
              "#0d0887"
             ],
             [
              0.1111111111111111,
              "#46039f"
             ],
             [
              0.2222222222222222,
              "#7201a8"
             ],
             [
              0.3333333333333333,
              "#9c179e"
             ],
             [
              0.4444444444444444,
              "#bd3786"
             ],
             [
              0.5555555555555556,
              "#d8576b"
             ],
             [
              0.6666666666666666,
              "#ed7953"
             ],
             [
              0.7777777777777778,
              "#fb9f3a"
             ],
             [
              0.8888888888888888,
              "#fdca26"
             ],
             [
              1,
              "#f0f921"
             ]
            ],
            "type": "contour"
           }
          ],
          "contourcarpet": [
           {
            "colorbar": {
             "outlinewidth": 0,
             "ticks": ""
            },
            "type": "contourcarpet"
           }
          ],
          "heatmap": [
           {
            "colorbar": {
             "outlinewidth": 0,
             "ticks": ""
            },
            "colorscale": [
             [
              0,
              "#0d0887"
             ],
             [
              0.1111111111111111,
              "#46039f"
             ],
             [
              0.2222222222222222,
              "#7201a8"
             ],
             [
              0.3333333333333333,
              "#9c179e"
             ],
             [
              0.4444444444444444,
              "#bd3786"
             ],
             [
              0.5555555555555556,
              "#d8576b"
             ],
             [
              0.6666666666666666,
              "#ed7953"
             ],
             [
              0.7777777777777778,
              "#fb9f3a"
             ],
             [
              0.8888888888888888,
              "#fdca26"
             ],
             [
              1,
              "#f0f921"
             ]
            ],
            "type": "heatmap"
           }
          ],
          "heatmapgl": [
           {
            "colorbar": {
             "outlinewidth": 0,
             "ticks": ""
            },
            "colorscale": [
             [
              0,
              "#0d0887"
             ],
             [
              0.1111111111111111,
              "#46039f"
             ],
             [
              0.2222222222222222,
              "#7201a8"
             ],
             [
              0.3333333333333333,
              "#9c179e"
             ],
             [
              0.4444444444444444,
              "#bd3786"
             ],
             [
              0.5555555555555556,
              "#d8576b"
             ],
             [
              0.6666666666666666,
              "#ed7953"
             ],
             [
              0.7777777777777778,
              "#fb9f3a"
             ],
             [
              0.8888888888888888,
              "#fdca26"
             ],
             [
              1,
              "#f0f921"
             ]
            ],
            "type": "heatmapgl"
           }
          ],
          "histogram": [
           {
            "marker": {
             "colorbar": {
              "outlinewidth": 0,
              "ticks": ""
             }
            },
            "type": "histogram"
           }
          ],
          "histogram2d": [
           {
            "colorbar": {
             "outlinewidth": 0,
             "ticks": ""
            },
            "colorscale": [
             [
              0,
              "#0d0887"
             ],
             [
              0.1111111111111111,
              "#46039f"
             ],
             [
              0.2222222222222222,
              "#7201a8"
             ],
             [
              0.3333333333333333,
              "#9c179e"
             ],
             [
              0.4444444444444444,
              "#bd3786"
             ],
             [
              0.5555555555555556,
              "#d8576b"
             ],
             [
              0.6666666666666666,
              "#ed7953"
             ],
             [
              0.7777777777777778,
              "#fb9f3a"
             ],
             [
              0.8888888888888888,
              "#fdca26"
             ],
             [
              1,
              "#f0f921"
             ]
            ],
            "type": "histogram2d"
           }
          ],
          "histogram2dcontour": [
           {
            "colorbar": {
             "outlinewidth": 0,
             "ticks": ""
            },
            "colorscale": [
             [
              0,
              "#0d0887"
             ],
             [
              0.1111111111111111,
              "#46039f"
             ],
             [
              0.2222222222222222,
              "#7201a8"
             ],
             [
              0.3333333333333333,
              "#9c179e"
             ],
             [
              0.4444444444444444,
              "#bd3786"
             ],
             [
              0.5555555555555556,
              "#d8576b"
             ],
             [
              0.6666666666666666,
              "#ed7953"
             ],
             [
              0.7777777777777778,
              "#fb9f3a"
             ],
             [
              0.8888888888888888,
              "#fdca26"
             ],
             [
              1,
              "#f0f921"
             ]
            ],
            "type": "histogram2dcontour"
           }
          ],
          "mesh3d": [
           {
            "colorbar": {
             "outlinewidth": 0,
             "ticks": ""
            },
            "type": "mesh3d"
           }
          ],
          "parcoords": [
           {
            "line": {
             "colorbar": {
              "outlinewidth": 0,
              "ticks": ""
             }
            },
            "type": "parcoords"
           }
          ],
          "pie": [
           {
            "automargin": true,
            "type": "pie"
           }
          ],
          "scatter": [
           {
            "marker": {
             "colorbar": {
              "outlinewidth": 0,
              "ticks": ""
             }
            },
            "type": "scatter"
           }
          ],
          "scatter3d": [
           {
            "line": {
             "colorbar": {
              "outlinewidth": 0,
              "ticks": ""
             }
            },
            "marker": {
             "colorbar": {
              "outlinewidth": 0,
              "ticks": ""
             }
            },
            "type": "scatter3d"
           }
          ],
          "scattercarpet": [
           {
            "marker": {
             "colorbar": {
              "outlinewidth": 0,
              "ticks": ""
             }
            },
            "type": "scattercarpet"
           }
          ],
          "scattergeo": [
           {
            "marker": {
             "colorbar": {
              "outlinewidth": 0,
              "ticks": ""
             }
            },
            "type": "scattergeo"
           }
          ],
          "scattergl": [
           {
            "marker": {
             "colorbar": {
              "outlinewidth": 0,
              "ticks": ""
             }
            },
            "type": "scattergl"
           }
          ],
          "scattermapbox": [
           {
            "marker": {
             "colorbar": {
              "outlinewidth": 0,
              "ticks": ""
             }
            },
            "type": "scattermapbox"
           }
          ],
          "scatterpolar": [
           {
            "marker": {
             "colorbar": {
              "outlinewidth": 0,
              "ticks": ""
             }
            },
            "type": "scatterpolar"
           }
          ],
          "scatterpolargl": [
           {
            "marker": {
             "colorbar": {
              "outlinewidth": 0,
              "ticks": ""
             }
            },
            "type": "scatterpolargl"
           }
          ],
          "scatterternary": [
           {
            "marker": {
             "colorbar": {
              "outlinewidth": 0,
              "ticks": ""
             }
            },
            "type": "scatterternary"
           }
          ],
          "surface": [
           {
            "colorbar": {
             "outlinewidth": 0,
             "ticks": ""
            },
            "colorscale": [
             [
              0,
              "#0d0887"
             ],
             [
              0.1111111111111111,
              "#46039f"
             ],
             [
              0.2222222222222222,
              "#7201a8"
             ],
             [
              0.3333333333333333,
              "#9c179e"
             ],
             [
              0.4444444444444444,
              "#bd3786"
             ],
             [
              0.5555555555555556,
              "#d8576b"
             ],
             [
              0.6666666666666666,
              "#ed7953"
             ],
             [
              0.7777777777777778,
              "#fb9f3a"
             ],
             [
              0.8888888888888888,
              "#fdca26"
             ],
             [
              1,
              "#f0f921"
             ]
            ],
            "type": "surface"
           }
          ],
          "table": [
           {
            "cells": {
             "fill": {
              "color": "#EBF0F8"
             },
             "line": {
              "color": "white"
             }
            },
            "header": {
             "fill": {
              "color": "#C8D4E3"
             },
             "line": {
              "color": "white"
             }
            },
            "type": "table"
           }
          ]
         },
         "layout": {
          "annotationdefaults": {
           "arrowcolor": "#2a3f5f",
           "arrowhead": 0,
           "arrowwidth": 1
          },
          "coloraxis": {
           "colorbar": {
            "outlinewidth": 0,
            "ticks": ""
           }
          },
          "colorscale": {
           "diverging": [
            [
             0,
             "#8e0152"
            ],
            [
             0.1,
             "#c51b7d"
            ],
            [
             0.2,
             "#de77ae"
            ],
            [
             0.3,
             "#f1b6da"
            ],
            [
             0.4,
             "#fde0ef"
            ],
            [
             0.5,
             "#f7f7f7"
            ],
            [
             0.6,
             "#e6f5d0"
            ],
            [
             0.7,
             "#b8e186"
            ],
            [
             0.8,
             "#7fbc41"
            ],
            [
             0.9,
             "#4d9221"
            ],
            [
             1,
             "#276419"
            ]
           ],
           "sequential": [
            [
             0,
             "#0d0887"
            ],
            [
             0.1111111111111111,
             "#46039f"
            ],
            [
             0.2222222222222222,
             "#7201a8"
            ],
            [
             0.3333333333333333,
             "#9c179e"
            ],
            [
             0.4444444444444444,
             "#bd3786"
            ],
            [
             0.5555555555555556,
             "#d8576b"
            ],
            [
             0.6666666666666666,
             "#ed7953"
            ],
            [
             0.7777777777777778,
             "#fb9f3a"
            ],
            [
             0.8888888888888888,
             "#fdca26"
            ],
            [
             1,
             "#f0f921"
            ]
           ],
           "sequentialminus": [
            [
             0,
             "#0d0887"
            ],
            [
             0.1111111111111111,
             "#46039f"
            ],
            [
             0.2222222222222222,
             "#7201a8"
            ],
            [
             0.3333333333333333,
             "#9c179e"
            ],
            [
             0.4444444444444444,
             "#bd3786"
            ],
            [
             0.5555555555555556,
             "#d8576b"
            ],
            [
             0.6666666666666666,
             "#ed7953"
            ],
            [
             0.7777777777777778,
             "#fb9f3a"
            ],
            [
             0.8888888888888888,
             "#fdca26"
            ],
            [
             1,
             "#f0f921"
            ]
           ]
          },
          "colorway": [
           "#636efa",
           "#EF553B",
           "#00cc96",
           "#ab63fa",
           "#FFA15A",
           "#19d3f3",
           "#FF6692",
           "#B6E880",
           "#FF97FF",
           "#FECB52"
          ],
          "font": {
           "color": "#2a3f5f"
          },
          "geo": {
           "bgcolor": "white",
           "lakecolor": "white",
           "landcolor": "#E5ECF6",
           "showlakes": true,
           "showland": true,
           "subunitcolor": "white"
          },
          "hoverlabel": {
           "align": "left"
          },
          "hovermode": "closest",
          "mapbox": {
           "style": "light"
          },
          "paper_bgcolor": "white",
          "plot_bgcolor": "#E5ECF6",
          "polar": {
           "angularaxis": {
            "gridcolor": "white",
            "linecolor": "white",
            "ticks": ""
           },
           "bgcolor": "#E5ECF6",
           "radialaxis": {
            "gridcolor": "white",
            "linecolor": "white",
            "ticks": ""
           }
          },
          "scene": {
           "xaxis": {
            "backgroundcolor": "#E5ECF6",
            "gridcolor": "white",
            "gridwidth": 2,
            "linecolor": "white",
            "showbackground": true,
            "ticks": "",
            "zerolinecolor": "white"
           },
           "yaxis": {
            "backgroundcolor": "#E5ECF6",
            "gridcolor": "white",
            "gridwidth": 2,
            "linecolor": "white",
            "showbackground": true,
            "ticks": "",
            "zerolinecolor": "white"
           },
           "zaxis": {
            "backgroundcolor": "#E5ECF6",
            "gridcolor": "white",
            "gridwidth": 2,
            "linecolor": "white",
            "showbackground": true,
            "ticks": "",
            "zerolinecolor": "white"
           }
          },
          "shapedefaults": {
           "line": {
            "color": "#2a3f5f"
           }
          },
          "ternary": {
           "aaxis": {
            "gridcolor": "white",
            "linecolor": "white",
            "ticks": ""
           },
           "baxis": {
            "gridcolor": "white",
            "linecolor": "white",
            "ticks": ""
           },
           "bgcolor": "#E5ECF6",
           "caxis": {
            "gridcolor": "white",
            "linecolor": "white",
            "ticks": ""
           }
          },
          "title": {
           "x": 0.05
          },
          "xaxis": {
           "automargin": true,
           "gridcolor": "white",
           "linecolor": "white",
           "ticks": "",
           "title": {
            "standoff": 15
           },
           "zerolinecolor": "white",
           "zerolinewidth": 2
          },
          "yaxis": {
           "automargin": true,
           "gridcolor": "white",
           "linecolor": "white",
           "ticks": "",
           "title": {
            "standoff": 15
           },
           "zerolinecolor": "white",
           "zerolinewidth": 2
          }
         }
        },
        "title": {
         "text": "Seasonability behaviours"
        }
       }
      },
      "text/html": [
       "<div>\n",
       "        \n",
       "        \n",
       "            <div id=\"3ff0072f-044a-4a90-bd86-3022ff70571e\" class=\"plotly-graph-div\" style=\"height:525px; width:100%;\"></div>\n",
       "            <script type=\"text/javascript\">\n",
       "                require([\"plotly\"], function(Plotly) {\n",
       "                    window.PLOTLYENV=window.PLOTLYENV || {};\n",
       "                    \n",
       "                if (document.getElementById(\"3ff0072f-044a-4a90-bd86-3022ff70571e\")) {\n",
       "                    Plotly.newPlot(\n",
       "                        '3ff0072f-044a-4a90-bd86-3022ff70571e',\n",
       "                        [{\"mode\": \"lines\", \"name\": \"mean seasonability\", \"type\": \"scatter\", \"x\": [\"-01-\", \"-02-\", \"-03-\", \"-04-\", \"-05-\", \"-06-\", \"-07-\", \"-08-\", \"-09-\", \"-10-\", \"-11-\", \"-12-\"], \"y\": [1178069624.0650346, 1070062159.9727808, 1182983136.780864, 1205462942.6088717, 1419788179.1396835, 1204290022.048942, 1516378678.8274515, 1590393948.5540235, 1621267346.9843848, 1730999692.513018, 1547578779.0552466, 1549650662.9709408]}, {\"mode\": \"lines\", \"name\": \"2016 seasonability\", \"type\": \"scatter\", \"x\": [\"-01-\", \"-02-\", \"-03-\", \"-04-\", \"-05-\", \"-06-\", \"-07-\", \"-08-\", \"-09-\", \"-10-\", \"-11-\", \"-12-\"], \"y\": [817327585.0, 658962249.0, 708764276.0, 755236818.0, 851128389.0, 772133020.0, 851378923.0, 1040178851.0, 1049045249.0, 1193685961.0, 1161975401.0, 1005508334.0]}, {\"mode\": \"lines\", \"name\": \"2017 seasonability\", \"type\": \"scatter\", \"x\": [\"-01-\", \"-02-\", \"-03-\", \"-04-\", \"-05-\", \"-06-\", \"-07-\", \"-08-\", \"-09-\", \"-10-\", \"-11-\", \"-12-\"], \"y\": [1238519547.0, 1097211304.7416883, 1226528052.945176, 1303069379.2360237, 1417121152.208134, 982566573.463572, 1354844803.9483957, 1454154881.9577575, 1299542462.83276, 1437784506.0167718, 1277699502.0764842, 1329007442.300002]}, {\"mode\": \"lines\", \"name\": \"2018 seasonability\", \"type\": \"scatter\", \"x\": [\"-01-\", \"-02-\", \"-03-\", \"-04-\", \"-05-\", \"-06-\", \"-07-\", \"-08-\", \"-09-\", \"-10-\", \"-11-\", \"-12-\"], \"y\": [1478361740.1951034, 1454012926.176654, 1613657081.3974159, 1558082630.590591, 1991114996.2109163, 1858170472.6832535, 2342912309.533959, 2276848112.704317, 2515214329.120396, 2561528610.522281, 2203061434.089254, 2314436212.6128182]}],\n",
       "                        {\"template\": {\"data\": {\"bar\": [{\"error_x\": {\"color\": \"#2a3f5f\"}, \"error_y\": {\"color\": \"#2a3f5f\"}, \"marker\": {\"line\": {\"color\": \"#E5ECF6\", \"width\": 0.5}}, \"type\": \"bar\"}], \"barpolar\": [{\"marker\": {\"line\": {\"color\": \"#E5ECF6\", \"width\": 0.5}}, \"type\": \"barpolar\"}], \"carpet\": [{\"aaxis\": {\"endlinecolor\": \"#2a3f5f\", \"gridcolor\": \"white\", \"linecolor\": \"white\", \"minorgridcolor\": \"white\", \"startlinecolor\": \"#2a3f5f\"}, \"baxis\": {\"endlinecolor\": \"#2a3f5f\", \"gridcolor\": \"white\", \"linecolor\": \"white\", \"minorgridcolor\": \"white\", \"startlinecolor\": \"#2a3f5f\"}, \"type\": \"carpet\"}], \"choropleth\": [{\"colorbar\": {\"outlinewidth\": 0, \"ticks\": \"\"}, \"type\": \"choropleth\"}], \"contour\": [{\"colorbar\": {\"outlinewidth\": 0, \"ticks\": \"\"}, \"colorscale\": [[0.0, \"#0d0887\"], [0.1111111111111111, \"#46039f\"], [0.2222222222222222, \"#7201a8\"], [0.3333333333333333, \"#9c179e\"], [0.4444444444444444, \"#bd3786\"], [0.5555555555555556, \"#d8576b\"], [0.6666666666666666, \"#ed7953\"], [0.7777777777777778, \"#fb9f3a\"], [0.8888888888888888, \"#fdca26\"], [1.0, \"#f0f921\"]], \"type\": \"contour\"}], \"contourcarpet\": [{\"colorbar\": {\"outlinewidth\": 0, \"ticks\": \"\"}, \"type\": \"contourcarpet\"}], \"heatmap\": [{\"colorbar\": {\"outlinewidth\": 0, \"ticks\": \"\"}, \"colorscale\": [[0.0, \"#0d0887\"], [0.1111111111111111, \"#46039f\"], [0.2222222222222222, \"#7201a8\"], [0.3333333333333333, \"#9c179e\"], [0.4444444444444444, \"#bd3786\"], [0.5555555555555556, \"#d8576b\"], [0.6666666666666666, \"#ed7953\"], [0.7777777777777778, \"#fb9f3a\"], [0.8888888888888888, \"#fdca26\"], [1.0, \"#f0f921\"]], \"type\": \"heatmap\"}], \"heatmapgl\": [{\"colorbar\": {\"outlinewidth\": 0, \"ticks\": \"\"}, \"colorscale\": [[0.0, \"#0d0887\"], [0.1111111111111111, \"#46039f\"], [0.2222222222222222, \"#7201a8\"], [0.3333333333333333, \"#9c179e\"], [0.4444444444444444, \"#bd3786\"], [0.5555555555555556, \"#d8576b\"], [0.6666666666666666, \"#ed7953\"], [0.7777777777777778, \"#fb9f3a\"], [0.8888888888888888, \"#fdca26\"], [1.0, \"#f0f921\"]], \"type\": \"heatmapgl\"}], \"histogram\": [{\"marker\": {\"colorbar\": {\"outlinewidth\": 0, \"ticks\": \"\"}}, \"type\": \"histogram\"}], \"histogram2d\": [{\"colorbar\": {\"outlinewidth\": 0, \"ticks\": \"\"}, \"colorscale\": [[0.0, \"#0d0887\"], [0.1111111111111111, \"#46039f\"], [0.2222222222222222, \"#7201a8\"], [0.3333333333333333, \"#9c179e\"], [0.4444444444444444, \"#bd3786\"], [0.5555555555555556, \"#d8576b\"], [0.6666666666666666, \"#ed7953\"], [0.7777777777777778, \"#fb9f3a\"], [0.8888888888888888, \"#fdca26\"], [1.0, \"#f0f921\"]], \"type\": \"histogram2d\"}], \"histogram2dcontour\": [{\"colorbar\": {\"outlinewidth\": 0, \"ticks\": \"\"}, \"colorscale\": [[0.0, \"#0d0887\"], [0.1111111111111111, \"#46039f\"], [0.2222222222222222, \"#7201a8\"], [0.3333333333333333, \"#9c179e\"], [0.4444444444444444, \"#bd3786\"], [0.5555555555555556, \"#d8576b\"], [0.6666666666666666, \"#ed7953\"], [0.7777777777777778, \"#fb9f3a\"], [0.8888888888888888, \"#fdca26\"], [1.0, \"#f0f921\"]], \"type\": \"histogram2dcontour\"}], \"mesh3d\": [{\"colorbar\": {\"outlinewidth\": 0, \"ticks\": \"\"}, \"type\": \"mesh3d\"}], \"parcoords\": [{\"line\": {\"colorbar\": {\"outlinewidth\": 0, \"ticks\": \"\"}}, \"type\": \"parcoords\"}], \"pie\": [{\"automargin\": true, \"type\": \"pie\"}], \"scatter\": [{\"marker\": {\"colorbar\": {\"outlinewidth\": 0, \"ticks\": \"\"}}, \"type\": \"scatter\"}], \"scatter3d\": [{\"line\": {\"colorbar\": {\"outlinewidth\": 0, \"ticks\": \"\"}}, \"marker\": {\"colorbar\": {\"outlinewidth\": 0, \"ticks\": \"\"}}, \"type\": \"scatter3d\"}], \"scattercarpet\": [{\"marker\": {\"colorbar\": {\"outlinewidth\": 0, \"ticks\": \"\"}}, \"type\": \"scattercarpet\"}], \"scattergeo\": [{\"marker\": {\"colorbar\": {\"outlinewidth\": 0, \"ticks\": \"\"}}, \"type\": \"scattergeo\"}], \"scattergl\": [{\"marker\": {\"colorbar\": {\"outlinewidth\": 0, \"ticks\": \"\"}}, \"type\": \"scattergl\"}], \"scattermapbox\": [{\"marker\": {\"colorbar\": {\"outlinewidth\": 0, \"ticks\": \"\"}}, \"type\": \"scattermapbox\"}], \"scatterpolar\": [{\"marker\": {\"colorbar\": {\"outlinewidth\": 0, \"ticks\": \"\"}}, \"type\": \"scatterpolar\"}], \"scatterpolargl\": [{\"marker\": {\"colorbar\": {\"outlinewidth\": 0, \"ticks\": \"\"}}, \"type\": \"scatterpolargl\"}], \"scatterternary\": [{\"marker\": {\"colorbar\": {\"outlinewidth\": 0, \"ticks\": \"\"}}, \"type\": \"scatterternary\"}], \"surface\": [{\"colorbar\": {\"outlinewidth\": 0, \"ticks\": \"\"}, \"colorscale\": [[0.0, \"#0d0887\"], [0.1111111111111111, \"#46039f\"], [0.2222222222222222, \"#7201a8\"], [0.3333333333333333, \"#9c179e\"], [0.4444444444444444, \"#bd3786\"], [0.5555555555555556, \"#d8576b\"], [0.6666666666666666, \"#ed7953\"], [0.7777777777777778, \"#fb9f3a\"], [0.8888888888888888, \"#fdca26\"], [1.0, \"#f0f921\"]], \"type\": \"surface\"}], \"table\": [{\"cells\": {\"fill\": {\"color\": \"#EBF0F8\"}, \"line\": {\"color\": \"white\"}}, \"header\": {\"fill\": {\"color\": \"#C8D4E3\"}, \"line\": {\"color\": \"white\"}}, \"type\": \"table\"}]}, \"layout\": {\"annotationdefaults\": {\"arrowcolor\": \"#2a3f5f\", \"arrowhead\": 0, \"arrowwidth\": 1}, \"coloraxis\": {\"colorbar\": {\"outlinewidth\": 0, \"ticks\": \"\"}}, \"colorscale\": {\"diverging\": [[0, \"#8e0152\"], [0.1, \"#c51b7d\"], [0.2, \"#de77ae\"], [0.3, \"#f1b6da\"], [0.4, \"#fde0ef\"], [0.5, \"#f7f7f7\"], [0.6, \"#e6f5d0\"], [0.7, \"#b8e186\"], [0.8, \"#7fbc41\"], [0.9, \"#4d9221\"], [1, \"#276419\"]], \"sequential\": [[0.0, \"#0d0887\"], [0.1111111111111111, \"#46039f\"], [0.2222222222222222, \"#7201a8\"], [0.3333333333333333, \"#9c179e\"], [0.4444444444444444, \"#bd3786\"], [0.5555555555555556, \"#d8576b\"], [0.6666666666666666, \"#ed7953\"], [0.7777777777777778, \"#fb9f3a\"], [0.8888888888888888, \"#fdca26\"], [1.0, \"#f0f921\"]], \"sequentialminus\": [[0.0, \"#0d0887\"], [0.1111111111111111, \"#46039f\"], [0.2222222222222222, \"#7201a8\"], [0.3333333333333333, \"#9c179e\"], [0.4444444444444444, \"#bd3786\"], [0.5555555555555556, \"#d8576b\"], [0.6666666666666666, \"#ed7953\"], [0.7777777777777778, \"#fb9f3a\"], [0.8888888888888888, \"#fdca26\"], [1.0, \"#f0f921\"]]}, \"colorway\": [\"#636efa\", \"#EF553B\", \"#00cc96\", \"#ab63fa\", \"#FFA15A\", \"#19d3f3\", \"#FF6692\", \"#B6E880\", \"#FF97FF\", \"#FECB52\"], \"font\": {\"color\": \"#2a3f5f\"}, \"geo\": {\"bgcolor\": \"white\", \"lakecolor\": \"white\", \"landcolor\": \"#E5ECF6\", \"showlakes\": true, \"showland\": true, \"subunitcolor\": \"white\"}, \"hoverlabel\": {\"align\": \"left\"}, \"hovermode\": \"closest\", \"mapbox\": {\"style\": \"light\"}, \"paper_bgcolor\": \"white\", \"plot_bgcolor\": \"#E5ECF6\", \"polar\": {\"angularaxis\": {\"gridcolor\": \"white\", \"linecolor\": \"white\", \"ticks\": \"\"}, \"bgcolor\": \"#E5ECF6\", \"radialaxis\": {\"gridcolor\": \"white\", \"linecolor\": \"white\", \"ticks\": \"\"}}, \"scene\": {\"xaxis\": {\"backgroundcolor\": \"#E5ECF6\", \"gridcolor\": \"white\", \"gridwidth\": 2, \"linecolor\": \"white\", \"showbackground\": true, \"ticks\": \"\", \"zerolinecolor\": \"white\"}, \"yaxis\": {\"backgroundcolor\": \"#E5ECF6\", \"gridcolor\": \"white\", \"gridwidth\": 2, \"linecolor\": \"white\", \"showbackground\": true, \"ticks\": \"\", \"zerolinecolor\": \"white\"}, \"zaxis\": {\"backgroundcolor\": \"#E5ECF6\", \"gridcolor\": \"white\", \"gridwidth\": 2, \"linecolor\": \"white\", \"showbackground\": true, \"ticks\": \"\", \"zerolinecolor\": \"white\"}}, \"shapedefaults\": {\"line\": {\"color\": \"#2a3f5f\"}}, \"ternary\": {\"aaxis\": {\"gridcolor\": \"white\", \"linecolor\": \"white\", \"ticks\": \"\"}, \"baxis\": {\"gridcolor\": \"white\", \"linecolor\": \"white\", \"ticks\": \"\"}, \"bgcolor\": \"#E5ECF6\", \"caxis\": {\"gridcolor\": \"white\", \"linecolor\": \"white\", \"ticks\": \"\"}}, \"title\": {\"x\": 0.05}, \"xaxis\": {\"automargin\": true, \"gridcolor\": \"white\", \"linecolor\": \"white\", \"ticks\": \"\", \"title\": {\"standoff\": 15}, \"zerolinecolor\": \"white\", \"zerolinewidth\": 2}, \"yaxis\": {\"automargin\": true, \"gridcolor\": \"white\", \"linecolor\": \"white\", \"ticks\": \"\", \"title\": {\"standoff\": 15}, \"zerolinecolor\": \"white\", \"zerolinewidth\": 2}}}, \"title\": {\"text\": \"Seasonability behaviours\"}},\n",
       "                        {\"responsive\": true}\n",
       "                    ).then(function(){\n",
       "                            \n",
       "var gd = document.getElementById('3ff0072f-044a-4a90-bd86-3022ff70571e');\n",
       "var x = new MutationObserver(function (mutations, observer) {{\n",
       "        var display = window.getComputedStyle(gd).display;\n",
       "        if (!display || display === 'none') {{\n",
       "            console.log([gd, 'removed!']);\n",
       "            Plotly.purge(gd);\n",
       "            observer.disconnect();\n",
       "        }}\n",
       "}});\n",
       "\n",
       "// Listen for the removal of the full notebook cells\n",
       "var notebookContainer = gd.closest('#notebook-container');\n",
       "if (notebookContainer) {{\n",
       "    x.observe(notebookContainer, {childList: true});\n",
       "}}\n",
       "\n",
       "// Listen for the clearing of the current output cell\n",
       "var outputEl = gd.closest('.output');\n",
       "if (outputEl) {{\n",
       "    x.observe(outputEl, {childList: true});\n",
       "}}\n",
       "\n",
       "                        })\n",
       "                };\n",
       "                });\n",
       "            </script>\n",
       "        </div>"
      ]
     },
     "metadata": {},
     "output_type": "display_data"
    }
   ],
   "source": [
    "x = [f'-{i:02d}-' for i in range(1,13)]\n",
    "y = [myData2[myData2[\"GREGORIAN_DATE\"].str.contains(sub)][\"TURNOVER\"].sum()/3 for sub in tqdm(x)]\n",
    "layout = go.Layout(title=\"Seasonability behaviours\")\n",
    "data=[]\n",
    "data.append(go.Scatter(\n",
    "            x = x,\n",
    "            y = y,\n",
    "            mode=\"lines\",\n",
    "            name=\"mean seasonability\",))\n",
    "for year in (2016,2017,2018):\n",
    "    data.append(go.Scatter(\n",
    "            x = x,\n",
    "            y = [myData2[myData2[\"GREGORIAN_DATE\"].str.match(str(year)+sub)][\"TURNOVER\"].sum() for sub in tqdm(x)],\n",
    "            mode=\"lines\",\n",
    "            name=f\"{year} seasonability\",))\n",
    "\n",
    "fig = go.Figure(data=data,layout=layout)\n",
    "pyo.iplot(fig)"
   ]
  },
  {
   "cell_type": "markdown",
   "metadata": {},
   "source": [
    "### Comportement vis à vis les vacances"
   ]
  },
  {
   "cell_type": "code",
   "execution_count": 54,
   "metadata": {},
   "outputs": [
    {
     "data": {
      "text/html": [
       "<div>\n",
       "<style scoped>\n",
       "    .dataframe tbody tr th:only-of-type {\n",
       "        vertical-align: middle;\n",
       "    }\n",
       "\n",
       "    .dataframe tbody tr th {\n",
       "        vertical-align: top;\n",
       "    }\n",
       "\n",
       "    .dataframe thead th {\n",
       "        text-align: right;\n",
       "    }\n",
       "</style>\n",
       "<table border=\"1\" class=\"dataframe\">\n",
       "  <thead>\n",
       "    <tr style=\"text-align: right;\">\n",
       "      <th></th>\n",
       "      <th>VENDOR</th>\n",
       "      <th>REGION NAME</th>\n",
       "      <th>PRODUCT_NAME</th>\n",
       "      <th>PRODUCTPAGE_CODE</th>\n",
       "      <th>TURNOVER</th>\n",
       "      <th>GREGORIAN_DATE</th>\n",
       "      <th>HOLIDAY</th>\n",
       "      <th>SCOLAR_HOLIDAY</th>\n",
       "      <th>ISLAM_EVENT</th>\n",
       "    </tr>\n",
       "  </thead>\n",
       "  <tbody>\n",
       "    <tr>\n",
       "      <th>0</th>\n",
       "      <td>R0201</td>\n",
       "      <td>CHLEF</td>\n",
       "      <td>ENTIER</td>\n",
       "      <td>Laits Blancs</td>\n",
       "      <td>1056.000000</td>\n",
       "      <td>2017-11-25</td>\n",
       "      <td>0</td>\n",
       "      <td>0</td>\n",
       "      <td>None</td>\n",
       "    </tr>\n",
       "    <tr>\n",
       "      <th>1</th>\n",
       "      <td>R0201</td>\n",
       "      <td>CHLEF</td>\n",
       "      <td>DE 1L</td>\n",
       "      <td>Laits Blancs</td>\n",
       "      <td>2999.999988</td>\n",
       "      <td>2017-11-25</td>\n",
       "      <td>0</td>\n",
       "      <td>0</td>\n",
       "      <td>None</td>\n",
       "    </tr>\n",
       "    <tr>\n",
       "      <th>2</th>\n",
       "      <td>R0201</td>\n",
       "      <td>CHLEF</td>\n",
       "      <td>VIVA</td>\n",
       "      <td>Laits Blancs</td>\n",
       "      <td>3168.000000</td>\n",
       "      <td>2017-11-25</td>\n",
       "      <td>0</td>\n",
       "      <td>0</td>\n",
       "      <td>None</td>\n",
       "    </tr>\n",
       "    <tr>\n",
       "      <th>3</th>\n",
       "      <td>R0201</td>\n",
       "      <td>CHLEF</td>\n",
       "      <td>DE 50CL</td>\n",
       "      <td>Laits Blancs</td>\n",
       "      <td>540.000000</td>\n",
       "      <td>2017-11-25</td>\n",
       "      <td>0</td>\n",
       "      <td>0</td>\n",
       "      <td>None</td>\n",
       "    </tr>\n",
       "    <tr>\n",
       "      <th>4</th>\n",
       "      <td>R0201</td>\n",
       "      <td>CHLEF</td>\n",
       "      <td>DE 50CL</td>\n",
       "      <td>Laits Blancs</td>\n",
       "      <td>1080.000000</td>\n",
       "      <td>2017-11-25</td>\n",
       "      <td>0</td>\n",
       "      <td>0</td>\n",
       "      <td>None</td>\n",
       "    </tr>\n",
       "  </tbody>\n",
       "</table>\n",
       "</div>"
      ],
      "text/plain": [
       "  VENDOR REGION NAME PRODUCT_NAME PRODUCTPAGE_CODE     TURNOVER  \\\n",
       "0  R0201       CHLEF       ENTIER     Laits Blancs  1056.000000   \n",
       "1  R0201       CHLEF        DE 1L     Laits Blancs  2999.999988   \n",
       "2  R0201       CHLEF         VIVA     Laits Blancs  3168.000000   \n",
       "3  R0201       CHLEF      DE 50CL     Laits Blancs   540.000000   \n",
       "4  R0201       CHLEF      DE 50CL     Laits Blancs  1080.000000   \n",
       "\n",
       "  GREGORIAN_DATE  HOLIDAY  SCOLAR_HOLIDAY ISLAM_EVENT  \n",
       "0     2017-11-25        0               0        None  \n",
       "1     2017-11-25        0               0        None  \n",
       "2     2017-11-25        0               0        None  \n",
       "3     2017-11-25        0               0        None  \n",
       "4     2017-11-25        0               0        None  "
      ]
     },
     "execution_count": 54,
     "metadata": {},
     "output_type": "execute_result"
    }
   ],
   "source": [
    "cols=[\"REGION NAME\",\"PRODUCT_NAME\",\"PRODUCTPAGE_CODE\",\"GREGORIAN_DATE\",\"HOLIDAY\",\"SCOLAR_HOLIDAY\",\"ISLAM_EVENT\",\"TURNOVER\",\"VENDOR\"]\n",
    "types={column : \"category\" for column in cols[:7]}\n",
    "myData3 = pd.read_csv(csv_path+\"Updated_Data_2.csv\",header=0,engine='c',usecols=cols,low_memory=False,encoding = 'utf-8',)\n",
    "myData3.head()"
   ]
  },
  {
   "cell_type": "code",
   "execution_count": 4,
   "metadata": {},
   "outputs": [
    {
     "name": "stdout",
     "output_type": "stream",
     "text": [
      "<class 'pandas.core.frame.DataFrame'>\n",
      "RangeIndex: 15692870 entries, 0 to 15692869\n",
      "Data columns (total 9 columns):\n",
      " #   Column            Dtype  \n",
      "---  ------            -----  \n",
      " 0   VENDOR            object \n",
      " 1   REGION NAME       object \n",
      " 2   PRODUCT_NAME      object \n",
      " 3   PRODUCTPAGE_CODE  object \n",
      " 4   TURNOVER          float64\n",
      " 5   GREGORIAN_DATE    object \n",
      " 6   HOLIDAY           int64  \n",
      " 7   SCOLAR_HOLIDAY    int64  \n",
      " 8   ISLAM_EVENT       object \n",
      "dtypes: float64(1), int64(2), object(6)\n",
      "memory usage: 6.2 GB\n"
     ]
    }
   ],
   "source": [
    "myData3.info(memory_usage='deep') #deep look"
   ]
  },
  {
   "cell_type": "code",
   "execution_count": 22,
   "metadata": {},
   "outputs": [],
   "source": [
    "y=myData3[[\"GREGORIAN_DATE\",\"PRODUCTPAGE_CODE\",\"ISLAM_EVENT\",\"SCOLAR_HOLIDAY\",\"HOLIDAY\",\"TURNOVER\"]]\n",
    "y_islam=y[y[\"ISLAM_EVENT\"]!=\"None\"].groupby(\"GREGORIAN_DATE\")[\"TURNOVER\"].sum()/1000000\n",
    "y_scolar=y[y[\"SCOLAR_HOLIDAY\"]!=0].groupby(\"GREGORIAN_DATE\")[\"TURNOVER\"].sum()/1000000\n",
    "y_holiday=y[y[\"HOLIDAY\"]!=0].groupby(\"GREGORIAN_DATE\")[\"TURNOVER\"].sum()/1000000\n",
    "y=y.groupby(\"GREGORIAN_DATE\")[\"TURNOVER\"].sum()/1000000\n",
    "x=myData3[\"GREGORIAN_DATE\"].drop_duplicates().sort_values().tolist()"
   ]
  },
  {
   "cell_type": "code",
   "execution_count": 43,
   "metadata": {},
   "outputs": [],
   "source": [
    "x_scolar=y_scolar.index"
   ]
  },
  {
   "cell_type": "code",
   "execution_count": 48,
   "metadata": {},
   "outputs": [
    {
     "data": {
      "application/vnd.plotly.v1+json": {
       "config": {
        "linkText": "Export to plot.ly",
        "plotlyServerURL": "https://plot.ly",
        "showLink": false
       },
       "data": [
        {
         "mode": "lines",
         "name": "Time Serie",
         "type": "scatter",
         "x": [
          "2016-01-02",
          "2016-01-03",
          "2016-01-04",
          "2016-01-05",
          "2016-01-06",
          "2016-01-07",
          "2016-01-08",
          "2016-01-09",
          "2016-01-10",
          "2016-01-11",
          "2016-01-12",
          "2016-01-13",
          "2016-01-14",
          "2016-01-15",
          "2016-01-16",
          "2016-01-17",
          "2016-01-18",
          "2016-01-19",
          "2016-01-20",
          "2016-01-21",
          "2016-01-22",
          "2016-01-23",
          "2016-01-24",
          "2016-01-25",
          "2016-01-26",
          "2016-01-27",
          "2016-01-28",
          "2016-01-29",
          "2016-01-30",
          "2016-01-31",
          "2016-02-01",
          "2016-02-02",
          "2016-02-03",
          "2016-02-04",
          "2016-02-05",
          "2016-02-06",
          "2016-02-07",
          "2016-02-08",
          "2016-02-09",
          "2016-02-10",
          "2016-02-11",
          "2016-02-12",
          "2016-02-13",
          "2016-02-14",
          "2016-02-15",
          "2016-02-16",
          "2016-02-17",
          "2016-02-18",
          "2016-02-19",
          "2016-02-20",
          "2016-02-21",
          "2016-02-22",
          "2016-02-23",
          "2016-02-24",
          "2016-02-25",
          "2016-02-26",
          "2016-02-27",
          "2016-02-28",
          "2016-02-29",
          "2016-03-01",
          "2016-03-02",
          "2016-03-03",
          "2016-03-04",
          "2016-03-05",
          "2016-03-06",
          "2016-03-07",
          "2016-03-08",
          "2016-03-09",
          "2016-03-10",
          "2016-03-11",
          "2016-03-12",
          "2016-03-13",
          "2016-03-14",
          "2016-03-15",
          "2016-03-16",
          "2016-03-17",
          "2016-03-18",
          "2016-03-19",
          "2016-03-20",
          "2016-03-21",
          "2016-03-22",
          "2016-03-23",
          "2016-03-24",
          "2016-03-25",
          "2016-03-26",
          "2016-03-27",
          "2016-03-28",
          "2016-03-29",
          "2016-03-30",
          "2016-03-31",
          "2016-04-01",
          "2016-04-02",
          "2016-04-03",
          "2016-04-04",
          "2016-04-05",
          "2016-04-06",
          "2016-04-07",
          "2016-04-08",
          "2016-04-09",
          "2016-04-10",
          "2016-04-11",
          "2016-04-12",
          "2016-04-13",
          "2016-04-14",
          "2016-04-16",
          "2016-04-17",
          "2016-04-18",
          "2016-04-19",
          "2016-04-20",
          "2016-04-21",
          "2016-04-22",
          "2016-04-23",
          "2016-04-24",
          "2016-04-25",
          "2016-04-26",
          "2016-04-27",
          "2016-04-28",
          "2016-04-29",
          "2016-04-30",
          "2016-05-01",
          "2016-05-02",
          "2016-05-03",
          "2016-05-04",
          "2016-05-05",
          "2016-05-07",
          "2016-05-08",
          "2016-05-09",
          "2016-05-10",
          "2016-05-11",
          "2016-05-12",
          "2016-05-14",
          "2016-05-15",
          "2016-05-16",
          "2016-05-17",
          "2016-05-18",
          "2016-05-19",
          "2016-05-20",
          "2016-05-21",
          "2016-05-22",
          "2016-05-23",
          "2016-05-24",
          "2016-05-25",
          "2016-05-26",
          "2016-05-28",
          "2016-05-29",
          "2016-05-30",
          "2016-05-31",
          "2016-06-01",
          "2016-06-02",
          "2016-06-04",
          "2016-06-05",
          "2016-06-06",
          "2016-06-07",
          "2016-06-08",
          "2016-06-09",
          "2016-06-10",
          "2016-06-11",
          "2016-06-12",
          "2016-06-13",
          "2016-06-14",
          "2016-06-15",
          "2016-06-16",
          "2016-06-17",
          "2016-06-18",
          "2016-06-19",
          "2016-06-20",
          "2016-06-21",
          "2016-06-22",
          "2016-06-23",
          "2016-06-24",
          "2016-06-25",
          "2016-06-26",
          "2016-06-27",
          "2016-06-28",
          "2016-06-29",
          "2016-06-30",
          "2016-07-01",
          "2016-07-02",
          "2016-07-03",
          "2016-07-04",
          "2016-07-05",
          "2016-07-06",
          "2016-07-09",
          "2016-07-10",
          "2016-07-11",
          "2016-07-12",
          "2016-07-13",
          "2016-07-14",
          "2016-07-15",
          "2016-07-16",
          "2016-07-17",
          "2016-07-18",
          "2016-07-19",
          "2016-07-20",
          "2016-07-21",
          "2016-07-22",
          "2016-07-23",
          "2016-07-24",
          "2016-07-25",
          "2016-07-26",
          "2016-07-27",
          "2016-07-28",
          "2016-07-30",
          "2016-07-31",
          "2016-08-01",
          "2016-08-02",
          "2016-08-03",
          "2016-08-04",
          "2016-08-06",
          "2016-08-07",
          "2016-08-08",
          "2016-08-09",
          "2016-08-10",
          "2016-08-11",
          "2016-08-13",
          "2016-08-14",
          "2016-08-15",
          "2016-08-16",
          "2016-08-17",
          "2016-08-18",
          "2016-08-19",
          "2016-08-20",
          "2016-08-21",
          "2016-08-22",
          "2016-08-23",
          "2016-08-24",
          "2016-08-25",
          "2016-08-26",
          "2016-08-27",
          "2016-08-28",
          "2016-08-29",
          "2016-08-30",
          "2016-08-31",
          "2016-09-01",
          "2016-09-03",
          "2016-09-04",
          "2016-09-05",
          "2016-09-06",
          "2016-09-07",
          "2016-09-08",
          "2016-09-09",
          "2016-09-10",
          "2016-09-11",
          "2016-09-12",
          "2016-09-14",
          "2016-09-15",
          "2016-09-16",
          "2016-09-17",
          "2016-09-18",
          "2016-09-19",
          "2016-09-20",
          "2016-09-21",
          "2016-09-22",
          "2016-09-23",
          "2016-09-24",
          "2016-09-25",
          "2016-09-26",
          "2016-09-27",
          "2016-09-28",
          "2016-09-29",
          "2016-10-01",
          "2016-10-02",
          "2016-10-03",
          "2016-10-04",
          "2016-10-05",
          "2016-10-06",
          "2016-10-07",
          "2016-10-08",
          "2016-10-09",
          "2016-10-10",
          "2016-10-11",
          "2016-10-12",
          "2016-10-13",
          "2016-10-14",
          "2016-10-15",
          "2016-10-16",
          "2016-10-17",
          "2016-10-18",
          "2016-10-19",
          "2016-10-20",
          "2016-10-22",
          "2016-10-23",
          "2016-10-24",
          "2016-10-25",
          "2016-10-26",
          "2016-10-27",
          "2016-10-28",
          "2016-10-29",
          "2016-10-30",
          "2016-10-31",
          "2016-11-01",
          "2016-11-02",
          "2016-11-03",
          "2016-11-04",
          "2016-11-05",
          "2016-11-06",
          "2016-11-07",
          "2016-11-08",
          "2016-11-09",
          "2016-11-10",
          "2016-11-12",
          "2016-11-13",
          "2016-11-14",
          "2016-11-15",
          "2016-11-16",
          "2016-11-17",
          "2016-11-18",
          "2016-11-19",
          "2016-11-20",
          "2016-11-21",
          "2016-11-22",
          "2016-11-23",
          "2016-11-24",
          "2016-11-25",
          "2016-11-26",
          "2016-11-27",
          "2016-11-28",
          "2016-11-29",
          "2016-11-30",
          "2016-12-01",
          "2016-12-02",
          "2016-12-03",
          "2016-12-04",
          "2016-12-05",
          "2016-12-06",
          "2016-12-07",
          "2016-12-08",
          "2016-12-10",
          "2016-12-11",
          "2016-12-12",
          "2016-12-13",
          "2016-12-14",
          "2016-12-15",
          "2016-12-16",
          "2016-12-17",
          "2016-12-18",
          "2016-12-19",
          "2016-12-20",
          "2016-12-21",
          "2016-12-22",
          "2016-12-23",
          "2016-12-24",
          "2016-12-25",
          "2016-12-26",
          "2016-12-27",
          "2016-12-28",
          "2016-12-29",
          "2016-12-30",
          "2016-12-31",
          "2017-01-01",
          "2017-01-02",
          "2017-01-03",
          "2017-01-04",
          "2017-01-05",
          "2017-01-07",
          "2017-01-08",
          "2017-01-09",
          "2017-01-10",
          "2017-01-11",
          "2017-01-12",
          "2017-01-14",
          "2017-01-15",
          "2017-01-16",
          "2017-01-17",
          "2017-01-18",
          "2017-01-19",
          "2017-01-20",
          "2017-01-21",
          "2017-01-22",
          "2017-01-23",
          "2017-01-24",
          "2017-01-25",
          "2017-01-26",
          "2017-01-27",
          "2017-01-28",
          "2017-01-29",
          "2017-01-30",
          "2017-01-31",
          "2017-02-01",
          "2017-02-02",
          "2017-02-03",
          "2017-02-04",
          "2017-02-05",
          "2017-02-06",
          "2017-02-07",
          "2017-02-08",
          "2017-02-09",
          "2017-02-10",
          "2017-02-11",
          "2017-02-12",
          "2017-02-13",
          "2017-02-14",
          "2017-02-15",
          "2017-02-16",
          "2017-02-17",
          "2017-02-18",
          "2017-02-19",
          "2017-02-20",
          "2017-02-21",
          "2017-02-22",
          "2017-02-23",
          "2017-02-24",
          "2017-02-25",
          "2017-02-26",
          "2017-02-27",
          "2017-02-28",
          "2017-03-01",
          "2017-03-02",
          "2017-03-03",
          "2017-03-04",
          "2017-03-05",
          "2017-03-06",
          "2017-03-07",
          "2017-03-08",
          "2017-03-09",
          "2017-03-10",
          "2017-03-11",
          "2017-03-12",
          "2017-03-13",
          "2017-03-14",
          "2017-03-15",
          "2017-03-16",
          "2017-03-17",
          "2017-03-18",
          "2017-03-19",
          "2017-03-20",
          "2017-03-21",
          "2017-03-22",
          "2017-03-23",
          "2017-03-25",
          "2017-03-26",
          "2017-03-27",
          "2017-03-28",
          "2017-03-29",
          "2017-03-30",
          "2017-03-31",
          "2017-04-01",
          "2017-04-02",
          "2017-04-03",
          "2017-04-04",
          "2017-04-05",
          "2017-04-06",
          "2017-04-08",
          "2017-04-09",
          "2017-04-10",
          "2017-04-11",
          "2017-04-12",
          "2017-04-13",
          "2017-04-14",
          "2017-04-15",
          "2017-04-16",
          "2017-04-17",
          "2017-04-18",
          "2017-04-19",
          "2017-04-20",
          "2017-04-22",
          "2017-04-23",
          "2017-04-24",
          "2017-04-25",
          "2017-04-26",
          "2017-04-27",
          "2017-04-29",
          "2017-04-30",
          "2017-05-01",
          "2017-05-02",
          "2017-05-03",
          "2017-05-04",
          "2017-05-05",
          "2017-05-06",
          "2017-05-07",
          "2017-05-08",
          "2017-05-09",
          "2017-05-10",
          "2017-05-11",
          "2017-05-12",
          "2017-05-13",
          "2017-05-14",
          "2017-05-15",
          "2017-05-16",
          "2017-05-17",
          "2017-05-18",
          "2017-05-19",
          "2017-05-20",
          "2017-05-21",
          "2017-05-22",
          "2017-05-23",
          "2017-05-24",
          "2017-05-25",
          "2017-05-27",
          "2017-05-28",
          "2017-05-29",
          "2017-05-30",
          "2017-05-31",
          "2017-06-01",
          "2017-06-02",
          "2017-06-03",
          "2017-06-04",
          "2017-06-05",
          "2017-06-06",
          "2017-06-07",
          "2017-06-08",
          "2017-06-10",
          "2017-06-11",
          "2017-06-12",
          "2017-06-13",
          "2017-06-14",
          "2017-06-15",
          "2017-06-16",
          "2017-06-17",
          "2017-06-18",
          "2017-06-19",
          "2017-06-20",
          "2017-06-21",
          "2017-06-22",
          "2017-06-23",
          "2017-06-24",
          "2017-06-25",
          "2017-06-27",
          "2017-06-28",
          "2017-06-29",
          "2017-06-30",
          "2017-07-01",
          "2017-07-02",
          "2017-07-03",
          "2017-07-04",
          "2017-07-05",
          "2017-07-06",
          "2017-07-08",
          "2017-07-09",
          "2017-07-10",
          "2017-07-11",
          "2017-07-12",
          "2017-07-13",
          "2017-07-14",
          "2017-07-15",
          "2017-07-16",
          "2017-07-17",
          "2017-07-18",
          "2017-07-19",
          "2017-07-20",
          "2017-07-21",
          "2017-07-22",
          "2017-07-23",
          "2017-07-24",
          "2017-07-25",
          "2017-07-26",
          "2017-07-27",
          "2017-07-29",
          "2017-07-30",
          "2017-07-31",
          "2017-08-01",
          "2017-08-02",
          "2017-08-03",
          "2017-08-04",
          "2017-08-05",
          "2017-08-06",
          "2017-08-07",
          "2017-08-08",
          "2017-08-09",
          "2017-08-10",
          "2017-08-11",
          "2017-08-12",
          "2017-08-13",
          "2017-08-14",
          "2017-08-15",
          "2017-08-16",
          "2017-08-17",
          "2017-08-19",
          "2017-08-20",
          "2017-08-21",
          "2017-08-22",
          "2017-08-23",
          "2017-08-24",
          "2017-08-26",
          "2017-08-27",
          "2017-08-28",
          "2017-08-29",
          "2017-08-30",
          "2017-08-31",
          "2017-09-02",
          "2017-09-03",
          "2017-09-04",
          "2017-09-05",
          "2017-09-06",
          "2017-09-07",
          "2017-09-08",
          "2017-09-09",
          "2017-09-10",
          "2017-09-11",
          "2017-09-12",
          "2017-09-13",
          "2017-09-14",
          "2017-09-15",
          "2017-09-16",
          "2017-09-17",
          "2017-09-18",
          "2017-09-19",
          "2017-09-20",
          "2017-09-21",
          "2017-09-22",
          "2017-09-23",
          "2017-09-24",
          "2017-09-25",
          "2017-09-26",
          "2017-09-27",
          "2017-09-28",
          "2017-09-29",
          "2017-09-30",
          "2017-10-01",
          "2017-10-02",
          "2017-10-03",
          "2017-10-04",
          "2017-10-05",
          "2017-10-06",
          "2017-10-07",
          "2017-10-08",
          "2017-10-09",
          "2017-10-10",
          "2017-10-11",
          "2017-10-12",
          "2017-10-13",
          "2017-10-14",
          "2017-10-15",
          "2017-10-16",
          "2017-10-17",
          "2017-10-18",
          "2017-10-19",
          "2017-10-20",
          "2017-10-21",
          "2017-10-22",
          "2017-10-23",
          "2017-10-24",
          "2017-10-25",
          "2017-10-26",
          "2017-10-27",
          "2017-10-28",
          "2017-10-29",
          "2017-10-30",
          "2017-10-31",
          "2017-11-01",
          "2017-11-02",
          "2017-11-03",
          "2017-11-04",
          "2017-11-05",
          "2017-11-06",
          "2017-11-07",
          "2017-11-08",
          "2017-11-09",
          "2017-11-10",
          "2017-11-11",
          "2017-11-12",
          "2017-11-13",
          "2017-11-14",
          "2017-11-15",
          "2017-11-16",
          "2017-11-18",
          "2017-11-19",
          "2017-11-20",
          "2017-11-21",
          "2017-11-22",
          "2017-11-23",
          "2017-11-25",
          "2017-11-26",
          "2017-11-27",
          "2017-11-28",
          "2017-11-29",
          "2017-11-30",
          "2017-12-02",
          "2017-12-03",
          "2017-12-04",
          "2017-12-05",
          "2017-12-06",
          "2017-12-07",
          "2017-12-09",
          "2017-12-10",
          "2017-12-11",
          "2017-12-12",
          "2017-12-13",
          "2017-12-14",
          "2017-12-15",
          "2017-12-16",
          "2017-12-17",
          "2017-12-18",
          "2017-12-19",
          "2017-12-20",
          "2017-12-21",
          "2017-12-22",
          "2017-12-23",
          "2017-12-24",
          "2017-12-25",
          "2017-12-26",
          "2017-12-27",
          "2017-12-28",
          "2017-12-29",
          "2017-12-30",
          "2017-12-31",
          "2018-01-01",
          "2018-01-02",
          "2018-01-03",
          "2018-01-04",
          "2018-01-05",
          "2018-01-06",
          "2018-01-07",
          "2018-01-08",
          "2018-01-09",
          "2018-01-10",
          "2018-01-11",
          "2018-01-12",
          "2018-01-13",
          "2018-01-14",
          "2018-01-15",
          "2018-01-16",
          "2018-01-17",
          "2018-01-18",
          "2018-01-20",
          "2018-01-21",
          "2018-01-22",
          "2018-01-23",
          "2018-01-24",
          "2018-01-25",
          "2018-01-26",
          "2018-01-27",
          "2018-01-28",
          "2018-01-29",
          "2018-01-30",
          "2018-01-31",
          "2018-02-01",
          "2018-02-02",
          "2018-02-03",
          "2018-02-04",
          "2018-02-05",
          "2018-02-06",
          "2018-02-07",
          "2018-02-08",
          "2018-02-09",
          "2018-02-10",
          "2018-02-11",
          "2018-02-12",
          "2018-02-13",
          "2018-02-14",
          "2018-02-15",
          "2018-02-16",
          "2018-02-17",
          "2018-02-18",
          "2018-02-19",
          "2018-02-20",
          "2018-02-21",
          "2018-02-22",
          "2018-02-23",
          "2018-02-24",
          "2018-02-25",
          "2018-02-26",
          "2018-02-27",
          "2018-02-28",
          "2018-03-01",
          "2018-03-02",
          "2018-03-03",
          "2018-03-04",
          "2018-03-05",
          "2018-03-06",
          "2018-03-07",
          "2018-03-08",
          "2018-03-09",
          "2018-03-10",
          "2018-03-11",
          "2018-03-12",
          "2018-03-13",
          "2018-03-14",
          "2018-03-15",
          "2018-03-16",
          "2018-03-17",
          "2018-03-18",
          "2018-03-19",
          "2018-03-20",
          "2018-03-21",
          "2018-03-22",
          "2018-03-24",
          "2018-03-25",
          "2018-03-26",
          "2018-03-27",
          "2018-03-28",
          "2018-03-29",
          "2018-03-30",
          "2018-03-31",
          "2018-04-01",
          "2018-04-02",
          "2018-04-03",
          "2018-04-04",
          "2018-04-05",
          "2018-04-07",
          "2018-04-08",
          "2018-04-09",
          "2018-04-10",
          "2018-04-11",
          "2018-04-12",
          "2018-04-14",
          "2018-04-15",
          "2018-04-16",
          "2018-04-17",
          "2018-04-18",
          "2018-04-19",
          "2018-04-20",
          "2018-04-21",
          "2018-04-22",
          "2018-04-23",
          "2018-04-24",
          "2018-04-25",
          "2018-04-26",
          "2018-04-27",
          "2018-04-28",
          "2018-04-29",
          "2018-04-30",
          "2018-05-01",
          "2018-05-02",
          "2018-05-03",
          "2018-05-05",
          "2018-05-06",
          "2018-05-07",
          "2018-05-08",
          "2018-05-09",
          "2018-05-10",
          "2018-05-11",
          "2018-05-12",
          "2018-05-13",
          "2018-05-14",
          "2018-05-15",
          "2018-05-16",
          "2018-05-17",
          "2018-05-18",
          "2018-05-19",
          "2018-05-20",
          "2018-05-21",
          "2018-05-22",
          "2018-05-23",
          "2018-05-24",
          "2018-05-25",
          "2018-05-26",
          "2018-05-27",
          "2018-05-28",
          "2018-05-29",
          "2018-05-30",
          "2018-05-31",
          "2018-06-02",
          "2018-06-03",
          "2018-06-04",
          "2018-06-05",
          "2018-06-06",
          "2018-06-07",
          "2018-06-08",
          "2018-06-09",
          "2018-06-10",
          "2018-06-11",
          "2018-06-12",
          "2018-06-13",
          "2018-06-14",
          "2018-06-15",
          "2018-06-16",
          "2018-06-17",
          "2018-06-18",
          "2018-06-19",
          "2018-06-20",
          "2018-06-21",
          "2018-06-22",
          "2018-06-23",
          "2018-06-24",
          "2018-06-25",
          "2018-06-26",
          "2018-06-27",
          "2018-06-28",
          "2018-06-29",
          "2018-06-30",
          "2018-07-01",
          "2018-07-02",
          "2018-07-03",
          "2018-07-04",
          "2018-07-05",
          "2018-07-06",
          "2018-07-07",
          "2018-07-08",
          "2018-07-09",
          "2018-07-10",
          "2018-07-11",
          "2018-07-12",
          "2018-07-13",
          "2018-07-14",
          "2018-07-15",
          "2018-07-16",
          "2018-07-17",
          "2018-07-18",
          "2018-07-19",
          "2018-07-20",
          "2018-07-21",
          "2018-07-22",
          "2018-07-23",
          "2018-07-24",
          "2018-07-25",
          "2018-07-26",
          "2018-07-27",
          "2018-07-28",
          "2018-07-29",
          "2018-07-30",
          "2018-07-31",
          "2018-08-01",
          "2018-08-02",
          "2018-08-03",
          "2018-08-04",
          "2018-08-05",
          "2018-08-06",
          "2018-08-07",
          "2018-08-08",
          "2018-08-09",
          "2018-08-10",
          "2018-08-11",
          "2018-08-12",
          "2018-08-13",
          "2018-08-14",
          "2018-08-15",
          "2018-08-16",
          "2018-08-17",
          "2018-08-18",
          "2018-08-19",
          "2018-08-20",
          "2018-08-21",
          "2018-08-22",
          "2018-08-23",
          "2018-08-24",
          "2018-08-25",
          "2018-08-26",
          "2018-08-27",
          "2018-08-28",
          "2018-08-29",
          "2018-08-30",
          "2018-08-31",
          "2018-09-01",
          "2018-09-02",
          "2018-09-03",
          "2018-09-04",
          "2018-09-05",
          "2018-09-06",
          "2018-09-07",
          "2018-09-08",
          "2018-09-09",
          "2018-09-10",
          "2018-09-11",
          "2018-09-12",
          "2018-09-13",
          "2018-09-14",
          "2018-09-15",
          "2018-09-16",
          "2018-09-17",
          "2018-09-18",
          "2018-09-19",
          "2018-09-20",
          "2018-09-21",
          "2018-09-22",
          "2018-09-23",
          "2018-09-24",
          "2018-09-25",
          "2018-09-26",
          "2018-09-27",
          "2018-09-28",
          "2018-09-29",
          "2018-09-30",
          "2018-10-01",
          "2018-10-02",
          "2018-10-03",
          "2018-10-04",
          "2018-10-05",
          "2018-10-06",
          "2018-10-07",
          "2018-10-08",
          "2018-10-09",
          "2018-10-10",
          "2018-10-11",
          "2018-10-12",
          "2018-10-13",
          "2018-10-14",
          "2018-10-15",
          "2018-10-16",
          "2018-10-17",
          "2018-10-18",
          "2018-10-19",
          "2018-10-20",
          "2018-10-21",
          "2018-10-22",
          "2018-10-23",
          "2018-10-24",
          "2018-10-25",
          "2018-10-26",
          "2018-10-27",
          "2018-10-28",
          "2018-10-29",
          "2018-10-30",
          "2018-10-31",
          "2018-11-01",
          "2018-11-03",
          "2018-11-04",
          "2018-11-05",
          "2018-11-06",
          "2018-11-07",
          "2018-11-08",
          "2018-11-09",
          "2018-11-10",
          "2018-11-11",
          "2018-11-12",
          "2018-11-13",
          "2018-11-14",
          "2018-11-15",
          "2018-11-16",
          "2018-11-17",
          "2018-11-18",
          "2018-11-19",
          "2018-11-20",
          "2018-11-21",
          "2018-11-22",
          "2018-11-23",
          "2018-11-24",
          "2018-11-25",
          "2018-11-26",
          "2018-11-27",
          "2018-11-28",
          "2018-11-29",
          "2018-11-30",
          "2018-12-01",
          "2018-12-02",
          "2018-12-03",
          "2018-12-04",
          "2018-12-05",
          "2018-12-06",
          "2018-12-07",
          "2018-12-08",
          "2018-12-09",
          "2018-12-10",
          "2018-12-11",
          "2018-12-12",
          "2018-12-13",
          "2018-12-14",
          "2018-12-15",
          "2018-12-16",
          "2018-12-17",
          "2018-12-18",
          "2018-12-19",
          "2018-12-20",
          "2018-12-21",
          "2018-12-22",
          "2018-12-23",
          "2018-12-24",
          "2018-12-25",
          "2018-12-26",
          "2018-12-27",
          "2018-12-28",
          "2018-12-29",
          "2018-12-30",
          "2018-12-31"
         ],
         "y": [
          35.272245,
          33.375357,
          37.788882,
          39.51296,
          38.462262,
          11.37483,
          1.17078,
          44.936062,
          43.227786,
          40.002891,
          39.66865,
          38.036559,
          7.340067,
          0.05454,
          36.262368,
          34.326858,
          31.604367,
          29.994939,
          32.483001,
          10.21155,
          0.371286,
          32.896782,
          30.480864,
          31.469631,
          35.545959,
          35.345721,
          14.151312,
          0.58386,
          26.413014,
          24.962202,
          26.196055,
          25.305564,
          23.948189,
          9.983496,
          2.791236,
          28.806533,
          29.728991,
          28.491021,
          27.590403,
          29.029781,
          11.226396,
          2.546592,
          31.513435,
          29.522421,
          28.080342,
          29.271208,
          26.757969,
          11.951226,
          1.937652,
          27.78579,
          31.6134,
          29.651448,
          28.470807,
          30.202435,
          10.76403,
          1.577028,
          33.092828,
          32.792979,
          28.332994,
          40.208402,
          31.071821,
          12.027894,
          1.5657,
          33.569472,
          30.474468,
          28.85628,
          29.916636,
          30.828881,
          11.761674,
          1.014024,
          24.948978,
          30.044814,
          30.115752,
          29.371104,
          29.738636,
          10.147392,
          0.53196,
          29.673798,
          27.579267,
          29.449216,
          26.212386,
          28.145004,
          10.429752,
          2.66145,
          25.550628,
          29.090136,
          28.066122,
          27.153234,
          29.522495,
          9.0369,
          2.187768,
          32.387694,
          31.572624,
          34.461354,
          31.08855,
          30.175938,
          13.642812,
          0.54846,
          31.596684,
          28.72371,
          26.581926,
          32.298072,
          30.540828,
          9.13122,
          40.432488,
          33.692598,
          34.828828,
          34.141584,
          37.347456,
          11.613714,
          1.62942,
          35.44155,
          35.5875,
          36.97449,
          34.518006,
          32.296226,
          11.652822,
          1.899918,
          38.242578,
          24.044994,
          33.245922,
          33.799062,
          36.669614,
          11.154047,
          34.652253,
          35.901258,
          36.390372,
          35.499642,
          39.158832,
          12.697062,
          38.642406,
          36.480915,
          35.751972,
          34.59153,
          33.393018,
          12.684174,
          0.857448,
          33.442902,
          34.816008,
          34.480042,
          35.926006,
          35.593284,
          11.400432,
          34.697184,
          36.405534,
          34.357302,
          34.395174,
          33.556471,
          11.526012,
          42.517169,
          41.620434,
          36.833922,
          38.216823,
          40.779937,
          17.891268,
          1.4733,
          32.580996,
          29.140728,
          29.193534,
          28.0692,
          29.108058,
          9.192138,
          0.350658,
          34.883844,
          27.183234,
          26.053504,
          30.654408,
          29.924988,
          9.169674,
          1.342722,
          33.249092,
          33.443256,
          32.374938,
          38.849924,
          40.37431,
          12.578478,
          0.71463,
          50.300736,
          45.71289,
          33.869378,
          8.612934,
          0.599778,
          39.638448,
          41.009846,
          40.697634,
          42.262071,
          39.457669,
          15.004482,
          0.3489,
          40.434214,
          37.90515,
          34.230887,
          37.423638,
          35.996489,
          15.541397,
          0.117264,
          39.621432,
          41.150452,
          37.750074,
          39.49299,
          41.040786,
          13.81035,
          41.261538,
          37.372866,
          38.307801,
          38.501082,
          40.915686,
          12.832572,
          46.101054,
          43.996134,
          42.469164,
          41.758122,
          42.414528,
          12.04305,
          44.759058,
          46.649784,
          43.322496,
          40.32904,
          39.330036,
          14.545974,
          0.3048,
          45.75349,
          43.495308,
          42.059928,
          42.242346,
          40.523928,
          12.546462,
          1.299972,
          45.401916,
          43.26879,
          44.964726,
          45.505386,
          44.536218,
          12.7974,
          49.381092,
          48.000336,
          54.248034,
          53.679066,
          57.549156,
          44.179098,
          3.359232,
          63.294749,
          53.712932,
          3.152112,
          15.512526,
          18.532998,
          0.17565,
          66.878152,
          54.43731,
          64.725776,
          57.285855,
          53.32263,
          17.996611,
          0.40962,
          50.299016,
          48.379656,
          47.137852,
          46.937336,
          46.881412,
          16.779642,
          48.353383,
          47.051466,
          29.844192,
          43.223006,
          47.326284,
          16.51428,
          0.15117,
          53.040575,
          49.307656,
          51.088358,
          49.489034,
          33.752445,
          18.009498,
          0.92151,
          51.082104,
          55.927704,
          47.778126,
          47.03775,
          47.957592,
          18.579762,
          53.257095,
          50.488824,
          52.13718,
          49.007788,
          48.731358,
          18.811794,
          0.262128,
          58.213386,
          55.151358,
          51.189155,
          30.587262,
          52.084686,
          20.440308,
          0.948858,
          58.846512,
          56.718522,
          51.9516,
          51.111186,
          49.400944,
          18.048018,
          57.800378,
          54.68952,
          52.478113,
          46.390458,
          48.452354,
          21.082262,
          0.10347,
          50.484582,
          48.007006,
          43.635342,
          42.881465,
          45.897034,
          18.162258,
          0.843648,
          51.716594,
          49.730232,
          50.17425,
          47.801596,
          41.506943,
          19.500042,
          1.002432,
          41.956894,
          38.287393,
          37.618524,
          41.122482,
          42.978912,
          17.546778,
          44.605058,
          53.779578,
          29.65554,
          41.258628,
          44.369475,
          16.016901,
          0.794244,
          45.201768,
          44.081484,
          42.456042,
          43.621842,
          41.91131,
          19.343412,
          0.161598,
          54.599828,
          47.859816,
          44.62578,
          45.17001,
          43.673777,
          18.602394,
          0.352896,
          43.353496,
          34.647011,
          47.848976,
          45.553998,
          57.338008,
          24.574668,
          55.547475,
          55.144872,
          50.786606,
          46.480916,
          47.243178,
          19.52136,
          52.735088,
          45.109276,
          43.906677,
          43.896767,
          46.507242,
          17.295209,
          0.46746,
          51.602484,
          56.148587,
          51.80247,
          53.363238,
          48.13059,
          22.119764,
          1.450944,
          48.439845,
          67.967419,
          50.14254,
          52.746879,
          47.8341,
          19.305468,
          0.74826,
          51.971001,
          53.563305,
          46.189333,
          50.804913,
          49.173354,
          18.231792,
          0.265308,
          52.281906,
          48.43040800142398,
          47.316408,
          49.189488,
          50.651576,
          21.20338,
          0.210684,
          53.872964,
          53.204934,
          53.445727998416004,
          44.746509930296185,
          47.91456805261562,
          21.269604074015962,
          0.38056800143999997,
          53.309382186286896,
          51.42102016245507,
          51.92572415519871,
          58.349618179534765,
          52.927035167670766,
          22.7882140754399,
          0.4762440016800002,
          57.369594184966545,
          54.976012172230966,
          51.99936216343092,
          52.89868615355888,
          57.01452517329481,
          21.015458069079965,
          1.1980180043999993,
          57.53623217835067,
          59.345966175382834,
          54.51264416659069,
          53.72610216297476,
          50.78023316197486,
          20.07892406731202,
          0.3529120018080001,
          53.402338182790785,
          50.28059216932673,
          47.92490816319081,
          47.971996155806934,
          49.617606162110974,
          14.980708053408119,
          37.95239212775948,
          46.39628015101501,
          52.608904175134796,
          50.519490165910824,
          86.56932229060786,
          18.908422066656016,
          0.39893000128800027,
          46.325566148159055,
          50.90588615871904,
          59.052716185246666,
          55.66492716087893,
          58.92100617196676,
          24.627226077911953,
          56.91143118648675,
          54.375818177638884,
          51.982434165886765,
          48.7121701591909,
          51.66224016552696,
          21.698470080792017,
          0.231702,
          55.481590186518645,
          55.40753017977479,
          52.72639817423863,
          53.723398175414815,
          54.59483017466299,
          22.821846080471982,
          59.49179220770272,
          56.314799182398744,
          55.368390182406756,
          56.119832185438675,
          56.788546189054735,
          23.576612084927905,
          58.91300619208672,
          60.66921420249473,
          32.949162097847406,
          55.427236185478776,
          55.82145419097483,
          14.121048709582116,
          0.133074,
          57.65309086187867,
          54.98983817774273,
          54.37454617154271,
          51.037600164166875,
          49.358818157279025,
          21.826724075063943,
          0.5094480011520001,
          58.99767419827045,
          61.1671741949268,
          55.6203521851667,
          54.72822617671075,
          59.241254195046665,
          25.37693009054391,
          0.20769200064000004,
          55.57062218856684,
          60.890444202478626,
          61.99092422119065,
          63.67090423031819,
          68.70074425738221,
          28.582094116176016,
          65.26060426450965,
          63.756164258958066,
          87.202074245951,
          51.04809220147093,
          46.907140187087066,
          17.1674867378281,
          0.4795520013360003,
          42.62188016714719,
          40.66880815255127,
          42.384536157071025,
          41.42927415547134,
          49.33113218267898,
          18.115758073464104,
          55.08274820404688,
          54.57145019503077,
          54.649562215606906,
          39.037426132103256,
          34.68134011455961,
          16.38891806239212,
          0.14124,
          39.8853439111512,
          48.31408393750307,
          51.7473417260429,
          51.537219060759085,
          56.25079419498283,
          25.3494814369439,
          1.1712240026399994,
          58.137565869975106,
          14.641360380528088,
          34.87087809802352,
          64.48982330242279,
          28.502560987695908,
          0.9177840036,
          60.874566860530635,
          69.22150821427071,
          63.938730869422336,
          59.88775418883864,
          33.632298101327436,
          19.809745072680023,
          54.49903528546287,
          57.20539129043077,
          53.66852617231084,
          53.44424250549502,
          51.600091496663,
          20.06671507010402,
          0.72137800368,
          52.0233201675828,
          50.04781504381501,
          53.93937751540685,
          53.00847928493485,
          52.42587972591892,
          20.971539518648,
          0.92270800224,
          55.34151218198274,
          56.33699384887071,
          53.13036250778288,
          54.80841718058282,
          54.637474179910825,
          23.24291408051998,
          59.50211241867065,
          58.26567307689479,
          57.67024208339088,
          51.16032638574283,
          53.78952884349491,
          22.29435508329596,
          0.35549400079200016,
          54.56611440191082,
          59.106044302840694,
          56.074908404414714,
          56.79552540711884,
          56.95491929815089,
          24.629427090167965,
          0.5834880038400001,
          60.88167086542661,
          53.550570392463,
          58.27484619634286,
          58.12272452073476,
          60.09965486957468,
          20.34454374004809,
          62.36537554696672,
          63.10590242375061,
          58.30025085727068,
          59.49382875107085,
          61.729730204966856,
          23.87485952635992,
          70.51990156384672,
          70.29883467897477,
          67.91407300673441,
          69.15390023707077,
          72.6135202581109,
          27.20056309624793,
          3.4962140070240024,
          39.565170231439325,
          57.941099839078774,
          64.6200589600948,
          67.84919319203874,
          22.001300953599994,
          1.1763000045839995,
          68.25027263753465,
          67.89145874819063,
          65.6185597391665,
          59.887629837646806,
          58.220512954158785,
          24.842314522543887,
          0.8408900016239997,
          61.50304728365463,
          62.63947984768671,
          59.499799052654595,
          59.84772516691083,
          57.5855517308307,
          20.809875847784035,
          2.1550080088079993,
          56.52305550976656,
          59.251793729342744,
          56.60729351045489,
          58.78818795776686,
          58.10145895286283,
          21.216611071991938,
          0.252608001336,
          62.55999153215846,
          34.60083965245554,
          57.766168511452754,
          59.93171551350476,
          60.48827918183882,
          23.62745819331193,
          0.198216,
          63.65795952405479,
          64.3415541802307,
          60.49672773788675,
          61.41900029659873,
          59.75220429187063,
          24.010267074023933,
          0.241632,
          60.04764806584648,
          62.07317884538278,
          56.70375372313489,
          58.15617017547466,
          59.79934839738274,
          20.11731527860007,
          0.7906879983120007,
          57.973850877735615,
          57.98140346944302,
          57.507524138528815,
          61.131454027279844,
          58.58387602867997,
          21.99711918878819,
          0.26018599941599996,
          59.40952013312777,
          59.485104469251745,
          56.81540502336784,
          58.418938019771815,
          33.80818117277258,
          20.708895852544202,
          0.5244919990680001,
          56.623060795815924,
          61.74707768198407,
          54.941386800376065,
          61.72012590604795,
          61.439527017763794,
          22.72256796376821,
          0.40377599928,
          56.505578911092,
          58.76514413180403,
          54.15362280209192,
          51.18239791660031,
          53.45707057715998,
          18.966525964404152,
          56.278034018563844,
          55.13328813137201,
          56.88533980070799,
          58.36059502470801,
          59.55164245948,
          13.22278798083604,
          61.729506455031704,
          57.569858576751884,
          59.239929906187925,
          55.66849824623582,
          57.84068401704399,
          18.54990596699211,
          54.31733735457197,
          54.84017268796494,
          52.38793790933003,
          52.54461346763111,
          55.409340797858896,
          18.62579796784811,
          60.69961823900369,
          58.76458957565184,
          59.16338890815555,
          55.2530630282961,
          57.57335324217592,
          20.82888096436814,
          0.591463998564,
          58.01301657901949,
          57.54469457820775,
          55.86856246681197,
          55.636459690559896,
          57.044475244507616,
          16.116693970656048,
          0.20724999964799995,
          57.45353235113577,
          60.110959127923785,
          57.102606129352665,
          54.655644130951835,
          55.02394812665987,
          23.494352737500257,
          0.123386000016,
          58.015198569875686,
          61.59710445575187,
          34.200915613824606,
          56.34237980226372,
          59.94770846031587,
          23.54256485155623,
          0.306126,
          61.03858268345564,
          66.55168445729952,
          61.528494131191515,
          60.50109613025157,
          59.35889901866774,
          21.751436407928253,
          0.120774,
          63.51354968170332,
          59.56837802308371,
          54.58375480584358,
          56.49138869191582,
          59.519311133087605,
          21.496602410336234,
          61.692559241583595,
          62.4398113531595,
          60.29309435615161,
          62.30820246061537,
          65.93439412095819,
          19.10100785676419,
          0.092448,
          68.28445178744309,
          67.40826023139552,
          61.933971572014215,
          64.87271912048331,
          63.63717379180057,
          20.06847329787623,
          0.542606000112,
          68.44289033820723,
          68.32029278995154,
          65.62065501195107,
          64.16738501257535,
          65.21647767621954,
          22.649443961408284,
          0.6733399993560002,
          68.4155757818795,
          64.36801934328767,
          63.52453756501741,
          62.60013312314731,
          63.86112923281159,
          24.532647291804278,
          0.23752799965199992,
          68.38351600552726,
          71.00396845163145,
          64.34025767746716,
          64.64539545527137,
          66.82766478621934,
          22.923141294192238,
          0.7789059993360001,
          74.69769287910835,
          74.77849043419621,
          73.59011744167191,
          71.87787100124353,
          76.9247703255243,
          27.664177841416343,
          0.21892799974799995,
          76.57562643602014,
          73.22811866533608,
          69.9163452287434,
          69.37159722652743,
          69.46112511474344,
          30.09090305741448,
          0.07038200001600001,
          77.70704209442441,
          74.00357310349608,
          72.60693544003573,
          73.13738177195204,
          76.08730432541816,
          27.25750728514035,
          3.122139994236,
          70.74412644049941,
          71.79452132777968,
          67.82677688128352,
          64.87631310990317,
          65.30109143658329,
          24.708133614372294,
          69.68881053674347,
          67.74320176403117,
          64.32213265684324,
          66.63561809894706,
          67.3643259927235,
          25.113185730516328,
          1.420387998312,
          65.59936822420293,
          65.87622411773116,
          60.93935500471535,
          64.98869166613939,
          61.922587113243424,
          27.110439947096435,
          59.52068900093175,
          57.952748124915594,
          50.116000245609136,
          44.91861625029921,
          39.540923028136405,
          19.681386951240142,
          61.83735983438404,
          60.18097296477225,
          61.70962107371869,
          67.70397885181154,
          61.97989175243138,
          29.845772947236476,
          1.5303959971200003,
          71.83594097951165,
          78.23315263212145,
          71.65418497253546,
          73.87960129014317,
          69.9877750819037,
          31.684174926332492,
          0.22935399961199995,
          86.91687038337352,
          89.07739372846851,
          87.2285277250585,
          71.40321964455178,
          83.3768372954687,
          38.374521916536374,
          90.52590106109396,
          88.00844751245144,
          87.9329108522577,
          86.29127175253241,
          76.46359286546434,
          38.86873480517219,
          0.6755439978720003,
          99.89001460503437,
          103.91180844206522,
          95.64575372265357,
          103.4969313868266,
          102.39917082121445,
          36.93636502652033,
          0.103338,
          81.09414139320229,
          67.383553984795,
          63.240814441077944,
          64.23961800183106,
          67.99862900289097,
          27.83136538701237,
          0.49409599882800026,
          74.63290988845134,
          87.72281643376111,
          73.63796111909093,
          72.80820067648716,
          72.57444012168327,
          33.15208605410436,
          68.17105200579502,
          74.96601655602574,
          71.3340561139234,
          70.75170688453139,
          70.53532766448961,
          35.461552706456345,
          0.6351119985000001,
          87.03568018928296,
          85.18784197705078,
          86.22934808760506,
          91.442443182237,
          94.66452350886193,
          39.219629707321296,
          0.4182879991080001,
          2.1890039972519992,
          75.08482655505607,
          84.19974865328895,
          89.46472070126131,
          87.7107886406212,
          47.6499359148041,
          1.1820919981200007,
          98.78308651719846,
          95.3296354019981,
          87.91214802776912,
          93.4598261766615,
          82.48001508806492,
          43.791531251858196,
          0.30677599918799997,
          92.57375917893991,
          87.80160252796085,
          84.25680724875707,
          86.14606591414126,
          88.98493574222964,
          33.07151127234252,
          0.724767998484,
          95.38860828271828,
          98.71188961200218,
          90.29202662652561,
          88.16906352027159,
          87.12394330337175,
          48.21669202087032,
          0.9733379991960003,
          74.7992320984522,
          99.42360216863631,
          92.6229440141047,
          90.31953218365072,
          92.40052061925815,
          44.253343143148186,
          1.2662519967600003,
          100.36798383935823,
          100.15913896365386,
          104.59663055621021,
          104.8033865010711,
          101.44520361151437,
          52.030505242040185,
          1.5961699968600005,
          95.70896256846208,
          99.52454294712659,
          100.06874583864804,
          97.66436117617816,
          94.84305317930206,
          42.317768919744346,
          0.550053999732,
          94.42983751196418,
          98.44670216952889,
          93.44022806281772,
          94.3179177287222,
          96.86225516250819,
          42.740440584324155,
          1.4938359958560004,
          92.92370739558214,
          97.5816676159009,
          96.70356638908014,
          106.99173370375081,
          110.04216413688525,
          52.91494479376205,
          2.0945999945640006,
          124.44300438953535,
          137.8994109728474,
          115.82071746138378,
          0.81584599848,
          2.2698199982199987,
          7.80577398705597,
          0.39333999916800005,
          123.27080946604075,
          127.81959134169179,
          114.61602470183912,
          143.32656797877726,
          109.64591149050715,
          49.60676157613208,
          0.42005599867200005,
          101.45800172479319,
          106.58418983070693,
          104.3135817252656,
          107.88770772669521,
          107.62826511618094,
          49.3113285823721,
          1.620965997204,
          113.44497694007286,
          126.87787820761974,
          111.08386317495886,
          97.03034308359422,
          107.05768361948304,
          45.5400993719842,
          0.4369599996120001,
          120.43909542325355,
          108.25787294254924,
          102.13843528263094,
          104.33494950665474,
          100.91618983386545,
          39.241187375242326,
          1.18113199848,
          102.28877027782106,
          101.38404650573905,
          100.8092380626777,
          107.60979349689049,
          103.8266442807451,
          46.38890435727211,
          1.6833579981479998,
          99.27655550060263,
          95.162311177346,
          106.19325537686655,
          97.98737428778642,
          100.89089172964218,
          47.17813553121615,
          0.4544839985760001,
          106.99235661212326,
          107.73844939447082,
          101.91465618095764,
          111.40092150038083,
          92.96256685281392,
          42.7683000301642,
          0.24915,
          96.91965806468671,
          105.4663403992212,
          104.40138707291561,
          103.4368016330596,
          98.09438063381855,
          56.59240313023614,
          0.5293659989999999,
          110.5335985052709,
          107.79737140272339,
          103.35409852037651,
          102.04691908170942,
          103.75560207270762,
          46.84814770089193,
          0.9603039980160002,
          108.27783828528989,
          104.8193845144823,
          95.65620797206842,
          98.13998674187161,
          97.16827329900065,
          54.39923024412398,
          95.98483221822099,
          98.62592276833146,
          97.87299748527711,
          96.49641665875627,
          102.155495887275,
          60.706528471849126,
          0.133374,
          97.46194584356266,
          100.54321017322728,
          96.76868374079271,
          99.08379779245325,
          102.53073084099327,
          45.94411281335205,
          1.7213019975839994,
          104.12807111630326,
          105.93875306142364,
          101.08823811859398,
          83.60265609273921,
          95.12422429452593,
          42.63412398362614,
          1.6183079980559998,
          96.86852917571609,
          94.76085662313186,
          94.0588317880769,
          93.27729763026487,
          93.88542735124355,
          45.59871391981205,
          0.048822,
          95.34186685082685,
          102.70310744380976,
          91.22800129895127,
          94.94078796106548,
          93.97147074183313,
          43.93688747911623,
          1.4225199967919997,
          101.004190395799,
          98.7869951221309,
          91.56542308510613,
          90.60114641741518,
          91.97249903401931,
          43.661618150734114,
          1.4494339967940002,
          91.6799794159509,
          96.7551845190946,
          92.44951618604003,
          94.53994740357827,
          91.64394063206778,
          43.0277424786932,
          0.7342359984000002,
          93.55630851718273,
          89.90252507173675,
          87.31303474040884,
          84.5875420771853,
          87.84621074083772,
          42.86229158998225,
          0.7359529989840006,
          93.84746039700947,
          92.85185651495078,
          87.51653535637594
         ]
        },
        {
         "mode": "markers",
         "name": "Time Serie",
         "type": "scatter",
         "x": [
          "2016-01-02",
          "2016-01-03",
          "2016-03-17",
          "2016-03-18",
          "2016-03-19",
          "2016-03-20",
          "2016-03-21",
          "2016-03-22",
          "2016-03-23",
          "2016-03-24",
          "2016-03-25",
          "2016-03-26",
          "2016-03-27",
          "2016-03-28",
          "2016-03-29",
          "2016-03-30",
          "2016-03-31",
          "2016-04-01",
          "2016-04-02",
          "2016-04-03",
          "2016-07-09",
          "2016-07-10",
          "2016-07-11",
          "2016-07-12",
          "2016-07-13",
          "2016-07-14",
          "2016-07-15",
          "2016-07-16",
          "2016-07-17",
          "2016-07-18",
          "2016-07-19",
          "2016-07-20",
          "2016-07-21",
          "2016-07-22",
          "2016-07-23",
          "2016-07-24",
          "2016-07-25",
          "2016-07-26",
          "2016-07-27",
          "2016-07-28",
          "2016-07-30",
          "2016-07-31",
          "2016-08-01",
          "2016-08-02",
          "2016-08-03",
          "2016-08-04",
          "2016-08-06",
          "2016-08-07",
          "2016-08-08",
          "2016-08-09",
          "2016-08-10",
          "2016-08-11",
          "2016-08-13",
          "2016-08-14",
          "2016-08-15",
          "2016-08-16",
          "2016-08-17",
          "2016-08-18",
          "2016-08-19",
          "2016-08-20",
          "2016-08-21",
          "2016-08-22",
          "2016-08-23",
          "2016-08-24",
          "2016-08-25",
          "2016-08-26",
          "2016-08-27",
          "2016-08-28",
          "2016-08-29",
          "2016-08-30",
          "2016-08-31",
          "2016-09-01",
          "2016-09-03",
          "2016-10-27",
          "2016-10-28",
          "2016-10-29",
          "2016-10-30",
          "2016-10-31",
          "2016-11-01",
          "2016-11-02",
          "2016-12-22",
          "2016-12-23",
          "2016-12-24",
          "2016-12-25",
          "2016-12-26",
          "2016-12-27",
          "2016-12-28",
          "2016-12-29",
          "2016-12-30",
          "2016-12-31",
          "2017-01-01",
          "2017-01-02",
          "2017-03-16",
          "2017-03-17",
          "2017-03-18",
          "2017-03-19",
          "2017-03-20",
          "2017-03-21",
          "2017-03-22",
          "2017-03-23",
          "2017-03-25",
          "2017-03-26",
          "2017-03-27",
          "2017-03-28",
          "2017-03-29",
          "2017-03-30",
          "2017-03-31",
          "2017-04-01",
          "2017-04-02",
          "2017-07-06",
          "2017-07-08",
          "2017-07-09",
          "2017-07-10",
          "2017-07-11",
          "2017-07-12",
          "2017-07-13",
          "2017-07-14",
          "2017-07-15",
          "2017-07-16",
          "2017-07-17",
          "2017-07-18",
          "2017-07-19",
          "2017-07-20",
          "2017-07-21",
          "2017-07-22",
          "2017-07-23",
          "2017-07-24",
          "2017-07-25",
          "2017-07-26",
          "2017-07-27",
          "2017-07-29",
          "2017-07-30",
          "2017-07-31",
          "2017-08-01",
          "2017-08-02",
          "2017-08-03",
          "2017-08-04",
          "2017-08-05",
          "2017-08-06",
          "2017-08-07",
          "2017-08-08",
          "2017-08-09",
          "2017-08-10",
          "2017-08-11",
          "2017-08-12",
          "2017-08-13",
          "2017-08-14",
          "2017-08-15",
          "2017-08-16",
          "2017-08-17",
          "2017-08-19",
          "2017-08-20",
          "2017-08-21",
          "2017-08-22",
          "2017-08-23",
          "2017-08-24",
          "2017-08-26",
          "2017-08-27",
          "2017-08-28",
          "2017-08-29",
          "2017-08-30",
          "2017-08-31",
          "2017-09-02",
          "2017-09-03",
          "2017-09-04",
          "2017-09-05",
          "2017-09-06",
          "2017-10-31",
          "2017-11-01",
          "2017-11-02",
          "2017-11-03",
          "2017-11-04",
          "2017-11-05",
          "2017-12-21",
          "2017-12-22",
          "2017-12-23",
          "2017-12-24",
          "2017-12-25",
          "2017-12-26",
          "2017-12-27",
          "2017-12-28",
          "2017-12-29",
          "2017-12-30",
          "2017-12-31",
          "2018-01-01",
          "2018-01-02",
          "2018-01-03",
          "2018-01-04",
          "2018-01-05",
          "2018-01-06",
          "2018-01-07",
          "2018-03-15",
          "2018-03-16",
          "2018-03-17",
          "2018-03-18",
          "2018-03-19",
          "2018-03-20",
          "2018-03-21",
          "2018-03-22",
          "2018-03-24",
          "2018-03-25",
          "2018-03-26",
          "2018-03-27",
          "2018-03-28",
          "2018-03-29",
          "2018-03-30",
          "2018-03-31",
          "2018-04-01",
          "2018-07-04",
          "2018-07-05",
          "2018-07-06",
          "2018-07-07",
          "2018-07-08",
          "2018-07-09",
          "2018-07-10",
          "2018-07-11",
          "2018-07-12",
          "2018-07-13",
          "2018-07-14",
          "2018-07-15",
          "2018-07-16",
          "2018-07-17",
          "2018-07-18",
          "2018-07-19",
          "2018-07-20",
          "2018-07-21",
          "2018-07-22",
          "2018-07-23",
          "2018-07-24",
          "2018-07-25",
          "2018-07-26",
          "2018-07-27",
          "2018-07-28",
          "2018-07-29",
          "2018-07-30",
          "2018-07-31",
          "2018-08-01",
          "2018-08-02",
          "2018-08-03",
          "2018-08-04",
          "2018-08-05",
          "2018-08-06",
          "2018-08-07",
          "2018-08-08",
          "2018-08-09",
          "2018-08-10",
          "2018-08-11",
          "2018-08-12",
          "2018-08-13",
          "2018-08-14",
          "2018-08-15",
          "2018-08-16",
          "2018-08-17",
          "2018-08-18",
          "2018-08-19",
          "2018-08-20",
          "2018-08-21",
          "2018-08-22",
          "2018-08-23",
          "2018-08-24",
          "2018-08-25",
          "2018-08-26",
          "2018-08-27",
          "2018-08-28",
          "2018-08-29",
          "2018-08-30",
          "2018-08-31",
          "2018-09-01",
          "2018-09-02",
          "2018-09-03",
          "2018-09-04",
          "2018-09-05",
          "2018-10-30",
          "2018-10-31",
          "2018-11-01",
          "2018-11-03",
          "2018-11-04",
          "2018-12-20",
          "2018-12-21",
          "2018-12-22",
          "2018-12-23",
          "2018-12-24",
          "2018-12-25",
          "2018-12-26",
          "2018-12-27",
          "2018-12-28",
          "2018-12-29",
          "2018-12-30",
          "2018-12-31"
         ],
         "y": [
          35.272245,
          33.375357,
          10.147392,
          0.53196,
          29.673798,
          27.579267,
          29.449216,
          26.212386,
          28.145004,
          10.429752,
          2.66145,
          25.550628,
          29.090136,
          28.066122,
          27.153234,
          29.522495,
          9.0369,
          2.187768,
          32.387694,
          31.572624,
          39.638448,
          41.009846,
          40.697634,
          42.262071,
          39.457669,
          15.004482,
          0.3489,
          40.434214,
          37.90515,
          34.230887,
          37.423638,
          35.996489,
          15.541397,
          0.117264,
          39.621432,
          41.150452,
          37.750074,
          39.49299,
          41.040786,
          13.81035,
          41.261538,
          37.372866,
          38.307801,
          38.501082,
          40.915686,
          12.832572,
          46.101054,
          43.996134,
          42.469164,
          41.758122,
          42.414528,
          12.04305,
          44.759058,
          46.649784,
          43.322496,
          40.32904,
          39.330036,
          14.545974,
          0.3048,
          45.75349,
          43.495308,
          42.059928,
          42.242346,
          40.523928,
          12.546462,
          1.299972,
          45.401916,
          43.26879,
          44.964726,
          45.505386,
          44.536218,
          12.7974,
          49.381092,
          18.811794,
          0.262128,
          58.213386,
          55.151358,
          51.189155,
          30.587262,
          52.084686,
          19.343412,
          0.161598,
          54.599828,
          47.859816,
          44.62578,
          45.17001,
          43.673777,
          18.602394,
          0.352896,
          43.353496,
          34.647011,
          47.848976,
          20.07892406731202,
          0.3529120018080001,
          53.402338182790785,
          50.28059216932673,
          47.92490816319081,
          47.971996155806934,
          49.617606162110974,
          14.980708053408119,
          37.95239212775948,
          46.39628015101501,
          52.608904175134796,
          50.519490165910824,
          86.56932229060786,
          18.908422066656016,
          0.39893000128800027,
          46.325566148159055,
          50.90588615871904,
          19.809745072680023,
          54.49903528546287,
          57.20539129043077,
          53.66852617231084,
          53.44424250549502,
          51.600091496663,
          20.06671507010402,
          0.72137800368,
          52.0233201675828,
          50.04781504381501,
          53.93937751540685,
          53.00847928493485,
          52.42587972591892,
          20.971539518648,
          0.92270800224,
          55.34151218198274,
          56.33699384887071,
          53.13036250778288,
          54.80841718058282,
          54.637474179910825,
          23.24291408051998,
          59.50211241867065,
          58.26567307689479,
          57.67024208339088,
          51.16032638574283,
          53.78952884349491,
          22.29435508329596,
          0.35549400079200016,
          54.56611440191082,
          59.106044302840694,
          56.074908404414714,
          56.79552540711884,
          56.95491929815089,
          24.629427090167965,
          0.5834880038400001,
          60.88167086542661,
          53.550570392463,
          58.27484619634286,
          58.12272452073476,
          60.09965486957468,
          20.34454374004809,
          62.36537554696672,
          63.10590242375061,
          58.30025085727068,
          59.49382875107085,
          61.729730204966856,
          23.87485952635992,
          70.51990156384672,
          70.29883467897477,
          67.91407300673441,
          69.15390023707077,
          72.6135202581109,
          27.20056309624793,
          3.4962140070240024,
          39.565170231439325,
          57.941099839078774,
          64.6200589600948,
          67.84919319203874,
          58.418938019771815,
          33.80818117277258,
          20.708895852544202,
          0.5244919990680001,
          56.623060795815924,
          61.74707768198407,
          16.116693970656048,
          0.20724999964799995,
          57.45353235113577,
          60.110959127923785,
          57.102606129352665,
          54.655644130951835,
          55.02394812665987,
          23.494352737500257,
          0.123386000016,
          58.015198569875686,
          61.59710445575187,
          34.200915613824606,
          56.34237980226372,
          59.94770846031587,
          23.54256485155623,
          0.306126,
          61.03858268345564,
          66.55168445729952,
          27.25750728514035,
          3.122139994236,
          70.74412644049941,
          71.79452132777968,
          67.82677688128352,
          64.87631310990317,
          65.30109143658329,
          24.708133614372294,
          69.68881053674347,
          67.74320176403117,
          64.32213265684324,
          66.63561809894706,
          67.3643259927235,
          25.113185730516328,
          1.420387998312,
          65.59936822420293,
          65.87622411773116,
          88.98493574222964,
          33.07151127234252,
          0.724767998484,
          95.38860828271828,
          98.71188961200218,
          90.29202662652561,
          88.16906352027159,
          87.12394330337175,
          48.21669202087032,
          0.9733379991960003,
          74.7992320984522,
          99.42360216863631,
          92.6229440141047,
          90.31953218365072,
          92.40052061925815,
          44.253343143148186,
          1.2662519967600003,
          100.36798383935823,
          100.15913896365386,
          104.59663055621021,
          104.8033865010711,
          101.44520361151437,
          52.030505242040185,
          1.5961699968600005,
          95.70896256846208,
          99.52454294712659,
          100.06874583864804,
          97.66436117617816,
          94.84305317930206,
          42.317768919744346,
          0.550053999732,
          94.42983751196418,
          98.44670216952889,
          93.44022806281772,
          94.3179177287222,
          96.86225516250819,
          42.740440584324155,
          1.4938359958560004,
          92.92370739558214,
          97.5816676159009,
          96.70356638908014,
          106.99173370375081,
          110.04216413688525,
          52.91494479376205,
          2.0945999945640006,
          124.44300438953535,
          137.8994109728474,
          115.82071746138378,
          0.81584599848,
          2.2698199982199987,
          7.80577398705597,
          0.39333999916800005,
          123.27080946604075,
          127.81959134169179,
          114.61602470183912,
          143.32656797877726,
          109.64591149050715,
          49.60676157613208,
          0.42005599867200005,
          101.45800172479319,
          106.58418983070693,
          104.3135817252656,
          107.88770772669521,
          107.62826511618094,
          98.13998674187161,
          97.16827329900065,
          54.39923024412398,
          95.98483221822099,
          98.62592276833146,
          43.0277424786932,
          0.7342359984000002,
          93.55630851718273,
          89.90252507173675,
          87.31303474040884,
          84.5875420771853,
          87.84621074083772,
          42.86229158998225,
          0.7359529989840006,
          93.84746039700947,
          92.85185651495078,
          87.51653535637594
         ]
        }
       ],
       "layout": {
        "template": {
         "data": {
          "bar": [
           {
            "error_x": {
             "color": "#2a3f5f"
            },
            "error_y": {
             "color": "#2a3f5f"
            },
            "marker": {
             "line": {
              "color": "#E5ECF6",
              "width": 0.5
             }
            },
            "type": "bar"
           }
          ],
          "barpolar": [
           {
            "marker": {
             "line": {
              "color": "#E5ECF6",
              "width": 0.5
             }
            },
            "type": "barpolar"
           }
          ],
          "carpet": [
           {
            "aaxis": {
             "endlinecolor": "#2a3f5f",
             "gridcolor": "white",
             "linecolor": "white",
             "minorgridcolor": "white",
             "startlinecolor": "#2a3f5f"
            },
            "baxis": {
             "endlinecolor": "#2a3f5f",
             "gridcolor": "white",
             "linecolor": "white",
             "minorgridcolor": "white",
             "startlinecolor": "#2a3f5f"
            },
            "type": "carpet"
           }
          ],
          "choropleth": [
           {
            "colorbar": {
             "outlinewidth": 0,
             "ticks": ""
            },
            "type": "choropleth"
           }
          ],
          "contour": [
           {
            "colorbar": {
             "outlinewidth": 0,
             "ticks": ""
            },
            "colorscale": [
             [
              0,
              "#0d0887"
             ],
             [
              0.1111111111111111,
              "#46039f"
             ],
             [
              0.2222222222222222,
              "#7201a8"
             ],
             [
              0.3333333333333333,
              "#9c179e"
             ],
             [
              0.4444444444444444,
              "#bd3786"
             ],
             [
              0.5555555555555556,
              "#d8576b"
             ],
             [
              0.6666666666666666,
              "#ed7953"
             ],
             [
              0.7777777777777778,
              "#fb9f3a"
             ],
             [
              0.8888888888888888,
              "#fdca26"
             ],
             [
              1,
              "#f0f921"
             ]
            ],
            "type": "contour"
           }
          ],
          "contourcarpet": [
           {
            "colorbar": {
             "outlinewidth": 0,
             "ticks": ""
            },
            "type": "contourcarpet"
           }
          ],
          "heatmap": [
           {
            "colorbar": {
             "outlinewidth": 0,
             "ticks": ""
            },
            "colorscale": [
             [
              0,
              "#0d0887"
             ],
             [
              0.1111111111111111,
              "#46039f"
             ],
             [
              0.2222222222222222,
              "#7201a8"
             ],
             [
              0.3333333333333333,
              "#9c179e"
             ],
             [
              0.4444444444444444,
              "#bd3786"
             ],
             [
              0.5555555555555556,
              "#d8576b"
             ],
             [
              0.6666666666666666,
              "#ed7953"
             ],
             [
              0.7777777777777778,
              "#fb9f3a"
             ],
             [
              0.8888888888888888,
              "#fdca26"
             ],
             [
              1,
              "#f0f921"
             ]
            ],
            "type": "heatmap"
           }
          ],
          "heatmapgl": [
           {
            "colorbar": {
             "outlinewidth": 0,
             "ticks": ""
            },
            "colorscale": [
             [
              0,
              "#0d0887"
             ],
             [
              0.1111111111111111,
              "#46039f"
             ],
             [
              0.2222222222222222,
              "#7201a8"
             ],
             [
              0.3333333333333333,
              "#9c179e"
             ],
             [
              0.4444444444444444,
              "#bd3786"
             ],
             [
              0.5555555555555556,
              "#d8576b"
             ],
             [
              0.6666666666666666,
              "#ed7953"
             ],
             [
              0.7777777777777778,
              "#fb9f3a"
             ],
             [
              0.8888888888888888,
              "#fdca26"
             ],
             [
              1,
              "#f0f921"
             ]
            ],
            "type": "heatmapgl"
           }
          ],
          "histogram": [
           {
            "marker": {
             "colorbar": {
              "outlinewidth": 0,
              "ticks": ""
             }
            },
            "type": "histogram"
           }
          ],
          "histogram2d": [
           {
            "colorbar": {
             "outlinewidth": 0,
             "ticks": ""
            },
            "colorscale": [
             [
              0,
              "#0d0887"
             ],
             [
              0.1111111111111111,
              "#46039f"
             ],
             [
              0.2222222222222222,
              "#7201a8"
             ],
             [
              0.3333333333333333,
              "#9c179e"
             ],
             [
              0.4444444444444444,
              "#bd3786"
             ],
             [
              0.5555555555555556,
              "#d8576b"
             ],
             [
              0.6666666666666666,
              "#ed7953"
             ],
             [
              0.7777777777777778,
              "#fb9f3a"
             ],
             [
              0.8888888888888888,
              "#fdca26"
             ],
             [
              1,
              "#f0f921"
             ]
            ],
            "type": "histogram2d"
           }
          ],
          "histogram2dcontour": [
           {
            "colorbar": {
             "outlinewidth": 0,
             "ticks": ""
            },
            "colorscale": [
             [
              0,
              "#0d0887"
             ],
             [
              0.1111111111111111,
              "#46039f"
             ],
             [
              0.2222222222222222,
              "#7201a8"
             ],
             [
              0.3333333333333333,
              "#9c179e"
             ],
             [
              0.4444444444444444,
              "#bd3786"
             ],
             [
              0.5555555555555556,
              "#d8576b"
             ],
             [
              0.6666666666666666,
              "#ed7953"
             ],
             [
              0.7777777777777778,
              "#fb9f3a"
             ],
             [
              0.8888888888888888,
              "#fdca26"
             ],
             [
              1,
              "#f0f921"
             ]
            ],
            "type": "histogram2dcontour"
           }
          ],
          "mesh3d": [
           {
            "colorbar": {
             "outlinewidth": 0,
             "ticks": ""
            },
            "type": "mesh3d"
           }
          ],
          "parcoords": [
           {
            "line": {
             "colorbar": {
              "outlinewidth": 0,
              "ticks": ""
             }
            },
            "type": "parcoords"
           }
          ],
          "pie": [
           {
            "automargin": true,
            "type": "pie"
           }
          ],
          "scatter": [
           {
            "marker": {
             "colorbar": {
              "outlinewidth": 0,
              "ticks": ""
             }
            },
            "type": "scatter"
           }
          ],
          "scatter3d": [
           {
            "line": {
             "colorbar": {
              "outlinewidth": 0,
              "ticks": ""
             }
            },
            "marker": {
             "colorbar": {
              "outlinewidth": 0,
              "ticks": ""
             }
            },
            "type": "scatter3d"
           }
          ],
          "scattercarpet": [
           {
            "marker": {
             "colorbar": {
              "outlinewidth": 0,
              "ticks": ""
             }
            },
            "type": "scattercarpet"
           }
          ],
          "scattergeo": [
           {
            "marker": {
             "colorbar": {
              "outlinewidth": 0,
              "ticks": ""
             }
            },
            "type": "scattergeo"
           }
          ],
          "scattergl": [
           {
            "marker": {
             "colorbar": {
              "outlinewidth": 0,
              "ticks": ""
             }
            },
            "type": "scattergl"
           }
          ],
          "scattermapbox": [
           {
            "marker": {
             "colorbar": {
              "outlinewidth": 0,
              "ticks": ""
             }
            },
            "type": "scattermapbox"
           }
          ],
          "scatterpolar": [
           {
            "marker": {
             "colorbar": {
              "outlinewidth": 0,
              "ticks": ""
             }
            },
            "type": "scatterpolar"
           }
          ],
          "scatterpolargl": [
           {
            "marker": {
             "colorbar": {
              "outlinewidth": 0,
              "ticks": ""
             }
            },
            "type": "scatterpolargl"
           }
          ],
          "scatterternary": [
           {
            "marker": {
             "colorbar": {
              "outlinewidth": 0,
              "ticks": ""
             }
            },
            "type": "scatterternary"
           }
          ],
          "surface": [
           {
            "colorbar": {
             "outlinewidth": 0,
             "ticks": ""
            },
            "colorscale": [
             [
              0,
              "#0d0887"
             ],
             [
              0.1111111111111111,
              "#46039f"
             ],
             [
              0.2222222222222222,
              "#7201a8"
             ],
             [
              0.3333333333333333,
              "#9c179e"
             ],
             [
              0.4444444444444444,
              "#bd3786"
             ],
             [
              0.5555555555555556,
              "#d8576b"
             ],
             [
              0.6666666666666666,
              "#ed7953"
             ],
             [
              0.7777777777777778,
              "#fb9f3a"
             ],
             [
              0.8888888888888888,
              "#fdca26"
             ],
             [
              1,
              "#f0f921"
             ]
            ],
            "type": "surface"
           }
          ],
          "table": [
           {
            "cells": {
             "fill": {
              "color": "#EBF0F8"
             },
             "line": {
              "color": "white"
             }
            },
            "header": {
             "fill": {
              "color": "#C8D4E3"
             },
             "line": {
              "color": "white"
             }
            },
            "type": "table"
           }
          ]
         },
         "layout": {
          "annotationdefaults": {
           "arrowcolor": "#2a3f5f",
           "arrowhead": 0,
           "arrowwidth": 1
          },
          "coloraxis": {
           "colorbar": {
            "outlinewidth": 0,
            "ticks": ""
           }
          },
          "colorscale": {
           "diverging": [
            [
             0,
             "#8e0152"
            ],
            [
             0.1,
             "#c51b7d"
            ],
            [
             0.2,
             "#de77ae"
            ],
            [
             0.3,
             "#f1b6da"
            ],
            [
             0.4,
             "#fde0ef"
            ],
            [
             0.5,
             "#f7f7f7"
            ],
            [
             0.6,
             "#e6f5d0"
            ],
            [
             0.7,
             "#b8e186"
            ],
            [
             0.8,
             "#7fbc41"
            ],
            [
             0.9,
             "#4d9221"
            ],
            [
             1,
             "#276419"
            ]
           ],
           "sequential": [
            [
             0,
             "#0d0887"
            ],
            [
             0.1111111111111111,
             "#46039f"
            ],
            [
             0.2222222222222222,
             "#7201a8"
            ],
            [
             0.3333333333333333,
             "#9c179e"
            ],
            [
             0.4444444444444444,
             "#bd3786"
            ],
            [
             0.5555555555555556,
             "#d8576b"
            ],
            [
             0.6666666666666666,
             "#ed7953"
            ],
            [
             0.7777777777777778,
             "#fb9f3a"
            ],
            [
             0.8888888888888888,
             "#fdca26"
            ],
            [
             1,
             "#f0f921"
            ]
           ],
           "sequentialminus": [
            [
             0,
             "#0d0887"
            ],
            [
             0.1111111111111111,
             "#46039f"
            ],
            [
             0.2222222222222222,
             "#7201a8"
            ],
            [
             0.3333333333333333,
             "#9c179e"
            ],
            [
             0.4444444444444444,
             "#bd3786"
            ],
            [
             0.5555555555555556,
             "#d8576b"
            ],
            [
             0.6666666666666666,
             "#ed7953"
            ],
            [
             0.7777777777777778,
             "#fb9f3a"
            ],
            [
             0.8888888888888888,
             "#fdca26"
            ],
            [
             1,
             "#f0f921"
            ]
           ]
          },
          "colorway": [
           "#636efa",
           "#EF553B",
           "#00cc96",
           "#ab63fa",
           "#FFA15A",
           "#19d3f3",
           "#FF6692",
           "#B6E880",
           "#FF97FF",
           "#FECB52"
          ],
          "font": {
           "color": "#2a3f5f"
          },
          "geo": {
           "bgcolor": "white",
           "lakecolor": "white",
           "landcolor": "#E5ECF6",
           "showlakes": true,
           "showland": true,
           "subunitcolor": "white"
          },
          "hoverlabel": {
           "align": "left"
          },
          "hovermode": "closest",
          "mapbox": {
           "style": "light"
          },
          "paper_bgcolor": "white",
          "plot_bgcolor": "#E5ECF6",
          "polar": {
           "angularaxis": {
            "gridcolor": "white",
            "linecolor": "white",
            "ticks": ""
           },
           "bgcolor": "#E5ECF6",
           "radialaxis": {
            "gridcolor": "white",
            "linecolor": "white",
            "ticks": ""
           }
          },
          "scene": {
           "xaxis": {
            "backgroundcolor": "#E5ECF6",
            "gridcolor": "white",
            "gridwidth": 2,
            "linecolor": "white",
            "showbackground": true,
            "ticks": "",
            "zerolinecolor": "white"
           },
           "yaxis": {
            "backgroundcolor": "#E5ECF6",
            "gridcolor": "white",
            "gridwidth": 2,
            "linecolor": "white",
            "showbackground": true,
            "ticks": "",
            "zerolinecolor": "white"
           },
           "zaxis": {
            "backgroundcolor": "#E5ECF6",
            "gridcolor": "white",
            "gridwidth": 2,
            "linecolor": "white",
            "showbackground": true,
            "ticks": "",
            "zerolinecolor": "white"
           }
          },
          "shapedefaults": {
           "line": {
            "color": "#2a3f5f"
           }
          },
          "ternary": {
           "aaxis": {
            "gridcolor": "white",
            "linecolor": "white",
            "ticks": ""
           },
           "baxis": {
            "gridcolor": "white",
            "linecolor": "white",
            "ticks": ""
           },
           "bgcolor": "#E5ECF6",
           "caxis": {
            "gridcolor": "white",
            "linecolor": "white",
            "ticks": ""
           }
          },
          "title": {
           "x": 0.05
          },
          "xaxis": {
           "automargin": true,
           "gridcolor": "white",
           "linecolor": "white",
           "ticks": "",
           "title": {
            "standoff": 15
           },
           "zerolinecolor": "white",
           "zerolinewidth": 2
          },
          "yaxis": {
           "automargin": true,
           "gridcolor": "white",
           "linecolor": "white",
           "ticks": "",
           "title": {
            "standoff": 15
           },
           "zerolinecolor": "white",
           "zerolinewidth": 2
          }
         }
        },
        "title": {
         "text": "Holidays behaviour"
        }
       }
      },
      "text/html": [
       "<div>\n",
       "        \n",
       "        \n",
       "            <div id=\"240c6b9b-ab70-43e2-8ab1-038ade9f35a4\" class=\"plotly-graph-div\" style=\"height:525px; width:100%;\"></div>\n",
       "            <script type=\"text/javascript\">\n",
       "                require([\"plotly\"], function(Plotly) {\n",
       "                    window.PLOTLYENV=window.PLOTLYENV || {};\n",
       "                    \n",
       "                if (document.getElementById(\"240c6b9b-ab70-43e2-8ab1-038ade9f35a4\")) {\n",
       "                    Plotly.newPlot(\n",
       "                        '240c6b9b-ab70-43e2-8ab1-038ade9f35a4',\n",
       "                        [{\"mode\": \"lines\", \"name\": \"Time Serie\", \"type\": \"scatter\", \"x\": [\"2016-01-02\", \"2016-01-03\", \"2016-01-04\", \"2016-01-05\", \"2016-01-06\", \"2016-01-07\", \"2016-01-08\", \"2016-01-09\", \"2016-01-10\", \"2016-01-11\", \"2016-01-12\", \"2016-01-13\", \"2016-01-14\", \"2016-01-15\", \"2016-01-16\", \"2016-01-17\", \"2016-01-18\", \"2016-01-19\", \"2016-01-20\", \"2016-01-21\", \"2016-01-22\", \"2016-01-23\", \"2016-01-24\", \"2016-01-25\", \"2016-01-26\", \"2016-01-27\", \"2016-01-28\", \"2016-01-29\", \"2016-01-30\", \"2016-01-31\", \"2016-02-01\", \"2016-02-02\", \"2016-02-03\", \"2016-02-04\", \"2016-02-05\", \"2016-02-06\", \"2016-02-07\", \"2016-02-08\", \"2016-02-09\", \"2016-02-10\", \"2016-02-11\", \"2016-02-12\", \"2016-02-13\", \"2016-02-14\", \"2016-02-15\", \"2016-02-16\", \"2016-02-17\", \"2016-02-18\", \"2016-02-19\", \"2016-02-20\", \"2016-02-21\", \"2016-02-22\", \"2016-02-23\", \"2016-02-24\", \"2016-02-25\", \"2016-02-26\", \"2016-02-27\", \"2016-02-28\", \"2016-02-29\", \"2016-03-01\", \"2016-03-02\", \"2016-03-03\", \"2016-03-04\", \"2016-03-05\", \"2016-03-06\", \"2016-03-07\", \"2016-03-08\", \"2016-03-09\", \"2016-03-10\", \"2016-03-11\", \"2016-03-12\", \"2016-03-13\", \"2016-03-14\", \"2016-03-15\", \"2016-03-16\", \"2016-03-17\", \"2016-03-18\", \"2016-03-19\", \"2016-03-20\", \"2016-03-21\", \"2016-03-22\", \"2016-03-23\", \"2016-03-24\", \"2016-03-25\", \"2016-03-26\", \"2016-03-27\", \"2016-03-28\", \"2016-03-29\", \"2016-03-30\", \"2016-03-31\", \"2016-04-01\", \"2016-04-02\", \"2016-04-03\", \"2016-04-04\", \"2016-04-05\", \"2016-04-06\", \"2016-04-07\", \"2016-04-08\", \"2016-04-09\", \"2016-04-10\", \"2016-04-11\", \"2016-04-12\", \"2016-04-13\", \"2016-04-14\", \"2016-04-16\", \"2016-04-17\", \"2016-04-18\", \"2016-04-19\", \"2016-04-20\", \"2016-04-21\", \"2016-04-22\", \"2016-04-23\", \"2016-04-24\", \"2016-04-25\", \"2016-04-26\", \"2016-04-27\", \"2016-04-28\", \"2016-04-29\", \"2016-04-30\", \"2016-05-01\", \"2016-05-02\", \"2016-05-03\", \"2016-05-04\", \"2016-05-05\", \"2016-05-07\", \"2016-05-08\", \"2016-05-09\", \"2016-05-10\", \"2016-05-11\", \"2016-05-12\", \"2016-05-14\", \"2016-05-15\", \"2016-05-16\", \"2016-05-17\", \"2016-05-18\", \"2016-05-19\", \"2016-05-20\", \"2016-05-21\", \"2016-05-22\", \"2016-05-23\", \"2016-05-24\", \"2016-05-25\", \"2016-05-26\", \"2016-05-28\", \"2016-05-29\", \"2016-05-30\", \"2016-05-31\", \"2016-06-01\", \"2016-06-02\", \"2016-06-04\", \"2016-06-05\", \"2016-06-06\", \"2016-06-07\", \"2016-06-08\", \"2016-06-09\", \"2016-06-10\", \"2016-06-11\", \"2016-06-12\", \"2016-06-13\", \"2016-06-14\", \"2016-06-15\", \"2016-06-16\", \"2016-06-17\", \"2016-06-18\", \"2016-06-19\", \"2016-06-20\", \"2016-06-21\", \"2016-06-22\", \"2016-06-23\", \"2016-06-24\", \"2016-06-25\", \"2016-06-26\", \"2016-06-27\", \"2016-06-28\", \"2016-06-29\", \"2016-06-30\", \"2016-07-01\", \"2016-07-02\", \"2016-07-03\", \"2016-07-04\", \"2016-07-05\", \"2016-07-06\", \"2016-07-09\", \"2016-07-10\", \"2016-07-11\", \"2016-07-12\", \"2016-07-13\", \"2016-07-14\", \"2016-07-15\", \"2016-07-16\", \"2016-07-17\", \"2016-07-18\", \"2016-07-19\", \"2016-07-20\", \"2016-07-21\", \"2016-07-22\", \"2016-07-23\", \"2016-07-24\", \"2016-07-25\", \"2016-07-26\", \"2016-07-27\", \"2016-07-28\", \"2016-07-30\", \"2016-07-31\", \"2016-08-01\", \"2016-08-02\", \"2016-08-03\", \"2016-08-04\", \"2016-08-06\", \"2016-08-07\", \"2016-08-08\", \"2016-08-09\", \"2016-08-10\", \"2016-08-11\", \"2016-08-13\", \"2016-08-14\", \"2016-08-15\", \"2016-08-16\", \"2016-08-17\", \"2016-08-18\", \"2016-08-19\", \"2016-08-20\", \"2016-08-21\", \"2016-08-22\", \"2016-08-23\", \"2016-08-24\", \"2016-08-25\", \"2016-08-26\", \"2016-08-27\", \"2016-08-28\", \"2016-08-29\", \"2016-08-30\", \"2016-08-31\", \"2016-09-01\", \"2016-09-03\", \"2016-09-04\", \"2016-09-05\", \"2016-09-06\", \"2016-09-07\", \"2016-09-08\", \"2016-09-09\", \"2016-09-10\", \"2016-09-11\", \"2016-09-12\", \"2016-09-14\", \"2016-09-15\", \"2016-09-16\", \"2016-09-17\", \"2016-09-18\", \"2016-09-19\", \"2016-09-20\", \"2016-09-21\", \"2016-09-22\", \"2016-09-23\", \"2016-09-24\", \"2016-09-25\", \"2016-09-26\", \"2016-09-27\", \"2016-09-28\", \"2016-09-29\", \"2016-10-01\", \"2016-10-02\", \"2016-10-03\", \"2016-10-04\", \"2016-10-05\", \"2016-10-06\", \"2016-10-07\", \"2016-10-08\", \"2016-10-09\", \"2016-10-10\", \"2016-10-11\", \"2016-10-12\", \"2016-10-13\", \"2016-10-14\", \"2016-10-15\", \"2016-10-16\", \"2016-10-17\", \"2016-10-18\", \"2016-10-19\", \"2016-10-20\", \"2016-10-22\", \"2016-10-23\", \"2016-10-24\", \"2016-10-25\", \"2016-10-26\", \"2016-10-27\", \"2016-10-28\", \"2016-10-29\", \"2016-10-30\", \"2016-10-31\", \"2016-11-01\", \"2016-11-02\", \"2016-11-03\", \"2016-11-04\", \"2016-11-05\", \"2016-11-06\", \"2016-11-07\", \"2016-11-08\", \"2016-11-09\", \"2016-11-10\", \"2016-11-12\", \"2016-11-13\", \"2016-11-14\", \"2016-11-15\", \"2016-11-16\", \"2016-11-17\", \"2016-11-18\", \"2016-11-19\", \"2016-11-20\", \"2016-11-21\", \"2016-11-22\", \"2016-11-23\", \"2016-11-24\", \"2016-11-25\", \"2016-11-26\", \"2016-11-27\", \"2016-11-28\", \"2016-11-29\", \"2016-11-30\", \"2016-12-01\", \"2016-12-02\", \"2016-12-03\", \"2016-12-04\", \"2016-12-05\", \"2016-12-06\", \"2016-12-07\", \"2016-12-08\", \"2016-12-10\", \"2016-12-11\", \"2016-12-12\", \"2016-12-13\", \"2016-12-14\", \"2016-12-15\", \"2016-12-16\", \"2016-12-17\", \"2016-12-18\", \"2016-12-19\", \"2016-12-20\", \"2016-12-21\", \"2016-12-22\", \"2016-12-23\", \"2016-12-24\", \"2016-12-25\", \"2016-12-26\", \"2016-12-27\", \"2016-12-28\", \"2016-12-29\", \"2016-12-30\", \"2016-12-31\", \"2017-01-01\", \"2017-01-02\", \"2017-01-03\", \"2017-01-04\", \"2017-01-05\", \"2017-01-07\", \"2017-01-08\", \"2017-01-09\", \"2017-01-10\", \"2017-01-11\", \"2017-01-12\", \"2017-01-14\", \"2017-01-15\", \"2017-01-16\", \"2017-01-17\", \"2017-01-18\", \"2017-01-19\", \"2017-01-20\", \"2017-01-21\", \"2017-01-22\", \"2017-01-23\", \"2017-01-24\", \"2017-01-25\", \"2017-01-26\", \"2017-01-27\", \"2017-01-28\", \"2017-01-29\", \"2017-01-30\", \"2017-01-31\", \"2017-02-01\", \"2017-02-02\", \"2017-02-03\", \"2017-02-04\", \"2017-02-05\", \"2017-02-06\", \"2017-02-07\", \"2017-02-08\", \"2017-02-09\", \"2017-02-10\", \"2017-02-11\", \"2017-02-12\", \"2017-02-13\", \"2017-02-14\", \"2017-02-15\", \"2017-02-16\", \"2017-02-17\", \"2017-02-18\", \"2017-02-19\", \"2017-02-20\", \"2017-02-21\", \"2017-02-22\", \"2017-02-23\", \"2017-02-24\", \"2017-02-25\", \"2017-02-26\", \"2017-02-27\", \"2017-02-28\", \"2017-03-01\", \"2017-03-02\", \"2017-03-03\", \"2017-03-04\", \"2017-03-05\", \"2017-03-06\", \"2017-03-07\", \"2017-03-08\", \"2017-03-09\", \"2017-03-10\", \"2017-03-11\", \"2017-03-12\", \"2017-03-13\", \"2017-03-14\", \"2017-03-15\", \"2017-03-16\", \"2017-03-17\", \"2017-03-18\", \"2017-03-19\", \"2017-03-20\", \"2017-03-21\", \"2017-03-22\", \"2017-03-23\", \"2017-03-25\", \"2017-03-26\", \"2017-03-27\", \"2017-03-28\", \"2017-03-29\", \"2017-03-30\", \"2017-03-31\", \"2017-04-01\", \"2017-04-02\", \"2017-04-03\", \"2017-04-04\", \"2017-04-05\", \"2017-04-06\", \"2017-04-08\", \"2017-04-09\", \"2017-04-10\", \"2017-04-11\", \"2017-04-12\", \"2017-04-13\", \"2017-04-14\", \"2017-04-15\", \"2017-04-16\", \"2017-04-17\", \"2017-04-18\", \"2017-04-19\", \"2017-04-20\", \"2017-04-22\", \"2017-04-23\", \"2017-04-24\", \"2017-04-25\", \"2017-04-26\", \"2017-04-27\", \"2017-04-29\", \"2017-04-30\", \"2017-05-01\", \"2017-05-02\", \"2017-05-03\", \"2017-05-04\", \"2017-05-05\", \"2017-05-06\", \"2017-05-07\", \"2017-05-08\", \"2017-05-09\", \"2017-05-10\", \"2017-05-11\", \"2017-05-12\", \"2017-05-13\", \"2017-05-14\", \"2017-05-15\", \"2017-05-16\", \"2017-05-17\", \"2017-05-18\", \"2017-05-19\", \"2017-05-20\", \"2017-05-21\", \"2017-05-22\", \"2017-05-23\", \"2017-05-24\", \"2017-05-25\", \"2017-05-27\", \"2017-05-28\", \"2017-05-29\", \"2017-05-30\", \"2017-05-31\", \"2017-06-01\", \"2017-06-02\", \"2017-06-03\", \"2017-06-04\", \"2017-06-05\", \"2017-06-06\", \"2017-06-07\", \"2017-06-08\", \"2017-06-10\", \"2017-06-11\", \"2017-06-12\", \"2017-06-13\", \"2017-06-14\", \"2017-06-15\", \"2017-06-16\", \"2017-06-17\", \"2017-06-18\", \"2017-06-19\", \"2017-06-20\", \"2017-06-21\", \"2017-06-22\", \"2017-06-23\", \"2017-06-24\", \"2017-06-25\", \"2017-06-27\", \"2017-06-28\", \"2017-06-29\", \"2017-06-30\", \"2017-07-01\", \"2017-07-02\", \"2017-07-03\", \"2017-07-04\", \"2017-07-05\", \"2017-07-06\", \"2017-07-08\", \"2017-07-09\", \"2017-07-10\", \"2017-07-11\", \"2017-07-12\", \"2017-07-13\", \"2017-07-14\", \"2017-07-15\", \"2017-07-16\", \"2017-07-17\", \"2017-07-18\", \"2017-07-19\", \"2017-07-20\", \"2017-07-21\", \"2017-07-22\", \"2017-07-23\", \"2017-07-24\", \"2017-07-25\", \"2017-07-26\", \"2017-07-27\", \"2017-07-29\", \"2017-07-30\", \"2017-07-31\", \"2017-08-01\", \"2017-08-02\", \"2017-08-03\", \"2017-08-04\", \"2017-08-05\", \"2017-08-06\", \"2017-08-07\", \"2017-08-08\", \"2017-08-09\", \"2017-08-10\", \"2017-08-11\", \"2017-08-12\", \"2017-08-13\", \"2017-08-14\", \"2017-08-15\", \"2017-08-16\", \"2017-08-17\", \"2017-08-19\", \"2017-08-20\", \"2017-08-21\", \"2017-08-22\", \"2017-08-23\", \"2017-08-24\", \"2017-08-26\", \"2017-08-27\", \"2017-08-28\", \"2017-08-29\", \"2017-08-30\", \"2017-08-31\", \"2017-09-02\", \"2017-09-03\", \"2017-09-04\", \"2017-09-05\", \"2017-09-06\", \"2017-09-07\", \"2017-09-08\", \"2017-09-09\", \"2017-09-10\", \"2017-09-11\", \"2017-09-12\", \"2017-09-13\", \"2017-09-14\", \"2017-09-15\", \"2017-09-16\", \"2017-09-17\", \"2017-09-18\", \"2017-09-19\", \"2017-09-20\", \"2017-09-21\", \"2017-09-22\", \"2017-09-23\", \"2017-09-24\", \"2017-09-25\", \"2017-09-26\", \"2017-09-27\", \"2017-09-28\", \"2017-09-29\", \"2017-09-30\", \"2017-10-01\", \"2017-10-02\", \"2017-10-03\", \"2017-10-04\", \"2017-10-05\", \"2017-10-06\", \"2017-10-07\", \"2017-10-08\", \"2017-10-09\", \"2017-10-10\", \"2017-10-11\", \"2017-10-12\", \"2017-10-13\", \"2017-10-14\", \"2017-10-15\", \"2017-10-16\", \"2017-10-17\", \"2017-10-18\", \"2017-10-19\", \"2017-10-20\", \"2017-10-21\", \"2017-10-22\", \"2017-10-23\", \"2017-10-24\", \"2017-10-25\", \"2017-10-26\", \"2017-10-27\", \"2017-10-28\", \"2017-10-29\", \"2017-10-30\", \"2017-10-31\", \"2017-11-01\", \"2017-11-02\", \"2017-11-03\", \"2017-11-04\", \"2017-11-05\", \"2017-11-06\", \"2017-11-07\", \"2017-11-08\", \"2017-11-09\", \"2017-11-10\", \"2017-11-11\", \"2017-11-12\", \"2017-11-13\", \"2017-11-14\", \"2017-11-15\", \"2017-11-16\", \"2017-11-18\", \"2017-11-19\", \"2017-11-20\", \"2017-11-21\", \"2017-11-22\", \"2017-11-23\", \"2017-11-25\", \"2017-11-26\", \"2017-11-27\", \"2017-11-28\", \"2017-11-29\", \"2017-11-30\", \"2017-12-02\", \"2017-12-03\", \"2017-12-04\", \"2017-12-05\", \"2017-12-06\", \"2017-12-07\", \"2017-12-09\", \"2017-12-10\", \"2017-12-11\", \"2017-12-12\", \"2017-12-13\", \"2017-12-14\", \"2017-12-15\", \"2017-12-16\", \"2017-12-17\", \"2017-12-18\", \"2017-12-19\", \"2017-12-20\", \"2017-12-21\", \"2017-12-22\", \"2017-12-23\", \"2017-12-24\", \"2017-12-25\", \"2017-12-26\", \"2017-12-27\", \"2017-12-28\", \"2017-12-29\", \"2017-12-30\", \"2017-12-31\", \"2018-01-01\", \"2018-01-02\", \"2018-01-03\", \"2018-01-04\", \"2018-01-05\", \"2018-01-06\", \"2018-01-07\", \"2018-01-08\", \"2018-01-09\", \"2018-01-10\", \"2018-01-11\", \"2018-01-12\", \"2018-01-13\", \"2018-01-14\", \"2018-01-15\", \"2018-01-16\", \"2018-01-17\", \"2018-01-18\", \"2018-01-20\", \"2018-01-21\", \"2018-01-22\", \"2018-01-23\", \"2018-01-24\", \"2018-01-25\", \"2018-01-26\", \"2018-01-27\", \"2018-01-28\", \"2018-01-29\", \"2018-01-30\", \"2018-01-31\", \"2018-02-01\", \"2018-02-02\", \"2018-02-03\", \"2018-02-04\", \"2018-02-05\", \"2018-02-06\", \"2018-02-07\", \"2018-02-08\", \"2018-02-09\", \"2018-02-10\", \"2018-02-11\", \"2018-02-12\", \"2018-02-13\", \"2018-02-14\", \"2018-02-15\", \"2018-02-16\", \"2018-02-17\", \"2018-02-18\", \"2018-02-19\", \"2018-02-20\", \"2018-02-21\", \"2018-02-22\", \"2018-02-23\", \"2018-02-24\", \"2018-02-25\", \"2018-02-26\", \"2018-02-27\", \"2018-02-28\", \"2018-03-01\", \"2018-03-02\", \"2018-03-03\", \"2018-03-04\", \"2018-03-05\", \"2018-03-06\", \"2018-03-07\", \"2018-03-08\", \"2018-03-09\", \"2018-03-10\", \"2018-03-11\", \"2018-03-12\", \"2018-03-13\", \"2018-03-14\", \"2018-03-15\", \"2018-03-16\", \"2018-03-17\", \"2018-03-18\", \"2018-03-19\", \"2018-03-20\", \"2018-03-21\", \"2018-03-22\", \"2018-03-24\", \"2018-03-25\", \"2018-03-26\", \"2018-03-27\", \"2018-03-28\", \"2018-03-29\", \"2018-03-30\", \"2018-03-31\", \"2018-04-01\", \"2018-04-02\", \"2018-04-03\", \"2018-04-04\", \"2018-04-05\", \"2018-04-07\", \"2018-04-08\", \"2018-04-09\", \"2018-04-10\", \"2018-04-11\", \"2018-04-12\", \"2018-04-14\", \"2018-04-15\", \"2018-04-16\", \"2018-04-17\", \"2018-04-18\", \"2018-04-19\", \"2018-04-20\", \"2018-04-21\", \"2018-04-22\", \"2018-04-23\", \"2018-04-24\", \"2018-04-25\", \"2018-04-26\", \"2018-04-27\", \"2018-04-28\", \"2018-04-29\", \"2018-04-30\", \"2018-05-01\", \"2018-05-02\", \"2018-05-03\", \"2018-05-05\", \"2018-05-06\", \"2018-05-07\", \"2018-05-08\", \"2018-05-09\", \"2018-05-10\", \"2018-05-11\", \"2018-05-12\", \"2018-05-13\", \"2018-05-14\", \"2018-05-15\", \"2018-05-16\", \"2018-05-17\", \"2018-05-18\", \"2018-05-19\", \"2018-05-20\", \"2018-05-21\", \"2018-05-22\", \"2018-05-23\", \"2018-05-24\", \"2018-05-25\", \"2018-05-26\", \"2018-05-27\", \"2018-05-28\", \"2018-05-29\", \"2018-05-30\", \"2018-05-31\", \"2018-06-02\", \"2018-06-03\", \"2018-06-04\", \"2018-06-05\", \"2018-06-06\", \"2018-06-07\", \"2018-06-08\", \"2018-06-09\", \"2018-06-10\", \"2018-06-11\", \"2018-06-12\", \"2018-06-13\", \"2018-06-14\", \"2018-06-15\", \"2018-06-16\", \"2018-06-17\", \"2018-06-18\", \"2018-06-19\", \"2018-06-20\", \"2018-06-21\", \"2018-06-22\", \"2018-06-23\", \"2018-06-24\", \"2018-06-25\", \"2018-06-26\", \"2018-06-27\", \"2018-06-28\", \"2018-06-29\", \"2018-06-30\", \"2018-07-01\", \"2018-07-02\", \"2018-07-03\", \"2018-07-04\", \"2018-07-05\", \"2018-07-06\", \"2018-07-07\", \"2018-07-08\", \"2018-07-09\", \"2018-07-10\", \"2018-07-11\", \"2018-07-12\", \"2018-07-13\", \"2018-07-14\", \"2018-07-15\", \"2018-07-16\", \"2018-07-17\", \"2018-07-18\", \"2018-07-19\", \"2018-07-20\", \"2018-07-21\", \"2018-07-22\", \"2018-07-23\", \"2018-07-24\", \"2018-07-25\", \"2018-07-26\", \"2018-07-27\", \"2018-07-28\", \"2018-07-29\", \"2018-07-30\", \"2018-07-31\", \"2018-08-01\", \"2018-08-02\", \"2018-08-03\", \"2018-08-04\", \"2018-08-05\", \"2018-08-06\", \"2018-08-07\", \"2018-08-08\", \"2018-08-09\", \"2018-08-10\", \"2018-08-11\", \"2018-08-12\", \"2018-08-13\", \"2018-08-14\", \"2018-08-15\", \"2018-08-16\", \"2018-08-17\", \"2018-08-18\", \"2018-08-19\", \"2018-08-20\", \"2018-08-21\", \"2018-08-22\", \"2018-08-23\", \"2018-08-24\", \"2018-08-25\", \"2018-08-26\", \"2018-08-27\", \"2018-08-28\", \"2018-08-29\", \"2018-08-30\", \"2018-08-31\", \"2018-09-01\", \"2018-09-02\", \"2018-09-03\", \"2018-09-04\", \"2018-09-05\", \"2018-09-06\", \"2018-09-07\", \"2018-09-08\", \"2018-09-09\", \"2018-09-10\", \"2018-09-11\", \"2018-09-12\", \"2018-09-13\", \"2018-09-14\", \"2018-09-15\", \"2018-09-16\", \"2018-09-17\", \"2018-09-18\", \"2018-09-19\", \"2018-09-20\", \"2018-09-21\", \"2018-09-22\", \"2018-09-23\", \"2018-09-24\", \"2018-09-25\", \"2018-09-26\", \"2018-09-27\", \"2018-09-28\", \"2018-09-29\", \"2018-09-30\", \"2018-10-01\", \"2018-10-02\", \"2018-10-03\", \"2018-10-04\", \"2018-10-05\", \"2018-10-06\", \"2018-10-07\", \"2018-10-08\", \"2018-10-09\", \"2018-10-10\", \"2018-10-11\", \"2018-10-12\", \"2018-10-13\", \"2018-10-14\", \"2018-10-15\", \"2018-10-16\", \"2018-10-17\", \"2018-10-18\", \"2018-10-19\", \"2018-10-20\", \"2018-10-21\", \"2018-10-22\", \"2018-10-23\", \"2018-10-24\", \"2018-10-25\", \"2018-10-26\", \"2018-10-27\", \"2018-10-28\", \"2018-10-29\", \"2018-10-30\", \"2018-10-31\", \"2018-11-01\", \"2018-11-03\", \"2018-11-04\", \"2018-11-05\", \"2018-11-06\", \"2018-11-07\", \"2018-11-08\", \"2018-11-09\", \"2018-11-10\", \"2018-11-11\", \"2018-11-12\", \"2018-11-13\", \"2018-11-14\", \"2018-11-15\", \"2018-11-16\", \"2018-11-17\", \"2018-11-18\", \"2018-11-19\", \"2018-11-20\", \"2018-11-21\", \"2018-11-22\", \"2018-11-23\", \"2018-11-24\", \"2018-11-25\", \"2018-11-26\", \"2018-11-27\", \"2018-11-28\", \"2018-11-29\", \"2018-11-30\", \"2018-12-01\", \"2018-12-02\", \"2018-12-03\", \"2018-12-04\", \"2018-12-05\", \"2018-12-06\", \"2018-12-07\", \"2018-12-08\", \"2018-12-09\", \"2018-12-10\", \"2018-12-11\", \"2018-12-12\", \"2018-12-13\", \"2018-12-14\", \"2018-12-15\", \"2018-12-16\", \"2018-12-17\", \"2018-12-18\", \"2018-12-19\", \"2018-12-20\", \"2018-12-21\", \"2018-12-22\", \"2018-12-23\", \"2018-12-24\", \"2018-12-25\", \"2018-12-26\", \"2018-12-27\", \"2018-12-28\", \"2018-12-29\", \"2018-12-30\", \"2018-12-31\"], \"y\": [35.272245, 33.375357, 37.788882, 39.51296, 38.462262, 11.37483, 1.17078, 44.936062, 43.227786, 40.002891, 39.66865, 38.036559, 7.340067, 0.05454, 36.262368, 34.326858, 31.604367, 29.994939, 32.483001, 10.21155, 0.371286, 32.896782, 30.480864, 31.469631, 35.545959, 35.345721, 14.151312, 0.58386, 26.413014, 24.962202, 26.196055, 25.305564, 23.948189, 9.983496, 2.791236, 28.806533, 29.728991, 28.491021, 27.590403, 29.029781, 11.226396, 2.546592, 31.513435, 29.522421, 28.080342, 29.271208, 26.757969, 11.951226, 1.937652, 27.78579, 31.6134, 29.651448, 28.470807, 30.202435, 10.76403, 1.577028, 33.092828, 32.792979, 28.332994, 40.208402, 31.071821, 12.027894, 1.5657, 33.569472, 30.474468, 28.85628, 29.916636, 30.828881, 11.761674, 1.014024, 24.948978, 30.044814, 30.115752, 29.371104, 29.738636, 10.147392, 0.53196, 29.673798, 27.579267, 29.449216, 26.212386, 28.145004, 10.429752, 2.66145, 25.550628, 29.090136, 28.066122, 27.153234, 29.522495, 9.0369, 2.187768, 32.387694, 31.572624, 34.461354, 31.08855, 30.175938, 13.642812, 0.54846, 31.596684, 28.72371, 26.581926, 32.298072, 30.540828, 9.13122, 40.432488, 33.692598, 34.828828, 34.141584, 37.347456, 11.613714, 1.62942, 35.44155, 35.5875, 36.97449, 34.518006, 32.296226, 11.652822, 1.899918, 38.242578, 24.044994, 33.245922, 33.799062, 36.669614, 11.154047, 34.652253, 35.901258, 36.390372, 35.499642, 39.158832, 12.697062, 38.642406, 36.480915, 35.751972, 34.59153, 33.393018, 12.684174, 0.857448, 33.442902, 34.816008, 34.480042, 35.926006, 35.593284, 11.400432, 34.697184, 36.405534, 34.357302, 34.395174, 33.556471, 11.526012, 42.517169, 41.620434, 36.833922, 38.216823, 40.779937, 17.891268, 1.4733, 32.580996, 29.140728, 29.193534, 28.0692, 29.108058, 9.192138, 0.350658, 34.883844, 27.183234, 26.053504, 30.654408, 29.924988, 9.169674, 1.342722, 33.249092, 33.443256, 32.374938, 38.849924, 40.37431, 12.578478, 0.71463, 50.300736, 45.71289, 33.869378, 8.612934, 0.599778, 39.638448, 41.009846, 40.697634, 42.262071, 39.457669, 15.004482, 0.3489, 40.434214, 37.90515, 34.230887, 37.423638, 35.996489, 15.541397, 0.117264, 39.621432, 41.150452, 37.750074, 39.49299, 41.040786, 13.81035, 41.261538, 37.372866, 38.307801, 38.501082, 40.915686, 12.832572, 46.101054, 43.996134, 42.469164, 41.758122, 42.414528, 12.04305, 44.759058, 46.649784, 43.322496, 40.32904, 39.330036, 14.545974, 0.3048, 45.75349, 43.495308, 42.059928, 42.242346, 40.523928, 12.546462, 1.299972, 45.401916, 43.26879, 44.964726, 45.505386, 44.536218, 12.7974, 49.381092, 48.000336, 54.248034, 53.679066, 57.549156, 44.179098, 3.359232, 63.294749, 53.712932, 3.152112, 15.512526, 18.532998, 0.17565, 66.878152, 54.43731, 64.725776, 57.285855, 53.32263, 17.996611, 0.40962, 50.299016, 48.379656, 47.137852, 46.937336, 46.881412, 16.779642, 48.353383, 47.051466, 29.844192, 43.223006, 47.326284, 16.51428, 0.15117, 53.040575, 49.307656, 51.088358, 49.489034, 33.752445, 18.009498, 0.92151, 51.082104, 55.927704, 47.778126, 47.03775, 47.957592, 18.579762, 53.257095, 50.488824, 52.13718, 49.007788, 48.731358, 18.811794, 0.262128, 58.213386, 55.151358, 51.189155, 30.587262, 52.084686, 20.440308, 0.948858, 58.846512, 56.718522, 51.9516, 51.111186, 49.400944, 18.048018, 57.800378, 54.68952, 52.478113, 46.390458, 48.452354, 21.082262, 0.10347, 50.484582, 48.007006, 43.635342, 42.881465, 45.897034, 18.162258, 0.843648, 51.716594, 49.730232, 50.17425, 47.801596, 41.506943, 19.500042, 1.002432, 41.956894, 38.287393, 37.618524, 41.122482, 42.978912, 17.546778, 44.605058, 53.779578, 29.65554, 41.258628, 44.369475, 16.016901, 0.794244, 45.201768, 44.081484, 42.456042, 43.621842, 41.91131, 19.343412, 0.161598, 54.599828, 47.859816, 44.62578, 45.17001, 43.673777, 18.602394, 0.352896, 43.353496, 34.647011, 47.848976, 45.553998, 57.338008, 24.574668, 55.547475, 55.144872, 50.786606, 46.480916, 47.243178, 19.52136, 52.735088, 45.109276, 43.906677, 43.896767, 46.507242, 17.295209, 0.46746, 51.602484, 56.148587, 51.80247, 53.363238, 48.13059, 22.119764, 1.450944, 48.439845, 67.967419, 50.14254, 52.746879, 47.8341, 19.305468, 0.74826, 51.971001, 53.563305, 46.189333, 50.804913, 49.173354, 18.231792, 0.265308, 52.281906, 48.43040800142398, 47.316408, 49.189488, 50.651576, 21.20338, 0.210684, 53.872964, 53.204934, 53.445727998416004, 44.746509930296185, 47.91456805261562, 21.269604074015962, 0.38056800143999997, 53.309382186286896, 51.42102016245507, 51.92572415519871, 58.349618179534765, 52.927035167670766, 22.7882140754399, 0.4762440016800002, 57.369594184966545, 54.976012172230966, 51.99936216343092, 52.89868615355888, 57.01452517329481, 21.015458069079965, 1.1980180043999993, 57.53623217835067, 59.345966175382834, 54.51264416659069, 53.72610216297476, 50.78023316197486, 20.07892406731202, 0.3529120018080001, 53.402338182790785, 50.28059216932673, 47.92490816319081, 47.971996155806934, 49.617606162110974, 14.980708053408119, 37.95239212775948, 46.39628015101501, 52.608904175134796, 50.519490165910824, 86.56932229060786, 18.908422066656016, 0.39893000128800027, 46.325566148159055, 50.90588615871904, 59.052716185246666, 55.66492716087893, 58.92100617196676, 24.627226077911953, 56.91143118648675, 54.375818177638884, 51.982434165886765, 48.7121701591909, 51.66224016552696, 21.698470080792017, 0.231702, 55.481590186518645, 55.40753017977479, 52.72639817423863, 53.723398175414815, 54.59483017466299, 22.821846080471982, 59.49179220770272, 56.314799182398744, 55.368390182406756, 56.119832185438675, 56.788546189054735, 23.576612084927905, 58.91300619208672, 60.66921420249473, 32.949162097847406, 55.427236185478776, 55.82145419097483, 14.121048709582116, 0.133074, 57.65309086187867, 54.98983817774273, 54.37454617154271, 51.037600164166875, 49.358818157279025, 21.826724075063943, 0.5094480011520001, 58.99767419827045, 61.1671741949268, 55.6203521851667, 54.72822617671075, 59.241254195046665, 25.37693009054391, 0.20769200064000004, 55.57062218856684, 60.890444202478626, 61.99092422119065, 63.67090423031819, 68.70074425738221, 28.582094116176016, 65.26060426450965, 63.756164258958066, 87.202074245951, 51.04809220147093, 46.907140187087066, 17.1674867378281, 0.4795520013360003, 42.62188016714719, 40.66880815255127, 42.384536157071025, 41.42927415547134, 49.33113218267898, 18.115758073464104, 55.08274820404688, 54.57145019503077, 54.649562215606906, 39.037426132103256, 34.68134011455961, 16.38891806239212, 0.14124, 39.8853439111512, 48.31408393750307, 51.7473417260429, 51.537219060759085, 56.25079419498283, 25.3494814369439, 1.1712240026399994, 58.137565869975106, 14.641360380528088, 34.87087809802352, 64.48982330242279, 28.502560987695908, 0.9177840036, 60.874566860530635, 69.22150821427071, 63.938730869422336, 59.88775418883864, 33.632298101327436, 19.809745072680023, 54.49903528546287, 57.20539129043077, 53.66852617231084, 53.44424250549502, 51.600091496663, 20.06671507010402, 0.72137800368, 52.0233201675828, 50.04781504381501, 53.93937751540685, 53.00847928493485, 52.42587972591892, 20.971539518648, 0.92270800224, 55.34151218198274, 56.33699384887071, 53.13036250778288, 54.80841718058282, 54.637474179910825, 23.24291408051998, 59.50211241867065, 58.26567307689479, 57.67024208339088, 51.16032638574283, 53.78952884349491, 22.29435508329596, 0.35549400079200016, 54.56611440191082, 59.106044302840694, 56.074908404414714, 56.79552540711884, 56.95491929815089, 24.629427090167965, 0.5834880038400001, 60.88167086542661, 53.550570392463, 58.27484619634286, 58.12272452073476, 60.09965486957468, 20.34454374004809, 62.36537554696672, 63.10590242375061, 58.30025085727068, 59.49382875107085, 61.729730204966856, 23.87485952635992, 70.51990156384672, 70.29883467897477, 67.91407300673441, 69.15390023707077, 72.6135202581109, 27.20056309624793, 3.4962140070240024, 39.565170231439325, 57.941099839078774, 64.6200589600948, 67.84919319203874, 22.001300953599994, 1.1763000045839995, 68.25027263753465, 67.89145874819063, 65.6185597391665, 59.887629837646806, 58.220512954158785, 24.842314522543887, 0.8408900016239997, 61.50304728365463, 62.63947984768671, 59.499799052654595, 59.84772516691083, 57.5855517308307, 20.809875847784035, 2.1550080088079993, 56.52305550976656, 59.251793729342744, 56.60729351045489, 58.78818795776686, 58.10145895286283, 21.216611071991938, 0.252608001336, 62.55999153215846, 34.60083965245554, 57.766168511452754, 59.93171551350476, 60.48827918183882, 23.62745819331193, 0.198216, 63.65795952405479, 64.3415541802307, 60.49672773788675, 61.41900029659873, 59.75220429187063, 24.010267074023933, 0.241632, 60.04764806584648, 62.07317884538278, 56.70375372313489, 58.15617017547466, 59.79934839738274, 20.11731527860007, 0.7906879983120007, 57.973850877735615, 57.98140346944302, 57.507524138528815, 61.131454027279844, 58.58387602867997, 21.99711918878819, 0.26018599941599996, 59.40952013312777, 59.485104469251745, 56.81540502336784, 58.418938019771815, 33.80818117277258, 20.708895852544202, 0.5244919990680001, 56.623060795815924, 61.74707768198407, 54.941386800376065, 61.72012590604795, 61.439527017763794, 22.72256796376821, 0.40377599928, 56.505578911092, 58.76514413180403, 54.15362280209192, 51.18239791660031, 53.45707057715998, 18.966525964404152, 56.278034018563844, 55.13328813137201, 56.88533980070799, 58.36059502470801, 59.55164245948, 13.22278798083604, 61.729506455031704, 57.569858576751884, 59.239929906187925, 55.66849824623582, 57.84068401704399, 18.54990596699211, 54.31733735457197, 54.84017268796494, 52.38793790933003, 52.54461346763111, 55.409340797858896, 18.62579796784811, 60.69961823900369, 58.76458957565184, 59.16338890815555, 55.2530630282961, 57.57335324217592, 20.82888096436814, 0.591463998564, 58.01301657901949, 57.54469457820775, 55.86856246681197, 55.636459690559896, 57.044475244507616, 16.116693970656048, 0.20724999964799995, 57.45353235113577, 60.110959127923785, 57.102606129352665, 54.655644130951835, 55.02394812665987, 23.494352737500257, 0.123386000016, 58.015198569875686, 61.59710445575187, 34.200915613824606, 56.34237980226372, 59.94770846031587, 23.54256485155623, 0.306126, 61.03858268345564, 66.55168445729952, 61.528494131191515, 60.50109613025157, 59.35889901866774, 21.751436407928253, 0.120774, 63.51354968170332, 59.56837802308371, 54.58375480584358, 56.49138869191582, 59.519311133087605, 21.496602410336234, 61.692559241583595, 62.4398113531595, 60.29309435615161, 62.30820246061537, 65.93439412095819, 19.10100785676419, 0.092448, 68.28445178744309, 67.40826023139552, 61.933971572014215, 64.87271912048331, 63.63717379180057, 20.06847329787623, 0.542606000112, 68.44289033820723, 68.32029278995154, 65.62065501195107, 64.16738501257535, 65.21647767621954, 22.649443961408284, 0.6733399993560002, 68.4155757818795, 64.36801934328767, 63.52453756501741, 62.60013312314731, 63.86112923281159, 24.532647291804278, 0.23752799965199992, 68.38351600552726, 71.00396845163145, 64.34025767746716, 64.64539545527137, 66.82766478621934, 22.923141294192238, 0.7789059993360001, 74.69769287910835, 74.77849043419621, 73.59011744167191, 71.87787100124353, 76.9247703255243, 27.664177841416343, 0.21892799974799995, 76.57562643602014, 73.22811866533608, 69.9163452287434, 69.37159722652743, 69.46112511474344, 30.09090305741448, 0.07038200001600001, 77.70704209442441, 74.00357310349608, 72.60693544003573, 73.13738177195204, 76.08730432541816, 27.25750728514035, 3.122139994236, 70.74412644049941, 71.79452132777968, 67.82677688128352, 64.87631310990317, 65.30109143658329, 24.708133614372294, 69.68881053674347, 67.74320176403117, 64.32213265684324, 66.63561809894706, 67.3643259927235, 25.113185730516328, 1.420387998312, 65.59936822420293, 65.87622411773116, 60.93935500471535, 64.98869166613939, 61.922587113243424, 27.110439947096435, 59.52068900093175, 57.952748124915594, 50.116000245609136, 44.91861625029921, 39.540923028136405, 19.681386951240142, 61.83735983438404, 60.18097296477225, 61.70962107371869, 67.70397885181154, 61.97989175243138, 29.845772947236476, 1.5303959971200003, 71.83594097951165, 78.23315263212145, 71.65418497253546, 73.87960129014317, 69.9877750819037, 31.684174926332492, 0.22935399961199995, 86.91687038337352, 89.07739372846851, 87.2285277250585, 71.40321964455178, 83.3768372954687, 38.374521916536374, 90.52590106109396, 88.00844751245144, 87.9329108522577, 86.29127175253241, 76.46359286546434, 38.86873480517219, 0.6755439978720003, 99.89001460503437, 103.91180844206522, 95.64575372265357, 103.4969313868266, 102.39917082121445, 36.93636502652033, 0.103338, 81.09414139320229, 67.383553984795, 63.240814441077944, 64.23961800183106, 67.99862900289097, 27.83136538701237, 0.49409599882800026, 74.63290988845134, 87.72281643376111, 73.63796111909093, 72.80820067648716, 72.57444012168327, 33.15208605410436, 68.17105200579502, 74.96601655602574, 71.3340561139234, 70.75170688453139, 70.53532766448961, 35.461552706456345, 0.6351119985000001, 87.03568018928296, 85.18784197705078, 86.22934808760506, 91.442443182237, 94.66452350886193, 39.219629707321296, 0.4182879991080001, 2.1890039972519992, 75.08482655505607, 84.19974865328895, 89.46472070126131, 87.7107886406212, 47.6499359148041, 1.1820919981200007, 98.78308651719846, 95.3296354019981, 87.91214802776912, 93.4598261766615, 82.48001508806492, 43.791531251858196, 0.30677599918799997, 92.57375917893991, 87.80160252796085, 84.25680724875707, 86.14606591414126, 88.98493574222964, 33.07151127234252, 0.724767998484, 95.38860828271828, 98.71188961200218, 90.29202662652561, 88.16906352027159, 87.12394330337175, 48.21669202087032, 0.9733379991960003, 74.7992320984522, 99.42360216863631, 92.6229440141047, 90.31953218365072, 92.40052061925815, 44.253343143148186, 1.2662519967600003, 100.36798383935823, 100.15913896365386, 104.59663055621021, 104.8033865010711, 101.44520361151437, 52.030505242040185, 1.5961699968600005, 95.70896256846208, 99.52454294712659, 100.06874583864804, 97.66436117617816, 94.84305317930206, 42.317768919744346, 0.550053999732, 94.42983751196418, 98.44670216952889, 93.44022806281772, 94.3179177287222, 96.86225516250819, 42.740440584324155, 1.4938359958560004, 92.92370739558214, 97.5816676159009, 96.70356638908014, 106.99173370375081, 110.04216413688525, 52.91494479376205, 2.0945999945640006, 124.44300438953535, 137.8994109728474, 115.82071746138378, 0.81584599848, 2.2698199982199987, 7.80577398705597, 0.39333999916800005, 123.27080946604075, 127.81959134169179, 114.61602470183912, 143.32656797877726, 109.64591149050715, 49.60676157613208, 0.42005599867200005, 101.45800172479319, 106.58418983070693, 104.3135817252656, 107.88770772669521, 107.62826511618094, 49.3113285823721, 1.620965997204, 113.44497694007286, 126.87787820761974, 111.08386317495886, 97.03034308359422, 107.05768361948304, 45.5400993719842, 0.4369599996120001, 120.43909542325355, 108.25787294254924, 102.13843528263094, 104.33494950665474, 100.91618983386545, 39.241187375242326, 1.18113199848, 102.28877027782106, 101.38404650573905, 100.8092380626777, 107.60979349689049, 103.8266442807451, 46.38890435727211, 1.6833579981479998, 99.27655550060263, 95.162311177346, 106.19325537686655, 97.98737428778642, 100.89089172964218, 47.17813553121615, 0.4544839985760001, 106.99235661212326, 107.73844939447082, 101.91465618095764, 111.40092150038083, 92.96256685281392, 42.7683000301642, 0.24915, 96.91965806468671, 105.4663403992212, 104.40138707291561, 103.4368016330596, 98.09438063381855, 56.59240313023614, 0.5293659989999999, 110.5335985052709, 107.79737140272339, 103.35409852037651, 102.04691908170942, 103.75560207270762, 46.84814770089193, 0.9603039980160002, 108.27783828528989, 104.8193845144823, 95.65620797206842, 98.13998674187161, 97.16827329900065, 54.39923024412398, 95.98483221822099, 98.62592276833146, 97.87299748527711, 96.49641665875627, 102.155495887275, 60.706528471849126, 0.133374, 97.46194584356266, 100.54321017322728, 96.76868374079271, 99.08379779245325, 102.53073084099327, 45.94411281335205, 1.7213019975839994, 104.12807111630326, 105.93875306142364, 101.08823811859398, 83.60265609273921, 95.12422429452593, 42.63412398362614, 1.6183079980559998, 96.86852917571609, 94.76085662313186, 94.0588317880769, 93.27729763026487, 93.88542735124355, 45.59871391981205, 0.048822, 95.34186685082685, 102.70310744380976, 91.22800129895127, 94.94078796106548, 93.97147074183313, 43.93688747911623, 1.4225199967919997, 101.004190395799, 98.7869951221309, 91.56542308510613, 90.60114641741518, 91.97249903401931, 43.661618150734114, 1.4494339967940002, 91.6799794159509, 96.7551845190946, 92.44951618604003, 94.53994740357827, 91.64394063206778, 43.0277424786932, 0.7342359984000002, 93.55630851718273, 89.90252507173675, 87.31303474040884, 84.5875420771853, 87.84621074083772, 42.86229158998225, 0.7359529989840006, 93.84746039700947, 92.85185651495078, 87.51653535637594]}, {\"mode\": \"markers\", \"name\": \"Time Serie\", \"type\": \"scatter\", \"x\": [\"2016-01-02\", \"2016-01-03\", \"2016-03-17\", \"2016-03-18\", \"2016-03-19\", \"2016-03-20\", \"2016-03-21\", \"2016-03-22\", \"2016-03-23\", \"2016-03-24\", \"2016-03-25\", \"2016-03-26\", \"2016-03-27\", \"2016-03-28\", \"2016-03-29\", \"2016-03-30\", \"2016-03-31\", \"2016-04-01\", \"2016-04-02\", \"2016-04-03\", \"2016-07-09\", \"2016-07-10\", \"2016-07-11\", \"2016-07-12\", \"2016-07-13\", \"2016-07-14\", \"2016-07-15\", \"2016-07-16\", \"2016-07-17\", \"2016-07-18\", \"2016-07-19\", \"2016-07-20\", \"2016-07-21\", \"2016-07-22\", \"2016-07-23\", \"2016-07-24\", \"2016-07-25\", \"2016-07-26\", \"2016-07-27\", \"2016-07-28\", \"2016-07-30\", \"2016-07-31\", \"2016-08-01\", \"2016-08-02\", \"2016-08-03\", \"2016-08-04\", \"2016-08-06\", \"2016-08-07\", \"2016-08-08\", \"2016-08-09\", \"2016-08-10\", \"2016-08-11\", \"2016-08-13\", \"2016-08-14\", \"2016-08-15\", \"2016-08-16\", \"2016-08-17\", \"2016-08-18\", \"2016-08-19\", \"2016-08-20\", \"2016-08-21\", \"2016-08-22\", \"2016-08-23\", \"2016-08-24\", \"2016-08-25\", \"2016-08-26\", \"2016-08-27\", \"2016-08-28\", \"2016-08-29\", \"2016-08-30\", \"2016-08-31\", \"2016-09-01\", \"2016-09-03\", \"2016-10-27\", \"2016-10-28\", \"2016-10-29\", \"2016-10-30\", \"2016-10-31\", \"2016-11-01\", \"2016-11-02\", \"2016-12-22\", \"2016-12-23\", \"2016-12-24\", \"2016-12-25\", \"2016-12-26\", \"2016-12-27\", \"2016-12-28\", \"2016-12-29\", \"2016-12-30\", \"2016-12-31\", \"2017-01-01\", \"2017-01-02\", \"2017-03-16\", \"2017-03-17\", \"2017-03-18\", \"2017-03-19\", \"2017-03-20\", \"2017-03-21\", \"2017-03-22\", \"2017-03-23\", \"2017-03-25\", \"2017-03-26\", \"2017-03-27\", \"2017-03-28\", \"2017-03-29\", \"2017-03-30\", \"2017-03-31\", \"2017-04-01\", \"2017-04-02\", \"2017-07-06\", \"2017-07-08\", \"2017-07-09\", \"2017-07-10\", \"2017-07-11\", \"2017-07-12\", \"2017-07-13\", \"2017-07-14\", \"2017-07-15\", \"2017-07-16\", \"2017-07-17\", \"2017-07-18\", \"2017-07-19\", \"2017-07-20\", \"2017-07-21\", \"2017-07-22\", \"2017-07-23\", \"2017-07-24\", \"2017-07-25\", \"2017-07-26\", \"2017-07-27\", \"2017-07-29\", \"2017-07-30\", \"2017-07-31\", \"2017-08-01\", \"2017-08-02\", \"2017-08-03\", \"2017-08-04\", \"2017-08-05\", \"2017-08-06\", \"2017-08-07\", \"2017-08-08\", \"2017-08-09\", \"2017-08-10\", \"2017-08-11\", \"2017-08-12\", \"2017-08-13\", \"2017-08-14\", \"2017-08-15\", \"2017-08-16\", \"2017-08-17\", \"2017-08-19\", \"2017-08-20\", \"2017-08-21\", \"2017-08-22\", \"2017-08-23\", \"2017-08-24\", \"2017-08-26\", \"2017-08-27\", \"2017-08-28\", \"2017-08-29\", \"2017-08-30\", \"2017-08-31\", \"2017-09-02\", \"2017-09-03\", \"2017-09-04\", \"2017-09-05\", \"2017-09-06\", \"2017-10-31\", \"2017-11-01\", \"2017-11-02\", \"2017-11-03\", \"2017-11-04\", \"2017-11-05\", \"2017-12-21\", \"2017-12-22\", \"2017-12-23\", \"2017-12-24\", \"2017-12-25\", \"2017-12-26\", \"2017-12-27\", \"2017-12-28\", \"2017-12-29\", \"2017-12-30\", \"2017-12-31\", \"2018-01-01\", \"2018-01-02\", \"2018-01-03\", \"2018-01-04\", \"2018-01-05\", \"2018-01-06\", \"2018-01-07\", \"2018-03-15\", \"2018-03-16\", \"2018-03-17\", \"2018-03-18\", \"2018-03-19\", \"2018-03-20\", \"2018-03-21\", \"2018-03-22\", \"2018-03-24\", \"2018-03-25\", \"2018-03-26\", \"2018-03-27\", \"2018-03-28\", \"2018-03-29\", \"2018-03-30\", \"2018-03-31\", \"2018-04-01\", \"2018-07-04\", \"2018-07-05\", \"2018-07-06\", \"2018-07-07\", \"2018-07-08\", \"2018-07-09\", \"2018-07-10\", \"2018-07-11\", \"2018-07-12\", \"2018-07-13\", \"2018-07-14\", \"2018-07-15\", \"2018-07-16\", \"2018-07-17\", \"2018-07-18\", \"2018-07-19\", \"2018-07-20\", \"2018-07-21\", \"2018-07-22\", \"2018-07-23\", \"2018-07-24\", \"2018-07-25\", \"2018-07-26\", \"2018-07-27\", \"2018-07-28\", \"2018-07-29\", \"2018-07-30\", \"2018-07-31\", \"2018-08-01\", \"2018-08-02\", \"2018-08-03\", \"2018-08-04\", \"2018-08-05\", \"2018-08-06\", \"2018-08-07\", \"2018-08-08\", \"2018-08-09\", \"2018-08-10\", \"2018-08-11\", \"2018-08-12\", \"2018-08-13\", \"2018-08-14\", \"2018-08-15\", \"2018-08-16\", \"2018-08-17\", \"2018-08-18\", \"2018-08-19\", \"2018-08-20\", \"2018-08-21\", \"2018-08-22\", \"2018-08-23\", \"2018-08-24\", \"2018-08-25\", \"2018-08-26\", \"2018-08-27\", \"2018-08-28\", \"2018-08-29\", \"2018-08-30\", \"2018-08-31\", \"2018-09-01\", \"2018-09-02\", \"2018-09-03\", \"2018-09-04\", \"2018-09-05\", \"2018-10-30\", \"2018-10-31\", \"2018-11-01\", \"2018-11-03\", \"2018-11-04\", \"2018-12-20\", \"2018-12-21\", \"2018-12-22\", \"2018-12-23\", \"2018-12-24\", \"2018-12-25\", \"2018-12-26\", \"2018-12-27\", \"2018-12-28\", \"2018-12-29\", \"2018-12-30\", \"2018-12-31\"], \"y\": [35.272245, 33.375357, 10.147392, 0.53196, 29.673798, 27.579267, 29.449216, 26.212386, 28.145004, 10.429752, 2.66145, 25.550628, 29.090136, 28.066122, 27.153234, 29.522495, 9.0369, 2.187768, 32.387694, 31.572624, 39.638448, 41.009846, 40.697634, 42.262071, 39.457669, 15.004482, 0.3489, 40.434214, 37.90515, 34.230887, 37.423638, 35.996489, 15.541397, 0.117264, 39.621432, 41.150452, 37.750074, 39.49299, 41.040786, 13.81035, 41.261538, 37.372866, 38.307801, 38.501082, 40.915686, 12.832572, 46.101054, 43.996134, 42.469164, 41.758122, 42.414528, 12.04305, 44.759058, 46.649784, 43.322496, 40.32904, 39.330036, 14.545974, 0.3048, 45.75349, 43.495308, 42.059928, 42.242346, 40.523928, 12.546462, 1.299972, 45.401916, 43.26879, 44.964726, 45.505386, 44.536218, 12.7974, 49.381092, 18.811794, 0.262128, 58.213386, 55.151358, 51.189155, 30.587262, 52.084686, 19.343412, 0.161598, 54.599828, 47.859816, 44.62578, 45.17001, 43.673777, 18.602394, 0.352896, 43.353496, 34.647011, 47.848976, 20.07892406731202, 0.3529120018080001, 53.402338182790785, 50.28059216932673, 47.92490816319081, 47.971996155806934, 49.617606162110974, 14.980708053408119, 37.95239212775948, 46.39628015101501, 52.608904175134796, 50.519490165910824, 86.56932229060786, 18.908422066656016, 0.39893000128800027, 46.325566148159055, 50.90588615871904, 19.809745072680023, 54.49903528546287, 57.20539129043077, 53.66852617231084, 53.44424250549502, 51.600091496663, 20.06671507010402, 0.72137800368, 52.0233201675828, 50.04781504381501, 53.93937751540685, 53.00847928493485, 52.42587972591892, 20.971539518648, 0.92270800224, 55.34151218198274, 56.33699384887071, 53.13036250778288, 54.80841718058282, 54.637474179910825, 23.24291408051998, 59.50211241867065, 58.26567307689479, 57.67024208339088, 51.16032638574283, 53.78952884349491, 22.29435508329596, 0.35549400079200016, 54.56611440191082, 59.106044302840694, 56.074908404414714, 56.79552540711884, 56.95491929815089, 24.629427090167965, 0.5834880038400001, 60.88167086542661, 53.550570392463, 58.27484619634286, 58.12272452073476, 60.09965486957468, 20.34454374004809, 62.36537554696672, 63.10590242375061, 58.30025085727068, 59.49382875107085, 61.729730204966856, 23.87485952635992, 70.51990156384672, 70.29883467897477, 67.91407300673441, 69.15390023707077, 72.6135202581109, 27.20056309624793, 3.4962140070240024, 39.565170231439325, 57.941099839078774, 64.6200589600948, 67.84919319203874, 58.418938019771815, 33.80818117277258, 20.708895852544202, 0.5244919990680001, 56.623060795815924, 61.74707768198407, 16.116693970656048, 0.20724999964799995, 57.45353235113577, 60.110959127923785, 57.102606129352665, 54.655644130951835, 55.02394812665987, 23.494352737500257, 0.123386000016, 58.015198569875686, 61.59710445575187, 34.200915613824606, 56.34237980226372, 59.94770846031587, 23.54256485155623, 0.306126, 61.03858268345564, 66.55168445729952, 27.25750728514035, 3.122139994236, 70.74412644049941, 71.79452132777968, 67.82677688128352, 64.87631310990317, 65.30109143658329, 24.708133614372294, 69.68881053674347, 67.74320176403117, 64.32213265684324, 66.63561809894706, 67.3643259927235, 25.113185730516328, 1.420387998312, 65.59936822420293, 65.87622411773116, 88.98493574222964, 33.07151127234252, 0.724767998484, 95.38860828271828, 98.71188961200218, 90.29202662652561, 88.16906352027159, 87.12394330337175, 48.21669202087032, 0.9733379991960003, 74.7992320984522, 99.42360216863631, 92.6229440141047, 90.31953218365072, 92.40052061925815, 44.253343143148186, 1.2662519967600003, 100.36798383935823, 100.15913896365386, 104.59663055621021, 104.8033865010711, 101.44520361151437, 52.030505242040185, 1.5961699968600005, 95.70896256846208, 99.52454294712659, 100.06874583864804, 97.66436117617816, 94.84305317930206, 42.317768919744346, 0.550053999732, 94.42983751196418, 98.44670216952889, 93.44022806281772, 94.3179177287222, 96.86225516250819, 42.740440584324155, 1.4938359958560004, 92.92370739558214, 97.5816676159009, 96.70356638908014, 106.99173370375081, 110.04216413688525, 52.91494479376205, 2.0945999945640006, 124.44300438953535, 137.8994109728474, 115.82071746138378, 0.81584599848, 2.2698199982199987, 7.80577398705597, 0.39333999916800005, 123.27080946604075, 127.81959134169179, 114.61602470183912, 143.32656797877726, 109.64591149050715, 49.60676157613208, 0.42005599867200005, 101.45800172479319, 106.58418983070693, 104.3135817252656, 107.88770772669521, 107.62826511618094, 98.13998674187161, 97.16827329900065, 54.39923024412398, 95.98483221822099, 98.62592276833146, 43.0277424786932, 0.7342359984000002, 93.55630851718273, 89.90252507173675, 87.31303474040884, 84.5875420771853, 87.84621074083772, 42.86229158998225, 0.7359529989840006, 93.84746039700947, 92.85185651495078, 87.51653535637594]}],\n",
       "                        {\"template\": {\"data\": {\"bar\": [{\"error_x\": {\"color\": \"#2a3f5f\"}, \"error_y\": {\"color\": \"#2a3f5f\"}, \"marker\": {\"line\": {\"color\": \"#E5ECF6\", \"width\": 0.5}}, \"type\": \"bar\"}], \"barpolar\": [{\"marker\": {\"line\": {\"color\": \"#E5ECF6\", \"width\": 0.5}}, \"type\": \"barpolar\"}], \"carpet\": [{\"aaxis\": {\"endlinecolor\": \"#2a3f5f\", \"gridcolor\": \"white\", \"linecolor\": \"white\", \"minorgridcolor\": \"white\", \"startlinecolor\": \"#2a3f5f\"}, \"baxis\": {\"endlinecolor\": \"#2a3f5f\", \"gridcolor\": \"white\", \"linecolor\": \"white\", \"minorgridcolor\": \"white\", \"startlinecolor\": \"#2a3f5f\"}, \"type\": \"carpet\"}], \"choropleth\": [{\"colorbar\": {\"outlinewidth\": 0, \"ticks\": \"\"}, \"type\": \"choropleth\"}], \"contour\": [{\"colorbar\": {\"outlinewidth\": 0, \"ticks\": \"\"}, \"colorscale\": [[0.0, \"#0d0887\"], [0.1111111111111111, \"#46039f\"], [0.2222222222222222, \"#7201a8\"], [0.3333333333333333, \"#9c179e\"], [0.4444444444444444, \"#bd3786\"], [0.5555555555555556, \"#d8576b\"], [0.6666666666666666, \"#ed7953\"], [0.7777777777777778, \"#fb9f3a\"], [0.8888888888888888, \"#fdca26\"], [1.0, \"#f0f921\"]], \"type\": \"contour\"}], \"contourcarpet\": [{\"colorbar\": {\"outlinewidth\": 0, \"ticks\": \"\"}, \"type\": \"contourcarpet\"}], \"heatmap\": [{\"colorbar\": {\"outlinewidth\": 0, \"ticks\": \"\"}, \"colorscale\": [[0.0, \"#0d0887\"], [0.1111111111111111, \"#46039f\"], [0.2222222222222222, \"#7201a8\"], [0.3333333333333333, \"#9c179e\"], [0.4444444444444444, \"#bd3786\"], [0.5555555555555556, \"#d8576b\"], [0.6666666666666666, \"#ed7953\"], [0.7777777777777778, \"#fb9f3a\"], [0.8888888888888888, \"#fdca26\"], [1.0, \"#f0f921\"]], \"type\": \"heatmap\"}], \"heatmapgl\": [{\"colorbar\": {\"outlinewidth\": 0, \"ticks\": \"\"}, \"colorscale\": [[0.0, \"#0d0887\"], [0.1111111111111111, \"#46039f\"], [0.2222222222222222, \"#7201a8\"], [0.3333333333333333, \"#9c179e\"], [0.4444444444444444, \"#bd3786\"], [0.5555555555555556, \"#d8576b\"], [0.6666666666666666, \"#ed7953\"], [0.7777777777777778, \"#fb9f3a\"], [0.8888888888888888, \"#fdca26\"], [1.0, \"#f0f921\"]], \"type\": \"heatmapgl\"}], \"histogram\": [{\"marker\": {\"colorbar\": {\"outlinewidth\": 0, \"ticks\": \"\"}}, \"type\": \"histogram\"}], \"histogram2d\": [{\"colorbar\": {\"outlinewidth\": 0, \"ticks\": \"\"}, \"colorscale\": [[0.0, \"#0d0887\"], [0.1111111111111111, \"#46039f\"], [0.2222222222222222, \"#7201a8\"], [0.3333333333333333, \"#9c179e\"], [0.4444444444444444, \"#bd3786\"], [0.5555555555555556, \"#d8576b\"], [0.6666666666666666, \"#ed7953\"], [0.7777777777777778, \"#fb9f3a\"], [0.8888888888888888, \"#fdca26\"], [1.0, \"#f0f921\"]], \"type\": \"histogram2d\"}], \"histogram2dcontour\": [{\"colorbar\": {\"outlinewidth\": 0, \"ticks\": \"\"}, \"colorscale\": [[0.0, \"#0d0887\"], [0.1111111111111111, \"#46039f\"], [0.2222222222222222, \"#7201a8\"], [0.3333333333333333, \"#9c179e\"], [0.4444444444444444, \"#bd3786\"], [0.5555555555555556, \"#d8576b\"], [0.6666666666666666, \"#ed7953\"], [0.7777777777777778, \"#fb9f3a\"], [0.8888888888888888, \"#fdca26\"], [1.0, \"#f0f921\"]], \"type\": \"histogram2dcontour\"}], \"mesh3d\": [{\"colorbar\": {\"outlinewidth\": 0, \"ticks\": \"\"}, \"type\": \"mesh3d\"}], \"parcoords\": [{\"line\": {\"colorbar\": {\"outlinewidth\": 0, \"ticks\": \"\"}}, \"type\": \"parcoords\"}], \"pie\": [{\"automargin\": true, \"type\": \"pie\"}], \"scatter\": [{\"marker\": {\"colorbar\": {\"outlinewidth\": 0, \"ticks\": \"\"}}, \"type\": \"scatter\"}], \"scatter3d\": [{\"line\": {\"colorbar\": {\"outlinewidth\": 0, \"ticks\": \"\"}}, \"marker\": {\"colorbar\": {\"outlinewidth\": 0, \"ticks\": \"\"}}, \"type\": \"scatter3d\"}], \"scattercarpet\": [{\"marker\": {\"colorbar\": {\"outlinewidth\": 0, \"ticks\": \"\"}}, \"type\": \"scattercarpet\"}], \"scattergeo\": [{\"marker\": {\"colorbar\": {\"outlinewidth\": 0, \"ticks\": \"\"}}, \"type\": \"scattergeo\"}], \"scattergl\": [{\"marker\": {\"colorbar\": {\"outlinewidth\": 0, \"ticks\": \"\"}}, \"type\": \"scattergl\"}], \"scattermapbox\": [{\"marker\": {\"colorbar\": {\"outlinewidth\": 0, \"ticks\": \"\"}}, \"type\": \"scattermapbox\"}], \"scatterpolar\": [{\"marker\": {\"colorbar\": {\"outlinewidth\": 0, \"ticks\": \"\"}}, \"type\": \"scatterpolar\"}], \"scatterpolargl\": [{\"marker\": {\"colorbar\": {\"outlinewidth\": 0, \"ticks\": \"\"}}, \"type\": \"scatterpolargl\"}], \"scatterternary\": [{\"marker\": {\"colorbar\": {\"outlinewidth\": 0, \"ticks\": \"\"}}, \"type\": \"scatterternary\"}], \"surface\": [{\"colorbar\": {\"outlinewidth\": 0, \"ticks\": \"\"}, \"colorscale\": [[0.0, \"#0d0887\"], [0.1111111111111111, \"#46039f\"], [0.2222222222222222, \"#7201a8\"], [0.3333333333333333, \"#9c179e\"], [0.4444444444444444, \"#bd3786\"], [0.5555555555555556, \"#d8576b\"], [0.6666666666666666, \"#ed7953\"], [0.7777777777777778, \"#fb9f3a\"], [0.8888888888888888, \"#fdca26\"], [1.0, \"#f0f921\"]], \"type\": \"surface\"}], \"table\": [{\"cells\": {\"fill\": {\"color\": \"#EBF0F8\"}, \"line\": {\"color\": \"white\"}}, \"header\": {\"fill\": {\"color\": \"#C8D4E3\"}, \"line\": {\"color\": \"white\"}}, \"type\": \"table\"}]}, \"layout\": {\"annotationdefaults\": {\"arrowcolor\": \"#2a3f5f\", \"arrowhead\": 0, \"arrowwidth\": 1}, \"coloraxis\": {\"colorbar\": {\"outlinewidth\": 0, \"ticks\": \"\"}}, \"colorscale\": {\"diverging\": [[0, \"#8e0152\"], [0.1, \"#c51b7d\"], [0.2, \"#de77ae\"], [0.3, \"#f1b6da\"], [0.4, \"#fde0ef\"], [0.5, \"#f7f7f7\"], [0.6, \"#e6f5d0\"], [0.7, \"#b8e186\"], [0.8, \"#7fbc41\"], [0.9, \"#4d9221\"], [1, \"#276419\"]], \"sequential\": [[0.0, \"#0d0887\"], [0.1111111111111111, \"#46039f\"], [0.2222222222222222, \"#7201a8\"], [0.3333333333333333, \"#9c179e\"], [0.4444444444444444, \"#bd3786\"], [0.5555555555555556, \"#d8576b\"], [0.6666666666666666, \"#ed7953\"], [0.7777777777777778, \"#fb9f3a\"], [0.8888888888888888, \"#fdca26\"], [1.0, \"#f0f921\"]], \"sequentialminus\": [[0.0, \"#0d0887\"], [0.1111111111111111, \"#46039f\"], [0.2222222222222222, \"#7201a8\"], [0.3333333333333333, \"#9c179e\"], [0.4444444444444444, \"#bd3786\"], [0.5555555555555556, \"#d8576b\"], [0.6666666666666666, \"#ed7953\"], [0.7777777777777778, \"#fb9f3a\"], [0.8888888888888888, \"#fdca26\"], [1.0, \"#f0f921\"]]}, \"colorway\": [\"#636efa\", \"#EF553B\", \"#00cc96\", \"#ab63fa\", \"#FFA15A\", \"#19d3f3\", \"#FF6692\", \"#B6E880\", \"#FF97FF\", \"#FECB52\"], \"font\": {\"color\": \"#2a3f5f\"}, \"geo\": {\"bgcolor\": \"white\", \"lakecolor\": \"white\", \"landcolor\": \"#E5ECF6\", \"showlakes\": true, \"showland\": true, \"subunitcolor\": \"white\"}, \"hoverlabel\": {\"align\": \"left\"}, \"hovermode\": \"closest\", \"mapbox\": {\"style\": \"light\"}, \"paper_bgcolor\": \"white\", \"plot_bgcolor\": \"#E5ECF6\", \"polar\": {\"angularaxis\": {\"gridcolor\": \"white\", \"linecolor\": \"white\", \"ticks\": \"\"}, \"bgcolor\": \"#E5ECF6\", \"radialaxis\": {\"gridcolor\": \"white\", \"linecolor\": \"white\", \"ticks\": \"\"}}, \"scene\": {\"xaxis\": {\"backgroundcolor\": \"#E5ECF6\", \"gridcolor\": \"white\", \"gridwidth\": 2, \"linecolor\": \"white\", \"showbackground\": true, \"ticks\": \"\", \"zerolinecolor\": \"white\"}, \"yaxis\": {\"backgroundcolor\": \"#E5ECF6\", \"gridcolor\": \"white\", \"gridwidth\": 2, \"linecolor\": \"white\", \"showbackground\": true, \"ticks\": \"\", \"zerolinecolor\": \"white\"}, \"zaxis\": {\"backgroundcolor\": \"#E5ECF6\", \"gridcolor\": \"white\", \"gridwidth\": 2, \"linecolor\": \"white\", \"showbackground\": true, \"ticks\": \"\", \"zerolinecolor\": \"white\"}}, \"shapedefaults\": {\"line\": {\"color\": \"#2a3f5f\"}}, \"ternary\": {\"aaxis\": {\"gridcolor\": \"white\", \"linecolor\": \"white\", \"ticks\": \"\"}, \"baxis\": {\"gridcolor\": \"white\", \"linecolor\": \"white\", \"ticks\": \"\"}, \"bgcolor\": \"#E5ECF6\", \"caxis\": {\"gridcolor\": \"white\", \"linecolor\": \"white\", \"ticks\": \"\"}}, \"title\": {\"x\": 0.05}, \"xaxis\": {\"automargin\": true, \"gridcolor\": \"white\", \"linecolor\": \"white\", \"ticks\": \"\", \"title\": {\"standoff\": 15}, \"zerolinecolor\": \"white\", \"zerolinewidth\": 2}, \"yaxis\": {\"automargin\": true, \"gridcolor\": \"white\", \"linecolor\": \"white\", \"ticks\": \"\", \"title\": {\"standoff\": 15}, \"zerolinecolor\": \"white\", \"zerolinewidth\": 2}}}, \"title\": {\"text\": \"Holidays behaviour\"}},\n",
       "                        {\"responsive\": true}\n",
       "                    ).then(function(){\n",
       "                            \n",
       "var gd = document.getElementById('240c6b9b-ab70-43e2-8ab1-038ade9f35a4');\n",
       "var x = new MutationObserver(function (mutations, observer) {{\n",
       "        var display = window.getComputedStyle(gd).display;\n",
       "        if (!display || display === 'none') {{\n",
       "            console.log([gd, 'removed!']);\n",
       "            Plotly.purge(gd);\n",
       "            observer.disconnect();\n",
       "        }}\n",
       "}});\n",
       "\n",
       "// Listen for the removal of the full notebook cells\n",
       "var notebookContainer = gd.closest('#notebook-container');\n",
       "if (notebookContainer) {{\n",
       "    x.observe(notebookContainer, {childList: true});\n",
       "}}\n",
       "\n",
       "// Listen for the clearing of the current output cell\n",
       "var outputEl = gd.closest('.output');\n",
       "if (outputEl) {{\n",
       "    x.observe(outputEl, {childList: true});\n",
       "}}\n",
       "\n",
       "                        })\n",
       "                };\n",
       "                });\n",
       "            </script>\n",
       "        </div>"
      ]
     },
     "metadata": {},
     "output_type": "display_data"
    }
   ],
   "source": [
    "y=myData3[[\"GREGORIAN_DATE\",\"PRODUCTPAGE_CODE\",\"ISLAM_EVENT\",\"SCOLAR_HOLIDAY\",\"HOLIDAY\",\"TURNOVER\"]]\n",
    "\n",
    "y=y.groupby(\"GREGORIAN_DATE\")[\"TURNOVER\"].sum()/1000000\n",
    "x=y.index\n",
    "data=[go.Scatter(\n",
    "            x =x,\n",
    "            y = y,\n",
    "            mode=\"lines\",\n",
    "            name=f\"Time Serie\",),\n",
    "     go.Scatter(\n",
    "            x =x_scolar,\n",
    "            y = y_scolar,\n",
    "            mode=\"markers\",\n",
    "            name=f\"Time Serie\",),]\n",
    "layout = go.Layout(title=\"Holidays behaviour\")\n",
    "fig = go.Figure(data=data,layout=layout)\n",
    "pyo.iplot(fig)"
   ]
  },
  {
   "cell_type": "code",
   "execution_count": 64,
   "metadata": {},
   "outputs": [],
   "source": [
    "myData3.loc[myData3[\"PRODUCTPAGE_CODE\"].str.lower().str.match('laits aromatisã\\x83â©s'),\"PRODUCTPAGE_CODE\"]='laits aromatisés'"
   ]
  },
  {
   "cell_type": "code",
   "execution_count": 65,
   "metadata": {},
   "outputs": [
    {
     "data": {
      "text/plain": [
       "{'laits blancs': ['entier',\n",
       "  'de 1l',\n",
       "  'viva',\n",
       "  'de 50cl',\n",
       "  'silhouette',\n",
       "  'de 1l sans lactose',\n",
       "  'de 50cl'],\n",
       " 'laits aromatisés': ['choco 20cl',\n",
       "  'choco 125 ml',\n",
       "  'fraise 125 ml',\n",
       "  'candy caramel 125 ml',\n",
       "  'choco 1l',\n",
       "  'fraise 20cl',\n",
       "  'banane 125 ml',\n",
       "  'r16054'],\n",
       " 'laits & jus': ['twist o-a 20cl',\n",
       "  'twist o-f-b 20cl',\n",
       "  'twist o-f-b 1l',\n",
       "  'twist o-a 1l',\n",
       "  'twist o-m 20cl',\n",
       "  'twist p-a 20cl',\n",
       "  'twist o-m 1l',\n",
       "  'twist p-a 1l',\n",
       "  'twist o-f-b 125ml',\n",
       "  'twist o-a 125ml'],\n",
       " 'boissons': ['cocktail 1l',\n",
       "  'orange 1l',\n",
       "  'citronnade',\n",
       "  'nectar de grenade',\n",
       "  'cocktail 20cl',\n",
       "  'orange 20cl'],\n",
       " 'le maitre cuisinier': ['preparation culinaire'],\n",
       " 'le maitre glacier': ['ice cream - vanille',\n",
       "  'ice cream - chocolat',\n",
       "  'ice cream - fraise'],\n",
       " 'poudre etui': ['etui 500g']}"
      ]
     },
     "execution_count": 65,
     "metadata": {},
     "output_type": "execute_result"
    }
   ],
   "source": [
    "productGamme = myData3[[\"PRODUCT_NAME\",\"PRODUCTPAGE_CODE\"]].drop_duplicates()\n",
    "productDict = { gamme.lower() : [product.lower() for product in productGamme[productGamme[\"PRODUCTPAGE_CODE\"]==gamme][\"PRODUCT_NAME\"]] for gamme in productGamme[\"PRODUCTPAGE_CODE\"].drop_duplicates().tolist()}\n",
    "productDict"
   ]
  },
  {
   "cell_type": "code",
   "execution_count": 67,
   "metadata": {},
   "outputs": [
    {
     "data": {
      "application/vnd.jupyter.widget-view+json": {
       "model_id": "cb50bbcbc4354793976ee650e9ea396e",
       "version_major": 2,
       "version_minor": 0
      },
      "text/plain": [
       "interactive(children=(Select(description='Gamme de produit', options=('tous', 'laits blancs', 'laits aromatisé…"
      ]
     },
     "metadata": {},
     "output_type": "display_data"
    }
   ],
   "source": [
    "productGamme = widgets.Select(\n",
    "    options=['tous']+list(productDict.keys()),\n",
    "    value='tous',\n",
    "    rows=4,\n",
    "    description='Gamme de produit',\n",
    "    disabled=False\n",
    ")\n",
    "\n",
    "def Events(product):\n",
    "    \n",
    "    y=myData3[[\"GREGORIAN_DATE\",\"PRODUCTPAGE_CODE\",\"ISLAM_EVENT\",\"SCOLAR_HOLIDAY\",\"HOLIDAY\",\"TURNOVER\"]]\n",
    "    if product != 'tous':\n",
    "        y=y[y[\"PRODUCTPAGE_CODE\"].str.lower().str.match(product)]\n",
    "    \n",
    "    y_islam=y[y[\"ISLAM_EVENT\"]!=\"None\"].groupby(\"GREGORIAN_DATE\")[\"TURNOVER\"].sum()/1000000\n",
    "    x_islam=y_islam.index\n",
    "    \n",
    "    y_scolar=y[y[\"SCOLAR_HOLIDAY\"]!=0].groupby(\"GREGORIAN_DATE\")[\"TURNOVER\"].sum()/1000000\n",
    "    x_scolar=y_scolar.index\n",
    "\n",
    "    y_holiday=y[y[\"HOLIDAY\"]!=0].groupby(\"GREGORIAN_DATE\")[\"TURNOVER\"].sum()/1000000\n",
    "    x_holiday=y_holiday.index\n",
    "    \n",
    "    y=y.groupby(\"GREGORIAN_DATE\")[\"TURNOVER\"].sum()/1000000\n",
    "    x=y.index\n",
    "    \n",
    "    data=[go.Scatter(\n",
    "            x = x_islam,\n",
    "            y = y_islam,\n",
    "            mode=\"markers\",\n",
    "            name=f\"Islam events\",),\n",
    "          go.Scatter(\n",
    "            x = x_scolar,\n",
    "            y = y_scolar,\n",
    "            mode=\"markers\",\n",
    "            name=f\"Scolar holidays\",),\n",
    "          go.Scatter(\n",
    "            x = x_holiday,\n",
    "            y = y_holiday,\n",
    "            mode=\"markers\",\n",
    "            name=f\"Holidays\",),\n",
    "          go.Scatter(\n",
    "            x = x,\n",
    "            y = y,\n",
    "            mode=\"lines\",\n",
    "            name=f\"Time Serie\",),]\n",
    "    layout = go.Layout(title=f\"Holidays behaviour - {product}\")\n",
    "    fig = go.Figure(data=data,layout=layout)\n",
    "    pyo.iplot(fig)\n",
    "\n",
    "widgets.interactive(Events,product = productGamme)"
   ]
  },
  {
   "cell_type": "markdown",
   "metadata": {},
   "source": [
    "### Clients par secteur ( pourcentage de clients )"
   ]
  },
  {
   "cell_type": "code",
   "execution_count": 148,
   "metadata": {
    "scrolled": false
   },
   "outputs": [
    {
     "name": "stdout",
     "output_type": "stream",
     "text": [
      "Nombre total de clients est : 480\n",
      "Nombre de clients en 2016 est : 223\n",
      "Nombre de clients en 2017 est : 264\n",
      "Nombre de clients en 2018 est : 467\n"
     ]
    }
   ],
   "source": [
    "print(f\"Nombre total de clients est : {len(myData2['VENDOR'].drop_duplicates().tolist())}\")\n",
    "for annee in (2016,2017,2018):    \n",
    "    data = myData2[myData2[\"GREGORIAN_DATE\"].str.match(str(annee))]['VENDOR'].drop_duplicates().tolist()\n",
    "    print(f\"Nombre de clients en {annee} est : {len(data)}\")"
   ]
  },
  {
   "cell_type": "code",
   "execution_count": 136,
   "metadata": {},
   "outputs": [
    {
     "data": {
      "text/plain": [
       "{'CHLEF': {'EURL ADEMLAIT-CHLEF': {'R0201',\n",
       "   'R0202',\n",
       "   'R0203',\n",
       "   'R0204',\n",
       "   'R0205',\n",
       "   'R0206'}},\n",
       " 'LAGHOUAT': {'DOUIHASNI AYACHE': {'R0301', 'R0302', 'R0303', 'R0304'}},\n",
       " 'OUM EL BOUAGHI': {'BOUCHAKOUR RAFIK': {'R0401',\n",
       "   'R0402',\n",
       "   'R04021',\n",
       "   'R04022',\n",
       "   'R04023',\n",
       "   'R04024',\n",
       "   'R04025',\n",
       "   'R0403',\n",
       "   'R0404',\n",
       "   'R0405'}},\n",
       " 'BATNA': {'BAAZIZI MOHAMED FOUZI': {'R0501',\n",
       "   'R0502',\n",
       "   'R0503',\n",
       "   'R0504',\n",
       "   'R0505',\n",
       "   'R0506',\n",
       "   'R0507',\n",
       "   'R0508',\n",
       "   'R0509',\n",
       "   'R0510',\n",
       "   'R0511',\n",
       "   'R0512'},\n",
       "  'BAAZIZI MOHAMED FOUZI BARIKA': {'R05021',\n",
       "   'R05022',\n",
       "   'R05023',\n",
       "   'R0503',\n",
       "   'R0504',\n",
       "   'R0506',\n",
       "   'R0512'}},\n",
       " 'BEJAIA': {'MD CHERIF HAKIM': {'1',\n",
       "   '15',\n",
       "   '4',\n",
       "   '5',\n",
       "   '6',\n",
       "   '7',\n",
       "   'R06008',\n",
       "   'R06031',\n",
       "   'R06032',\n",
       "   'R06033',\n",
       "   'R06034',\n",
       "   'R06035',\n",
       "   'R06036',\n",
       "   'R06037'},\n",
       "  'FOURAR AHCENE': {'1',\n",
       "   '15',\n",
       "   '3',\n",
       "   '5',\n",
       "   '6',\n",
       "   '7',\n",
       "   'R06008',\n",
       "   'R06041',\n",
       "   'R06042',\n",
       "   'R06043',\n",
       "   'R06044',\n",
       "   'R06045',\n",
       "   'R06046',\n",
       "   'R06047',\n",
       "   'R06048',\n",
       "   'R06049'},\n",
       "  'IBRIR MERZOUK': {'10',\n",
       "   '11',\n",
       "   '12',\n",
       "   '13',\n",
       "   'R06014',\n",
       "   'R06015',\n",
       "   'R06016',\n",
       "   'R06017',\n",
       "   'R06018'}},\n",
       " 'BISKRA': {'EURL GOUBAA DISTRIBUTION': {'R0701',\n",
       "   'R0702',\n",
       "   'R0703',\n",
       "   'R0704',\n",
       "   'R0705',\n",
       "   'R0706',\n",
       "   'R0707',\n",
       "   'R0708',\n",
       "   'R0709',\n",
       "   'R0710',\n",
       "   'R0711'}},\n",
       " 'BECHAR': {'LAAMA MOUSSA': {'R0801', 'R0802'}},\n",
       " 'BLIDA': {'HADDAD ZAHIR': {'0901R',\n",
       "   '0902R',\n",
       "   '0903R',\n",
       "   '0904R',\n",
       "   '0905R',\n",
       "   '0906R',\n",
       "   '0907R',\n",
       "   '0908R',\n",
       "   '0909R',\n",
       "   '0910R',\n",
       "   'R0911'}},\n",
       " 'ALGER': {'MD CHERIF SAMIR': {'0903R',\n",
       "   '0905R',\n",
       "   '0906R',\n",
       "   '0909R',\n",
       "   'P160224',\n",
       "   'P16028',\n",
       "   'R0911',\n",
       "   'R16041',\n",
       "   'R160413',\n",
       "   'R16046',\n",
       "   'R16047',\n",
       "   'R16048',\n",
       "   'R16051',\n",
       "   'R160510',\n",
       "   'R16052',\n",
       "   'R16053',\n",
       "   'R16054',\n",
       "   'R16055',\n",
       "   'R16056',\n",
       "   'R16057',\n",
       "   'R16058',\n",
       "   'R16059'},\n",
       "  'IBRIR SLIMANE': {'R16031',\n",
       "   'R160310',\n",
       "   'R160312',\n",
       "   'R16032',\n",
       "   'R16033',\n",
       "   'R16034',\n",
       "   'R16035',\n",
       "   'R16036',\n",
       "   'R16038',\n",
       "   'R16039',\n",
       "   'R16051',\n",
       "   'TP160311',\n",
       "   'TP16037'},\n",
       "  'IBRIR ABDELHAK': {'R16041',\n",
       "   'R160410',\n",
       "   'R160411',\n",
       "   'R160412',\n",
       "   'R160413',\n",
       "   'R16042',\n",
       "   'R16043',\n",
       "   'R16044',\n",
       "   'R16045',\n",
       "   'R16046',\n",
       "   'R16047',\n",
       "   'R16048',\n",
       "   'R16049',\n",
       "   'R16059'},\n",
       "  'EURL MILK SODA FOOD': {'0901R',\n",
       "   '0904R',\n",
       "   '9',\n",
       "   'P16021',\n",
       "   'P160210',\n",
       "   'P160211',\n",
       "   'P160212',\n",
       "   'P160213',\n",
       "   'P160214',\n",
       "   'P160215',\n",
       "   'P160216',\n",
       "   'P160219',\n",
       "   'P16022',\n",
       "   'P160222',\n",
       "   'P160224',\n",
       "   'P160226',\n",
       "   'P16023',\n",
       "   'P16024',\n",
       "   'P16025',\n",
       "   'P16026',\n",
       "   'P16027',\n",
       "   'P16028',\n",
       "   'P16029',\n",
       "   'R160218',\n",
       "   'R160220',\n",
       "   'R160221',\n",
       "   'R160223',\n",
       "   'R160225',\n",
       "   'TP160217'},\n",
       "  'IBRIR LARBI ALGER': {'0902R',\n",
       "   'P160210',\n",
       "   'P160226',\n",
       "   'P16027',\n",
       "   'R160120',\n",
       "   'R160125',\n",
       "   'R160128',\n",
       "   'R16015',\n",
       "   'R16016',\n",
       "   'R16018',\n",
       "   'R160223',\n",
       "   'R16061',\n",
       "   'R160610',\n",
       "   'R160611',\n",
       "   'R16062',\n",
       "   'R16063',\n",
       "   'R16064',\n",
       "   'R16065',\n",
       "   'R16066',\n",
       "   'R16067',\n",
       "   'R16068',\n",
       "   'R16069',\n",
       "   'TP160126'},\n",
       "  'EURL CANDILAIT': {'8',\n",
       "   '9',\n",
       "   'R16011',\n",
       "   'R160110',\n",
       "   'R160111',\n",
       "   'R160112',\n",
       "   'R160113',\n",
       "   'R160114',\n",
       "   'R160115',\n",
       "   'R160116',\n",
       "   'R160117',\n",
       "   'R160118',\n",
       "   'R160119',\n",
       "   'R16012',\n",
       "   'R160120',\n",
       "   'R160123',\n",
       "   'R160124',\n",
       "   'R160125',\n",
       "   'R160127',\n",
       "   'R160128',\n",
       "   'R160129',\n",
       "   'R16013',\n",
       "   'R160130',\n",
       "   'R160131',\n",
       "   'R160132',\n",
       "   'R16014',\n",
       "   'R16015',\n",
       "   'R16016',\n",
       "   'R16017',\n",
       "   'R16018',\n",
       "   'R16019',\n",
       "   'TP160126'}},\n",
       " 'BOUIRA': {'IBRIR ABDESLAM': {'14',\n",
       "   'R1001',\n",
       "   'R1002',\n",
       "   'R1003',\n",
       "   'R1004',\n",
       "   'R1006',\n",
       "   'R1007',\n",
       "   'R1008',\n",
       "   'TP1005'}},\n",
       " 'TEBESSA': {'EURL NASR ECHARK': {'R12011',\n",
       "   'R12012',\n",
       "   'R12013',\n",
       "   'R12014',\n",
       "   'R12015',\n",
       "   'R12016',\n",
       "   'R12017'}},\n",
       " 'TLEMCEN': {'IBRIRKHELIL': {'R1301',\n",
       "   'R1302',\n",
       "   'R1303',\n",
       "   'R1304',\n",
       "   'R1305',\n",
       "   'R1306',\n",
       "   'R1307 ',\n",
       "   'R1308'}},\n",
       " 'TIARET': {'IBRIR SAMIR': {'R1401', 'R1402', 'R1403', 'R1404'}},\n",
       " 'TIZI OUZOU': {'SARL CANDY DISTRIBUTION': {'R1501',\n",
       "   'R15010',\n",
       "   'R15011',\n",
       "   'R15013',\n",
       "   'R15014',\n",
       "   'R1502',\n",
       "   'R1503',\n",
       "   'R1504',\n",
       "   'R1505',\n",
       "   'R1506',\n",
       "   'R1507',\n",
       "   'R1508',\n",
       "   'R1517'},\n",
       "  'SARL CANDY DISTRIBUTION 2 -TO': {'R15011',\n",
       "   'R15013',\n",
       "   'R1502',\n",
       "   'R1503',\n",
       "   'R1504',\n",
       "   'R1505',\n",
       "   'R1506',\n",
       "   'R1507',\n",
       "   'R1508',\n",
       "   'R1509',\n",
       "   'R1512',\n",
       "   'R1515',\n",
       "   'R1516',\n",
       "   'R1518'}},\n",
       " 'DJELFA': {'BOUZIDI ABDELKRIM': {'R1701', 'R1702', 'R1703', 'R1704'}},\n",
       " 'JIJEL': {'SARL JGOAA': {'R1801',\n",
       "   'R1802',\n",
       "   'R1803',\n",
       "   'R1804',\n",
       "   'R1805',\n",
       "   'R1806',\n",
       "   'R1807',\n",
       "   'R1808'}},\n",
       " 'SETIF': {'EURL CANDY MILK': {'R1901',\n",
       "   'R1905',\n",
       "   'R1906',\n",
       "   'R1907',\n",
       "   'R1909',\n",
       "   'R1912',\n",
       "   'R1913',\n",
       "   'R1914'},\n",
       "  'EURL DELICIOUS MILK': {'R1902',\n",
       "   'R1903',\n",
       "   'R1904',\n",
       "   'R1907',\n",
       "   'R1908',\n",
       "   'R1909',\n",
       "   'R1910',\n",
       "   'R1911'}},\n",
       " 'SAIDA': {'BELHOCINE ABDELLATIF': {'R2001', 'R2002', 'R2003', 'R2903'}},\n",
       " 'SKIKDA': {'HAMAZA LAKHDAR': {'R2101',\n",
       "   'R210110',\n",
       "   'R2102',\n",
       "   'R2103',\n",
       "   'R2104',\n",
       "   'R2105',\n",
       "   'R2106',\n",
       "   'R2107',\n",
       "   'R2108',\n",
       "   'R2109'},\n",
       "  'FOURAR ALI': {'R2102',\n",
       "   'R21021',\n",
       "   'R21022',\n",
       "   'R21023',\n",
       "   'R21024',\n",
       "   'R2104',\n",
       "   'R2108'}},\n",
       " 'SIDI BEL ABBES': {'EURL EL TEWFIK': {'R2201',\n",
       "   'R2202',\n",
       "   'R2203',\n",
       "   'R2204',\n",
       "   'R2205',\n",
       "   'R2206',\n",
       "   'R2207'}},\n",
       " 'ANNABA': {'EURL ILYES FOOD': {'R2301',\n",
       "   'R2302',\n",
       "   'R2303',\n",
       "   'R2306',\n",
       "   'R2307',\n",
       "   'R2308',\n",
       "   'R2309'},\n",
       "  'ANNABA 2': {'R230110', 'R230111', 'R230113', 'R2304', 'R2305'}},\n",
       " 'GUELMA': {'AZERINE YACINE': {'R24011', 'R24012'},\n",
       "  'TABOU HAMID': {'R24021', 'R24022', 'R24023'}},\n",
       " 'CONSTANTINE': {'IBRIR AZEDINE': {'R25011',\n",
       "   'R25013',\n",
       "   'R25014',\n",
       "   'R25016',\n",
       "   'R25018'},\n",
       "  'FOURAR SAID': {'R250110', 'R250111', 'R25012', 'R25015', 'R25017'},\n",
       "  'EURL NOUNOU COMMERCE ': {'R250110',\n",
       "   'R25014',\n",
       "   'R25015',\n",
       "   'R25019',\n",
       "   'R25021',\n",
       "   'R25022',\n",
       "   'R25023',\n",
       "   'R25024',\n",
       "   'R25025'}},\n",
       " 'MEDEA': {'SNC TITTERI DISTRIB': {'R2601',\n",
       "   'R2602',\n",
       "   'R2603',\n",
       "   'R2604',\n",
       "   'R2605',\n",
       "   'R2606',\n",
       "   'R2607'}},\n",
       " 'TAMANRASSET': {'TAMANRASSET': {'R1101'}},\n",
       " 'MOSTAGHANEM': {'AKLI FATAH': {'R27021',\n",
       "   'R27022',\n",
       "   'R27023',\n",
       "   'R27024',\n",
       "   'R27025'},\n",
       "  'IBRIR YANIS': {'R27011', 'R27012', 'R27013', 'R27014', 'R27022', 'R27024'}},\n",
       " \"M'SILA\": {'SARL SONARIX': {'R2801',\n",
       "   'R2802',\n",
       "   'R2803',\n",
       "   'R2804',\n",
       "   'R2805',\n",
       "   'R2806'}},\n",
       " 'MASCARA': {'IBRIR NACER': {'R2901', 'R2902', 'R2903', 'R2904', 'R2905'}},\n",
       " 'OUARGLA': {'SARL BATEAU SUD OUAREGLA': {'R30011',\n",
       "   'R30012',\n",
       "   'R30013',\n",
       "   'R30014',\n",
       "   'R30015'},\n",
       "  'SARL BATEAU SUD TOUGGOURT': {'R30021',\n",
       "   'R30022',\n",
       "   'R30023',\n",
       "   'R30024',\n",
       "   'R30025'}},\n",
       " 'ORAN': {'MELIANI SID AHMED': {'R31021',\n",
       "   'R310210',\n",
       "   'R310211',\n",
       "   'R31022',\n",
       "   'R31023',\n",
       "   'R31024',\n",
       "   'R31025',\n",
       "   'R31026',\n",
       "   'R31027',\n",
       "   'R31028',\n",
       "   'R31029'},\n",
       "  'IBRIR MOHAMED': {'R310110',\n",
       "   'R310111',\n",
       "   'R310113',\n",
       "   'R310114',\n",
       "   'R310116',\n",
       "   'R310117',\n",
       "   'R310118',\n",
       "   'R310119',\n",
       "   'R31013',\n",
       "   'R31014',\n",
       "   'R31015',\n",
       "   'R31017',\n",
       "   'R31019',\n",
       "   'R310210',\n",
       "   'R31023'},\n",
       "  'IBRIR LAIT': {'R31011',\n",
       "   'R310112',\n",
       "   'R310115',\n",
       "   'R310117',\n",
       "   'R31012',\n",
       "   'R31013',\n",
       "   'R31016',\n",
       "   'R31017',\n",
       "   'R31018',\n",
       "   'R31019',\n",
       "   'R310210',\n",
       "   'R310211',\n",
       "   'R31023',\n",
       "   'R31024'},\n",
       "  'BENOUHAMOU': {'R310110',\n",
       "   'R310111',\n",
       "   'R310116',\n",
       "   'R31012',\n",
       "   'R31013',\n",
       "   'R31014',\n",
       "   'R31015',\n",
       "   'R31018',\n",
       "   'R31019',\n",
       "   'R31031',\n",
       "   'R31032',\n",
       "   'R31033',\n",
       "   'R31034',\n",
       "   'R31035',\n",
       "   'R31036',\n",
       "   'R31037',\n",
       "   'R31038'}},\n",
       " 'RELIZANE': {'BOURZIG BOUZIANE': {'R3201', 'R3202', 'R3203'},\n",
       "  'IBRIR FAROUK': {'R4801', 'R4802', 'R4803', 'R4804'}},\n",
       " 'BBA': {'EURL AT FOODS DISTRIBUTION': {'R3401',\n",
       "   'R3402',\n",
       "   'R3403',\n",
       "   'R3404',\n",
       "   'R3405',\n",
       "   'R3406',\n",
       "   'R3407'}},\n",
       " 'BOUMERDES': {'EURL LAIT PROD - BOUMERDES 2': {'3501R',\n",
       "   '3502R',\n",
       "   '3504R',\n",
       "   '3507R',\n",
       "   '3508R',\n",
       "   'R3509',\n",
       "   'R3510',\n",
       "   'R3512',\n",
       "   'R3515',\n",
       "   'R3516',\n",
       "   'R3517',\n",
       "   'R3519'},\n",
       "  'EURL LAIT PROD': {'3503R',\n",
       "   '3505R',\n",
       "   '3506R',\n",
       "   '3508R',\n",
       "   'R3511',\n",
       "   'R3513',\n",
       "   'R3514',\n",
       "   'R3515',\n",
       "   'R3516',\n",
       "   'R3517'}},\n",
       " 'EL TAREF': {'BOUTELIATE MESSAOUDN ': {'R3601', 'R3602', 'R3603', 'R3604'}},\n",
       " 'EL OUED': {'ABDESSADOK ALAEDDINE': {'R3901', 'R3902', 'R3903', 'R3904'}},\n",
       " 'KHENCHELA': {'HANI MOUAD': {'R40011', 'R40012', 'R40013', 'R40014'},\n",
       "  'TOUAT A/MADJID': {'R40021', 'R40022'}},\n",
       " 'SOUK AHRAS': {'DRIDI LARBI': {'R24024', 'R4101', 'R4102', 'R4103'}},\n",
       " 'TIPAZA': {'SARL DISTRI LAIT': {'R4201',\n",
       "   'R4202',\n",
       "   'R4203',\n",
       "   'R4204',\n",
       "   'R4205',\n",
       "   'R4206',\n",
       "   'R4207'}},\n",
       " 'MILA': {'IBRIR RIDA': {'R4301',\n",
       "   'R4302',\n",
       "   'R4303',\n",
       "   'R4304',\n",
       "   'R4305',\n",
       "   'R4306',\n",
       "   'R4307'}},\n",
       " 'AIN DEFLA': {'EURL ADEMLAIT-AIN DEFLA': {'R4401',\n",
       "   'R4402',\n",
       "   'R4403',\n",
       "   'R4404',\n",
       "   'R4405'}},\n",
       " 'AIN TEMOUCHENT': {'BENDIMRED SAMIR': {'R4601', 'R4602', 'R4603', 'R4604'}},\n",
       " 'EL MENIA': {'IBRIR GHARDAIA': {'R4701', 'R4702', 'R4703', 'R4704', 'R4705'},\n",
       "  'BOUSSENA': {'R47021'}}}"
      ]
     },
     "execution_count": 136,
     "metadata": {},
     "output_type": "execute_result"
    }
   ],
   "source": [
    "sectors = myData2[[\"SECTOR NAME\",\"REGION NAME\",\"VENDOR\"]].drop_duplicates()\n",
    "sectorDict = { region.upper() : {sector.upper(): {client.upper() for client in sectors[sectors[\"SECTOR NAME\"]==sector][\"VENDOR\"]} for sector in sectors[sectors[\"REGION NAME\"]==region][\"SECTOR NAME\"]} for region in sectors[\"REGION NAME\"].drop_duplicates().tolist()}\n",
    "sectorDict"
   ]
  },
  {
   "cell_type": "code",
   "execution_count": 137,
   "metadata": {},
   "outputs": [],
   "source": [
    "import plotly.express as px\n",
    "\n",
    "def MoneyDisp(regions):\n",
    "    List = [\"ALGERIE\"]\n",
    "    REGIONS = [\"\"]\n",
    "    Value = [0]\n",
    "    for region in tqdm(list(regions)[:10]):\n",
    "        List.append(region)\n",
    "        REGIONS.append(\"ALGERIE\")\n",
    "        Value.append(0)\n",
    "        for secteur in sectorDict[region].keys():\n",
    "            List.append(secteur)\n",
    "            REGIONS.append(region)\n",
    "            Value.append(myData2[myData2[\"SECTOR NAME\"]==secteur][\"TURNOVER\"].sum())     \n",
    "            \n",
    "    data = dict(\n",
    "        character=List,\n",
    "        parent=REGIONS,\n",
    "        value=Value\n",
    "        )\n",
    "\n",
    "    fig =px.sunburst(\n",
    "        data,\n",
    "        names='character',\n",
    "        parents='parent',\n",
    "        values='value',\n",
    "    )\n",
    "    fig = go.Figure(data=fig)\n",
    "    pyo.iplot(fig)"
   ]
  },
  {
   "cell_type": "code",
   "execution_count": 138,
   "metadata": {},
   "outputs": [
    {
     "data": {
      "application/vnd.jupyter.widget-view+json": {
       "model_id": "6505ec3d42bb4fa393095777201695d2",
       "version_major": 2,
       "version_minor": 0
      },
      "text/plain": [
       "interactive(children=(SelectMultiple(description='Region', index=(8,), options=('CHLEF', 'LAGHOUAT', 'OUM EL B…"
      ]
     },
     "metadata": {},
     "output_type": "display_data"
    }
   ],
   "source": [
    "region_name = widgets.SelectMultiple(\n",
    "    options=list(sectorDict.keys()),\n",
    "    value=[\"ALGER\"],\n",
    "    rows=4,\n",
    "    description='Region',\n",
    "    disabled=False\n",
    ")\n",
    "widgets.interactive(MoneyDisp,regions=region_name)"
   ]
  },
  {
   "cell_type": "code",
   "execution_count": 58,
   "metadata": {
    "scrolled": true
   },
   "outputs": [
    {
     "data": {
      "application/vnd.jupyter.widget-view+json": {
       "model_id": "eeace5d3f3f1465cb6b9bd5182fd86ea",
       "version_major": 2,
       "version_minor": 0
      },
      "text/plain": [
       "interactive(children=(Select(description='Region', index=8, options=('CHLEF', 'LAGHOUAT', 'OUM EL BOUAGHI', 'B…"
      ]
     },
     "metadata": {},
     "output_type": "display_data"
    }
   ],
   "source": [
    "def test(region,population):\n",
    "    print(f'les secteur sont {list(sectorDict[region])} qui est situe a la region {region}, on a choisis une population de {population} pourcent')\n",
    "    \n",
    "widgets.interactive(test,region=region_name,population=Population)"
   ]
  },
  {
   "cell_type": "markdown",
   "metadata": {},
   "source": [
    "### Granularité d'étude : Clients par REGION"
   ]
  },
  {
   "cell_type": "code",
   "execution_count": 144,
   "metadata": {},
   "outputs": [
    {
     "data": {
      "application/vnd.plotly.v1+json": {
       "config": {
        "plotlyServerURL": "https://plot.ly"
       },
       "data": [
        {
         "marker": {
          "color": "hsl(0.0,50%,50%)"
         },
         "name": "CHLEF",
         "type": "box",
         "y": [
          130091135.7115462,
          79671569.88793302,
          82737140.9195794,
          75739361.45641616,
          79574012.8708848,
          17798859.489676017
         ]
        },
        {
         "marker": {
          "color": "hsl(8.78048780487805,50%,50%)"
         },
         "name": "LAGHOUAT",
         "type": "box",
         "y": [
          44634008.32688495,
          44652237.208464734,
          24979657.11298408,
          103127858.75070062
         ]
        },
        {
         "marker": {
          "color": "hsl(17.5609756097561,50%,50%)"
         },
         "name": "OUM EL BOUAGHI",
         "type": "box",
         "y": [
          46342163.34503665,
          44592468.914224185,
          38756478.38533414,
          42204561.91176419,
          18929347.99817108,
          93612671.85471627,
          11732149.497700041,
          33666972.33048704,
          79278191.8572243,
          20540069.498598035
         ]
        },
        {
         "marker": {
          "color": "hsl(26.34146341463415,50%,50%)"
         },
         "name": "BATNA",
         "type": "box",
         "y": [
          60144294.54845041,
          65651081.86871643,
          22628621.304539643,
          23713795.960148465,
          22894209.956532054,
          26005352.454151697,
          52407317.911740184,
          75915940.17740706,
          49972999.026692785,
          34514794.00331603,
          36295247.112419985,
          34560073.50251203,
          51083693.00870026,
          148049065.7433966,
          27888575.933784027
         ]
        },
        {
         "marker": {
          "color": "hsl(35.1219512195122,50%,50%)"
         },
         "name": "BEJAIA",
         "type": "box",
         "y": [
          25372662,
          159841188.9098024,
          170001606.7952558,
          271924220.38113916,
          139170732.47382462,
          26596524,
          9738264,
          20039388,
          23481726,
          9919800,
          26457576,
          36400794,
          46202331.77687583,
          17690298.00088602,
          16106697.002548026,
          71281003.91725221,
          26369821.47580032,
          165523189.01726577,
          148974249.01018703,
          154454622.79252222,
          190720726.02374196,
          152680454.8909386,
          105387178.01500419,
          86373605.18276429,
          150136981.00337628,
          142824764.133125,
          157433016.95269865,
          185349428.0339608,
          98557321.69108759,
          161444482.5587414,
          71724409.79332359,
          36099072.4226286,
          5497561.992167985
         ]
        },
        {
         "marker": {
          "color": "hsl(43.90243902439025,50%,50%)"
         },
         "name": "BISKRA",
         "type": "box",
         "y": [
          192244802.98663178,
          182134335.01348993,
          213986705.06203222,
          178175802.4499456,
          178077308.89948526,
          173335193.66812629,
          193396612.0437982,
          219102778.04625925,
          108438621.82292566,
          64374072.67088341,
          66097773.95711983
         ]
        },
        {
         "marker": {
          "color": "hsl(52.6829268292683,50%,50%)"
         },
         "name": "BECHAR",
         "type": "box",
         "y": [
          2237403.995591997,
          3111699.9903479996
         ]
        },
        {
         "marker": {
          "color": "hsl(61.463414634146346,50%,50%)"
         },
         "name": "BLIDA",
         "type": "box",
         "y": [
          198847762.03416222,
          242192230.37300566,
          31743599.942379747,
          190333416.47465765,
          126160207.52286676,
          601344060.01212,
          137067096.78465244,
          151725311.55617276,
          34511797.98938416,
          150472752.66846886,
          97159663.55904424
         ]
        },
        {
         "marker": {
          "color": "hsl(70.2439024390244,50%,50%)"
         },
         "name": "ALGER",
         "type": "box",
         "y": [
          11088012,
          7839762,
          65850766.89371352,
          2200563.9965520003,
          43798693.94888679,
          23217634.00938001,
          60566324.89071992,
          214915.999644,
          134175524.2831994,
          162535590.01930887,
          183941194.0910952,
          130859528.12356769,
          277774078.0519978,
          517824880.1422275,
          438355349.87521327,
          424513429.11306894,
          428339526.1717179,
          121238066.970861,
          151262712.37023646,
          84415453.00310399,
          155251795.88403565,
          132553401.97285663,
          57352461,
          135670710.00988656,
          113531000.95668578,
          190325041.03946516,
          190409842.64983478,
          132936328.09502062,
          171800182.01502582,
          29363868.334871978,
          163234549.0310763,
          150348684.03471765,
          39539406,
          173348972.0153044,
          178419714.07389596,
          203782833.02696243,
          394477634.03232914,
          226488498.24418536,
          330416560.1665548,
          313954176.02584475,
          272829934.04829323,
          142471788.01022393,
          387321815.1552976,
          92441409.997464,
          63223319.99813974,
          52652184.99686393,
          255917,
          68407219.98166399,
          54576447.9990239,
          199608145.02627677,
          106443249.57869765,
          54582585.99803985,
          317581.99933200004,
          138138242.86762136,
          158752975.09938797,
          193287889.01936212,
          167865047.35564077,
          185012102.05323932,
          155795273.36659062,
          98908631.99737218,
          93500682.99451222,
          99935580.97670062,
          138912695.55291212,
          83247391.997336,
          173703426.05600354,
          80207781.99904798,
          78100018.95205219,
          123089402.03496192,
          136313930.04178748,
          133645154.03822981,
          138242783.04845232,
          320424310.04462254,
          86260217.99864398,
          59163793.00061993,
          201629840.02884609,
          109020036.99940805,
          118545444.00460812,
          122623020.00103235,
          68848172.00182797,
          200397043.0281127,
          207468231.03775942,
          216184634.01341182,
          184068824.82166594,
          126455603.16771144,
          580154065.1298461,
          123736439.99973246,
          109838423.99911223,
          53483849.31227126,
          116273043.78882086,
          55213329.87364208,
          46791846.89344815,
          73807093.81276844,
          52020624.00199185,
          52386619.002219915,
          46072218.00296385,
          56627836.00405168,
          304555709.9958196,
          34246526.914264895,
          19204414.667916015,
          44713092.93273297,
          33931283.140864596,
          31694253.58964373,
          29164639.92446469,
          25928488.600755583,
          26971427.557384014,
          22928732.779652026,
          21648068.223328013,
          20022169.889392022,
          84286743.99799998,
          82756592.00015996,
          80171201.11050802,
          77542561.99829601
         ]
        },
        {
         "marker": {
          "color": "hsl(79.02439024390245,50%,50%)"
         },
         "name": "BOUIRA",
         "type": "box",
         "y": [
          8332554,
          197495025.93120268,
          160025679.24339348,
          178257748.03932625,
          142255137.33936083,
          105190781.11126031,
          69356726.87601899,
          10529010.550048048,
          133107681.00091314
         ]
        },
        {
         "marker": {
          "color": "hsl(87.8048780487805,50%,50%)"
         },
         "name": "TEBESSA",
         "type": "box",
         "y": [
          52476793.864788,
          50892431.86186819,
          57312475.854288265,
          52612493.8810561,
          32146901.997696105,
          26872077.997572057,
          92196925.72106451
         ]
        },
        {
         "marker": {
          "color": "hsl(96.58536585365854,50%,50%)"
         },
         "name": "TLEMCEN",
         "type": "box",
         "y": [
          46927685.881147705,
          55736574.87671571,
          60532699.80563519,
          29863398.005632117,
          40380524.0055957,
          122091555.68571693,
          150779025.56930482,
          27229415.00254816
         ]
        },
        {
         "marker": {
          "color": "hsl(105.3658536585366,50%,50%)"
         },
         "name": "TIARET",
         "type": "box",
         "y": [
          67803179.86619931,
          51057477.89609899,
          55625407.88735856,
          6936629.116208009
         ]
        },
        {
         "marker": {
          "color": "hsl(114.14634146341464,50%,50%)"
         },
         "name": "TIZI OUZOU",
         "type": "box",
         "y": [
          179107939.03255165,
          145165720.01144835,
          215261610.02813897,
          75428460.00724761,
          36370554.00224397,
          248721106.01599887,
          208416966.02867717,
          179958719.991758,
          118905916.00392564,
          190182547.34342143,
          153740302.04342392,
          169345768.01251268,
          188810552.02535513,
          92568168.01143987,
          33205958.005188037,
          30339474.003216024,
          10489663.999336015,
          1516794.0009599992
         ]
        },
        {
         "marker": {
          "color": "hsl(122.92682926829269,50%,50%)"
         },
         "name": "DJELFA",
         "type": "box",
         "y": [
          136651882.02157462,
          138143606.01466662,
          240809648.1031778,
          112913922.01068199
         ]
        },
        {
         "marker": {
          "color": "hsl(131.70731707317074,50%,50%)"
         },
         "name": "JIJEL",
         "type": "box",
         "y": [
          153048063.0203504,
          176807756.00684065,
          175896215.01424444,
          160401773.0111899,
          284099284.73877037,
          135154612.89174426,
          22884627.889708024,
          15361523.43896001
         ]
        },
        {
         "marker": {
          "color": "hsl(140.4878048780488,50%,50%)"
         },
         "name": "SETIF",
         "type": "box",
         "y": [
          183948596.03865424,
          238535759.98023874,
          232455226.02484068,
          199769746.00689954,
          258318951.98486564,
          265050660.0299437,
          377117480.00911,
          100804714.02091217,
          197597650.2962158,
          112729147.81927261,
          28878307.99473622,
          54332633.93560818,
          36818462.00299194,
          26295302.00043601
         ]
        },
        {
         "marker": {
          "color": "hsl(149.26829268292684,50%,50%)"
         },
         "name": "SAIDA",
         "type": "box",
         "y": [
          18951083.939654574,
          10048943.999600008,
          21017709.945270207,
          28180532.593039293
         ]
        },
        {
         "marker": {
          "color": "hsl(158.0487804878049,50%,50%)"
         },
         "name": "SKIKDA",
         "type": "box",
         "y": [
          149145476.052829,
          33439111.94666401,
          180672504.36720484,
          62901457.85194785,
          35796474.001188,
          49184467.93717075,
          30044981.958396703,
          149289486.027199,
          146634951.03935817,
          175545507.039883,
          102491061.00966008,
          79433455.64549205,
          69182546.46532358,
          19895953.969092183
         ]
        },
        {
         "marker": {
          "color": "hsl(166.82926829268294,50%,50%)"
         },
         "name": "SIDI BEL ABBES",
         "type": "box",
         "y": [
          66975153.82396718,
          62158987.884110145,
          63209755.789761595,
          36702540.00466801,
          28727357.99445613,
          114928041.67917767,
          5667368.001264005
         ]
        },
        {
         "marker": {
          "color": "hsl(175.609756097561,50%,50%)"
         },
         "name": "ANNABA",
         "type": "box",
         "y": [
          176869882.05235445,
          81742440.00195596,
          48810356.00077191,
          169066954.0325416,
          162005620.04647356,
          143372091.69697934,
          183436844.681346,
          55263336.02647203,
          90391209.00144796,
          89677379.50358792,
          90895310.00217596,
          38576583.96593796
         ]
        },
        {
         "marker": {
          "color": "hsl(184.39024390243904,50%,50%)"
         },
         "name": "GUELMA",
         "type": "box",
         "y": [
          70025197.91606204,
          86774207.00048801,
          51211286.23552335,
          52689017.92222654,
          33595604.999556005
         ]
        },
        {
         "marker": {
          "color": "hsl(193.1707317073171,50%,50%)"
         },
         "name": "CONSTANTINE",
         "type": "box",
         "y": [
          34761535.93361273,
          33213551.44739604,
          113101477.82851279,
          46295317.90315279,
          43406239.909716584,
          30071371.963248525,
          35572811.921280906,
          29911696.001808036,
          34455538.666584074,
          48250677.97270805,
          12292150.002768014,
          27717155.949684806,
          25393740.000348017,
          19648967.962632723,
          15568004.000736015,
          38649281.96378405
         ]
        },
        {
         "marker": {
          "color": "hsl(201.95121951219514,50%,50%)"
         },
         "name": "MEDEA",
         "type": "box",
         "y": [
          200878664.00534618,
          145044651.99116445,
          294144852.187607,
          129436882.00694428,
          71765920.0039438,
          55497456.0015958,
          58201735.89908284
         ]
        },
        {
         "marker": {
          "color": "hsl(210.7317073170732,50%,50%)"
         },
         "name": "TAMANRASSET",
         "type": "box",
         "y": [
          999.9999960000001
         ]
        },
        {
         "marker": {
          "color": "hsl(219.51219512195124,50%,50%)"
         },
         "name": "MOSTAGHANEM",
         "type": "box",
         "y": [
          45718205.85339644,
          31891911.9742247,
          101598153.72606148,
          5612323.986077972,
          81648199.82385053,
          74122772.44438653,
          34597061.005384155,
          28279159.991196383,
          10214271.977159977
         ]
        },
        {
         "marker": {
          "color": "hsl(228.2926829268293,50%,50%)"
         },
         "name": "M'SILA",
         "type": "box",
         "y": [
          180878118.0230576,
          207926932.04154563,
          347283548.4126579,
          111312862.0139283,
          106976937.97938251,
          26108271.99445205
         ]
        },
        {
         "marker": {
          "color": "hsl(237.07317073170734,50%,50%)"
         },
         "name": "MASCARA",
         "type": "box",
         "y": [
          82775709.73231442,
          63550619.79976105,
          9957910.496596001,
          19414976.01302405,
          126920867.5787892
         ]
        },
        {
         "marker": {
          "color": "hsl(245.85365853658539,50%,50%)"
         },
         "name": "OUARGLA",
         "type": "box",
         "y": [
          80440543.77387217,
          69360914.02806889,
          27519136.99829201,
          24943525.11057203,
          92585379.71406041,
          19090789.943252176,
          14663042.62786304,
          6549699.999924,
          25421973.92221187,
          2161235.9997119997
         ]
        },
        {
         "marker": {
          "color": "hsl(254.63414634146343,50%,50%)"
         },
         "name": "ORAN",
         "type": "box",
         "y": [
          56193489.833232515,
          18967408.004676048,
          24267962.00721607,
          16464754.004328018,
          93520121.73190916,
          79498547.74156867,
          94329029.77614099,
          60428021.96712006,
          18209861.997972213,
          8025623.980367948,
          4126563.9973799973,
          60400837.82708445,
          48257583.85308049,
          50243705.8428606,
          72508351.77217324,
          73461339.81560446,
          16507664.003760029,
          21548236.004952043,
          16388050.670215037,
          291769315.4451998,
          65895340.00217973,
          72725989.99480778,
          242174549.0488135,
          266556152.12290314,
          266131496.2553249,
          351464604.1758616,
          300388388.02944773,
          345938432.1068598,
          92942626.02200411,
          62506944.000923775,
          37864393.87652479,
          37646547.20821492,
          39738633.20479477,
          19945849.99300804,
          17659318.001928028,
          15820831.995828025,
          83817907.8200764,
          49963951.84204799
         ]
        },
        {
         "marker": {
          "color": "hsl(263.4146341463415,50%,50%)"
         },
         "name": "RELIZANE",
         "type": "box",
         "y": [
          19226069.95889437,
          17715697.904488385,
          12774683.970684089,
          112614025.99674283,
          122891566.0223459,
          91466525.01819313,
          210255472.08586738
         ]
        },
        {
         "marker": {
          "color": "hsl(272.19512195121956,50%,50%)"
         },
         "name": "BBA",
         "type": "box",
         "y": [
          60840669.89412705,
          59556402.90032356,
          60896073.24581656,
          58841455.9248951,
          103515179.83226481,
          19923790.003136005,
          13173308.000700016
         ]
        },
        {
         "marker": {
          "color": "hsl(280.9756097560976,50%,50%)"
         },
         "name": "BOUMERDES",
         "type": "box",
         "y": [
          181953850.04439914,
          150770342.48491588,
          173662432.38111582,
          163685378.69837198,
          157869885.13935104,
          177237005.72325426,
          318140453.9670574,
          380394112.03770185,
          129390339.99980466,
          120807639.44229229,
          133190210.21858868,
          88233476.66318399,
          118375091.99791268,
          152310013.44178495,
          262971202.18571812,
          222086356.05335897,
          31085305.973232143,
          15969737.983487986
         ]
        },
        {
         "marker": {
          "color": "hsl(289.7560975609756,50%,50%)"
         },
         "name": "EL TAREF",
         "type": "box",
         "y": [
          134702825.0227139,
          129342564.02547942,
          121230978.01750803,
          92425790.00088802
         ]
        },
        {
         "marker": {
          "color": "hsl(298.5365853658537,50%,50%)"
         },
         "name": "EL OUED",
         "type": "box",
         "y": [
          118716360.36359702,
          44162231.99881193,
          2775775.994688,
          197964035.620812
         ]
        },
        {
         "marker": {
          "color": "hsl(307.31707317073176,50%,50%)"
         },
         "name": "KHENCHELA",
         "type": "box",
         "y": [
          46063377.89274468,
          36074977.00378398,
          55931091.88619123,
          254351.9994959999,
          43440691.88379647,
          20488142.00006401
         ]
        },
        {
         "marker": {
          "color": "hsl(316.0975609756098,50%,50%)"
         },
         "name": "SOUK AHRAS",
         "type": "box",
         "y": [
          16972353.975144178,
          27470587.458568268,
          31273793.95044003,
          38733628.612259395
         ]
        },
        {
         "marker": {
          "color": "hsl(324.8780487804878,50%,50%)"
         },
         "name": "TIPAZA",
         "type": "box",
         "y": [
          214940770.0127203,
          222899914.03786293,
          207028525.0042713,
          492645804.114302,
          130880306.00917248,
          151874802.0155287,
          154692260.00770462
         ]
        },
        {
         "marker": {
          "color": "hsl(333.6585365853659,50%,50%)"
         },
         "name": "MILA",
         "type": "box",
         "y": [
          159677733.97254175,
          123307512.06359766,
          109686988.00894484,
          131859364.0358391,
          38197495.93219214,
          27698999.505183168,
          14720673.999168037
         ]
        },
        {
         "marker": {
          "color": "hsl(342.43902439024396,50%,50%)"
         },
         "name": "AIN DEFLA",
         "type": "box",
         "y": [
          76017809.85376783,
          78632659.31146085,
          74414439.67053792,
          42263305.99835579,
          23401229.392246757
         ]
        },
        {
         "marker": {
          "color": "hsl(351.219512195122,50%,50%)"
         },
         "name": "AIN TEMOUCHENT",
         "type": "box",
         "y": [
          63584707.808097124,
          60131159.84888806,
          125191446.25192404,
          26086458.003904056
         ]
        },
        {
         "marker": {
          "color": "hsl(360.0,50%,50%)"
         },
         "name": "EL MENIA",
         "type": "box",
         "y": []
        }
       ],
       "layout": {
        "paper_bgcolor": "rgb(233,233,233)",
        "plot_bgcolor": "rgb(233,233,233)",
        "template": {
         "data": {
          "bar": [
           {
            "error_x": {
             "color": "#2a3f5f"
            },
            "error_y": {
             "color": "#2a3f5f"
            },
            "marker": {
             "line": {
              "color": "#E5ECF6",
              "width": 0.5
             }
            },
            "type": "bar"
           }
          ],
          "barpolar": [
           {
            "marker": {
             "line": {
              "color": "#E5ECF6",
              "width": 0.5
             }
            },
            "type": "barpolar"
           }
          ],
          "carpet": [
           {
            "aaxis": {
             "endlinecolor": "#2a3f5f",
             "gridcolor": "white",
             "linecolor": "white",
             "minorgridcolor": "white",
             "startlinecolor": "#2a3f5f"
            },
            "baxis": {
             "endlinecolor": "#2a3f5f",
             "gridcolor": "white",
             "linecolor": "white",
             "minorgridcolor": "white",
             "startlinecolor": "#2a3f5f"
            },
            "type": "carpet"
           }
          ],
          "choropleth": [
           {
            "colorbar": {
             "outlinewidth": 0,
             "ticks": ""
            },
            "type": "choropleth"
           }
          ],
          "contour": [
           {
            "colorbar": {
             "outlinewidth": 0,
             "ticks": ""
            },
            "colorscale": [
             [
              0,
              "#0d0887"
             ],
             [
              0.1111111111111111,
              "#46039f"
             ],
             [
              0.2222222222222222,
              "#7201a8"
             ],
             [
              0.3333333333333333,
              "#9c179e"
             ],
             [
              0.4444444444444444,
              "#bd3786"
             ],
             [
              0.5555555555555556,
              "#d8576b"
             ],
             [
              0.6666666666666666,
              "#ed7953"
             ],
             [
              0.7777777777777778,
              "#fb9f3a"
             ],
             [
              0.8888888888888888,
              "#fdca26"
             ],
             [
              1,
              "#f0f921"
             ]
            ],
            "type": "contour"
           }
          ],
          "contourcarpet": [
           {
            "colorbar": {
             "outlinewidth": 0,
             "ticks": ""
            },
            "type": "contourcarpet"
           }
          ],
          "heatmap": [
           {
            "colorbar": {
             "outlinewidth": 0,
             "ticks": ""
            },
            "colorscale": [
             [
              0,
              "#0d0887"
             ],
             [
              0.1111111111111111,
              "#46039f"
             ],
             [
              0.2222222222222222,
              "#7201a8"
             ],
             [
              0.3333333333333333,
              "#9c179e"
             ],
             [
              0.4444444444444444,
              "#bd3786"
             ],
             [
              0.5555555555555556,
              "#d8576b"
             ],
             [
              0.6666666666666666,
              "#ed7953"
             ],
             [
              0.7777777777777778,
              "#fb9f3a"
             ],
             [
              0.8888888888888888,
              "#fdca26"
             ],
             [
              1,
              "#f0f921"
             ]
            ],
            "type": "heatmap"
           }
          ],
          "heatmapgl": [
           {
            "colorbar": {
             "outlinewidth": 0,
             "ticks": ""
            },
            "colorscale": [
             [
              0,
              "#0d0887"
             ],
             [
              0.1111111111111111,
              "#46039f"
             ],
             [
              0.2222222222222222,
              "#7201a8"
             ],
             [
              0.3333333333333333,
              "#9c179e"
             ],
             [
              0.4444444444444444,
              "#bd3786"
             ],
             [
              0.5555555555555556,
              "#d8576b"
             ],
             [
              0.6666666666666666,
              "#ed7953"
             ],
             [
              0.7777777777777778,
              "#fb9f3a"
             ],
             [
              0.8888888888888888,
              "#fdca26"
             ],
             [
              1,
              "#f0f921"
             ]
            ],
            "type": "heatmapgl"
           }
          ],
          "histogram": [
           {
            "marker": {
             "colorbar": {
              "outlinewidth": 0,
              "ticks": ""
             }
            },
            "type": "histogram"
           }
          ],
          "histogram2d": [
           {
            "colorbar": {
             "outlinewidth": 0,
             "ticks": ""
            },
            "colorscale": [
             [
              0,
              "#0d0887"
             ],
             [
              0.1111111111111111,
              "#46039f"
             ],
             [
              0.2222222222222222,
              "#7201a8"
             ],
             [
              0.3333333333333333,
              "#9c179e"
             ],
             [
              0.4444444444444444,
              "#bd3786"
             ],
             [
              0.5555555555555556,
              "#d8576b"
             ],
             [
              0.6666666666666666,
              "#ed7953"
             ],
             [
              0.7777777777777778,
              "#fb9f3a"
             ],
             [
              0.8888888888888888,
              "#fdca26"
             ],
             [
              1,
              "#f0f921"
             ]
            ],
            "type": "histogram2d"
           }
          ],
          "histogram2dcontour": [
           {
            "colorbar": {
             "outlinewidth": 0,
             "ticks": ""
            },
            "colorscale": [
             [
              0,
              "#0d0887"
             ],
             [
              0.1111111111111111,
              "#46039f"
             ],
             [
              0.2222222222222222,
              "#7201a8"
             ],
             [
              0.3333333333333333,
              "#9c179e"
             ],
             [
              0.4444444444444444,
              "#bd3786"
             ],
             [
              0.5555555555555556,
              "#d8576b"
             ],
             [
              0.6666666666666666,
              "#ed7953"
             ],
             [
              0.7777777777777778,
              "#fb9f3a"
             ],
             [
              0.8888888888888888,
              "#fdca26"
             ],
             [
              1,
              "#f0f921"
             ]
            ],
            "type": "histogram2dcontour"
           }
          ],
          "mesh3d": [
           {
            "colorbar": {
             "outlinewidth": 0,
             "ticks": ""
            },
            "type": "mesh3d"
           }
          ],
          "parcoords": [
           {
            "line": {
             "colorbar": {
              "outlinewidth": 0,
              "ticks": ""
             }
            },
            "type": "parcoords"
           }
          ],
          "pie": [
           {
            "automargin": true,
            "type": "pie"
           }
          ],
          "scatter": [
           {
            "marker": {
             "colorbar": {
              "outlinewidth": 0,
              "ticks": ""
             }
            },
            "type": "scatter"
           }
          ],
          "scatter3d": [
           {
            "line": {
             "colorbar": {
              "outlinewidth": 0,
              "ticks": ""
             }
            },
            "marker": {
             "colorbar": {
              "outlinewidth": 0,
              "ticks": ""
             }
            },
            "type": "scatter3d"
           }
          ],
          "scattercarpet": [
           {
            "marker": {
             "colorbar": {
              "outlinewidth": 0,
              "ticks": ""
             }
            },
            "type": "scattercarpet"
           }
          ],
          "scattergeo": [
           {
            "marker": {
             "colorbar": {
              "outlinewidth": 0,
              "ticks": ""
             }
            },
            "type": "scattergeo"
           }
          ],
          "scattergl": [
           {
            "marker": {
             "colorbar": {
              "outlinewidth": 0,
              "ticks": ""
             }
            },
            "type": "scattergl"
           }
          ],
          "scattermapbox": [
           {
            "marker": {
             "colorbar": {
              "outlinewidth": 0,
              "ticks": ""
             }
            },
            "type": "scattermapbox"
           }
          ],
          "scatterpolar": [
           {
            "marker": {
             "colorbar": {
              "outlinewidth": 0,
              "ticks": ""
             }
            },
            "type": "scatterpolar"
           }
          ],
          "scatterpolargl": [
           {
            "marker": {
             "colorbar": {
              "outlinewidth": 0,
              "ticks": ""
             }
            },
            "type": "scatterpolargl"
           }
          ],
          "scatterternary": [
           {
            "marker": {
             "colorbar": {
              "outlinewidth": 0,
              "ticks": ""
             }
            },
            "type": "scatterternary"
           }
          ],
          "surface": [
           {
            "colorbar": {
             "outlinewidth": 0,
             "ticks": ""
            },
            "colorscale": [
             [
              0,
              "#0d0887"
             ],
             [
              0.1111111111111111,
              "#46039f"
             ],
             [
              0.2222222222222222,
              "#7201a8"
             ],
             [
              0.3333333333333333,
              "#9c179e"
             ],
             [
              0.4444444444444444,
              "#bd3786"
             ],
             [
              0.5555555555555556,
              "#d8576b"
             ],
             [
              0.6666666666666666,
              "#ed7953"
             ],
             [
              0.7777777777777778,
              "#fb9f3a"
             ],
             [
              0.8888888888888888,
              "#fdca26"
             ],
             [
              1,
              "#f0f921"
             ]
            ],
            "type": "surface"
           }
          ],
          "table": [
           {
            "cells": {
             "fill": {
              "color": "#EBF0F8"
             },
             "line": {
              "color": "white"
             }
            },
            "header": {
             "fill": {
              "color": "#C8D4E3"
             },
             "line": {
              "color": "white"
             }
            },
            "type": "table"
           }
          ]
         },
         "layout": {
          "annotationdefaults": {
           "arrowcolor": "#2a3f5f",
           "arrowhead": 0,
           "arrowwidth": 1
          },
          "coloraxis": {
           "colorbar": {
            "outlinewidth": 0,
            "ticks": ""
           }
          },
          "colorscale": {
           "diverging": [
            [
             0,
             "#8e0152"
            ],
            [
             0.1,
             "#c51b7d"
            ],
            [
             0.2,
             "#de77ae"
            ],
            [
             0.3,
             "#f1b6da"
            ],
            [
             0.4,
             "#fde0ef"
            ],
            [
             0.5,
             "#f7f7f7"
            ],
            [
             0.6,
             "#e6f5d0"
            ],
            [
             0.7,
             "#b8e186"
            ],
            [
             0.8,
             "#7fbc41"
            ],
            [
             0.9,
             "#4d9221"
            ],
            [
             1,
             "#276419"
            ]
           ],
           "sequential": [
            [
             0,
             "#0d0887"
            ],
            [
             0.1111111111111111,
             "#46039f"
            ],
            [
             0.2222222222222222,
             "#7201a8"
            ],
            [
             0.3333333333333333,
             "#9c179e"
            ],
            [
             0.4444444444444444,
             "#bd3786"
            ],
            [
             0.5555555555555556,
             "#d8576b"
            ],
            [
             0.6666666666666666,
             "#ed7953"
            ],
            [
             0.7777777777777778,
             "#fb9f3a"
            ],
            [
             0.8888888888888888,
             "#fdca26"
            ],
            [
             1,
             "#f0f921"
            ]
           ],
           "sequentialminus": [
            [
             0,
             "#0d0887"
            ],
            [
             0.1111111111111111,
             "#46039f"
            ],
            [
             0.2222222222222222,
             "#7201a8"
            ],
            [
             0.3333333333333333,
             "#9c179e"
            ],
            [
             0.4444444444444444,
             "#bd3786"
            ],
            [
             0.5555555555555556,
             "#d8576b"
            ],
            [
             0.6666666666666666,
             "#ed7953"
            ],
            [
             0.7777777777777778,
             "#fb9f3a"
            ],
            [
             0.8888888888888888,
             "#fdca26"
            ],
            [
             1,
             "#f0f921"
            ]
           ]
          },
          "colorway": [
           "#636efa",
           "#EF553B",
           "#00cc96",
           "#ab63fa",
           "#FFA15A",
           "#19d3f3",
           "#FF6692",
           "#B6E880",
           "#FF97FF",
           "#FECB52"
          ],
          "font": {
           "color": "#2a3f5f"
          },
          "geo": {
           "bgcolor": "white",
           "lakecolor": "white",
           "landcolor": "#E5ECF6",
           "showlakes": true,
           "showland": true,
           "subunitcolor": "white"
          },
          "hoverlabel": {
           "align": "left"
          },
          "hovermode": "closest",
          "mapbox": {
           "style": "light"
          },
          "paper_bgcolor": "white",
          "plot_bgcolor": "#E5ECF6",
          "polar": {
           "angularaxis": {
            "gridcolor": "white",
            "linecolor": "white",
            "ticks": ""
           },
           "bgcolor": "#E5ECF6",
           "radialaxis": {
            "gridcolor": "white",
            "linecolor": "white",
            "ticks": ""
           }
          },
          "scene": {
           "xaxis": {
            "backgroundcolor": "#E5ECF6",
            "gridcolor": "white",
            "gridwidth": 2,
            "linecolor": "white",
            "showbackground": true,
            "ticks": "",
            "zerolinecolor": "white"
           },
           "yaxis": {
            "backgroundcolor": "#E5ECF6",
            "gridcolor": "white",
            "gridwidth": 2,
            "linecolor": "white",
            "showbackground": true,
            "ticks": "",
            "zerolinecolor": "white"
           },
           "zaxis": {
            "backgroundcolor": "#E5ECF6",
            "gridcolor": "white",
            "gridwidth": 2,
            "linecolor": "white",
            "showbackground": true,
            "ticks": "",
            "zerolinecolor": "white"
           }
          },
          "shapedefaults": {
           "line": {
            "color": "#2a3f5f"
           }
          },
          "ternary": {
           "aaxis": {
            "gridcolor": "white",
            "linecolor": "white",
            "ticks": ""
           },
           "baxis": {
            "gridcolor": "white",
            "linecolor": "white",
            "ticks": ""
           },
           "bgcolor": "#E5ECF6",
           "caxis": {
            "gridcolor": "white",
            "linecolor": "white",
            "ticks": ""
           }
          },
          "title": {
           "x": 0.05
          },
          "xaxis": {
           "automargin": true,
           "gridcolor": "white",
           "linecolor": "white",
           "ticks": "",
           "title": {
            "standoff": 15
           },
           "zerolinecolor": "white",
           "zerolinewidth": 2
          },
          "yaxis": {
           "automargin": true,
           "gridcolor": "white",
           "linecolor": "white",
           "ticks": "",
           "title": {
            "standoff": 15
           },
           "zerolinecolor": "white",
           "zerolinewidth": 2
          }
         }
        },
        "xaxis": {
         "showgrid": false,
         "showticklabels": false,
         "zeroline": false
        },
        "yaxis": {
         "gridcolor": "white",
         "zeroline": false
        }
       }
      },
      "text/html": [
       "<div>\n",
       "        \n",
       "        \n",
       "            <div id=\"e1ef4d01-98d7-4944-bb99-e81a92a3170e\" class=\"plotly-graph-div\" style=\"height:525px; width:100%;\"></div>\n",
       "            <script type=\"text/javascript\">\n",
       "                require([\"plotly\"], function(Plotly) {\n",
       "                    window.PLOTLYENV=window.PLOTLYENV || {};\n",
       "                    \n",
       "                if (document.getElementById(\"e1ef4d01-98d7-4944-bb99-e81a92a3170e\")) {\n",
       "                    Plotly.newPlot(\n",
       "                        'e1ef4d01-98d7-4944-bb99-e81a92a3170e',\n",
       "                        [{\"marker\": {\"color\": \"hsl(0.0,50%,50%)\"}, \"name\": \"CHLEF\", \"type\": \"box\", \"y\": [130091135.7115462, 79671569.88793302, 82737140.9195794, 75739361.45641616, 79574012.8708848, 17798859.489676017]}, {\"marker\": {\"color\": \"hsl(8.78048780487805,50%,50%)\"}, \"name\": \"LAGHOUAT\", \"type\": \"box\", \"y\": [44634008.32688495, 44652237.208464734, 24979657.11298408, 103127858.75070062]}, {\"marker\": {\"color\": \"hsl(17.5609756097561,50%,50%)\"}, \"name\": \"OUM EL BOUAGHI\", \"type\": \"box\", \"y\": [46342163.34503665, 44592468.914224185, 38756478.38533414, 42204561.91176419, 18929347.99817108, 93612671.85471627, 11732149.497700041, 33666972.33048704, 79278191.8572243, 20540069.498598035]}, {\"marker\": {\"color\": \"hsl(26.34146341463415,50%,50%)\"}, \"name\": \"BATNA\", \"type\": \"box\", \"y\": [60144294.54845041, 65651081.86871643, 22628621.304539643, 23713795.960148465, 22894209.956532054, 26005352.454151697, 52407317.911740184, 75915940.17740706, 49972999.026692785, 34514794.00331603, 36295247.112419985, 34560073.50251203, 51083693.00870026, 148049065.7433966, 27888575.933784027]}, {\"marker\": {\"color\": \"hsl(35.1219512195122,50%,50%)\"}, \"name\": \"BEJAIA\", \"type\": \"box\", \"y\": [25372662.0, 159841188.9098024, 170001606.7952558, 271924220.38113916, 139170732.47382462, 26596524.0, 9738264.0, 20039388.0, 23481726.0, 9919800.0, 26457576.0, 36400794.0, 46202331.77687583, 17690298.00088602, 16106697.002548026, 71281003.91725221, 26369821.47580032, 165523189.01726577, 148974249.01018703, 154454622.79252222, 190720726.02374196, 152680454.8909386, 105387178.01500419, 86373605.18276429, 150136981.00337628, 142824764.133125, 157433016.95269865, 185349428.0339608, 98557321.69108759, 161444482.5587414, 71724409.79332359, 36099072.4226286, 5497561.992167985]}, {\"marker\": {\"color\": \"hsl(43.90243902439025,50%,50%)\"}, \"name\": \"BISKRA\", \"type\": \"box\", \"y\": [192244802.98663178, 182134335.01348993, 213986705.06203222, 178175802.4499456, 178077308.89948526, 173335193.66812629, 193396612.0437982, 219102778.04625925, 108438621.82292566, 64374072.67088341, 66097773.95711983]}, {\"marker\": {\"color\": \"hsl(52.6829268292683,50%,50%)\"}, \"name\": \"BECHAR\", \"type\": \"box\", \"y\": [2237403.995591997, 3111699.9903479996]}, {\"marker\": {\"color\": \"hsl(61.463414634146346,50%,50%)\"}, \"name\": \"BLIDA\", \"type\": \"box\", \"y\": [198847762.03416222, 242192230.37300566, 31743599.942379747, 190333416.47465765, 126160207.52286676, 601344060.01212, 137067096.78465244, 151725311.55617276, 34511797.98938416, 150472752.66846886, 97159663.55904424]}, {\"marker\": {\"color\": \"hsl(70.2439024390244,50%,50%)\"}, \"name\": \"ALGER\", \"type\": \"box\", \"y\": [11088012.0, 7839762.0, 65850766.89371352, 2200563.9965520003, 43798693.94888679, 23217634.00938001, 60566324.89071992, 214915.999644, 134175524.2831994, 162535590.01930887, 183941194.0910952, 130859528.12356769, 277774078.0519978, 517824880.1422275, 438355349.87521327, 424513429.11306894, 428339526.1717179, 121238066.970861, 151262712.37023646, 84415453.00310399, 155251795.88403565, 132553401.97285663, 57352461.0, 135670710.00988656, 113531000.95668578, 190325041.03946516, 190409842.64983478, 132936328.09502062, 171800182.01502582, 29363868.334871978, 163234549.0310763, 150348684.03471765, 39539406.0, 173348972.0153044, 178419714.07389596, 203782833.02696243, 394477634.03232914, 226488498.24418536, 330416560.1665548, 313954176.02584475, 272829934.04829323, 142471788.01022393, 387321815.1552976, 92441409.997464, 63223319.99813974, 52652184.99686393, 255917.0, 68407219.98166399, 54576447.9990239, 199608145.02627677, 106443249.57869765, 54582585.99803985, 317581.99933200004, 138138242.86762136, 158752975.09938797, 193287889.01936212, 167865047.35564077, 185012102.05323932, 155795273.36659062, 98908631.99737218, 93500682.99451222, 99935580.97670062, 138912695.55291212, 83247391.997336, 173703426.05600354, 80207781.99904798, 78100018.95205219, 123089402.03496192, 136313930.04178748, 133645154.03822981, 138242783.04845232, 320424310.04462254, 86260217.99864398, 59163793.00061993, 201629840.02884609, 109020036.99940805, 118545444.00460812, 122623020.00103235, 68848172.00182797, 200397043.0281127, 207468231.03775942, 216184634.01341182, 184068824.82166594, 126455603.16771144, 580154065.1298461, 123736439.99973246, 109838423.99911223, 53483849.31227126, 116273043.78882086, 55213329.87364208, 46791846.89344815, 73807093.81276844, 52020624.00199185, 52386619.002219915, 46072218.00296385, 56627836.00405168, 304555709.9958196, 34246526.914264895, 19204414.667916015, 44713092.93273297, 33931283.140864596, 31694253.58964373, 29164639.92446469, 25928488.600755583, 26971427.557384014, 22928732.779652026, 21648068.223328013, 20022169.889392022, 84286743.99799998, 82756592.00015996, 80171201.11050802, 77542561.99829601]}, {\"marker\": {\"color\": \"hsl(79.02439024390245,50%,50%)\"}, \"name\": \"BOUIRA\", \"type\": \"box\", \"y\": [8332554.0, 197495025.93120268, 160025679.24339348, 178257748.03932625, 142255137.33936083, 105190781.11126031, 69356726.87601899, 10529010.550048048, 133107681.00091314]}, {\"marker\": {\"color\": \"hsl(87.8048780487805,50%,50%)\"}, \"name\": \"TEBESSA\", \"type\": \"box\", \"y\": [52476793.864788, 50892431.86186819, 57312475.854288265, 52612493.8810561, 32146901.997696105, 26872077.997572057, 92196925.72106451]}, {\"marker\": {\"color\": \"hsl(96.58536585365854,50%,50%)\"}, \"name\": \"TLEMCEN\", \"type\": \"box\", \"y\": [46927685.881147705, 55736574.87671571, 60532699.80563519, 29863398.005632117, 40380524.0055957, 122091555.68571693, 150779025.56930482, 27229415.00254816]}, {\"marker\": {\"color\": \"hsl(105.3658536585366,50%,50%)\"}, \"name\": \"TIARET\", \"type\": \"box\", \"y\": [67803179.86619931, 51057477.89609899, 55625407.88735856, 6936629.116208009]}, {\"marker\": {\"color\": \"hsl(114.14634146341464,50%,50%)\"}, \"name\": \"TIZI OUZOU\", \"type\": \"box\", \"y\": [179107939.03255165, 145165720.01144835, 215261610.02813897, 75428460.00724761, 36370554.00224397, 248721106.01599887, 208416966.02867717, 179958719.991758, 118905916.00392564, 190182547.34342143, 153740302.04342392, 169345768.01251268, 188810552.02535513, 92568168.01143987, 33205958.005188037, 30339474.003216024, 10489663.999336015, 1516794.0009599992]}, {\"marker\": {\"color\": \"hsl(122.92682926829269,50%,50%)\"}, \"name\": \"DJELFA\", \"type\": \"box\", \"y\": [136651882.02157462, 138143606.01466662, 240809648.1031778, 112913922.01068199]}, {\"marker\": {\"color\": \"hsl(131.70731707317074,50%,50%)\"}, \"name\": \"JIJEL\", \"type\": \"box\", \"y\": [153048063.0203504, 176807756.00684065, 175896215.01424444, 160401773.0111899, 284099284.73877037, 135154612.89174426, 22884627.889708024, 15361523.43896001]}, {\"marker\": {\"color\": \"hsl(140.4878048780488,50%,50%)\"}, \"name\": \"SETIF\", \"type\": \"box\", \"y\": [183948596.03865424, 238535759.98023874, 232455226.02484068, 199769746.00689954, 258318951.98486564, 265050660.0299437, 377117480.00911, 100804714.02091217, 197597650.2962158, 112729147.81927261, 28878307.99473622, 54332633.93560818, 36818462.00299194, 26295302.00043601]}, {\"marker\": {\"color\": \"hsl(149.26829268292684,50%,50%)\"}, \"name\": \"SAIDA\", \"type\": \"box\", \"y\": [18951083.939654574, 10048943.999600008, 21017709.945270207, 28180532.593039293]}, {\"marker\": {\"color\": \"hsl(158.0487804878049,50%,50%)\"}, \"name\": \"SKIKDA\", \"type\": \"box\", \"y\": [149145476.052829, 33439111.94666401, 180672504.36720484, 62901457.85194785, 35796474.001188, 49184467.93717075, 30044981.958396703, 149289486.027199, 146634951.03935817, 175545507.039883, 102491061.00966008, 79433455.64549205, 69182546.46532358, 19895953.969092183]}, {\"marker\": {\"color\": \"hsl(166.82926829268294,50%,50%)\"}, \"name\": \"SIDI BEL ABBES\", \"type\": \"box\", \"y\": [66975153.82396718, 62158987.884110145, 63209755.789761595, 36702540.00466801, 28727357.99445613, 114928041.67917767, 5667368.001264005]}, {\"marker\": {\"color\": \"hsl(175.609756097561,50%,50%)\"}, \"name\": \"ANNABA\", \"type\": \"box\", \"y\": [176869882.05235445, 81742440.00195596, 48810356.00077191, 169066954.0325416, 162005620.04647356, 143372091.69697934, 183436844.681346, 55263336.02647203, 90391209.00144796, 89677379.50358792, 90895310.00217596, 38576583.96593796]}, {\"marker\": {\"color\": \"hsl(184.39024390243904,50%,50%)\"}, \"name\": \"GUELMA\", \"type\": \"box\", \"y\": [70025197.91606204, 86774207.00048801, 51211286.23552335, 52689017.92222654, 33595604.999556005]}, {\"marker\": {\"color\": \"hsl(193.1707317073171,50%,50%)\"}, \"name\": \"CONSTANTINE\", \"type\": \"box\", \"y\": [34761535.93361273, 33213551.44739604, 113101477.82851279, 46295317.90315279, 43406239.909716584, 30071371.963248525, 35572811.921280906, 29911696.001808036, 34455538.666584074, 48250677.97270805, 12292150.002768014, 27717155.949684806, 25393740.000348017, 19648967.962632723, 15568004.000736015, 38649281.96378405]}, {\"marker\": {\"color\": \"hsl(201.95121951219514,50%,50%)\"}, \"name\": \"MEDEA\", \"type\": \"box\", \"y\": [200878664.00534618, 145044651.99116445, 294144852.187607, 129436882.00694428, 71765920.0039438, 55497456.0015958, 58201735.89908284]}, {\"marker\": {\"color\": \"hsl(210.7317073170732,50%,50%)\"}, \"name\": \"TAMANRASSET\", \"type\": \"box\", \"y\": [999.9999960000001]}, {\"marker\": {\"color\": \"hsl(219.51219512195124,50%,50%)\"}, \"name\": \"MOSTAGHANEM\", \"type\": \"box\", \"y\": [45718205.85339644, 31891911.9742247, 101598153.72606148, 5612323.986077972, 81648199.82385053, 74122772.44438653, 34597061.005384155, 28279159.991196383, 10214271.977159977]}, {\"marker\": {\"color\": \"hsl(228.2926829268293,50%,50%)\"}, \"name\": \"M'SILA\", \"type\": \"box\", \"y\": [180878118.0230576, 207926932.04154563, 347283548.4126579, 111312862.0139283, 106976937.97938251, 26108271.99445205]}, {\"marker\": {\"color\": \"hsl(237.07317073170734,50%,50%)\"}, \"name\": \"MASCARA\", \"type\": \"box\", \"y\": [82775709.73231442, 63550619.79976105, 9957910.496596001, 19414976.01302405, 126920867.5787892]}, {\"marker\": {\"color\": \"hsl(245.85365853658539,50%,50%)\"}, \"name\": \"OUARGLA\", \"type\": \"box\", \"y\": [80440543.77387217, 69360914.02806889, 27519136.99829201, 24943525.11057203, 92585379.71406041, 19090789.943252176, 14663042.62786304, 6549699.999924, 25421973.92221187, 2161235.9997119997]}, {\"marker\": {\"color\": \"hsl(254.63414634146343,50%,50%)\"}, \"name\": \"ORAN\", \"type\": \"box\", \"y\": [56193489.833232515, 18967408.004676048, 24267962.00721607, 16464754.004328018, 93520121.73190916, 79498547.74156867, 94329029.77614099, 60428021.96712006, 18209861.997972213, 8025623.980367948, 4126563.9973799973, 60400837.82708445, 48257583.85308049, 50243705.8428606, 72508351.77217324, 73461339.81560446, 16507664.003760029, 21548236.004952043, 16388050.670215037, 291769315.4451998, 65895340.00217973, 72725989.99480778, 242174549.0488135, 266556152.12290314, 266131496.2553249, 351464604.1758616, 300388388.02944773, 345938432.1068598, 92942626.02200411, 62506944.000923775, 37864393.87652479, 37646547.20821492, 39738633.20479477, 19945849.99300804, 17659318.001928028, 15820831.995828025, 83817907.8200764, 49963951.84204799]}, {\"marker\": {\"color\": \"hsl(263.4146341463415,50%,50%)\"}, \"name\": \"RELIZANE\", \"type\": \"box\", \"y\": [19226069.95889437, 17715697.904488385, 12774683.970684089, 112614025.99674283, 122891566.0223459, 91466525.01819313, 210255472.08586738]}, {\"marker\": {\"color\": \"hsl(272.19512195121956,50%,50%)\"}, \"name\": \"BBA\", \"type\": \"box\", \"y\": [60840669.89412705, 59556402.90032356, 60896073.24581656, 58841455.9248951, 103515179.83226481, 19923790.003136005, 13173308.000700016]}, {\"marker\": {\"color\": \"hsl(280.9756097560976,50%,50%)\"}, \"name\": \"BOUMERDES\", \"type\": \"box\", \"y\": [181953850.04439914, 150770342.48491588, 173662432.38111582, 163685378.69837198, 157869885.13935104, 177237005.72325426, 318140453.9670574, 380394112.03770185, 129390339.99980466, 120807639.44229229, 133190210.21858868, 88233476.66318399, 118375091.99791268, 152310013.44178495, 262971202.18571812, 222086356.05335897, 31085305.973232143, 15969737.983487986]}, {\"marker\": {\"color\": \"hsl(289.7560975609756,50%,50%)\"}, \"name\": \"EL TAREF\", \"type\": \"box\", \"y\": [134702825.0227139, 129342564.02547942, 121230978.01750803, 92425790.00088802]}, {\"marker\": {\"color\": \"hsl(298.5365853658537,50%,50%)\"}, \"name\": \"EL OUED\", \"type\": \"box\", \"y\": [118716360.36359702, 44162231.99881193, 2775775.994688, 197964035.620812]}, {\"marker\": {\"color\": \"hsl(307.31707317073176,50%,50%)\"}, \"name\": \"KHENCHELA\", \"type\": \"box\", \"y\": [46063377.89274468, 36074977.00378398, 55931091.88619123, 254351.9994959999, 43440691.88379647, 20488142.00006401]}, {\"marker\": {\"color\": \"hsl(316.0975609756098,50%,50%)\"}, \"name\": \"SOUK AHRAS\", \"type\": \"box\", \"y\": [16972353.975144178, 27470587.458568268, 31273793.95044003, 38733628.612259395]}, {\"marker\": {\"color\": \"hsl(324.8780487804878,50%,50%)\"}, \"name\": \"TIPAZA\", \"type\": \"box\", \"y\": [214940770.0127203, 222899914.03786293, 207028525.0042713, 492645804.114302, 130880306.00917248, 151874802.0155287, 154692260.00770462]}, {\"marker\": {\"color\": \"hsl(333.6585365853659,50%,50%)\"}, \"name\": \"MILA\", \"type\": \"box\", \"y\": [159677733.97254175, 123307512.06359766, 109686988.00894484, 131859364.0358391, 38197495.93219214, 27698999.505183168, 14720673.999168037]}, {\"marker\": {\"color\": \"hsl(342.43902439024396,50%,50%)\"}, \"name\": \"AIN DEFLA\", \"type\": \"box\", \"y\": [76017809.85376783, 78632659.31146085, 74414439.67053792, 42263305.99835579, 23401229.392246757]}, {\"marker\": {\"color\": \"hsl(351.219512195122,50%,50%)\"}, \"name\": \"AIN TEMOUCHENT\", \"type\": \"box\", \"y\": [63584707.808097124, 60131159.84888806, 125191446.25192404, 26086458.003904056]}, {\"marker\": {\"color\": \"hsl(360.0,50%,50%)\"}, \"name\": \"EL MENIA\", \"type\": \"box\", \"y\": []}],\n",
       "                        {\"paper_bgcolor\": \"rgb(233,233,233)\", \"plot_bgcolor\": \"rgb(233,233,233)\", \"template\": {\"data\": {\"bar\": [{\"error_x\": {\"color\": \"#2a3f5f\"}, \"error_y\": {\"color\": \"#2a3f5f\"}, \"marker\": {\"line\": {\"color\": \"#E5ECF6\", \"width\": 0.5}}, \"type\": \"bar\"}], \"barpolar\": [{\"marker\": {\"line\": {\"color\": \"#E5ECF6\", \"width\": 0.5}}, \"type\": \"barpolar\"}], \"carpet\": [{\"aaxis\": {\"endlinecolor\": \"#2a3f5f\", \"gridcolor\": \"white\", \"linecolor\": \"white\", \"minorgridcolor\": \"white\", \"startlinecolor\": \"#2a3f5f\"}, \"baxis\": {\"endlinecolor\": \"#2a3f5f\", \"gridcolor\": \"white\", \"linecolor\": \"white\", \"minorgridcolor\": \"white\", \"startlinecolor\": \"#2a3f5f\"}, \"type\": \"carpet\"}], \"choropleth\": [{\"colorbar\": {\"outlinewidth\": 0, \"ticks\": \"\"}, \"type\": \"choropleth\"}], \"contour\": [{\"colorbar\": {\"outlinewidth\": 0, \"ticks\": \"\"}, \"colorscale\": [[0.0, \"#0d0887\"], [0.1111111111111111, \"#46039f\"], [0.2222222222222222, \"#7201a8\"], [0.3333333333333333, \"#9c179e\"], [0.4444444444444444, \"#bd3786\"], [0.5555555555555556, \"#d8576b\"], [0.6666666666666666, \"#ed7953\"], [0.7777777777777778, \"#fb9f3a\"], [0.8888888888888888, \"#fdca26\"], [1.0, \"#f0f921\"]], \"type\": \"contour\"}], \"contourcarpet\": [{\"colorbar\": {\"outlinewidth\": 0, \"ticks\": \"\"}, \"type\": \"contourcarpet\"}], \"heatmap\": [{\"colorbar\": {\"outlinewidth\": 0, \"ticks\": \"\"}, \"colorscale\": [[0.0, \"#0d0887\"], [0.1111111111111111, \"#46039f\"], [0.2222222222222222, \"#7201a8\"], [0.3333333333333333, \"#9c179e\"], [0.4444444444444444, \"#bd3786\"], [0.5555555555555556, \"#d8576b\"], [0.6666666666666666, \"#ed7953\"], [0.7777777777777778, \"#fb9f3a\"], [0.8888888888888888, \"#fdca26\"], [1.0, \"#f0f921\"]], \"type\": \"heatmap\"}], \"heatmapgl\": [{\"colorbar\": {\"outlinewidth\": 0, \"ticks\": \"\"}, \"colorscale\": [[0.0, \"#0d0887\"], [0.1111111111111111, \"#46039f\"], [0.2222222222222222, \"#7201a8\"], [0.3333333333333333, \"#9c179e\"], [0.4444444444444444, \"#bd3786\"], [0.5555555555555556, \"#d8576b\"], [0.6666666666666666, \"#ed7953\"], [0.7777777777777778, \"#fb9f3a\"], [0.8888888888888888, \"#fdca26\"], [1.0, \"#f0f921\"]], \"type\": \"heatmapgl\"}], \"histogram\": [{\"marker\": {\"colorbar\": {\"outlinewidth\": 0, \"ticks\": \"\"}}, \"type\": \"histogram\"}], \"histogram2d\": [{\"colorbar\": {\"outlinewidth\": 0, \"ticks\": \"\"}, \"colorscale\": [[0.0, \"#0d0887\"], [0.1111111111111111, \"#46039f\"], [0.2222222222222222, \"#7201a8\"], [0.3333333333333333, \"#9c179e\"], [0.4444444444444444, \"#bd3786\"], [0.5555555555555556, \"#d8576b\"], [0.6666666666666666, \"#ed7953\"], [0.7777777777777778, \"#fb9f3a\"], [0.8888888888888888, \"#fdca26\"], [1.0, \"#f0f921\"]], \"type\": \"histogram2d\"}], \"histogram2dcontour\": [{\"colorbar\": {\"outlinewidth\": 0, \"ticks\": \"\"}, \"colorscale\": [[0.0, \"#0d0887\"], [0.1111111111111111, \"#46039f\"], [0.2222222222222222, \"#7201a8\"], [0.3333333333333333, \"#9c179e\"], [0.4444444444444444, \"#bd3786\"], [0.5555555555555556, \"#d8576b\"], [0.6666666666666666, \"#ed7953\"], [0.7777777777777778, \"#fb9f3a\"], [0.8888888888888888, \"#fdca26\"], [1.0, \"#f0f921\"]], \"type\": \"histogram2dcontour\"}], \"mesh3d\": [{\"colorbar\": {\"outlinewidth\": 0, \"ticks\": \"\"}, \"type\": \"mesh3d\"}], \"parcoords\": [{\"line\": {\"colorbar\": {\"outlinewidth\": 0, \"ticks\": \"\"}}, \"type\": \"parcoords\"}], \"pie\": [{\"automargin\": true, \"type\": \"pie\"}], \"scatter\": [{\"marker\": {\"colorbar\": {\"outlinewidth\": 0, \"ticks\": \"\"}}, \"type\": \"scatter\"}], \"scatter3d\": [{\"line\": {\"colorbar\": {\"outlinewidth\": 0, \"ticks\": \"\"}}, \"marker\": {\"colorbar\": {\"outlinewidth\": 0, \"ticks\": \"\"}}, \"type\": \"scatter3d\"}], \"scattercarpet\": [{\"marker\": {\"colorbar\": {\"outlinewidth\": 0, \"ticks\": \"\"}}, \"type\": \"scattercarpet\"}], \"scattergeo\": [{\"marker\": {\"colorbar\": {\"outlinewidth\": 0, \"ticks\": \"\"}}, \"type\": \"scattergeo\"}], \"scattergl\": [{\"marker\": {\"colorbar\": {\"outlinewidth\": 0, \"ticks\": \"\"}}, \"type\": \"scattergl\"}], \"scattermapbox\": [{\"marker\": {\"colorbar\": {\"outlinewidth\": 0, \"ticks\": \"\"}}, \"type\": \"scattermapbox\"}], \"scatterpolar\": [{\"marker\": {\"colorbar\": {\"outlinewidth\": 0, \"ticks\": \"\"}}, \"type\": \"scatterpolar\"}], \"scatterpolargl\": [{\"marker\": {\"colorbar\": {\"outlinewidth\": 0, \"ticks\": \"\"}}, \"type\": \"scatterpolargl\"}], \"scatterternary\": [{\"marker\": {\"colorbar\": {\"outlinewidth\": 0, \"ticks\": \"\"}}, \"type\": \"scatterternary\"}], \"surface\": [{\"colorbar\": {\"outlinewidth\": 0, \"ticks\": \"\"}, \"colorscale\": [[0.0, \"#0d0887\"], [0.1111111111111111, \"#46039f\"], [0.2222222222222222, \"#7201a8\"], [0.3333333333333333, \"#9c179e\"], [0.4444444444444444, \"#bd3786\"], [0.5555555555555556, \"#d8576b\"], [0.6666666666666666, \"#ed7953\"], [0.7777777777777778, \"#fb9f3a\"], [0.8888888888888888, \"#fdca26\"], [1.0, \"#f0f921\"]], \"type\": \"surface\"}], \"table\": [{\"cells\": {\"fill\": {\"color\": \"#EBF0F8\"}, \"line\": {\"color\": \"white\"}}, \"header\": {\"fill\": {\"color\": \"#C8D4E3\"}, \"line\": {\"color\": \"white\"}}, \"type\": \"table\"}]}, \"layout\": {\"annotationdefaults\": {\"arrowcolor\": \"#2a3f5f\", \"arrowhead\": 0, \"arrowwidth\": 1}, \"coloraxis\": {\"colorbar\": {\"outlinewidth\": 0, \"ticks\": \"\"}}, \"colorscale\": {\"diverging\": [[0, \"#8e0152\"], [0.1, \"#c51b7d\"], [0.2, \"#de77ae\"], [0.3, \"#f1b6da\"], [0.4, \"#fde0ef\"], [0.5, \"#f7f7f7\"], [0.6, \"#e6f5d0\"], [0.7, \"#b8e186\"], [0.8, \"#7fbc41\"], [0.9, \"#4d9221\"], [1, \"#276419\"]], \"sequential\": [[0.0, \"#0d0887\"], [0.1111111111111111, \"#46039f\"], [0.2222222222222222, \"#7201a8\"], [0.3333333333333333, \"#9c179e\"], [0.4444444444444444, \"#bd3786\"], [0.5555555555555556, \"#d8576b\"], [0.6666666666666666, \"#ed7953\"], [0.7777777777777778, \"#fb9f3a\"], [0.8888888888888888, \"#fdca26\"], [1.0, \"#f0f921\"]], \"sequentialminus\": [[0.0, \"#0d0887\"], [0.1111111111111111, \"#46039f\"], [0.2222222222222222, \"#7201a8\"], [0.3333333333333333, \"#9c179e\"], [0.4444444444444444, \"#bd3786\"], [0.5555555555555556, \"#d8576b\"], [0.6666666666666666, \"#ed7953\"], [0.7777777777777778, \"#fb9f3a\"], [0.8888888888888888, \"#fdca26\"], [1.0, \"#f0f921\"]]}, \"colorway\": [\"#636efa\", \"#EF553B\", \"#00cc96\", \"#ab63fa\", \"#FFA15A\", \"#19d3f3\", \"#FF6692\", \"#B6E880\", \"#FF97FF\", \"#FECB52\"], \"font\": {\"color\": \"#2a3f5f\"}, \"geo\": {\"bgcolor\": \"white\", \"lakecolor\": \"white\", \"landcolor\": \"#E5ECF6\", \"showlakes\": true, \"showland\": true, \"subunitcolor\": \"white\"}, \"hoverlabel\": {\"align\": \"left\"}, \"hovermode\": \"closest\", \"mapbox\": {\"style\": \"light\"}, \"paper_bgcolor\": \"white\", \"plot_bgcolor\": \"#E5ECF6\", \"polar\": {\"angularaxis\": {\"gridcolor\": \"white\", \"linecolor\": \"white\", \"ticks\": \"\"}, \"bgcolor\": \"#E5ECF6\", \"radialaxis\": {\"gridcolor\": \"white\", \"linecolor\": \"white\", \"ticks\": \"\"}}, \"scene\": {\"xaxis\": {\"backgroundcolor\": \"#E5ECF6\", \"gridcolor\": \"white\", \"gridwidth\": 2, \"linecolor\": \"white\", \"showbackground\": true, \"ticks\": \"\", \"zerolinecolor\": \"white\"}, \"yaxis\": {\"backgroundcolor\": \"#E5ECF6\", \"gridcolor\": \"white\", \"gridwidth\": 2, \"linecolor\": \"white\", \"showbackground\": true, \"ticks\": \"\", \"zerolinecolor\": \"white\"}, \"zaxis\": {\"backgroundcolor\": \"#E5ECF6\", \"gridcolor\": \"white\", \"gridwidth\": 2, \"linecolor\": \"white\", \"showbackground\": true, \"ticks\": \"\", \"zerolinecolor\": \"white\"}}, \"shapedefaults\": {\"line\": {\"color\": \"#2a3f5f\"}}, \"ternary\": {\"aaxis\": {\"gridcolor\": \"white\", \"linecolor\": \"white\", \"ticks\": \"\"}, \"baxis\": {\"gridcolor\": \"white\", \"linecolor\": \"white\", \"ticks\": \"\"}, \"bgcolor\": \"#E5ECF6\", \"caxis\": {\"gridcolor\": \"white\", \"linecolor\": \"white\", \"ticks\": \"\"}}, \"title\": {\"x\": 0.05}, \"xaxis\": {\"automargin\": true, \"gridcolor\": \"white\", \"linecolor\": \"white\", \"ticks\": \"\", \"title\": {\"standoff\": 15}, \"zerolinecolor\": \"white\", \"zerolinewidth\": 2}, \"yaxis\": {\"automargin\": true, \"gridcolor\": \"white\", \"linecolor\": \"white\", \"ticks\": \"\", \"title\": {\"standoff\": 15}, \"zerolinecolor\": \"white\", \"zerolinewidth\": 2}}}, \"xaxis\": {\"showgrid\": false, \"showticklabels\": false, \"zeroline\": false}, \"yaxis\": {\"gridcolor\": \"white\", \"zeroline\": false}},\n",
       "                        {\"responsive\": true}\n",
       "                    ).then(function(){\n",
       "                            \n",
       "var gd = document.getElementById('e1ef4d01-98d7-4944-bb99-e81a92a3170e');\n",
       "var x = new MutationObserver(function (mutations, observer) {{\n",
       "        var display = window.getComputedStyle(gd).display;\n",
       "        if (!display || display === 'none') {{\n",
       "            console.log([gd, 'removed!']);\n",
       "            Plotly.purge(gd);\n",
       "            observer.disconnect();\n",
       "        }}\n",
       "}});\n",
       "\n",
       "// Listen for the removal of the full notebook cells\n",
       "var notebookContainer = gd.closest('#notebook-container');\n",
       "if (notebookContainer) {{\n",
       "    x.observe(notebookContainer, {childList: true});\n",
       "}}\n",
       "\n",
       "// Listen for the clearing of the current output cell\n",
       "var outputEl = gd.closest('.output');\n",
       "if (outputEl) {{\n",
       "    x.observe(outputEl, {childList: true});\n",
       "}}\n",
       "\n",
       "                        })\n",
       "                };\n",
       "                });\n",
       "            </script>\n",
       "        </div>"
      ]
     },
     "metadata": {},
     "output_type": "display_data"
    }
   ],
   "source": [
    "N = len(sectorDict.keys())     # Number of boxes\n",
    "c = ['hsl('+str(h)+',50%'+',50%)' for h in np.linspace(0, 360, N)] #colors\n",
    "\n",
    "fig = go.Figure(data=[go.Box(\n",
    "    y= myData2[myData2[\"REGION NAME\"]==list(sectorDict.keys())[i]].groupby([\"VENDOR\"])[\"TURNOVER\"].sum().tolist(),\n",
    "    marker_color=c[i],\n",
    "    name=list(sectorDict.keys())[i],\n",
    "    ) for i in range(N)])\n",
    "\n",
    "# format the layout\n",
    "fig.update_layout(\n",
    "    xaxis=dict(showgrid=False, zeroline=False, showticklabels=False),\n",
    "    yaxis=dict(zeroline=False, gridcolor='white'),\n",
    "    paper_bgcolor='rgb(233,233,233)',\n",
    "    plot_bgcolor='rgb(233,233,233)',\n",
    ")\n",
    "\n",
    "fig.show()"
   ]
  },
  {
   "cell_type": "markdown",
   "metadata": {},
   "source": [
    "### Granularité : client par secteur"
   ]
  },
  {
   "cell_type": "code",
   "execution_count": 145,
   "metadata": {},
   "outputs": [],
   "source": [
    "def ClientDisp(region,choix):\n",
    "    df = myData2[myData2[\"REGION NAME\"]==\"ALGER\"].groupby([\"VENDOR\",\"SECTOR NAME\"]).sum().reset_index()\n",
    "    fig = px.box(df, x=\"SECTOR NAME\", y=choix, points=\"all\",color = \"SECTOR NAME\")\n",
    "    fig = go.Figure(data=fig)\n",
    "    pyo.iplot(fig)"
   ]
  },
  {
   "cell_type": "code",
   "execution_count": 126,
   "metadata": {},
   "outputs": [
    {
     "data": {
      "application/vnd.jupyter.widget-view+json": {
       "model_id": "2a6bb502645a4b25862b776c29b1a607",
       "version_major": 2,
       "version_minor": 0
      },
      "text/plain": [
       "interactive(children=(SelectMultiple(description='Region', index=(8,), options=('CHLEF', 'LAGHOUAT', 'OUM EL B…"
      ]
     },
     "metadata": {},
     "output_type": "display_data"
    }
   ],
   "source": [
    "region_name = widgets.SelectMultiple(\n",
    "    options=list(sectorDict.keys()),\n",
    "    value=[\"ALGER\"],\n",
    "    rows=4,\n",
    "    description='Region',\n",
    "    disabled=False\n",
    ")\n",
    "\n",
    "choix = widgets.RadioButtons(\n",
    "    options=['TURNOVER', 'DISCOUNT'],\n",
    "    value='TURNOVER', # Defaults to turnover\n",
    "    layout={'width': 'max-content'}, \n",
    "    description='Mode:',\n",
    "    disabled=False\n",
    ")\n",
    "\n",
    "widgets.interactive(ClientDisp,region=region_name,choix=choix)"
   ]
  },
  {
   "cell_type": "code",
   "execution_count": null,
   "metadata": {},
   "outputs": [],
   "source": []
  }
 ],
 "metadata": {
  "kernelspec": {
   "display_name": "Python 3",
   "language": "python",
   "name": "python3"
  },
  "language_info": {
   "codemirror_mode": {
    "name": "ipython",
    "version": 3
   },
   "file_extension": ".py",
   "mimetype": "text/x-python",
   "name": "python",
   "nbconvert_exporter": "python",
   "pygments_lexer": "ipython3",
   "version": "3.7.6"
  }
 },
 "nbformat": 4,
 "nbformat_minor": 4
}

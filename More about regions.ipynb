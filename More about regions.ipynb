{
 "cells": [
  {
   "cell_type": "markdown",
   "metadata": {},
   "source": [
    "## This notebook will focus its study on each ITINERARY \n",
    "\n",
    "Each Region -> Sector would get a different study depending on the results\n"
   ]
  },
  {
   "cell_type": "code",
   "execution_count": 4,
   "metadata": {},
   "outputs": [],
   "source": [
    "import pandas as pd\n",
    "import matplotlib.pyplot as plt\n",
    "import plotly.offline as pyo\n",
    "import numpy as np\n",
    "import os\n",
    "from tqdm.notebook import tqdm"
   ]
  },
  {
   "cell_type": "code",
   "execution_count": 5,
   "metadata": {},
   "outputs": [
    {
     "data": {
      "text/html": [
       "        <script type=\"text/javascript\">\n",
       "        window.PlotlyConfig = {MathJaxConfig: 'local'};\n",
       "        if (window.MathJax) {MathJax.Hub.Config({SVG: {font: \"STIX-Web\"}});}\n",
       "        if (typeof require !== 'undefined') {\n",
       "        require.undef(\"plotly\");\n",
       "        requirejs.config({\n",
       "            paths: {\n",
       "                'plotly': ['https://cdn.plot.ly/plotly-latest.min']\n",
       "            }\n",
       "        });\n",
       "        require(['plotly'], function(Plotly) {\n",
       "            window._Plotly = Plotly;\n",
       "        });\n",
       "        }\n",
       "        </script>\n",
       "        "
      ]
     },
     "metadata": {},
     "output_type": "display_data"
    },
    {
     "data": {
      "text/html": [
       "        <script type=\"text/javascript\">\n",
       "        window.PlotlyConfig = {MathJaxConfig: 'local'};\n",
       "        if (window.MathJax) {MathJax.Hub.Config({SVG: {font: \"STIX-Web\"}});}\n",
       "        if (typeof require !== 'undefined') {\n",
       "        require.undef(\"plotly\");\n",
       "        requirejs.config({\n",
       "            paths: {\n",
       "                'plotly': ['https://cdn.plot.ly/plotly-latest.min']\n",
       "            }\n",
       "        });\n",
       "        require(['plotly'], function(Plotly) {\n",
       "            window._Plotly = Plotly;\n",
       "        });\n",
       "        }\n",
       "        </script>\n",
       "        "
      ]
     },
     "metadata": {},
     "output_type": "display_data"
    }
   ],
   "source": [
    "import cufflinks as cf               # third-party library for Pandas \n",
    "import plotly.graph_objs as go\n",
    "%matplotlib inline\n",
    "cf.go_offline()\n",
    "pyo.init_notebook_mode(connected=True)\n",
    "import ipywidgets as widgets\n",
    "import itertools"
   ]
  },
  {
   "cell_type": "code",
   "execution_count": 6,
   "metadata": {},
   "outputs": [],
   "source": [
    "file_lenght=-len(os.path.abspath(\".\").split(\"\\\\\")[-1])\n",
    "csv_path =  os.path.abspath(\".\")[:file_lenght]+\"Data\\\\\""
   ]
  },
  {
   "cell_type": "code",
   "execution_count": 41,
   "metadata": {},
   "outputs": [
    {
     "name": "stderr",
     "output_type": "stream",
     "text": [
      "E:\\user\\anaconda\\envs\\Forecasting_sales\\lib\\site-packages\\numpy\\lib\\arraysetops.py:569: FutureWarning:\n",
      "\n",
      "elementwise comparison failed; returning scalar instead, but in the future will perform elementwise comparison\n",
      "\n"
     ]
    },
    {
     "data": {
      "text/html": [
       "<div>\n",
       "<style scoped>\n",
       "    .dataframe tbody tr th:only-of-type {\n",
       "        vertical-align: middle;\n",
       "    }\n",
       "\n",
       "    .dataframe tbody tr th {\n",
       "        vertical-align: top;\n",
       "    }\n",
       "\n",
       "    .dataframe thead th {\n",
       "        text-align: right;\n",
       "    }\n",
       "</style>\n",
       "<table border=\"1\" class=\"dataframe\">\n",
       "  <thead>\n",
       "    <tr style=\"text-align: right;\">\n",
       "      <th></th>\n",
       "      <th>ITINERARY_NAME</th>\n",
       "      <th>PARTNER_CODE</th>\n",
       "      <th>PARTNERCATEGORY_CODE</th>\n",
       "      <th>PARTNERCATEGORYTYPE_CODE</th>\n",
       "      <th>VENDOR</th>\n",
       "      <th>SECTOR CODE</th>\n",
       "      <th>SECTOR NAME</th>\n",
       "      <th>REGION CODE</th>\n",
       "      <th>REGION NAME</th>\n",
       "      <th>PRODUCT_CODE</th>\n",
       "      <th>...</th>\n",
       "      <th>SOLD QUANTITY</th>\n",
       "      <th>TURNOVER</th>\n",
       "      <th>DISCOUNT</th>\n",
       "      <th>GREGORIAN_DATE</th>\n",
       "      <th>HOLIDAY</th>\n",
       "      <th>SCOLAR_HOLIDAY</th>\n",
       "      <th>ISLAM_EVENT</th>\n",
       "      <th>TEMPERATURE</th>\n",
       "      <th>HUMIDITY</th>\n",
       "      <th>DAYWEEK</th>\n",
       "    </tr>\n",
       "  </thead>\n",
       "  <tbody>\n",
       "    <tr>\n",
       "      <th>0</th>\n",
       "      <td>Samedi, Centre ville 1</td>\n",
       "      <td>02/0002</td>\n",
       "      <td>M</td>\n",
       "      <td>M</td>\n",
       "      <td>R0201</td>\n",
       "      <td>201</td>\n",
       "      <td>EURL ADEMLAIT-CHLEF</td>\n",
       "      <td>2</td>\n",
       "      <td>CHLEF</td>\n",
       "      <td>PF-000005</td>\n",
       "      <td>...</td>\n",
       "      <td>12.0</td>\n",
       "      <td>1056.000000</td>\n",
       "      <td>0.0</td>\n",
       "      <td>2017-11-25</td>\n",
       "      <td>0</td>\n",
       "      <td>0</td>\n",
       "      <td>None</td>\n",
       "      <td>55.59375</td>\n",
       "      <td>0.540039</td>\n",
       "      <td>5</td>\n",
       "    </tr>\n",
       "    <tr>\n",
       "      <th>1</th>\n",
       "      <td>Samedi, Centre ville 1</td>\n",
       "      <td>02/0004</td>\n",
       "      <td>GM</td>\n",
       "      <td>GM</td>\n",
       "      <td>R0201</td>\n",
       "      <td>201</td>\n",
       "      <td>EURL ADEMLAIT-CHLEF</td>\n",
       "      <td>2</td>\n",
       "      <td>CHLEF</td>\n",
       "      <td>PF-000001</td>\n",
       "      <td>...</td>\n",
       "      <td>36.0</td>\n",
       "      <td>2999.999988</td>\n",
       "      <td>0.0</td>\n",
       "      <td>2017-11-25</td>\n",
       "      <td>0</td>\n",
       "      <td>0</td>\n",
       "      <td>None</td>\n",
       "      <td>55.59375</td>\n",
       "      <td>0.540039</td>\n",
       "      <td>5</td>\n",
       "    </tr>\n",
       "    <tr>\n",
       "      <th>2</th>\n",
       "      <td>Samedi, Centre ville 1</td>\n",
       "      <td>02/0004</td>\n",
       "      <td>GM</td>\n",
       "      <td>GM</td>\n",
       "      <td>R0201</td>\n",
       "      <td>201</td>\n",
       "      <td>EURL ADEMLAIT-CHLEF</td>\n",
       "      <td>2</td>\n",
       "      <td>CHLEF</td>\n",
       "      <td>PF-000004</td>\n",
       "      <td>...</td>\n",
       "      <td>36.0</td>\n",
       "      <td>3168.000000</td>\n",
       "      <td>0.0</td>\n",
       "      <td>2017-11-25</td>\n",
       "      <td>0</td>\n",
       "      <td>0</td>\n",
       "      <td>None</td>\n",
       "      <td>55.59375</td>\n",
       "      <td>0.540039</td>\n",
       "      <td>5</td>\n",
       "    </tr>\n",
       "    <tr>\n",
       "      <th>3</th>\n",
       "      <td>Samedi, Centre ville 1</td>\n",
       "      <td>02/0005</td>\n",
       "      <td>M</td>\n",
       "      <td>M</td>\n",
       "      <td>R0201</td>\n",
       "      <td>201</td>\n",
       "      <td>EURL ADEMLAIT-CHLEF</td>\n",
       "      <td>2</td>\n",
       "      <td>CHLEF</td>\n",
       "      <td>PF-000002</td>\n",
       "      <td>...</td>\n",
       "      <td>12.0</td>\n",
       "      <td>540.000000</td>\n",
       "      <td>0.0</td>\n",
       "      <td>2017-11-25</td>\n",
       "      <td>0</td>\n",
       "      <td>0</td>\n",
       "      <td>None</td>\n",
       "      <td>55.59375</td>\n",
       "      <td>0.540039</td>\n",
       "      <td>5</td>\n",
       "    </tr>\n",
       "    <tr>\n",
       "      <th>4</th>\n",
       "      <td>Samedi, Centre ville 1</td>\n",
       "      <td>02/0006</td>\n",
       "      <td>M</td>\n",
       "      <td>M</td>\n",
       "      <td>R0201</td>\n",
       "      <td>201</td>\n",
       "      <td>EURL ADEMLAIT-CHLEF</td>\n",
       "      <td>2</td>\n",
       "      <td>CHLEF</td>\n",
       "      <td>PF-000002</td>\n",
       "      <td>...</td>\n",
       "      <td>24.0</td>\n",
       "      <td>1080.000000</td>\n",
       "      <td>0.0</td>\n",
       "      <td>2017-11-25</td>\n",
       "      <td>0</td>\n",
       "      <td>0</td>\n",
       "      <td>None</td>\n",
       "      <td>55.59375</td>\n",
       "      <td>0.540039</td>\n",
       "      <td>5</td>\n",
       "    </tr>\n",
       "  </tbody>\n",
       "</table>\n",
       "<p>5 rows × 23 columns</p>\n",
       "</div>"
      ],
      "text/plain": [
       "           ITINERARY_NAME PARTNER_CODE PARTNERCATEGORY_CODE  \\\n",
       "0  Samedi, Centre ville 1      02/0002                    M   \n",
       "1  Samedi, Centre ville 1      02/0004                   GM   \n",
       "2  Samedi, Centre ville 1      02/0004                   GM   \n",
       "3  Samedi, Centre ville 1      02/0005                    M   \n",
       "4  Samedi, Centre ville 1      02/0006                    M   \n",
       "\n",
       "  PARTNERCATEGORYTYPE_CODE VENDOR SECTOR CODE          SECTOR NAME  \\\n",
       "0                        M  R0201         201  EURL ADEMLAIT-CHLEF   \n",
       "1                       GM  R0201         201  EURL ADEMLAIT-CHLEF   \n",
       "2                       GM  R0201         201  EURL ADEMLAIT-CHLEF   \n",
       "3                        M  R0201         201  EURL ADEMLAIT-CHLEF   \n",
       "4                        M  R0201         201  EURL ADEMLAIT-CHLEF   \n",
       "\n",
       "  REGION CODE REGION NAME PRODUCT_CODE  ... SOLD QUANTITY     TURNOVER  \\\n",
       "0           2       CHLEF    PF-000005  ...          12.0  1056.000000   \n",
       "1           2       CHLEF    PF-000001  ...          36.0  2999.999988   \n",
       "2           2       CHLEF    PF-000004  ...          36.0  3168.000000   \n",
       "3           2       CHLEF    PF-000002  ...          12.0   540.000000   \n",
       "4           2       CHLEF    PF-000002  ...          24.0  1080.000000   \n",
       "\n",
       "   DISCOUNT  GREGORIAN_DATE  HOLIDAY  SCOLAR_HOLIDAY ISLAM_EVENT TEMPERATURE  \\\n",
       "0       0.0      2017-11-25        0               0        None    55.59375   \n",
       "1       0.0      2017-11-25        0               0        None    55.59375   \n",
       "2       0.0      2017-11-25        0               0        None    55.59375   \n",
       "3       0.0      2017-11-25        0               0        None    55.59375   \n",
       "4       0.0      2017-11-25        0               0        None    55.59375   \n",
       "\n",
       "   HUMIDITY DAYWEEK  \n",
       "0  0.540039       5  \n",
       "1  0.540039       5  \n",
       "2  0.540039       5  \n",
       "3  0.540039       5  \n",
       "4  0.540039       5  \n",
       "\n",
       "[5 rows x 23 columns]"
      ]
     },
     "execution_count": 41,
     "metadata": {},
     "output_type": "execute_result"
    }
   ],
   "source": [
    "types={       \n",
    "    \"PARTNERCATEGORY_CODE\" : \"category\" \n",
    "    ,\"PARTNERCATEGORYTYPE_CODE\" : \"category\" \n",
    "    ,\"VENDOR\" : \"category\"           \n",
    "    ,\"SECTOR CODE\" : \"category\"         \n",
    "    ,\"SECTOR NAME\" : \"category\"       \n",
    "    ,\"REGION CODE\" : \"category\"        \n",
    "    ,\"REGION NAME\" : \"category\"       \n",
    "    ,\"PRODUCT_CODE\" : \"category\"      \n",
    "    ,\"PRODUCT_NAME\" : \"category\"       \n",
    "    ,\"PRODUCTPAGE_CODE\" : \"category\"    \n",
    "    ,\"UNITPRICE\" : \"float16\"\n",
    "    ,\"SOLD QUANTITY\" : \"float16\"  \n",
    "    ,\"TURNOVER\" : \"float64\"\n",
    "    ,\"DISCOUNT\" : \"float32\" \n",
    "    ,\"DAYWEEK\" : \"category\"\n",
    "    ,\"HOLIDAY\" : \"category\"    \n",
    "    ,\"SCOLAR_HOLIDAY\" : \"category\"     \n",
    "    ,\"ISLAM_EVENT\" : \"category\"    \n",
    "    ,\"TEMPERATURE\" : \"float16\"\n",
    "    ,\"HUMIDITY\" : \"float16\"\n",
    "} # reduce memory consumption\n",
    "myData = pd.read_csv(csv_path+\"Updated_Data_3.csv\",header=0,engine='c',index_col=[0],dtype=types)\n",
    "myData=myData.drop(myData.columns[0],axis=1)\n",
    "myData.head()"
   ]
  },
  {
   "cell_type": "markdown",
   "metadata": {},
   "source": [
    "### List all the Regions and their sectors Then their itinerary"
   ]
  },
  {
   "cell_type": "code",
   "execution_count": 8,
   "metadata": {},
   "outputs": [],
   "source": [
    "regions = myData[[\"SECTOR NAME\",\"REGION NAME\"]].drop_duplicates()\n",
    "sectorDict = { region.upper() : [sector for sector in regions[regions[\"REGION NAME\"]==region][\"SECTOR NAME\"]] for region in set(regions[\"REGION NAME\"].tolist())}"
   ]
  },
  {
   "cell_type": "code",
   "execution_count": 47,
   "metadata": {},
   "outputs": [],
   "source": [
    "sectors = myData[[\"SECTOR NAME\",\"ITINERARY_NAME\",\"DAYWEEK\"]].drop_duplicates()\n",
    "itiDict = { sector : {itinerary : [ day for day in set(sectors[sectors[\"ITINERARY_NAME\"]==itinerary][\"DAYWEEK\"].tolist())] for itinerary in set(sectors[sectors[\"SECTOR NAME\"]==sector][\"ITINERARY_NAME\"].tolist())} for sector in set(sectors[\"SECTOR NAME\"].tolist())}"
   ]
  },
  {
   "cell_type": "code",
   "execution_count": 49,
   "metadata": {
    "scrolled": false
   },
   "outputs": [
    {
     "name": "stdout",
     "output_type": "stream",
     "text": [
      "JIJEL  :\n",
      "\t SARL JGOAA  :\n",
      "\t\t - DIM/MER, village moussa\t\t5, 6, 0, 2, 1, \n",
      "\t\t - Mercredi, Bounar, Rabta, Belha\t\t6, 3, 0, 2, 1, \n",
      "\t\t -  Mardi, KASSADA/ BARKOUKA.\t\t6, 3, 0, 2, 1, \n",
      "\t\t - Mercredi,TAXANA/ DJIMLA.\t\t4, 6, 3, 0, 2, \n",
      "\t\t - SupÃÂÃÂ©rettes\t\t5, 4, 6, 3, 0, 2, 1, \n",
      "\t\t - Samedi, Taher centre\t\t5, 6, 3, 0, 2, \n",
      "\t\t - Grossistes Milia \t\t5, 6, 3, 0, 2, 1, \n",
      "\t\t - Mardi, casino el mkassab\t\t3, 1, 5, 2, \n",
      "\t\t - Dimanche , zaamouche dakara, b\t\t5, 6, 0, 2, 1, \n",
      "\t\t - Mardi, El anncer, oulad asker,\t\t3, 1, 0, 2, \n",
      "\t\t - Lundi, El Milia 2\t\t6, 1, 0, 2, \n",
      "\t\t - LUN/SAM, camp chevalier 2\t\t5, 6, 3, 0, 2, 1, \n",
      "\t\t - Lundi, Boucherka\t\t5, 6, 0, 2, 1, \n",
      "\t\t - Grossistes Tahir\t\t5, 6, 0, 2, 1, \n",
      "\t\t - Samedi,TASSOUST/HARATHENE.\t\t5, 6, 3, 2, 1, \n",
      "\t\t - CafÃÂÃÂ©tÃÂÃÂ©rias\t\t6, 0, \n",
      "\t\t - MAR/DIM, camp chevalier 1\t\t5, 6, 3, 0, 2, 1, \n",
      "\t\t - Ventes comptoirs\t\t5, 6, 3, 0, 2, 1, \n",
      "\t\t - Mercredi,EL KENNAR/ SIDI AB A\t\t6, 3, 0, 2, 1, \n",
      "\t\t - Grossistes Centre ville\t\t5, 4, 6, 3, 0, 2, 1, \n",
      "\t\t - DimancheZIAMA/AOUANA.\t\t5, 6, 3, 0, 2, 1, \n",
      "\t\t - Samedi,TASSIFT/CHEKFA/BAZOL.\t\t5, 6, 3, 0, 2, 1, \n",
      "\t\t - SAM/MAR, centre ville\t\t5, 6, 3, 0, 2, 1, \n",
      "\t\t - Dimanche, El Milia 1\t\t6, 5, 1, 0, \n",
      "\t\t - Lundi,KAOUS/EL EMIR.\t\t5, 6, 3, 0, 2, 1, \n",
      "\t\t - MER/LUN, Ben achour EkitÃÂÃÂ©\t\t5, 6, 0, 2, 1, \n",
      "\n",
      "--------------------------------------\n",
      "MASCARA  :\n",
      "\t IBRIR NACER  :\n",
      "\t\t - LUNDI,JEUDI, TIGHENIF 01 / MAOUSSA\t\t5, 6, 3, 0, 2, 1, \n",
      "\t\t - JEUDI, LUNDI, SIG 03 / ZAHANA\t\t5, 6, 3, 0, 2, 1, \n",
      "\t\t - MARDI,SAMEDI, EL BORDJ / MAMOUNIA\t\t5, 4, 0, 2, 1, \n",
      "\t\t - MERCREDI,DIMANCHE, TIGHENIF 02 / MATMOUR / SIDI KADA\t\t6, 3, 0, 2, 1, \n",
      "\t\t - GROSSISTES\t\t5, 4, 6, 3, 0, 2, 1, \n",
      "\t\t - MERCREDI, DIMANCHE, SIG 02\t\t5, 6, 3, 0, 2, 1, \n",
      "\t\t - DIMANCHE, MERCREDI, MASCARA 02\t\t5, 6, 3, 0, 2, 1, \n",
      "\t\t - DIMANCHE,MERCREDI, MOHAMMADIA 02\t\t5, 6, 0, 2, 1, \n",
      "\t\t - MARDI, SAMEDI, SIG 01\t\t5, 4, 6, 3, 0, 2, 1, \n",
      "\t\t - SAMEDI, MARDI, MASCARA 01\t\t5, 6, 3, 0, 2, 1, \n",
      "\t\t - JEUDI,LUNDI, BOUHNIFIA / GHRISS / TAGHIA\t\t6, 3, 0, 2, 1, \n",
      "\t\t - SAMEDI, MARDI,MOHAMMADIA 01\t\t5, 4, 6, 3, 0, 2, 1, \n",
      "\t\t - LUNDI, JEUDI, MASCARA 03\t\t5, 6, 3, 0, 2, 1, \n",
      "\n",
      "--------------------------------------\n",
      "BLIDA  :\n",
      "\t HADDAD ZAHIR  :\n",
      "\t\t - Jeu/Lun, Blida 8\t\t5, 6, 3, 0, 2, 1, \n",
      "\t\t - Jeu/Lun, Beni Merad 2\t\t5, 4, 6, 3, 0, 2, 1, \n",
      "\t\t - Mer/Dim, Beni Tamou 1\t\t6, 3, 0, 2, 1, \n",
      "\t\t - Mar/Sam, Blida 4\t\t5, 6, 3, 0, 2, 1, \n",
      "\t\t - Mar/Sam, Guerouaou\t\t5, 4, 6, 3, 0, 2, 1, \n",
      "\t\t - Lun/Jeu, El Affroune 1\t\t5, 4, 6, 3, 0, 2, 1, \n",
      "\t\t - CafÃÂÃÂ©tÃÂÃÂ©ria\t\t5, 6, 3, 0, 2, 1, \n",
      "\t\t - Lun/Jeu, Blida 3\t\t5, 6, 3, 0, 2, 1, \n",
      "\t\t - Mar/Sam, El Affoune 2\t\t5, 4, 6, 3, 0, 2, 1, \n",
      "\t\t - Grossistes\t\t5, 4, 6, 3, 0, 2, 1, \n",
      "\t\t - Mer/Dim, Beni Merad 1\t\t5, 6, 3, 0, 2, 1, \n",
      "\t\t - Dim/Mer, Blida 2\t\t5, 6, 3, 0, 2, 1, \n",
      "\t\t - Sam/Mar, O.Aiche 1\t\t5, 6, 3, 0, 2, 1, \n",
      "\t\t - Dim/Mer, Mouzaia\t\t5, 6, 3, 0, 2, 1, \n",
      "\t\t - Sam/Mar, Cheffa\t\t5, 4, 6, 3, 0, 2, 1, \n",
      "\t\t - Mar/Sam, O.Aiche 4\t\t5, 4, 6, 3, 0, 2, 1, \n",
      "\t\t - Lun/Jeu, O.Aiche 3\t\t5, 6, 3, 0, 2, 1, \n",
      "\t\t - Mer/Dim, Blida 5\t\t5, 6, 3, 0, 2, 1, \n",
      "\t\t - Jeu/Lun, Ben Chaabane / Ben Hamd\t\t5, 6, 3, 0, 2, 1, \n",
      "\t\t - Ventes depÃÂÃÂ´t\t\t5, 4, 6, 3, 0, 2, 1, \n",
      "\t\t - Jeu/Lun, Blida 6\t\t5, 6, 3, 0, 2, 1, \n",
      "\t\t - Mer/Dim, Oued El Allaieg\t\t5, 6, 3, 0, 2, 1, \n",
      "\t\t - Mer/Dim, Blida 7\t\t5, 6, 3, 0, 2, 1, \n",
      "\t\t - Dim/Mer, O.Aiche 2\t\t5, 6, 3, 0, 2, 1, \n",
      "\t\t - Sam/Mar, Blida 1\t\t5, 6, 3, 0, 2, 1, \n",
      "\t\t - Jeu/Lun, Beni Tamou 2\t\t5, 6, 3, 0, 2, 1, \n",
      "\t\t - Lun/Jeu, Bouinane\t\t5, 6, 3, 0, 2, 1, \n",
      "\n",
      "--------------------------------------\n",
      "TAMANRASSET  :\n",
      "\t TAMANRASSET  :\n",
      "\t\t - Mechwen\t\t6, \n",
      "\n",
      "--------------------------------------\n",
      "AIN DEFLA  :\n",
      "\t EURL ADEMLAIT-AIN DEFLA  :\n",
      "\t\t - Mercredi, Boumedfaa / Hammam Righa\t\t5, 6, 3, 0, 2, 1, \n",
      "\t\t - Mardi/Samedi, El Attaf\t\t5, 6, 3, 0, 2, 1, \n",
      "\t\t - Mercredi/Dimanche, Khemis 03\t\t5, 6, 3, 0, 2, 1, \n",
      "\t\t - Dimanche/Mardi, Sidi lakhdar/Djelida\t\t5, 6, 3, 0, 2, 1, \n",
      "\t\t - Mardi/Samedi, Meliana 02\t\t5, 6, 3, 0, 2, 1, \n",
      "\t\t - Samedi, Bir Ouled khelifa / El Amir\t\t5, 6, 3, 0, 2, 1, \n",
      "\t\t - Lundi/Mercredi, Meliana 01\t\t5, 6, 3, 0, 2, 1, \n",
      "\t\t - Samedi/Lundi, Khemis 01\t\t5, 6, 3, 0, 2, 1, \n",
      "\t\t - Dimanche, Djendel /Ain Soltane\t\t5, 6, 0, 2, 1, \n",
      "\t\t - Mardi, Abadia / El Amra\t\t5, 6, 3, 0, 2, 1, \n",
      "\t\t - Grossistes\t\t5, 4, 6, 3, 0, 2, 1, \n",
      "\t\t - Lundi/Mercredi, Ain Defla 02\t\t5, 6, 3, 0, 2, 1, \n",
      "\t\t - Samedi/Lundi, Ain Defla 01\t\t5, 6, 3, 0, 2, 1, \n",
      "\t\t - Mercredi/Dimanche, Ain Defla 03\t\t5, 6, 3, 0, 2, 1, \n",
      "\t\t - Dimanche/Mardi, Khemis 02\t\t5, 6, 3, 0, 2, 1, \n",
      "\t\t - Lundi, Bourached/ Rouina\t\t5, 6, 3, 0, 2, 1, \n",
      "\n",
      "--------------------------------------\n",
      "RELIZANE  :\n",
      "\t BOURZIG BOUZIANE  :\n",
      "\t\t - Mercredi, Al Bayadh 5\t\t5, 6, 3, 0, 2, 1, \n",
      "\t\t - Jeudi, Ain sefra 6\t\t3, 1, 5, 0, \n",
      "\t\t - Lundi, Al Bayadh 3\t\t5, 6, 3, 0, 2, 1, \n",
      "\t\t - Mardi, Al Bayadh 4\t\t5, 6, 3, 0, 2, 1, \n",
      "\t\t - Mercredi, Mechria 5\t\t5, 6, 3, 0, 2, 1, \n",
      "\t\t - Dimanche, Mechria 2\t\t6, \n",
      "\t\t - Dimanche, Bougtob/Kheiter\t\t5, 6, 3, 0, 1, \n",
      "\t\t - Samedi, Mechria 1\t\t5, 4, 6, 3, 0, 2, 1, \n",
      "\t\t - Mardi, Ain sefra 4\t\t5, 6, 3, 0, 2, 1, \n",
      "\t\t - Mardi, Mechria 4\t\t5, 4, 6, 3, 0, 2, 1, \n",
      "\t\t - Lundi,Mechria 3\t\t5, 3, 0, 2, 1, \n",
      "\t\t - Jeudi, Al Bayadh 6\t\t5, 4, 6, 3, 0, 2, 1, \n",
      "\t\t - Samedi, Al Bayadh 1\t\t5, 4, 6, 3, 0, 2, 1, \n",
      "\t\t - Dimanche, Ain sefra 2\t\t5, 6, 3, 0, 2, 1, \n",
      "\t\t - Jeudi, Mechria 6\t\t5, 6, 3, 0, 2, 1, \n",
      "\t\t - Lundi, Ain sefra 3\t\t5, 6, 3, 0, 2, 1, \n",
      "\t\t - Samedi, Ain sefra 1\t\t5, 4, 6, 3, 0, 2, 1, \n",
      "\t\t - Mercredi, Ain Sefra 5\t\t5, 6, 3, 0, 2, 1, \n",
      "\n",
      "\t IBRIR FAROUK  :\n",
      "\t\t - Mardi, R'NOU\t\t5, 6, 0, 2, 1, \n",
      "\t\t - Dimanche, Relizane 02\t\t5, 6, 3, 0, 2, 1, \n",
      "\t\t - Samedi, Relizane 01\t\t5, 6, 3, 0, 2, 1, \n",
      "\t\t - Mercredi, Mendes / Oued Slam\t\t0, 2, \n",
      "\t\t - Dimanche, Oued Rhiou 02\t\t6, 3, 5, 0, \n",
      "\t\t - Lundi, Relizane 03\t\t5, 6, 3, 0, 2, 1, \n",
      "\t\t - Lundi, Mediouna Ouarizen\t\t5, 6, 3, 0, 2, 1, \n",
      "\t\t - Dimanche, Zemmoura / Oued Djem\t\t5, 6, 0, 2, 1, \n",
      "\t\t - Grossistes\t\t5, 4, 6, 3, 0, 2, 1, \n",
      "\t\t - Mardi, Relizane 04\t\t5, 6, 0, 2, 1, \n",
      "\t\t - Samedi, Yellal / Matmar\t\t5, 6, 3, 0, 2, 1, \n",
      "\t\t - Mardi, Ammi Moussa / Lahlef\t\t6, 3, 0, 2, 1, \n",
      "\t\t - Mercredi, Sidi Khetab\t\t2, \n",
      "\t\t - Lundi, Hemadna / Djediouia\t\t5, 6, 3, 0, 2, 1, \n",
      "\t\t - Mercredi, Relizane 05\t\t5, 6, 3, 0, 2, 1, \n",
      "\t\t - Samedi, Oued Rhiou 01\t\t5, 6, 3, 0, 2, 1, \n",
      "\t\t - Mercredi, Mazouna / El Guettar\t\t5, 6, 3, 0, 2, 1, \n",
      "\n",
      "--------------------------------------\n",
      "OUM EL BOUAGHI  :\n",
      "\t BOUCHAKOUR RAFIK  :\n",
      "\t\t - Dimanche/Mercredi,Oum El Bouaghi 02\t\t5, 6, 3, 0, 2, 1, \n",
      "\t\t - Mardi/Samedi, Ain Beida 04\t\t5, 4, 6, 3, 0, 2, 1, \n",
      "\t\t - Jeudi 01/Lundi 01, Fkirina Ber\t\t6, 3, 0, \n",
      "\t\t - Dimanche/Mercredi, Ain Mlila 02\t\t5, 4, 6, 3, 0, 2, 1, \n",
      "\t\t - Samedi/Mardi, Ain Mlila 01 \t\t5, 4, 6, 3, 0, 2, 1, \n",
      "\t\t - Mercredi/Dimanche, Oum El Boua\t\t6, 3, 1, 2, \n",
      "\t\t - Lundi/Jeudi, Oum El Bouaghi 04\t\t3, 1, 0, 2, \n",
      "\t\t - Mercredi/Dimanche, Meskiana 02\t\t6, 5, 1, 2, \n",
      "\t\t - Jeudi/Lundi, Ain Babouche Ksar Sbihi\t\t3, 1, 0, 2, \n",
      "\t\t - Dimanche/Mercredi, Ain Beida 0\t\t5, 4, 6, 3, 0, 2, 1, \n",
      "\t\t - Mardi/Samedi, Dhallaa Maskiana 01\t\t5, 4, 6, 2, 1, \n",
      "\t\t - Gros Chaib Rassou\t\t5, 4, 6, 3, 0, 2, 1, \n",
      "\t\t - Lundi/Jeudi, Oum el Bouaghi 03\t\t5, 6, 3, 0, 2, 1, \n",
      "\t\t - Mercredi/Dimanche, Ain Kercha 01\t\t6, 3, 0, 2, 1, \n",
      "\t\t - Samedi/Mardi, Oum El Bouaghi 01 \t\t5, 4, 6, 0, 2, 1, \n",
      "\t\t - Jeudi/Lundi, Ain Kercha 01, Fourchi,\t\t5, 6, 3, 0, 2, \n",
      "\t\t - Samedi/Mardi, Ain Fekroun 01\t\t5, 4, 6, 0, 2, 1, \n",
      "\t\t - Lundi/Jeudi, Ain Mlila 03\t\t5, 6, 3, 0, 2, 1, \n",
      "\t\t - Samedi/Mardi, Ain Beida 01 \t\t5, 6, 3, 0, 2, 1, \n",
      "\t\t - Mardi/Samedi, Oum El Bouaghi 0\t\t5, 6, 0, 2, 1, \n",
      "\t\t - Jeudi 02/Lundi 02, Hanchir Sou\t\t3, 1, 0, \n",
      "\t\t - Jeudi/Lundi, Sigus, Ouled Rahm\t\t3, 1, 0, 2, \n",
      "\t\t - Lundi/Jeudi, Ain Beida 03\t\t5, 6, 3, 0, 2, 1, \n",
      "\t\t - Grossistes \t\t5, 4, 6, 3, 0, 2, 1, \n",
      "\t\t - Mardi/Samedi, Ain Mlila 04, Berteaux\t\t5, 4, 6, 3, 0, 2, 1, \n",
      "\t\t - Dimanche/Mercredi, Ain Fekroun\t\t5, 6, 3, 0, 2, 1, \n",
      "\t\t - Mercredi/Dimanche, Ain Beida 0\t\t5, 6, 3, 0, 2, 1, \n",
      "\n",
      "--------------------------------------\n",
      "BISKRA  :\n",
      "\t EURL GOUBAA DISTRIBUTION  :\n",
      "\t\t - MAR/SAM, Ancienne ville (Biskra)\t\t5, 6, 3, 0, 2, 1, \n",
      "\t\t - Samedi, Sidi ghezzal/Remaiche \t\t5, 4, 6, 3, 0, 2, 1, \n",
      "\t\t - Mardi, Laghrous\t\t3, 1, 0, 2, \n",
      "\t\t - Jeudi, Z'gag Ben Ramdane (Bisk\t\t5, 4, 6, 3, 0, 2, 1, \n",
      "\t\t - MER/DIM, Tolga 3\t\t5, 4, 6, 3, 0, 2, 1, \n",
      "\t\t - LUN/JEU, Alia 3 (Biskra)\t\t5, 6, 3, 0, 2, 1, \n",
      "\t\t - Dimanche, El course 2 \t\t6, 3, 0, 2, \n",
      "\t\t - JEU/LUN, El kantara\t\t5, 6, 3, 0, 2, \n",
      "\t\t - MAR/SAM, Dhalaa (Biskra)\t\t5, 4, 6, 3, 0, 2, 1, \n",
      "\t\t - Mercredi, Oumache/Mlili/Ourell\t\t6, 1, 0, 2, \n",
      "\t\t - Dimanche, Doucen/Bir naam\t\t6, 5, 1, 0, \n",
      "\t\t - Jeudi, Lichana/Bouchagroune/El\t\t5, 6, 3, 0, 2, 1, \n",
      "\t\t - MER/DIM, Hai el moudjahidine \t\t5, 4, 6, 3, 0, 2, 1, \n",
      "\t\t - Dimanche, Zeribete el oued\t\t5, 6, 3, 0, 2, 1, \n",
      "\t\t - DIM/MER, Sidi Okba 2\t\t6, 5, 0, 2, \n",
      "\t\t - Mardi, M'sala/lamsid (Biskra)\t\t5, 6, 3, 0, 2, 1, \n",
      "\t\t - Mercredi, Foughala/ BBA\t\t6, 3, 0, 2, 1, \n",
      "\t\t - DIM/MER, Alia 2 (Biskra)\t\t5, 6, 3, 0, 2, 1, \n",
      "\t\t - MER/DIM, Alia 4 (Biskra)\t\t5, 6, 3, 0, 2, 1, \n",
      "\t\t - Samedi, Oueled Djellel 1\t\t6, 5, 3, 0, \n",
      "\t\t - Samedi, M'chouneche/Droh\t\t6, 5, 3, \n",
      "\t\t - LUN/JEU, Cite les 1000 logts (Bi\t\t5, 6, 3, 0, 2, 1, \n",
      "\t\t - SAM/MAR, Sidi Okba 1\t\t6, 5, 1, 2, \n",
      "\t\t - Grossistes 1 (Biskra)\t\t5, 4, 6, 3, 0, 2, 1, \n",
      "\t\t - Mardi, Sidi khaled 2\t\t1, 0, 2, \n",
      "\t\t - JEU/LUN, Cite 700 logts (Biskra)\t\t5, 6, 3, 0, 2, 1, \n",
      "\t\t - Lundi, Ain naga, Mziea \t\t6, 1, 0, 2, \n",
      "\t\t - Jeudi, Branis/Guedilla/Djemour\t\t3, 2, \n",
      "\t\t - Mercredi, El boukhari/ El hawz\t\t5, 6, 3, 0, 2, 1, \n",
      "\t\t - SAM/MAR, Haret el oued (Biskra)\t\t5, 4, 6, 3, 0, 2, 1, \n",
      "\t\t - LUN/JEU, Tolga 1\t\t5, 3, 0, 2, 1, \n",
      "\t\t - MAR/SAM, Tolga 2\t\t5, 4, 6, 3, 0, 2, 1, \n",
      "\t\t - SAM/MAR, Alia 1 (Biskra)\t\t5, 6, 3, 0, 2, 1, \n",
      "\t\t - Lundi, Sidi khaled 1\t\t6, 1, 0, \n",
      "\t\t - JEU/LUN, Chetema (Biskra)\t\t5, 6, 3, 0, 2, 1, \n",
      "\t\t - DIM/MER, El course (Biskra)\t\t5, 4, 6, 3, 0, 2, 1, \n",
      "\t\t - Grossistes 2 \t\t5, 6, 3, 0, 2, 1, \n",
      "\t\t - Lundi, Oueled Djellel 3\t\t5, 6, 3, 0, 2, 1, \n",
      "\t\t - Dimanche, Oueled Djellel 2\t\t5, 6, 3, 0, 2, \n",
      "\n",
      "--------------------------------------\n",
      "ALGER  :\n",
      "\t MD CHERIF SAMIR  :\n",
      "\t\t - Sam/Mar, Boufarik 1\t\t5, 6, 3, 0, 2, 1, \n",
      "\t\t - Lun/Sam, Boufarik 3\t\t5, 6, 3, 0, 2, 1, \n",
      "\t\t - Mer/Lun, Soummaa 2\t\t5, 6, 3, 0, 2, 1, \n",
      "\t\t - Sam/Mar, Larabaa 1\t\t5, 4, 6, 3, 0, 2, 1, \n",
      "\t\t - Mer/Lun, Beraki 5\t\t5, 6, 3, 0, 2, 1, \n",
      "\t\t - Grossistes\t\t5, 4, 6, 3, 0, 2, 1, \n"
     ]
    },
    {
     "name": "stdout",
     "output_type": "stream",
     "text": [
      "\t\t - Mar/Dim, Bougara 1\t\t5, 4, 6, 3, 0, 2, 1, \n",
      "\t\t - Lun/Sam, Ouled Chbel 2\t\t5, 6, 0, 2, 1, \n",
      "\t\t - Mar/Dim, Boufarik 4\t\t5, 6, 3, 0, 2, 1, \n",
      "\t\t - Sam/Mar, Beraki 1\t\t5, 4, 6, 3, 0, 2, 1, \n",
      "\t\t - Dim/Mer, Beraki 2\t\t5, 4, 6, 3, 0, 2, 1, \n",
      "\t\t - Lun/Sam, Beraki 3\t\t5, 6, 3, 0, 2, 1, \n",
      "\t\t - Mar/Dim, Kheraicia\t\t5, 6, 3, 0, 2, 1, \n",
      "\t\t - Mer/Lun, Soumaa 1\t\t5, 6, 3, 0, 2, 1, \n",
      "\t\t - Mer/Lun, Bougara 2\t\t6, 5, 0, 2, \n",
      "\t\t - Dim/Mer, Ouled Chebel 1\t\t5, 6, 3, 0, 2, 1, \n",
      "\t\t - Dim/Mer, Boufarik 2\t\t5, 6, 3, 0, 2, 1, \n",
      "\t\t - Sam/Mar, Bir Touta\t\t5, 6, 3, 0, 2, 1, \n",
      "\t\t - Dim/Mer, Larabaa 2\t\t5, 4, 6, 3, 0, 2, 1, \n",
      "\t\t - Mar/Dim, Beraki 4\t\t5, 4, 6, 3, 0, 2, 1, \n",
      "\t\t - Lun/Sam, Larabaa 3\t\t5, 6, 0, 2, 1, \n",
      "\n",
      "\t IBRIR SLIMANE  :\n",
      "\t\t - Lun/Sam, Alger Centre 3\t\t5, 4, 6, 3, 0, 2, 1, \n",
      "\t\t - Mer/Lun, Alger Centre 5\t\t5, 6, 0, 2, 1, \n",
      "\t\t - Dim/Mer, Bab El Oued 2\t\t5, 6, 0, 2, 1, \n",
      "\t\t - SupÃÂÃÂ©rettes\t\t5, 4, 6, 3, 0, 2, 1, \n",
      "\t\t - Lun/Sam, Sidi M'hamed 3\t\t5, 6, 3, 0, 2, 1, \n",
      "\t\t - Lun/Sam, Bab El Oued 3\t\t5, 6, 3, 0, 2, 1, \n",
      "\t\t - Sam/Mar, Bab El Oued 1\t\t5, 6, 3, 0, 2, 1, \n",
      "\t\t - Dim/Mer, Sidi M'hamed 2\t\t5, 6, 0, 2, 1, \n",
      "\t\t - Dim/Mer, Alger Centre 2\t\t5, 6, 0, 2, 1, \n",
      "\t\t - Mer/Lun, Sidi M'hamed 5\t\t5, 6, 3, 0, 2, 1, \n",
      "\t\t - Sam/Mar, Hdey 1\t\t5, 6, 3, 0, 2, 1, \n",
      "\t\t - Mar/Dim, Bab El Oued 4\t\t5, 6, 3, 0, 2, 1, \n",
      "\t\t - Mar/Dim, Alger Centre 4\t\t5, 4, 6, 3, 0, 2, 1, \n",
      "\t\t - Lun/Sam, Hdey 3\t\t5, 6, 3, 0, 2, 1, \n",
      "\t\t - Lun/Sam, Alger Centre 6\t\t5, 6, 3, 0, 2, 1, \n",
      "\t\t - Sam/Mar, Oued Koreich 1\t\t5, 6, 3, 0, 2, 1, \n",
      "\t\t - Mar/Dim, Sidi M'hamed 4\t\t5, 6, 3, 0, 2, 1, \n",
      "\t\t - Mar/Dim, Hdey 4\t\t5, 6, 3, 0, 2, 1, \n",
      "\t\t - Sam/Mar, Sidi M'hamed 1\t\t5, 6, 3, 0, 2, 1, \n",
      "\t\t - Mer/Lun, Bab El Oued 5\t\t5, 6, 0, 2, 1, \n",
      "\t\t - Mer/Lun, El Biar Soir\t\t5, 6, 0, 2, 1, \n",
      "\t\t - Mer/Lun, Hdey 5\t\t5, 6, 3, 0, 2, 1, \n",
      "\t\t - Grossistes IN\t\t5, 6, 3, 0, 2, 1, \n",
      "\t\t - Dim/Mer, Hdey 2\t\t5, 6, 3, 0, 2, 1, \n",
      "\t\t - Sam/Mar, Alger Centre 1\t\t5, 4, 6, 3, 0, 2, 1, \n",
      "\t\t - Dim/Mer, Oued Koreich 2\t\t5, 6, 3, 0, 2, 1, \n",
      "\t\t - Mar/Dim, Alger Centre 7\t\t5, 6, 3, 0, 2, 1, \n",
      "\n",
      "\t IBRIR ABDELHAK  :\n",
      "\t\t - Sam/Mar, Berdj El Kiffan 1\t\t5, 4, 6, 3, 0, 2, 1, \n",
      "\t\t - Ventes dÃÂÃÂ©pÃÂÃÂ´t\t\t5, 4, 6, 3, 0, 2, 1, \n",
      "\t\t - Lun/Jeu, Eucalyptus 3\t\t5, 4, 6, 3, 0, 2, 1, \n",
      "\t\t - Jeu/Lun, El Hamiz 2\t\t5, 4, 6, 3, 0, 2, 1, \n",
      "\t\t - Jeu/Lun, Dergana 3\t\t5, 4, 6, 3, 0, 2, 1, \n",
      "\t\t - Sam/Mar, El Hamiz 1\t\t5, 4, 6, 3, 0, 2, 1, \n",
      "\t\t - Mar/Sam, Berdj El Kiffan 4\t\t5, 4, 6, 3, 0, 2, 1, \n",
      "\t\t - Sam/Mar, Dar El Beida 1\t\t5, 4, 6, 3, 0, 2, 1, \n",
      "\t\t - Mer/Dim, Ain Taya 2\t\t5, 4, 6, 3, 0, 2, 1, \n",
      "\t\t - Lun/Jeu, Rouiba 2\t\t5, 4, 6, 3, 0, 2, 1, \n",
      "\t\t - Dim/Mer, Rouiba 1\t\t5, 6, 3, 0, 2, 1, \n",
      "\t\t - Grossistes IA\t\t5, 4, 6, 3, 0, 2, 1, \n",
      "\t\t - Mer/Dim, Berdj El Kiffan 5\t\t5, 6, 3, 0, 2, 1, \n",
      "\t\t - Jeu/Lun, Berdj El Kiffan 6\t\t5, 4, 6, 3, 0, 2, 1, \n",
      "\t\t - Mer/Dim, Dergana 2\t\t5, 6, 3, 0, 2, 1, \n",
      "\t\t - Lun/Jeu, Berdj El Kiffan 3\t\t5, 4, 6, 3, 0, 2, 1, \n",
      "\t\t - Lun/Jeu, Berdj El Behri 3\t\t5, 4, 6, 3, 0, 2, 1, \n",
      "\t\t - Jeu/Lun, Sidi Moussa 1\t\t5, 4, 6, 3, 0, 2, 1, \n",
      "\t\t - Mar/Sam, Ain Taya 1\t\t5, 4, 6, 3, 0, 2, 1, \n",
      "\t\t - Dim/Mer, Eucalyptus 2\t\t5, 4, 6, 3, 0, 2, 1, \n",
      "\t\t - CafÃÂÃÂ©tÃÂÃÂ©rias\t\t6, 0, \n",
      "\t\t - Mer/Dim, Eucalyptus 5\t\t5, 6, 3, 0, 2, 1, \n",
      "\t\t - Mer/Dim, El Mersa\t\t5, 6, 3, 0, 2, 1, \n",
      "\t\t - Mar/Sam, Berdj El Behri 4\t\t5, 4, 6, 3, 0, 2, 1, \n",
      "\t\t - Mar/Sam, Dergana 1\t\t5, 4, 6, 3, 0, 2, 1, \n",
      "\t\t - Sam/Mar, Berdj El Behri 1\t\t5, 4, 6, 3, 0, 2, 1, \n",
      "\t\t - Jeu/Lun, Sidi Moussa 2\t\t5, 4, 6, 3, 0, 2, 1, \n",
      "\t\t - Lun/Jeu, Dar El Beida 3\t\t5, 6, 3, 0, 2, 1, \n",
      "\t\t - Sam/Mar, Eucalyptus 1\t\t5, 4, 6, 3, 0, 2, 1, \n",
      "\t\t - Dim/Mer, Dar El Beida 2\t\t5, 6, 3, 0, 2, 1, \n",
      "\t\t - Mar/Sam, Eucalyptus 4\t\t5, 4, 6, 3, 0, 2, 1, \n",
      "\t\t - Dim/Mer, Berdj El Kiffan 2\t\t5, 4, 6, 3, 0, 2, 1, \n",
      "\t\t - Dim/Mer, Berdj El Behri 2\t\t5, 6, 3, 0, 2, 1, \n",
      "\n",
      "\t EURL MILK SODA FOOD  :\n",
      "\t\t - Dim/Mer, Belouizdad 2\t\t5, 6, 3, 0, 2, 1, \n",
      "\t\t - Ventes dÃÂÃÂ©pÃÂÃÂ´t\t\t5, 4, 6, 3, 0, 2, 1, \n",
      "\t\t - Sam/Mar, Kouba 1\t\t5, 6, 3, 0, 2, 1, \n",
      "\t\t - Dim/Mer, Saoula 2\t\t5, 6, 3, 0, 2, 1, \n",
      "\t\t - Mer/Lun, Bach Djarah 2\t\t5, 6, 3, 0, 2, 1, \n",
      "\t\t - Mer/Lun, El Harache 3\t\t5, 6, 3, 0, 2, 1, \n",
      "\t\t - Lun/Sam, El Harache 1\t\t5, 6, 3, 0, 2, 1, \n",
      "\t\t - Dim/Mer, Bab Ezzouar 2\t\t5, 6, 3, 0, 2, 1, \n",
      "\t\t - Lun/Sam, Bab Ezzouar 3\t\t5, 4, 6, 3, 0, 2, 1, \n",
      "\t\t - Mer/Lun, GuÃÂÃÂ© de constantine 2\t\t5, 6, 3, 0, 2, 1, \n",
      "\t\t - Samedi, Bir Khadem 1\t\t5, 4, 6, 3, 0, 2, 1, \n",
      "\t\t - Mar/Dim, El Harache 2\t\t5, 6, 3, 0, 2, 1, \n",
      "\t\t - Samedi, Draria 1\t\t5, 4, 6, 3, 0, 2, 1, \n",
      "\t\t - Lundi, Kouba 1\t\t5, 6, 3, 0, 2, 1, \n",
      "\t\t - Dim/Mer, Kouba 2\t\t5, 6, 0, 2, 1, \n",
      "\t\t - Mercredi, Draria 2\t\t5, 6, 3, 0, 2, 1, \n",
      "\t\t - Dimanche, El Achour\t\t5, 4, 6, 3, 0, 2, 1, \n",
      "\t\t - Mer/Lun, Bab Ezzouar 6\t\t5, 6, 3, 0, 2, 1, \n",
      "\t\t - Sam/Mar, Ain Naadja 1\t\t5, 4, 6, 3, 0, 2, 1, \n",
      "\t\t - Mer/Lun, Bab Ezzouar 5\t\t5, 4, 6, 3, 0, 2, 1, \n",
      "\t\t - Mer/Luni, Bir Khadem 5\t\t5, 6, 3, 0, 2, 1, \n",
      "\t\t - Dim/Mer, Ain Naadja 2\t\t5, 4, 6, 3, 0, 2, 1, \n",
      "\t\t - Mardi, Baba Hacene / Saoula\t\t5, 6, 3, 0, 2, 1, \n",
      "\t\t - Lun/Sam, Ain Naadja 3\t\t5, 4, 6, 3, 0, 2, 1, \n",
      "\t\t - Lun/Sam, Saoula 3\t\t5, 6, 3, 0, 2, 1, \n",
      "\t\t - Sam/Mar, Belouizdad 1\t\t5, 6, 3, 0, 2, 1, \n",
      "\t\t - Lun/Sam, Oued Semmar\t\t5, 6, 0, 2, 1, \n",
      "\t\t - Grossistes MSF 3\t\t5, 4, 6, 3, 0, 2, 1, \n",
      "\t\t - Sam/Mar, Bab Ezzouar 1\t\t5, 6, 3, 0, 2, 1, \n",
      "\t\t - Lun/Sam, Kouba 3\t\t5, 6, 3, 0, 2, 1, \n",
      "\t\t - Sam/Mar, Saoula 1\t\t5, 6, 3, 0, 2, 1, \n",
      "\t\t - Mar/Dim, Bir Khadem 4\t\t5, 4, 6, 3, 0, 2, 1, \n",
      "\t\t - Lundi, Larebaa / Ouled Chebel\t\t5, 4, 6, 3, 0, 2, 1, \n",
      "\t\t - Grossistes MSF 1\t\t5, 4, 6, 3, 0, 2, 1, \n",
      "\t\t - Mar/Dim, GuÃÂÃÂ© de constantine 1\t\t5, 6, 3, 0, 2, 1, \n",
      "\t\t - Mardi, Bir Khadem 2\t\t5, 6, 3, 0, 2, 1, \n",
      "\t\t - Grossistes MSF 4\t\t5, 4, 6, 3, 0, 2, 1, \n",
      "\t\t - Grossistes MSF 2\t\t5, 4, 6, 3, 0, 2, 1, \n",
      "\t\t - Mer/Lun, Kouba 5\t\t5, 6, 3, 0, 2, 1, \n",
      "\t\t - Dim/Mer. Bir Khadem 2\t\t5, 4, 6, 3, 0, 2, 1, \n",
      "\t\t - Lun/Sam, Bir Khadem 3\t\t5, 4, 6, 3, 0, 2, 1, \n",
      "\t\t - Mar/Dim, Bab Ezzouar 4\t\t5, 6, 3, 0, 2, 1, \n",
      "\t\t - Mar/Dim, Bourouba\t\t5, 6, 3, 0, 2, 1, \n",
      "\t\t - Mar/Dim, Bach Djarah 1\t\t5, 6, 3, 0, 2, 1, \n",
      "\t\t - Sam/Mar, Bir Khadem 1\t\t5, 4, 6, 3, 0, 2, 1, \n",
      "\t\t - Dimanche, Mouhammadia\t\t5, 6, 3, 0, 2, 1, \n",
      "\t\t - Mercredi, Kouba 2\t\t5, 4, 6, 3, 0, 2, 1, \n",
      "\t\t - Mar/Dim, Kouba 4\t\t5, 6, 3, 0, 2, 1, \n",
      "\t\t - Dim/Mer, El Mohammadia 2\t\t5, 6, 3, 0, 2, 1, \n",
      "\t\t - Sam/Mar, El Mohammadia 1\t\t5, 4, 6, 3, 0, 2, 1, \n",
      "\n",
      "\t IBRIR LARBI ALGER  :\n",
      "\t\t - Dim/Mer, Cheraga 2\t\t5, 6, 0, 2, 1, \n",
      "\t\t - Sam/Mar, Staoueli 1\t\t5, 6, 3, 0, 2, 1, \n",
      "\t\t - Mer/Lun, Mahelma\t\t5, 6, 3, 0, 2, 1, \n",
      "\t\t - Mar/Dim, Souidania\t\t5, 6, 3, 0, 2, 1, \n",
      "\t\t - Mar / Sam  Draria 2\t\t5, 6, 3, 0, 2, 1, \n",
      "\t\t - Superettes\t\t5, 6, 0, 2, 1, \n",
      "\t\t - Sam / Lun El Achour 1\t\t5, 4, 6, 3, 0, 2, 1, \n",
      "\t\t - Mar/Dim, Baba Hacene 1\t\t5, 4, 6, 3, 0, 2, 1, \n",
      "\t\t - Sam/Mar, Cheraga 1\t\t5, 6, 3, 0, 2, 1, \n",
      "\t\t - Mer / Dim Draria 3\t\t5, 6, 3, 0, 2, 1, \n",
      "\t\t - Mar/Dim, Zeralda 4\t\t5, 6, 3, 0, 2, 1, \n",
      "\t\t - Dim/Mer, Staoueli 2\t\t5, 6, 3, 0, 2, 1, \n",
      "\t\t - Dim/Mer, Douera 2\t\t5, 4, 6, 3, 0, 2, 1, \n",
      "\t\t - Lun/Sam, Zeralda 3\t\t5, 6, 3, 0, 2, 1, \n",
      "\t\t - Lun/Sam, Staoueli 3\t\t5, 6, 3, 0, 2, 1, \n",
      "\t\t - Mar/Dim, Cheraga 4\t\t5, 6, 3, 0, 2, 1, \n",
      "\t\t - Mer/Lun, Bellouta / Bouchaoui\t\t5, 6, 3, 0, 2, 1, \n",
      "\t\t - Dim/Mer, Zeralda 2\t\t5, 6, 3, 0, 2, 1, \n",
      "\t\t - Sam/Mar, Douera 1\t\t5, 4, 6, 3, 0, 2, 1, \n",
      "\t\t - Lun/Sam, Tassala el Mardja\t\t5, 4, 6, 3, 0, 2, 1, \n",
      "\t\t - Lun/Sam, Cheraga 3\t\t5, 6, 3, 0, 2, 1, \n",
      "\t\t - Mer/Lun, Chevaley\t\t5, 6, 0, 2, 1, \n",
      "\t\t - Dim /  Mar El Achour 2 / Sebala\t\t5, 6, 0, 2, 1, \n",
      "\t\t - Mer/Lun, Baba Hacene 2\t\t5, 6, 3, 0, 2, 1, \n",
      "\t\t - Lun / Mer Sebala 2 / Draria 1\t\t5, 6, 3, 0, 2, 1, \n",
      "\t\t - Sam/Mar, Zeralda 1\t\t5, 4, 6, 3, 0, 2, 1, \n",
      "\n",
      "\t EURL CANDILAIT  :\n",
      "\t\t - Samedi, El Golf / El Moradia\t\t5, 4, 6, 3, 0, 2, 1, \n",
      "\t\t - Mardi, Ouled Fayet\t\t5, 4, 6, 3, 0, 2, 1, \n",
      "\t\t - Dimanche, Hydra 1\t\t5, 6, 3, 0, 2, 1, \n",
      "\t\t - Dimanche, Ain Benian 2\t\t5, 6, 3, 0, 2, 1, \n",
      "\t\t - Lun/Sam, El Biar 3\t\t5, 6, 0, 2, 1, \n",
      "\t\t - Samedi, Fouka\t\t5, 6, 3, 0, 2, 1, \n",
      "\t\t - Sam/Mar, Bouzareah 1\t\t5, 6, 3, 0, 2, 1, \n",
      "\t\t - Dimanche El Golf / El Madania\t\t5, 6, 0, 2, 1, \n",
      "\t\t - Dim/Mer, El Biar 2\t\t5, 6, 0, 2, 1, \n",
      "\t\t - Lundi, Said Hamdine 3\t\t5, 6, 3, 0, 2, 1, \n",
      "\t\t - Grossistes Candilait 6\t\t5, 6, 3, 0, 2, 1, \n",
      "\t\t - Dimanche, Ain Benian \t\t5, 6, 0, 2, 1, \n",
      "\t\t - Mardi, Hydra 3\t\t5, 6, 3, 0, 2, 1, \n",
      "\t\t - Mar/Dim, Bouzareah 4\t\t5, 6, 3, 0, 2, 1, \n",
      "\t\t - Lundi, Ain Benian 3\t\t5, 6, 3, 0, 2, 1, \n",
      "\t\t - Dim/Mer, Dely Ibrahim 2\t\t5, 6, 0, 2, 1, \n",
      "\t\t - Mercredi, Hammamet\t\t5, 6, 3, 0, 2, 1, \n",
      "\t\t - CafÃÂÃÂ©, Samedi, Hydra/S.Hamdine\t\t6, 5, 0, 2, \n",
      "\t\t - Mardi, Bir Mourad Rais 1 / Les\t\t5, 6, 3, 0, 2, 1, \n",
      "\t\t - Samedi, Val D'Hydra\t\t5, 6, 3, 0, 2, 1, \n",
      "\t\t - Mercredi, Bouzareah \t\t5, 6, 3, 0, 2, 1, \n",
      "\t\t - Mercredi, Hydra 4\t\t5, 6, 3, 0, 2, 1, \n",
      "\t\t - Dimanche, Bousmail 1\t\t5, 6, 3, 0, 2, 1, \n",
      "\t\t - Mer/Lun, Bouzareah 5\t\t5, 6, 0, 2, 1, \n",
      "\t\t - Mer/Lun, Ouled Fayet 2\t\t5, 6, 3, 0, 2, 1, \n",
      "\t\t - Grossistes Candilait 1\t\t5, 4, 6, 3, 0, 2, 1, \n",
      "\t\t - Lun/Sam, Dely Ibrahim 3\t\t5, 6, 3, 0, 2, 1, \n",
      "\t\t - Grossistes Candilait 4\t\t5, 6, 3, 0, 2, 1, \n",
      "\t\t - Mercredi, Bir Mourad Rais 2\t\t5, 6, 3, 0, 2, 1, \n",
      "\t\t - Dim/Mer, Bouzareah 2\t\t5, 6, 0, 2, 1, \n",
      "\t\t - Mardi, Ain Benian 4\t\t5, 6, 3, 0, 2, 1, \n",
      "\t\t - Sam/Mar, El Biar 1\t\t5, 6, 3, 0, 2, 1, \n",
      "\t\t - Mar/Dim, Beni Messous\t\t5, 6, 3, 0, 2, 1, \n",
      "\t\t - Lundi, Kolea\t\t5, 6, 3, 0, 2, 1, \n",
      "\t\t - Mercredi, Dely Ibrahim\t\t5, 6, 0, 2, 1, \n",
      "\t\t - Mer/Lun, Sidi Youcef\t\t5, 6, 3, 0, 2, 1, \n",
      "\t\t - Samedi, Said Hamdine 1\t\t5, 6, 3, 0, 2, 1, \n",
      "\t\t - Sam/Mar, Dely Ibrahim 1\t\t5, 6, 3, 0, 2, 1, \n",
      "\t\t - Grossistes Candilait 2\t\t5, 4, 6, 3, 0, 2, 1, \n",
      "\t\t - Samedi, Ain Benian 1\t\t5, 6, 3, 0, 2, 1, \n",
      "\t\t - Mercredi, Bologhine 3\t\t5, 6, 3, 0, 2, 1, \n",
      "\t\t - Mar/Dim, Ouled Fayet 1\t\t5, 6, 3, 0, 2, 1, \n",
      "\t\t - Mardi, Douaouda\t\t5, 6, 3, 0, 2, 1, \n",
      "\t\t - Dimanche, Said Hamdine 2\t\t5, 6, 3, 0, 2, 1, \n",
      "\t\t - Mardi, Ben Aknoun 1\t\t5, 6, 0, 2, 1, \n",
      "\t\t - CafÃÂÃÂ© Mercredi, KolÃÂÃÂ©a/Bousmail\t\t5, 6, 0, 2, 1, \n",
      "\t\t - Mercredi, Ben Aknoun 2\t\t5, 6, 3, 0, 2, 1, \n",
      "\t\t - Mercredi, Bousmail 2\t\t5, 6, 3, 0, 2, 1, \n",
      "\t\t - Lundi, Hammamet\t\t6, 3, 0, 2, 1, \n",
      "\t\t - Samedi, El Golf\t\t5, 4, 6, 3, 0, 2, 1, \n",
      "\t\t - Mardi, Bologhine 2\t\t5, 6, 3, 0, 2, 1, \n",
      "\t\t - Lun/Sam, Bouzareah 3\t\t5, 6, 3, 0, 2, 1, \n",
      "\t\t - Lundi, El Madania\t\t5, 6, 3, 0, 2, 1, \n",
      "\t\t - Dimanche, Hammamet 2\t\t5, 6, 0, 2, 1, \n",
      "\t\t - Lundi, Bologhine 1\t\t5, 6, 3, 0, 2, 1, \n",
      "\t\t - Dimanche, Bousmail\t\t5, 6, 3, 0, 2, 1, \n",
      "\t\t - Grossistes Candilait 5\t\t5, 6, 3, 0, 2, 1, \n",
      "\t\t - Grossistes Candilait 3\t\t5, 6, 3, 0, 2, 1, \n",
      "\t\t - Lundi, Hydra 2\t\t5, 6, 3, 0, 2, 1, \n",
      "\t\t - Samedi, Hammamet 1\t\t5, 6, 3, 0, 2, 1, \n",
      "\n",
      "--------------------------------------\n",
      "OUARGLA  :\n",
      "\t SARL BATEAU SUD OUAREGLA  :\n",
      "\t\t - 03 Lundi/Jeudi, HMD 03\t\t5, 6, 3, 0, 2, 1, \n",
      "\t\t - 08 Dimanche/Mercredi, Ouargla 02\t\t5, 6, 3, 0, 2, 1, \n",
      "\t\t - 09 Lundi/Jeudi, Ouargla 03\t\t3, 5, 0, \n",
      "\t\t - 06 Jeudi/Lundi, El Khefdji\t\t5, 6, 3, 0, 2, 1, \n",
      "\t\t - 11 Mercredi/Dimanche, Boughoufala\t\t5, 6, 3, 0, 2, 1, \n",
      "\t\t - 10 Mardi/Samedi, Beni Thour\t\t5, 6, 3, 0, 2, 1, \n",
      "\t\t - 02 Dimanche/Mercredi, Ouargla 4/A. Baida\t\t5, 6, 3, 2, 1, \n",
      "\t\t - Grossistes Ouargla\t\t5, 6, 3, 0, 2, 1, \n",
      "\t\t - 04 Mardi/Samedi, HMD 01\t\t5, 6, 3, 0, 2, 1, \n",
      "\t\t - 12 Jeudi/Lundi, La Casbah/N'Goussa\t\t5, 3, 0, 2, 1, \n",
      "\t\t - 07 Samedi/Mardi, Ouargla 01 \t\t5, 6, 3, 2, 1, \n",
      "\t\t - 05 Mercredi/Dimanche, HMD 02\t\t5, 6, 3, 0, 2, 1, \n",
      "\t\t - 01 Samedi/Mardi, Soukra\t\t5, 6, 3, 0, 1, \n",
      "\n",
      "\t SARL BATEAU SUD TOUGGOURT  :\n",
      "\t\t - Mardi/Dimanche, Sidi Amrane/Sidi Slimane/Maggarine\t\t6, 1, 0, 2, \n",
      "\t\t - Samedi/Mardi, Touggourt 01 \t\t5, 6, 0, 2, 1, \n",
      "\t\t - Mercredi/Lundi, Taibet/Ben Nacer\t\t1, 0, 2, \n",
      "\t\t - Lundi/Samedi, Djamaa\t\t5, 0, \n",
      "\t\t - Grossistes Touggourt\t\t5, 6, 0, 2, 1, \n",
      "\t\t - Lundi/Samedi, Touggourt 03\t\t5, 6, 0, 2, 1, \n",
      "\t\t - Samedi/Mardi, El Meghier 1\t\t5, 6, 0, 2, 1, \n",
      "\t\t - Dimanche/Mercredi, El Meghier 2/ Oum Tyour\t\t6, 0, 2, \n",
      "\t\t - Mercredi/Lundi, Tamassine\t\t6, 1, 0, 2, \n",
      "\t\t - Mardi/Dimanche, Touggourt 04\t\t6, 5, 1, 0, \n",
      "\t\t - Dimanche/Mercredi, Touggourt 02\t\t5, 6, 0, 2, 1, \n",
      "\n",
      "--------------------------------------\n",
      "BOUMERDES  :\n",
      "\t EURL LAIT PROD - BOUMERDES 2  :\n",
      "\t\t - Lun/Sam, Bordj Mnaeil 1\t\t5, 6, 3, 0, 2, 1, \n",
      "\t\t - Mar/Dim, Corso\t\t5, 6, 3, 0, 2, 1, \n",
      "\t\t - Lun/Sam, Boumerdes 2\t\t5, 6, 3, 0, 2, 1, \n",
      "\t\t - Mar/Sam, Zemmouri 2\t\t5, 6, 3, 0, 2, 1, \n",
      "\t\t - Dim/Mer, Legata / Si Mustapha / Issers 1\t\t5, 6, 3, 0, 2, 1, \n",
      "\t\t - Mer/Dim, Chaabet El Amer\t\t5, 4, 6, 3, 0, 2, 1, \n",
      "\t\t - Dim/Mar, Beni Amrane\t\t5, 4, 6, 3, 0, 2, 1, \n",
      "\t\t - Mer/Lun, Issers 2\t\t5, 6, 3, 0, 2, 1, \n",
      "\t\t - CafÃÂÃÂ©tÃÂÃÂ©ria / KMS / PÃÂÃÂ¢tisserie\t\t5, 6, 3, 0, 2, 1, \n",
      "\t\t - Grossistes V7 V15\t\t5, 4, 6, 3, 0, 2, 1, \n"
     ]
    },
    {
     "name": "stdout",
     "output_type": "stream",
     "text": [
      "\t\t - Lun/Mer, Zemmouri 1\t\t5, 6, 3, 0, 2, 1, \n",
      "\t\t - Mar/Dim, Bordj Mnaeil 2\t\t5, 6, 3, 0, 2, 1, \n",
      "\t\t - Dim/Mer, Boumerdes 1\t\t5, 6, 3, 0, 2, 1, \n",
      "\t\t - Sam/Lun, Thenia\t\t5, 6, 3, 0, 2, 1, \n",
      "\t\t - Sam/Mar, Hraoua\t\t5, 6, 3, 0, 2, 1, \n",
      "\t\t - Sam/Mar, Ben Merzouga / Kherouba\t\t5, 4, 6, 3, 0, 2, 1, \n",
      "\t\t - Mer/Lun, Tidjelabine\t\t5, 4, 6, 3, 0, 2, 1, \n",
      "\n",
      "\t EURL LAIT PROD  :\n",
      "\t\t - Lun/Sam, Reghaia 3\t\t5, 6, 3, 0, 2, 1, \n",
      "\t\t - Mer/Lun, Reghaia 5\t\t5, 6, 0, 2, 1, \n",
      "\t\t - Sam/Mar, Boudouaou 1\t\t5, 6, 3, 0, 2, 1, \n",
      "\t\t - Mar/Dim, Chebacheb\t\t5, 6, 3, 0, 2, 1, \n",
      "\t\t - Dim/Mer, Reghaia 2\t\t5, 6, 3, 0, 2, 1, \n",
      "\t\t - Mer/Lun, Ouled Hedadj / Kouadria\t\t5, 6, 0, 2, 1, \n",
      "\t\t - Grossistes V8 V16\t\t5, 4, 6, 3, 0, 2, 1, \n",
      "\t\t - Sam/Mar, Hamadi 1\t\t5, 4, 6, 3, 0, 2, 1, \n",
      "\t\t - Mer/Lun, Ouled Moussa 1\t\t5, 6, 3, 0, 2, 1, \n",
      "\t\t - Lun/Sam, Arbatache / Meftah 2 / Ouled Moussa 2\t\t5, 6, 3, 0, 2, 1, \n",
      "\t\t - Mar/Dim, Reghaia 4\t\t5, 6, 3, 0, 2, 1, \n",
      "\t\t - Sam/Mar, Reghaia 1\t\t5, 6, 3, 0, 2, 1, \n",
      "\t\t - Lun/Sam, Khemis El Khachna 2\t\t5, 6, 3, 0, 2, 1, \n",
      "\t\t - Dim/Mer, Boudouaou 2\t\t5, 6, 0, 2, 1, \n",
      "\t\t - Mar/Dim, Meftah 1\t\t5, 4, 6, 3, 0, 2, 1, \n",
      "\t\t - Dim/Mer, Hamadi 2 / Khemis 1\t\t5, 6, 3, 0, 2, 1, \n",
      "\n",
      "--------------------------------------\n",
      "ANNABA  :\n",
      "\t EURL ILYES FOOD  :\n",
      "\t\t - Mardi, Asla Hocine (Annaba)\t\t5, 4, 6, 3, 0, 2, 1, \n",
      "\t\t - Mercredi, Oued forcha (Annaba)\t\t5, 6, 3, 0, 2, 1, \n",
      "\t\t - Samedi, Chapui (Annaba)\t\t5, 4, 6, 3, 0, 2, 1, \n",
      "\t\t - Jeudi, Bouhdid (Annaba)\t\t5, 4, 6, 3, 0, 2, 1, \n",
      "\t\t - Dimanche , CitÃÂÃÂ© kouba 2/Gassio\t\t5, 4, 6, 3, 0, 2, 1, \n",
      "\t\t - Samedi, Safsaf (Annaba)\t\t5, 4, 6, 3, 0, 2, 1, \n",
      "\t\t - Lundi, Oued dheb 1 (Annaba)\t\t5, 4, 6, 3, 0, 2, 1, \n",
      "\t\t - Jeudi, L'avant port (Annaba)\t\t5, 4, 6, 3, 0, 2, 1, \n",
      "\t\t - Grossistes\t\t5, 4, 6, 3, 0, 2, 1, \n",
      "\t\t - Dimanche, Majestic (Annaba)\t\t5, 4, 6, 3, 0, 2, 1, \n",
      "\t\t - Mardi, CitÃÂÃÂ© Rym (Annaba)\t\t5, 4, 6, 3, 0, 2, 1, \n",
      "\t\t - Jeudi, Ibn badis (Annaba)\t\t5, 4, 6, 3, 0, 2, 1, \n",
      "\t\t - Mardi, Oued dheb 2 (Annaba)\t\t5, 4, 6, 3, 0, 2, 1, \n",
      "\t\t - Lundi, Suidani Boudjemaa (Anna\t\t5, 4, 6, 3, 0, 2, 1, \n",
      "\t\t - Lundi, Sidi Achour (Annaba)\t\t5, 4, 6, 3, 0, 2, 1, \n",
      "\t\t - Mercredi, Place D'arme (Annaba\t\t5, 6, 3, 0, 2, 1, \n",
      "\t\t - Mercredi, Les lisas (Annaba)\t\t5, 6, 3, 0, 2, 1, \n",
      "\t\t - Dimanche, LoriÃÂÃÂ© rose (Annaba)\t\t5, 6, 0, 2, 1, \n",
      "\t\t - Samedi, CitÃÂÃÂ© kouba 1/Bvd (Anna\t\t5, 4, 6, 3, 0, 2, 1, \n",
      "\n",
      "\t ANNABA 2  :\n",
      "\t\t - Samedi, El Hadjar 1\t\t5, 4, 6, 3, 0, 2, 1, \n",
      "\t\t - Lundi, Sidi Ammar 2/Deradji Rj\t\t5, 4, 6, 3, 0, 2, 1, \n",
      "\t\t - Lundi, El Bouni 2\t\t5, 6, 3, 0, 2, 1, \n",
      "\t\t - Samedi, Grossistes\t\t5, 6, 3, 0, 2, 1, \n",
      "\t\t - Mardi, El Bouni 3/Ain Barda\t\t5, 6, 3, 0, 2, 1, \n",
      "\t\t - Dimanche, Boukhedra/Bouhamra/E\t\t5, 4, 6, 3, 0, 2, 1, \n",
      "\t\t - Samedi, Chorfa/Eulma/Horaich/H\t\t5, 4, 6, 3, 0, 2, 1, \n",
      "\t\t - Mardi, Hdjer Diss\t\t5, 4, 6, 3, 0, 2, 1, \n",
      "\t\t - Jeudi, 01 Mai 1945/Chabia/K\t\t5, 4, 6, 3, 0, 2, 1, \n",
      "\t\t - Mercredi, Chetaibi/Oued El Aneb/D\t\t5, 4, 6, 3, 0, 2, 1, \n",
      "\t\t - Jeudi, Serraidi/Sidi Salem/Joi\t\t5, 4, 6, 3, 0, 2, 1, \n",
      "\t\t - Dimanche, El Hadjar 2/Chaiba/S\t\t5, 4, 6, 3, 0, 2, 1, \n",
      "\t\t - Mercredi, Berrahal\t\t5, 4, 6, 3, 0, 2, 1, \n",
      "\n",
      "--------------------------------------\n",
      "DJELFA  :\n",
      "\t BOUZIDI ABDELKRIM  :\n",
      "\t\t - Mercredi, Djelfa 6\t\t5, 6, 3, 0, 2, 1, \n",
      "\t\t - Dimanche, Ain Ouessara\t\t5, 6, 3, 0, 2, 1, \n",
      "\t\t - Mercredi, Dar Chioukh\t\t5, 6, 0, 2, 1, \n",
      "\t\t - Grossistes Djelfa/Ain Ouessara\t\t5, 4, 6, 3, 0, 2, 1, \n",
      "\t\t - Lundi, Djelfa 3\t\t5, 6, 3, 0, 2, 1, \n",
      "\t\t - Samedi, Hassi el euch\t\t5, 6, 3, 0, 2, 1, \n",
      "\t\t - Ventes dÃÂÃÂ©pot\t\t5, 6, 3, 0, 2, 1, \n",
      "\t\t - Lundi, Messaad Grossistes\t\t5, 6, 3, 0, 1, \n",
      "\t\t - Mardi, Had shari\t\t6, 3, 1, 2, \n",
      "\t\t - Mardi, Ain ouessara 2\t\t5, 6, 3, 0, 2, 1, \n",
      "\t\t - Samedi, Djelfa 1\t\t5, 6, 3, 0, 2, 1, \n",
      "\t\t - Mercredi, Djelfa 5\t\t5, 4, 6, 3, 0, 2, 1, \n",
      "\t\t - Dimanche, Djelfa 2\t\t5, 6, 3, 0, 2, 1, \n",
      "\t\t - Lundi, Hassi Bahbah\t\t5, 6, 0, 2, 1, \n",
      "\t\t - Dimanche, Superettes\t\t5, 6, 3, 0, 2, 1, \n",
      "\t\t - Samedi, Messaad\t\t5, 4, 6, 3, 0, \n",
      "\t\t - Mardi, Djelfa 4\t\t5, 6, 3, 0, 2, 1, \n",
      "\t\t - Mercredi, Idrissia\t\t5, 4, 6, 3, 0, 2, 1, \n",
      "\n",
      "--------------------------------------\n",
      "SKIKDA  :\n",
      "\t HAMAZA LAKHDAR  :\n",
      "\t\t - Dimanche-Mardi, Cia/Oued El Ouehche\t\t5, 6, 3, 0, 2, 1, \n",
      "\t\t - CafÃÂÃÂ©terias 3\t\t5, 6, 3, 0, 2, 1, \n",
      "\t\t - Lundi-Mercredi, Stora/R Supe/Boulakr\t\t5, 6, 3, 0, 2, 1, \n",
      "\t\t - Samedi-Lundi, Filefla/J Darc\t\t5, 6, 3, 0, 2, 1, \n",
      "\t\t - Mercredi. Hadaik/ Bouchtata\t\t5, 6, 3, 0, 2, 1, \n",
      "\t\t - Mahelet Salihine\t\t5, 6, 0, 2, 1, \n",
      "\t\t - Dimanche-Mercredi, Azzaba2/Sebt\t\t5, 6, 0, 2, 1, \n",
      "\t\t - Mercredi-Lundi,Bekouche Lkhder\t\t5, 6, 0, 2, 1, \n",
      "\t\t - Mardi-Samedi, Harrouche1\t\t5, 6, 3, 0, 2, 1, \n",
      "\t\t - CafÃÂÃÂ©terias 2\t\t5, 6, 3, 0, 2, 1, \n",
      "\t\t - Samedi, Mez Chich/Beni bchir\t\t5, 6, 3, 0, 2, 1, \n",
      "\t\t - Mardi, Ben Horia/Kobiya/Foubou\t\t5, 6, 3, 0, 2, 1, \n",
      "\t\t - Lundi, Remdane Djamel\t\t5, 6, 3, 0, 1, \n",
      "\t\t - Mardi-Dimanche, 33/Baro/Felfela2/Karia\t\t5, 6, 3, 0, 2, 1, \n",
      "\t\t - Samedi-Mardi, Azzaba1\t\t5, 6, 3, 0, 2, 1, \n",
      "\t\t - Lundi-Mercredi, CAMI/700/500 Logts\t\t5, 6, 3, 0, 2, 1, \n",
      "\t\t - Samedi-Lundi, Bouyala/Sidi Ahmed\t\t5, 6, 3, 0, 2, 1, \n",
      "\t\t - Mercredi-Dimanche, Les Alles\t\t5, 6, 3, 0, 2, 1, \n",
      "\t\t - CafÃÂÃÂ©terias 1\t\t5, 6, 3, 0, 2, 1, \n",
      "\t\t - Dimanche, Salah Boulechour\t\t5, 6, 3, 0, 2, 1, \n",
      "\t\t - CafÃÂÃÂ©terias 4\t\t5, 6, 0, 2, 1, \n",
      "\t\t - Dimanche-Mardi, Merdj Dib\t\t5, 6, 3, 0, 2, 1, \n",
      "\t\t - Lundi, H Hamoudi/ H Krouma\t\t5, 6, 3, 0, 2, 1, \n",
      "\t\t - Mardi-Samedi, Marche/Suika\t\t5, 6, 3, 0, 2, 1, \n",
      "\t\t - Mercredi-Dimanche, Harrouche2\t\t5, 6, 3, 0, 2, 1, \n",
      "\t\t - Ventes dÃÂÃÂ©pot\t\t5, 6, 3, 0, 2, 1, \n",
      "\t\t - Samedi, Ain Cherchar/Djendel\t\t5, 6, 3, 0, 2, 1, \n",
      "\t\t - Lundi-Samedi, Zeramna/Cissel/Mession\t\t5, 6, 3, 0, 2, 1, \n",
      "\t\t - Dimanche, 20 Aout\t\t5, 6, 3, 0, 2, 1, \n",
      "\t\t - Mardi, Salah Boulkeroua\t\t5, 6, 3, 0, 2, 1, \n",
      "\t\t - Mercredi, Arc/Batoire/Bouabaz/\t\t5, 6, 3, 0, 2, 1, \n",
      "\t\t - Samedi, Grossistes\t\t5, 6, 3, 0, 2, 1, \n",
      "\n",
      "\t FOURAR ALI  :\n",
      "\t\t - Samedi, Beni Oulbban\t\t5, 6, 3, 0, 2, 1, \n",
      "\t\t - Grossistes 2\t\t5, 6, 3, 0, 2, 1, \n",
      "\t\t - Mardi-Samedi, Collo 3\t\t5, 6, 3, 2, 1, \n",
      "\t\t - Mardi, Ain Bouzinae\t\t1, \n",
      "\t\t - Dimanche , Tamalous 1\t\t6, 3, 0, 2, 1, \n",
      "\t\t - Mardi, Oum Toub\t\t5, 1, \n",
      "\t\t - Samedi-Lundi, Ain Kechra\t\t5, 6, 3, 0, 2, 1, \n",
      "\t\t - Lundi, Chera-Zitouna\t\t6, 5, 0, \n",
      "\t\t - Dimanche, Ibn Zid\t\t6, \n",
      "\t\t - Mercredi, Sidi Mezghiche\t\t5, 6, 3, 0, 2, 1, \n",
      "\t\t - Mercredi-Dimanche, Kerkera/ Bin Oudeane /19\t\t5, 6, 0, 2, 1, \n",
      "\t\t - Samedi, Oued Zhour-Ouled Attia\t\t5, 6, 0, 2, 1, \n",
      "\t\t - Lundi, Tamalous 2\t\t6, 3, 0, 2, 1, \n",
      "\t\t - Dimanche-Mardi, Collo 1\t\t6, 3, 0, 2, 1, \n",
      "\t\t - Mercredi, Setara/ Berdj Ali/ Sidi Maarouf f (Jijel)\t\t2, \n",
      "\t\t - Lundi-Mercredi, Collo 2\t\t5, 6, 3, 0, 2, 1, \n",
      "\n",
      "--------------------------------------\n",
      "BBA  :\n",
      "\t EURL AT FOODS DISTRIBUTION  :\n",
      "\t\t - Mardi,EL MANSOURA & EL MEHIR\t\t5, 1, 2, \n",
      "\t\t - Mercredi,EL ANACER & BALAIMOUR\t\t5, 3, 0, 2, 1, \n",
      "\t\t - Samedi,BORDJ GHEDIR \t\t5, 6, 0, 2, 1, \n",
      "\t\t - LUN/SAM,Faubourg- Centre Ville -\t\t5, 6, 0, 2, 1, \n",
      "\t\t - MER/LUN,Bir Kased Ali/Khellil\t\t6, 3, 0, 2, \n",
      "\t\t - Lundi,MEDJANA & HASNAOUA\t\t5, 1, 0, \n",
      "\t\t - SAM/MAR,Aouine Zraigua,400,750,\t\t5, 6, 3, 0, 2, 1, \n",
      "\t\t - MAR/DIM,1044,217,450 Logts\t\t5, 6, 3, 0, 2, 1, \n",
      "\t\t - DIM/MER,12 Hectare,La Gare\t\t5, 6, 3, 0, 2, 1, \n",
      "\t\t - LUN/SAM,BC,Belarbi,240,1008 Logt\t\t5, 6, 0, 2, 1, \n",
      "\t\t - Gros Centre Ville\t\t5, 6, 0, 2, 1, \n",
      "\t\t - Sam/MAR,Village Nord, 5 Juillet\t\t5, 6, 3, 0, 2, 1, \n",
      "\t\t - Samedi,BORDJ GHEDIR & GHAILASS\t\t5, 6, 3, 0, 2, 1, \n",
      "\t\t - MAR/DIM,Djebes- Chabet Far- La c\t\t5, 6, 0, 2, 1, \n",
      "\t\t - Dimanche,Gros Ras El OUED\t\t5, 6, 0, 2, 1, \n",
      "\t\t - Mardi,EL ACHIR \t\t5, 6, 0, 2, 1, \n",
      "\t\t - Dimanche,BIR AISSA &  RAS EL O\t\t6, 0, \n",
      "\t\t - MER/LUN,Sidi Embarek- Ain Tag\t\t6, 3, 0, 2, \n",
      "\t\t - Lundi,RAS EL OUED 2\t\t6, 1, 0, \n",
      "\t\t - DIM/MER,15 Coop,Secteur D,500\t\t5, 6, 0, 2, 1, \n",
      "\t\t - Mercredi,EL EUCH, EL HAMADIA\t\t5, 6, 3, 0, 2, \n",
      "\n",
      "--------------------------------------\n",
      "GUELMA  :\n",
      "\t AZERINE YACINE  :\n",
      "\t\t - Mercredi, Heliopolice\t\t3, 5, 2, \n",
      "\t\t - Mercredi,Guelma ville/Ben djerrah\t\t5, 6, 3, 0, 2, 1, \n",
      "\t\t - Mardi, Bouchgouf 2/Medjaz sefa \t\t5, 6, 3, 0, 2, 1, \n",
      "\t\t - Samedi, Guelma ville \t\t5, 4, 6, 3, 0, 2, 1, \n",
      "\t\t - Dimanche, Gerodon\t\t5, 4, 6, 3, 0, 2, 1, \n",
      "\t\t - Jeudi,Grossistes 1 / Nachemaya/Galaat bousbaa\t\t5, 6, 3, 0, 2, 1, \n",
      "\t\t - Samedi ,Boumahra/khezara/Bouhachana\t\t5, 6, 3, 0, 2, 1, \n",
      "\t\t - Dimanche, H.Nbail/Oued cheham/Dahouara\t\t5, 6, 3, 0, 2, 1, \n",
      "\t\t - Lundi ,Bouchagouf 1/Ain ben baida/Oued feragha\t\t5, 6, 3, 0, 2, 1, \n",
      "\t\t - Jeudi, Fadjoudj/Hammam ouled Ali/Bouati\t\t3, 1, 5, 2, \n",
      "\t\t - Lundi, Belkhir/Beni mezeline/Djeballa khemissi  \t\t5, 6, 3, 0, 2, 1, \n",
      "\t\t - Mardi, Lotissement Ain defla\t\t5, 6, 3, 0, 2, 1, \n",
      "\n",
      "\t TABOU HAMID  :\n",
      "\t\t - Lundi-Jeudi, Guelma ville 3\t\t5, 6, 3, 0, 2, 1, \n",
      "\t\t - Samedi/Mardi, Grossistes 2\t\t5, 6, 3, 0, 2, 1, \n",
      "\t\t - Jeudi, Roknia/ Bouhamdane\t\t3, 5, 0, \n",
      "\t\t - Dimanche-Mercredi, Guelma ville 2\t\t5, 6, 3, 0, 2, 1, \n",
      "\t\t - Dimanche,Tamlouka/ Ain makhlouf/Ain Larbi\t\t6, 3, 0, 2, \n",
      "\t\t - Mercredi-Dimanche, Oued zenati 2 / Ain regada\t\t6, 5, 1, 2, \n",
      "\t\t - Mardi-Samedi, Oued zenati 1 / bordj sabat\t\t5, 6, 3, 0, 2, 1, \n",
      "\t\t - Jeudi-Lundi, Guelma ville 4 \t\t5, 6, 3, 0, 2, 1, \n",
      "\t\t - Mercredi, Hammam Debagh\t\t3, 5, 0, 2, \n",
      "\t\t - Samedi-Mardi, Guelma ville 1\t\t5, 4, 6, 3, 0, 2, 1, \n",
      "\t\t - Lundi,Ain Hessainia/Ras el Agba/Selaoua Anouna/Medjaz Amar\t\t6, 3, 0, 2, 1, \n",
      "\n",
      "--------------------------------------\n",
      "KHENCHELA  :\n",
      "\t HANI MOUAD  :\n",
      "\t\t - Mardi/ Samedi, Sonatiba/N'Sigha\t\t5, 6, 3, 0, 2, 1, \n",
      "\t\t - CafÃÂÃÂ©terias 2\t\t5, 6, 3, 0, 2, 1, \n",
      "\t\t - Samedi, Rte Batna/ Moussa Redah/ El Hamma\t\t5, 4, 6, 3, 0, 2, 1, \n",
      "\t\t - CafÃÂÃÂ©terias 3\t\t5, 6, 3, 0, 2, 1, \n",
      "\t\t - Samedi/ Mardi, Centre ville 01\t\t5, 4, 6, 3, 0, 2, 1, \n",
      "\t\t - Lundi/ Jeudi, Route Baber/EL Chabour\t\t5, 6, 3, 0, 2, 1, \n",
      "\t\t - Lundi/ Jeudi, Grossistes/ Superettes \t\t5, 4, 6, 3, 0, 2, 1, \n",
      "\t\t - Ventes dÃÂÃÂ©pÃÂÃÂ´t \t\t5, 6, 3, 0, 2, 1, \n",
      "\t\t - Dimanche/ Mercredi, Centre ville 02\t\t5, 6, 3, 0, 2, 1, \n",
      "\t\t - Jeudi/ Lundi, COSIDER/ Les Aures\t\t5, 6, 3, 0, 2, 1, \n",
      "\t\t - Dimanche; Ain Touila/M'Toussa/Baghaia\t\t6, 1, 0, \n",
      "\t\t - Mardi, Fais/ Yabous/ Bouhmama\t\t1, 2, \n",
      "\t\t - Cafeterias 1\t\t6, 2, \n",
      "\t\t - Mercredi/ Dimanche, Rte Zoui/ Rte Meskiana\t\t5, 6, 3, 0, 2, 1, \n",
      "\t\t - Mercredi, Route Izar/ Nouvelle\t\t5, 6, 3, 0, 2, 1, \n",
      "\n",
      "\t TOUAT A/MADJID  :\n",
      "\t\t - Samedi/ Mardi, Kais 01\t\t5, 4, 6, 3, 0, 2, 1, \n",
      "\t\t - Mardi/ Samedi, Babar/Ain Djaboua\t\t5, 4, 6, 3, 0, 2, 1, \n",
      "\t\t - Jeudi/ Lundi, Zoui\t\t6, 3, 0, 2, \n",
      "\t\t - Lundi/ Jeudi, Thazouguaghthe\t\t5, 4, 6, 3, 0, 2, 1, \n",
      "\t\t - Dimache/ Mercredi, Kais 02\t\t5, 4, 6, 3, 0, 2, 1, \n",
      "\t\t - Mercredi/ Dimanche, Chechar\t\t5, 4, 6, 3, 0, 2, 1, \n",
      "\n",
      "--------------------------------------\n",
      "EL TAREF  :\n",
      "\t BOUTELIATE MESSAOUDN   :\n",
      "\t\t - Jeudi, Ain Assel/Zitouna/Kerma\t\t5, 6, 3, 0, 2, 1, \n",
      "\t\t - Lundi, Kalla 2\t\t5, 6, 0, 2, 1, \n",
      "\t\t - Mercredi, Kalla 1\t\t5, 3, 0, 2, 1, \n",
      "\t\t - Samedi, Bouteldja\t\t5, 6, 3, 0, 2, 1, \n",
      "\t\t - Lundi, Drean2\t\t5, 6, 3, 0, 2, 1, \n",
      "\t\t - Samedi, Chbaita Mokhetar/Zoura\t\t5, 6, 3, 0, 2, 1, \n",
      "\t\t - Dimanche, Kalla 1\t\t6, 5, 1, 0, \n",
      "\t\t - Dimanche, Ben Mhidi\t\t5, 6, 3, 0, 1, \n",
      "\t\t - Dimanche, Drean1\t\t5, 6, 3, 0, 1, \n",
      "\t\t - Mercredi, Ben Amar/Chbaita 2\t\t5, 3, 0, 2, 1, \n",
      "\t\t - Lundi, Besbes\t\t5, 6, 0, 2, 1, \n",
      "\t\t - Jeudi,  El Taref 2/Berihane\t\t5, 6, 3, 0, 2, 1, \n",
      "\t\t - Dimanche, Sidi Kassi/Zrizer\t\t5, 6, 3, 0, 2, \n",
      "\t\t - Mardi, Bouhadjar\t\t3, 1, 0, \n",
      "\t\t - Mercredi, Drean1\t\t5, 6, 3, 0, 2, 1, \n",
      "\t\t - Mardi, Ain Allam/Chihani\t\t6, 1, 0, 2, \n",
      "\t\t - Mardi, Kalla 3/Oum Tob/Layoun\t\t6, 3, 0, 2, 1, \n",
      "\t\t - Lundi, Daghoussa/Asfour\t\t5, 6, 3, 0, 2, 1, \n",
      "\t\t - Mercredi,  El Taref (Ville)\t\t3, 1, 2, \n",
      "\t\t - Samedi, Echatt\t\t5, 4, 6, 3, 0, 2, 1, \n",
      "\t\t - Jeudi, Drean2\t\t5, 4, 6, 3, 0, 2, 1, \n",
      "\t\t - Jeudi, Kalla 2\t\t5, 6, 3, 0, 2, 1, \n",
      "\t\t - Mardi,  Echatt\t\t6, 3, 0, 2, 1, \n",
      "\t\t - Samedi, Kalla 3/Oum Tob/Layoun\t\t5, 6, 3, 0, 2, 1, \n",
      "\n",
      "--------------------------------------\n",
      "MOSTAGHANEM  :\n",
      "\t AKLI FATAH  :\n",
      "\t\t - Jeudi,Lundi, 05 Juillet,Saint \t\t5, 6, 3, 0, 2, 1, \n",
      "\t\t - Samedi,Mardi, Hadjadj,Abdelmal\t\t5, 6, 3, 0, 2, 1, \n",
      "\t\t - Mercredi,Dimanche, Mazagran,Sayada monador\t\t5, 6, 3, 0, 2, 1, \n",
      "\t\t - Mercredi,Dimanche, Salamandres\t\t5, 6, 3, 0, 2, 1, \n",
      "\t\t - Lundi,Jeudi, MarchÃÂÃÂ©,Tdjdit, 80\t\t5, 4, 6, 3, 0, 2, 1, \n",
      "\t\t - Jeudi,Lundi, Mon Plaisir,Mouchti\t\t5, 6, 3, 0, 2, 1, \n",
      "\t\t - Dimanche,Mercredi, Baymouth,Ch\t\t5, 6, 3, 0, 2, 1, \n",
      "\t\t - GROSSITES & SUPERETTES\t\t5, 6, 3, 0, 2, 1, \n",
      "\t\t - Mardi,Samedi, SIDI ALI 02 & SIDI LAKHDHAR 02\t\t6, 5, 1, 0, \n",
      "\t\t - Samedi,Mardi, Centre Ville,Pla\t\t5, 4, 6, 3, 0, 2, 1, \n",
      "\t\t - Lundi,Jeudi, Ouled Bouziane & Sidi Lakhdar 01\t\t5, 6, 3, 0, 2, 1, \n",
      "\t\t - Dimanche,Mercredi, Sidi Ali 01\t\t5, 6, 3, 0, 2, 1, \n",
      "\t\t - Mardi,Samedi, Mishler,300 Logt\t\t5, 4, 6, 3, 0, 2, 1, \n",
      "\n",
      "\t IBRIR YANIS  :\n",
      "\t\t - MERCREDI, YENARO / OUED ELKHEIR / OULED HAMMOU\t\t3, 2, \n",
      "\t\t - JEUDI, EL GHOMRI / SOUAFLIA\t\t5, 6, 3, 2, 1, \n",
      "\t\t - LUNDI, JEUDI, BOUGUIRAT / OULED BACHIR\t\t3, 5, 0, 2, \n",
      "\t\t - SAMEDI, MARDI, SAYADA / TADLESS 1 / AIN BOUDINAR\t\t5, 6, 0, 2, 1, \n",
      "\t\t - MARDI, SAMEDI, AIN NOUISSY / FERNAKA / BENIYAHI\t\t5, 1, 3, 2, \n",
      "\t\t - DIMANCHE, SIRET / TOUAHRIA / MANSOURAH\t\t6, 3, 0, 2, 1, \n",
      "\t\t - LUNDI,TEDLESS 3 / SIDI BELATAR\t\t5, 6, 3, 0, 2, 1, \n",
      "\t\t - DIMANCHE, MERCREDI, MESRA / AIN SIDI CHERIF\t\t5, 6, 3, 0, 2, 1, \n",
      "\t\t - MARDI, KHADRA / ACHAACHA / OULED BOUGHALEUM\t\t5, 4, 6, 3, 2, 1, \n",
      "\t\t - GROSSISTES / SUPERETTES\t\t5, 6, 3, 0, 2, 1, \n",
      "\t\t - MERCREDI, DIMANCHE, TADLESS 2 / SOUR / OULED MEAALAH\t\t6, 5, 1, 2, \n",
      "\t\t - JEUDI, LUNDI, HASSI MAMECHE / STIDIA\t\t3, 1, 5, 0, \n",
      "\n",
      "--------------------------------------\n",
      "CHLEF  :\n",
      "\t EURL ADEMLAIT-CHLEF  :\n",
      "\t\t - Samedi, Centre ville 5 Moussalaha\t\t5, 6, 3, 0, 2, 1, \n",
      "\t\t - Dimanche, Zeboudja\t\t5, 6, 0, 2, 1, \n",
      "\t\t - Mercredi, Boukadir Sud\t\t5, 6, 3, 0, 2, 1, \n",
      "\t\t - Lundi, Chettia\t\t5, 6, 0, 2, 1, \n",
      "\t\t - Dimanche, Tenes 2\t\t5, 6, 3, 0, 2, 1, \n",
      "\t\t - Mardi, Tenes 3\t\t5, 6, 3, 0, 2, 1, \n",
      "\t\t - Dimanche, Centre ville 2\t\t5, 6, 3, 0, 2, 1, \n",
      "\t\t - Mardi, Centre ville 4\t\t5, 6, 0, 2, 1, \n",
      "\t\t - Grossistes\t\t5, 4, 6, 3, 0, 2, 1, \n",
      "\t\t - Samedi, Tenes 1\t\t6, 5, 1, 0, \n",
      "\t\t - Lundi, Chorfa\t\t5, 6, 0, 2, 1, \n",
      "\t\t - Samedi, Centre ville 1\t\t5, 6, 3, 0, 2, 1, \n",
      "\t\t - Dimanche, Abou hassane\t\t5, 6, 0, 2, 1, \n",
      "\t\t - Dimanche, Centre ville 6\t\t5, 6, 0, 2, 1, \n",
      "\t\t - Mardi, Ain Merane Taougrit\t\t6, 1, 0, 2, \n",
      "\t\t - Mercredi, Sobha Boukadir Nord\t\t3, 1, 0, 2, \n",
      "\t\t - Mardi, Sidi Akacha\t\t6, 1, 0, 2, \n",
      "\t\t - Lundi, Centre ville 3\t\t5, 6, 3, 0, 2, 1, \n",
      "\t\t - Lundi, Oued foda \t\t5, 6, 0, 2, 1, \n",
      "\t\t - Mercredi, Tenes 4\t\t6, 3, 0, 2, 1, \n",
      "\t\t - Samedi, Sendjas Karimia\t\t5, 6, 0, 2, 1, \n",
      "\t\t - Mercredi, Oued Sly Massina\t\t5, 6, 3, 0, 2, 1, \n",
      "\n",
      "--------------------------------------\n",
      "TEBESSA  :\n",
      "\t EURL NASR ECHARK  :\n",
      "\t\t - Samedi, Gros 1\t\t5, 6, 3, 0, 2, 1, \n",
      "\t\t - Jeudi, Zargua/Lemridj/La Commu\t\t6, 3, \n",
      "\t\t - Lundi/Jeudi, La rocade/Rte Mat\t\t5, 6, 3, 0, 2, 1, \n",
      "\t\t - Dimanche/Mercredi, ChÃÂÃÂ©rea 2\t\t5, 6, 3, 0, 1, \n",
      "\t\t - Mercredi/Dimanche, Rte StratÃÂÃÂ©g\t\t5, 6, 3, 0, 2, 1, \n",
      "\t\t - Mercredi/Dimanche, Bir El Ater 2\t\t3, 1, 0, 2, \n",
      "\t\t - Mardi/Samedi, Ouenza 1\t\t5, 4, 6, 3, 0, 2, 1, \n",
      "\t\t - Grossistes\t\t5, 4, 6, 3, 0, 2, 1, \n",
      "\t\t - Mardi/Samedi, El Zouhor\t\t5, 4, 6, 3, 0, 2, 1, \n",
      "\t\t - Dimanche/Mercredi, Skanska\t\t5, 4, 6, 3, 0, 2, 1, \n",
      "\t\t - Jeudi/Lundi, Rte Constantine/B\t\t5, 6, 3, 0, 2, 1, \n",
      "\t\t - Lundi/Jeudi, El Djorf\t\t5, 4, 6, 3, 0, 2, 1, \n",
      "\t\t - Mardi/Samedi, Bir El Ater 1\t\t6, 3, 0, 2, 1, \n",
      "\t\t - Lundi/Jeudi, Cherea 2/El ogla\t\t5, 6, 3, 0, 2, 1, \n",
      "\t\t - Mercredi/Dimanche, Ouenza 2\t\t5, 6, 0, 2, 1, \n",
      "\t\t - Samedi/Mardi, Ali M'Heni\t\t5, 4, 6, 3, 0, 2, 1, \n",
      "\t\t - Mardi, Boukhadra/Laouinette\t\t5, 6, 3, 2, 1, \n",
      "\t\t - Dimanche, Bekaria/El Kouif/Ros\t\t6, 3, 0, \n",
      "\t\t - Mercredi, Hammamet/Bir Mokadem\t\t6, 3, 2, \n",
      "\t\t - Samedi/Mardi, ChÃÂÃÂ©rea 1\t\t5, 6, 3, 0, 2, 1, \n",
      "\t\t - Jeudi/Lundi, Morssote/Boulhef\t\t5, 6, 3, 0, 2, 1, \n",
      "\t\t - Samedi/Mardi, Fatma Zohra\t\t5, 4, 6, 3, 0, 2, 1, \n",
      "\t\t - Lundi, Lehouidjbet/Bouchebka/O\t\t0, \n",
      "\t\t - Jeudi/Lundi, Bir El Ater 3\t\t5, 3, 0, 2, 1, \n",
      "\t\t - Dimanche/Mercredi, Draa Limem/\t\t5, 4, 6, 3, 0, 2, 1, \n",
      "\n",
      "--------------------------------------\n",
      "BEJAIA  :\n",
      "\t MD CHERIF HAKIM  :\n",
      "\t\t - Mercredi, BERCHICHE, Toudja\t\t5, 6, 0, 2, 1, \n",
      "\t\t - El Kseur, Amizour\t\t5, 6, 3, 0, 2, 1, \n",
      "\t\t - SAM/MAR , Stade / Tala markha\t\t5, 6, 3, 0, 2, 1, \n",
      "\t\t - Dimanche, Barbacha, Kendira\t\t6, 5, 1, 0, \n",
      "\t\t - Mardi, Beni djelil, Beni Mouhli\t\t5, 6, 3, 0, 2, 1, \n",
      "\t\t - DIM/MER , O. GHIR / MELLALA\t\t5, 6, 3, 0, 2, 1, \n",
      "\t\t - Remla, Bejaia Ville\t\t5, 6, 3, 0, 2, 1, \n",
      "\t\t - Lundi, Adekar, Acif el hammam\t\t5, 6, 3, 0, 2, 1, \n",
      "\t\t - MAR/DIM, AMIZOUR\t\t5, 6, 3, 0, 2, 1, \n",
      "\t\t - LUN/SAM , Ighil ouazoug / Remla\t\t5, 6, 0, 2, 1, \n",
      "\t\t - MER/LUN , UniversitÃÂÃÂ© / Tagezou\t\t5, 6, 0, 2, 1, \n",
      "\t\t - DIM/MER , Edimco/Aamriw/Tala O\t\t5, 6, 3, 0, 2, 1, \n",
      "\t\t - MAR/DIM, Les 300, 1000 / Laazib/Taklait\t\t5, 6, 3, 0, 2, 1, \n",
      "\t\t - Samedi, BÃÂÃÂ©jaia CafÃÂÃÂ©tÃÂÃÂ©rias1\t\t5, 6, 3, 0, 2, 1, \n",
      "\t\t - Mardi, BÃÂÃÂ©jaia CafÃÂÃÂ©tÃÂÃÂ©rias2\t\t5, 6, 3, 0, 2, 1, \n",
      "\t\t - SAM/MAR, Tizi, Ihaddadene oufela\t\t5, 6, 3, 0, 2, 1, \n",
      "\t\t - LUN/SAM, EL KSEUR\t\t5, 6, 0, 2, 1, \n",
      "\t\t - Dimanche Faraoune . Boukhalefa\t\t5, 6, 3, 0, 2, 1, \n",
      "\t\t - MER/LUN, Tala hamza, Sidi ali labhar\t\t5, 6, 3, 0, 2, 1, \n",
      "\n",
      "\t FOURAR AHCENE  :\n",
      "\t\t - Superette V4\t\t5, 6, 3, 0, 2, 1, \n",
      "\t\t - Lundii, Cote Est CafÃÂÃÂ©tÃÂÃÂ©rias 1\t\t5, 6, 3, 0, 2, 1, \n",
      "\t\t - LUN/SAM, Souk el tenine/Ait smail\t\t5, 6, 3, 0, 2, 1, \n",
      "\t\t - DIM/MER , Beau marchÃÂÃÂ©/Oultach/Rab\t\t5, 6, 3, 0, 2, 1, \n",
      "\t\t - SAM/LUN, Bordj mira, Tamrijt\t\t5, 6, 3, 0, 2, 1, \n",
      "\t\t - MAR/DIM , NacÃÂÃÂ©ria / Zedma / Tobba\t\t5, 6, 3, 0, 2, 1, \n",
      "\t\t - LUN/MER,  Kharata\t\t5, 6, 3, 0, 2, 1, \n",
      "\t\t - MER/LUN , Haute ville\t\t5, 6, 3, 0, 2, 1, \n",
      "\t\t - MAR/DIM, Tichy/Bacaro/Tizi Ahmed\t\t5, 6, 3, 0, 2, 1, \n",
      "\t\t - Dimanche, CÃÂÃÂ´te Ouest\t\t5, 6, 3, 0, 2, 1, \n",
      "\t\t - SAM/MAR, DAR NACER/LA CIFA\t\t5, 6, 3, 0, 2, 1, \n",
      "\t\t - Mardii, BÃÂÃÂ©jaia CafÃÂÃÂ©tÃÂÃÂ©rias 2\t\t5, 6, 3, 0, 2, 1, \n",
      "\t\t - DIM/MAR, Draa el GAID / Adjiouen\t\t5, 6, 0, 2, 1, \n",
      "\t\t - MER/LUN, Aokas\t\t5, 6, 0, 2, 1, \n",
      "\t\t - SAM/MAR, CitÃÂÃÂ© seghir / S'mina\t\t5, 6, 3, 0, 2, 1, \n",
      "\t\t - MER/DIM, Tizi N'berber Aokas 2\t\t5, 6, 3, 0, 2, 1, \n",
      "\t\t - DIM/MER, LA ZONE / HOUMA OUBAZIN\t\t5, 6, 3, 0, 2, 1, \n",
      "\t\t - MAR/SAM, Melbou/ Derguina\t\t5, 6, 3, 0, 2, 1, \n",
      "\t\t - Grossistes BÃÂÃÂ©jaia Fourar\t\t5, 6, 3, 0, 2, 1, \n",
      "\t\t - LUN/SAM , Sidi ahmed\t\t5, 6, 3, 0, 2, 1, \n",
      "\n",
      "\t IBRIR MERZOUK  :\n",
      "\t\t - Mar/Dim,Ighzer amoukrane1\t\t5, 6, 3, 0, 2, 1, \n",
      "\t\t - Samedi, Takerbouzt\t\t5, 6, 0, 2, 1, \n",
      "\t\t - Dim/Mer, Sidi aiche 2\t\t5, 6, 3, 0, 2, 1, \n",
      "\t\t - Mardi, Seddouk 2 , Mouhli\t\t6, 1, 0, 2, \n",
      "\t\t - Lundi, Seddouk1, Msisna\t\t6, 1, 0, 2, \n",
      "\t\t - Sam/Mar, Akbou 1\t\t5, 6, 3, 0, 2, 1, \n",
      "\t\t - Mercredi, Chemini 2\t\t5, 6, 3, 0, 2, 1, \n",
      "\t\t - GROSSISTES\t\t5, 4, 6, 3, 0, 2, 1, \n",
      "\t\t - Samedi, Remila + VA + Semaoune \t\t5, 6, 3, 0, 2, 1, \n",
      "\t\t - Dim/Mer,Chorfa,Taghouza\t\t5, 6, 0, 2, 1, \n",
      "\t\t - Mardi, Chemini 1\t\t6, 1, 0, 2, \n",
      "\t\t - Dim/Mer, Akbou 2\t\t5, 6, 3, 0, 2, 1, \n",
      "\t\t - Mar/Dim,,Raffour,Taourirth manseur\t\t5, 6, 3, 0, 2, 1, \n",
      "\t\t - Lun/Sam,Beni maouche\t\t5, 4, 6, 3, 0, 2, 1, \n",
      "\t\t - Lun/Sam, Akbou 3\t\t5, 4, 6, 3, 0, 2, 1, \n",
      "\t\t - Sam/Mar,Sidi aiche 1, Takerietz, Tifra\t\t5, 4, 6, 3, 0, 2, 1, \n",
      "\t\t - Ventes comptoirs\t\t5, 6, 3, 0, 2, 1, \n",
      "\t\t - Mercredi, Biziou, Bouhamza\t\t6, 1, 0, 2, \n",
      "\t\t - Dimanche, Beni mlikche\t\t5, 6, 0, 2, 1, \n",
      "\t\t - Dimanche, sidi ayad + akabiw\t\t6, 5, 0, 2, \n",
      "\t\t - Mer/Lundi, Ighil Ali\t\t5, 6, 3, 0, 2, 1, \n",
      "\t\t - Lundi, Timazrith + ilmathen\t\t6, 1, 0, 2, \n",
      "\t\t - Mer/Lundi,Allaghen,Boudjlil,Bouaziz\t\t5, 6, 3, 0, 2, 1, \n",
      "\t\t - Lun/Sam,Tazmalt 2\t\t5, 6, 3, 0, 2, 1, \n",
      "\t\t - Mar/Dim, Akbou 4\t\t5, 6, 3, 0, 2, 1, \n",
      "\t\t - Sam/Mar,Tazmalt 1\t\t5, 6, 3, 0, 2, 1, \n",
      "\t\t - Mer/Lundi,Ighzer amoukrane2,HELLOUANE\t\t5, 6, 3, 0, 2, 1, \n",
      "\n",
      "--------------------------------------\n",
      "BECHAR  :\n",
      "\t LAAMA MOUSSA  :\n",
      "\t\t - LUNDI, KENADESSA\t\t1, 0, \n",
      "\t\t - LUNDI, DEBDABA 2\t\t3, 0, \n",
      "\t\t - MARDI, 200 - 400 & 600 \t\t5, 6, 0, 2, 1, \n",
      "\t\t - DIMANCHE, DEBDABA 1\t\t6, \n",
      "\t\t - MERCREDI, SNTV & SEBBANE\t\t6, 2, \n",
      "\t\t - MERCREDI, ABADELLA\t\t0, 2, \n",
      "\t\t - SAMEDI, CENTRE VILLE\t\t5, 0, \n",
      "\t\t - GROSSISTES & SUPERETTES\t\t5, 6, 3, 0, 2, 1, \n",
      "\t\t - JEUDI, KANDAHAR & BIDENDOU\t\t3, 0, \n",
      "\n",
      "--------------------------------------\n",
      "TIPAZA  :\n",
      "\t SARL DISTRI LAIT  :\n",
      "\t\t - Ventes dÃÂÃÂ©pÃÂÃÂ´t\t\t5, 4, 6, 3, 0, 2, 1, \n",
      "\t\t - Sam/Mar, Cherchell 1\t\t5, 6, 3, 0, 2, 1, \n",
      "\t\t - Mar/Sam, Cherchell 4\t\t5, 4, 6, 3, 0, 2, 1, \n",
      "\t\t - Mer/Dim, Sidi Rached/ Attatba\t\t5, 6, 3, 0, 2, \n"
     ]
    },
    {
     "name": "stdout",
     "output_type": "stream",
     "text": [
      "\t\t - Mar/Sam, Gouraya 2\t\t5, 6, 3, 0, 2, 1, \n",
      "\t\t - Sam/Mar, Hadjout 1\t\t5, 6, 3, 0, 2, 1, \n",
      "\t\t - Mer/Dim, Sidi Ghiles\t\t6, 3, 0, 2, \n",
      "\t\t - Grossistes\t\t5, 4, 6, 3, 0, 2, 1, \n",
      "\t\t - Lun/Jeu, Hadjout 3/ Merad\t\t5, 6, 3, 0, 2, 1, \n",
      "\t\t - Lun/Jeu, Gouraya 1/ Messelmoun/ \t\t5, 6, 3, 0, 2, 1, \n",
      "\t\t - Sam/Mar, Nador/ Sidi Ameur/ Men\t\t5, 4, 6, 3, 0, 2, 1, \n",
      "\t\t - Dim/Mer, Chaiba\t\t5, 6, 3, 0, 2, 1, \n",
      "\t\t - Mar/Sam, Bouharoun/ Ain Tagourai\t\t5, 4, 6, 3, 0, 2, 1, \n",
      "\t\t - Jeu/Lun, Hmer El Ain/ Bourkika\t\t5, 6, 3, 0, 1, \n",
      "\t\t - Jeu/Lun, Damous/ Larhat\t\t5, 6, 3, 0, 2, 1, \n",
      "\t\t - Jeu/Lun, El Beldj/ Chenoua\t\t5, 6, 3, 0, 2, 1, \n",
      "\t\t - Mer/Dim, Tipaza 2\t\t5, 6, 3, 0, 2, 1, \n",
      "\t\t - Lun/Jeu, Cherchell 3\t\t5, 6, 3, 0, 2, 1, \n",
      "\t\t - Dim/Mer, Hadjout 2\t\t5, 6, 3, 0, 2, 1, \n",
      "\t\t - Dim/Mer, Cherchell 2\t\t5, 6, 3, 0, 2, 1, \n",
      "\n",
      "--------------------------------------\n",
      "SETIF  :\n",
      "\t EURL CANDY MILK  :\n",
      "\t\t - Dimanche, Salah bay & Draa Elm\t\t5, 4, 6, 3, 0, 2, 1, \n",
      "\t\t - Samedi, Mezlougue, Guellal et \t\t5, 4, 6, 3, 0, 2, 1, \n",
      "\t\t - Grossistes 1\t\t5, 4, 6, 3, 0, 2, 1, \n",
      "\t\t - Lundi, Tizi N'bechar & Amoucha\t\t6, 5, 0, 2, \n",
      "\t\t - Mar/Jeu,   Tandja, 1006 Logt\t\t5, 6, 3, 0, 2, 1, \n",
      "\t\t - SupÃÂÃÂ©rettes\t\t5, 4, 6, 3, 0, 2, 1, \n",
      "\t\t -  Sam/Lun,  El hidhab, laararess\t\t5, 6, 3, 0, 2, 1, \n",
      "\t\t - Mer/Sam,   Hechama, Ain mous\t\t5, 6, 3, 0, 2, 1, \n",
      "\t\t - Ventes comptoirs 1\t\t5, 4, 6, 3, 0, 2, 1, \n",
      "\t\t - Jeu/Dim,   400 logt, 1014 logt.\t\t5, 6, 3, 0, 2, 1, \n",
      "\t\t - Merceredi, Beni ourtilane, Oued sebt\t\t6, 3, 0, 2, 1, \n",
      "\t\t - Lundi, Ain Oulemane 1\t\t5, 4, 6, 3, 0, 2, 1, \n",
      "\t\t - Dim/Mar  Boussekine, kaaboub.\t\t5, 6, 3, 0, 2, 1, \n",
      "\t\t - Samedi, Ourissia, Ain Kbira\t\t5, 6, 3, 0, 2, 1, \n",
      "\t\t - Jeudi, Ain Arnet 2/CHOUF LAGDD\t\t5, 6, 3, 0, 2, 1, \n",
      "\t\t - Mercredi, Ain arnet 1 / Ain ab\t\t5, 6, 3, 0, 2, 1, \n",
      "\t\t - Jeudi, Ain terrigue, Bayda Borj, Tella\t\t6, 3, 1, 0, \n",
      "\t\t - Mardi,  Bougaa\t\t5, 6, 0, 2, 1, \n",
      "\t\t - Dimanche, Bouandas et Tizi N'b\t\t5, 6, 3, 0, 2, 1, \n",
      "\t\t - Mardi, Ain Oulemane 2\t\t5, 4, 6, 3, 0, 2, 1, \n",
      "\t\t - Lun/Mer,   600 logt, tandja.\t\t5, 4, 6, 3, 0, 2, 1, \n",
      "\n",
      "\t EURL DELICIOUS MILK  :\n",
      "\t\t - DIM/MAR 2,Bouaouadja,guedjel,\t\t6, 0, 2, \n",
      "\t\t - JEU/DIMi , 750, belair, farmatou\t\t5, 6, 3, 0, 2, 1, \n",
      "\t\t - Grossistes El Eulma\t\t5, 4, 6, 3, 0, 2, 1, \n",
      "\t\t - DIM/MAR Dallas, Tbinet\t\t5, 6, 3, 0, 2, 1, \n",
      "\t\t - LUN/MER, El Eulma ( CitÃÂÃÂ© samaa, \t\t5, 6, 3, 0, 2, 1, \n",
      "\t\t - SAM/LUN, Centre ville, cheminot\t\t5, 4, 6, 3, 0, 2, 1, \n",
      "\t\t - DIM/MAR, Beni aziz et Djemi\t\t5, 6, 3, 0, 2, 1, \n",
      "\t\t - SAM/LUN,El Eulma (CitÃÂÃÂ© LSP,citÃÂÃÂ©\t\t5, 4, 6, 3, 0, 2, 1, \n",
      "\t\t - SAM/LUN,MarchÃÂÃÂ© . 1014, 1006, RA\t\t5, 6, 3, 0, 2, 1, \n",
      "\t\t - MAR/JEU, El Eulma ( Gotali/440Log) \t\t5, 6, 3, 0, 2, 1, \n",
      "\t\t - LUN/MER, Ain lehdjer,Remada,Hamm\t\t5, 6, 0, 2, 1, \n",
      "\t\t - JEU/DIM, El Eulma ( Centre vill\t\t5, 4, 6, 3, 0, 2, 1, \n",
      "\t\t - DIM/MAR,  El Eulma ( Douar so\t\t5, 6, 3, 0, 2, 1, \n",
      "\t\t - Grossistes 2\t\t5, 6, 3, 0, 2, 1, \n",
      "\t\t - MAR/JEU, Inderiolie, combattants\t\t5, 6, 3, 0, 2, 1, \n",
      "\t\t - MER/SAM, El Eulma, Bir el ar\t\t5, 4, 6, 3, 0, 2, \n",
      "\t\t - LUN/MER, 1000, 400 lgts, la gare\t\t5, 6, 3, 0, 2, 1, \n",
      "\t\t - MAR/JEU,  Ain azel 01.\t\t5, 6, 3, 0, 2, 1, \n",
      "\t\t - MER/SAM, Ain azel 02.\t\t5, 6, 3, 0, 2, 1, \n",
      "\t\t - JEU/DIM, Bouferoudj, hammam,Ain el roua\t\t5, 6, 3, 0, 2, 1, \n",
      "\t\t - MER/SAM Maabouda, Ladjnane\t\t5, 6, 3, 0, 2, 1, \n",
      "\n",
      "--------------------------------------\n",
      "SAIDA  :\n",
      "\t BELHOCINE Abdellatif  :\n",
      "\t\t - DIMANCHE,MERCREDI, SAIDA 02\t\t5, 4, 6, 3, 0, 2, 1, \n",
      "\t\t - MARDI,SAMEDI, SAIDA 04\t\t5, 4, 6, 3, 0, 2, 1, \n",
      "\t\t - Grossistes & SupÃÂÃÂ©rettes\t\t5, 4, 6, 3, 0, 2, 1, \n",
      "\t\t - YOUBE\t\t5, 4, 6, 3, 2, 1, \n",
      "\t\t - MERCREDI,DIMANCHE, SAIDA 05\t\t5, 4, 6, 3, 0, 2, 1, \n",
      "\t\t - JEUDI,LUNDI, SAIDA 06\t\t5, 4, 6, 3, 0, 2, 1, \n",
      "\t\t - SAMEDI,MARDI, SAIDA 01\t\t5, 4, 6, 3, 0, 2, 1, \n",
      "\t\t - HSASNA\t\t6, 3, \n",
      "\t\t - BALOULE\t\t5, 4, 6, 3, 0, 2, 1, \n",
      "\t\t - LUNDI,JEUDI, SAIDA 03\t\t5, 4, 6, 3, 0, 2, 1, \n",
      "\n",
      "--------------------------------------\n",
      "MEDEA  :\n",
      "\t SNC TITTERI DISTRIB  :\n",
      "\t\t - Ventes dÃÂÃÂ©pÃÂÃÂ´t\t\t5, 4, 6, 3, 0, 2, 1, \n",
      "\t\t - Sidi naamane / Bouskene\t\t1, 0, 2, \n",
      "\t\t - Mercredi,  Ksar El Boukhari, M\t\t5, 6, 3, 0, 2, 1, \n",
      "\t\t - Mecredi,  Birine, Boughezoul\t\t5, 6, 3, 0, 2, \n",
      "\t\t - Lundi, Medea 3\t\t5, 6, 3, 0, 2, 1, \n",
      "\t\t - Mardi, Beni Slimane\t\t5, 6, 3, 0, 2, 1, \n",
      "\t\t - Dimanche, Berouaguia 2\t\t5, 6, 3, 0, 2, 1, \n",
      "\t\t - Sidi laadjal / Chahbounia\t\t5, 6, 3, 0, 2, 1, \n",
      "\t\t - Samedi, MÃÂÃÂ©dÃÂÃÂ©a 05, Ouamri, Draa\t\t5, 6, 3, 0, 2, 1, \n",
      "\t\t - Grossistes\t\t5, 4, 6, 3, 0, 2, 1, \n",
      "\t\t - Samedi, Berouaguia 1\t\t5, 6, 3, 0, 2, 1, \n",
      "\t\t - Dimanche, Medea 2\t\t5, 6, 3, 0, 2, 1, \n",
      "\t\t - SECTEUR \t\t1, \n",
      "\t\t - Mercredi,  EL Omaria, Benchica\t\t5, 6, 3, 0, 2, 1, \n",
      "\t\t - Lundi,  Tablat 02, Galb Kbir, \t\t5, 6, 3, 0, 2, 1, \n",
      "\t\t - Dimanche, Tablat 01\t\t5, 6, 3, 0, 2, 1, \n",
      "\t\t - Lundi, Ain Boucif, Telet Douai\t\t5, 6, 3, 0, 2, 1, \n",
      "\t\t - Samedi, Medea 1\t\t5, 6, 3, 0, 2, 1, \n",
      "\t\t - Lundi, Berouaguia 3, Zoubiria,\t\t5, 6, 3, 0, 2, 1, \n",
      "\t\t - Mardi, Souagui, Chelalet Adoue\t\t5, 6, 3, 0, 2, 1, \n",
      "\t\t - Mardi, Medea 4\t\t5, 6, 3, 0, 2, 1, \n",
      "\n",
      "--------------------------------------\n",
      "M'SILA  :\n",
      "\t SARL SONARIX  :\n",
      "\t\t - DIM/MER , Boussaada 2\t\t5, 6, 3, 0, 2, 1, \n",
      "\t\t - Samedi, Djaafra/ La Rokade/Ain Khadra\t\t5, 4, 6, 3, 0, 2, 1, \n",
      "\t\t - MER/LUN , Magra/ Belaiba\t\t5, 4, 6, 3, 2, 1, \n",
      "\t\t - MAR/DIM , Boussaada 3\t\t5, 4, 6, 3, 0, 2, 1, \n",
      "\t\t - SAM/MAR , Boussaada 1\t\t5, 4, 6, 3, 0, 2, 1, \n",
      "\t\t - Lundi,Gros Sidi Aissa/D.Ouanougha\t\t6, 3, 5, 0, \n",
      "\t\t - LUN/SAM , Sidi Aissa\t\t6, 3, 0, 2, 1, \n",
      "\t\t - SAM/MAR , M'sila 1\t\t5, 4, 6, 3, 0, 2, 1, \n",
      "\t\t - Mercredi, Gros Selmene/Barhoum/Magra\t\t5, 6, 3, 0, 2, 1, \n",
      "\t\t - DIM/MER , M'sila 2\t\t5, 4, 6, 3, 0, 2, 1, \n",
      "\t\t - Mercredi, Selmene/Barhoum\t\t6, 3, 0, 2, \n",
      "\t\t - Lundi, Ain H'djel\t\t5, 6, 3, 0, 2, 1, \n",
      "\t\t - Dimanche,El Hamel/Ain El Malhe\t\t6, \n",
      "\t\t - MAR/DIM , M'sila 4\t\t5, 4, 6, 3, 0, 2, 1, \n",
      "\t\t - Samedi,Diss/El Batane\t\t5, 6, 3, 0, 1, \n",
      "\t\t - Dimanche,Gros M'sila\t\t6, 1, 0, 2, \n",
      "\t\t - Mardi, Gros Boussaada\t\t5, 4, 6, 3, 0, 2, 1, \n",
      "\t\t - LUN/SAM , M'sila 3\t\t5, 4, 6, 3, 0, 2, 1, \n",
      "\t\t - MER/LUN, M'sila 5\t\t5, 4, 6, 3, 0, 2, 1, \n",
      "\t\t - Mardi, Hammam D'halaa\t\t5, 4, 6, 3, 0, 2, 1, \n",
      "\n",
      "--------------------------------------\n",
      "LAGHOUAT  :\n",
      "\t DOUIHASNI AYACHE  :\n",
      "\t\t - Mardi/Dimanche, Centre ville 0\t\t5, 6, 0, 2, 1, \n",
      "\t\t - Dimanche 02, Lakhneg\t\t6, 1, 0, \n",
      "\t\t - Mercredi 02, B.Benchohra/K'sar e\t\t5, 6, 3, 0, 2, 1, \n",
      "\t\t - Dimanche/Mercredi, Centre vill\t\t5, 6, 3, 0, 2, 1, \n",
      "\t\t - Lundi/Samedi, Centre ville 03\t\t5, 6, 3, 0, 2, 1, \n",
      "\t\t - Mercredi 01, Bellil\t\t5, 2, \n",
      "\t\t - Mercredi/Lundi, Centre ville 0\t\t5, 6, 0, 2, 1, \n",
      "\t\t - Dimanche 01, Sidi Makhlouf\t\t6, 0, \n",
      "\t\t - samedi/Mardi, Centre ville 01\t\t5, 6, 3, 0, 2, 1, \n",
      "\t\t - Mardi, Hassi R'Mel\t\t5, 1, 2, \n",
      "\t\t - Grossistes\t\t5, 4, 6, 3, 0, 2, 1, \n",
      "\t\t - Samedi 01, Gatlat Sidi Saad / E\t\t5, 6, 3, 2, 1, \n",
      "\t\t - Lundi, Aflou 02\t\t5, 6, 0, 2, 1, \n",
      "\t\t - Mardi 02, Hassi Delaa\t\t1, 2, \n",
      "\t\t - Mardi 01, Ain madhi / Tadjemou\t\t6, 1, \n",
      "\t\t - Dimanche, Aflou 01\t\t5, 6, 0, 2, 1, \n",
      "\n",
      "--------------------------------------\n",
      "AIN TEMOUCHENT  :\n",
      "\t BENDIMRED SAMIR  :\n",
      "\t\t - Samedi, Hammam Bouhedjar\t\t6, 5, 3, 0, \n",
      "\t\t - Lundi,Jeudi, LES CASTORS (AT)\t\t5, 6, 3, 0, 2, 1, \n",
      "\t\t - Jeudi,Lundi, Nouvelle Ville (A\t\t5, 6, 3, 0, 2, 1, \n",
      "\t\t - Dimanche, Sidi Benaada & Tergu\t\t6, 0, \n",
      "\t\t - Mardi, BENI SAF 01\t\t5, 3, 0, 2, 1, \n",
      "\t\t - Mercredi, Ain Tolba & Ain Kiha\t\t6, 3, 0, 2, \n",
      "\t\t - Samedi,Mardi, Centre Ville (AT\t\t5, 6, 3, 0, 2, 1, \n",
      "\t\t - Jeudi,  BENI SAF 03\t\t6, 3, 5, 2, \n",
      "\t\t - Mercredi,Dimanche, BARAKA,SAIT\t\t5, 6, 3, 0, 2, 1, \n",
      "\t\t - Mardi,Samedi, EL MALEH\t\t5, 1, 2, \n",
      "\t\t - Lundi, El Amria\t\t6, 1, 0, \n",
      "\t\t - GROSSISTES & SUPERETTES\t\t5, 6, 3, 0, 2, 1, \n",
      "\t\t - Mercredi,  BENI SAF 02\t\t3, 1, 0, 2, \n",
      "\t\t - Dimanche , HBH Hassi Ghella\t\t6, 5, 0, \n",
      "\t\t - Dimanche,Mercredi, Hay Zitoun \t\t5, 6, 3, 0, 2, 1, \n",
      "\n",
      "--------------------------------------\n",
      "ORAN  :\n",
      "\t MELIANI SID AHMED  :\n",
      "\t\t - SAMEDI, GROSSISTES S-H / SUPERETTES\t\t5, 4, 6, 3, 0, 2, 1, \n",
      "\t\t - DIMANCHE - MERCREDI, SAINT PIERRE\t\t5, 4, 6, 3, 0, 2, 1, \n",
      "\t\t - JEUDI - LUNDI, SAINT EUGENE\t\t5, 4, 6, 3, 0, 2, 1, \n",
      "\t\t - SAMEDI - MARDI, CAVIGNAC\t\t5, 4, 6, 3, 0, 2, 1, \n",
      "\t\t - LUNDI - MERCREDI, PLATEAU\t\t5, 6, 3, 0, 2, 1, \n",
      "\t\t - JEUDI, CAF & RESTO : ST HUBERT / CASTORS\t\t6, 3, 0, 2, 1, \n",
      "\t\t - SAMEDI - LUNDI, SAINT HUBERT\t\t5, 4, 6, 3, 0, 2, 1, \n",
      "\t\t - MARDI - SAMEDI, AIN EL TURCK 04\t\t5, 4, 6, 3, 0, 2, 1, \n",
      "\t\t - MERCREDI - DIMANCHE, BEL AIR / DEL MONTE\t\t5, 4, 6, 3, 0, 2, 1, \n",
      "\t\t - MARDI, CAF & RESTO : AIN EL TURCK\t\t1, 0, \n",
      "\t\t - MERCREDI - DIMANCHE, BOUSFER \t\t5, 4, 6, 3, 0, 2, 1, \n",
      "\t\t - VENTES COMPTOIR\t\t5, 6, 3, 0, 2, 1, \n",
      "\t\t - DIMANCHE - MARDI, SID EL HOUARI\t\t5, 6, 3, 0, 2, 1, \n",
      "\t\t - SAMEDI- MARDI, AIN EL TURCK 01\t\t5, 4, 6, 3, 0, 2, 1, \n",
      "\t\t - LUNDI - JEUDI, LA BASTILLE\t\t5, 4, 6, 3, 0, 2, 1, \n",
      "\t\t - DIMANCHE, CAF & RESTO : CENTRE VILLE\t\t5, 4, 6, 3, 0, 2, 1, \n",
      "\t\t - SAMEDI, GROSSISTES CASTORS 2\t\t5, 4, 6, 3, 0, 2, 1, \n",
      "\t\t - MARDI - SAMEDI, CENTRE VILLE\t\t5, 4, 6, 3, 0, 2, 1, \n",
      "\t\t - DIMANCHE - MERCREDI, AIN EL TURCK 02\t\t5, 4, 6, 3, 0, 2, 1, \n",
      "\t\t - LUNDI - JEUDI, AIN EL TURCK 03\t\t5, 4, 6, 3, 0, 2, 1, \n",
      "\t\t - MERCREDI - DIMANCHE, LES CASTORS\t\t5, 6, 3, 0, 2, 1, \n",
      "\t\t - JEUDI, SUPERETTES\t\t5, 4, 6, 3, 0, 2, 1, \n",
      "\t\t - SAMEDI, GROSSISTES LES CASTORS 01\t\t5, 4, 6, 3, 0, 2, 1, \n",
      "\t\t - JEUDI - LUNDI, ANCOR\t\t5, 6, 3, 0, 2, 1, \n",
      "\t\t - MARDI - SAMEDI, EL KHMUL\t\t5, 4, 6, 3, 0, 2, 1, \n",
      "\n",
      "\t IBRIR MOHAMED  :\n",
      "\t\t - MERCREDI, CAF & RESTO : HAMRI / MEDIOUNI / PETIT \t\t5, 6, 3, 0, 2, 1, \n",
      "\t\t - Grossistes Maraval 01\t\t5, 4, 6, 3, 0, 2, 1, \n",
      "\t\t - Lundi,Jeudi, CHAKIB ARESLANE\t\t5, 6, 3, 0, 2, 1, \n",
      "\t\t - Mardi,Samedi, PETIT LAC / ZITOUN\t\t5, 6, 3, 0, 2, 1, \n",
      "\t\t - JEUDI, LUNDI, EL HASSI / ROCHER\t\t5, 6, 3, 0, 2, 1, \n",
      "\t\t - Mercredi,Dimanche, SENIA 02\t\t5, 6, 3, 0, 2, 1, \n",
      "\t\t - Mardi,Samedi, SENIA 01\t\t5, 6, 3, 0, 2, 1, \n",
      "\t\t - SAMEDI, CAF & RESTO : MESSEREGHINE/ BOUTLILIS\t\t5, 4, 6, 0, 2, 1, \n",
      "\t\t - Dimanche,Mercredi, EL HAMRI / MEDIOUNI \t\t5, 6, 0, 2, 1, \n",
      "\t\t - LUNDI,JEUDI, MARAVAL 03\t\t5, 6, 3, 0, 2, 1, \n",
      "\t\t - JEUDI,LUNDI, BOUTLILIS\t\t5, 6, 3, 0, 2, 1, \n",
      "\t\t - SAMEDI, MARDI, SENIA 04\t\t5, 6, 3, 0, 2, 1, \n",
      "\t\t - Mercredi,Dimanche, LES AMANDIERS\t\t5, 6, 3, 0, 2, 1, \n",
      "\t\t - MARDI, CAF & RESTO : MARAVAL / ES SENIA\t\t5, 6, 3, 0, 2, 1, \n",
      "\t\t - Samedi,Mardi, CITE PETIT / VICTOR HUGO\t\t5, 6, 3, 0, 2, 1, \n",
      "\t\t - DIMANCHE, MERCREDI, SENIA 03\t\t5, 6, 3, 0, 2, 1, \n",
      "\t\t - Grossistes Maraval 02\t\t5, 4, 6, 3, 0, 2, 1, \n",
      "\t\t - Dimanche,Mercredi, MARAVAL 02 \t\t5, 4, 6, 3, 0, 2, 1, \n",
      "\t\t - Samedi,Mardi, MARAVAL 01 \t\t5, 6, 3, 0, 2, 1, \n",
      "\t\t - DIMANCHE, CAF & RESTO: EL HASSI / ROCHER / LES AMANDIERS\t\t5, 6, 0, 2, 1, \n",
      "\t\t - Jeudi,Lundi, MESSERGHINE\t\t5, 6, 3, 0, 1, \n",
      "\t\t - Lundi,Jeudi, AIN BAIDA\t\t5, 6, 3, 0, 2, 1, \n",
      "\n",
      "\t IBRIR LAIT  :\n",
      "\t\t - Mercredi,Dimanche, FERNAND VILLE 02\t\t5, 6, 3, 0, 2, 1, \n",
      "\t\t - Lundi,Jeudi, HAY EL YASMINE 02\t\t5, 6, 3, 0, 2, 1, \n",
      "\t\t - Samedi,Mardi, AKID LOTFI 01\t\t5, 6, 3, 0, 2, 1, \n",
      "\t\t - Dimanche,Mercredi, AKID LOTFI 02\t\t5, 6, 3, 0, 2, 1, \n",
      "\t\t - LUNDI,SAMEDI, GAMBETTA\t\t5, 6, 3, 0, 2, 1, \n",
      "\t\t - Lundi,Jeudi, CARTEAU & LES HLM\t\t5, 6, 3, 0, 2, 1, \n",
      "\t\t - Samedi,Mardi, HAY ES SABAH\t\t5, 6, 3, 0, 2, 1, \n",
      "\t\t - Samedi,Mardi, CitÃÂÃÂ© Djamel EL BERKI\t\t5, 4, 6, 3, 0, 2, 1, \n",
      "\t\t - Dimanche,Mercredi, AADL USTO\t\t5, 4, 6, 3, 0, 2, 1, \n",
      "\t\t - MERCREDI, CAF & RESTO : USTO / SABAH / YASMINE / BELGAID\t\t5, 6, 3, 0, 2, 1, \n",
      "\t\t - SAMEDI, CAF LES HLM & GAMBETTA & COSIDER\t\t6, 5, 1, 0, \n",
      "\t\t - Dimanche,Mercredi, HAY EL YASMINE 01\t\t5, 6, 3, 0, 2, 1, \n",
      "\t\t - Mardi,Samedi, MILENIUM 02 & BIR EL DJIR & PEPINIERE\t\t5, 6, 3, 0, 2, 1, \n",
      "\t\t - SUPERETTES\t\t5, 4, 6, 3, 0, 2, 1, \n",
      "\t\t - DIMANCHE, CAF & RESTO : CITE DJAMEL / AADL / BIR EL DJIR\t\t5, 4, 6, 3, 0, 2, 1, \n",
      "\t\t - MARDI, CAF & RESTO : AKID LOTFI\t\t5, 6, 3, 0, 2, 1, \n",
      "\t\t - Mardi,Samedi, BELGAID 01 & CANASTEL 01\t\t5, 6, 3, 0, 2, 1, \n",
      "\t\t - JEUDI,LUNDI EL YASMINE 03\t\t6, 3, 0, 2, 1, \n",
      "\t\t - Mardi,Samedi,FERNAND VILLE 01\t\t5, 6, 3, 0, 2, 1, \n",
      "\t\t - Jeudi,Lundi, CLIENTS 2X\t\t5, 6, 3, 0, 2, 1, \n"
     ]
    },
    {
     "name": "stdout",
     "output_type": "stream",
     "text": [
      "\t\t - GROSSISTES SID SNOUSSI\t\t5, 6, 3, 0, 2, 1, \n",
      "\t\t - JEUDI, CAF: BELGAID & CANASTEL & FERNAND VILLE\t\t3, 2, \n",
      "\t\t - Mercredi,Dimanche, BELGAID 02 & CANASTEL 02\t\t5, 6, 3, 0, 2, 1, \n",
      "\t\t - Jeudi,Lundi, HAY NOUR\t\t6, 3, 0, 2, 1, \n",
      "\t\t - LUNDI, CAF & RESTO : GAMBETTA / ESSEDDIKIA\t\t5, 4, 6, 3, 0, 2, 1, \n",
      "\n",
      "\t BENOUHAMOU  :\n",
      "\t\t - Lundi,Jeudi, ARZEW 03\t\t5, 6, 3, 0, 2, 1, \n",
      "\t\t - Samedi,Mardi, TLELAT 01\t\t5, 4, 6, 3, 0, 2, 1, \n",
      "\t\t - Mardi,Samedi, SID EL BACHIR\t\t5, 4, 6, 3, 0, 2, 1, \n",
      "\t\t -  Grossistes GDYEL \t\t5, 4, 6, 3, 0, 2, 1, \n",
      "\t\t - Mardi,Samedi,AIN EL BYA & BETHIOUA 01\t\t5, 4, 6, 3, 0, 2, 1, \n",
      "\t\t - Lundi,Jeudi, GDYEL 02\t\t5, 6, 3, 0, 2, 1, \n",
      "\t\t - Dimanche,Mercredi, TLELAT 02 + TAFRAOUI + HAMOU ALI\t\t5, 6, 3, 0, 2, 1, \n",
      "\t\t - Mercredi,Dimanche, HASSI MEFSOUKH\t\t5, 6, 3, 0, 2, 1, \n",
      "\t\t - Mardi,Samedi, ST REMY & BRYA\t\t5, 6, 3, 0, 2, 1, \n",
      "\t\t - Samedi,Mardi, GDYEL 01\t\t5, 4, 6, 3, 0, 2, 1, \n",
      "\t\t - Samedi,Mardi, ARZEW 01\t\t5, 4, 6, 3, 0, 2, 1, \n",
      "\t\t - Jeudi,Lundi, BENFREHA & FLEURIS\t\t6, 3, 0, 2, 1, \n",
      "\t\t - Grossistes CHTAIBOU & FLEURIS\t\t5, 6, 3, 0, 2, 1, \n",
      "\t\t - Dimanche,Mercredi, ARZEW 02\t\t5, 6, 3, 0, 2, 1, \n",
      "\t\t - Dimanche,Mercredi, BOUFATIS & H/Ameur & H/BEN OKBA\t\t5, 6, 3, 0, 2, 1, \n",
      "\t\t - Lundi,Jeudi, EL KARMA\t\t5, 6, 3, 0, 2, 1, \n",
      "\t\t - Jeudi,Lundi, CHTAIBOU & Sidi Maarouf & Boudjemaa\t\t5, 6, 3, 0, 2, 1, \n",
      "\t\t - Jeudi,Lundi, HASSI BOUNIF\t\t5, 6, 3, 0, 2, 1, \n",
      "\t\t - Mercredi,Dimanche, PORT AUX POULES & BETHIOUA 02\t\t5, 6, 3, 0, 2, 1, \n",
      "\t\t - Grossistes PDJ\t\t5, 4, 6, 3, 0, 2, 1, \n",
      "\t\t - Mercredi,Dimanche, SID CHAHMI & Garetta\t\t5, 6, 3, 0, 2, 1, \n",
      "\n",
      "--------------------------------------\n",
      "BOUIRA  :\n",
      "\t IBRIR ABDESLAM  :\n",
      "\t\t - DIM/MER, Lakhdaria 2\t\t5, 6, 0, 2, 1, \n",
      "\t\t - Lundi, Sour El Ghozlane 3/Dirah/Oued Berdi\t\t5, 1, 0, \n",
      "\t\t - DIM/MER , Rue de France/SNTV\t\t5, 6, 0, 2, 1, \n",
      "\t\t - Samedi, Sour El Ghozlane 1\t\t5, 6, 3, 0, 2, 1, \n",
      "\t\t - MER/LUN , Lakhdaria 4\t\t5, 4, 6, 3, 0, 2, 1, \n",
      "\t\t - MER/LUN , Herkat/Draa Bordj/Oued Dhous\t\t5, 6, 3, 0, 2, 1, \n",
      "\t\t - LUN/SAM , Lakhdaria 3\t\t5, 4, 6, 0, 2, 1, \n",
      "\t\t - Samedi, M'chedallah 1/Ahnif\t\t6, 5, 1, \n",
      "\t\t - GROSSISTES\t\t5, 4, 6, 3, 0, 2, 1, \n",
      "\t\t - Mardi, M'chedallah 2/Saharidj\t\t1, 2, \n",
      "\t\t - Mercredi, Ait LaÃÂÃÂ ziz\t\t2, \n",
      "\t\t - Mercredi, Haizer, Taghzouyt\t\t5, 6, 0, 2, 1, \n",
      "\t\t - Mardi, Sour El Ghezlane 2\t\t5, 6, 3, 0, 2, 1, \n",
      "\t\t - SAM/MAR, Lakhdaria 1\t\t5, 6, 3, 0, 2, 1, \n",
      "\t\t - Lundi, Aomar, Djebahia\t\t4, 6, 0, 2, 1, \n",
      "\t\t - Dimanche, El hachimia, Bordj Okhris\t\t6, 5, 1, 0, \n",
      "\t\t - Dimanche, CafÃÂÃÂ©terias, KMS, FF Bouira\t\t6, 0, \n",
      "\t\t - Lundi, Ain Bessam 1\t\t5, 4, 6, 3, 0, 2, 1, \n",
      "\t\t - MAR/DIM , CitÃÂÃÂ© Ouest/Chateau/Lot Hocini\t\t5, 6, 3, 0, 2, 1, \n",
      "\t\t - MAR/DIM, Kadiria\t\t5, 6, 3, 0, 2, 1, \n",
      "\t\t - Dimanche, Ain Bessam3/Souk Lakhmis\t\t5, 6, 0, 2, 1, \n",
      "\t\t - Mercredi, Ain Bessam 2\t\t5, 6, 3, 0, 2, 1, \n",
      "\t\t - Mercredi, Bouderbala, Ouled Chalabi, Boukrem\t\t2, \n",
      "\t\t - Mardi, Bir Ghbalou, Sedraia, Raouraoua\t\t3, 1, 0, 2, \n",
      "\t\t - SAM/MAR, 140 lgts/Erriche/Ras Bouira\t\t6, 5, 1, 2, \n",
      "\t\t - Dimanche, El Asnam, Ahl Laksar\t\t6, 5, 1, 0, \n",
      "\t\t - Samedi, El Adjiba, Bechloul\t\t6, 5, 3, 2, \n",
      "\t\t - Lundi, CafÃÂÃÂ©terias, KMS, FF Lakhdaria\t\t5, 6, 3, 0, 2, 1, \n",
      "\t\t - LUN/SAM , 1100 lgts/338 lgts/Sorecal\t\t5, 4, 6, 3, 0, 2, 1, \n",
      "\t\t - SAM/MAR , Ecotec/Frachati\t\t5, 6, 3, 0, 2, 1, \n",
      "\n",
      "--------------------------------------\n",
      "BATNA  :\n",
      "\t BAAZIZI MOHAMED FOUZI  :\n",
      "\t\t - Mardi/Samedi, Bouakal 2\t\t5, 4, 6, 3, 0, 2, 1, \n",
      "\t\t - Mercredi,Aris 2\t\t5, 6, 3, 0, 2, 1, \n",
      "\t\t - Dimanche, Oued El Maa\t\t6, 5, 1, 0, \n",
      "\t\t - Jeudi, Oued Taga\t\t4, 6, 3, 2, 1, \n",
      "\t\t - Mercredi 1, Ichemoul\t\t5, 6, 3, 0, 2, 1, \n",
      "\t\t - Mardi, El Maadher\t\t6, 3, 1, 0, \n",
      "\t\t - Mercredi, Timegad/sidi Maanser\t\t6, 3, 5, 2, \n",
      "\t\t - Grossistes 1\t\t5, 4, 6, 3, 0, 2, 1, \n",
      "\t\t - Mercredi/Dimanche, Tazoult\t\t5, 6, 3, 2, 1, \n",
      "\t\t - Lundi, Fesdis/Djerma/Ain Yagou\t\t6, 3, 0, 2, \n",
      "\t\t - Mardi, Aris 1\t\t5, 6, 3, 0, 2, 1, \n",
      "\t\t - Dimanche, Menaa 2\t\t6, \n",
      "\t\t - Mardi/Samedi, Bouakal 1\t\t6, 5, 1, 0, \n",
      "\t\t - Dimanche/Mercredi, Tamechit/SA\t\t5, 4, 6, 3, 0, 2, \n",
      "\t\t - Dimanche, Ain Djassel/Zana El \t\t6, 3, 5, 2, \n",
      "\t\t - Samedi/Mardi, Centre Ville 2/T\t\t5, 4, 3, 0, 2, 1, \n",
      "\t\t - Mardi/Samedi, Ain Touta 1\t\t5, 6, 3, 2, 1, \n",
      "\t\t - Samedi, Manaa 1\t\t5, 6, 0, 2, 1, \n",
      "\t\t - Samedi, Seriana\t\t5, 4, 6, 0, 2, 1, \n",
      "\t\t - Mercredi/Dimanche, Ain Touta 2\t\t5, 6, 3, 0, 2, 1, \n",
      "\t\t - Jeudi, Chmora\t\t3, \n",
      "\t\t - Jeudi/Lundi, Ain Touta 3\t\t5, 4, 6, 3, 0, 2, 1, \n",
      "\t\t - Dimanche/Mercredi, Bouzourane/\t\t5, 6, 0, 2, 1, \n",
      "\t\t - Samedi/Mardi, Hamla/la Feraill\t\t5, 6, 3, 0, 2, 1, \n",
      "\t\t - Jeudi/Lundi, K'Chida\t\t3, 1, 0, 2, \n",
      "\t\t - Mercredi/Dimanche, Parc ÃÂÃÂ  Four\t\t5, 6, 3, 0, 2, \n",
      "\t\t - Samedi, Tarik Tazoult\t\t6, 5, 1, 3, \n",
      "\t\t - Lundi/Jeudi, CitÃÂÃÂ© Chikhi/Les A\t\t5, 6, 3, 0, 2, 1, \n",
      "\t\t - Lundi/Jeudi, CitÃÂÃÂ© Chouhada\t\t6, 3, 0, 2, 1, \n",
      "\t\t - Lundi, Merouana 4\t\t3, 0, 2, \n",
      "\t\t - Lundi, T'Kout\t\t6, 5, 1, 0, \n",
      "\t\t - Mardi, Merouana 1\t\t3, 1, 0, 2, \n",
      "\t\t - Samedi/Mardi, Centre Ville 1/R\t\t5, 6, 0, 2, 1, \n",
      "\t\t - Jeudi/Lundi, Parc ÃÂÃÂ  Fourage 2\t\t5, 6, 3, 0, 2, 1, \n",
      "\t\t - Mercredi, Merouna 2\t\t3, 1, 0, 2, \n",
      "\t\t - Lundi/Jeudi, Zemala\t\t6, 3, 0, 2, 1, \n",
      "\t\t - Dimanche/Mercredi, 1020/800/50\t\t5, 6, 3, 0, 2, 1, \n",
      "\t\t - Jeudi, Merouana 3/kceur Belazm\t\t6, 3, 0, 2, \n",
      "\n",
      "\t BAAZIZI MOHAMED FOUZI BARIKA  :\n",
      "\t\t - Grossistes 2\t\t5, 6, 3, 0, 2, 1, \n",
      "\t\t - Dimanche,N'gaous 2\t\t5, 6, 3, 0, 2, 1, \n",
      "\t\t - Lundi,N'gaous 3\t\t5, 6, 0, 2, 1, \n",
      "\t\t - Jeudi, Rass Layoune\t\t5, 4, 6, 3, 0, 2, 1, \n",
      "\t\t - Lundi, Barika 3\t\t5, 6, 3, 0, 2, 1, \n",
      "\t\t - Mercredi/El Djezzar/Ouled Ammar/Sefiane\t\t6, 3, 0, 2, 1, \n",
      "\t\t - Mardi, N'gaous 4\t\t5, 6, 3, 0, 2, 1, \n",
      "\t\t - Mercredi, M'doukal/Bitam\t\t5, 1, 0, 2, \n",
      "\t\t - Samedi, Barika 1\t\t5, 4, 6, 3, 0, 2, 1, \n",
      "\t\t - Samedi,N'gaous 1\t\t5, 6, 3, 0, 2, 1, \n",
      "\t\t - Jeudi, Barika 5\t\t5, 6, 3, 0, 2, 1, \n",
      "\t\t - Mardi, Barika 4\t\t6, 3, 0, 2, 1, \n",
      "\t\t - Mercredi, Takeslant/Chedi\t\t3, 5, 2, \n",
      "\t\t - Dimanche, Barika 2\t\t5, 6, 3, 0, 2, 1, \n",
      "\n",
      "--------------------------------------\n",
      "CONSTANTINE  :\n",
      "\t IBRIR AZEDINE  :\n",
      "\t\t - Lundi/ Jeudi, Zouaghi 2/Djenan\t\t5, 6, 3, 0, 2, 1, \n",
      "\t\t - Mercredi/ Dimanche, Chemin des Dame\t\t5, 6, 3, 0, 2, 1, \n",
      "\t\t - Mardi/ Samedi, La Boum/Soreco/\t\t5, 4, 6, 3, 0, 2, 1, \n",
      "\t\t - Samedi/ Mardi, SMK/Boski/Beb kantra\t\t5, 4, 6, 3, 0, 2, 1, \n",
      "\t\t - Lundi/ Jeudi, Daksi\t\t5, 4, 6, 3, 0, 2, 1, \n",
      "\t\t - Jeudi/ Lundi,  Gammas/4 eme /Boumerz\t\t5, 4, 6, 3, 0, 2, 1, \n",
      "\t\t - Dimanche/ Mercredi, Zouaghi 1/\t\t5, 4, 6, 3, 0, 2, 1, \n",
      "\t\t - Samedi/ Mardi, Ziadia/Djbel el Ouahche\t\t5, 4, 6, 3, 0, 2, 1, \n",
      "\t\t - Grossistes 3\t\t5, 6, 3, 0, 2, 1, \n",
      "\t\t - Jeudi/ Lundi, Chaabet rsas/Sissaoui\t\t5, 6, 3, 0, 2, 1, \n",
      "\t\t - Dimanche/ Mercredi, SMK/Mansoura\t\t5, 6, 3, 0, 2, 1, \n",
      "\t\t - Mercredi/ Dimanche, CitÃÂÃÂ© 5 juillet/\t\t5, 6, 3, 0, 2, 1, \n",
      "\t\t - Mardi/ Samedi, Ben Chicou/SMK \t\t5, 4, 6, 3, 0, 2, 1, \n",
      "\n",
      "\t FOURAR SAID  :\n",
      "\t\t - Samedi/ Mardi, St jeant/Koudia\t\t5, 4, 6, 3, 0, 2, 1, \n",
      "\t\t - Dimanche/ Mercredi, Boussouf\t\t5, 6, 3, 0, 2, 1, \n",
      "\t\t - Samedi/ Mardi, Didouche 2/ Ibn Ziad/ Ain kerma\t\t5, 4, 6, 3, 0, 2, 1, \n",
      "\t\t - Mercredi/ Dimanche, Rue de France\t\t5, 6, 3, 0, 2, 1, \n",
      "\t\t - Jeudi/ Lundi, Hetabia/Meziane/\t\t5, 6, 3, 0, 2, 1, \n",
      "\t\t - Mardi/ Samedi, Didouche Mourad\t\t5, 6, 3, 0, 2, 1, \n",
      "\t\t - Dimanche / Mercredi, Benchergui-Beni Hamiden\t\t5, 6, 3, 0, 2, \n",
      "\t\t - Lundi/ Jeudi, El Hamma Bouziane\t\t5, 4, 6, 3, 0, 2, 1, \n",
      "\t\t - Lundi/ Jeudi, Belle vue/Nedjma\t\t5, 6, 3, 0, 2, 1, \n",
      "\t\t - Mardi/ Samedi, CitÃÂÃÂ© 20 Aout/Fillali\t\t5, 6, 3, 0, 2, 1, \n",
      "\t\t - Mercredi/ Dimanche, Zighoud-BE\t\t5, 6, 3, 0, 2, 1, \n",
      "\t\t - Jeudi/ Lundi, Bkira\t\t5, 6, 3, 0, 2, 1, \n",
      "\t\t - Samedi, Grossistes\t\t5, 6, 3, 0, 2, 1, \n",
      "\n",
      "\t EURL NOUNOU COMMERCE   :\n",
      "\t\t - Grossistes 2\t\t5, 6, 3, 0, 2, 1, \n",
      "\t\t - Dimanche/ Mercredi, CitÃÂÃÂ© Haricha\t\t5, 4, 6, 3, 0, 2, 1, \n",
      "\t\t - Samedi/ Mardi, El Kheroub 1\t\t5, 6, 3, 0, 2, 1, \n",
      "\t\t - Mercredi/ Dimanche, El Kheroub 3\t\t5, 6, 3, 0, 2, 1, \n",
      "\t\t - Jeudi/ Lundi, Nouvelle Ville 3\t\t5, 6, 3, 0, 2, 1, \n",
      "\t\t - Samedi/ Mardi, Ain S'mara\t\t5, 4, 6, 3, 0, 2, 1, \n",
      "\t\t - Mardi/ Samedi, Nouvelle Ville  2\t\t5, 4, 6, 3, 0, 2, 1, \n",
      "\t\t - Jeudi/ Lundi, Ouled Rahmoun\t\t6, 3, 0, 2, \n",
      "\t\t - Lundi/ Jeudi, El Khroub 4\t\t5, 6, 3, 0, 2, 1, \n",
      "\t\t - Dimanche/ Mercredi, El Kheroub 2\t\t5, 6, 3, 0, 2, 1, \n",
      "\t\t - Lundi/ Jeudi, Nouvelle Ville 1\t\t5, 4, 6, 3, 0, 2, 1, \n",
      "\t\t - Mercredi/ Dimanche, Nouvelle Ville 4\t\t5, 4, 6, 3, 0, 2, 1, \n",
      "\t\t - Mardi/ Samedi, Ain Abid\t\t5, 6, 3, 0, 2, 1, \n",
      "\n",
      "--------------------------------------\n",
      "EL MENIA  :\n",
      "\t IBRIR GHARDAIA  :\n",
      "\t\t - Mardi/Samedi, Zelfana\t\t5, 1, \n",
      "\t\t - Dimanche/Mercredi, El Atef, Bo\t\t5, 6, 3, 0, 2, \n",
      "\t\t - Mercredi/Dimanche, Beriane\t\t6, 3, 2, \n",
      "\t\t - Jeudi/Lundi, El Guerara\t\t3, 1, 5, 0, \n",
      "\t\t - Mercredi/Dimanche, La ville, B\t\t6, 1, 0, 2, \n",
      "\t\t - Mardi/Samedi, Tenia\t\t5, 4, 6, 3, 0, 2, 1, \n",
      "\t\t - Samedi/Mardi, Metlili 1\t\t6, 5, 1, 0, \n",
      "\t\t - Lundi/Jeudi, Dhaya, Oued Nechou\t\t6, 3, 0, \n",
      "\t\t - Samedi/Mardi, El Kourti\t\t5, 6, 3, 0, 2, 1, \n",
      "\t\t - Dimanche/Mercredi, Metlili 2\t\t6, 3, 5, 2, \n",
      "\t\t - Jeudi/Lundi, Hadj Mesaoud, Mer\t\t5, 6, 3, 0, 2, 1, \n",
      "\t\t - Lundi/Jeudi, Sidi Abaz Bounour\t\t5, 6, 3, 0, 2, 1, \n",
      "\t\t - Grossistes Ghardaia\t\t5, 6, 3, 0, 2, 1, \n",
      "\n",
      "\t Boussena  :\n",
      "\t\t - Lundi, Centre ville\t\t5, 0, 2, \n",
      "\t\t - Samedi, Hassi El Gara 01 \t\t6, 5, 3, 2, \n",
      "\t\t - Mardi, Belbachir\t\t1, 2, \n",
      "\t\t - Mercredi, Hassi Lafhel\t\t1, 0, 2, \n",
      "\t\t - Dimanche, Hassi El Gara 02\t\t6, 5, 0, 2, \n",
      "\n",
      "--------------------------------------\n",
      "TIARET  :\n",
      "\t IBRIR SAMIR  :\n",
      "\t\t - Mercredi, Tiaret 05\t\t5, 6, 3, 0, 2, 1, \n",
      "\t\t - Mardi, Tiaret 04\t\t5, 6, 0, 2, 1, \n",
      "\t\t - Mercredi, Tissemsilet 02\t\t6, 3, 0, 2, 1, \n",
      "\t\t - Samedi, Tiaret 01\t\t5, 6, 3, 0, 2, 1, \n",
      "\t\t - Lundi, Tiaret 03\t\t5, 6, 0, 2, 1, \n",
      "\t\t - Mardi, Tssemsilet 01\t\t1, 0, 2, \n",
      "\t\t - Samedi, Dahmouni\t\t5, 6, 3, 0, 2, 1, \n",
      "\t\t - Mercredi, Sougueur 02\t\t3, 1, 0, 2, \n",
      "\t\t - Grossistes\t\t5, 4, 6, 3, 0, 2, 1, \n",
      "\t\t - Dimanche, Medrissa/Ain Kermes\t\t6, 5, 0, 2, \n",
      "\t\t - Dimanche, Rahouia\t\t6, 5, \n",
      "\t\t - Lundi, Mahdia\t\t6, 1, 0, \n",
      "\t\t - Samedi, Frenda\t\t5, 6, 3, 0, 2, 1, \n",
      "\t\t - Dimanche, Tiaret 02\t\t5, 6, 3, 0, 2, 1, \n",
      "\t\t - Dimanche, Thenia\t\t6, 5, 0, \n",
      "\t\t - Samedi, Takhmert\t\t6, 5, 0, \n",
      "\t\t - Lundi, Ksar Chellala\t\t6, 1, 0, \n",
      "\t\t - Mardi, Sougueur 01\t\t1, 0, 2, \n",
      "\n",
      "--------------------------------------\n",
      "SOUK AHRAS  :\n",
      "\t DRIDI LARBI  :\n",
      "\t\t - Samedi, Machrouha/ Ain sanour/Hennancha\t\t5, 6, 3, 0, 2, 1, \n",
      "\t\t - Mardi-Samedi, Souk Ahras 3\t\t5, 4, 6, 3, 0, 2, 1, \n",
      "\t\t - Lundi, Taoura/zaarouria\t\t5, 6, 3, 0, 2, 1, \n",
      "\t\t - Jeudi-Lundi, Souk Ahras 5\t\t5, 4, 6, 3, 0, 2, 1, \n",
      "\t\t - Mercredi-Dimanche, Souk Ahras 4\t\t5, 4, 6, 3, 0, 2, 1, \n",
      "\t\t - Samedi-Mardi, Souk Ahras 1\t\t5, 4, 6, 3, 0, 2, 1, \n",
      "\t\t - Mercredi, Medaourouche 1 / Drea\t\t5, 4, 6, 3, 0, 2, 1, \n",
      "\t\t - Lundi-Jeudi, Souk Ahras 2\t\t5, 4, 6, 3, 0, 2, 1, \n",
      "\t\t - Dimanche-Mercredi, Sedrata\t\t5, 4, 6, 3, 0, 2, 1, \n",
      "\t\t - Mardi, Merahna/ sidi fredj/ouillen\t\t6, 1, 0, 2, \n",
      "\t\t - Dimanche, Hedada/khedara\t\t6, \n",
      "\t\t - Jeudi, Medaourouche 2 \t\t5, 4, 6, 3, 0, 2, 1, \n",
      "\n",
      "--------------------------------------\n",
      "MILA  :\n",
      "\t IBRIR RIDA  :\n",
      "\t\t - Mercredi Tadjenanet 3\t\t5, 6, 0, 2, 1, \n",
      "\t\t - Ventes dÃÂÃÂ©pÃÂÃÂ´t\t\t5, 4, 6, 3, 0, 2, 1, \n",
      "\t\t - Samedi, Grarem Gouga 1\t\t5, 6, 0, 2, 1, \n",
      "\t\t - Mardi, Grarem 2\t\t5, 1, 2, \n",
      "\t\t - Samedi,Ferdjioua 1\t\t5, 1, 3, 0, \n",
      "\t\t - MAR/DIM, Mila Centre 3\t\t5, 6, 0, 2, 1, \n",
      "\t\t - MER/LUN, Mila Centre 4\t\t5, 6, 0, 2, 1, \n",
      "\t\t - LUN/SAM, Mila Centre 1\t\t5, 6, 0, 2, 1, \n",
      "\t\t - Lundi, Ain Beida Hriche/ Zeraia\t\t6, 5, 1, 0, \n",
      "\t\t - Dimanche, Oued El Atmania / Ai\t\t6, 2, \n",
      "\t\t - Grossistes\t\t5, 4, 6, 3, 0, 2, 1, \n",
      "\t\t - Lundi Tassala/Beinanae\t\t6, 5, 0, 2, \n",
      "\t\t - Mercredi, Sidi Merouane\t\t3, 5, 2, \n",
      "\t\t - Samedi, Tadjenanet 1\t\t5, 6, 3, 0, 2, 1, \n",
      "\t\t - Mercredi 1 Lemchira\t\t5, 2, \n",
      "\t\t - Dimanche, Tadjenanet 2\t\t5, 6, 0, 2, 1, \n",
      "\t\t - Mardi, Chelghoum Laid 2\t\t5, 6, 0, 2, 1, \n",
      "\t\t - DIM/MER, Mila Centre 2\t\t5, 6, 0, 2, 1, \n",
      "\t\t - SAM/MARi, Redjas, Rouached\t\t5, 6, 3, 0, 2, 1, \n",
      "\t\t - Dimanche, Tlaghma \t\t6, 5, 0, \n",
      "\t\t - Lundi, Chelghoum Laid 1\t\t5, 6, 0, 2, 1, \n",
      "\t\t - Mardi Ferdjioua 2\t\t5, 1, 0, 2, \n",
      "\t\t - Mercredi 2, Oued Segane\t\t6, 1, 0, 2, \n",
      "\n",
      "--------------------------------------\n",
      "TLEMCEN  :\n",
      "\t IBRIRKHELIL  :\n",
      "\t\t - Jeudi,Lundi,  HENAIA\t\t5, 6, 3, 0, 2, 1, \n",
      "\t\t - Lundi,Jeudi, TLEMCEN SUD 3\t\t5, 6, 3, 0, 2, 1, \n",
      "\t\t - Lundi,Jeudi, EL KIFEN\t\t5, 6, 3, 0, 2, 1, \n",
      "\t\t - Dimanche,Mercredi, IMAMA 02\t\t5, 6, 3, 0, 2, 1, \n",
      "\t\t - Samedi,Mardi, IMAMA 01\t\t5, 6, 3, 0, 2, 1, \n",
      "\t\t - Lundi,Jeudi, SEBDOU 01\t\t6, 3, 0, 2, 1, \n"
     ]
    },
    {
     "name": "stdout",
     "output_type": "stream",
     "text": [
      "\t\t - Mercredi,Dimanche, CHETOUAN\t\t5, 6, 3, 0, 2, 1, \n",
      "\t\t - Samedi,Mardi, REMCHI 01\t\t5, 6, 3, 0, 2, 1, \n",
      "\t\t - Mardi,Samedi, REMCHI 02\t\t5, 6, 3, 0, 2, 1, \n",
      "\t\t - Dimanche ,Mercredi, BENSEKRENE & AIN YO\t\t5, 6, 0, 2, 1, \n",
      "\t\t - Mardi,Samedi, SIDI SAID\t\t5, 6, 3, 0, 1, \n",
      "\t\t - Samedi,Mardi, TLEMCEN SUD 1\t\t5, 4, 6, 3, 0, 2, 1, \n",
      "\t\t -  Grossistes & SupÃÂÃÂ©rettes\t\t5, 6, 3, 0, 2, 1, \n",
      "\t\t - Mercredi,Dimanche, TLEMCEN SUD\t\t5, 6, 3, 0, 2, 1, \n",
      "\t\t - Jeudi,Lundi, TLEMCEN SUD 6\t\t5, 6, 3, 0, 2, \n",
      "\t\t - Dimanche,Mercredi, TLEMCEN SUD\t\t5, 6, 3, 0, 2, 1, \n",
      "\t\t - Jeudi,Lundi, OUDJELIDA\t\t6, 3, 1, 0, \n",
      "\t\t - Mardi,Samedi,TLEMCEN SUD 4\t\t5, 4, 6, 3, 0, 2, 1, \n",
      "\t\t - Mardi,BENI MESTER & AIN DOUZ\t\t5, 6, 3, 0, 2, 1, \n",
      "\t\t - Mercredi,Dimanche,  AIN FEZZA & Ouled M\t\t6, 5, 1, 2, \n",
      "\n",
      "--------------------------------------\n",
      "TIZI OUZOU  :\n",
      "\t SARL CANDY DISTRIBUTION  :\n",
      "\t\t - GROSSISTES 01\t\t5, 6, 3, 0, 2, 1, \n",
      "\t\t - DIM/MAR, Dellys 2\t\t5, 6, 3, 0, 2, 1, \n",
      "\t\t - LUN/MER, Mechtras, Assi Youcef\t\t5, 6, 3, 0, 2, 1, \n",
      "\t\t - DIM/MAR Tizi-Ouzou 2\t\t5, 6, 3, 0, 2, 1, \n",
      "\t\t - SUPERETTES 01\t\t5, 6, 3, 0, 2, 1, \n",
      "\t\t - LUN/MER Tizi-Ouzou 3\t\t5, 6, 3, 0, 2, 1, \n",
      "\t\t - MER/DIM, Boughni 1\t\t5, 6, 3, 0, 2, 1, \n",
      "\t\t - MAR/SAM, Boughni 2\t\t5, 6, 3, 0, 2, 1, \n",
      "\t\t - Dimanche, CafÃÂÃÂ©tÃÂÃÂ©rias N.Ville T-O 02\t\t6, 5, 1, 2, \n",
      "\t\t - DIM/MAR, Draa El Mizane 2\t\t5, 6, 3, 0, 2, 1, \n",
      "\t\t - MAR/SAM Tizi-Ouzou 4\t\t5, 6, 3, 0, 2, 1, \n",
      "\t\t - Mardi, CafÃÂÃÂ©tÃÂÃÂ©rias Draa Ben Khedaa 04\t\t5, 1, 2, \n",
      "\t\t - MER/DIM, Cap Jinnet, Essahel\t\t5, 6, 3, 2, 1, \n",
      "\t\t - Samedi, CafÃÂÃÂ©rÃÂÃÂ©rias Centre Ville T-O 01\t\t5, 6, 0, 2, 1, \n",
      "\t\t - Samedi, cafÃÂÃÂ©rÃÂÃÂ©rias Centre Ville T-O 01\t\t5, \n",
      "\t\t - SAM/LUN Tizi-Ouzou 1\t\t5, 6, 3, 0, 2, 1, \n",
      "\t\t - LUN/MER, Tizi Ghenif\t\t5, 6, 3, 0, 2, \n",
      "\t\t - SAM/LUN, Draa El Mizane 1\t\t5, 6, 3, 0, 2, 1, \n",
      "\t\t - MAR/SAM, Baghlia, Sidi Daoud\t\t5, 6, 3, 2, 1, \n",
      "\t\t - Lundi, CafÃÂÃÂ©tÃÂÃÂ©rias Azazga 03\t\t5, 6, 3, 0, 2, 1, \n",
      "\t\t - MER/DIM Tizi-Ouzou 5\t\t5, 6, 3, 0, 2, 1, \n",
      "\t\t - SAM/LUN, Dellys 1\t\t5, 6, 3, 0, 2, 1, \n",
      "\t\t - Mercredi, CafÃÂÃÂ©tÃÂÃÂ©rias, Boughni, Mech, Maatka 05\t\t6, 1, 0, 2, \n",
      "\t\t - Ventes comptoir\t\t5, 6, 3, 0, 2, 1, \n",
      "\n",
      "\t SARL CANDY DISTRIBUTION 2 -TO  :\n",
      "\t\t - MAR/SAM, Ouadhias 1\t\t5, 6, 0, 2, 1, \n",
      "\t\t - LUN/MER, Bouzeguene, Illoula\t\t6, 3, 0, 2, 1, \n",
      "\t\t - LUN/SAM, Ouagnoune 1\t\t5, 6, 3, 0, 2, 1, \n",
      "\t\t - DIM/MAR, Makouda\t\t5, 6, 3, 0, 2, 1, \n",
      "\t\t - MER/LUN, Freha\t\t5, 6, 3, 0, 2, 1, \n",
      "\t\t - SAM,/MAR Tizi Ouzou 6\t\t5, 4, 6, 3, 0, 2, 1, \n",
      "\t\t - MAR/SAM, Meklaa\t\t5, 3, 0, 2, 1, \n",
      "\t\t - SAM/MAR, Tadmait, Naciria\t\t5, 6, 3, 0, 2, 1, \n",
      "\t\t - DIM/MER, Draa Ben Kheda 1\t\t5, 6, 3, 0, 2, 1, \n",
      "\t\t - LUN/SAM Beni Yenni, Ouacif\t\t5, 6, 3, 0, 2, 1, \n",
      "\t\t - DIM/MAR, Beni Douala, Beni Zm\t\t5, 6, 3, 0, 2, 1, \n",
      "\t\t - MAR/MER, Ouagnoune 2\t\t5, 6, 3, 0, 2, 1, \n",
      "\t\t - MER/LUN, Azazga2\t\t5, 6, 3, 0, 2, 1, \n",
      "\t\t - MER/DIM, Matkas\t\t6, 5, 1, 2, \n",
      "\t\t - MER/DIM, Ouadhias 2\t\t6, 5, 1, 2, \n",
      "\t\t - DIM/MER, Ain El Hammam\t\t5, 6, 3, 0, 2, 1, \n",
      "\t\t - LUN/SAM, Draa Ben Kheda 2\t\t5, 6, 3, 0, 2, 1, \n",
      "\t\t - MAR/DIM, Azazga1\t\t5, 6, 3, 0, 2, 1, \n",
      "\t\t - SAM/LUN, Tizi Rached, Oued Aiss\t\t5, 6, 3, 0, 2, 1, \n",
      "\t\t - DIM/MAR, Larbaa Nath Irathen\t\t5, 6, 3, 0, 2, 1, \n",
      "\t\t - MER/DIM, Attouche, Taouarga, \t\t5, 6, 0, 2, 1, \n",
      "\t\t - LUN/MER, Azeffoune\t\t5, 6, 3, 0, 2, \n",
      "\t\t - SAM/LUN, Iflissen\t\t5, 6, 3, 0, 2, 1, \n",
      "\t\t - MAR/DIM, Iferhounene, ililtene\t\t5, 6, 0, 2, 1, \n",
      "\t\t - SAM/LUN, Tigzirt\t\t5, 6, 3, 0, 2, 1, \n",
      "\n",
      "--------------------------------------\n",
      "EL OUED  :\n",
      "\t ABDESSADOK ALAEDDINE  :\n",
      "\t\t - Ventes dÃÂÃÂ©pÃÂÃÂ´t\t\t5, 4, 6, 3, 0, 2, 1, \n",
      "\t\t - Mercredi, Robbah\t\t5, 6, 3, 0, 2, 1, \n",
      "\t\t - Dimanche/Mercredi, Centre Ville 2 (El O\t\t6, 3, 0, 2, 1, \n",
      "\t\t - Samedi/Mardi, Centre Ville 1 (El Oue\t\t5, 4, 6, 3, 0, 2, 1, \n",
      "\t\t - Grossistes (El Oued)\t\t5, 6, 3, 0, 2, 1, \n",
      "\t\t - Lundi/Jeudi, Centre Ville 3 (El Oued\t\t5, 6, 3, 0, 2, 1, \n",
      "\t\t - Mardi/Samedi, Kouinine/ Guemar 1\t\t5, 4, 6, 3, 0, 2, 1, \n",
      "\t\t - Jeudi/Lundi, Hassaini/Z'goum/Debila/Akfadou/Terfaoui\t\t5, 4, 6, 3, 0, 2, 1, \n",
      "\n",
      "--------------------------------------\n",
      "SIDI BEL ABBES  :\n",
      "\t EURL EL TEWFIK  :\n",
      "\t\t - Mardi, BENHAMOUDA 01\t\t5, 4, 6, 3, 0, 2, 1, \n",
      "\t\t - Dimanche,Mercredi, Ben Badis\t\t6, 5, 2, \n",
      "\t\t - Samedi,Mardi, Sidi LahcÃÂÃÂ¨n\t\t5, 4, 6, 0, 2, 1, \n",
      "\t\t - Lundi,Jeudi, Bab Dhaya & CitÃÂÃÂ© \t\t5, 6, 3, 0, 2, 1, \n",
      "\t\t - Lundi,Jeudi, Sfisef\t\t3, 0, 2, \n",
      "\t\t - Mercredi,Dimanche, Sidi el <Dj\t\t5, 6, 3, 0, 2, 1, \n",
      "\t\t - Mardi,Samedi, LA BimÃÂÃÂ¨re\t\t5, 6, 3, 2, 1, \n",
      "\t\t - Jeudi,  Sidi Brahim & Tassala \t\t3, 1, 5, 0, \n",
      "\t\t - Mercredi,Dimanche, Tlagh\t\t5, 6, 3, 0, 2, \n",
      "\t\t - Samedi,Mardi, Centre Ville \t\t5, 6, 3, 0, 2, 1, \n",
      "\t\t - Dimanche,Mercredi, Sidi yacine\t\t5, 6, 3, 0, 2, 1, \n",
      "\t\t -  Grossistes & SupÃÂÃÂ©rettes\t\t5, 6, 3, 0, 2, 1, \n",
      "\t\t - Jeudi,Lundi, Rocher & Beni Ame\t\t5, 6, 3, 0, 2, 1, \n",
      "\t\t - Mardi,Samedi, ras El Maa\t\t5, 1, 4, \n",
      "\t\t - Dimanche , Adim Fatiha\t\t5, 6, 3, 0, 2, 1, \n",
      "\t\t - Samedi, Guambetta\t\t5, 4, 6, 3, 0, 2, 1, \n",
      "\t\t - Mercredi,  BENHAMOUDA 02\t\t5, 4, 6, 3, 0, 2, 1, \n",
      "\t\t - Lundi, Makadra & Ain El Berd\t\t5, 6, 3, 0, 2, 1, \n",
      "\t\t - Jeudi,Lundi, Tenira\t\t5, 6, 3, 0, 2, 1, \n",
      "\n",
      "--------------------------------------\n"
     ]
    }
   ],
   "source": [
    "for region in sectorDict.keys():\n",
    "    print(region,\" :\")\n",
    "    for sector in sectorDict[region]:\n",
    "        print(\"\\t\",sector,\" :\")\n",
    "        for iti in itiDict[sector].keys():\n",
    "            print(\"\\t\\t -\",iti,end=\"\\t\\t\")\n",
    "            for dw in itiDict[sector][iti]:\n",
    "                print(dw,end=\", \")\n",
    "            print()\n",
    "        print()\n",
    "    print(\"--------------------------------------\")"
   ]
  },
  {
   "cell_type": "code",
   "execution_count": 10,
   "metadata": {
    "scrolled": true
   },
   "outputs": [
    {
     "data": {
      "text/plain": [
       "{'Laits Blancs': ['ENTIER',\n",
       "  'DE 1L',\n",
       "  'VIVA',\n",
       "  'DE 50CL',\n",
       "  'SILHOUETTE',\n",
       "  'DE 1L SANS LACTOSE'],\n",
       " 'laits aromatisÃ©s': ['CHOCO 20CL',\n",
       "  'CHOCO 125 ML',\n",
       "  'FRAISE 125 ML',\n",
       "  'CANDY CARAMEL 125 ML',\n",
       "  'CHOCO 1L',\n",
       "  'FRAISE 20CL',\n",
       "  'BANANE 125 ML',\n",
       "  'R16054'],\n",
       " 'Laits & Jus': ['TWIST O-A 20CL',\n",
       "  'TWIST O-F-B 20CL',\n",
       "  'TWIST O-F-B 1L',\n",
       "  'TWIST O-A 1L',\n",
       "  'TWIST O-M 20CL',\n",
       "  'TWIST P-A 20CL',\n",
       "  'TWIST O-M 1L',\n",
       "  'TWIST P-A 1L',\n",
       "  'TWIST O-F-B 125ML',\n",
       "  'TWIST O-A 125ML'],\n",
       " 'Boissons': ['COCKTAIL 1L',\n",
       "  'ORANGE 1L',\n",
       "  'CITRONNADE',\n",
       "  'NECTAR DE GRENADE',\n",
       "  'COCKTAIL 20CL',\n",
       "  'ORANGE 20CL'],\n",
       " 'Le Maitre Cuisinier': ['PREPARATION CULINAIRE'],\n",
       " 'Le Maitre Glacier': ['ICE CREAM - VANILLE',\n",
       "  'ICE CREAM - CHOCOLAT',\n",
       "  'ICE CREAM - FRAISE'],\n",
       " 'POUDRE ETUI': ['ETUI 500G']}"
      ]
     },
     "execution_count": 10,
     "metadata": {},
     "output_type": "execute_result"
    }
   ],
   "source": [
    "productGamme = myData[[\"PRODUCT_NAME\",\"PRODUCTPAGE_CODE\"]].drop_duplicates()\n",
    "productDict = { gamme : [product for product in productGamme[productGamme[\"PRODUCTPAGE_CODE\"]==gamme][\"PRODUCT_NAME\"]] for gamme in productGamme[\"PRODUCTPAGE_CODE\"].drop_duplicates().tolist()}\n",
    "productDict"
   ]
  },
  {
   "cell_type": "code",
   "execution_count": 25,
   "metadata": {},
   "outputs": [
    {
     "data": {
      "application/vnd.plotly.v1+json": {
       "config": {
        "linkText": "Export to plot.ly",
        "plotlyServerURL": "https://plot.ly",
        "showLink": false
       },
       "data": [
        {
         "mode": "lines",
         "name": "TWIST",
         "type": "scatter",
         "x": [
          "2018-09-26",
          "2018-10-03",
          "2018-10-17",
          "2018-10-24",
          "2018-11-18"
         ],
         "y": [
          1044,
          324,
          738,
          90,
          36
         ]
        }
       ],
       "layout": {
        "template": {
         "data": {
          "bar": [
           {
            "error_x": {
             "color": "#2a3f5f"
            },
            "error_y": {
             "color": "#2a3f5f"
            },
            "marker": {
             "line": {
              "color": "#E5ECF6",
              "width": 0.5
             }
            },
            "type": "bar"
           }
          ],
          "barpolar": [
           {
            "marker": {
             "line": {
              "color": "#E5ECF6",
              "width": 0.5
             }
            },
            "type": "barpolar"
           }
          ],
          "carpet": [
           {
            "aaxis": {
             "endlinecolor": "#2a3f5f",
             "gridcolor": "white",
             "linecolor": "white",
             "minorgridcolor": "white",
             "startlinecolor": "#2a3f5f"
            },
            "baxis": {
             "endlinecolor": "#2a3f5f",
             "gridcolor": "white",
             "linecolor": "white",
             "minorgridcolor": "white",
             "startlinecolor": "#2a3f5f"
            },
            "type": "carpet"
           }
          ],
          "choropleth": [
           {
            "colorbar": {
             "outlinewidth": 0,
             "ticks": ""
            },
            "type": "choropleth"
           }
          ],
          "contour": [
           {
            "colorbar": {
             "outlinewidth": 0,
             "ticks": ""
            },
            "colorscale": [
             [
              0,
              "#0d0887"
             ],
             [
              0.1111111111111111,
              "#46039f"
             ],
             [
              0.2222222222222222,
              "#7201a8"
             ],
             [
              0.3333333333333333,
              "#9c179e"
             ],
             [
              0.4444444444444444,
              "#bd3786"
             ],
             [
              0.5555555555555556,
              "#d8576b"
             ],
             [
              0.6666666666666666,
              "#ed7953"
             ],
             [
              0.7777777777777778,
              "#fb9f3a"
             ],
             [
              0.8888888888888888,
              "#fdca26"
             ],
             [
              1,
              "#f0f921"
             ]
            ],
            "type": "contour"
           }
          ],
          "contourcarpet": [
           {
            "colorbar": {
             "outlinewidth": 0,
             "ticks": ""
            },
            "type": "contourcarpet"
           }
          ],
          "heatmap": [
           {
            "colorbar": {
             "outlinewidth": 0,
             "ticks": ""
            },
            "colorscale": [
             [
              0,
              "#0d0887"
             ],
             [
              0.1111111111111111,
              "#46039f"
             ],
             [
              0.2222222222222222,
              "#7201a8"
             ],
             [
              0.3333333333333333,
              "#9c179e"
             ],
             [
              0.4444444444444444,
              "#bd3786"
             ],
             [
              0.5555555555555556,
              "#d8576b"
             ],
             [
              0.6666666666666666,
              "#ed7953"
             ],
             [
              0.7777777777777778,
              "#fb9f3a"
             ],
             [
              0.8888888888888888,
              "#fdca26"
             ],
             [
              1,
              "#f0f921"
             ]
            ],
            "type": "heatmap"
           }
          ],
          "heatmapgl": [
           {
            "colorbar": {
             "outlinewidth": 0,
             "ticks": ""
            },
            "colorscale": [
             [
              0,
              "#0d0887"
             ],
             [
              0.1111111111111111,
              "#46039f"
             ],
             [
              0.2222222222222222,
              "#7201a8"
             ],
             [
              0.3333333333333333,
              "#9c179e"
             ],
             [
              0.4444444444444444,
              "#bd3786"
             ],
             [
              0.5555555555555556,
              "#d8576b"
             ],
             [
              0.6666666666666666,
              "#ed7953"
             ],
             [
              0.7777777777777778,
              "#fb9f3a"
             ],
             [
              0.8888888888888888,
              "#fdca26"
             ],
             [
              1,
              "#f0f921"
             ]
            ],
            "type": "heatmapgl"
           }
          ],
          "histogram": [
           {
            "marker": {
             "colorbar": {
              "outlinewidth": 0,
              "ticks": ""
             }
            },
            "type": "histogram"
           }
          ],
          "histogram2d": [
           {
            "colorbar": {
             "outlinewidth": 0,
             "ticks": ""
            },
            "colorscale": [
             [
              0,
              "#0d0887"
             ],
             [
              0.1111111111111111,
              "#46039f"
             ],
             [
              0.2222222222222222,
              "#7201a8"
             ],
             [
              0.3333333333333333,
              "#9c179e"
             ],
             [
              0.4444444444444444,
              "#bd3786"
             ],
             [
              0.5555555555555556,
              "#d8576b"
             ],
             [
              0.6666666666666666,
              "#ed7953"
             ],
             [
              0.7777777777777778,
              "#fb9f3a"
             ],
             [
              0.8888888888888888,
              "#fdca26"
             ],
             [
              1,
              "#f0f921"
             ]
            ],
            "type": "histogram2d"
           }
          ],
          "histogram2dcontour": [
           {
            "colorbar": {
             "outlinewidth": 0,
             "ticks": ""
            },
            "colorscale": [
             [
              0,
              "#0d0887"
             ],
             [
              0.1111111111111111,
              "#46039f"
             ],
             [
              0.2222222222222222,
              "#7201a8"
             ],
             [
              0.3333333333333333,
              "#9c179e"
             ],
             [
              0.4444444444444444,
              "#bd3786"
             ],
             [
              0.5555555555555556,
              "#d8576b"
             ],
             [
              0.6666666666666666,
              "#ed7953"
             ],
             [
              0.7777777777777778,
              "#fb9f3a"
             ],
             [
              0.8888888888888888,
              "#fdca26"
             ],
             [
              1,
              "#f0f921"
             ]
            ],
            "type": "histogram2dcontour"
           }
          ],
          "mesh3d": [
           {
            "colorbar": {
             "outlinewidth": 0,
             "ticks": ""
            },
            "type": "mesh3d"
           }
          ],
          "parcoords": [
           {
            "line": {
             "colorbar": {
              "outlinewidth": 0,
              "ticks": ""
             }
            },
            "type": "parcoords"
           }
          ],
          "pie": [
           {
            "automargin": true,
            "type": "pie"
           }
          ],
          "scatter": [
           {
            "marker": {
             "colorbar": {
              "outlinewidth": 0,
              "ticks": ""
             }
            },
            "type": "scatter"
           }
          ],
          "scatter3d": [
           {
            "line": {
             "colorbar": {
              "outlinewidth": 0,
              "ticks": ""
             }
            },
            "marker": {
             "colorbar": {
              "outlinewidth": 0,
              "ticks": ""
             }
            },
            "type": "scatter3d"
           }
          ],
          "scattercarpet": [
           {
            "marker": {
             "colorbar": {
              "outlinewidth": 0,
              "ticks": ""
             }
            },
            "type": "scattercarpet"
           }
          ],
          "scattergeo": [
           {
            "marker": {
             "colorbar": {
              "outlinewidth": 0,
              "ticks": ""
             }
            },
            "type": "scattergeo"
           }
          ],
          "scattergl": [
           {
            "marker": {
             "colorbar": {
              "outlinewidth": 0,
              "ticks": ""
             }
            },
            "type": "scattergl"
           }
          ],
          "scattermapbox": [
           {
            "marker": {
             "colorbar": {
              "outlinewidth": 0,
              "ticks": ""
             }
            },
            "type": "scattermapbox"
           }
          ],
          "scatterpolar": [
           {
            "marker": {
             "colorbar": {
              "outlinewidth": 0,
              "ticks": ""
             }
            },
            "type": "scatterpolar"
           }
          ],
          "scatterpolargl": [
           {
            "marker": {
             "colorbar": {
              "outlinewidth": 0,
              "ticks": ""
             }
            },
            "type": "scatterpolargl"
           }
          ],
          "scatterternary": [
           {
            "marker": {
             "colorbar": {
              "outlinewidth": 0,
              "ticks": ""
             }
            },
            "type": "scatterternary"
           }
          ],
          "surface": [
           {
            "colorbar": {
             "outlinewidth": 0,
             "ticks": ""
            },
            "colorscale": [
             [
              0,
              "#0d0887"
             ],
             [
              0.1111111111111111,
              "#46039f"
             ],
             [
              0.2222222222222222,
              "#7201a8"
             ],
             [
              0.3333333333333333,
              "#9c179e"
             ],
             [
              0.4444444444444444,
              "#bd3786"
             ],
             [
              0.5555555555555556,
              "#d8576b"
             ],
             [
              0.6666666666666666,
              "#ed7953"
             ],
             [
              0.7777777777777778,
              "#fb9f3a"
             ],
             [
              0.8888888888888888,
              "#fdca26"
             ],
             [
              1,
              "#f0f921"
             ]
            ],
            "type": "surface"
           }
          ],
          "table": [
           {
            "cells": {
             "fill": {
              "color": "#EBF0F8"
             },
             "line": {
              "color": "white"
             }
            },
            "header": {
             "fill": {
              "color": "#C8D4E3"
             },
             "line": {
              "color": "white"
             }
            },
            "type": "table"
           }
          ]
         },
         "layout": {
          "annotationdefaults": {
           "arrowcolor": "#2a3f5f",
           "arrowhead": 0,
           "arrowwidth": 1
          },
          "coloraxis": {
           "colorbar": {
            "outlinewidth": 0,
            "ticks": ""
           }
          },
          "colorscale": {
           "diverging": [
            [
             0,
             "#8e0152"
            ],
            [
             0.1,
             "#c51b7d"
            ],
            [
             0.2,
             "#de77ae"
            ],
            [
             0.3,
             "#f1b6da"
            ],
            [
             0.4,
             "#fde0ef"
            ],
            [
             0.5,
             "#f7f7f7"
            ],
            [
             0.6,
             "#e6f5d0"
            ],
            [
             0.7,
             "#b8e186"
            ],
            [
             0.8,
             "#7fbc41"
            ],
            [
             0.9,
             "#4d9221"
            ],
            [
             1,
             "#276419"
            ]
           ],
           "sequential": [
            [
             0,
             "#0d0887"
            ],
            [
             0.1111111111111111,
             "#46039f"
            ],
            [
             0.2222222222222222,
             "#7201a8"
            ],
            [
             0.3333333333333333,
             "#9c179e"
            ],
            [
             0.4444444444444444,
             "#bd3786"
            ],
            [
             0.5555555555555556,
             "#d8576b"
            ],
            [
             0.6666666666666666,
             "#ed7953"
            ],
            [
             0.7777777777777778,
             "#fb9f3a"
            ],
            [
             0.8888888888888888,
             "#fdca26"
            ],
            [
             1,
             "#f0f921"
            ]
           ],
           "sequentialminus": [
            [
             0,
             "#0d0887"
            ],
            [
             0.1111111111111111,
             "#46039f"
            ],
            [
             0.2222222222222222,
             "#7201a8"
            ],
            [
             0.3333333333333333,
             "#9c179e"
            ],
            [
             0.4444444444444444,
             "#bd3786"
            ],
            [
             0.5555555555555556,
             "#d8576b"
            ],
            [
             0.6666666666666666,
             "#ed7953"
            ],
            [
             0.7777777777777778,
             "#fb9f3a"
            ],
            [
             0.8888888888888888,
             "#fdca26"
            ],
            [
             1,
             "#f0f921"
            ]
           ]
          },
          "colorway": [
           "#636efa",
           "#EF553B",
           "#00cc96",
           "#ab63fa",
           "#FFA15A",
           "#19d3f3",
           "#FF6692",
           "#B6E880",
           "#FF97FF",
           "#FECB52"
          ],
          "font": {
           "color": "#2a3f5f"
          },
          "geo": {
           "bgcolor": "white",
           "lakecolor": "white",
           "landcolor": "#E5ECF6",
           "showlakes": true,
           "showland": true,
           "subunitcolor": "white"
          },
          "hoverlabel": {
           "align": "left"
          },
          "hovermode": "closest",
          "mapbox": {
           "style": "light"
          },
          "paper_bgcolor": "white",
          "plot_bgcolor": "#E5ECF6",
          "polar": {
           "angularaxis": {
            "gridcolor": "white",
            "linecolor": "white",
            "ticks": ""
           },
           "bgcolor": "#E5ECF6",
           "radialaxis": {
            "gridcolor": "white",
            "linecolor": "white",
            "ticks": ""
           }
          },
          "scene": {
           "xaxis": {
            "backgroundcolor": "#E5ECF6",
            "gridcolor": "white",
            "gridwidth": 2,
            "linecolor": "white",
            "showbackground": true,
            "ticks": "",
            "zerolinecolor": "white"
           },
           "yaxis": {
            "backgroundcolor": "#E5ECF6",
            "gridcolor": "white",
            "gridwidth": 2,
            "linecolor": "white",
            "showbackground": true,
            "ticks": "",
            "zerolinecolor": "white"
           },
           "zaxis": {
            "backgroundcolor": "#E5ECF6",
            "gridcolor": "white",
            "gridwidth": 2,
            "linecolor": "white",
            "showbackground": true,
            "ticks": "",
            "zerolinecolor": "white"
           }
          },
          "shapedefaults": {
           "line": {
            "color": "#2a3f5f"
           }
          },
          "ternary": {
           "aaxis": {
            "gridcolor": "white",
            "linecolor": "white",
            "ticks": ""
           },
           "baxis": {
            "gridcolor": "white",
            "linecolor": "white",
            "ticks": ""
           },
           "bgcolor": "#E5ECF6",
           "caxis": {
            "gridcolor": "white",
            "linecolor": "white",
            "ticks": ""
           }
          },
          "title": {
           "x": 0.05
          },
          "xaxis": {
           "automargin": true,
           "gridcolor": "white",
           "linecolor": "white",
           "ticks": "",
           "title": {
            "standoff": 15
           },
           "zerolinecolor": "white",
           "zerolinewidth": 2
          },
          "yaxis": {
           "automargin": true,
           "gridcolor": "white",
           "linecolor": "white",
           "ticks": "",
           "title": {
            "standoff": 15
           },
           "zerolinecolor": "white",
           "zerolinewidth": 2
          }
         }
        },
        "title": {
         "text": "QTE"
        }
       }
      },
      "text/html": [
       "<div>\n",
       "        \n",
       "        \n",
       "            <div id=\"2de1fa1d-f783-4973-a7c5-18a7905afe29\" class=\"plotly-graph-div\" style=\"height:525px; width:100%;\"></div>\n",
       "            <script type=\"text/javascript\">\n",
       "                require([\"plotly\"], function(Plotly) {\n",
       "                    window.PLOTLYENV=window.PLOTLYENV || {};\n",
       "                    \n",
       "                if (document.getElementById(\"2de1fa1d-f783-4973-a7c5-18a7905afe29\")) {\n",
       "                    Plotly.newPlot(\n",
       "                        '2de1fa1d-f783-4973-a7c5-18a7905afe29',\n",
       "                        [{\"mode\": \"lines\", \"name\": \"TWIST\", \"type\": \"scatter\", \"x\": [\"2018-09-26\", \"2018-10-03\", \"2018-10-17\", \"2018-10-24\", \"2018-11-18\"], \"y\": [1044.0, 324.0, 738.0, 90.0, 36.0]}],\n",
       "                        {\"template\": {\"data\": {\"bar\": [{\"error_x\": {\"color\": \"#2a3f5f\"}, \"error_y\": {\"color\": \"#2a3f5f\"}, \"marker\": {\"line\": {\"color\": \"#E5ECF6\", \"width\": 0.5}}, \"type\": \"bar\"}], \"barpolar\": [{\"marker\": {\"line\": {\"color\": \"#E5ECF6\", \"width\": 0.5}}, \"type\": \"barpolar\"}], \"carpet\": [{\"aaxis\": {\"endlinecolor\": \"#2a3f5f\", \"gridcolor\": \"white\", \"linecolor\": \"white\", \"minorgridcolor\": \"white\", \"startlinecolor\": \"#2a3f5f\"}, \"baxis\": {\"endlinecolor\": \"#2a3f5f\", \"gridcolor\": \"white\", \"linecolor\": \"white\", \"minorgridcolor\": \"white\", \"startlinecolor\": \"#2a3f5f\"}, \"type\": \"carpet\"}], \"choropleth\": [{\"colorbar\": {\"outlinewidth\": 0, \"ticks\": \"\"}, \"type\": \"choropleth\"}], \"contour\": [{\"colorbar\": {\"outlinewidth\": 0, \"ticks\": \"\"}, \"colorscale\": [[0.0, \"#0d0887\"], [0.1111111111111111, \"#46039f\"], [0.2222222222222222, \"#7201a8\"], [0.3333333333333333, \"#9c179e\"], [0.4444444444444444, \"#bd3786\"], [0.5555555555555556, \"#d8576b\"], [0.6666666666666666, \"#ed7953\"], [0.7777777777777778, \"#fb9f3a\"], [0.8888888888888888, \"#fdca26\"], [1.0, \"#f0f921\"]], \"type\": \"contour\"}], \"contourcarpet\": [{\"colorbar\": {\"outlinewidth\": 0, \"ticks\": \"\"}, \"type\": \"contourcarpet\"}], \"heatmap\": [{\"colorbar\": {\"outlinewidth\": 0, \"ticks\": \"\"}, \"colorscale\": [[0.0, \"#0d0887\"], [0.1111111111111111, \"#46039f\"], [0.2222222222222222, \"#7201a8\"], [0.3333333333333333, \"#9c179e\"], [0.4444444444444444, \"#bd3786\"], [0.5555555555555556, \"#d8576b\"], [0.6666666666666666, \"#ed7953\"], [0.7777777777777778, \"#fb9f3a\"], [0.8888888888888888, \"#fdca26\"], [1.0, \"#f0f921\"]], \"type\": \"heatmap\"}], \"heatmapgl\": [{\"colorbar\": {\"outlinewidth\": 0, \"ticks\": \"\"}, \"colorscale\": [[0.0, \"#0d0887\"], [0.1111111111111111, \"#46039f\"], [0.2222222222222222, \"#7201a8\"], [0.3333333333333333, \"#9c179e\"], [0.4444444444444444, \"#bd3786\"], [0.5555555555555556, \"#d8576b\"], [0.6666666666666666, \"#ed7953\"], [0.7777777777777778, \"#fb9f3a\"], [0.8888888888888888, \"#fdca26\"], [1.0, \"#f0f921\"]], \"type\": \"heatmapgl\"}], \"histogram\": [{\"marker\": {\"colorbar\": {\"outlinewidth\": 0, \"ticks\": \"\"}}, \"type\": \"histogram\"}], \"histogram2d\": [{\"colorbar\": {\"outlinewidth\": 0, \"ticks\": \"\"}, \"colorscale\": [[0.0, \"#0d0887\"], [0.1111111111111111, \"#46039f\"], [0.2222222222222222, \"#7201a8\"], [0.3333333333333333, \"#9c179e\"], [0.4444444444444444, \"#bd3786\"], [0.5555555555555556, \"#d8576b\"], [0.6666666666666666, \"#ed7953\"], [0.7777777777777778, \"#fb9f3a\"], [0.8888888888888888, \"#fdca26\"], [1.0, \"#f0f921\"]], \"type\": \"histogram2d\"}], \"histogram2dcontour\": [{\"colorbar\": {\"outlinewidth\": 0, \"ticks\": \"\"}, \"colorscale\": [[0.0, \"#0d0887\"], [0.1111111111111111, \"#46039f\"], [0.2222222222222222, \"#7201a8\"], [0.3333333333333333, \"#9c179e\"], [0.4444444444444444, \"#bd3786\"], [0.5555555555555556, \"#d8576b\"], [0.6666666666666666, \"#ed7953\"], [0.7777777777777778, \"#fb9f3a\"], [0.8888888888888888, \"#fdca26\"], [1.0, \"#f0f921\"]], \"type\": \"histogram2dcontour\"}], \"mesh3d\": [{\"colorbar\": {\"outlinewidth\": 0, \"ticks\": \"\"}, \"type\": \"mesh3d\"}], \"parcoords\": [{\"line\": {\"colorbar\": {\"outlinewidth\": 0, \"ticks\": \"\"}}, \"type\": \"parcoords\"}], \"pie\": [{\"automargin\": true, \"type\": \"pie\"}], \"scatter\": [{\"marker\": {\"colorbar\": {\"outlinewidth\": 0, \"ticks\": \"\"}}, \"type\": \"scatter\"}], \"scatter3d\": [{\"line\": {\"colorbar\": {\"outlinewidth\": 0, \"ticks\": \"\"}}, \"marker\": {\"colorbar\": {\"outlinewidth\": 0, \"ticks\": \"\"}}, \"type\": \"scatter3d\"}], \"scattercarpet\": [{\"marker\": {\"colorbar\": {\"outlinewidth\": 0, \"ticks\": \"\"}}, \"type\": \"scattercarpet\"}], \"scattergeo\": [{\"marker\": {\"colorbar\": {\"outlinewidth\": 0, \"ticks\": \"\"}}, \"type\": \"scattergeo\"}], \"scattergl\": [{\"marker\": {\"colorbar\": {\"outlinewidth\": 0, \"ticks\": \"\"}}, \"type\": \"scattergl\"}], \"scattermapbox\": [{\"marker\": {\"colorbar\": {\"outlinewidth\": 0, \"ticks\": \"\"}}, \"type\": \"scattermapbox\"}], \"scatterpolar\": [{\"marker\": {\"colorbar\": {\"outlinewidth\": 0, \"ticks\": \"\"}}, \"type\": \"scatterpolar\"}], \"scatterpolargl\": [{\"marker\": {\"colorbar\": {\"outlinewidth\": 0, \"ticks\": \"\"}}, \"type\": \"scatterpolargl\"}], \"scatterternary\": [{\"marker\": {\"colorbar\": {\"outlinewidth\": 0, \"ticks\": \"\"}}, \"type\": \"scatterternary\"}], \"surface\": [{\"colorbar\": {\"outlinewidth\": 0, \"ticks\": \"\"}, \"colorscale\": [[0.0, \"#0d0887\"], [0.1111111111111111, \"#46039f\"], [0.2222222222222222, \"#7201a8\"], [0.3333333333333333, \"#9c179e\"], [0.4444444444444444, \"#bd3786\"], [0.5555555555555556, \"#d8576b\"], [0.6666666666666666, \"#ed7953\"], [0.7777777777777778, \"#fb9f3a\"], [0.8888888888888888, \"#fdca26\"], [1.0, \"#f0f921\"]], \"type\": \"surface\"}], \"table\": [{\"cells\": {\"fill\": {\"color\": \"#EBF0F8\"}, \"line\": {\"color\": \"white\"}}, \"header\": {\"fill\": {\"color\": \"#C8D4E3\"}, \"line\": {\"color\": \"white\"}}, \"type\": \"table\"}]}, \"layout\": {\"annotationdefaults\": {\"arrowcolor\": \"#2a3f5f\", \"arrowhead\": 0, \"arrowwidth\": 1}, \"coloraxis\": {\"colorbar\": {\"outlinewidth\": 0, \"ticks\": \"\"}}, \"colorscale\": {\"diverging\": [[0, \"#8e0152\"], [0.1, \"#c51b7d\"], [0.2, \"#de77ae\"], [0.3, \"#f1b6da\"], [0.4, \"#fde0ef\"], [0.5, \"#f7f7f7\"], [0.6, \"#e6f5d0\"], [0.7, \"#b8e186\"], [0.8, \"#7fbc41\"], [0.9, \"#4d9221\"], [1, \"#276419\"]], \"sequential\": [[0.0, \"#0d0887\"], [0.1111111111111111, \"#46039f\"], [0.2222222222222222, \"#7201a8\"], [0.3333333333333333, \"#9c179e\"], [0.4444444444444444, \"#bd3786\"], [0.5555555555555556, \"#d8576b\"], [0.6666666666666666, \"#ed7953\"], [0.7777777777777778, \"#fb9f3a\"], [0.8888888888888888, \"#fdca26\"], [1.0, \"#f0f921\"]], \"sequentialminus\": [[0.0, \"#0d0887\"], [0.1111111111111111, \"#46039f\"], [0.2222222222222222, \"#7201a8\"], [0.3333333333333333, \"#9c179e\"], [0.4444444444444444, \"#bd3786\"], [0.5555555555555556, \"#d8576b\"], [0.6666666666666666, \"#ed7953\"], [0.7777777777777778, \"#fb9f3a\"], [0.8888888888888888, \"#fdca26\"], [1.0, \"#f0f921\"]]}, \"colorway\": [\"#636efa\", \"#EF553B\", \"#00cc96\", \"#ab63fa\", \"#FFA15A\", \"#19d3f3\", \"#FF6692\", \"#B6E880\", \"#FF97FF\", \"#FECB52\"], \"font\": {\"color\": \"#2a3f5f\"}, \"geo\": {\"bgcolor\": \"white\", \"lakecolor\": \"white\", \"landcolor\": \"#E5ECF6\", \"showlakes\": true, \"showland\": true, \"subunitcolor\": \"white\"}, \"hoverlabel\": {\"align\": \"left\"}, \"hovermode\": \"closest\", \"mapbox\": {\"style\": \"light\"}, \"paper_bgcolor\": \"white\", \"plot_bgcolor\": \"#E5ECF6\", \"polar\": {\"angularaxis\": {\"gridcolor\": \"white\", \"linecolor\": \"white\", \"ticks\": \"\"}, \"bgcolor\": \"#E5ECF6\", \"radialaxis\": {\"gridcolor\": \"white\", \"linecolor\": \"white\", \"ticks\": \"\"}}, \"scene\": {\"xaxis\": {\"backgroundcolor\": \"#E5ECF6\", \"gridcolor\": \"white\", \"gridwidth\": 2, \"linecolor\": \"white\", \"showbackground\": true, \"ticks\": \"\", \"zerolinecolor\": \"white\"}, \"yaxis\": {\"backgroundcolor\": \"#E5ECF6\", \"gridcolor\": \"white\", \"gridwidth\": 2, \"linecolor\": \"white\", \"showbackground\": true, \"ticks\": \"\", \"zerolinecolor\": \"white\"}, \"zaxis\": {\"backgroundcolor\": \"#E5ECF6\", \"gridcolor\": \"white\", \"gridwidth\": 2, \"linecolor\": \"white\", \"showbackground\": true, \"ticks\": \"\", \"zerolinecolor\": \"white\"}}, \"shapedefaults\": {\"line\": {\"color\": \"#2a3f5f\"}}, \"ternary\": {\"aaxis\": {\"gridcolor\": \"white\", \"linecolor\": \"white\", \"ticks\": \"\"}, \"baxis\": {\"gridcolor\": \"white\", \"linecolor\": \"white\", \"ticks\": \"\"}, \"bgcolor\": \"#E5ECF6\", \"caxis\": {\"gridcolor\": \"white\", \"linecolor\": \"white\", \"ticks\": \"\"}}, \"title\": {\"x\": 0.05}, \"xaxis\": {\"automargin\": true, \"gridcolor\": \"white\", \"linecolor\": \"white\", \"ticks\": \"\", \"title\": {\"standoff\": 15}, \"zerolinecolor\": \"white\", \"zerolinewidth\": 2}, \"yaxis\": {\"automargin\": true, \"gridcolor\": \"white\", \"linecolor\": \"white\", \"ticks\": \"\", \"title\": {\"standoff\": 15}, \"zerolinecolor\": \"white\", \"zerolinewidth\": 2}}}, \"title\": {\"text\": \"QTE\"}},\n",
       "                        {\"responsive\": true}\n",
       "                    ).then(function(){\n",
       "                            \n",
       "var gd = document.getElementById('2de1fa1d-f783-4973-a7c5-18a7905afe29');\n",
       "var x = new MutationObserver(function (mutations, observer) {{\n",
       "        var display = window.getComputedStyle(gd).display;\n",
       "        if (!display || display === 'none') {{\n",
       "            console.log([gd, 'removed!']);\n",
       "            Plotly.purge(gd);\n",
       "            observer.disconnect();\n",
       "        }}\n",
       "}});\n",
       "\n",
       "// Listen for the removal of the full notebook cells\n",
       "var notebookContainer = gd.closest('#notebook-container');\n",
       "if (notebookContainer) {{\n",
       "    x.observe(notebookContainer, {childList: true});\n",
       "}}\n",
       "\n",
       "// Listen for the clearing of the current output cell\n",
       "var outputEl = gd.closest('.output');\n",
       "if (outputEl) {{\n",
       "    x.observe(outputEl, {childList: true});\n",
       "}}\n",
       "\n",
       "                        })\n",
       "                };\n",
       "                });\n",
       "            </script>\n",
       "        </div>"
      ]
     },
     "metadata": {},
     "output_type": "display_data"
    }
   ],
   "source": [
    "data=[]\n",
    "y=myData[(myData[\"ITINERARY_NAME\"].str.match(\"Dimanche/Mercredi, 1020/800/50\")) & (myData[\"PRODUCT_NAME\"].str.match(\"TWIST O-A 20CL\"))][[\"GREGORIAN_DATE\",\"SOLD QUANTITY\"]].groupby(\"GREGORIAN_DATE\").sum().tail()\n",
    "data.append(go.Scatter(\n",
    "            x = y.index,\n",
    "            y = y[\"SOLD QUANTITY\"],\n",
    "            mode=\"lines\",\n",
    "            name=f\"TWIST\",))\n",
    "            \n",
    "                                     ###           PLOTING       ###\n",
    "layout = go.Layout(title=f\"QTE\")\n",
    "fig = go.Figure(data=data,layout=layout)\n",
    "pyo.iplot(fig)"
   ]
  },
  {
   "cell_type": "markdown",
   "metadata": {},
   "source": [
    "### BATNA  :\n",
    "*BAAZIZI MOHAMED FOUZI*"
   ]
  },
  {
   "cell_type": "code",
   "execution_count": 34,
   "metadata": {
    "scrolled": false
   },
   "outputs": [
    {
     "data": {
      "application/vnd.jupyter.widget-view+json": {
       "model_id": "d267788a6b784b978f718e9f0a008d30",
       "version_major": 2,
       "version_minor": 0
      },
      "text/plain": [
       "HBox(children=(FloatProgress(value=0.0, max=2.0), HTML(value='')))"
      ]
     },
     "metadata": {},
     "output_type": "display_data"
    },
    {
     "name": "stdout",
     "output_type": "stream",
     "text": [
      "Laits Blancs  :\n"
     ]
    },
    {
     "data": {
      "application/vnd.jupyter.widget-view+json": {
       "model_id": "6d8ba71bd011428eb293c4d190e5dd82",
       "version_major": 2,
       "version_minor": 0
      },
      "text/plain": [
       "HBox(children=(FloatProgress(value=0.0, max=6.0), HTML(value='')))"
      ]
     },
     "metadata": {},
     "output_type": "display_data"
    },
    {
     "name": "stdout",
     "output_type": "stream",
     "text": [
      "\n"
     ]
    },
    {
     "data": {
      "application/vnd.plotly.v1+json": {
       "config": {
        "linkText": "Export to plot.ly",
        "plotlyServerURL": "https://plot.ly",
        "showLink": false
       },
       "data": [
        {
         "mode": "lines",
         "name": "ENTIER",
         "type": "scatter",
         "x": [
          "2018-03-31",
          "2018-04-01",
          "2018-04-15",
          "2018-04-22",
          "2018-05-05",
          "2018-05-06",
          "2018-05-22",
          "2018-05-24",
          "2018-05-27",
          "2018-06-03",
          "2018-06-10",
          "2018-06-17",
          "2018-06-24",
          "2018-07-01",
          "2018-07-04",
          "2018-07-07",
          "2018-07-08",
          "2018-07-12",
          "2018-07-15",
          "2018-07-22",
          "2018-07-29",
          "2018-08-05",
          "2018-08-12",
          "2018-08-18",
          "2018-08-19",
          "2018-08-26",
          "2018-09-02",
          "2018-09-09",
          "2018-09-15",
          "2018-09-16",
          "2018-09-23",
          "2018-09-24",
          "2018-09-30",
          "2018-10-07",
          "2018-10-14",
          "2018-10-28",
          "2018-11-04",
          "2018-11-11",
          "2018-11-17",
          "2018-11-18",
          "2018-11-19",
          "2018-11-26",
          "2018-12-13",
          "2018-12-16",
          "2018-12-17",
          "2018-12-30"
         ],
         "y": [
          24,
          516,
          360,
          276,
          120,
          300,
          48,
          36,
          588,
          720,
          504,
          420,
          468,
          468,
          60,
          60,
          780,
          60,
          444,
          888,
          504,
          936,
          588,
          180,
          432,
          504,
          672,
          726,
          60,
          480,
          684,
          12,
          228,
          1080,
          384,
          360,
          924,
          360,
          72,
          780,
          120,
          108,
          216,
          732,
          144,
          744
         ]
        },
        {
         "mode": "lines",
         "name": "DE 1L",
         "type": "scatter",
         "x": [
          "2018-03-31",
          "2018-04-01",
          "2018-04-02",
          "2018-04-03",
          "2018-04-04",
          "2018-04-08",
          "2018-04-15",
          "2018-04-22",
          "2018-04-28",
          "2018-04-29",
          "2018-05-05",
          "2018-05-06",
          "2018-05-10",
          "2018-05-12",
          "2018-05-13",
          "2018-05-22",
          "2018-05-24",
          "2018-05-27",
          "2018-06-03",
          "2018-06-10",
          "2018-06-17",
          "2018-06-21",
          "2018-06-24",
          "2018-06-27",
          "2018-06-28",
          "2018-07-01",
          "2018-07-04",
          "2018-07-05",
          "2018-07-07",
          "2018-07-08",
          "2018-07-12",
          "2018-07-15",
          "2018-07-19",
          "2018-07-22",
          "2018-07-26",
          "2018-07-29",
          "2018-08-05",
          "2018-08-09",
          "2018-08-12",
          "2018-08-16",
          "2018-08-18",
          "2018-08-19",
          "2018-08-26",
          "2018-09-02",
          "2018-09-09",
          "2018-09-15",
          "2018-09-16",
          "2018-09-23",
          "2018-09-24",
          "2018-09-30",
          "2018-10-07",
          "2018-10-14",
          "2018-10-21",
          "2018-10-28",
          "2018-11-04",
          "2018-11-05",
          "2018-11-11",
          "2018-11-18",
          "2018-11-19",
          "2018-11-25",
          "2018-12-01",
          "2018-12-02",
          "2018-12-09",
          "2018-12-13",
          "2018-12-16",
          "2018-12-17",
          "2018-12-22",
          "2018-12-23",
          "2018-12-27",
          "2018-12-30"
         ],
         "y": [
          60,
          2256,
          12,
          12,
          155,
          3744,
          2004,
          2304,
          360,
          2952,
          564,
          2424,
          96,
          996,
          3036,
          228,
          180,
          2448,
          1092,
          1392,
          828,
          372,
          2040,
          12,
          24,
          1968,
          24,
          24,
          120,
          1644,
          84,
          2148,
          36,
          2256,
          24,
          1824,
          1752,
          24,
          1992,
          24,
          72,
          1164,
          1488,
          2052,
          2376,
          120,
          1728,
          2044,
          84,
          1908,
          2256,
          1908,
          2628,
          1284,
          2412,
          48,
          1704,
          2328,
          144,
          1812,
          384,
          1896,
          1908,
          132,
          1740,
          144,
          360,
          1548,
          36,
          1620
         ]
        },
        {
         "mode": "lines",
         "name": "VIVA",
         "type": "scatter",
         "x": [
          "2018-04-15",
          "2018-04-22",
          "2018-04-29",
          "2018-05-05",
          "2018-05-06",
          "2018-05-22",
          "2018-05-24",
          "2018-05-27",
          "2018-06-03",
          "2018-06-10",
          "2018-06-17",
          "2018-06-24",
          "2018-06-25",
          "2018-06-27",
          "2018-06-28",
          "2018-07-01",
          "2018-07-04",
          "2018-07-05",
          "2018-07-07",
          "2018-07-08",
          "2018-07-12",
          "2018-07-15",
          "2018-07-22",
          "2018-07-26",
          "2018-07-29",
          "2018-08-05",
          "2018-08-09",
          "2018-08-12",
          "2018-08-16",
          "2018-08-18",
          "2018-08-19",
          "2018-08-26",
          "2018-09-02",
          "2018-09-09",
          "2018-09-15",
          "2018-09-27",
          "2018-09-30",
          "2018-10-07",
          "2018-10-14",
          "2018-10-21",
          "2018-10-28",
          "2018-11-04",
          "2018-11-11",
          "2018-11-18",
          "2018-11-25",
          "2018-12-01",
          "2018-12-02",
          "2018-12-13",
          "2018-12-16",
          "2018-12-17",
          "2018-12-20",
          "2018-12-22",
          "2018-12-23",
          "2018-12-30"
         ],
         "y": [
          360,
          288,
          756,
          120,
          576,
          48,
          36,
          660,
          1080,
          708,
          552,
          936,
          360,
          12,
          12,
          864,
          120,
          12,
          132,
          1152,
          72,
          1128,
          1284,
          12,
          960,
          1200,
          12,
          1020,
          12,
          264,
          582,
          1080,
          1152,
          1416,
          96,
          36,
          1560,
          1248,
          984,
          1368,
          1008,
          1296,
          1536,
          1332,
          1380,
          180,
          1248,
          192,
          1128,
          216,
          36,
          360,
          1080,
          1104
         ]
        },
        {
         "mode": "lines",
         "name": "DE 50CL",
         "type": "scatter",
         "x": [
          "2018-06-10",
          "2018-06-17",
          "2018-06-24",
          "2018-07-01",
          "2018-07-08",
          "2018-07-12",
          "2018-07-15",
          "2018-07-22",
          "2018-07-29",
          "2018-08-05",
          "2018-08-12",
          "2018-08-19",
          "2018-08-26",
          "2018-09-02",
          "2018-09-09",
          "2018-10-14",
          "2018-10-28",
          "2018-11-04",
          "2018-11-11",
          "2018-11-18",
          "2018-11-25",
          "2018-12-01",
          "2018-12-02",
          "2018-12-09",
          "2018-12-13",
          "2018-12-16",
          "2018-12-30"
         ],
         "y": [
          288,
          120,
          156,
          108,
          168,
          24,
          132,
          180,
          168,
          180,
          156,
          84,
          72,
          132,
          168,
          384,
          228,
          276,
          168,
          252,
          168,
          48,
          216,
          204,
          36,
          336,
          252
         ]
        },
        {
         "mode": "lines",
         "name": "SILHOUETTE",
         "type": "scatter",
         "x": [
          "2018-04-01",
          "2018-04-02",
          "2018-04-04",
          "2018-04-08",
          "2018-04-22",
          "2018-05-06",
          "2018-05-10",
          "2018-05-24",
          "2018-05-27",
          "2018-05-31",
          "2018-06-03",
          "2018-06-10",
          "2018-06-17",
          "2018-06-24",
          "2018-07-01",
          "2018-07-07",
          "2018-07-08",
          "2018-07-15",
          "2018-07-22",
          "2018-07-29",
          "2018-08-05",
          "2018-08-12",
          "2018-08-18",
          "2018-08-19",
          "2018-08-26",
          "2018-09-02",
          "2018-09-16",
          "2018-09-23",
          "2018-09-30",
          "2018-10-07",
          "2018-10-14",
          "2018-10-21",
          "2018-10-28",
          "2018-11-04",
          "2018-11-11",
          "2018-11-18",
          "2018-11-25",
          "2018-12-02",
          "2018-12-13",
          "2018-12-16",
          "2018-12-17",
          "2018-12-23",
          "2018-12-30"
         ],
         "y": [
          324,
          12,
          48,
          168,
          216,
          240,
          36,
          12,
          228,
          24,
          720,
          408,
          144,
          156,
          192,
          24,
          300,
          216,
          180,
          288,
          336,
          264,
          48,
          144,
          348,
          168,
          432,
          480,
          168,
          180,
          468,
          312,
          468,
          420,
          396,
          300,
          264,
          264,
          108,
          360,
          60,
          240,
          264
         ]
        },
        {
         "mode": "lines",
         "name": "DE 1L SANS LACTOSE",
         "type": "scatter",
         "x": [
          "2018-10-28",
          "2018-11-04",
          "2018-11-18",
          "2018-11-25",
          "2018-12-01",
          "2018-12-02",
          "2018-12-09",
          "2018-12-13",
          "2018-12-16",
          "2018-12-23",
          "2018-12-30"
         ],
         "y": [
          108,
          36,
          108,
          120,
          24,
          36,
          48,
          12,
          60,
          60,
          24
         ]
        }
       ],
       "layout": {
        "template": {
         "data": {
          "bar": [
           {
            "error_x": {
             "color": "#2a3f5f"
            },
            "error_y": {
             "color": "#2a3f5f"
            },
            "marker": {
             "line": {
              "color": "#E5ECF6",
              "width": 0.5
             }
            },
            "type": "bar"
           }
          ],
          "barpolar": [
           {
            "marker": {
             "line": {
              "color": "#E5ECF6",
              "width": 0.5
             }
            },
            "type": "barpolar"
           }
          ],
          "carpet": [
           {
            "aaxis": {
             "endlinecolor": "#2a3f5f",
             "gridcolor": "white",
             "linecolor": "white",
             "minorgridcolor": "white",
             "startlinecolor": "#2a3f5f"
            },
            "baxis": {
             "endlinecolor": "#2a3f5f",
             "gridcolor": "white",
             "linecolor": "white",
             "minorgridcolor": "white",
             "startlinecolor": "#2a3f5f"
            },
            "type": "carpet"
           }
          ],
          "choropleth": [
           {
            "colorbar": {
             "outlinewidth": 0,
             "ticks": ""
            },
            "type": "choropleth"
           }
          ],
          "contour": [
           {
            "colorbar": {
             "outlinewidth": 0,
             "ticks": ""
            },
            "colorscale": [
             [
              0,
              "#0d0887"
             ],
             [
              0.1111111111111111,
              "#46039f"
             ],
             [
              0.2222222222222222,
              "#7201a8"
             ],
             [
              0.3333333333333333,
              "#9c179e"
             ],
             [
              0.4444444444444444,
              "#bd3786"
             ],
             [
              0.5555555555555556,
              "#d8576b"
             ],
             [
              0.6666666666666666,
              "#ed7953"
             ],
             [
              0.7777777777777778,
              "#fb9f3a"
             ],
             [
              0.8888888888888888,
              "#fdca26"
             ],
             [
              1,
              "#f0f921"
             ]
            ],
            "type": "contour"
           }
          ],
          "contourcarpet": [
           {
            "colorbar": {
             "outlinewidth": 0,
             "ticks": ""
            },
            "type": "contourcarpet"
           }
          ],
          "heatmap": [
           {
            "colorbar": {
             "outlinewidth": 0,
             "ticks": ""
            },
            "colorscale": [
             [
              0,
              "#0d0887"
             ],
             [
              0.1111111111111111,
              "#46039f"
             ],
             [
              0.2222222222222222,
              "#7201a8"
             ],
             [
              0.3333333333333333,
              "#9c179e"
             ],
             [
              0.4444444444444444,
              "#bd3786"
             ],
             [
              0.5555555555555556,
              "#d8576b"
             ],
             [
              0.6666666666666666,
              "#ed7953"
             ],
             [
              0.7777777777777778,
              "#fb9f3a"
             ],
             [
              0.8888888888888888,
              "#fdca26"
             ],
             [
              1,
              "#f0f921"
             ]
            ],
            "type": "heatmap"
           }
          ],
          "heatmapgl": [
           {
            "colorbar": {
             "outlinewidth": 0,
             "ticks": ""
            },
            "colorscale": [
             [
              0,
              "#0d0887"
             ],
             [
              0.1111111111111111,
              "#46039f"
             ],
             [
              0.2222222222222222,
              "#7201a8"
             ],
             [
              0.3333333333333333,
              "#9c179e"
             ],
             [
              0.4444444444444444,
              "#bd3786"
             ],
             [
              0.5555555555555556,
              "#d8576b"
             ],
             [
              0.6666666666666666,
              "#ed7953"
             ],
             [
              0.7777777777777778,
              "#fb9f3a"
             ],
             [
              0.8888888888888888,
              "#fdca26"
             ],
             [
              1,
              "#f0f921"
             ]
            ],
            "type": "heatmapgl"
           }
          ],
          "histogram": [
           {
            "marker": {
             "colorbar": {
              "outlinewidth": 0,
              "ticks": ""
             }
            },
            "type": "histogram"
           }
          ],
          "histogram2d": [
           {
            "colorbar": {
             "outlinewidth": 0,
             "ticks": ""
            },
            "colorscale": [
             [
              0,
              "#0d0887"
             ],
             [
              0.1111111111111111,
              "#46039f"
             ],
             [
              0.2222222222222222,
              "#7201a8"
             ],
             [
              0.3333333333333333,
              "#9c179e"
             ],
             [
              0.4444444444444444,
              "#bd3786"
             ],
             [
              0.5555555555555556,
              "#d8576b"
             ],
             [
              0.6666666666666666,
              "#ed7953"
             ],
             [
              0.7777777777777778,
              "#fb9f3a"
             ],
             [
              0.8888888888888888,
              "#fdca26"
             ],
             [
              1,
              "#f0f921"
             ]
            ],
            "type": "histogram2d"
           }
          ],
          "histogram2dcontour": [
           {
            "colorbar": {
             "outlinewidth": 0,
             "ticks": ""
            },
            "colorscale": [
             [
              0,
              "#0d0887"
             ],
             [
              0.1111111111111111,
              "#46039f"
             ],
             [
              0.2222222222222222,
              "#7201a8"
             ],
             [
              0.3333333333333333,
              "#9c179e"
             ],
             [
              0.4444444444444444,
              "#bd3786"
             ],
             [
              0.5555555555555556,
              "#d8576b"
             ],
             [
              0.6666666666666666,
              "#ed7953"
             ],
             [
              0.7777777777777778,
              "#fb9f3a"
             ],
             [
              0.8888888888888888,
              "#fdca26"
             ],
             [
              1,
              "#f0f921"
             ]
            ],
            "type": "histogram2dcontour"
           }
          ],
          "mesh3d": [
           {
            "colorbar": {
             "outlinewidth": 0,
             "ticks": ""
            },
            "type": "mesh3d"
           }
          ],
          "parcoords": [
           {
            "line": {
             "colorbar": {
              "outlinewidth": 0,
              "ticks": ""
             }
            },
            "type": "parcoords"
           }
          ],
          "pie": [
           {
            "automargin": true,
            "type": "pie"
           }
          ],
          "scatter": [
           {
            "marker": {
             "colorbar": {
              "outlinewidth": 0,
              "ticks": ""
             }
            },
            "type": "scatter"
           }
          ],
          "scatter3d": [
           {
            "line": {
             "colorbar": {
              "outlinewidth": 0,
              "ticks": ""
             }
            },
            "marker": {
             "colorbar": {
              "outlinewidth": 0,
              "ticks": ""
             }
            },
            "type": "scatter3d"
           }
          ],
          "scattercarpet": [
           {
            "marker": {
             "colorbar": {
              "outlinewidth": 0,
              "ticks": ""
             }
            },
            "type": "scattercarpet"
           }
          ],
          "scattergeo": [
           {
            "marker": {
             "colorbar": {
              "outlinewidth": 0,
              "ticks": ""
             }
            },
            "type": "scattergeo"
           }
          ],
          "scattergl": [
           {
            "marker": {
             "colorbar": {
              "outlinewidth": 0,
              "ticks": ""
             }
            },
            "type": "scattergl"
           }
          ],
          "scattermapbox": [
           {
            "marker": {
             "colorbar": {
              "outlinewidth": 0,
              "ticks": ""
             }
            },
            "type": "scattermapbox"
           }
          ],
          "scatterpolar": [
           {
            "marker": {
             "colorbar": {
              "outlinewidth": 0,
              "ticks": ""
             }
            },
            "type": "scatterpolar"
           }
          ],
          "scatterpolargl": [
           {
            "marker": {
             "colorbar": {
              "outlinewidth": 0,
              "ticks": ""
             }
            },
            "type": "scatterpolargl"
           }
          ],
          "scatterternary": [
           {
            "marker": {
             "colorbar": {
              "outlinewidth": 0,
              "ticks": ""
             }
            },
            "type": "scatterternary"
           }
          ],
          "surface": [
           {
            "colorbar": {
             "outlinewidth": 0,
             "ticks": ""
            },
            "colorscale": [
             [
              0,
              "#0d0887"
             ],
             [
              0.1111111111111111,
              "#46039f"
             ],
             [
              0.2222222222222222,
              "#7201a8"
             ],
             [
              0.3333333333333333,
              "#9c179e"
             ],
             [
              0.4444444444444444,
              "#bd3786"
             ],
             [
              0.5555555555555556,
              "#d8576b"
             ],
             [
              0.6666666666666666,
              "#ed7953"
             ],
             [
              0.7777777777777778,
              "#fb9f3a"
             ],
             [
              0.8888888888888888,
              "#fdca26"
             ],
             [
              1,
              "#f0f921"
             ]
            ],
            "type": "surface"
           }
          ],
          "table": [
           {
            "cells": {
             "fill": {
              "color": "#EBF0F8"
             },
             "line": {
              "color": "white"
             }
            },
            "header": {
             "fill": {
              "color": "#C8D4E3"
             },
             "line": {
              "color": "white"
             }
            },
            "type": "table"
           }
          ]
         },
         "layout": {
          "annotationdefaults": {
           "arrowcolor": "#2a3f5f",
           "arrowhead": 0,
           "arrowwidth": 1
          },
          "coloraxis": {
           "colorbar": {
            "outlinewidth": 0,
            "ticks": ""
           }
          },
          "colorscale": {
           "diverging": [
            [
             0,
             "#8e0152"
            ],
            [
             0.1,
             "#c51b7d"
            ],
            [
             0.2,
             "#de77ae"
            ],
            [
             0.3,
             "#f1b6da"
            ],
            [
             0.4,
             "#fde0ef"
            ],
            [
             0.5,
             "#f7f7f7"
            ],
            [
             0.6,
             "#e6f5d0"
            ],
            [
             0.7,
             "#b8e186"
            ],
            [
             0.8,
             "#7fbc41"
            ],
            [
             0.9,
             "#4d9221"
            ],
            [
             1,
             "#276419"
            ]
           ],
           "sequential": [
            [
             0,
             "#0d0887"
            ],
            [
             0.1111111111111111,
             "#46039f"
            ],
            [
             0.2222222222222222,
             "#7201a8"
            ],
            [
             0.3333333333333333,
             "#9c179e"
            ],
            [
             0.4444444444444444,
             "#bd3786"
            ],
            [
             0.5555555555555556,
             "#d8576b"
            ],
            [
             0.6666666666666666,
             "#ed7953"
            ],
            [
             0.7777777777777778,
             "#fb9f3a"
            ],
            [
             0.8888888888888888,
             "#fdca26"
            ],
            [
             1,
             "#f0f921"
            ]
           ],
           "sequentialminus": [
            [
             0,
             "#0d0887"
            ],
            [
             0.1111111111111111,
             "#46039f"
            ],
            [
             0.2222222222222222,
             "#7201a8"
            ],
            [
             0.3333333333333333,
             "#9c179e"
            ],
            [
             0.4444444444444444,
             "#bd3786"
            ],
            [
             0.5555555555555556,
             "#d8576b"
            ],
            [
             0.6666666666666666,
             "#ed7953"
            ],
            [
             0.7777777777777778,
             "#fb9f3a"
            ],
            [
             0.8888888888888888,
             "#fdca26"
            ],
            [
             1,
             "#f0f921"
            ]
           ]
          },
          "colorway": [
           "#636efa",
           "#EF553B",
           "#00cc96",
           "#ab63fa",
           "#FFA15A",
           "#19d3f3",
           "#FF6692",
           "#B6E880",
           "#FF97FF",
           "#FECB52"
          ],
          "font": {
           "color": "#2a3f5f"
          },
          "geo": {
           "bgcolor": "white",
           "lakecolor": "white",
           "landcolor": "#E5ECF6",
           "showlakes": true,
           "showland": true,
           "subunitcolor": "white"
          },
          "hoverlabel": {
           "align": "left"
          },
          "hovermode": "closest",
          "mapbox": {
           "style": "light"
          },
          "paper_bgcolor": "white",
          "plot_bgcolor": "#E5ECF6",
          "polar": {
           "angularaxis": {
            "gridcolor": "white",
            "linecolor": "white",
            "ticks": ""
           },
           "bgcolor": "#E5ECF6",
           "radialaxis": {
            "gridcolor": "white",
            "linecolor": "white",
            "ticks": ""
           }
          },
          "scene": {
           "xaxis": {
            "backgroundcolor": "#E5ECF6",
            "gridcolor": "white",
            "gridwidth": 2,
            "linecolor": "white",
            "showbackground": true,
            "ticks": "",
            "zerolinecolor": "white"
           },
           "yaxis": {
            "backgroundcolor": "#E5ECF6",
            "gridcolor": "white",
            "gridwidth": 2,
            "linecolor": "white",
            "showbackground": true,
            "ticks": "",
            "zerolinecolor": "white"
           },
           "zaxis": {
            "backgroundcolor": "#E5ECF6",
            "gridcolor": "white",
            "gridwidth": 2,
            "linecolor": "white",
            "showbackground": true,
            "ticks": "",
            "zerolinecolor": "white"
           }
          },
          "shapedefaults": {
           "line": {
            "color": "#2a3f5f"
           }
          },
          "ternary": {
           "aaxis": {
            "gridcolor": "white",
            "linecolor": "white",
            "ticks": ""
           },
           "baxis": {
            "gridcolor": "white",
            "linecolor": "white",
            "ticks": ""
           },
           "bgcolor": "#E5ECF6",
           "caxis": {
            "gridcolor": "white",
            "linecolor": "white",
            "ticks": ""
           }
          },
          "title": {
           "x": 0.05
          },
          "xaxis": {
           "automargin": true,
           "gridcolor": "white",
           "linecolor": "white",
           "ticks": "",
           "title": {
            "standoff": 15
           },
           "zerolinecolor": "white",
           "zerolinewidth": 2
          },
          "yaxis": {
           "automargin": true,
           "gridcolor": "white",
           "linecolor": "white",
           "ticks": "",
           "title": {
            "standoff": 15
           },
           "zerolinecolor": "white",
           "zerolinewidth": 2
          }
         }
        },
        "title": {
         "text": "QTE Dimanche/Mercredi, 1020/800/50 - Laits Blancs"
        }
       }
      },
      "text/html": [
       "<div>\n",
       "        \n",
       "        \n",
       "            <div id=\"03b63261-0259-498e-b9d9-2754bb230f47\" class=\"plotly-graph-div\" style=\"height:525px; width:100%;\"></div>\n",
       "            <script type=\"text/javascript\">\n",
       "                require([\"plotly\"], function(Plotly) {\n",
       "                    window.PLOTLYENV=window.PLOTLYENV || {};\n",
       "                    \n",
       "                if (document.getElementById(\"03b63261-0259-498e-b9d9-2754bb230f47\")) {\n",
       "                    Plotly.newPlot(\n",
       "                        '03b63261-0259-498e-b9d9-2754bb230f47',\n",
       "                        [{\"mode\": \"lines\", \"name\": \"ENTIER\", \"type\": \"scatter\", \"x\": [\"2018-03-31\", \"2018-04-01\", \"2018-04-15\", \"2018-04-22\", \"2018-05-05\", \"2018-05-06\", \"2018-05-22\", \"2018-05-24\", \"2018-05-27\", \"2018-06-03\", \"2018-06-10\", \"2018-06-17\", \"2018-06-24\", \"2018-07-01\", \"2018-07-04\", \"2018-07-07\", \"2018-07-08\", \"2018-07-12\", \"2018-07-15\", \"2018-07-22\", \"2018-07-29\", \"2018-08-05\", \"2018-08-12\", \"2018-08-18\", \"2018-08-19\", \"2018-08-26\", \"2018-09-02\", \"2018-09-09\", \"2018-09-15\", \"2018-09-16\", \"2018-09-23\", \"2018-09-24\", \"2018-09-30\", \"2018-10-07\", \"2018-10-14\", \"2018-10-28\", \"2018-11-04\", \"2018-11-11\", \"2018-11-17\", \"2018-11-18\", \"2018-11-19\", \"2018-11-26\", \"2018-12-13\", \"2018-12-16\", \"2018-12-17\", \"2018-12-30\"], \"y\": [24.0, 516.0, 360.0, 276.0, 120.0, 300.0, 48.0, 36.0, 588.0, 720.0, 504.0, 420.0, 468.0, 468.0, 60.0, 60.0, 780.0, 60.0, 444.0, 888.0, 504.0, 936.0, 588.0, 180.0, 432.0, 504.0, 672.0, 726.0, 60.0, 480.0, 684.0, 12.0, 228.0, 1080.0, 384.0, 360.0, 924.0, 360.0, 72.0, 780.0, 120.0, 108.0, 216.0, 732.0, 144.0, 744.0]}, {\"mode\": \"lines\", \"name\": \"DE 1L\", \"type\": \"scatter\", \"x\": [\"2018-03-31\", \"2018-04-01\", \"2018-04-02\", \"2018-04-03\", \"2018-04-04\", \"2018-04-08\", \"2018-04-15\", \"2018-04-22\", \"2018-04-28\", \"2018-04-29\", \"2018-05-05\", \"2018-05-06\", \"2018-05-10\", \"2018-05-12\", \"2018-05-13\", \"2018-05-22\", \"2018-05-24\", \"2018-05-27\", \"2018-06-03\", \"2018-06-10\", \"2018-06-17\", \"2018-06-21\", \"2018-06-24\", \"2018-06-27\", \"2018-06-28\", \"2018-07-01\", \"2018-07-04\", \"2018-07-05\", \"2018-07-07\", \"2018-07-08\", \"2018-07-12\", \"2018-07-15\", \"2018-07-19\", \"2018-07-22\", \"2018-07-26\", \"2018-07-29\", \"2018-08-05\", \"2018-08-09\", \"2018-08-12\", \"2018-08-16\", \"2018-08-18\", \"2018-08-19\", \"2018-08-26\", \"2018-09-02\", \"2018-09-09\", \"2018-09-15\", \"2018-09-16\", \"2018-09-23\", \"2018-09-24\", \"2018-09-30\", \"2018-10-07\", \"2018-10-14\", \"2018-10-21\", \"2018-10-28\", \"2018-11-04\", \"2018-11-05\", \"2018-11-11\", \"2018-11-18\", \"2018-11-19\", \"2018-11-25\", \"2018-12-01\", \"2018-12-02\", \"2018-12-09\", \"2018-12-13\", \"2018-12-16\", \"2018-12-17\", \"2018-12-22\", \"2018-12-23\", \"2018-12-27\", \"2018-12-30\"], \"y\": [60.0, 2256.0, 12.0, 12.0, 155.0, 3744.0, 2004.0, 2304.0, 360.0, 2952.0, 564.0, 2424.0, 96.0, 996.0, 3036.0, 228.0, 180.0, 2448.0, 1092.0, 1392.0, 828.0, 372.0, 2040.0, 12.0, 24.0, 1968.0, 24.0, 24.0, 120.0, 1644.0, 84.0, 2148.0, 36.0, 2256.0, 24.0, 1824.0, 1752.0, 24.0, 1992.0, 24.0, 72.0, 1164.0, 1488.0, 2052.0, 2376.0, 120.0, 1728.0, 2044.0, 84.0, 1908.0, 2256.0, 1908.0, 2628.0, 1284.0, 2412.0, 48.0, 1704.0, 2328.0, 144.0, 1812.0, 384.0, 1896.0, 1908.0, 132.0, 1740.0, 144.0, 360.0, 1548.0, 36.0, 1620.0]}, {\"mode\": \"lines\", \"name\": \"VIVA\", \"type\": \"scatter\", \"x\": [\"2018-04-15\", \"2018-04-22\", \"2018-04-29\", \"2018-05-05\", \"2018-05-06\", \"2018-05-22\", \"2018-05-24\", \"2018-05-27\", \"2018-06-03\", \"2018-06-10\", \"2018-06-17\", \"2018-06-24\", \"2018-06-25\", \"2018-06-27\", \"2018-06-28\", \"2018-07-01\", \"2018-07-04\", \"2018-07-05\", \"2018-07-07\", \"2018-07-08\", \"2018-07-12\", \"2018-07-15\", \"2018-07-22\", \"2018-07-26\", \"2018-07-29\", \"2018-08-05\", \"2018-08-09\", \"2018-08-12\", \"2018-08-16\", \"2018-08-18\", \"2018-08-19\", \"2018-08-26\", \"2018-09-02\", \"2018-09-09\", \"2018-09-15\", \"2018-09-27\", \"2018-09-30\", \"2018-10-07\", \"2018-10-14\", \"2018-10-21\", \"2018-10-28\", \"2018-11-04\", \"2018-11-11\", \"2018-11-18\", \"2018-11-25\", \"2018-12-01\", \"2018-12-02\", \"2018-12-13\", \"2018-12-16\", \"2018-12-17\", \"2018-12-20\", \"2018-12-22\", \"2018-12-23\", \"2018-12-30\"], \"y\": [360.0, 288.0, 756.0, 120.0, 576.0, 48.0, 36.0, 660.0, 1080.0, 708.0, 552.0, 936.0, 360.0, 12.0, 12.0, 864.0, 120.0, 12.0, 132.0, 1152.0, 72.0, 1128.0, 1284.0, 12.0, 960.0, 1200.0, 12.0, 1020.0, 12.0, 264.0, 582.0, 1080.0, 1152.0, 1416.0, 96.0, 36.0, 1560.0, 1248.0, 984.0, 1368.0, 1008.0, 1296.0, 1536.0, 1332.0, 1380.0, 180.0, 1248.0, 192.0, 1128.0, 216.0, 36.0, 360.0, 1080.0, 1104.0]}, {\"mode\": \"lines\", \"name\": \"DE 50CL\", \"type\": \"scatter\", \"x\": [\"2018-06-10\", \"2018-06-17\", \"2018-06-24\", \"2018-07-01\", \"2018-07-08\", \"2018-07-12\", \"2018-07-15\", \"2018-07-22\", \"2018-07-29\", \"2018-08-05\", \"2018-08-12\", \"2018-08-19\", \"2018-08-26\", \"2018-09-02\", \"2018-09-09\", \"2018-10-14\", \"2018-10-28\", \"2018-11-04\", \"2018-11-11\", \"2018-11-18\", \"2018-11-25\", \"2018-12-01\", \"2018-12-02\", \"2018-12-09\", \"2018-12-13\", \"2018-12-16\", \"2018-12-30\"], \"y\": [288.0, 120.0, 156.0, 108.0, 168.0, 24.0, 132.0, 180.0, 168.0, 180.0, 156.0, 84.0, 72.0, 132.0, 168.0, 384.0, 228.0, 276.0, 168.0, 252.0, 168.0, 48.0, 216.0, 204.0, 36.0, 336.0, 252.0]}, {\"mode\": \"lines\", \"name\": \"SILHOUETTE\", \"type\": \"scatter\", \"x\": [\"2018-04-01\", \"2018-04-02\", \"2018-04-04\", \"2018-04-08\", \"2018-04-22\", \"2018-05-06\", \"2018-05-10\", \"2018-05-24\", \"2018-05-27\", \"2018-05-31\", \"2018-06-03\", \"2018-06-10\", \"2018-06-17\", \"2018-06-24\", \"2018-07-01\", \"2018-07-07\", \"2018-07-08\", \"2018-07-15\", \"2018-07-22\", \"2018-07-29\", \"2018-08-05\", \"2018-08-12\", \"2018-08-18\", \"2018-08-19\", \"2018-08-26\", \"2018-09-02\", \"2018-09-16\", \"2018-09-23\", \"2018-09-30\", \"2018-10-07\", \"2018-10-14\", \"2018-10-21\", \"2018-10-28\", \"2018-11-04\", \"2018-11-11\", \"2018-11-18\", \"2018-11-25\", \"2018-12-02\", \"2018-12-13\", \"2018-12-16\", \"2018-12-17\", \"2018-12-23\", \"2018-12-30\"], \"y\": [324.0, 12.0, 48.0, 168.0, 216.0, 240.0, 36.0, 12.0, 228.0, 24.0, 720.0, 408.0, 144.0, 156.0, 192.0, 24.0, 300.0, 216.0, 180.0, 288.0, 336.0, 264.0, 48.0, 144.0, 348.0, 168.0, 432.0, 480.0, 168.0, 180.0, 468.0, 312.0, 468.0, 420.0, 396.0, 300.0, 264.0, 264.0, 108.0, 360.0, 60.0, 240.0, 264.0]}, {\"mode\": \"lines\", \"name\": \"DE 1L SANS LACTOSE\", \"type\": \"scatter\", \"x\": [\"2018-10-28\", \"2018-11-04\", \"2018-11-18\", \"2018-11-25\", \"2018-12-01\", \"2018-12-02\", \"2018-12-09\", \"2018-12-13\", \"2018-12-16\", \"2018-12-23\", \"2018-12-30\"], \"y\": [108.0, 36.0, 108.0, 120.0, 24.0, 36.0, 48.0, 12.0, 60.0, 60.0, 24.0]}],\n",
       "                        {\"template\": {\"data\": {\"bar\": [{\"error_x\": {\"color\": \"#2a3f5f\"}, \"error_y\": {\"color\": \"#2a3f5f\"}, \"marker\": {\"line\": {\"color\": \"#E5ECF6\", \"width\": 0.5}}, \"type\": \"bar\"}], \"barpolar\": [{\"marker\": {\"line\": {\"color\": \"#E5ECF6\", \"width\": 0.5}}, \"type\": \"barpolar\"}], \"carpet\": [{\"aaxis\": {\"endlinecolor\": \"#2a3f5f\", \"gridcolor\": \"white\", \"linecolor\": \"white\", \"minorgridcolor\": \"white\", \"startlinecolor\": \"#2a3f5f\"}, \"baxis\": {\"endlinecolor\": \"#2a3f5f\", \"gridcolor\": \"white\", \"linecolor\": \"white\", \"minorgridcolor\": \"white\", \"startlinecolor\": \"#2a3f5f\"}, \"type\": \"carpet\"}], \"choropleth\": [{\"colorbar\": {\"outlinewidth\": 0, \"ticks\": \"\"}, \"type\": \"choropleth\"}], \"contour\": [{\"colorbar\": {\"outlinewidth\": 0, \"ticks\": \"\"}, \"colorscale\": [[0.0, \"#0d0887\"], [0.1111111111111111, \"#46039f\"], [0.2222222222222222, \"#7201a8\"], [0.3333333333333333, \"#9c179e\"], [0.4444444444444444, \"#bd3786\"], [0.5555555555555556, \"#d8576b\"], [0.6666666666666666, \"#ed7953\"], [0.7777777777777778, \"#fb9f3a\"], [0.8888888888888888, \"#fdca26\"], [1.0, \"#f0f921\"]], \"type\": \"contour\"}], \"contourcarpet\": [{\"colorbar\": {\"outlinewidth\": 0, \"ticks\": \"\"}, \"type\": \"contourcarpet\"}], \"heatmap\": [{\"colorbar\": {\"outlinewidth\": 0, \"ticks\": \"\"}, \"colorscale\": [[0.0, \"#0d0887\"], [0.1111111111111111, \"#46039f\"], [0.2222222222222222, \"#7201a8\"], [0.3333333333333333, \"#9c179e\"], [0.4444444444444444, \"#bd3786\"], [0.5555555555555556, \"#d8576b\"], [0.6666666666666666, \"#ed7953\"], [0.7777777777777778, \"#fb9f3a\"], [0.8888888888888888, \"#fdca26\"], [1.0, \"#f0f921\"]], \"type\": \"heatmap\"}], \"heatmapgl\": [{\"colorbar\": {\"outlinewidth\": 0, \"ticks\": \"\"}, \"colorscale\": [[0.0, \"#0d0887\"], [0.1111111111111111, \"#46039f\"], [0.2222222222222222, \"#7201a8\"], [0.3333333333333333, \"#9c179e\"], [0.4444444444444444, \"#bd3786\"], [0.5555555555555556, \"#d8576b\"], [0.6666666666666666, \"#ed7953\"], [0.7777777777777778, \"#fb9f3a\"], [0.8888888888888888, \"#fdca26\"], [1.0, \"#f0f921\"]], \"type\": \"heatmapgl\"}], \"histogram\": [{\"marker\": {\"colorbar\": {\"outlinewidth\": 0, \"ticks\": \"\"}}, \"type\": \"histogram\"}], \"histogram2d\": [{\"colorbar\": {\"outlinewidth\": 0, \"ticks\": \"\"}, \"colorscale\": [[0.0, \"#0d0887\"], [0.1111111111111111, \"#46039f\"], [0.2222222222222222, \"#7201a8\"], [0.3333333333333333, \"#9c179e\"], [0.4444444444444444, \"#bd3786\"], [0.5555555555555556, \"#d8576b\"], [0.6666666666666666, \"#ed7953\"], [0.7777777777777778, \"#fb9f3a\"], [0.8888888888888888, \"#fdca26\"], [1.0, \"#f0f921\"]], \"type\": \"histogram2d\"}], \"histogram2dcontour\": [{\"colorbar\": {\"outlinewidth\": 0, \"ticks\": \"\"}, \"colorscale\": [[0.0, \"#0d0887\"], [0.1111111111111111, \"#46039f\"], [0.2222222222222222, \"#7201a8\"], [0.3333333333333333, \"#9c179e\"], [0.4444444444444444, \"#bd3786\"], [0.5555555555555556, \"#d8576b\"], [0.6666666666666666, \"#ed7953\"], [0.7777777777777778, \"#fb9f3a\"], [0.8888888888888888, \"#fdca26\"], [1.0, \"#f0f921\"]], \"type\": \"histogram2dcontour\"}], \"mesh3d\": [{\"colorbar\": {\"outlinewidth\": 0, \"ticks\": \"\"}, \"type\": \"mesh3d\"}], \"parcoords\": [{\"line\": {\"colorbar\": {\"outlinewidth\": 0, \"ticks\": \"\"}}, \"type\": \"parcoords\"}], \"pie\": [{\"automargin\": true, \"type\": \"pie\"}], \"scatter\": [{\"marker\": {\"colorbar\": {\"outlinewidth\": 0, \"ticks\": \"\"}}, \"type\": \"scatter\"}], \"scatter3d\": [{\"line\": {\"colorbar\": {\"outlinewidth\": 0, \"ticks\": \"\"}}, \"marker\": {\"colorbar\": {\"outlinewidth\": 0, \"ticks\": \"\"}}, \"type\": \"scatter3d\"}], \"scattercarpet\": [{\"marker\": {\"colorbar\": {\"outlinewidth\": 0, \"ticks\": \"\"}}, \"type\": \"scattercarpet\"}], \"scattergeo\": [{\"marker\": {\"colorbar\": {\"outlinewidth\": 0, \"ticks\": \"\"}}, \"type\": \"scattergeo\"}], \"scattergl\": [{\"marker\": {\"colorbar\": {\"outlinewidth\": 0, \"ticks\": \"\"}}, \"type\": \"scattergl\"}], \"scattermapbox\": [{\"marker\": {\"colorbar\": {\"outlinewidth\": 0, \"ticks\": \"\"}}, \"type\": \"scattermapbox\"}], \"scatterpolar\": [{\"marker\": {\"colorbar\": {\"outlinewidth\": 0, \"ticks\": \"\"}}, \"type\": \"scatterpolar\"}], \"scatterpolargl\": [{\"marker\": {\"colorbar\": {\"outlinewidth\": 0, \"ticks\": \"\"}}, \"type\": \"scatterpolargl\"}], \"scatterternary\": [{\"marker\": {\"colorbar\": {\"outlinewidth\": 0, \"ticks\": \"\"}}, \"type\": \"scatterternary\"}], \"surface\": [{\"colorbar\": {\"outlinewidth\": 0, \"ticks\": \"\"}, \"colorscale\": [[0.0, \"#0d0887\"], [0.1111111111111111, \"#46039f\"], [0.2222222222222222, \"#7201a8\"], [0.3333333333333333, \"#9c179e\"], [0.4444444444444444, \"#bd3786\"], [0.5555555555555556, \"#d8576b\"], [0.6666666666666666, \"#ed7953\"], [0.7777777777777778, \"#fb9f3a\"], [0.8888888888888888, \"#fdca26\"], [1.0, \"#f0f921\"]], \"type\": \"surface\"}], \"table\": [{\"cells\": {\"fill\": {\"color\": \"#EBF0F8\"}, \"line\": {\"color\": \"white\"}}, \"header\": {\"fill\": {\"color\": \"#C8D4E3\"}, \"line\": {\"color\": \"white\"}}, \"type\": \"table\"}]}, \"layout\": {\"annotationdefaults\": {\"arrowcolor\": \"#2a3f5f\", \"arrowhead\": 0, \"arrowwidth\": 1}, \"coloraxis\": {\"colorbar\": {\"outlinewidth\": 0, \"ticks\": \"\"}}, \"colorscale\": {\"diverging\": [[0, \"#8e0152\"], [0.1, \"#c51b7d\"], [0.2, \"#de77ae\"], [0.3, \"#f1b6da\"], [0.4, \"#fde0ef\"], [0.5, \"#f7f7f7\"], [0.6, \"#e6f5d0\"], [0.7, \"#b8e186\"], [0.8, \"#7fbc41\"], [0.9, \"#4d9221\"], [1, \"#276419\"]], \"sequential\": [[0.0, \"#0d0887\"], [0.1111111111111111, \"#46039f\"], [0.2222222222222222, \"#7201a8\"], [0.3333333333333333, \"#9c179e\"], [0.4444444444444444, \"#bd3786\"], [0.5555555555555556, \"#d8576b\"], [0.6666666666666666, \"#ed7953\"], [0.7777777777777778, \"#fb9f3a\"], [0.8888888888888888, \"#fdca26\"], [1.0, \"#f0f921\"]], \"sequentialminus\": [[0.0, \"#0d0887\"], [0.1111111111111111, \"#46039f\"], [0.2222222222222222, \"#7201a8\"], [0.3333333333333333, \"#9c179e\"], [0.4444444444444444, \"#bd3786\"], [0.5555555555555556, \"#d8576b\"], [0.6666666666666666, \"#ed7953\"], [0.7777777777777778, \"#fb9f3a\"], [0.8888888888888888, \"#fdca26\"], [1.0, \"#f0f921\"]]}, \"colorway\": [\"#636efa\", \"#EF553B\", \"#00cc96\", \"#ab63fa\", \"#FFA15A\", \"#19d3f3\", \"#FF6692\", \"#B6E880\", \"#FF97FF\", \"#FECB52\"], \"font\": {\"color\": \"#2a3f5f\"}, \"geo\": {\"bgcolor\": \"white\", \"lakecolor\": \"white\", \"landcolor\": \"#E5ECF6\", \"showlakes\": true, \"showland\": true, \"subunitcolor\": \"white\"}, \"hoverlabel\": {\"align\": \"left\"}, \"hovermode\": \"closest\", \"mapbox\": {\"style\": \"light\"}, \"paper_bgcolor\": \"white\", \"plot_bgcolor\": \"#E5ECF6\", \"polar\": {\"angularaxis\": {\"gridcolor\": \"white\", \"linecolor\": \"white\", \"ticks\": \"\"}, \"bgcolor\": \"#E5ECF6\", \"radialaxis\": {\"gridcolor\": \"white\", \"linecolor\": \"white\", \"ticks\": \"\"}}, \"scene\": {\"xaxis\": {\"backgroundcolor\": \"#E5ECF6\", \"gridcolor\": \"white\", \"gridwidth\": 2, \"linecolor\": \"white\", \"showbackground\": true, \"ticks\": \"\", \"zerolinecolor\": \"white\"}, \"yaxis\": {\"backgroundcolor\": \"#E5ECF6\", \"gridcolor\": \"white\", \"gridwidth\": 2, \"linecolor\": \"white\", \"showbackground\": true, \"ticks\": \"\", \"zerolinecolor\": \"white\"}, \"zaxis\": {\"backgroundcolor\": \"#E5ECF6\", \"gridcolor\": \"white\", \"gridwidth\": 2, \"linecolor\": \"white\", \"showbackground\": true, \"ticks\": \"\", \"zerolinecolor\": \"white\"}}, \"shapedefaults\": {\"line\": {\"color\": \"#2a3f5f\"}}, \"ternary\": {\"aaxis\": {\"gridcolor\": \"white\", \"linecolor\": \"white\", \"ticks\": \"\"}, \"baxis\": {\"gridcolor\": \"white\", \"linecolor\": \"white\", \"ticks\": \"\"}, \"bgcolor\": \"#E5ECF6\", \"caxis\": {\"gridcolor\": \"white\", \"linecolor\": \"white\", \"ticks\": \"\"}}, \"title\": {\"x\": 0.05}, \"xaxis\": {\"automargin\": true, \"gridcolor\": \"white\", \"linecolor\": \"white\", \"ticks\": \"\", \"title\": {\"standoff\": 15}, \"zerolinecolor\": \"white\", \"zerolinewidth\": 2}, \"yaxis\": {\"automargin\": true, \"gridcolor\": \"white\", \"linecolor\": \"white\", \"ticks\": \"\", \"title\": {\"standoff\": 15}, \"zerolinecolor\": \"white\", \"zerolinewidth\": 2}}}, \"title\": {\"text\": \"QTE Dimanche/Mercredi, 1020/800/50 - Laits Blancs\"}},\n",
       "                        {\"responsive\": true}\n",
       "                    ).then(function(){\n",
       "                            \n",
       "var gd = document.getElementById('03b63261-0259-498e-b9d9-2754bb230f47');\n",
       "var x = new MutationObserver(function (mutations, observer) {{\n",
       "        var display = window.getComputedStyle(gd).display;\n",
       "        if (!display || display === 'none') {{\n",
       "            console.log([gd, 'removed!']);\n",
       "            Plotly.purge(gd);\n",
       "            observer.disconnect();\n",
       "        }}\n",
       "}});\n",
       "\n",
       "// Listen for the removal of the full notebook cells\n",
       "var notebookContainer = gd.closest('#notebook-container');\n",
       "if (notebookContainer) {{\n",
       "    x.observe(notebookContainer, {childList: true});\n",
       "}}\n",
       "\n",
       "// Listen for the clearing of the current output cell\n",
       "var outputEl = gd.closest('.output');\n",
       "if (outputEl) {{\n",
       "    x.observe(outputEl, {childList: true});\n",
       "}}\n",
       "\n",
       "                        })\n",
       "                };\n",
       "                });\n",
       "            </script>\n",
       "        </div>"
      ]
     },
     "metadata": {},
     "output_type": "display_data"
    },
    {
     "name": "stdout",
     "output_type": "stream",
     "text": [
      "laits aromatisÃ©s  :\n"
     ]
    },
    {
     "data": {
      "application/vnd.jupyter.widget-view+json": {
       "model_id": "cca79464479a48a1b6f8745edc003908",
       "version_major": 2,
       "version_minor": 0
      },
      "text/plain": [
       "HBox(children=(FloatProgress(value=0.0, max=8.0), HTML(value='')))"
      ]
     },
     "metadata": {},
     "output_type": "display_data"
    },
    {
     "name": "stdout",
     "output_type": "stream",
     "text": [
      "\n"
     ]
    },
    {
     "data": {
      "application/vnd.plotly.v1+json": {
       "config": {
        "linkText": "Export to plot.ly",
        "plotlyServerURL": "https://plot.ly",
        "showLink": false
       },
       "data": [
        {
         "mode": "lines",
         "name": "CHOCO 20CL",
         "type": "scatter",
         "x": [
          "2018-04-04",
          "2018-04-12",
          "2018-04-15",
          "2018-04-22",
          "2018-04-28",
          "2018-04-29",
          "2018-05-06",
          "2018-05-12",
          "2018-05-13",
          "2018-05-22",
          "2018-05-27",
          "2018-06-06",
          "2018-06-13",
          "2018-06-20",
          "2018-06-24",
          "2018-06-27",
          "2018-07-04",
          "2018-07-11",
          "2018-07-18",
          "2018-07-25",
          "2018-08-01",
          "2018-08-08",
          "2018-08-15",
          "2018-08-18",
          "2018-08-19",
          "2018-08-29",
          "2018-09-02",
          "2018-09-06",
          "2018-09-12",
          "2018-09-19",
          "2018-09-22",
          "2018-09-24",
          "2018-09-25",
          "2018-09-26",
          "2018-10-03",
          "2018-10-04",
          "2018-10-10",
          "2018-10-17",
          "2018-10-24",
          "2018-10-31",
          "2018-11-07",
          "2018-11-10",
          "2018-11-14",
          "2018-11-18",
          "2018-11-21",
          "2018-11-28",
          "2018-11-29",
          "2018-12-05",
          "2018-12-12",
          "2018-12-19",
          "2018-12-26"
         ],
         "y": [
          2124,
          288,
          2754,
          2718,
          72,
          3366,
          2016,
          180,
          3150,
          90,
          1224,
          1872,
          1440,
          2970,
          18,
          2880,
          2862,
          2664,
          2538,
          2736,
          2376,
          2718,
          2736,
          90,
          108,
          3060,
          36,
          954,
          4448,
          3996,
          540,
          108,
          270,
          3042,
          3816,
          360,
          3564,
          4050,
          4050,
          3834,
          2142,
          1692,
          3384,
          360,
          3528,
          2574,
          1080,
          4014,
          3564,
          2394,
          1602
         ]
        },
        {
         "mode": "lines",
         "name": "CHOCO 125 ML",
         "type": "scatter",
         "x": [
          "2018-04-12",
          "2018-04-22",
          "2018-04-28",
          "2018-04-29",
          "2018-05-06",
          "2018-05-22",
          "2018-05-27",
          "2018-06-13",
          "2018-07-23",
          "2018-07-25",
          "2018-08-01",
          "2018-08-29",
          "2018-09-06",
          "2018-09-12",
          "2018-09-19",
          "2018-09-20",
          "2018-09-24",
          "2018-10-03",
          "2018-10-10",
          "2018-10-31",
          "2018-11-18",
          "2018-11-21",
          "2018-11-22",
          "2018-11-28",
          "2018-12-12",
          "2018-12-19"
         ],
         "y": [
          90,
          2664,
          270,
          2772,
          1620,
          54,
          1224,
          1206,
          450,
          2610,
          1656,
          2034,
          990,
          3006,
          3582,
          144,
          72,
          2646,
          2916,
          1890,
          738,
          1350,
          684,
          2574,
          1458,
          1944
         ]
        },
        {
         "mode": "lines",
         "name": "FRAISE 125 ML",
         "type": "scatter",
         "x": [
          "2018-06-13",
          "2018-06-20",
          "2018-11-07"
         ],
         "y": [
          252,
          234,
          270
         ]
        },
        {
         "mode": "lines",
         "name": "CANDY CARAMEL 125 ML",
         "type": "scatter",
         "x": [
          "2018-04-08",
          "2018-04-12",
          "2018-04-15",
          "2018-06-13",
          "2018-06-20",
          "2018-08-01",
          "2018-10-03",
          "2018-10-10"
         ],
         "y": [
          252,
          18,
          36,
          234,
          324,
          360,
          342,
          126
         ]
        },
        {
         "mode": "lines",
         "name": "CHOCO 1L",
         "type": "scatter",
         "x": [
          "2018-04-03",
          "2018-04-04",
          "2018-05-12",
          "2018-05-13",
          "2018-05-22",
          "2018-05-31",
          "2018-06-13",
          "2018-06-20",
          "2018-06-21",
          "2018-06-27",
          "2018-07-04",
          "2018-07-11",
          "2018-07-18",
          "2018-07-25",
          "2018-08-01",
          "2018-08-08",
          "2018-08-15",
          "2018-08-18",
          "2018-08-19",
          "2018-09-06",
          "2018-09-12",
          "2018-09-19",
          "2018-09-20",
          "2018-09-24",
          "2018-09-26",
          "2018-10-03",
          "2018-10-10",
          "2018-10-17",
          "2018-10-24",
          "2018-10-31",
          "2018-11-07",
          "2018-11-10",
          "2018-11-14",
          "2018-11-18",
          "2018-11-21",
          "2018-11-28",
          "2018-11-29",
          "2018-12-05",
          "2018-12-12",
          "2018-12-13",
          "2018-12-19",
          "2018-12-26"
         ],
         "y": [
          12,
          300,
          12,
          120,
          48,
          24,
          228,
          300,
          96,
          360,
          348,
          12,
          348,
          240,
          372,
          180,
          324,
          12,
          12,
          168,
          468,
          240,
          84,
          36,
          456,
          372,
          300,
          336,
          276,
          348,
          240,
          24,
          216,
          60,
          288,
          336,
          36,
          252,
          360,
          60,
          204,
          300
         ]
        },
        {
         "mode": "lines",
         "name": "FRAISE 20CL",
         "type": "scatter",
         "x": [
          "2018-07-23",
          "2018-08-01",
          "2018-08-29"
         ],
         "y": [
          90,
          306,
          342
         ]
        },
        {
         "mode": "lines",
         "name": "BANANE 125 ML",
         "type": "scatter",
         "x": [
          "2018-08-15"
         ],
         "y": [
          54
         ]
        },
        {
         "mode": "lines",
         "name": "R16054",
         "type": "scatter",
         "x": [],
         "y": []
        }
       ],
       "layout": {
        "template": {
         "data": {
          "bar": [
           {
            "error_x": {
             "color": "#2a3f5f"
            },
            "error_y": {
             "color": "#2a3f5f"
            },
            "marker": {
             "line": {
              "color": "#E5ECF6",
              "width": 0.5
             }
            },
            "type": "bar"
           }
          ],
          "barpolar": [
           {
            "marker": {
             "line": {
              "color": "#E5ECF6",
              "width": 0.5
             }
            },
            "type": "barpolar"
           }
          ],
          "carpet": [
           {
            "aaxis": {
             "endlinecolor": "#2a3f5f",
             "gridcolor": "white",
             "linecolor": "white",
             "minorgridcolor": "white",
             "startlinecolor": "#2a3f5f"
            },
            "baxis": {
             "endlinecolor": "#2a3f5f",
             "gridcolor": "white",
             "linecolor": "white",
             "minorgridcolor": "white",
             "startlinecolor": "#2a3f5f"
            },
            "type": "carpet"
           }
          ],
          "choropleth": [
           {
            "colorbar": {
             "outlinewidth": 0,
             "ticks": ""
            },
            "type": "choropleth"
           }
          ],
          "contour": [
           {
            "colorbar": {
             "outlinewidth": 0,
             "ticks": ""
            },
            "colorscale": [
             [
              0,
              "#0d0887"
             ],
             [
              0.1111111111111111,
              "#46039f"
             ],
             [
              0.2222222222222222,
              "#7201a8"
             ],
             [
              0.3333333333333333,
              "#9c179e"
             ],
             [
              0.4444444444444444,
              "#bd3786"
             ],
             [
              0.5555555555555556,
              "#d8576b"
             ],
             [
              0.6666666666666666,
              "#ed7953"
             ],
             [
              0.7777777777777778,
              "#fb9f3a"
             ],
             [
              0.8888888888888888,
              "#fdca26"
             ],
             [
              1,
              "#f0f921"
             ]
            ],
            "type": "contour"
           }
          ],
          "contourcarpet": [
           {
            "colorbar": {
             "outlinewidth": 0,
             "ticks": ""
            },
            "type": "contourcarpet"
           }
          ],
          "heatmap": [
           {
            "colorbar": {
             "outlinewidth": 0,
             "ticks": ""
            },
            "colorscale": [
             [
              0,
              "#0d0887"
             ],
             [
              0.1111111111111111,
              "#46039f"
             ],
             [
              0.2222222222222222,
              "#7201a8"
             ],
             [
              0.3333333333333333,
              "#9c179e"
             ],
             [
              0.4444444444444444,
              "#bd3786"
             ],
             [
              0.5555555555555556,
              "#d8576b"
             ],
             [
              0.6666666666666666,
              "#ed7953"
             ],
             [
              0.7777777777777778,
              "#fb9f3a"
             ],
             [
              0.8888888888888888,
              "#fdca26"
             ],
             [
              1,
              "#f0f921"
             ]
            ],
            "type": "heatmap"
           }
          ],
          "heatmapgl": [
           {
            "colorbar": {
             "outlinewidth": 0,
             "ticks": ""
            },
            "colorscale": [
             [
              0,
              "#0d0887"
             ],
             [
              0.1111111111111111,
              "#46039f"
             ],
             [
              0.2222222222222222,
              "#7201a8"
             ],
             [
              0.3333333333333333,
              "#9c179e"
             ],
             [
              0.4444444444444444,
              "#bd3786"
             ],
             [
              0.5555555555555556,
              "#d8576b"
             ],
             [
              0.6666666666666666,
              "#ed7953"
             ],
             [
              0.7777777777777778,
              "#fb9f3a"
             ],
             [
              0.8888888888888888,
              "#fdca26"
             ],
             [
              1,
              "#f0f921"
             ]
            ],
            "type": "heatmapgl"
           }
          ],
          "histogram": [
           {
            "marker": {
             "colorbar": {
              "outlinewidth": 0,
              "ticks": ""
             }
            },
            "type": "histogram"
           }
          ],
          "histogram2d": [
           {
            "colorbar": {
             "outlinewidth": 0,
             "ticks": ""
            },
            "colorscale": [
             [
              0,
              "#0d0887"
             ],
             [
              0.1111111111111111,
              "#46039f"
             ],
             [
              0.2222222222222222,
              "#7201a8"
             ],
             [
              0.3333333333333333,
              "#9c179e"
             ],
             [
              0.4444444444444444,
              "#bd3786"
             ],
             [
              0.5555555555555556,
              "#d8576b"
             ],
             [
              0.6666666666666666,
              "#ed7953"
             ],
             [
              0.7777777777777778,
              "#fb9f3a"
             ],
             [
              0.8888888888888888,
              "#fdca26"
             ],
             [
              1,
              "#f0f921"
             ]
            ],
            "type": "histogram2d"
           }
          ],
          "histogram2dcontour": [
           {
            "colorbar": {
             "outlinewidth": 0,
             "ticks": ""
            },
            "colorscale": [
             [
              0,
              "#0d0887"
             ],
             [
              0.1111111111111111,
              "#46039f"
             ],
             [
              0.2222222222222222,
              "#7201a8"
             ],
             [
              0.3333333333333333,
              "#9c179e"
             ],
             [
              0.4444444444444444,
              "#bd3786"
             ],
             [
              0.5555555555555556,
              "#d8576b"
             ],
             [
              0.6666666666666666,
              "#ed7953"
             ],
             [
              0.7777777777777778,
              "#fb9f3a"
             ],
             [
              0.8888888888888888,
              "#fdca26"
             ],
             [
              1,
              "#f0f921"
             ]
            ],
            "type": "histogram2dcontour"
           }
          ],
          "mesh3d": [
           {
            "colorbar": {
             "outlinewidth": 0,
             "ticks": ""
            },
            "type": "mesh3d"
           }
          ],
          "parcoords": [
           {
            "line": {
             "colorbar": {
              "outlinewidth": 0,
              "ticks": ""
             }
            },
            "type": "parcoords"
           }
          ],
          "pie": [
           {
            "automargin": true,
            "type": "pie"
           }
          ],
          "scatter": [
           {
            "marker": {
             "colorbar": {
              "outlinewidth": 0,
              "ticks": ""
             }
            },
            "type": "scatter"
           }
          ],
          "scatter3d": [
           {
            "line": {
             "colorbar": {
              "outlinewidth": 0,
              "ticks": ""
             }
            },
            "marker": {
             "colorbar": {
              "outlinewidth": 0,
              "ticks": ""
             }
            },
            "type": "scatter3d"
           }
          ],
          "scattercarpet": [
           {
            "marker": {
             "colorbar": {
              "outlinewidth": 0,
              "ticks": ""
             }
            },
            "type": "scattercarpet"
           }
          ],
          "scattergeo": [
           {
            "marker": {
             "colorbar": {
              "outlinewidth": 0,
              "ticks": ""
             }
            },
            "type": "scattergeo"
           }
          ],
          "scattergl": [
           {
            "marker": {
             "colorbar": {
              "outlinewidth": 0,
              "ticks": ""
             }
            },
            "type": "scattergl"
           }
          ],
          "scattermapbox": [
           {
            "marker": {
             "colorbar": {
              "outlinewidth": 0,
              "ticks": ""
             }
            },
            "type": "scattermapbox"
           }
          ],
          "scatterpolar": [
           {
            "marker": {
             "colorbar": {
              "outlinewidth": 0,
              "ticks": ""
             }
            },
            "type": "scatterpolar"
           }
          ],
          "scatterpolargl": [
           {
            "marker": {
             "colorbar": {
              "outlinewidth": 0,
              "ticks": ""
             }
            },
            "type": "scatterpolargl"
           }
          ],
          "scatterternary": [
           {
            "marker": {
             "colorbar": {
              "outlinewidth": 0,
              "ticks": ""
             }
            },
            "type": "scatterternary"
           }
          ],
          "surface": [
           {
            "colorbar": {
             "outlinewidth": 0,
             "ticks": ""
            },
            "colorscale": [
             [
              0,
              "#0d0887"
             ],
             [
              0.1111111111111111,
              "#46039f"
             ],
             [
              0.2222222222222222,
              "#7201a8"
             ],
             [
              0.3333333333333333,
              "#9c179e"
             ],
             [
              0.4444444444444444,
              "#bd3786"
             ],
             [
              0.5555555555555556,
              "#d8576b"
             ],
             [
              0.6666666666666666,
              "#ed7953"
             ],
             [
              0.7777777777777778,
              "#fb9f3a"
             ],
             [
              0.8888888888888888,
              "#fdca26"
             ],
             [
              1,
              "#f0f921"
             ]
            ],
            "type": "surface"
           }
          ],
          "table": [
           {
            "cells": {
             "fill": {
              "color": "#EBF0F8"
             },
             "line": {
              "color": "white"
             }
            },
            "header": {
             "fill": {
              "color": "#C8D4E3"
             },
             "line": {
              "color": "white"
             }
            },
            "type": "table"
           }
          ]
         },
         "layout": {
          "annotationdefaults": {
           "arrowcolor": "#2a3f5f",
           "arrowhead": 0,
           "arrowwidth": 1
          },
          "coloraxis": {
           "colorbar": {
            "outlinewidth": 0,
            "ticks": ""
           }
          },
          "colorscale": {
           "diverging": [
            [
             0,
             "#8e0152"
            ],
            [
             0.1,
             "#c51b7d"
            ],
            [
             0.2,
             "#de77ae"
            ],
            [
             0.3,
             "#f1b6da"
            ],
            [
             0.4,
             "#fde0ef"
            ],
            [
             0.5,
             "#f7f7f7"
            ],
            [
             0.6,
             "#e6f5d0"
            ],
            [
             0.7,
             "#b8e186"
            ],
            [
             0.8,
             "#7fbc41"
            ],
            [
             0.9,
             "#4d9221"
            ],
            [
             1,
             "#276419"
            ]
           ],
           "sequential": [
            [
             0,
             "#0d0887"
            ],
            [
             0.1111111111111111,
             "#46039f"
            ],
            [
             0.2222222222222222,
             "#7201a8"
            ],
            [
             0.3333333333333333,
             "#9c179e"
            ],
            [
             0.4444444444444444,
             "#bd3786"
            ],
            [
             0.5555555555555556,
             "#d8576b"
            ],
            [
             0.6666666666666666,
             "#ed7953"
            ],
            [
             0.7777777777777778,
             "#fb9f3a"
            ],
            [
             0.8888888888888888,
             "#fdca26"
            ],
            [
             1,
             "#f0f921"
            ]
           ],
           "sequentialminus": [
            [
             0,
             "#0d0887"
            ],
            [
             0.1111111111111111,
             "#46039f"
            ],
            [
             0.2222222222222222,
             "#7201a8"
            ],
            [
             0.3333333333333333,
             "#9c179e"
            ],
            [
             0.4444444444444444,
             "#bd3786"
            ],
            [
             0.5555555555555556,
             "#d8576b"
            ],
            [
             0.6666666666666666,
             "#ed7953"
            ],
            [
             0.7777777777777778,
             "#fb9f3a"
            ],
            [
             0.8888888888888888,
             "#fdca26"
            ],
            [
             1,
             "#f0f921"
            ]
           ]
          },
          "colorway": [
           "#636efa",
           "#EF553B",
           "#00cc96",
           "#ab63fa",
           "#FFA15A",
           "#19d3f3",
           "#FF6692",
           "#B6E880",
           "#FF97FF",
           "#FECB52"
          ],
          "font": {
           "color": "#2a3f5f"
          },
          "geo": {
           "bgcolor": "white",
           "lakecolor": "white",
           "landcolor": "#E5ECF6",
           "showlakes": true,
           "showland": true,
           "subunitcolor": "white"
          },
          "hoverlabel": {
           "align": "left"
          },
          "hovermode": "closest",
          "mapbox": {
           "style": "light"
          },
          "paper_bgcolor": "white",
          "plot_bgcolor": "#E5ECF6",
          "polar": {
           "angularaxis": {
            "gridcolor": "white",
            "linecolor": "white",
            "ticks": ""
           },
           "bgcolor": "#E5ECF6",
           "radialaxis": {
            "gridcolor": "white",
            "linecolor": "white",
            "ticks": ""
           }
          },
          "scene": {
           "xaxis": {
            "backgroundcolor": "#E5ECF6",
            "gridcolor": "white",
            "gridwidth": 2,
            "linecolor": "white",
            "showbackground": true,
            "ticks": "",
            "zerolinecolor": "white"
           },
           "yaxis": {
            "backgroundcolor": "#E5ECF6",
            "gridcolor": "white",
            "gridwidth": 2,
            "linecolor": "white",
            "showbackground": true,
            "ticks": "",
            "zerolinecolor": "white"
           },
           "zaxis": {
            "backgroundcolor": "#E5ECF6",
            "gridcolor": "white",
            "gridwidth": 2,
            "linecolor": "white",
            "showbackground": true,
            "ticks": "",
            "zerolinecolor": "white"
           }
          },
          "shapedefaults": {
           "line": {
            "color": "#2a3f5f"
           }
          },
          "ternary": {
           "aaxis": {
            "gridcolor": "white",
            "linecolor": "white",
            "ticks": ""
           },
           "baxis": {
            "gridcolor": "white",
            "linecolor": "white",
            "ticks": ""
           },
           "bgcolor": "#E5ECF6",
           "caxis": {
            "gridcolor": "white",
            "linecolor": "white",
            "ticks": ""
           }
          },
          "title": {
           "x": 0.05
          },
          "xaxis": {
           "automargin": true,
           "gridcolor": "white",
           "linecolor": "white",
           "ticks": "",
           "title": {
            "standoff": 15
           },
           "zerolinecolor": "white",
           "zerolinewidth": 2
          },
          "yaxis": {
           "automargin": true,
           "gridcolor": "white",
           "linecolor": "white",
           "ticks": "",
           "title": {
            "standoff": 15
           },
           "zerolinecolor": "white",
           "zerolinewidth": 2
          }
         }
        },
        "title": {
         "text": "QTE Dimanche/Mercredi, 1020/800/50 - laits aromatisÃ©s"
        }
       }
      },
      "text/html": [
       "<div>\n",
       "        \n",
       "        \n",
       "            <div id=\"5b38d64c-6c57-4b86-be78-598e98cfc455\" class=\"plotly-graph-div\" style=\"height:525px; width:100%;\"></div>\n",
       "            <script type=\"text/javascript\">\n",
       "                require([\"plotly\"], function(Plotly) {\n",
       "                    window.PLOTLYENV=window.PLOTLYENV || {};\n",
       "                    \n",
       "                if (document.getElementById(\"5b38d64c-6c57-4b86-be78-598e98cfc455\")) {\n",
       "                    Plotly.newPlot(\n",
       "                        '5b38d64c-6c57-4b86-be78-598e98cfc455',\n",
       "                        [{\"mode\": \"lines\", \"name\": \"CHOCO 20CL\", \"type\": \"scatter\", \"x\": [\"2018-04-04\", \"2018-04-12\", \"2018-04-15\", \"2018-04-22\", \"2018-04-28\", \"2018-04-29\", \"2018-05-06\", \"2018-05-12\", \"2018-05-13\", \"2018-05-22\", \"2018-05-27\", \"2018-06-06\", \"2018-06-13\", \"2018-06-20\", \"2018-06-24\", \"2018-06-27\", \"2018-07-04\", \"2018-07-11\", \"2018-07-18\", \"2018-07-25\", \"2018-08-01\", \"2018-08-08\", \"2018-08-15\", \"2018-08-18\", \"2018-08-19\", \"2018-08-29\", \"2018-09-02\", \"2018-09-06\", \"2018-09-12\", \"2018-09-19\", \"2018-09-22\", \"2018-09-24\", \"2018-09-25\", \"2018-09-26\", \"2018-10-03\", \"2018-10-04\", \"2018-10-10\", \"2018-10-17\", \"2018-10-24\", \"2018-10-31\", \"2018-11-07\", \"2018-11-10\", \"2018-11-14\", \"2018-11-18\", \"2018-11-21\", \"2018-11-28\", \"2018-11-29\", \"2018-12-05\", \"2018-12-12\", \"2018-12-19\", \"2018-12-26\"], \"y\": [2124.0, 288.0, 2754.0, 2718.0, 72.0, 3366.0, 2016.0, 180.0, 3150.0, 90.0, 1224.0, 1872.0, 1440.0, 2970.0, 18.0, 2880.0, 2862.0, 2664.0, 2538.0, 2736.0, 2376.0, 2718.0, 2736.0, 90.0, 108.0, 3060.0, 36.0, 954.0, 4448.0, 3996.0, 540.0, 108.0, 270.0, 3042.0, 3816.0, 360.0, 3564.0, 4050.0, 4050.0, 3834.0, 2142.0, 1692.0, 3384.0, 360.0, 3528.0, 2574.0, 1080.0, 4014.0, 3564.0, 2394.0, 1602.0]}, {\"mode\": \"lines\", \"name\": \"CHOCO 125 ML\", \"type\": \"scatter\", \"x\": [\"2018-04-12\", \"2018-04-22\", \"2018-04-28\", \"2018-04-29\", \"2018-05-06\", \"2018-05-22\", \"2018-05-27\", \"2018-06-13\", \"2018-07-23\", \"2018-07-25\", \"2018-08-01\", \"2018-08-29\", \"2018-09-06\", \"2018-09-12\", \"2018-09-19\", \"2018-09-20\", \"2018-09-24\", \"2018-10-03\", \"2018-10-10\", \"2018-10-31\", \"2018-11-18\", \"2018-11-21\", \"2018-11-22\", \"2018-11-28\", \"2018-12-12\", \"2018-12-19\"], \"y\": [90.0, 2664.0, 270.0, 2772.0, 1620.0, 54.0, 1224.0, 1206.0, 450.0, 2610.0, 1656.0, 2034.0, 990.0, 3006.0, 3582.0, 144.0, 72.0, 2646.0, 2916.0, 1890.0, 738.0, 1350.0, 684.0, 2574.0, 1458.0, 1944.0]}, {\"mode\": \"lines\", \"name\": \"FRAISE 125 ML\", \"type\": \"scatter\", \"x\": [\"2018-06-13\", \"2018-06-20\", \"2018-11-07\"], \"y\": [252.0, 234.0, 270.0]}, {\"mode\": \"lines\", \"name\": \"CANDY CARAMEL 125 ML\", \"type\": \"scatter\", \"x\": [\"2018-04-08\", \"2018-04-12\", \"2018-04-15\", \"2018-06-13\", \"2018-06-20\", \"2018-08-01\", \"2018-10-03\", \"2018-10-10\"], \"y\": [252.0, 18.0, 36.0, 234.0, 324.0, 360.0, 342.0, 126.0]}, {\"mode\": \"lines\", \"name\": \"CHOCO 1L\", \"type\": \"scatter\", \"x\": [\"2018-04-03\", \"2018-04-04\", \"2018-05-12\", \"2018-05-13\", \"2018-05-22\", \"2018-05-31\", \"2018-06-13\", \"2018-06-20\", \"2018-06-21\", \"2018-06-27\", \"2018-07-04\", \"2018-07-11\", \"2018-07-18\", \"2018-07-25\", \"2018-08-01\", \"2018-08-08\", \"2018-08-15\", \"2018-08-18\", \"2018-08-19\", \"2018-09-06\", \"2018-09-12\", \"2018-09-19\", \"2018-09-20\", \"2018-09-24\", \"2018-09-26\", \"2018-10-03\", \"2018-10-10\", \"2018-10-17\", \"2018-10-24\", \"2018-10-31\", \"2018-11-07\", \"2018-11-10\", \"2018-11-14\", \"2018-11-18\", \"2018-11-21\", \"2018-11-28\", \"2018-11-29\", \"2018-12-05\", \"2018-12-12\", \"2018-12-13\", \"2018-12-19\", \"2018-12-26\"], \"y\": [12.0, 300.0, 12.0, 120.0, 48.0, 24.0, 228.0, 300.0, 96.0, 360.0, 348.0, 12.0, 348.0, 240.0, 372.0, 180.0, 324.0, 12.0, 12.0, 168.0, 468.0, 240.0, 84.0, 36.0, 456.0, 372.0, 300.0, 336.0, 276.0, 348.0, 240.0, 24.0, 216.0, 60.0, 288.0, 336.0, 36.0, 252.0, 360.0, 60.0, 204.0, 300.0]}, {\"mode\": \"lines\", \"name\": \"FRAISE 20CL\", \"type\": \"scatter\", \"x\": [\"2018-07-23\", \"2018-08-01\", \"2018-08-29\"], \"y\": [90.0, 306.0, 342.0]}, {\"mode\": \"lines\", \"name\": \"BANANE 125 ML\", \"type\": \"scatter\", \"x\": [\"2018-08-15\"], \"y\": [54.0]}, {\"mode\": \"lines\", \"name\": \"R16054\", \"type\": \"scatter\", \"x\": [], \"y\": []}],\n",
       "                        {\"template\": {\"data\": {\"bar\": [{\"error_x\": {\"color\": \"#2a3f5f\"}, \"error_y\": {\"color\": \"#2a3f5f\"}, \"marker\": {\"line\": {\"color\": \"#E5ECF6\", \"width\": 0.5}}, \"type\": \"bar\"}], \"barpolar\": [{\"marker\": {\"line\": {\"color\": \"#E5ECF6\", \"width\": 0.5}}, \"type\": \"barpolar\"}], \"carpet\": [{\"aaxis\": {\"endlinecolor\": \"#2a3f5f\", \"gridcolor\": \"white\", \"linecolor\": \"white\", \"minorgridcolor\": \"white\", \"startlinecolor\": \"#2a3f5f\"}, \"baxis\": {\"endlinecolor\": \"#2a3f5f\", \"gridcolor\": \"white\", \"linecolor\": \"white\", \"minorgridcolor\": \"white\", \"startlinecolor\": \"#2a3f5f\"}, \"type\": \"carpet\"}], \"choropleth\": [{\"colorbar\": {\"outlinewidth\": 0, \"ticks\": \"\"}, \"type\": \"choropleth\"}], \"contour\": [{\"colorbar\": {\"outlinewidth\": 0, \"ticks\": \"\"}, \"colorscale\": [[0.0, \"#0d0887\"], [0.1111111111111111, \"#46039f\"], [0.2222222222222222, \"#7201a8\"], [0.3333333333333333, \"#9c179e\"], [0.4444444444444444, \"#bd3786\"], [0.5555555555555556, \"#d8576b\"], [0.6666666666666666, \"#ed7953\"], [0.7777777777777778, \"#fb9f3a\"], [0.8888888888888888, \"#fdca26\"], [1.0, \"#f0f921\"]], \"type\": \"contour\"}], \"contourcarpet\": [{\"colorbar\": {\"outlinewidth\": 0, \"ticks\": \"\"}, \"type\": \"contourcarpet\"}], \"heatmap\": [{\"colorbar\": {\"outlinewidth\": 0, \"ticks\": \"\"}, \"colorscale\": [[0.0, \"#0d0887\"], [0.1111111111111111, \"#46039f\"], [0.2222222222222222, \"#7201a8\"], [0.3333333333333333, \"#9c179e\"], [0.4444444444444444, \"#bd3786\"], [0.5555555555555556, \"#d8576b\"], [0.6666666666666666, \"#ed7953\"], [0.7777777777777778, \"#fb9f3a\"], [0.8888888888888888, \"#fdca26\"], [1.0, \"#f0f921\"]], \"type\": \"heatmap\"}], \"heatmapgl\": [{\"colorbar\": {\"outlinewidth\": 0, \"ticks\": \"\"}, \"colorscale\": [[0.0, \"#0d0887\"], [0.1111111111111111, \"#46039f\"], [0.2222222222222222, \"#7201a8\"], [0.3333333333333333, \"#9c179e\"], [0.4444444444444444, \"#bd3786\"], [0.5555555555555556, \"#d8576b\"], [0.6666666666666666, \"#ed7953\"], [0.7777777777777778, \"#fb9f3a\"], [0.8888888888888888, \"#fdca26\"], [1.0, \"#f0f921\"]], \"type\": \"heatmapgl\"}], \"histogram\": [{\"marker\": {\"colorbar\": {\"outlinewidth\": 0, \"ticks\": \"\"}}, \"type\": \"histogram\"}], \"histogram2d\": [{\"colorbar\": {\"outlinewidth\": 0, \"ticks\": \"\"}, \"colorscale\": [[0.0, \"#0d0887\"], [0.1111111111111111, \"#46039f\"], [0.2222222222222222, \"#7201a8\"], [0.3333333333333333, \"#9c179e\"], [0.4444444444444444, \"#bd3786\"], [0.5555555555555556, \"#d8576b\"], [0.6666666666666666, \"#ed7953\"], [0.7777777777777778, \"#fb9f3a\"], [0.8888888888888888, \"#fdca26\"], [1.0, \"#f0f921\"]], \"type\": \"histogram2d\"}], \"histogram2dcontour\": [{\"colorbar\": {\"outlinewidth\": 0, \"ticks\": \"\"}, \"colorscale\": [[0.0, \"#0d0887\"], [0.1111111111111111, \"#46039f\"], [0.2222222222222222, \"#7201a8\"], [0.3333333333333333, \"#9c179e\"], [0.4444444444444444, \"#bd3786\"], [0.5555555555555556, \"#d8576b\"], [0.6666666666666666, \"#ed7953\"], [0.7777777777777778, \"#fb9f3a\"], [0.8888888888888888, \"#fdca26\"], [1.0, \"#f0f921\"]], \"type\": \"histogram2dcontour\"}], \"mesh3d\": [{\"colorbar\": {\"outlinewidth\": 0, \"ticks\": \"\"}, \"type\": \"mesh3d\"}], \"parcoords\": [{\"line\": {\"colorbar\": {\"outlinewidth\": 0, \"ticks\": \"\"}}, \"type\": \"parcoords\"}], \"pie\": [{\"automargin\": true, \"type\": \"pie\"}], \"scatter\": [{\"marker\": {\"colorbar\": {\"outlinewidth\": 0, \"ticks\": \"\"}}, \"type\": \"scatter\"}], \"scatter3d\": [{\"line\": {\"colorbar\": {\"outlinewidth\": 0, \"ticks\": \"\"}}, \"marker\": {\"colorbar\": {\"outlinewidth\": 0, \"ticks\": \"\"}}, \"type\": \"scatter3d\"}], \"scattercarpet\": [{\"marker\": {\"colorbar\": {\"outlinewidth\": 0, \"ticks\": \"\"}}, \"type\": \"scattercarpet\"}], \"scattergeo\": [{\"marker\": {\"colorbar\": {\"outlinewidth\": 0, \"ticks\": \"\"}}, \"type\": \"scattergeo\"}], \"scattergl\": [{\"marker\": {\"colorbar\": {\"outlinewidth\": 0, \"ticks\": \"\"}}, \"type\": \"scattergl\"}], \"scattermapbox\": [{\"marker\": {\"colorbar\": {\"outlinewidth\": 0, \"ticks\": \"\"}}, \"type\": \"scattermapbox\"}], \"scatterpolar\": [{\"marker\": {\"colorbar\": {\"outlinewidth\": 0, \"ticks\": \"\"}}, \"type\": \"scatterpolar\"}], \"scatterpolargl\": [{\"marker\": {\"colorbar\": {\"outlinewidth\": 0, \"ticks\": \"\"}}, \"type\": \"scatterpolargl\"}], \"scatterternary\": [{\"marker\": {\"colorbar\": {\"outlinewidth\": 0, \"ticks\": \"\"}}, \"type\": \"scatterternary\"}], \"surface\": [{\"colorbar\": {\"outlinewidth\": 0, \"ticks\": \"\"}, \"colorscale\": [[0.0, \"#0d0887\"], [0.1111111111111111, \"#46039f\"], [0.2222222222222222, \"#7201a8\"], [0.3333333333333333, \"#9c179e\"], [0.4444444444444444, \"#bd3786\"], [0.5555555555555556, \"#d8576b\"], [0.6666666666666666, \"#ed7953\"], [0.7777777777777778, \"#fb9f3a\"], [0.8888888888888888, \"#fdca26\"], [1.0, \"#f0f921\"]], \"type\": \"surface\"}], \"table\": [{\"cells\": {\"fill\": {\"color\": \"#EBF0F8\"}, \"line\": {\"color\": \"white\"}}, \"header\": {\"fill\": {\"color\": \"#C8D4E3\"}, \"line\": {\"color\": \"white\"}}, \"type\": \"table\"}]}, \"layout\": {\"annotationdefaults\": {\"arrowcolor\": \"#2a3f5f\", \"arrowhead\": 0, \"arrowwidth\": 1}, \"coloraxis\": {\"colorbar\": {\"outlinewidth\": 0, \"ticks\": \"\"}}, \"colorscale\": {\"diverging\": [[0, \"#8e0152\"], [0.1, \"#c51b7d\"], [0.2, \"#de77ae\"], [0.3, \"#f1b6da\"], [0.4, \"#fde0ef\"], [0.5, \"#f7f7f7\"], [0.6, \"#e6f5d0\"], [0.7, \"#b8e186\"], [0.8, \"#7fbc41\"], [0.9, \"#4d9221\"], [1, \"#276419\"]], \"sequential\": [[0.0, \"#0d0887\"], [0.1111111111111111, \"#46039f\"], [0.2222222222222222, \"#7201a8\"], [0.3333333333333333, \"#9c179e\"], [0.4444444444444444, \"#bd3786\"], [0.5555555555555556, \"#d8576b\"], [0.6666666666666666, \"#ed7953\"], [0.7777777777777778, \"#fb9f3a\"], [0.8888888888888888, \"#fdca26\"], [1.0, \"#f0f921\"]], \"sequentialminus\": [[0.0, \"#0d0887\"], [0.1111111111111111, \"#46039f\"], [0.2222222222222222, \"#7201a8\"], [0.3333333333333333, \"#9c179e\"], [0.4444444444444444, \"#bd3786\"], [0.5555555555555556, \"#d8576b\"], [0.6666666666666666, \"#ed7953\"], [0.7777777777777778, \"#fb9f3a\"], [0.8888888888888888, \"#fdca26\"], [1.0, \"#f0f921\"]]}, \"colorway\": [\"#636efa\", \"#EF553B\", \"#00cc96\", \"#ab63fa\", \"#FFA15A\", \"#19d3f3\", \"#FF6692\", \"#B6E880\", \"#FF97FF\", \"#FECB52\"], \"font\": {\"color\": \"#2a3f5f\"}, \"geo\": {\"bgcolor\": \"white\", \"lakecolor\": \"white\", \"landcolor\": \"#E5ECF6\", \"showlakes\": true, \"showland\": true, \"subunitcolor\": \"white\"}, \"hoverlabel\": {\"align\": \"left\"}, \"hovermode\": \"closest\", \"mapbox\": {\"style\": \"light\"}, \"paper_bgcolor\": \"white\", \"plot_bgcolor\": \"#E5ECF6\", \"polar\": {\"angularaxis\": {\"gridcolor\": \"white\", \"linecolor\": \"white\", \"ticks\": \"\"}, \"bgcolor\": \"#E5ECF6\", \"radialaxis\": {\"gridcolor\": \"white\", \"linecolor\": \"white\", \"ticks\": \"\"}}, \"scene\": {\"xaxis\": {\"backgroundcolor\": \"#E5ECF6\", \"gridcolor\": \"white\", \"gridwidth\": 2, \"linecolor\": \"white\", \"showbackground\": true, \"ticks\": \"\", \"zerolinecolor\": \"white\"}, \"yaxis\": {\"backgroundcolor\": \"#E5ECF6\", \"gridcolor\": \"white\", \"gridwidth\": 2, \"linecolor\": \"white\", \"showbackground\": true, \"ticks\": \"\", \"zerolinecolor\": \"white\"}, \"zaxis\": {\"backgroundcolor\": \"#E5ECF6\", \"gridcolor\": \"white\", \"gridwidth\": 2, \"linecolor\": \"white\", \"showbackground\": true, \"ticks\": \"\", \"zerolinecolor\": \"white\"}}, \"shapedefaults\": {\"line\": {\"color\": \"#2a3f5f\"}}, \"ternary\": {\"aaxis\": {\"gridcolor\": \"white\", \"linecolor\": \"white\", \"ticks\": \"\"}, \"baxis\": {\"gridcolor\": \"white\", \"linecolor\": \"white\", \"ticks\": \"\"}, \"bgcolor\": \"#E5ECF6\", \"caxis\": {\"gridcolor\": \"white\", \"linecolor\": \"white\", \"ticks\": \"\"}}, \"title\": {\"x\": 0.05}, \"xaxis\": {\"automargin\": true, \"gridcolor\": \"white\", \"linecolor\": \"white\", \"ticks\": \"\", \"title\": {\"standoff\": 15}, \"zerolinecolor\": \"white\", \"zerolinewidth\": 2}, \"yaxis\": {\"automargin\": true, \"gridcolor\": \"white\", \"linecolor\": \"white\", \"ticks\": \"\", \"title\": {\"standoff\": 15}, \"zerolinecolor\": \"white\", \"zerolinewidth\": 2}}}, \"title\": {\"text\": \"QTE Dimanche/Mercredi, 1020/800/50 - laits aromatis\\u00c3\\u00a9s\"}},\n",
       "                        {\"responsive\": true}\n",
       "                    ).then(function(){\n",
       "                            \n",
       "var gd = document.getElementById('5b38d64c-6c57-4b86-be78-598e98cfc455');\n",
       "var x = new MutationObserver(function (mutations, observer) {{\n",
       "        var display = window.getComputedStyle(gd).display;\n",
       "        if (!display || display === 'none') {{\n",
       "            console.log([gd, 'removed!']);\n",
       "            Plotly.purge(gd);\n",
       "            observer.disconnect();\n",
       "        }}\n",
       "}});\n",
       "\n",
       "// Listen for the removal of the full notebook cells\n",
       "var notebookContainer = gd.closest('#notebook-container');\n",
       "if (notebookContainer) {{\n",
       "    x.observe(notebookContainer, {childList: true});\n",
       "}}\n",
       "\n",
       "// Listen for the clearing of the current output cell\n",
       "var outputEl = gd.closest('.output');\n",
       "if (outputEl) {{\n",
       "    x.observe(outputEl, {childList: true});\n",
       "}}\n",
       "\n",
       "                        })\n",
       "                };\n",
       "                });\n",
       "            </script>\n",
       "        </div>"
      ]
     },
     "metadata": {},
     "output_type": "display_data"
    },
    {
     "name": "stdout",
     "output_type": "stream",
     "text": [
      "\n"
     ]
    }
   ],
   "source": [
    "def Plot_QTE(itinerary):\n",
    "    \n",
    "    for gamme in tqdm(list(productDict.keys())[:2]):\n",
    "        data=[]\n",
    "        print(gamme,\" :\")\n",
    "        for prod in tqdm(productDict[gamme]):\n",
    "            y=myData[(myData[\"ITINERARY_NAME\"].str.match(itinerary)) & (myData[\"PRODUCT_NAME\"].str.match(prod))][[\"GREGORIAN_DATE\",\"SOLD QUANTITY\"]].groupby(\"GREGORIAN_DATE\").sum()\n",
    "            data.append(go.Scatter(\n",
    "                x = y.index,\n",
    "                y = y[\"SOLD QUANTITY\"],\n",
    "                mode=\"lines\",\n",
    "                name=f\"{prod}\",))\n",
    "\n",
    "                                     ###           PLOTING       ###\n",
    "        layout = go.Layout(title=f\"QTE {itinerary} - {gamme}\")\n",
    "        fig=go.Figure(data=data,layout=layout)\n",
    "        pyo.iplot(fig)\n",
    "def Plot_QTE2(itinerary):\n",
    "    \n",
    "    for gamme in tqdm(list(productDict.keys())[2:4]):\n",
    "        data=[]\n",
    "        print(gamme,\" :\")\n",
    "        for prod in tqdm(productDict[gamme]):\n",
    "            y=myData[(myData[\"ITINERARY_NAME\"].str.match(itinerary)) & (myData[\"PRODUCT_NAME\"].str.match(prod))][[\"GREGORIAN_DATE\",\"SOLD QUANTITY\"]].groupby(\"GREGORIAN_DATE\").sum()\n",
    "            data.append(go.Scatter(\n",
    "                x = y.index,\n",
    "                y = y[\"SOLD QUANTITY\"],\n",
    "                mode=\"lines\",\n",
    "                name=f\"{prod}\",))\n",
    "\n",
    "                                     ###           PLOTING       ###\n",
    "        layout = go.Layout(title=f\"QTE {itinerary} - {gamme}\")\n",
    "        fig=go.Figure(data=data,layout=layout)\n",
    "        pyo.iplot(fig)\n",
    "        \n",
    "def Plot_QTE3(itinerary):\n",
    "    \n",
    "    for gamme in tqdm(list(productDict.keys())[4:6]):\n",
    "        data=[]\n",
    "        print(gamme,\" :\")\n",
    "        for prod in tqdm(productDict[gamme]):\n",
    "            y=myData[(myData[\"ITINERARY_NAME\"].str.match(itinerary)) & (myData[\"PRODUCT_NAME\"].str.match(prod))][[\"GREGORIAN_DATE\",\"SOLD QUANTITY\"]].groupby(\"GREGORIAN_DATE\").sum()\n",
    "            data.append(go.Scatter(\n",
    "                x = y.index,\n",
    "                y = y[\"SOLD QUANTITY\"],\n",
    "                mode=\"lines\",\n",
    "                name=f\"{prod}\",))\n",
    "\n",
    "                                     ###           PLOTING       ###\n",
    "        layout = go.Layout(title=f\"QTE {itinerary} - {gamme}\")\n",
    "        fig=go.Figure(data=data,layout=layout)\n",
    "        pyo.iplot(fig)\n",
    "        \n",
    "def Plot_QTE4(itinerary):\n",
    "    \n",
    "    for gamme in tqdm(list(productDict.keys())[4:6]):\n",
    "        data=[]\n",
    "        print(gamme,\" :\")\n",
    "        for prod in tqdm(productDict[gamme]):\n",
    "            y=myData[(myData[\"ITINERARY_NAME\"].str.match(itinerary)) & (myData[\"PRODUCT_NAME\"].str.match(prod))][[\"GREGORIAN_DATE\",\"SOLD QUANTITY\"]].groupby(\"GREGORIAN_DATE\").sum()\n",
    "            data.append(go.Scatter(\n",
    "                x = y.index,\n",
    "                y = y[\"SOLD QUANTITY\"],\n",
    "                mode=\"lines\",\n",
    "                name=f\"{prod}\",))\n",
    "\n",
    "                                     ###           PLOTING       ###\n",
    "        layout = go.Layout(title=f\"QTE {itinerary} - {gamme}\")\n",
    "        fig=go.Figure(data=data,layout=layout)\n",
    "        pyo.iplot(fig)\n",
    "Plot_QTE(\"Dimanche/Mercredi, 1020/800/50\")"
   ]
  },
  {
   "cell_type": "code",
   "execution_count": 35,
   "metadata": {},
   "outputs": [
    {
     "data": {
      "application/vnd.jupyter.widget-view+json": {
       "model_id": "231c60c826bb4590ac104261ea9ed86c",
       "version_major": 2,
       "version_minor": 0
      },
      "text/plain": [
       "HBox(children=(FloatProgress(value=0.0, max=2.0), HTML(value='')))"
      ]
     },
     "metadata": {},
     "output_type": "display_data"
    },
    {
     "name": "stdout",
     "output_type": "stream",
     "text": [
      "Laits & Jus  :\n"
     ]
    },
    {
     "data": {
      "application/vnd.jupyter.widget-view+json": {
       "model_id": "6c923024fae541e2b4b7d6295164f59e",
       "version_major": 2,
       "version_minor": 0
      },
      "text/plain": [
       "HBox(children=(FloatProgress(value=0.0, max=10.0), HTML(value='')))"
      ]
     },
     "metadata": {},
     "output_type": "display_data"
    },
    {
     "name": "stdout",
     "output_type": "stream",
     "text": [
      "\n"
     ]
    },
    {
     "data": {
      "application/vnd.plotly.v1+json": {
       "config": {
        "linkText": "Export to plot.ly",
        "plotlyServerURL": "https://plot.ly",
        "showLink": false
       },
       "data": [
        {
         "mode": "lines",
         "name": "TWIST O-A 20CL",
         "type": "scatter",
         "x": [
          "2018-03-31",
          "2018-04-03",
          "2018-04-04",
          "2018-04-12",
          "2018-04-15",
          "2018-04-28",
          "2018-04-29",
          "2018-05-06",
          "2018-05-27",
          "2018-06-06",
          "2018-06-13",
          "2018-06-20",
          "2018-06-27",
          "2018-07-04",
          "2018-07-11",
          "2018-07-18",
          "2018-08-08",
          "2018-08-15",
          "2018-08-18",
          "2018-09-26",
          "2018-10-03",
          "2018-10-17",
          "2018-10-24",
          "2018-11-18"
         ],
         "y": [
          18,
          18,
          288,
          36,
          216,
          18,
          432,
          144,
          198,
          270,
          18,
          360,
          450,
          396,
          198,
          288,
          540,
          486,
          54,
          1044,
          324,
          738,
          90,
          36
         ]
        },
        {
         "mode": "lines",
         "name": "TWIST O-F-B 20CL",
         "type": "scatter",
         "x": [
          "2018-03-31",
          "2018-04-03",
          "2018-04-04",
          "2018-04-22",
          "2018-04-28",
          "2018-04-29",
          "2018-05-27",
          "2018-06-06",
          "2018-06-13",
          "2018-06-20",
          "2018-06-24",
          "2018-06-27",
          "2018-07-04",
          "2018-07-11",
          "2018-07-18",
          "2018-07-25",
          "2018-08-08",
          "2018-08-15",
          "2018-08-18",
          "2018-09-12",
          "2018-10-03",
          "2018-10-10",
          "2018-11-14",
          "2018-11-21",
          "2018-11-28",
          "2018-12-05"
         ],
         "y": [
          18,
          18,
          270,
          378,
          18,
          396,
          198,
          324,
          108,
          360,
          18,
          468,
          468,
          378,
          522,
          396,
          540,
          504,
          54,
          1098,
          828,
          648,
          1314,
          666,
          558,
          666
         ]
        },
        {
         "mode": "lines",
         "name": "TWIST O-F-B 1L",
         "type": "scatter",
         "x": [
          "2018-07-04",
          "2018-07-11",
          "2018-08-18",
          "2018-08-29",
          "2018-09-06",
          "2018-09-12",
          "2018-09-19",
          "2018-09-26",
          "2018-10-03",
          "2018-10-10",
          "2018-10-17",
          "2018-10-24",
          "2018-10-31",
          "2018-11-07",
          "2018-11-28"
         ],
         "y": [
          96,
          24,
          12,
          48,
          24,
          24,
          36,
          60,
          36,
          24,
          36,
          48,
          24,
          12,
          48
         ]
        },
        {
         "mode": "lines",
         "name": "TWIST O-A 1L",
         "type": "scatter",
         "x": [
          "2018-04-04",
          "2018-04-12",
          "2018-07-04",
          "2018-07-11",
          "2018-07-25",
          "2018-08-18",
          "2018-08-29",
          "2018-09-06",
          "2018-09-12",
          "2018-09-19",
          "2018-09-26",
          "2018-11-28"
         ],
         "y": [
          36,
          12,
          96,
          12,
          12,
          12,
          48,
          12,
          12,
          12,
          24,
          36
         ]
        },
        {
         "mode": "lines",
         "name": "TWIST O-M 20CL",
         "type": "scatter",
         "x": [
          "2018-03-31",
          "2018-04-03",
          "2018-04-04",
          "2018-04-12",
          "2018-04-15",
          "2018-04-22",
          "2018-04-28",
          "2018-04-29",
          "2018-06-06",
          "2018-06-13",
          "2018-06-20",
          "2018-06-27",
          "2018-07-04",
          "2018-07-11",
          "2018-07-18",
          "2018-08-08",
          "2018-08-18",
          "2018-08-29",
          "2018-09-12",
          "2018-10-03",
          "2018-10-10",
          "2018-10-17",
          "2018-10-24",
          "2018-10-31",
          "2018-11-18",
          "2018-11-21",
          "2018-12-19"
         ],
         "y": [
          18,
          18,
          216,
          36,
          252,
          324,
          18,
          378,
          288,
          72,
          360,
          342,
          270,
          288,
          270,
          540,
          54,
          162,
          810,
          324,
          612,
          702,
          666,
          36,
          36,
          504,
          630
         ]
        },
        {
         "mode": "lines",
         "name": "TWIST P-A 20CL",
         "type": "scatter",
         "x": [
          "2018-03-31",
          "2018-04-03",
          "2018-04-04",
          "2018-04-12",
          "2018-04-28",
          "2018-04-29",
          "2018-05-06",
          "2018-05-13",
          "2018-05-27",
          "2018-06-06",
          "2018-06-13",
          "2018-06-20",
          "2018-06-27",
          "2018-07-04",
          "2018-07-11",
          "2018-07-18",
          "2018-07-25",
          "2018-08-15",
          "2018-08-18",
          "2018-09-26",
          "2018-10-17",
          "2018-11-07",
          "2018-11-18",
          "2018-11-21",
          "2018-11-28"
         ],
         "y": [
          18,
          18,
          180,
          36,
          18,
          396,
          198,
          270,
          216,
          306,
          72,
          360,
          450,
          342,
          306,
          342,
          342,
          486,
          54,
          1062,
          684,
          468,
          36,
          666,
          468
         ]
        },
        {
         "mode": "lines",
         "name": "TWIST O-M 1L",
         "type": "scatter",
         "x": [
          "2018-04-04",
          "2018-04-12",
          "2018-07-01",
          "2018-07-04",
          "2018-07-18",
          "2018-08-01",
          "2018-08-29",
          "2018-09-06",
          "2018-09-12",
          "2018-09-19",
          "2018-09-26",
          "2018-10-17",
          "2018-10-24",
          "2018-11-14",
          "2018-11-18",
          "2018-11-21",
          "2018-11-28",
          "2018-12-12",
          "2018-12-13",
          "2018-12-26"
         ],
         "y": [
          12,
          12,
          12,
          72,
          12,
          12,
          48,
          12,
          12,
          12,
          48,
          12,
          12,
          24,
          12,
          24,
          12,
          48,
          12,
          36
         ]
        },
        {
         "mode": "lines",
         "name": "TWIST P-A 1L",
         "type": "scatter",
         "x": [
          "2018-04-04",
          "2018-07-01",
          "2018-07-04",
          "2018-07-18",
          "2018-08-29",
          "2018-09-06",
          "2018-09-12",
          "2018-09-19",
          "2018-09-26",
          "2018-10-03",
          "2018-10-17",
          "2018-10-24",
          "2018-11-07",
          "2018-11-14",
          "2018-12-12",
          "2018-12-13",
          "2018-12-26"
         ],
         "y": [
          36,
          12,
          96,
          12,
          48,
          24,
          24,
          24,
          24,
          12,
          24,
          12,
          12,
          24,
          24,
          12,
          36
         ]
        },
        {
         "mode": "lines",
         "name": "TWIST O-F-B 125ML",
         "type": "scatter",
         "x": [
          "2018-08-30",
          "2018-09-02",
          "2018-10-10",
          "2018-10-17",
          "2018-11-21",
          "2018-12-26"
         ],
         "y": [
          54,
          18,
          162,
          108,
          198,
          468
         ]
        },
        {
         "mode": "lines",
         "name": "TWIST O-A 125ML",
         "type": "scatter",
         "x": [
          "2018-08-30",
          "2018-09-02",
          "2018-09-24",
          "2018-09-26",
          "2018-10-03",
          "2018-10-10",
          "2018-10-17",
          "2018-10-24",
          "2018-10-31",
          "2018-11-21",
          "2018-12-26"
         ],
         "y": [
          72,
          18,
          90,
          252,
          54,
          162,
          108,
          216,
          324,
          198,
          396
         ]
        }
       ],
       "layout": {
        "template": {
         "data": {
          "bar": [
           {
            "error_x": {
             "color": "#2a3f5f"
            },
            "error_y": {
             "color": "#2a3f5f"
            },
            "marker": {
             "line": {
              "color": "#E5ECF6",
              "width": 0.5
             }
            },
            "type": "bar"
           }
          ],
          "barpolar": [
           {
            "marker": {
             "line": {
              "color": "#E5ECF6",
              "width": 0.5
             }
            },
            "type": "barpolar"
           }
          ],
          "carpet": [
           {
            "aaxis": {
             "endlinecolor": "#2a3f5f",
             "gridcolor": "white",
             "linecolor": "white",
             "minorgridcolor": "white",
             "startlinecolor": "#2a3f5f"
            },
            "baxis": {
             "endlinecolor": "#2a3f5f",
             "gridcolor": "white",
             "linecolor": "white",
             "minorgridcolor": "white",
             "startlinecolor": "#2a3f5f"
            },
            "type": "carpet"
           }
          ],
          "choropleth": [
           {
            "colorbar": {
             "outlinewidth": 0,
             "ticks": ""
            },
            "type": "choropleth"
           }
          ],
          "contour": [
           {
            "colorbar": {
             "outlinewidth": 0,
             "ticks": ""
            },
            "colorscale": [
             [
              0,
              "#0d0887"
             ],
             [
              0.1111111111111111,
              "#46039f"
             ],
             [
              0.2222222222222222,
              "#7201a8"
             ],
             [
              0.3333333333333333,
              "#9c179e"
             ],
             [
              0.4444444444444444,
              "#bd3786"
             ],
             [
              0.5555555555555556,
              "#d8576b"
             ],
             [
              0.6666666666666666,
              "#ed7953"
             ],
             [
              0.7777777777777778,
              "#fb9f3a"
             ],
             [
              0.8888888888888888,
              "#fdca26"
             ],
             [
              1,
              "#f0f921"
             ]
            ],
            "type": "contour"
           }
          ],
          "contourcarpet": [
           {
            "colorbar": {
             "outlinewidth": 0,
             "ticks": ""
            },
            "type": "contourcarpet"
           }
          ],
          "heatmap": [
           {
            "colorbar": {
             "outlinewidth": 0,
             "ticks": ""
            },
            "colorscale": [
             [
              0,
              "#0d0887"
             ],
             [
              0.1111111111111111,
              "#46039f"
             ],
             [
              0.2222222222222222,
              "#7201a8"
             ],
             [
              0.3333333333333333,
              "#9c179e"
             ],
             [
              0.4444444444444444,
              "#bd3786"
             ],
             [
              0.5555555555555556,
              "#d8576b"
             ],
             [
              0.6666666666666666,
              "#ed7953"
             ],
             [
              0.7777777777777778,
              "#fb9f3a"
             ],
             [
              0.8888888888888888,
              "#fdca26"
             ],
             [
              1,
              "#f0f921"
             ]
            ],
            "type": "heatmap"
           }
          ],
          "heatmapgl": [
           {
            "colorbar": {
             "outlinewidth": 0,
             "ticks": ""
            },
            "colorscale": [
             [
              0,
              "#0d0887"
             ],
             [
              0.1111111111111111,
              "#46039f"
             ],
             [
              0.2222222222222222,
              "#7201a8"
             ],
             [
              0.3333333333333333,
              "#9c179e"
             ],
             [
              0.4444444444444444,
              "#bd3786"
             ],
             [
              0.5555555555555556,
              "#d8576b"
             ],
             [
              0.6666666666666666,
              "#ed7953"
             ],
             [
              0.7777777777777778,
              "#fb9f3a"
             ],
             [
              0.8888888888888888,
              "#fdca26"
             ],
             [
              1,
              "#f0f921"
             ]
            ],
            "type": "heatmapgl"
           }
          ],
          "histogram": [
           {
            "marker": {
             "colorbar": {
              "outlinewidth": 0,
              "ticks": ""
             }
            },
            "type": "histogram"
           }
          ],
          "histogram2d": [
           {
            "colorbar": {
             "outlinewidth": 0,
             "ticks": ""
            },
            "colorscale": [
             [
              0,
              "#0d0887"
             ],
             [
              0.1111111111111111,
              "#46039f"
             ],
             [
              0.2222222222222222,
              "#7201a8"
             ],
             [
              0.3333333333333333,
              "#9c179e"
             ],
             [
              0.4444444444444444,
              "#bd3786"
             ],
             [
              0.5555555555555556,
              "#d8576b"
             ],
             [
              0.6666666666666666,
              "#ed7953"
             ],
             [
              0.7777777777777778,
              "#fb9f3a"
             ],
             [
              0.8888888888888888,
              "#fdca26"
             ],
             [
              1,
              "#f0f921"
             ]
            ],
            "type": "histogram2d"
           }
          ],
          "histogram2dcontour": [
           {
            "colorbar": {
             "outlinewidth": 0,
             "ticks": ""
            },
            "colorscale": [
             [
              0,
              "#0d0887"
             ],
             [
              0.1111111111111111,
              "#46039f"
             ],
             [
              0.2222222222222222,
              "#7201a8"
             ],
             [
              0.3333333333333333,
              "#9c179e"
             ],
             [
              0.4444444444444444,
              "#bd3786"
             ],
             [
              0.5555555555555556,
              "#d8576b"
             ],
             [
              0.6666666666666666,
              "#ed7953"
             ],
             [
              0.7777777777777778,
              "#fb9f3a"
             ],
             [
              0.8888888888888888,
              "#fdca26"
             ],
             [
              1,
              "#f0f921"
             ]
            ],
            "type": "histogram2dcontour"
           }
          ],
          "mesh3d": [
           {
            "colorbar": {
             "outlinewidth": 0,
             "ticks": ""
            },
            "type": "mesh3d"
           }
          ],
          "parcoords": [
           {
            "line": {
             "colorbar": {
              "outlinewidth": 0,
              "ticks": ""
             }
            },
            "type": "parcoords"
           }
          ],
          "pie": [
           {
            "automargin": true,
            "type": "pie"
           }
          ],
          "scatter": [
           {
            "marker": {
             "colorbar": {
              "outlinewidth": 0,
              "ticks": ""
             }
            },
            "type": "scatter"
           }
          ],
          "scatter3d": [
           {
            "line": {
             "colorbar": {
              "outlinewidth": 0,
              "ticks": ""
             }
            },
            "marker": {
             "colorbar": {
              "outlinewidth": 0,
              "ticks": ""
             }
            },
            "type": "scatter3d"
           }
          ],
          "scattercarpet": [
           {
            "marker": {
             "colorbar": {
              "outlinewidth": 0,
              "ticks": ""
             }
            },
            "type": "scattercarpet"
           }
          ],
          "scattergeo": [
           {
            "marker": {
             "colorbar": {
              "outlinewidth": 0,
              "ticks": ""
             }
            },
            "type": "scattergeo"
           }
          ],
          "scattergl": [
           {
            "marker": {
             "colorbar": {
              "outlinewidth": 0,
              "ticks": ""
             }
            },
            "type": "scattergl"
           }
          ],
          "scattermapbox": [
           {
            "marker": {
             "colorbar": {
              "outlinewidth": 0,
              "ticks": ""
             }
            },
            "type": "scattermapbox"
           }
          ],
          "scatterpolar": [
           {
            "marker": {
             "colorbar": {
              "outlinewidth": 0,
              "ticks": ""
             }
            },
            "type": "scatterpolar"
           }
          ],
          "scatterpolargl": [
           {
            "marker": {
             "colorbar": {
              "outlinewidth": 0,
              "ticks": ""
             }
            },
            "type": "scatterpolargl"
           }
          ],
          "scatterternary": [
           {
            "marker": {
             "colorbar": {
              "outlinewidth": 0,
              "ticks": ""
             }
            },
            "type": "scatterternary"
           }
          ],
          "surface": [
           {
            "colorbar": {
             "outlinewidth": 0,
             "ticks": ""
            },
            "colorscale": [
             [
              0,
              "#0d0887"
             ],
             [
              0.1111111111111111,
              "#46039f"
             ],
             [
              0.2222222222222222,
              "#7201a8"
             ],
             [
              0.3333333333333333,
              "#9c179e"
             ],
             [
              0.4444444444444444,
              "#bd3786"
             ],
             [
              0.5555555555555556,
              "#d8576b"
             ],
             [
              0.6666666666666666,
              "#ed7953"
             ],
             [
              0.7777777777777778,
              "#fb9f3a"
             ],
             [
              0.8888888888888888,
              "#fdca26"
             ],
             [
              1,
              "#f0f921"
             ]
            ],
            "type": "surface"
           }
          ],
          "table": [
           {
            "cells": {
             "fill": {
              "color": "#EBF0F8"
             },
             "line": {
              "color": "white"
             }
            },
            "header": {
             "fill": {
              "color": "#C8D4E3"
             },
             "line": {
              "color": "white"
             }
            },
            "type": "table"
           }
          ]
         },
         "layout": {
          "annotationdefaults": {
           "arrowcolor": "#2a3f5f",
           "arrowhead": 0,
           "arrowwidth": 1
          },
          "coloraxis": {
           "colorbar": {
            "outlinewidth": 0,
            "ticks": ""
           }
          },
          "colorscale": {
           "diverging": [
            [
             0,
             "#8e0152"
            ],
            [
             0.1,
             "#c51b7d"
            ],
            [
             0.2,
             "#de77ae"
            ],
            [
             0.3,
             "#f1b6da"
            ],
            [
             0.4,
             "#fde0ef"
            ],
            [
             0.5,
             "#f7f7f7"
            ],
            [
             0.6,
             "#e6f5d0"
            ],
            [
             0.7,
             "#b8e186"
            ],
            [
             0.8,
             "#7fbc41"
            ],
            [
             0.9,
             "#4d9221"
            ],
            [
             1,
             "#276419"
            ]
           ],
           "sequential": [
            [
             0,
             "#0d0887"
            ],
            [
             0.1111111111111111,
             "#46039f"
            ],
            [
             0.2222222222222222,
             "#7201a8"
            ],
            [
             0.3333333333333333,
             "#9c179e"
            ],
            [
             0.4444444444444444,
             "#bd3786"
            ],
            [
             0.5555555555555556,
             "#d8576b"
            ],
            [
             0.6666666666666666,
             "#ed7953"
            ],
            [
             0.7777777777777778,
             "#fb9f3a"
            ],
            [
             0.8888888888888888,
             "#fdca26"
            ],
            [
             1,
             "#f0f921"
            ]
           ],
           "sequentialminus": [
            [
             0,
             "#0d0887"
            ],
            [
             0.1111111111111111,
             "#46039f"
            ],
            [
             0.2222222222222222,
             "#7201a8"
            ],
            [
             0.3333333333333333,
             "#9c179e"
            ],
            [
             0.4444444444444444,
             "#bd3786"
            ],
            [
             0.5555555555555556,
             "#d8576b"
            ],
            [
             0.6666666666666666,
             "#ed7953"
            ],
            [
             0.7777777777777778,
             "#fb9f3a"
            ],
            [
             0.8888888888888888,
             "#fdca26"
            ],
            [
             1,
             "#f0f921"
            ]
           ]
          },
          "colorway": [
           "#636efa",
           "#EF553B",
           "#00cc96",
           "#ab63fa",
           "#FFA15A",
           "#19d3f3",
           "#FF6692",
           "#B6E880",
           "#FF97FF",
           "#FECB52"
          ],
          "font": {
           "color": "#2a3f5f"
          },
          "geo": {
           "bgcolor": "white",
           "lakecolor": "white",
           "landcolor": "#E5ECF6",
           "showlakes": true,
           "showland": true,
           "subunitcolor": "white"
          },
          "hoverlabel": {
           "align": "left"
          },
          "hovermode": "closest",
          "mapbox": {
           "style": "light"
          },
          "paper_bgcolor": "white",
          "plot_bgcolor": "#E5ECF6",
          "polar": {
           "angularaxis": {
            "gridcolor": "white",
            "linecolor": "white",
            "ticks": ""
           },
           "bgcolor": "#E5ECF6",
           "radialaxis": {
            "gridcolor": "white",
            "linecolor": "white",
            "ticks": ""
           }
          },
          "scene": {
           "xaxis": {
            "backgroundcolor": "#E5ECF6",
            "gridcolor": "white",
            "gridwidth": 2,
            "linecolor": "white",
            "showbackground": true,
            "ticks": "",
            "zerolinecolor": "white"
           },
           "yaxis": {
            "backgroundcolor": "#E5ECF6",
            "gridcolor": "white",
            "gridwidth": 2,
            "linecolor": "white",
            "showbackground": true,
            "ticks": "",
            "zerolinecolor": "white"
           },
           "zaxis": {
            "backgroundcolor": "#E5ECF6",
            "gridcolor": "white",
            "gridwidth": 2,
            "linecolor": "white",
            "showbackground": true,
            "ticks": "",
            "zerolinecolor": "white"
           }
          },
          "shapedefaults": {
           "line": {
            "color": "#2a3f5f"
           }
          },
          "ternary": {
           "aaxis": {
            "gridcolor": "white",
            "linecolor": "white",
            "ticks": ""
           },
           "baxis": {
            "gridcolor": "white",
            "linecolor": "white",
            "ticks": ""
           },
           "bgcolor": "#E5ECF6",
           "caxis": {
            "gridcolor": "white",
            "linecolor": "white",
            "ticks": ""
           }
          },
          "title": {
           "x": 0.05
          },
          "xaxis": {
           "automargin": true,
           "gridcolor": "white",
           "linecolor": "white",
           "ticks": "",
           "title": {
            "standoff": 15
           },
           "zerolinecolor": "white",
           "zerolinewidth": 2
          },
          "yaxis": {
           "automargin": true,
           "gridcolor": "white",
           "linecolor": "white",
           "ticks": "",
           "title": {
            "standoff": 15
           },
           "zerolinecolor": "white",
           "zerolinewidth": 2
          }
         }
        },
        "title": {
         "text": "QTE Dimanche/Mercredi, 1020/800/50 - Laits & Jus"
        }
       }
      },
      "text/html": [
       "<div>\n",
       "        \n",
       "        \n",
       "            <div id=\"31cc3a56-ecc4-4165-9e81-303e13c2449f\" class=\"plotly-graph-div\" style=\"height:525px; width:100%;\"></div>\n",
       "            <script type=\"text/javascript\">\n",
       "                require([\"plotly\"], function(Plotly) {\n",
       "                    window.PLOTLYENV=window.PLOTLYENV || {};\n",
       "                    \n",
       "                if (document.getElementById(\"31cc3a56-ecc4-4165-9e81-303e13c2449f\")) {\n",
       "                    Plotly.newPlot(\n",
       "                        '31cc3a56-ecc4-4165-9e81-303e13c2449f',\n",
       "                        [{\"mode\": \"lines\", \"name\": \"TWIST O-A 20CL\", \"type\": \"scatter\", \"x\": [\"2018-03-31\", \"2018-04-03\", \"2018-04-04\", \"2018-04-12\", \"2018-04-15\", \"2018-04-28\", \"2018-04-29\", \"2018-05-06\", \"2018-05-27\", \"2018-06-06\", \"2018-06-13\", \"2018-06-20\", \"2018-06-27\", \"2018-07-04\", \"2018-07-11\", \"2018-07-18\", \"2018-08-08\", \"2018-08-15\", \"2018-08-18\", \"2018-09-26\", \"2018-10-03\", \"2018-10-17\", \"2018-10-24\", \"2018-11-18\"], \"y\": [18.0, 18.0, 288.0, 36.0, 216.0, 18.0, 432.0, 144.0, 198.0, 270.0, 18.0, 360.0, 450.0, 396.0, 198.0, 288.0, 540.0, 486.0, 54.0, 1044.0, 324.0, 738.0, 90.0, 36.0]}, {\"mode\": \"lines\", \"name\": \"TWIST O-F-B 20CL\", \"type\": \"scatter\", \"x\": [\"2018-03-31\", \"2018-04-03\", \"2018-04-04\", \"2018-04-22\", \"2018-04-28\", \"2018-04-29\", \"2018-05-27\", \"2018-06-06\", \"2018-06-13\", \"2018-06-20\", \"2018-06-24\", \"2018-06-27\", \"2018-07-04\", \"2018-07-11\", \"2018-07-18\", \"2018-07-25\", \"2018-08-08\", \"2018-08-15\", \"2018-08-18\", \"2018-09-12\", \"2018-10-03\", \"2018-10-10\", \"2018-11-14\", \"2018-11-21\", \"2018-11-28\", \"2018-12-05\"], \"y\": [18.0, 18.0, 270.0, 378.0, 18.0, 396.0, 198.0, 324.0, 108.0, 360.0, 18.0, 468.0, 468.0, 378.0, 522.0, 396.0, 540.0, 504.0, 54.0, 1098.0, 828.0, 648.0, 1314.0, 666.0, 558.0, 666.0]}, {\"mode\": \"lines\", \"name\": \"TWIST O-F-B 1L\", \"type\": \"scatter\", \"x\": [\"2018-07-04\", \"2018-07-11\", \"2018-08-18\", \"2018-08-29\", \"2018-09-06\", \"2018-09-12\", \"2018-09-19\", \"2018-09-26\", \"2018-10-03\", \"2018-10-10\", \"2018-10-17\", \"2018-10-24\", \"2018-10-31\", \"2018-11-07\", \"2018-11-28\"], \"y\": [96.0, 24.0, 12.0, 48.0, 24.0, 24.0, 36.0, 60.0, 36.0, 24.0, 36.0, 48.0, 24.0, 12.0, 48.0]}, {\"mode\": \"lines\", \"name\": \"TWIST O-A 1L\", \"type\": \"scatter\", \"x\": [\"2018-04-04\", \"2018-04-12\", \"2018-07-04\", \"2018-07-11\", \"2018-07-25\", \"2018-08-18\", \"2018-08-29\", \"2018-09-06\", \"2018-09-12\", \"2018-09-19\", \"2018-09-26\", \"2018-11-28\"], \"y\": [36.0, 12.0, 96.0, 12.0, 12.0, 12.0, 48.0, 12.0, 12.0, 12.0, 24.0, 36.0]}, {\"mode\": \"lines\", \"name\": \"TWIST O-M 20CL\", \"type\": \"scatter\", \"x\": [\"2018-03-31\", \"2018-04-03\", \"2018-04-04\", \"2018-04-12\", \"2018-04-15\", \"2018-04-22\", \"2018-04-28\", \"2018-04-29\", \"2018-06-06\", \"2018-06-13\", \"2018-06-20\", \"2018-06-27\", \"2018-07-04\", \"2018-07-11\", \"2018-07-18\", \"2018-08-08\", \"2018-08-18\", \"2018-08-29\", \"2018-09-12\", \"2018-10-03\", \"2018-10-10\", \"2018-10-17\", \"2018-10-24\", \"2018-10-31\", \"2018-11-18\", \"2018-11-21\", \"2018-12-19\"], \"y\": [18.0, 18.0, 216.0, 36.0, 252.0, 324.0, 18.0, 378.0, 288.0, 72.0, 360.0, 342.0, 270.0, 288.0, 270.0, 540.0, 54.0, 162.0, 810.0, 324.0, 612.0, 702.0, 666.0, 36.0, 36.0, 504.0, 630.0]}, {\"mode\": \"lines\", \"name\": \"TWIST P-A 20CL\", \"type\": \"scatter\", \"x\": [\"2018-03-31\", \"2018-04-03\", \"2018-04-04\", \"2018-04-12\", \"2018-04-28\", \"2018-04-29\", \"2018-05-06\", \"2018-05-13\", \"2018-05-27\", \"2018-06-06\", \"2018-06-13\", \"2018-06-20\", \"2018-06-27\", \"2018-07-04\", \"2018-07-11\", \"2018-07-18\", \"2018-07-25\", \"2018-08-15\", \"2018-08-18\", \"2018-09-26\", \"2018-10-17\", \"2018-11-07\", \"2018-11-18\", \"2018-11-21\", \"2018-11-28\"], \"y\": [18.0, 18.0, 180.0, 36.0, 18.0, 396.0, 198.0, 270.0, 216.0, 306.0, 72.0, 360.0, 450.0, 342.0, 306.0, 342.0, 342.0, 486.0, 54.0, 1062.0, 684.0, 468.0, 36.0, 666.0, 468.0]}, {\"mode\": \"lines\", \"name\": \"TWIST O-M 1L\", \"type\": \"scatter\", \"x\": [\"2018-04-04\", \"2018-04-12\", \"2018-07-01\", \"2018-07-04\", \"2018-07-18\", \"2018-08-01\", \"2018-08-29\", \"2018-09-06\", \"2018-09-12\", \"2018-09-19\", \"2018-09-26\", \"2018-10-17\", \"2018-10-24\", \"2018-11-14\", \"2018-11-18\", \"2018-11-21\", \"2018-11-28\", \"2018-12-12\", \"2018-12-13\", \"2018-12-26\"], \"y\": [12.0, 12.0, 12.0, 72.0, 12.0, 12.0, 48.0, 12.0, 12.0, 12.0, 48.0, 12.0, 12.0, 24.0, 12.0, 24.0, 12.0, 48.0, 12.0, 36.0]}, {\"mode\": \"lines\", \"name\": \"TWIST P-A 1L\", \"type\": \"scatter\", \"x\": [\"2018-04-04\", \"2018-07-01\", \"2018-07-04\", \"2018-07-18\", \"2018-08-29\", \"2018-09-06\", \"2018-09-12\", \"2018-09-19\", \"2018-09-26\", \"2018-10-03\", \"2018-10-17\", \"2018-10-24\", \"2018-11-07\", \"2018-11-14\", \"2018-12-12\", \"2018-12-13\", \"2018-12-26\"], \"y\": [36.0, 12.0, 96.0, 12.0, 48.0, 24.0, 24.0, 24.0, 24.0, 12.0, 24.0, 12.0, 12.0, 24.0, 24.0, 12.0, 36.0]}, {\"mode\": \"lines\", \"name\": \"TWIST O-F-B 125ML\", \"type\": \"scatter\", \"x\": [\"2018-08-30\", \"2018-09-02\", \"2018-10-10\", \"2018-10-17\", \"2018-11-21\", \"2018-12-26\"], \"y\": [54.0, 18.0, 162.0, 108.0, 198.0, 468.0]}, {\"mode\": \"lines\", \"name\": \"TWIST O-A 125ML\", \"type\": \"scatter\", \"x\": [\"2018-08-30\", \"2018-09-02\", \"2018-09-24\", \"2018-09-26\", \"2018-10-03\", \"2018-10-10\", \"2018-10-17\", \"2018-10-24\", \"2018-10-31\", \"2018-11-21\", \"2018-12-26\"], \"y\": [72.0, 18.0, 90.0, 252.0, 54.0, 162.0, 108.0, 216.0, 324.0, 198.0, 396.0]}],\n",
       "                        {\"template\": {\"data\": {\"bar\": [{\"error_x\": {\"color\": \"#2a3f5f\"}, \"error_y\": {\"color\": \"#2a3f5f\"}, \"marker\": {\"line\": {\"color\": \"#E5ECF6\", \"width\": 0.5}}, \"type\": \"bar\"}], \"barpolar\": [{\"marker\": {\"line\": {\"color\": \"#E5ECF6\", \"width\": 0.5}}, \"type\": \"barpolar\"}], \"carpet\": [{\"aaxis\": {\"endlinecolor\": \"#2a3f5f\", \"gridcolor\": \"white\", \"linecolor\": \"white\", \"minorgridcolor\": \"white\", \"startlinecolor\": \"#2a3f5f\"}, \"baxis\": {\"endlinecolor\": \"#2a3f5f\", \"gridcolor\": \"white\", \"linecolor\": \"white\", \"minorgridcolor\": \"white\", \"startlinecolor\": \"#2a3f5f\"}, \"type\": \"carpet\"}], \"choropleth\": [{\"colorbar\": {\"outlinewidth\": 0, \"ticks\": \"\"}, \"type\": \"choropleth\"}], \"contour\": [{\"colorbar\": {\"outlinewidth\": 0, \"ticks\": \"\"}, \"colorscale\": [[0.0, \"#0d0887\"], [0.1111111111111111, \"#46039f\"], [0.2222222222222222, \"#7201a8\"], [0.3333333333333333, \"#9c179e\"], [0.4444444444444444, \"#bd3786\"], [0.5555555555555556, \"#d8576b\"], [0.6666666666666666, \"#ed7953\"], [0.7777777777777778, \"#fb9f3a\"], [0.8888888888888888, \"#fdca26\"], [1.0, \"#f0f921\"]], \"type\": \"contour\"}], \"contourcarpet\": [{\"colorbar\": {\"outlinewidth\": 0, \"ticks\": \"\"}, \"type\": \"contourcarpet\"}], \"heatmap\": [{\"colorbar\": {\"outlinewidth\": 0, \"ticks\": \"\"}, \"colorscale\": [[0.0, \"#0d0887\"], [0.1111111111111111, \"#46039f\"], [0.2222222222222222, \"#7201a8\"], [0.3333333333333333, \"#9c179e\"], [0.4444444444444444, \"#bd3786\"], [0.5555555555555556, \"#d8576b\"], [0.6666666666666666, \"#ed7953\"], [0.7777777777777778, \"#fb9f3a\"], [0.8888888888888888, \"#fdca26\"], [1.0, \"#f0f921\"]], \"type\": \"heatmap\"}], \"heatmapgl\": [{\"colorbar\": {\"outlinewidth\": 0, \"ticks\": \"\"}, \"colorscale\": [[0.0, \"#0d0887\"], [0.1111111111111111, \"#46039f\"], [0.2222222222222222, \"#7201a8\"], [0.3333333333333333, \"#9c179e\"], [0.4444444444444444, \"#bd3786\"], [0.5555555555555556, \"#d8576b\"], [0.6666666666666666, \"#ed7953\"], [0.7777777777777778, \"#fb9f3a\"], [0.8888888888888888, \"#fdca26\"], [1.0, \"#f0f921\"]], \"type\": \"heatmapgl\"}], \"histogram\": [{\"marker\": {\"colorbar\": {\"outlinewidth\": 0, \"ticks\": \"\"}}, \"type\": \"histogram\"}], \"histogram2d\": [{\"colorbar\": {\"outlinewidth\": 0, \"ticks\": \"\"}, \"colorscale\": [[0.0, \"#0d0887\"], [0.1111111111111111, \"#46039f\"], [0.2222222222222222, \"#7201a8\"], [0.3333333333333333, \"#9c179e\"], [0.4444444444444444, \"#bd3786\"], [0.5555555555555556, \"#d8576b\"], [0.6666666666666666, \"#ed7953\"], [0.7777777777777778, \"#fb9f3a\"], [0.8888888888888888, \"#fdca26\"], [1.0, \"#f0f921\"]], \"type\": \"histogram2d\"}], \"histogram2dcontour\": [{\"colorbar\": {\"outlinewidth\": 0, \"ticks\": \"\"}, \"colorscale\": [[0.0, \"#0d0887\"], [0.1111111111111111, \"#46039f\"], [0.2222222222222222, \"#7201a8\"], [0.3333333333333333, \"#9c179e\"], [0.4444444444444444, \"#bd3786\"], [0.5555555555555556, \"#d8576b\"], [0.6666666666666666, \"#ed7953\"], [0.7777777777777778, \"#fb9f3a\"], [0.8888888888888888, \"#fdca26\"], [1.0, \"#f0f921\"]], \"type\": \"histogram2dcontour\"}], \"mesh3d\": [{\"colorbar\": {\"outlinewidth\": 0, \"ticks\": \"\"}, \"type\": \"mesh3d\"}], \"parcoords\": [{\"line\": {\"colorbar\": {\"outlinewidth\": 0, \"ticks\": \"\"}}, \"type\": \"parcoords\"}], \"pie\": [{\"automargin\": true, \"type\": \"pie\"}], \"scatter\": [{\"marker\": {\"colorbar\": {\"outlinewidth\": 0, \"ticks\": \"\"}}, \"type\": \"scatter\"}], \"scatter3d\": [{\"line\": {\"colorbar\": {\"outlinewidth\": 0, \"ticks\": \"\"}}, \"marker\": {\"colorbar\": {\"outlinewidth\": 0, \"ticks\": \"\"}}, \"type\": \"scatter3d\"}], \"scattercarpet\": [{\"marker\": {\"colorbar\": {\"outlinewidth\": 0, \"ticks\": \"\"}}, \"type\": \"scattercarpet\"}], \"scattergeo\": [{\"marker\": {\"colorbar\": {\"outlinewidth\": 0, \"ticks\": \"\"}}, \"type\": \"scattergeo\"}], \"scattergl\": [{\"marker\": {\"colorbar\": {\"outlinewidth\": 0, \"ticks\": \"\"}}, \"type\": \"scattergl\"}], \"scattermapbox\": [{\"marker\": {\"colorbar\": {\"outlinewidth\": 0, \"ticks\": \"\"}}, \"type\": \"scattermapbox\"}], \"scatterpolar\": [{\"marker\": {\"colorbar\": {\"outlinewidth\": 0, \"ticks\": \"\"}}, \"type\": \"scatterpolar\"}], \"scatterpolargl\": [{\"marker\": {\"colorbar\": {\"outlinewidth\": 0, \"ticks\": \"\"}}, \"type\": \"scatterpolargl\"}], \"scatterternary\": [{\"marker\": {\"colorbar\": {\"outlinewidth\": 0, \"ticks\": \"\"}}, \"type\": \"scatterternary\"}], \"surface\": [{\"colorbar\": {\"outlinewidth\": 0, \"ticks\": \"\"}, \"colorscale\": [[0.0, \"#0d0887\"], [0.1111111111111111, \"#46039f\"], [0.2222222222222222, \"#7201a8\"], [0.3333333333333333, \"#9c179e\"], [0.4444444444444444, \"#bd3786\"], [0.5555555555555556, \"#d8576b\"], [0.6666666666666666, \"#ed7953\"], [0.7777777777777778, \"#fb9f3a\"], [0.8888888888888888, \"#fdca26\"], [1.0, \"#f0f921\"]], \"type\": \"surface\"}], \"table\": [{\"cells\": {\"fill\": {\"color\": \"#EBF0F8\"}, \"line\": {\"color\": \"white\"}}, \"header\": {\"fill\": {\"color\": \"#C8D4E3\"}, \"line\": {\"color\": \"white\"}}, \"type\": \"table\"}]}, \"layout\": {\"annotationdefaults\": {\"arrowcolor\": \"#2a3f5f\", \"arrowhead\": 0, \"arrowwidth\": 1}, \"coloraxis\": {\"colorbar\": {\"outlinewidth\": 0, \"ticks\": \"\"}}, \"colorscale\": {\"diverging\": [[0, \"#8e0152\"], [0.1, \"#c51b7d\"], [0.2, \"#de77ae\"], [0.3, \"#f1b6da\"], [0.4, \"#fde0ef\"], [0.5, \"#f7f7f7\"], [0.6, \"#e6f5d0\"], [0.7, \"#b8e186\"], [0.8, \"#7fbc41\"], [0.9, \"#4d9221\"], [1, \"#276419\"]], \"sequential\": [[0.0, \"#0d0887\"], [0.1111111111111111, \"#46039f\"], [0.2222222222222222, \"#7201a8\"], [0.3333333333333333, \"#9c179e\"], [0.4444444444444444, \"#bd3786\"], [0.5555555555555556, \"#d8576b\"], [0.6666666666666666, \"#ed7953\"], [0.7777777777777778, \"#fb9f3a\"], [0.8888888888888888, \"#fdca26\"], [1.0, \"#f0f921\"]], \"sequentialminus\": [[0.0, \"#0d0887\"], [0.1111111111111111, \"#46039f\"], [0.2222222222222222, \"#7201a8\"], [0.3333333333333333, \"#9c179e\"], [0.4444444444444444, \"#bd3786\"], [0.5555555555555556, \"#d8576b\"], [0.6666666666666666, \"#ed7953\"], [0.7777777777777778, \"#fb9f3a\"], [0.8888888888888888, \"#fdca26\"], [1.0, \"#f0f921\"]]}, \"colorway\": [\"#636efa\", \"#EF553B\", \"#00cc96\", \"#ab63fa\", \"#FFA15A\", \"#19d3f3\", \"#FF6692\", \"#B6E880\", \"#FF97FF\", \"#FECB52\"], \"font\": {\"color\": \"#2a3f5f\"}, \"geo\": {\"bgcolor\": \"white\", \"lakecolor\": \"white\", \"landcolor\": \"#E5ECF6\", \"showlakes\": true, \"showland\": true, \"subunitcolor\": \"white\"}, \"hoverlabel\": {\"align\": \"left\"}, \"hovermode\": \"closest\", \"mapbox\": {\"style\": \"light\"}, \"paper_bgcolor\": \"white\", \"plot_bgcolor\": \"#E5ECF6\", \"polar\": {\"angularaxis\": {\"gridcolor\": \"white\", \"linecolor\": \"white\", \"ticks\": \"\"}, \"bgcolor\": \"#E5ECF6\", \"radialaxis\": {\"gridcolor\": \"white\", \"linecolor\": \"white\", \"ticks\": \"\"}}, \"scene\": {\"xaxis\": {\"backgroundcolor\": \"#E5ECF6\", \"gridcolor\": \"white\", \"gridwidth\": 2, \"linecolor\": \"white\", \"showbackground\": true, \"ticks\": \"\", \"zerolinecolor\": \"white\"}, \"yaxis\": {\"backgroundcolor\": \"#E5ECF6\", \"gridcolor\": \"white\", \"gridwidth\": 2, \"linecolor\": \"white\", \"showbackground\": true, \"ticks\": \"\", \"zerolinecolor\": \"white\"}, \"zaxis\": {\"backgroundcolor\": \"#E5ECF6\", \"gridcolor\": \"white\", \"gridwidth\": 2, \"linecolor\": \"white\", \"showbackground\": true, \"ticks\": \"\", \"zerolinecolor\": \"white\"}}, \"shapedefaults\": {\"line\": {\"color\": \"#2a3f5f\"}}, \"ternary\": {\"aaxis\": {\"gridcolor\": \"white\", \"linecolor\": \"white\", \"ticks\": \"\"}, \"baxis\": {\"gridcolor\": \"white\", \"linecolor\": \"white\", \"ticks\": \"\"}, \"bgcolor\": \"#E5ECF6\", \"caxis\": {\"gridcolor\": \"white\", \"linecolor\": \"white\", \"ticks\": \"\"}}, \"title\": {\"x\": 0.05}, \"xaxis\": {\"automargin\": true, \"gridcolor\": \"white\", \"linecolor\": \"white\", \"ticks\": \"\", \"title\": {\"standoff\": 15}, \"zerolinecolor\": \"white\", \"zerolinewidth\": 2}, \"yaxis\": {\"automargin\": true, \"gridcolor\": \"white\", \"linecolor\": \"white\", \"ticks\": \"\", \"title\": {\"standoff\": 15}, \"zerolinecolor\": \"white\", \"zerolinewidth\": 2}}}, \"title\": {\"text\": \"QTE Dimanche/Mercredi, 1020/800/50 - Laits & Jus\"}},\n",
       "                        {\"responsive\": true}\n",
       "                    ).then(function(){\n",
       "                            \n",
       "var gd = document.getElementById('31cc3a56-ecc4-4165-9e81-303e13c2449f');\n",
       "var x = new MutationObserver(function (mutations, observer) {{\n",
       "        var display = window.getComputedStyle(gd).display;\n",
       "        if (!display || display === 'none') {{\n",
       "            console.log([gd, 'removed!']);\n",
       "            Plotly.purge(gd);\n",
       "            observer.disconnect();\n",
       "        }}\n",
       "}});\n",
       "\n",
       "// Listen for the removal of the full notebook cells\n",
       "var notebookContainer = gd.closest('#notebook-container');\n",
       "if (notebookContainer) {{\n",
       "    x.observe(notebookContainer, {childList: true});\n",
       "}}\n",
       "\n",
       "// Listen for the clearing of the current output cell\n",
       "var outputEl = gd.closest('.output');\n",
       "if (outputEl) {{\n",
       "    x.observe(outputEl, {childList: true});\n",
       "}}\n",
       "\n",
       "                        })\n",
       "                };\n",
       "                });\n",
       "            </script>\n",
       "        </div>"
      ]
     },
     "metadata": {},
     "output_type": "display_data"
    },
    {
     "name": "stdout",
     "output_type": "stream",
     "text": [
      "Boissons  :\n"
     ]
    },
    {
     "data": {
      "application/vnd.jupyter.widget-view+json": {
       "model_id": "387931f981ad4ee9a12a01b928fd6fe6",
       "version_major": 2,
       "version_minor": 0
      },
      "text/plain": [
       "HBox(children=(FloatProgress(value=0.0, max=6.0), HTML(value='')))"
      ]
     },
     "metadata": {},
     "output_type": "display_data"
    },
    {
     "name": "stdout",
     "output_type": "stream",
     "text": [
      "\n"
     ]
    },
    {
     "data": {
      "application/vnd.plotly.v1+json": {
       "config": {
        "linkText": "Export to plot.ly",
        "plotlyServerURL": "https://plot.ly",
        "showLink": false
       },
       "data": [
        {
         "mode": "lines",
         "name": "COCKTAIL 1L",
         "type": "scatter",
         "x": [
          "2018-06-13",
          "2018-06-20",
          "2018-06-27",
          "2018-07-11",
          "2018-07-18",
          "2018-07-25",
          "2018-08-29",
          "2018-09-06",
          "2018-09-12",
          "2018-09-19",
          "2018-09-26",
          "2018-10-10",
          "2018-10-17",
          "2018-10-24",
          "2018-10-31",
          "2018-11-07",
          "2018-11-14",
          "2018-11-18",
          "2018-11-21",
          "2018-11-28",
          "2018-12-05",
          "2018-12-12",
          "2018-12-19",
          "2018-12-26"
         ],
         "y": [
          180,
          168,
          48,
          72,
          60,
          108,
          132,
          60,
          84,
          48,
          12,
          84,
          96,
          36,
          96,
          48,
          60,
          12,
          84,
          36,
          72,
          84,
          108,
          72
         ]
        },
        {
         "mode": "lines",
         "name": "ORANGE 1L",
         "type": "scatter",
         "x": [
          "2018-06-20",
          "2018-06-27",
          "2018-07-04",
          "2018-07-11",
          "2018-07-18",
          "2018-08-29",
          "2018-09-06",
          "2018-09-12",
          "2018-09-19",
          "2018-09-26",
          "2018-10-03",
          "2018-10-10",
          "2018-10-17",
          "2018-10-24",
          "2018-10-31",
          "2018-11-07",
          "2018-11-14",
          "2018-11-18",
          "2018-11-21",
          "2018-11-28",
          "2018-12-05",
          "2018-12-12",
          "2018-12-19",
          "2018-12-26"
         ],
         "y": [
          240,
          96,
          132,
          48,
          12,
          120,
          36,
          48,
          60,
          60,
          36,
          60,
          48,
          60,
          84,
          60,
          72,
          12,
          48,
          48,
          84,
          48,
          72,
          108
         ]
        },
        {
         "mode": "lines",
         "name": "CITRONNADE",
         "type": "scatter",
         "x": [
          "2018-04-04",
          "2018-04-12",
          "2018-04-15",
          "2018-04-28",
          "2018-04-29",
          "2018-05-05",
          "2018-05-06",
          "2018-05-12",
          "2018-05-13",
          "2018-05-27",
          "2018-06-06",
          "2018-06-13",
          "2018-06-20",
          "2018-07-11",
          "2018-07-18",
          "2018-07-25",
          "2018-08-01",
          "2018-08-08",
          "2018-08-15",
          "2018-08-29",
          "2018-09-06",
          "2018-09-12",
          "2018-09-19",
          "2018-09-20",
          "2018-09-26",
          "2018-10-10",
          "2018-10-17",
          "2018-10-24",
          "2018-10-31",
          "2018-11-07",
          "2018-11-14",
          "2018-11-18",
          "2018-11-21",
          "2018-11-28",
          "2018-12-05",
          "2018-12-12",
          "2018-12-19",
          "2018-12-26"
         ],
         "y": [
          84,
          24,
          48,
          12,
          48,
          24,
          72,
          48,
          72,
          84,
          96,
          60,
          60,
          96,
          24,
          84,
          48,
          36,
          108,
          48,
          24,
          60,
          48,
          12,
          60,
          12,
          60,
          24,
          12,
          72,
          60,
          12,
          48,
          48,
          60,
          60,
          36,
          36
         ]
        },
        {
         "mode": "lines",
         "name": "NECTAR DE GRENADE",
         "type": "scatter",
         "x": [
          "2018-04-03",
          "2018-05-27",
          "2018-06-06",
          "2018-06-13",
          "2018-06-20",
          "2018-06-27",
          "2018-07-04",
          "2018-07-11",
          "2018-07-18",
          "2018-07-25",
          "2018-08-01",
          "2018-08-08",
          "2018-08-29",
          "2018-09-06",
          "2018-09-12",
          "2018-09-19",
          "2018-09-26",
          "2018-10-17",
          "2018-11-07",
          "2018-11-14",
          "2018-11-21",
          "2018-11-28",
          "2018-12-05",
          "2018-12-12",
          "2018-12-26"
         ],
         "y": [
          12,
          108,
          48,
          12,
          12,
          24,
          72,
          24,
          12,
          48,
          36,
          24,
          12,
          24,
          24,
          36,
          36,
          60,
          24,
          48,
          12,
          24,
          24,
          12,
          12
         ]
        },
        {
         "mode": "lines",
         "name": "COCKTAIL 20CL",
         "type": "scatter",
         "x": [
          "2018-06-13",
          "2018-06-20",
          "2018-08-15",
          "2018-08-29",
          "2018-09-06",
          "2018-09-12",
          "2018-09-24",
          "2018-09-26",
          "2018-10-03",
          "2018-10-10"
         ],
         "y": [
          252,
          432,
          468,
          396,
          360,
          18,
          54,
          666,
          306,
          342
         ]
        },
        {
         "mode": "lines",
         "name": "ORANGE 20CL",
         "type": "scatter",
         "x": [
          "2018-05-31",
          "2018-06-06",
          "2018-06-13",
          "2018-08-01",
          "2018-08-15",
          "2018-08-29",
          "2018-09-24",
          "2018-09-26",
          "2018-10-03",
          "2018-11-28"
         ],
         "y": [
          18,
          162,
          216,
          234,
          396,
          450,
          54,
          648,
          270,
          522
         ]
        }
       ],
       "layout": {
        "template": {
         "data": {
          "bar": [
           {
            "error_x": {
             "color": "#2a3f5f"
            },
            "error_y": {
             "color": "#2a3f5f"
            },
            "marker": {
             "line": {
              "color": "#E5ECF6",
              "width": 0.5
             }
            },
            "type": "bar"
           }
          ],
          "barpolar": [
           {
            "marker": {
             "line": {
              "color": "#E5ECF6",
              "width": 0.5
             }
            },
            "type": "barpolar"
           }
          ],
          "carpet": [
           {
            "aaxis": {
             "endlinecolor": "#2a3f5f",
             "gridcolor": "white",
             "linecolor": "white",
             "minorgridcolor": "white",
             "startlinecolor": "#2a3f5f"
            },
            "baxis": {
             "endlinecolor": "#2a3f5f",
             "gridcolor": "white",
             "linecolor": "white",
             "minorgridcolor": "white",
             "startlinecolor": "#2a3f5f"
            },
            "type": "carpet"
           }
          ],
          "choropleth": [
           {
            "colorbar": {
             "outlinewidth": 0,
             "ticks": ""
            },
            "type": "choropleth"
           }
          ],
          "contour": [
           {
            "colorbar": {
             "outlinewidth": 0,
             "ticks": ""
            },
            "colorscale": [
             [
              0,
              "#0d0887"
             ],
             [
              0.1111111111111111,
              "#46039f"
             ],
             [
              0.2222222222222222,
              "#7201a8"
             ],
             [
              0.3333333333333333,
              "#9c179e"
             ],
             [
              0.4444444444444444,
              "#bd3786"
             ],
             [
              0.5555555555555556,
              "#d8576b"
             ],
             [
              0.6666666666666666,
              "#ed7953"
             ],
             [
              0.7777777777777778,
              "#fb9f3a"
             ],
             [
              0.8888888888888888,
              "#fdca26"
             ],
             [
              1,
              "#f0f921"
             ]
            ],
            "type": "contour"
           }
          ],
          "contourcarpet": [
           {
            "colorbar": {
             "outlinewidth": 0,
             "ticks": ""
            },
            "type": "contourcarpet"
           }
          ],
          "heatmap": [
           {
            "colorbar": {
             "outlinewidth": 0,
             "ticks": ""
            },
            "colorscale": [
             [
              0,
              "#0d0887"
             ],
             [
              0.1111111111111111,
              "#46039f"
             ],
             [
              0.2222222222222222,
              "#7201a8"
             ],
             [
              0.3333333333333333,
              "#9c179e"
             ],
             [
              0.4444444444444444,
              "#bd3786"
             ],
             [
              0.5555555555555556,
              "#d8576b"
             ],
             [
              0.6666666666666666,
              "#ed7953"
             ],
             [
              0.7777777777777778,
              "#fb9f3a"
             ],
             [
              0.8888888888888888,
              "#fdca26"
             ],
             [
              1,
              "#f0f921"
             ]
            ],
            "type": "heatmap"
           }
          ],
          "heatmapgl": [
           {
            "colorbar": {
             "outlinewidth": 0,
             "ticks": ""
            },
            "colorscale": [
             [
              0,
              "#0d0887"
             ],
             [
              0.1111111111111111,
              "#46039f"
             ],
             [
              0.2222222222222222,
              "#7201a8"
             ],
             [
              0.3333333333333333,
              "#9c179e"
             ],
             [
              0.4444444444444444,
              "#bd3786"
             ],
             [
              0.5555555555555556,
              "#d8576b"
             ],
             [
              0.6666666666666666,
              "#ed7953"
             ],
             [
              0.7777777777777778,
              "#fb9f3a"
             ],
             [
              0.8888888888888888,
              "#fdca26"
             ],
             [
              1,
              "#f0f921"
             ]
            ],
            "type": "heatmapgl"
           }
          ],
          "histogram": [
           {
            "marker": {
             "colorbar": {
              "outlinewidth": 0,
              "ticks": ""
             }
            },
            "type": "histogram"
           }
          ],
          "histogram2d": [
           {
            "colorbar": {
             "outlinewidth": 0,
             "ticks": ""
            },
            "colorscale": [
             [
              0,
              "#0d0887"
             ],
             [
              0.1111111111111111,
              "#46039f"
             ],
             [
              0.2222222222222222,
              "#7201a8"
             ],
             [
              0.3333333333333333,
              "#9c179e"
             ],
             [
              0.4444444444444444,
              "#bd3786"
             ],
             [
              0.5555555555555556,
              "#d8576b"
             ],
             [
              0.6666666666666666,
              "#ed7953"
             ],
             [
              0.7777777777777778,
              "#fb9f3a"
             ],
             [
              0.8888888888888888,
              "#fdca26"
             ],
             [
              1,
              "#f0f921"
             ]
            ],
            "type": "histogram2d"
           }
          ],
          "histogram2dcontour": [
           {
            "colorbar": {
             "outlinewidth": 0,
             "ticks": ""
            },
            "colorscale": [
             [
              0,
              "#0d0887"
             ],
             [
              0.1111111111111111,
              "#46039f"
             ],
             [
              0.2222222222222222,
              "#7201a8"
             ],
             [
              0.3333333333333333,
              "#9c179e"
             ],
             [
              0.4444444444444444,
              "#bd3786"
             ],
             [
              0.5555555555555556,
              "#d8576b"
             ],
             [
              0.6666666666666666,
              "#ed7953"
             ],
             [
              0.7777777777777778,
              "#fb9f3a"
             ],
             [
              0.8888888888888888,
              "#fdca26"
             ],
             [
              1,
              "#f0f921"
             ]
            ],
            "type": "histogram2dcontour"
           }
          ],
          "mesh3d": [
           {
            "colorbar": {
             "outlinewidth": 0,
             "ticks": ""
            },
            "type": "mesh3d"
           }
          ],
          "parcoords": [
           {
            "line": {
             "colorbar": {
              "outlinewidth": 0,
              "ticks": ""
             }
            },
            "type": "parcoords"
           }
          ],
          "pie": [
           {
            "automargin": true,
            "type": "pie"
           }
          ],
          "scatter": [
           {
            "marker": {
             "colorbar": {
              "outlinewidth": 0,
              "ticks": ""
             }
            },
            "type": "scatter"
           }
          ],
          "scatter3d": [
           {
            "line": {
             "colorbar": {
              "outlinewidth": 0,
              "ticks": ""
             }
            },
            "marker": {
             "colorbar": {
              "outlinewidth": 0,
              "ticks": ""
             }
            },
            "type": "scatter3d"
           }
          ],
          "scattercarpet": [
           {
            "marker": {
             "colorbar": {
              "outlinewidth": 0,
              "ticks": ""
             }
            },
            "type": "scattercarpet"
           }
          ],
          "scattergeo": [
           {
            "marker": {
             "colorbar": {
              "outlinewidth": 0,
              "ticks": ""
             }
            },
            "type": "scattergeo"
           }
          ],
          "scattergl": [
           {
            "marker": {
             "colorbar": {
              "outlinewidth": 0,
              "ticks": ""
             }
            },
            "type": "scattergl"
           }
          ],
          "scattermapbox": [
           {
            "marker": {
             "colorbar": {
              "outlinewidth": 0,
              "ticks": ""
             }
            },
            "type": "scattermapbox"
           }
          ],
          "scatterpolar": [
           {
            "marker": {
             "colorbar": {
              "outlinewidth": 0,
              "ticks": ""
             }
            },
            "type": "scatterpolar"
           }
          ],
          "scatterpolargl": [
           {
            "marker": {
             "colorbar": {
              "outlinewidth": 0,
              "ticks": ""
             }
            },
            "type": "scatterpolargl"
           }
          ],
          "scatterternary": [
           {
            "marker": {
             "colorbar": {
              "outlinewidth": 0,
              "ticks": ""
             }
            },
            "type": "scatterternary"
           }
          ],
          "surface": [
           {
            "colorbar": {
             "outlinewidth": 0,
             "ticks": ""
            },
            "colorscale": [
             [
              0,
              "#0d0887"
             ],
             [
              0.1111111111111111,
              "#46039f"
             ],
             [
              0.2222222222222222,
              "#7201a8"
             ],
             [
              0.3333333333333333,
              "#9c179e"
             ],
             [
              0.4444444444444444,
              "#bd3786"
             ],
             [
              0.5555555555555556,
              "#d8576b"
             ],
             [
              0.6666666666666666,
              "#ed7953"
             ],
             [
              0.7777777777777778,
              "#fb9f3a"
             ],
             [
              0.8888888888888888,
              "#fdca26"
             ],
             [
              1,
              "#f0f921"
             ]
            ],
            "type": "surface"
           }
          ],
          "table": [
           {
            "cells": {
             "fill": {
              "color": "#EBF0F8"
             },
             "line": {
              "color": "white"
             }
            },
            "header": {
             "fill": {
              "color": "#C8D4E3"
             },
             "line": {
              "color": "white"
             }
            },
            "type": "table"
           }
          ]
         },
         "layout": {
          "annotationdefaults": {
           "arrowcolor": "#2a3f5f",
           "arrowhead": 0,
           "arrowwidth": 1
          },
          "coloraxis": {
           "colorbar": {
            "outlinewidth": 0,
            "ticks": ""
           }
          },
          "colorscale": {
           "diverging": [
            [
             0,
             "#8e0152"
            ],
            [
             0.1,
             "#c51b7d"
            ],
            [
             0.2,
             "#de77ae"
            ],
            [
             0.3,
             "#f1b6da"
            ],
            [
             0.4,
             "#fde0ef"
            ],
            [
             0.5,
             "#f7f7f7"
            ],
            [
             0.6,
             "#e6f5d0"
            ],
            [
             0.7,
             "#b8e186"
            ],
            [
             0.8,
             "#7fbc41"
            ],
            [
             0.9,
             "#4d9221"
            ],
            [
             1,
             "#276419"
            ]
           ],
           "sequential": [
            [
             0,
             "#0d0887"
            ],
            [
             0.1111111111111111,
             "#46039f"
            ],
            [
             0.2222222222222222,
             "#7201a8"
            ],
            [
             0.3333333333333333,
             "#9c179e"
            ],
            [
             0.4444444444444444,
             "#bd3786"
            ],
            [
             0.5555555555555556,
             "#d8576b"
            ],
            [
             0.6666666666666666,
             "#ed7953"
            ],
            [
             0.7777777777777778,
             "#fb9f3a"
            ],
            [
             0.8888888888888888,
             "#fdca26"
            ],
            [
             1,
             "#f0f921"
            ]
           ],
           "sequentialminus": [
            [
             0,
             "#0d0887"
            ],
            [
             0.1111111111111111,
             "#46039f"
            ],
            [
             0.2222222222222222,
             "#7201a8"
            ],
            [
             0.3333333333333333,
             "#9c179e"
            ],
            [
             0.4444444444444444,
             "#bd3786"
            ],
            [
             0.5555555555555556,
             "#d8576b"
            ],
            [
             0.6666666666666666,
             "#ed7953"
            ],
            [
             0.7777777777777778,
             "#fb9f3a"
            ],
            [
             0.8888888888888888,
             "#fdca26"
            ],
            [
             1,
             "#f0f921"
            ]
           ]
          },
          "colorway": [
           "#636efa",
           "#EF553B",
           "#00cc96",
           "#ab63fa",
           "#FFA15A",
           "#19d3f3",
           "#FF6692",
           "#B6E880",
           "#FF97FF",
           "#FECB52"
          ],
          "font": {
           "color": "#2a3f5f"
          },
          "geo": {
           "bgcolor": "white",
           "lakecolor": "white",
           "landcolor": "#E5ECF6",
           "showlakes": true,
           "showland": true,
           "subunitcolor": "white"
          },
          "hoverlabel": {
           "align": "left"
          },
          "hovermode": "closest",
          "mapbox": {
           "style": "light"
          },
          "paper_bgcolor": "white",
          "plot_bgcolor": "#E5ECF6",
          "polar": {
           "angularaxis": {
            "gridcolor": "white",
            "linecolor": "white",
            "ticks": ""
           },
           "bgcolor": "#E5ECF6",
           "radialaxis": {
            "gridcolor": "white",
            "linecolor": "white",
            "ticks": ""
           }
          },
          "scene": {
           "xaxis": {
            "backgroundcolor": "#E5ECF6",
            "gridcolor": "white",
            "gridwidth": 2,
            "linecolor": "white",
            "showbackground": true,
            "ticks": "",
            "zerolinecolor": "white"
           },
           "yaxis": {
            "backgroundcolor": "#E5ECF6",
            "gridcolor": "white",
            "gridwidth": 2,
            "linecolor": "white",
            "showbackground": true,
            "ticks": "",
            "zerolinecolor": "white"
           },
           "zaxis": {
            "backgroundcolor": "#E5ECF6",
            "gridcolor": "white",
            "gridwidth": 2,
            "linecolor": "white",
            "showbackground": true,
            "ticks": "",
            "zerolinecolor": "white"
           }
          },
          "shapedefaults": {
           "line": {
            "color": "#2a3f5f"
           }
          },
          "ternary": {
           "aaxis": {
            "gridcolor": "white",
            "linecolor": "white",
            "ticks": ""
           },
           "baxis": {
            "gridcolor": "white",
            "linecolor": "white",
            "ticks": ""
           },
           "bgcolor": "#E5ECF6",
           "caxis": {
            "gridcolor": "white",
            "linecolor": "white",
            "ticks": ""
           }
          },
          "title": {
           "x": 0.05
          },
          "xaxis": {
           "automargin": true,
           "gridcolor": "white",
           "linecolor": "white",
           "ticks": "",
           "title": {
            "standoff": 15
           },
           "zerolinecolor": "white",
           "zerolinewidth": 2
          },
          "yaxis": {
           "automargin": true,
           "gridcolor": "white",
           "linecolor": "white",
           "ticks": "",
           "title": {
            "standoff": 15
           },
           "zerolinecolor": "white",
           "zerolinewidth": 2
          }
         }
        },
        "title": {
         "text": "QTE Dimanche/Mercredi, 1020/800/50 - Boissons"
        }
       }
      },
      "text/html": [
       "<div>\n",
       "        \n",
       "        \n",
       "            <div id=\"daafed35-2643-47c2-a885-e2f4086147eb\" class=\"plotly-graph-div\" style=\"height:525px; width:100%;\"></div>\n",
       "            <script type=\"text/javascript\">\n",
       "                require([\"plotly\"], function(Plotly) {\n",
       "                    window.PLOTLYENV=window.PLOTLYENV || {};\n",
       "                    \n",
       "                if (document.getElementById(\"daafed35-2643-47c2-a885-e2f4086147eb\")) {\n",
       "                    Plotly.newPlot(\n",
       "                        'daafed35-2643-47c2-a885-e2f4086147eb',\n",
       "                        [{\"mode\": \"lines\", \"name\": \"COCKTAIL 1L\", \"type\": \"scatter\", \"x\": [\"2018-06-13\", \"2018-06-20\", \"2018-06-27\", \"2018-07-11\", \"2018-07-18\", \"2018-07-25\", \"2018-08-29\", \"2018-09-06\", \"2018-09-12\", \"2018-09-19\", \"2018-09-26\", \"2018-10-10\", \"2018-10-17\", \"2018-10-24\", \"2018-10-31\", \"2018-11-07\", \"2018-11-14\", \"2018-11-18\", \"2018-11-21\", \"2018-11-28\", \"2018-12-05\", \"2018-12-12\", \"2018-12-19\", \"2018-12-26\"], \"y\": [180.0, 168.0, 48.0, 72.0, 60.0, 108.0, 132.0, 60.0, 84.0, 48.0, 12.0, 84.0, 96.0, 36.0, 96.0, 48.0, 60.0, 12.0, 84.0, 36.0, 72.0, 84.0, 108.0, 72.0]}, {\"mode\": \"lines\", \"name\": \"ORANGE 1L\", \"type\": \"scatter\", \"x\": [\"2018-06-20\", \"2018-06-27\", \"2018-07-04\", \"2018-07-11\", \"2018-07-18\", \"2018-08-29\", \"2018-09-06\", \"2018-09-12\", \"2018-09-19\", \"2018-09-26\", \"2018-10-03\", \"2018-10-10\", \"2018-10-17\", \"2018-10-24\", \"2018-10-31\", \"2018-11-07\", \"2018-11-14\", \"2018-11-18\", \"2018-11-21\", \"2018-11-28\", \"2018-12-05\", \"2018-12-12\", \"2018-12-19\", \"2018-12-26\"], \"y\": [240.0, 96.0, 132.0, 48.0, 12.0, 120.0, 36.0, 48.0, 60.0, 60.0, 36.0, 60.0, 48.0, 60.0, 84.0, 60.0, 72.0, 12.0, 48.0, 48.0, 84.0, 48.0, 72.0, 108.0]}, {\"mode\": \"lines\", \"name\": \"CITRONNADE\", \"type\": \"scatter\", \"x\": [\"2018-04-04\", \"2018-04-12\", \"2018-04-15\", \"2018-04-28\", \"2018-04-29\", \"2018-05-05\", \"2018-05-06\", \"2018-05-12\", \"2018-05-13\", \"2018-05-27\", \"2018-06-06\", \"2018-06-13\", \"2018-06-20\", \"2018-07-11\", \"2018-07-18\", \"2018-07-25\", \"2018-08-01\", \"2018-08-08\", \"2018-08-15\", \"2018-08-29\", \"2018-09-06\", \"2018-09-12\", \"2018-09-19\", \"2018-09-20\", \"2018-09-26\", \"2018-10-10\", \"2018-10-17\", \"2018-10-24\", \"2018-10-31\", \"2018-11-07\", \"2018-11-14\", \"2018-11-18\", \"2018-11-21\", \"2018-11-28\", \"2018-12-05\", \"2018-12-12\", \"2018-12-19\", \"2018-12-26\"], \"y\": [84.0, 24.0, 48.0, 12.0, 48.0, 24.0, 72.0, 48.0, 72.0, 84.0, 96.0, 60.0, 60.0, 96.0, 24.0, 84.0, 48.0, 36.0, 108.0, 48.0, 24.0, 60.0, 48.0, 12.0, 60.0, 12.0, 60.0, 24.0, 12.0, 72.0, 60.0, 12.0, 48.0, 48.0, 60.0, 60.0, 36.0, 36.0]}, {\"mode\": \"lines\", \"name\": \"NECTAR DE GRENADE\", \"type\": \"scatter\", \"x\": [\"2018-04-03\", \"2018-05-27\", \"2018-06-06\", \"2018-06-13\", \"2018-06-20\", \"2018-06-27\", \"2018-07-04\", \"2018-07-11\", \"2018-07-18\", \"2018-07-25\", \"2018-08-01\", \"2018-08-08\", \"2018-08-29\", \"2018-09-06\", \"2018-09-12\", \"2018-09-19\", \"2018-09-26\", \"2018-10-17\", \"2018-11-07\", \"2018-11-14\", \"2018-11-21\", \"2018-11-28\", \"2018-12-05\", \"2018-12-12\", \"2018-12-26\"], \"y\": [12.0, 108.0, 48.0, 12.0, 12.0, 24.0, 72.0, 24.0, 12.0, 48.0, 36.0, 24.0, 12.0, 24.0, 24.0, 36.0, 36.0, 60.0, 24.0, 48.0, 12.0, 24.0, 24.0, 12.0, 12.0]}, {\"mode\": \"lines\", \"name\": \"COCKTAIL 20CL\", \"type\": \"scatter\", \"x\": [\"2018-06-13\", \"2018-06-20\", \"2018-08-15\", \"2018-08-29\", \"2018-09-06\", \"2018-09-12\", \"2018-09-24\", \"2018-09-26\", \"2018-10-03\", \"2018-10-10\"], \"y\": [252.0, 432.0, 468.0, 396.0, 360.0, 18.0, 54.0, 666.0, 306.0, 342.0]}, {\"mode\": \"lines\", \"name\": \"ORANGE 20CL\", \"type\": \"scatter\", \"x\": [\"2018-05-31\", \"2018-06-06\", \"2018-06-13\", \"2018-08-01\", \"2018-08-15\", \"2018-08-29\", \"2018-09-24\", \"2018-09-26\", \"2018-10-03\", \"2018-11-28\"], \"y\": [18.0, 162.0, 216.0, 234.0, 396.0, 450.0, 54.0, 648.0, 270.0, 522.0]}],\n",
       "                        {\"template\": {\"data\": {\"bar\": [{\"error_x\": {\"color\": \"#2a3f5f\"}, \"error_y\": {\"color\": \"#2a3f5f\"}, \"marker\": {\"line\": {\"color\": \"#E5ECF6\", \"width\": 0.5}}, \"type\": \"bar\"}], \"barpolar\": [{\"marker\": {\"line\": {\"color\": \"#E5ECF6\", \"width\": 0.5}}, \"type\": \"barpolar\"}], \"carpet\": [{\"aaxis\": {\"endlinecolor\": \"#2a3f5f\", \"gridcolor\": \"white\", \"linecolor\": \"white\", \"minorgridcolor\": \"white\", \"startlinecolor\": \"#2a3f5f\"}, \"baxis\": {\"endlinecolor\": \"#2a3f5f\", \"gridcolor\": \"white\", \"linecolor\": \"white\", \"minorgridcolor\": \"white\", \"startlinecolor\": \"#2a3f5f\"}, \"type\": \"carpet\"}], \"choropleth\": [{\"colorbar\": {\"outlinewidth\": 0, \"ticks\": \"\"}, \"type\": \"choropleth\"}], \"contour\": [{\"colorbar\": {\"outlinewidth\": 0, \"ticks\": \"\"}, \"colorscale\": [[0.0, \"#0d0887\"], [0.1111111111111111, \"#46039f\"], [0.2222222222222222, \"#7201a8\"], [0.3333333333333333, \"#9c179e\"], [0.4444444444444444, \"#bd3786\"], [0.5555555555555556, \"#d8576b\"], [0.6666666666666666, \"#ed7953\"], [0.7777777777777778, \"#fb9f3a\"], [0.8888888888888888, \"#fdca26\"], [1.0, \"#f0f921\"]], \"type\": \"contour\"}], \"contourcarpet\": [{\"colorbar\": {\"outlinewidth\": 0, \"ticks\": \"\"}, \"type\": \"contourcarpet\"}], \"heatmap\": [{\"colorbar\": {\"outlinewidth\": 0, \"ticks\": \"\"}, \"colorscale\": [[0.0, \"#0d0887\"], [0.1111111111111111, \"#46039f\"], [0.2222222222222222, \"#7201a8\"], [0.3333333333333333, \"#9c179e\"], [0.4444444444444444, \"#bd3786\"], [0.5555555555555556, \"#d8576b\"], [0.6666666666666666, \"#ed7953\"], [0.7777777777777778, \"#fb9f3a\"], [0.8888888888888888, \"#fdca26\"], [1.0, \"#f0f921\"]], \"type\": \"heatmap\"}], \"heatmapgl\": [{\"colorbar\": {\"outlinewidth\": 0, \"ticks\": \"\"}, \"colorscale\": [[0.0, \"#0d0887\"], [0.1111111111111111, \"#46039f\"], [0.2222222222222222, \"#7201a8\"], [0.3333333333333333, \"#9c179e\"], [0.4444444444444444, \"#bd3786\"], [0.5555555555555556, \"#d8576b\"], [0.6666666666666666, \"#ed7953\"], [0.7777777777777778, \"#fb9f3a\"], [0.8888888888888888, \"#fdca26\"], [1.0, \"#f0f921\"]], \"type\": \"heatmapgl\"}], \"histogram\": [{\"marker\": {\"colorbar\": {\"outlinewidth\": 0, \"ticks\": \"\"}}, \"type\": \"histogram\"}], \"histogram2d\": [{\"colorbar\": {\"outlinewidth\": 0, \"ticks\": \"\"}, \"colorscale\": [[0.0, \"#0d0887\"], [0.1111111111111111, \"#46039f\"], [0.2222222222222222, \"#7201a8\"], [0.3333333333333333, \"#9c179e\"], [0.4444444444444444, \"#bd3786\"], [0.5555555555555556, \"#d8576b\"], [0.6666666666666666, \"#ed7953\"], [0.7777777777777778, \"#fb9f3a\"], [0.8888888888888888, \"#fdca26\"], [1.0, \"#f0f921\"]], \"type\": \"histogram2d\"}], \"histogram2dcontour\": [{\"colorbar\": {\"outlinewidth\": 0, \"ticks\": \"\"}, \"colorscale\": [[0.0, \"#0d0887\"], [0.1111111111111111, \"#46039f\"], [0.2222222222222222, \"#7201a8\"], [0.3333333333333333, \"#9c179e\"], [0.4444444444444444, \"#bd3786\"], [0.5555555555555556, \"#d8576b\"], [0.6666666666666666, \"#ed7953\"], [0.7777777777777778, \"#fb9f3a\"], [0.8888888888888888, \"#fdca26\"], [1.0, \"#f0f921\"]], \"type\": \"histogram2dcontour\"}], \"mesh3d\": [{\"colorbar\": {\"outlinewidth\": 0, \"ticks\": \"\"}, \"type\": \"mesh3d\"}], \"parcoords\": [{\"line\": {\"colorbar\": {\"outlinewidth\": 0, \"ticks\": \"\"}}, \"type\": \"parcoords\"}], \"pie\": [{\"automargin\": true, \"type\": \"pie\"}], \"scatter\": [{\"marker\": {\"colorbar\": {\"outlinewidth\": 0, \"ticks\": \"\"}}, \"type\": \"scatter\"}], \"scatter3d\": [{\"line\": {\"colorbar\": {\"outlinewidth\": 0, \"ticks\": \"\"}}, \"marker\": {\"colorbar\": {\"outlinewidth\": 0, \"ticks\": \"\"}}, \"type\": \"scatter3d\"}], \"scattercarpet\": [{\"marker\": {\"colorbar\": {\"outlinewidth\": 0, \"ticks\": \"\"}}, \"type\": \"scattercarpet\"}], \"scattergeo\": [{\"marker\": {\"colorbar\": {\"outlinewidth\": 0, \"ticks\": \"\"}}, \"type\": \"scattergeo\"}], \"scattergl\": [{\"marker\": {\"colorbar\": {\"outlinewidth\": 0, \"ticks\": \"\"}}, \"type\": \"scattergl\"}], \"scattermapbox\": [{\"marker\": {\"colorbar\": {\"outlinewidth\": 0, \"ticks\": \"\"}}, \"type\": \"scattermapbox\"}], \"scatterpolar\": [{\"marker\": {\"colorbar\": {\"outlinewidth\": 0, \"ticks\": \"\"}}, \"type\": \"scatterpolar\"}], \"scatterpolargl\": [{\"marker\": {\"colorbar\": {\"outlinewidth\": 0, \"ticks\": \"\"}}, \"type\": \"scatterpolargl\"}], \"scatterternary\": [{\"marker\": {\"colorbar\": {\"outlinewidth\": 0, \"ticks\": \"\"}}, \"type\": \"scatterternary\"}], \"surface\": [{\"colorbar\": {\"outlinewidth\": 0, \"ticks\": \"\"}, \"colorscale\": [[0.0, \"#0d0887\"], [0.1111111111111111, \"#46039f\"], [0.2222222222222222, \"#7201a8\"], [0.3333333333333333, \"#9c179e\"], [0.4444444444444444, \"#bd3786\"], [0.5555555555555556, \"#d8576b\"], [0.6666666666666666, \"#ed7953\"], [0.7777777777777778, \"#fb9f3a\"], [0.8888888888888888, \"#fdca26\"], [1.0, \"#f0f921\"]], \"type\": \"surface\"}], \"table\": [{\"cells\": {\"fill\": {\"color\": \"#EBF0F8\"}, \"line\": {\"color\": \"white\"}}, \"header\": {\"fill\": {\"color\": \"#C8D4E3\"}, \"line\": {\"color\": \"white\"}}, \"type\": \"table\"}]}, \"layout\": {\"annotationdefaults\": {\"arrowcolor\": \"#2a3f5f\", \"arrowhead\": 0, \"arrowwidth\": 1}, \"coloraxis\": {\"colorbar\": {\"outlinewidth\": 0, \"ticks\": \"\"}}, \"colorscale\": {\"diverging\": [[0, \"#8e0152\"], [0.1, \"#c51b7d\"], [0.2, \"#de77ae\"], [0.3, \"#f1b6da\"], [0.4, \"#fde0ef\"], [0.5, \"#f7f7f7\"], [0.6, \"#e6f5d0\"], [0.7, \"#b8e186\"], [0.8, \"#7fbc41\"], [0.9, \"#4d9221\"], [1, \"#276419\"]], \"sequential\": [[0.0, \"#0d0887\"], [0.1111111111111111, \"#46039f\"], [0.2222222222222222, \"#7201a8\"], [0.3333333333333333, \"#9c179e\"], [0.4444444444444444, \"#bd3786\"], [0.5555555555555556, \"#d8576b\"], [0.6666666666666666, \"#ed7953\"], [0.7777777777777778, \"#fb9f3a\"], [0.8888888888888888, \"#fdca26\"], [1.0, \"#f0f921\"]], \"sequentialminus\": [[0.0, \"#0d0887\"], [0.1111111111111111, \"#46039f\"], [0.2222222222222222, \"#7201a8\"], [0.3333333333333333, \"#9c179e\"], [0.4444444444444444, \"#bd3786\"], [0.5555555555555556, \"#d8576b\"], [0.6666666666666666, \"#ed7953\"], [0.7777777777777778, \"#fb9f3a\"], [0.8888888888888888, \"#fdca26\"], [1.0, \"#f0f921\"]]}, \"colorway\": [\"#636efa\", \"#EF553B\", \"#00cc96\", \"#ab63fa\", \"#FFA15A\", \"#19d3f3\", \"#FF6692\", \"#B6E880\", \"#FF97FF\", \"#FECB52\"], \"font\": {\"color\": \"#2a3f5f\"}, \"geo\": {\"bgcolor\": \"white\", \"lakecolor\": \"white\", \"landcolor\": \"#E5ECF6\", \"showlakes\": true, \"showland\": true, \"subunitcolor\": \"white\"}, \"hoverlabel\": {\"align\": \"left\"}, \"hovermode\": \"closest\", \"mapbox\": {\"style\": \"light\"}, \"paper_bgcolor\": \"white\", \"plot_bgcolor\": \"#E5ECF6\", \"polar\": {\"angularaxis\": {\"gridcolor\": \"white\", \"linecolor\": \"white\", \"ticks\": \"\"}, \"bgcolor\": \"#E5ECF6\", \"radialaxis\": {\"gridcolor\": \"white\", \"linecolor\": \"white\", \"ticks\": \"\"}}, \"scene\": {\"xaxis\": {\"backgroundcolor\": \"#E5ECF6\", \"gridcolor\": \"white\", \"gridwidth\": 2, \"linecolor\": \"white\", \"showbackground\": true, \"ticks\": \"\", \"zerolinecolor\": \"white\"}, \"yaxis\": {\"backgroundcolor\": \"#E5ECF6\", \"gridcolor\": \"white\", \"gridwidth\": 2, \"linecolor\": \"white\", \"showbackground\": true, \"ticks\": \"\", \"zerolinecolor\": \"white\"}, \"zaxis\": {\"backgroundcolor\": \"#E5ECF6\", \"gridcolor\": \"white\", \"gridwidth\": 2, \"linecolor\": \"white\", \"showbackground\": true, \"ticks\": \"\", \"zerolinecolor\": \"white\"}}, \"shapedefaults\": {\"line\": {\"color\": \"#2a3f5f\"}}, \"ternary\": {\"aaxis\": {\"gridcolor\": \"white\", \"linecolor\": \"white\", \"ticks\": \"\"}, \"baxis\": {\"gridcolor\": \"white\", \"linecolor\": \"white\", \"ticks\": \"\"}, \"bgcolor\": \"#E5ECF6\", \"caxis\": {\"gridcolor\": \"white\", \"linecolor\": \"white\", \"ticks\": \"\"}}, \"title\": {\"x\": 0.05}, \"xaxis\": {\"automargin\": true, \"gridcolor\": \"white\", \"linecolor\": \"white\", \"ticks\": \"\", \"title\": {\"standoff\": 15}, \"zerolinecolor\": \"white\", \"zerolinewidth\": 2}, \"yaxis\": {\"automargin\": true, \"gridcolor\": \"white\", \"linecolor\": \"white\", \"ticks\": \"\", \"title\": {\"standoff\": 15}, \"zerolinecolor\": \"white\", \"zerolinewidth\": 2}}}, \"title\": {\"text\": \"QTE Dimanche/Mercredi, 1020/800/50 - Boissons\"}},\n",
       "                        {\"responsive\": true}\n",
       "                    ).then(function(){\n",
       "                            \n",
       "var gd = document.getElementById('daafed35-2643-47c2-a885-e2f4086147eb');\n",
       "var x = new MutationObserver(function (mutations, observer) {{\n",
       "        var display = window.getComputedStyle(gd).display;\n",
       "        if (!display || display === 'none') {{\n",
       "            console.log([gd, 'removed!']);\n",
       "            Plotly.purge(gd);\n",
       "            observer.disconnect();\n",
       "        }}\n",
       "}});\n",
       "\n",
       "// Listen for the removal of the full notebook cells\n",
       "var notebookContainer = gd.closest('#notebook-container');\n",
       "if (notebookContainer) {{\n",
       "    x.observe(notebookContainer, {childList: true});\n",
       "}}\n",
       "\n",
       "// Listen for the clearing of the current output cell\n",
       "var outputEl = gd.closest('.output');\n",
       "if (outputEl) {{\n",
       "    x.observe(outputEl, {childList: true});\n",
       "}}\n",
       "\n",
       "                        })\n",
       "                };\n",
       "                });\n",
       "            </script>\n",
       "        </div>"
      ]
     },
     "metadata": {},
     "output_type": "display_data"
    },
    {
     "name": "stdout",
     "output_type": "stream",
     "text": [
      "\n"
     ]
    }
   ],
   "source": [
    "Plot_QTE2(\"Dimanche/Mercredi, 1020/800/50\")"
   ]
  },
  {
   "cell_type": "code",
   "execution_count": 37,
   "metadata": {},
   "outputs": [
    {
     "data": {
      "application/vnd.jupyter.widget-view+json": {
       "model_id": "9bff3309dab640148c8de72003ff019f",
       "version_major": 2,
       "version_minor": 0
      },
      "text/plain": [
       "HBox(children=(FloatProgress(value=0.0, max=2.0), HTML(value='')))"
      ]
     },
     "metadata": {},
     "output_type": "display_data"
    },
    {
     "name": "stdout",
     "output_type": "stream",
     "text": [
      "Le Maitre Cuisinier  :\n"
     ]
    },
    {
     "data": {
      "application/vnd.jupyter.widget-view+json": {
       "model_id": "edaa7205676a4813a47bf5b0db1d3312",
       "version_major": 2,
       "version_minor": 0
      },
      "text/plain": [
       "HBox(children=(FloatProgress(value=0.0, max=1.0), HTML(value='')))"
      ]
     },
     "metadata": {},
     "output_type": "display_data"
    },
    {
     "name": "stdout",
     "output_type": "stream",
     "text": [
      "\n"
     ]
    },
    {
     "data": {
      "application/vnd.plotly.v1+json": {
       "config": {
        "linkText": "Export to plot.ly",
        "plotlyServerURL": "https://plot.ly",
        "showLink": false
       },
       "data": [
        {
         "mode": "lines",
         "name": "PREPARATION CULINAIRE",
         "type": "scatter",
         "x": [
          "2018-04-01",
          "2018-04-04",
          "2018-04-08",
          "2018-04-15",
          "2018-04-29",
          "2018-05-13",
          "2018-05-22",
          "2018-05-24",
          "2018-05-31",
          "2018-06-03",
          "2018-06-06",
          "2018-06-10",
          "2018-06-17",
          "2018-06-24",
          "2018-06-25",
          "2018-06-27",
          "2018-07-04",
          "2018-07-08",
          "2018-07-15",
          "2018-07-18",
          "2018-07-25",
          "2018-08-01",
          "2018-08-05",
          "2018-08-08",
          "2018-08-19",
          "2018-08-29",
          "2018-09-19",
          "2018-09-26",
          "2018-09-30",
          "2018-10-10",
          "2018-10-14",
          "2018-10-17",
          "2018-10-21",
          "2018-10-28",
          "2018-10-31",
          "2018-11-07",
          "2018-11-11",
          "2018-11-14",
          "2018-11-25",
          "2018-12-05",
          "2018-12-09",
          "2018-12-16",
          "2018-12-23",
          "2018-12-30"
         ],
         "y": [
          162,
          18,
          72,
          36,
          108,
          108,
          36,
          18,
          90,
          90,
          36,
          18,
          36,
          18,
          18,
          36,
          18,
          36,
          18,
          36,
          18,
          18,
          54,
          18,
          18,
          36,
          36,
          54,
          36,
          18,
          36,
          18,
          36,
          54,
          36,
          36,
          54,
          18,
          18,
          18,
          12,
          6,
          36,
          36
         ]
        }
       ],
       "layout": {
        "template": {
         "data": {
          "bar": [
           {
            "error_x": {
             "color": "#2a3f5f"
            },
            "error_y": {
             "color": "#2a3f5f"
            },
            "marker": {
             "line": {
              "color": "#E5ECF6",
              "width": 0.5
             }
            },
            "type": "bar"
           }
          ],
          "barpolar": [
           {
            "marker": {
             "line": {
              "color": "#E5ECF6",
              "width": 0.5
             }
            },
            "type": "barpolar"
           }
          ],
          "carpet": [
           {
            "aaxis": {
             "endlinecolor": "#2a3f5f",
             "gridcolor": "white",
             "linecolor": "white",
             "minorgridcolor": "white",
             "startlinecolor": "#2a3f5f"
            },
            "baxis": {
             "endlinecolor": "#2a3f5f",
             "gridcolor": "white",
             "linecolor": "white",
             "minorgridcolor": "white",
             "startlinecolor": "#2a3f5f"
            },
            "type": "carpet"
           }
          ],
          "choropleth": [
           {
            "colorbar": {
             "outlinewidth": 0,
             "ticks": ""
            },
            "type": "choropleth"
           }
          ],
          "contour": [
           {
            "colorbar": {
             "outlinewidth": 0,
             "ticks": ""
            },
            "colorscale": [
             [
              0,
              "#0d0887"
             ],
             [
              0.1111111111111111,
              "#46039f"
             ],
             [
              0.2222222222222222,
              "#7201a8"
             ],
             [
              0.3333333333333333,
              "#9c179e"
             ],
             [
              0.4444444444444444,
              "#bd3786"
             ],
             [
              0.5555555555555556,
              "#d8576b"
             ],
             [
              0.6666666666666666,
              "#ed7953"
             ],
             [
              0.7777777777777778,
              "#fb9f3a"
             ],
             [
              0.8888888888888888,
              "#fdca26"
             ],
             [
              1,
              "#f0f921"
             ]
            ],
            "type": "contour"
           }
          ],
          "contourcarpet": [
           {
            "colorbar": {
             "outlinewidth": 0,
             "ticks": ""
            },
            "type": "contourcarpet"
           }
          ],
          "heatmap": [
           {
            "colorbar": {
             "outlinewidth": 0,
             "ticks": ""
            },
            "colorscale": [
             [
              0,
              "#0d0887"
             ],
             [
              0.1111111111111111,
              "#46039f"
             ],
             [
              0.2222222222222222,
              "#7201a8"
             ],
             [
              0.3333333333333333,
              "#9c179e"
             ],
             [
              0.4444444444444444,
              "#bd3786"
             ],
             [
              0.5555555555555556,
              "#d8576b"
             ],
             [
              0.6666666666666666,
              "#ed7953"
             ],
             [
              0.7777777777777778,
              "#fb9f3a"
             ],
             [
              0.8888888888888888,
              "#fdca26"
             ],
             [
              1,
              "#f0f921"
             ]
            ],
            "type": "heatmap"
           }
          ],
          "heatmapgl": [
           {
            "colorbar": {
             "outlinewidth": 0,
             "ticks": ""
            },
            "colorscale": [
             [
              0,
              "#0d0887"
             ],
             [
              0.1111111111111111,
              "#46039f"
             ],
             [
              0.2222222222222222,
              "#7201a8"
             ],
             [
              0.3333333333333333,
              "#9c179e"
             ],
             [
              0.4444444444444444,
              "#bd3786"
             ],
             [
              0.5555555555555556,
              "#d8576b"
             ],
             [
              0.6666666666666666,
              "#ed7953"
             ],
             [
              0.7777777777777778,
              "#fb9f3a"
             ],
             [
              0.8888888888888888,
              "#fdca26"
             ],
             [
              1,
              "#f0f921"
             ]
            ],
            "type": "heatmapgl"
           }
          ],
          "histogram": [
           {
            "marker": {
             "colorbar": {
              "outlinewidth": 0,
              "ticks": ""
             }
            },
            "type": "histogram"
           }
          ],
          "histogram2d": [
           {
            "colorbar": {
             "outlinewidth": 0,
             "ticks": ""
            },
            "colorscale": [
             [
              0,
              "#0d0887"
             ],
             [
              0.1111111111111111,
              "#46039f"
             ],
             [
              0.2222222222222222,
              "#7201a8"
             ],
             [
              0.3333333333333333,
              "#9c179e"
             ],
             [
              0.4444444444444444,
              "#bd3786"
             ],
             [
              0.5555555555555556,
              "#d8576b"
             ],
             [
              0.6666666666666666,
              "#ed7953"
             ],
             [
              0.7777777777777778,
              "#fb9f3a"
             ],
             [
              0.8888888888888888,
              "#fdca26"
             ],
             [
              1,
              "#f0f921"
             ]
            ],
            "type": "histogram2d"
           }
          ],
          "histogram2dcontour": [
           {
            "colorbar": {
             "outlinewidth": 0,
             "ticks": ""
            },
            "colorscale": [
             [
              0,
              "#0d0887"
             ],
             [
              0.1111111111111111,
              "#46039f"
             ],
             [
              0.2222222222222222,
              "#7201a8"
             ],
             [
              0.3333333333333333,
              "#9c179e"
             ],
             [
              0.4444444444444444,
              "#bd3786"
             ],
             [
              0.5555555555555556,
              "#d8576b"
             ],
             [
              0.6666666666666666,
              "#ed7953"
             ],
             [
              0.7777777777777778,
              "#fb9f3a"
             ],
             [
              0.8888888888888888,
              "#fdca26"
             ],
             [
              1,
              "#f0f921"
             ]
            ],
            "type": "histogram2dcontour"
           }
          ],
          "mesh3d": [
           {
            "colorbar": {
             "outlinewidth": 0,
             "ticks": ""
            },
            "type": "mesh3d"
           }
          ],
          "parcoords": [
           {
            "line": {
             "colorbar": {
              "outlinewidth": 0,
              "ticks": ""
             }
            },
            "type": "parcoords"
           }
          ],
          "pie": [
           {
            "automargin": true,
            "type": "pie"
           }
          ],
          "scatter": [
           {
            "marker": {
             "colorbar": {
              "outlinewidth": 0,
              "ticks": ""
             }
            },
            "type": "scatter"
           }
          ],
          "scatter3d": [
           {
            "line": {
             "colorbar": {
              "outlinewidth": 0,
              "ticks": ""
             }
            },
            "marker": {
             "colorbar": {
              "outlinewidth": 0,
              "ticks": ""
             }
            },
            "type": "scatter3d"
           }
          ],
          "scattercarpet": [
           {
            "marker": {
             "colorbar": {
              "outlinewidth": 0,
              "ticks": ""
             }
            },
            "type": "scattercarpet"
           }
          ],
          "scattergeo": [
           {
            "marker": {
             "colorbar": {
              "outlinewidth": 0,
              "ticks": ""
             }
            },
            "type": "scattergeo"
           }
          ],
          "scattergl": [
           {
            "marker": {
             "colorbar": {
              "outlinewidth": 0,
              "ticks": ""
             }
            },
            "type": "scattergl"
           }
          ],
          "scattermapbox": [
           {
            "marker": {
             "colorbar": {
              "outlinewidth": 0,
              "ticks": ""
             }
            },
            "type": "scattermapbox"
           }
          ],
          "scatterpolar": [
           {
            "marker": {
             "colorbar": {
              "outlinewidth": 0,
              "ticks": ""
             }
            },
            "type": "scatterpolar"
           }
          ],
          "scatterpolargl": [
           {
            "marker": {
             "colorbar": {
              "outlinewidth": 0,
              "ticks": ""
             }
            },
            "type": "scatterpolargl"
           }
          ],
          "scatterternary": [
           {
            "marker": {
             "colorbar": {
              "outlinewidth": 0,
              "ticks": ""
             }
            },
            "type": "scatterternary"
           }
          ],
          "surface": [
           {
            "colorbar": {
             "outlinewidth": 0,
             "ticks": ""
            },
            "colorscale": [
             [
              0,
              "#0d0887"
             ],
             [
              0.1111111111111111,
              "#46039f"
             ],
             [
              0.2222222222222222,
              "#7201a8"
             ],
             [
              0.3333333333333333,
              "#9c179e"
             ],
             [
              0.4444444444444444,
              "#bd3786"
             ],
             [
              0.5555555555555556,
              "#d8576b"
             ],
             [
              0.6666666666666666,
              "#ed7953"
             ],
             [
              0.7777777777777778,
              "#fb9f3a"
             ],
             [
              0.8888888888888888,
              "#fdca26"
             ],
             [
              1,
              "#f0f921"
             ]
            ],
            "type": "surface"
           }
          ],
          "table": [
           {
            "cells": {
             "fill": {
              "color": "#EBF0F8"
             },
             "line": {
              "color": "white"
             }
            },
            "header": {
             "fill": {
              "color": "#C8D4E3"
             },
             "line": {
              "color": "white"
             }
            },
            "type": "table"
           }
          ]
         },
         "layout": {
          "annotationdefaults": {
           "arrowcolor": "#2a3f5f",
           "arrowhead": 0,
           "arrowwidth": 1
          },
          "coloraxis": {
           "colorbar": {
            "outlinewidth": 0,
            "ticks": ""
           }
          },
          "colorscale": {
           "diverging": [
            [
             0,
             "#8e0152"
            ],
            [
             0.1,
             "#c51b7d"
            ],
            [
             0.2,
             "#de77ae"
            ],
            [
             0.3,
             "#f1b6da"
            ],
            [
             0.4,
             "#fde0ef"
            ],
            [
             0.5,
             "#f7f7f7"
            ],
            [
             0.6,
             "#e6f5d0"
            ],
            [
             0.7,
             "#b8e186"
            ],
            [
             0.8,
             "#7fbc41"
            ],
            [
             0.9,
             "#4d9221"
            ],
            [
             1,
             "#276419"
            ]
           ],
           "sequential": [
            [
             0,
             "#0d0887"
            ],
            [
             0.1111111111111111,
             "#46039f"
            ],
            [
             0.2222222222222222,
             "#7201a8"
            ],
            [
             0.3333333333333333,
             "#9c179e"
            ],
            [
             0.4444444444444444,
             "#bd3786"
            ],
            [
             0.5555555555555556,
             "#d8576b"
            ],
            [
             0.6666666666666666,
             "#ed7953"
            ],
            [
             0.7777777777777778,
             "#fb9f3a"
            ],
            [
             0.8888888888888888,
             "#fdca26"
            ],
            [
             1,
             "#f0f921"
            ]
           ],
           "sequentialminus": [
            [
             0,
             "#0d0887"
            ],
            [
             0.1111111111111111,
             "#46039f"
            ],
            [
             0.2222222222222222,
             "#7201a8"
            ],
            [
             0.3333333333333333,
             "#9c179e"
            ],
            [
             0.4444444444444444,
             "#bd3786"
            ],
            [
             0.5555555555555556,
             "#d8576b"
            ],
            [
             0.6666666666666666,
             "#ed7953"
            ],
            [
             0.7777777777777778,
             "#fb9f3a"
            ],
            [
             0.8888888888888888,
             "#fdca26"
            ],
            [
             1,
             "#f0f921"
            ]
           ]
          },
          "colorway": [
           "#636efa",
           "#EF553B",
           "#00cc96",
           "#ab63fa",
           "#FFA15A",
           "#19d3f3",
           "#FF6692",
           "#B6E880",
           "#FF97FF",
           "#FECB52"
          ],
          "font": {
           "color": "#2a3f5f"
          },
          "geo": {
           "bgcolor": "white",
           "lakecolor": "white",
           "landcolor": "#E5ECF6",
           "showlakes": true,
           "showland": true,
           "subunitcolor": "white"
          },
          "hoverlabel": {
           "align": "left"
          },
          "hovermode": "closest",
          "mapbox": {
           "style": "light"
          },
          "paper_bgcolor": "white",
          "plot_bgcolor": "#E5ECF6",
          "polar": {
           "angularaxis": {
            "gridcolor": "white",
            "linecolor": "white",
            "ticks": ""
           },
           "bgcolor": "#E5ECF6",
           "radialaxis": {
            "gridcolor": "white",
            "linecolor": "white",
            "ticks": ""
           }
          },
          "scene": {
           "xaxis": {
            "backgroundcolor": "#E5ECF6",
            "gridcolor": "white",
            "gridwidth": 2,
            "linecolor": "white",
            "showbackground": true,
            "ticks": "",
            "zerolinecolor": "white"
           },
           "yaxis": {
            "backgroundcolor": "#E5ECF6",
            "gridcolor": "white",
            "gridwidth": 2,
            "linecolor": "white",
            "showbackground": true,
            "ticks": "",
            "zerolinecolor": "white"
           },
           "zaxis": {
            "backgroundcolor": "#E5ECF6",
            "gridcolor": "white",
            "gridwidth": 2,
            "linecolor": "white",
            "showbackground": true,
            "ticks": "",
            "zerolinecolor": "white"
           }
          },
          "shapedefaults": {
           "line": {
            "color": "#2a3f5f"
           }
          },
          "ternary": {
           "aaxis": {
            "gridcolor": "white",
            "linecolor": "white",
            "ticks": ""
           },
           "baxis": {
            "gridcolor": "white",
            "linecolor": "white",
            "ticks": ""
           },
           "bgcolor": "#E5ECF6",
           "caxis": {
            "gridcolor": "white",
            "linecolor": "white",
            "ticks": ""
           }
          },
          "title": {
           "x": 0.05
          },
          "xaxis": {
           "automargin": true,
           "gridcolor": "white",
           "linecolor": "white",
           "ticks": "",
           "title": {
            "standoff": 15
           },
           "zerolinecolor": "white",
           "zerolinewidth": 2
          },
          "yaxis": {
           "automargin": true,
           "gridcolor": "white",
           "linecolor": "white",
           "ticks": "",
           "title": {
            "standoff": 15
           },
           "zerolinecolor": "white",
           "zerolinewidth": 2
          }
         }
        },
        "title": {
         "text": "QTE Dimanche/Mercredi, 1020/800/50 - Le Maitre Cuisinier"
        }
       }
      },
      "text/html": [
       "<div>\n",
       "        \n",
       "        \n",
       "            <div id=\"3b96ee0e-1ce5-4723-b304-86d1f3dce747\" class=\"plotly-graph-div\" style=\"height:525px; width:100%;\"></div>\n",
       "            <script type=\"text/javascript\">\n",
       "                require([\"plotly\"], function(Plotly) {\n",
       "                    window.PLOTLYENV=window.PLOTLYENV || {};\n",
       "                    \n",
       "                if (document.getElementById(\"3b96ee0e-1ce5-4723-b304-86d1f3dce747\")) {\n",
       "                    Plotly.newPlot(\n",
       "                        '3b96ee0e-1ce5-4723-b304-86d1f3dce747',\n",
       "                        [{\"mode\": \"lines\", \"name\": \"PREPARATION CULINAIRE\", \"type\": \"scatter\", \"x\": [\"2018-04-01\", \"2018-04-04\", \"2018-04-08\", \"2018-04-15\", \"2018-04-29\", \"2018-05-13\", \"2018-05-22\", \"2018-05-24\", \"2018-05-31\", \"2018-06-03\", \"2018-06-06\", \"2018-06-10\", \"2018-06-17\", \"2018-06-24\", \"2018-06-25\", \"2018-06-27\", \"2018-07-04\", \"2018-07-08\", \"2018-07-15\", \"2018-07-18\", \"2018-07-25\", \"2018-08-01\", \"2018-08-05\", \"2018-08-08\", \"2018-08-19\", \"2018-08-29\", \"2018-09-19\", \"2018-09-26\", \"2018-09-30\", \"2018-10-10\", \"2018-10-14\", \"2018-10-17\", \"2018-10-21\", \"2018-10-28\", \"2018-10-31\", \"2018-11-07\", \"2018-11-11\", \"2018-11-14\", \"2018-11-25\", \"2018-12-05\", \"2018-12-09\", \"2018-12-16\", \"2018-12-23\", \"2018-12-30\"], \"y\": [162.0, 18.0, 72.0, 36.0, 108.0, 108.0, 36.0, 18.0, 90.0, 90.0, 36.0, 18.0, 36.0, 18.0, 18.0, 36.0, 18.0, 36.0, 18.0, 36.0, 18.0, 18.0, 54.0, 18.0, 18.0, 36.0, 36.0, 54.0, 36.0, 18.0, 36.0, 18.0, 36.0, 54.0, 36.0, 36.0, 54.0, 18.0, 18.0, 18.0, 12.0, 6.0, 36.0, 36.0]}],\n",
       "                        {\"template\": {\"data\": {\"bar\": [{\"error_x\": {\"color\": \"#2a3f5f\"}, \"error_y\": {\"color\": \"#2a3f5f\"}, \"marker\": {\"line\": {\"color\": \"#E5ECF6\", \"width\": 0.5}}, \"type\": \"bar\"}], \"barpolar\": [{\"marker\": {\"line\": {\"color\": \"#E5ECF6\", \"width\": 0.5}}, \"type\": \"barpolar\"}], \"carpet\": [{\"aaxis\": {\"endlinecolor\": \"#2a3f5f\", \"gridcolor\": \"white\", \"linecolor\": \"white\", \"minorgridcolor\": \"white\", \"startlinecolor\": \"#2a3f5f\"}, \"baxis\": {\"endlinecolor\": \"#2a3f5f\", \"gridcolor\": \"white\", \"linecolor\": \"white\", \"minorgridcolor\": \"white\", \"startlinecolor\": \"#2a3f5f\"}, \"type\": \"carpet\"}], \"choropleth\": [{\"colorbar\": {\"outlinewidth\": 0, \"ticks\": \"\"}, \"type\": \"choropleth\"}], \"contour\": [{\"colorbar\": {\"outlinewidth\": 0, \"ticks\": \"\"}, \"colorscale\": [[0.0, \"#0d0887\"], [0.1111111111111111, \"#46039f\"], [0.2222222222222222, \"#7201a8\"], [0.3333333333333333, \"#9c179e\"], [0.4444444444444444, \"#bd3786\"], [0.5555555555555556, \"#d8576b\"], [0.6666666666666666, \"#ed7953\"], [0.7777777777777778, \"#fb9f3a\"], [0.8888888888888888, \"#fdca26\"], [1.0, \"#f0f921\"]], \"type\": \"contour\"}], \"contourcarpet\": [{\"colorbar\": {\"outlinewidth\": 0, \"ticks\": \"\"}, \"type\": \"contourcarpet\"}], \"heatmap\": [{\"colorbar\": {\"outlinewidth\": 0, \"ticks\": \"\"}, \"colorscale\": [[0.0, \"#0d0887\"], [0.1111111111111111, \"#46039f\"], [0.2222222222222222, \"#7201a8\"], [0.3333333333333333, \"#9c179e\"], [0.4444444444444444, \"#bd3786\"], [0.5555555555555556, \"#d8576b\"], [0.6666666666666666, \"#ed7953\"], [0.7777777777777778, \"#fb9f3a\"], [0.8888888888888888, \"#fdca26\"], [1.0, \"#f0f921\"]], \"type\": \"heatmap\"}], \"heatmapgl\": [{\"colorbar\": {\"outlinewidth\": 0, \"ticks\": \"\"}, \"colorscale\": [[0.0, \"#0d0887\"], [0.1111111111111111, \"#46039f\"], [0.2222222222222222, \"#7201a8\"], [0.3333333333333333, \"#9c179e\"], [0.4444444444444444, \"#bd3786\"], [0.5555555555555556, \"#d8576b\"], [0.6666666666666666, \"#ed7953\"], [0.7777777777777778, \"#fb9f3a\"], [0.8888888888888888, \"#fdca26\"], [1.0, \"#f0f921\"]], \"type\": \"heatmapgl\"}], \"histogram\": [{\"marker\": {\"colorbar\": {\"outlinewidth\": 0, \"ticks\": \"\"}}, \"type\": \"histogram\"}], \"histogram2d\": [{\"colorbar\": {\"outlinewidth\": 0, \"ticks\": \"\"}, \"colorscale\": [[0.0, \"#0d0887\"], [0.1111111111111111, \"#46039f\"], [0.2222222222222222, \"#7201a8\"], [0.3333333333333333, \"#9c179e\"], [0.4444444444444444, \"#bd3786\"], [0.5555555555555556, \"#d8576b\"], [0.6666666666666666, \"#ed7953\"], [0.7777777777777778, \"#fb9f3a\"], [0.8888888888888888, \"#fdca26\"], [1.0, \"#f0f921\"]], \"type\": \"histogram2d\"}], \"histogram2dcontour\": [{\"colorbar\": {\"outlinewidth\": 0, \"ticks\": \"\"}, \"colorscale\": [[0.0, \"#0d0887\"], [0.1111111111111111, \"#46039f\"], [0.2222222222222222, \"#7201a8\"], [0.3333333333333333, \"#9c179e\"], [0.4444444444444444, \"#bd3786\"], [0.5555555555555556, \"#d8576b\"], [0.6666666666666666, \"#ed7953\"], [0.7777777777777778, \"#fb9f3a\"], [0.8888888888888888, \"#fdca26\"], [1.0, \"#f0f921\"]], \"type\": \"histogram2dcontour\"}], \"mesh3d\": [{\"colorbar\": {\"outlinewidth\": 0, \"ticks\": \"\"}, \"type\": \"mesh3d\"}], \"parcoords\": [{\"line\": {\"colorbar\": {\"outlinewidth\": 0, \"ticks\": \"\"}}, \"type\": \"parcoords\"}], \"pie\": [{\"automargin\": true, \"type\": \"pie\"}], \"scatter\": [{\"marker\": {\"colorbar\": {\"outlinewidth\": 0, \"ticks\": \"\"}}, \"type\": \"scatter\"}], \"scatter3d\": [{\"line\": {\"colorbar\": {\"outlinewidth\": 0, \"ticks\": \"\"}}, \"marker\": {\"colorbar\": {\"outlinewidth\": 0, \"ticks\": \"\"}}, \"type\": \"scatter3d\"}], \"scattercarpet\": [{\"marker\": {\"colorbar\": {\"outlinewidth\": 0, \"ticks\": \"\"}}, \"type\": \"scattercarpet\"}], \"scattergeo\": [{\"marker\": {\"colorbar\": {\"outlinewidth\": 0, \"ticks\": \"\"}}, \"type\": \"scattergeo\"}], \"scattergl\": [{\"marker\": {\"colorbar\": {\"outlinewidth\": 0, \"ticks\": \"\"}}, \"type\": \"scattergl\"}], \"scattermapbox\": [{\"marker\": {\"colorbar\": {\"outlinewidth\": 0, \"ticks\": \"\"}}, \"type\": \"scattermapbox\"}], \"scatterpolar\": [{\"marker\": {\"colorbar\": {\"outlinewidth\": 0, \"ticks\": \"\"}}, \"type\": \"scatterpolar\"}], \"scatterpolargl\": [{\"marker\": {\"colorbar\": {\"outlinewidth\": 0, \"ticks\": \"\"}}, \"type\": \"scatterpolargl\"}], \"scatterternary\": [{\"marker\": {\"colorbar\": {\"outlinewidth\": 0, \"ticks\": \"\"}}, \"type\": \"scatterternary\"}], \"surface\": [{\"colorbar\": {\"outlinewidth\": 0, \"ticks\": \"\"}, \"colorscale\": [[0.0, \"#0d0887\"], [0.1111111111111111, \"#46039f\"], [0.2222222222222222, \"#7201a8\"], [0.3333333333333333, \"#9c179e\"], [0.4444444444444444, \"#bd3786\"], [0.5555555555555556, \"#d8576b\"], [0.6666666666666666, \"#ed7953\"], [0.7777777777777778, \"#fb9f3a\"], [0.8888888888888888, \"#fdca26\"], [1.0, \"#f0f921\"]], \"type\": \"surface\"}], \"table\": [{\"cells\": {\"fill\": {\"color\": \"#EBF0F8\"}, \"line\": {\"color\": \"white\"}}, \"header\": {\"fill\": {\"color\": \"#C8D4E3\"}, \"line\": {\"color\": \"white\"}}, \"type\": \"table\"}]}, \"layout\": {\"annotationdefaults\": {\"arrowcolor\": \"#2a3f5f\", \"arrowhead\": 0, \"arrowwidth\": 1}, \"coloraxis\": {\"colorbar\": {\"outlinewidth\": 0, \"ticks\": \"\"}}, \"colorscale\": {\"diverging\": [[0, \"#8e0152\"], [0.1, \"#c51b7d\"], [0.2, \"#de77ae\"], [0.3, \"#f1b6da\"], [0.4, \"#fde0ef\"], [0.5, \"#f7f7f7\"], [0.6, \"#e6f5d0\"], [0.7, \"#b8e186\"], [0.8, \"#7fbc41\"], [0.9, \"#4d9221\"], [1, \"#276419\"]], \"sequential\": [[0.0, \"#0d0887\"], [0.1111111111111111, \"#46039f\"], [0.2222222222222222, \"#7201a8\"], [0.3333333333333333, \"#9c179e\"], [0.4444444444444444, \"#bd3786\"], [0.5555555555555556, \"#d8576b\"], [0.6666666666666666, \"#ed7953\"], [0.7777777777777778, \"#fb9f3a\"], [0.8888888888888888, \"#fdca26\"], [1.0, \"#f0f921\"]], \"sequentialminus\": [[0.0, \"#0d0887\"], [0.1111111111111111, \"#46039f\"], [0.2222222222222222, \"#7201a8\"], [0.3333333333333333, \"#9c179e\"], [0.4444444444444444, \"#bd3786\"], [0.5555555555555556, \"#d8576b\"], [0.6666666666666666, \"#ed7953\"], [0.7777777777777778, \"#fb9f3a\"], [0.8888888888888888, \"#fdca26\"], [1.0, \"#f0f921\"]]}, \"colorway\": [\"#636efa\", \"#EF553B\", \"#00cc96\", \"#ab63fa\", \"#FFA15A\", \"#19d3f3\", \"#FF6692\", \"#B6E880\", \"#FF97FF\", \"#FECB52\"], \"font\": {\"color\": \"#2a3f5f\"}, \"geo\": {\"bgcolor\": \"white\", \"lakecolor\": \"white\", \"landcolor\": \"#E5ECF6\", \"showlakes\": true, \"showland\": true, \"subunitcolor\": \"white\"}, \"hoverlabel\": {\"align\": \"left\"}, \"hovermode\": \"closest\", \"mapbox\": {\"style\": \"light\"}, \"paper_bgcolor\": \"white\", \"plot_bgcolor\": \"#E5ECF6\", \"polar\": {\"angularaxis\": {\"gridcolor\": \"white\", \"linecolor\": \"white\", \"ticks\": \"\"}, \"bgcolor\": \"#E5ECF6\", \"radialaxis\": {\"gridcolor\": \"white\", \"linecolor\": \"white\", \"ticks\": \"\"}}, \"scene\": {\"xaxis\": {\"backgroundcolor\": \"#E5ECF6\", \"gridcolor\": \"white\", \"gridwidth\": 2, \"linecolor\": \"white\", \"showbackground\": true, \"ticks\": \"\", \"zerolinecolor\": \"white\"}, \"yaxis\": {\"backgroundcolor\": \"#E5ECF6\", \"gridcolor\": \"white\", \"gridwidth\": 2, \"linecolor\": \"white\", \"showbackground\": true, \"ticks\": \"\", \"zerolinecolor\": \"white\"}, \"zaxis\": {\"backgroundcolor\": \"#E5ECF6\", \"gridcolor\": \"white\", \"gridwidth\": 2, \"linecolor\": \"white\", \"showbackground\": true, \"ticks\": \"\", \"zerolinecolor\": \"white\"}}, \"shapedefaults\": {\"line\": {\"color\": \"#2a3f5f\"}}, \"ternary\": {\"aaxis\": {\"gridcolor\": \"white\", \"linecolor\": \"white\", \"ticks\": \"\"}, \"baxis\": {\"gridcolor\": \"white\", \"linecolor\": \"white\", \"ticks\": \"\"}, \"bgcolor\": \"#E5ECF6\", \"caxis\": {\"gridcolor\": \"white\", \"linecolor\": \"white\", \"ticks\": \"\"}}, \"title\": {\"x\": 0.05}, \"xaxis\": {\"automargin\": true, \"gridcolor\": \"white\", \"linecolor\": \"white\", \"ticks\": \"\", \"title\": {\"standoff\": 15}, \"zerolinecolor\": \"white\", \"zerolinewidth\": 2}, \"yaxis\": {\"automargin\": true, \"gridcolor\": \"white\", \"linecolor\": \"white\", \"ticks\": \"\", \"title\": {\"standoff\": 15}, \"zerolinecolor\": \"white\", \"zerolinewidth\": 2}}}, \"title\": {\"text\": \"QTE Dimanche/Mercredi, 1020/800/50 - Le Maitre Cuisinier\"}},\n",
       "                        {\"responsive\": true}\n",
       "                    ).then(function(){\n",
       "                            \n",
       "var gd = document.getElementById('3b96ee0e-1ce5-4723-b304-86d1f3dce747');\n",
       "var x = new MutationObserver(function (mutations, observer) {{\n",
       "        var display = window.getComputedStyle(gd).display;\n",
       "        if (!display || display === 'none') {{\n",
       "            console.log([gd, 'removed!']);\n",
       "            Plotly.purge(gd);\n",
       "            observer.disconnect();\n",
       "        }}\n",
       "}});\n",
       "\n",
       "// Listen for the removal of the full notebook cells\n",
       "var notebookContainer = gd.closest('#notebook-container');\n",
       "if (notebookContainer) {{\n",
       "    x.observe(notebookContainer, {childList: true});\n",
       "}}\n",
       "\n",
       "// Listen for the clearing of the current output cell\n",
       "var outputEl = gd.closest('.output');\n",
       "if (outputEl) {{\n",
       "    x.observe(outputEl, {childList: true});\n",
       "}}\n",
       "\n",
       "                        })\n",
       "                };\n",
       "                });\n",
       "            </script>\n",
       "        </div>"
      ]
     },
     "metadata": {},
     "output_type": "display_data"
    },
    {
     "name": "stdout",
     "output_type": "stream",
     "text": [
      "Le Maitre Glacier  :\n"
     ]
    },
    {
     "data": {
      "application/vnd.jupyter.widget-view+json": {
       "model_id": "dec5ccad40d140a18666d50b9087228f",
       "version_major": 2,
       "version_minor": 0
      },
      "text/plain": [
       "HBox(children=(FloatProgress(value=0.0, max=3.0), HTML(value='')))"
      ]
     },
     "metadata": {},
     "output_type": "display_data"
    },
    {
     "name": "stdout",
     "output_type": "stream",
     "text": [
      "\n"
     ]
    },
    {
     "data": {
      "application/vnd.plotly.v1+json": {
       "config": {
        "linkText": "Export to plot.ly",
        "plotlyServerURL": "https://plot.ly",
        "showLink": false
       },
       "data": [
        {
         "mode": "lines",
         "name": "ICE CREAM - VANILLE",
         "type": "scatter",
         "x": [
          "2018-08-08"
         ],
         "y": [
          9
         ]
        },
        {
         "mode": "lines",
         "name": "ICE CREAM - CHOCOLAT",
         "type": "scatter",
         "x": [
          "2018-08-08",
          "2018-08-18"
         ],
         "y": [
          9,
          12
         ]
        },
        {
         "mode": "lines",
         "name": "ICE CREAM - FRAISE",
         "type": "scatter",
         "x": [
          "2018-08-08"
         ],
         "y": [
          8
         ]
        }
       ],
       "layout": {
        "template": {
         "data": {
          "bar": [
           {
            "error_x": {
             "color": "#2a3f5f"
            },
            "error_y": {
             "color": "#2a3f5f"
            },
            "marker": {
             "line": {
              "color": "#E5ECF6",
              "width": 0.5
             }
            },
            "type": "bar"
           }
          ],
          "barpolar": [
           {
            "marker": {
             "line": {
              "color": "#E5ECF6",
              "width": 0.5
             }
            },
            "type": "barpolar"
           }
          ],
          "carpet": [
           {
            "aaxis": {
             "endlinecolor": "#2a3f5f",
             "gridcolor": "white",
             "linecolor": "white",
             "minorgridcolor": "white",
             "startlinecolor": "#2a3f5f"
            },
            "baxis": {
             "endlinecolor": "#2a3f5f",
             "gridcolor": "white",
             "linecolor": "white",
             "minorgridcolor": "white",
             "startlinecolor": "#2a3f5f"
            },
            "type": "carpet"
           }
          ],
          "choropleth": [
           {
            "colorbar": {
             "outlinewidth": 0,
             "ticks": ""
            },
            "type": "choropleth"
           }
          ],
          "contour": [
           {
            "colorbar": {
             "outlinewidth": 0,
             "ticks": ""
            },
            "colorscale": [
             [
              0,
              "#0d0887"
             ],
             [
              0.1111111111111111,
              "#46039f"
             ],
             [
              0.2222222222222222,
              "#7201a8"
             ],
             [
              0.3333333333333333,
              "#9c179e"
             ],
             [
              0.4444444444444444,
              "#bd3786"
             ],
             [
              0.5555555555555556,
              "#d8576b"
             ],
             [
              0.6666666666666666,
              "#ed7953"
             ],
             [
              0.7777777777777778,
              "#fb9f3a"
             ],
             [
              0.8888888888888888,
              "#fdca26"
             ],
             [
              1,
              "#f0f921"
             ]
            ],
            "type": "contour"
           }
          ],
          "contourcarpet": [
           {
            "colorbar": {
             "outlinewidth": 0,
             "ticks": ""
            },
            "type": "contourcarpet"
           }
          ],
          "heatmap": [
           {
            "colorbar": {
             "outlinewidth": 0,
             "ticks": ""
            },
            "colorscale": [
             [
              0,
              "#0d0887"
             ],
             [
              0.1111111111111111,
              "#46039f"
             ],
             [
              0.2222222222222222,
              "#7201a8"
             ],
             [
              0.3333333333333333,
              "#9c179e"
             ],
             [
              0.4444444444444444,
              "#bd3786"
             ],
             [
              0.5555555555555556,
              "#d8576b"
             ],
             [
              0.6666666666666666,
              "#ed7953"
             ],
             [
              0.7777777777777778,
              "#fb9f3a"
             ],
             [
              0.8888888888888888,
              "#fdca26"
             ],
             [
              1,
              "#f0f921"
             ]
            ],
            "type": "heatmap"
           }
          ],
          "heatmapgl": [
           {
            "colorbar": {
             "outlinewidth": 0,
             "ticks": ""
            },
            "colorscale": [
             [
              0,
              "#0d0887"
             ],
             [
              0.1111111111111111,
              "#46039f"
             ],
             [
              0.2222222222222222,
              "#7201a8"
             ],
             [
              0.3333333333333333,
              "#9c179e"
             ],
             [
              0.4444444444444444,
              "#bd3786"
             ],
             [
              0.5555555555555556,
              "#d8576b"
             ],
             [
              0.6666666666666666,
              "#ed7953"
             ],
             [
              0.7777777777777778,
              "#fb9f3a"
             ],
             [
              0.8888888888888888,
              "#fdca26"
             ],
             [
              1,
              "#f0f921"
             ]
            ],
            "type": "heatmapgl"
           }
          ],
          "histogram": [
           {
            "marker": {
             "colorbar": {
              "outlinewidth": 0,
              "ticks": ""
             }
            },
            "type": "histogram"
           }
          ],
          "histogram2d": [
           {
            "colorbar": {
             "outlinewidth": 0,
             "ticks": ""
            },
            "colorscale": [
             [
              0,
              "#0d0887"
             ],
             [
              0.1111111111111111,
              "#46039f"
             ],
             [
              0.2222222222222222,
              "#7201a8"
             ],
             [
              0.3333333333333333,
              "#9c179e"
             ],
             [
              0.4444444444444444,
              "#bd3786"
             ],
             [
              0.5555555555555556,
              "#d8576b"
             ],
             [
              0.6666666666666666,
              "#ed7953"
             ],
             [
              0.7777777777777778,
              "#fb9f3a"
             ],
             [
              0.8888888888888888,
              "#fdca26"
             ],
             [
              1,
              "#f0f921"
             ]
            ],
            "type": "histogram2d"
           }
          ],
          "histogram2dcontour": [
           {
            "colorbar": {
             "outlinewidth": 0,
             "ticks": ""
            },
            "colorscale": [
             [
              0,
              "#0d0887"
             ],
             [
              0.1111111111111111,
              "#46039f"
             ],
             [
              0.2222222222222222,
              "#7201a8"
             ],
             [
              0.3333333333333333,
              "#9c179e"
             ],
             [
              0.4444444444444444,
              "#bd3786"
             ],
             [
              0.5555555555555556,
              "#d8576b"
             ],
             [
              0.6666666666666666,
              "#ed7953"
             ],
             [
              0.7777777777777778,
              "#fb9f3a"
             ],
             [
              0.8888888888888888,
              "#fdca26"
             ],
             [
              1,
              "#f0f921"
             ]
            ],
            "type": "histogram2dcontour"
           }
          ],
          "mesh3d": [
           {
            "colorbar": {
             "outlinewidth": 0,
             "ticks": ""
            },
            "type": "mesh3d"
           }
          ],
          "parcoords": [
           {
            "line": {
             "colorbar": {
              "outlinewidth": 0,
              "ticks": ""
             }
            },
            "type": "parcoords"
           }
          ],
          "pie": [
           {
            "automargin": true,
            "type": "pie"
           }
          ],
          "scatter": [
           {
            "marker": {
             "colorbar": {
              "outlinewidth": 0,
              "ticks": ""
             }
            },
            "type": "scatter"
           }
          ],
          "scatter3d": [
           {
            "line": {
             "colorbar": {
              "outlinewidth": 0,
              "ticks": ""
             }
            },
            "marker": {
             "colorbar": {
              "outlinewidth": 0,
              "ticks": ""
             }
            },
            "type": "scatter3d"
           }
          ],
          "scattercarpet": [
           {
            "marker": {
             "colorbar": {
              "outlinewidth": 0,
              "ticks": ""
             }
            },
            "type": "scattercarpet"
           }
          ],
          "scattergeo": [
           {
            "marker": {
             "colorbar": {
              "outlinewidth": 0,
              "ticks": ""
             }
            },
            "type": "scattergeo"
           }
          ],
          "scattergl": [
           {
            "marker": {
             "colorbar": {
              "outlinewidth": 0,
              "ticks": ""
             }
            },
            "type": "scattergl"
           }
          ],
          "scattermapbox": [
           {
            "marker": {
             "colorbar": {
              "outlinewidth": 0,
              "ticks": ""
             }
            },
            "type": "scattermapbox"
           }
          ],
          "scatterpolar": [
           {
            "marker": {
             "colorbar": {
              "outlinewidth": 0,
              "ticks": ""
             }
            },
            "type": "scatterpolar"
           }
          ],
          "scatterpolargl": [
           {
            "marker": {
             "colorbar": {
              "outlinewidth": 0,
              "ticks": ""
             }
            },
            "type": "scatterpolargl"
           }
          ],
          "scatterternary": [
           {
            "marker": {
             "colorbar": {
              "outlinewidth": 0,
              "ticks": ""
             }
            },
            "type": "scatterternary"
           }
          ],
          "surface": [
           {
            "colorbar": {
             "outlinewidth": 0,
             "ticks": ""
            },
            "colorscale": [
             [
              0,
              "#0d0887"
             ],
             [
              0.1111111111111111,
              "#46039f"
             ],
             [
              0.2222222222222222,
              "#7201a8"
             ],
             [
              0.3333333333333333,
              "#9c179e"
             ],
             [
              0.4444444444444444,
              "#bd3786"
             ],
             [
              0.5555555555555556,
              "#d8576b"
             ],
             [
              0.6666666666666666,
              "#ed7953"
             ],
             [
              0.7777777777777778,
              "#fb9f3a"
             ],
             [
              0.8888888888888888,
              "#fdca26"
             ],
             [
              1,
              "#f0f921"
             ]
            ],
            "type": "surface"
           }
          ],
          "table": [
           {
            "cells": {
             "fill": {
              "color": "#EBF0F8"
             },
             "line": {
              "color": "white"
             }
            },
            "header": {
             "fill": {
              "color": "#C8D4E3"
             },
             "line": {
              "color": "white"
             }
            },
            "type": "table"
           }
          ]
         },
         "layout": {
          "annotationdefaults": {
           "arrowcolor": "#2a3f5f",
           "arrowhead": 0,
           "arrowwidth": 1
          },
          "coloraxis": {
           "colorbar": {
            "outlinewidth": 0,
            "ticks": ""
           }
          },
          "colorscale": {
           "diverging": [
            [
             0,
             "#8e0152"
            ],
            [
             0.1,
             "#c51b7d"
            ],
            [
             0.2,
             "#de77ae"
            ],
            [
             0.3,
             "#f1b6da"
            ],
            [
             0.4,
             "#fde0ef"
            ],
            [
             0.5,
             "#f7f7f7"
            ],
            [
             0.6,
             "#e6f5d0"
            ],
            [
             0.7,
             "#b8e186"
            ],
            [
             0.8,
             "#7fbc41"
            ],
            [
             0.9,
             "#4d9221"
            ],
            [
             1,
             "#276419"
            ]
           ],
           "sequential": [
            [
             0,
             "#0d0887"
            ],
            [
             0.1111111111111111,
             "#46039f"
            ],
            [
             0.2222222222222222,
             "#7201a8"
            ],
            [
             0.3333333333333333,
             "#9c179e"
            ],
            [
             0.4444444444444444,
             "#bd3786"
            ],
            [
             0.5555555555555556,
             "#d8576b"
            ],
            [
             0.6666666666666666,
             "#ed7953"
            ],
            [
             0.7777777777777778,
             "#fb9f3a"
            ],
            [
             0.8888888888888888,
             "#fdca26"
            ],
            [
             1,
             "#f0f921"
            ]
           ],
           "sequentialminus": [
            [
             0,
             "#0d0887"
            ],
            [
             0.1111111111111111,
             "#46039f"
            ],
            [
             0.2222222222222222,
             "#7201a8"
            ],
            [
             0.3333333333333333,
             "#9c179e"
            ],
            [
             0.4444444444444444,
             "#bd3786"
            ],
            [
             0.5555555555555556,
             "#d8576b"
            ],
            [
             0.6666666666666666,
             "#ed7953"
            ],
            [
             0.7777777777777778,
             "#fb9f3a"
            ],
            [
             0.8888888888888888,
             "#fdca26"
            ],
            [
             1,
             "#f0f921"
            ]
           ]
          },
          "colorway": [
           "#636efa",
           "#EF553B",
           "#00cc96",
           "#ab63fa",
           "#FFA15A",
           "#19d3f3",
           "#FF6692",
           "#B6E880",
           "#FF97FF",
           "#FECB52"
          ],
          "font": {
           "color": "#2a3f5f"
          },
          "geo": {
           "bgcolor": "white",
           "lakecolor": "white",
           "landcolor": "#E5ECF6",
           "showlakes": true,
           "showland": true,
           "subunitcolor": "white"
          },
          "hoverlabel": {
           "align": "left"
          },
          "hovermode": "closest",
          "mapbox": {
           "style": "light"
          },
          "paper_bgcolor": "white",
          "plot_bgcolor": "#E5ECF6",
          "polar": {
           "angularaxis": {
            "gridcolor": "white",
            "linecolor": "white",
            "ticks": ""
           },
           "bgcolor": "#E5ECF6",
           "radialaxis": {
            "gridcolor": "white",
            "linecolor": "white",
            "ticks": ""
           }
          },
          "scene": {
           "xaxis": {
            "backgroundcolor": "#E5ECF6",
            "gridcolor": "white",
            "gridwidth": 2,
            "linecolor": "white",
            "showbackground": true,
            "ticks": "",
            "zerolinecolor": "white"
           },
           "yaxis": {
            "backgroundcolor": "#E5ECF6",
            "gridcolor": "white",
            "gridwidth": 2,
            "linecolor": "white",
            "showbackground": true,
            "ticks": "",
            "zerolinecolor": "white"
           },
           "zaxis": {
            "backgroundcolor": "#E5ECF6",
            "gridcolor": "white",
            "gridwidth": 2,
            "linecolor": "white",
            "showbackground": true,
            "ticks": "",
            "zerolinecolor": "white"
           }
          },
          "shapedefaults": {
           "line": {
            "color": "#2a3f5f"
           }
          },
          "ternary": {
           "aaxis": {
            "gridcolor": "white",
            "linecolor": "white",
            "ticks": ""
           },
           "baxis": {
            "gridcolor": "white",
            "linecolor": "white",
            "ticks": ""
           },
           "bgcolor": "#E5ECF6",
           "caxis": {
            "gridcolor": "white",
            "linecolor": "white",
            "ticks": ""
           }
          },
          "title": {
           "x": 0.05
          },
          "xaxis": {
           "automargin": true,
           "gridcolor": "white",
           "linecolor": "white",
           "ticks": "",
           "title": {
            "standoff": 15
           },
           "zerolinecolor": "white",
           "zerolinewidth": 2
          },
          "yaxis": {
           "automargin": true,
           "gridcolor": "white",
           "linecolor": "white",
           "ticks": "",
           "title": {
            "standoff": 15
           },
           "zerolinecolor": "white",
           "zerolinewidth": 2
          }
         }
        },
        "title": {
         "text": "QTE Dimanche/Mercredi, 1020/800/50 - Le Maitre Glacier"
        }
       }
      },
      "text/html": [
       "<div>\n",
       "        \n",
       "        \n",
       "            <div id=\"6f052bbc-0ec7-41b5-beb8-1ca14b8ae86a\" class=\"plotly-graph-div\" style=\"height:525px; width:100%;\"></div>\n",
       "            <script type=\"text/javascript\">\n",
       "                require([\"plotly\"], function(Plotly) {\n",
       "                    window.PLOTLYENV=window.PLOTLYENV || {};\n",
       "                    \n",
       "                if (document.getElementById(\"6f052bbc-0ec7-41b5-beb8-1ca14b8ae86a\")) {\n",
       "                    Plotly.newPlot(\n",
       "                        '6f052bbc-0ec7-41b5-beb8-1ca14b8ae86a',\n",
       "                        [{\"mode\": \"lines\", \"name\": \"ICE CREAM - VANILLE\", \"type\": \"scatter\", \"x\": [\"2018-08-08\"], \"y\": [9.0]}, {\"mode\": \"lines\", \"name\": \"ICE CREAM - CHOCOLAT\", \"type\": \"scatter\", \"x\": [\"2018-08-08\", \"2018-08-18\"], \"y\": [9.0, 12.0]}, {\"mode\": \"lines\", \"name\": \"ICE CREAM - FRAISE\", \"type\": \"scatter\", \"x\": [\"2018-08-08\"], \"y\": [8.0]}],\n",
       "                        {\"template\": {\"data\": {\"bar\": [{\"error_x\": {\"color\": \"#2a3f5f\"}, \"error_y\": {\"color\": \"#2a3f5f\"}, \"marker\": {\"line\": {\"color\": \"#E5ECF6\", \"width\": 0.5}}, \"type\": \"bar\"}], \"barpolar\": [{\"marker\": {\"line\": {\"color\": \"#E5ECF6\", \"width\": 0.5}}, \"type\": \"barpolar\"}], \"carpet\": [{\"aaxis\": {\"endlinecolor\": \"#2a3f5f\", \"gridcolor\": \"white\", \"linecolor\": \"white\", \"minorgridcolor\": \"white\", \"startlinecolor\": \"#2a3f5f\"}, \"baxis\": {\"endlinecolor\": \"#2a3f5f\", \"gridcolor\": \"white\", \"linecolor\": \"white\", \"minorgridcolor\": \"white\", \"startlinecolor\": \"#2a3f5f\"}, \"type\": \"carpet\"}], \"choropleth\": [{\"colorbar\": {\"outlinewidth\": 0, \"ticks\": \"\"}, \"type\": \"choropleth\"}], \"contour\": [{\"colorbar\": {\"outlinewidth\": 0, \"ticks\": \"\"}, \"colorscale\": [[0.0, \"#0d0887\"], [0.1111111111111111, \"#46039f\"], [0.2222222222222222, \"#7201a8\"], [0.3333333333333333, \"#9c179e\"], [0.4444444444444444, \"#bd3786\"], [0.5555555555555556, \"#d8576b\"], [0.6666666666666666, \"#ed7953\"], [0.7777777777777778, \"#fb9f3a\"], [0.8888888888888888, \"#fdca26\"], [1.0, \"#f0f921\"]], \"type\": \"contour\"}], \"contourcarpet\": [{\"colorbar\": {\"outlinewidth\": 0, \"ticks\": \"\"}, \"type\": \"contourcarpet\"}], \"heatmap\": [{\"colorbar\": {\"outlinewidth\": 0, \"ticks\": \"\"}, \"colorscale\": [[0.0, \"#0d0887\"], [0.1111111111111111, \"#46039f\"], [0.2222222222222222, \"#7201a8\"], [0.3333333333333333, \"#9c179e\"], [0.4444444444444444, \"#bd3786\"], [0.5555555555555556, \"#d8576b\"], [0.6666666666666666, \"#ed7953\"], [0.7777777777777778, \"#fb9f3a\"], [0.8888888888888888, \"#fdca26\"], [1.0, \"#f0f921\"]], \"type\": \"heatmap\"}], \"heatmapgl\": [{\"colorbar\": {\"outlinewidth\": 0, \"ticks\": \"\"}, \"colorscale\": [[0.0, \"#0d0887\"], [0.1111111111111111, \"#46039f\"], [0.2222222222222222, \"#7201a8\"], [0.3333333333333333, \"#9c179e\"], [0.4444444444444444, \"#bd3786\"], [0.5555555555555556, \"#d8576b\"], [0.6666666666666666, \"#ed7953\"], [0.7777777777777778, \"#fb9f3a\"], [0.8888888888888888, \"#fdca26\"], [1.0, \"#f0f921\"]], \"type\": \"heatmapgl\"}], \"histogram\": [{\"marker\": {\"colorbar\": {\"outlinewidth\": 0, \"ticks\": \"\"}}, \"type\": \"histogram\"}], \"histogram2d\": [{\"colorbar\": {\"outlinewidth\": 0, \"ticks\": \"\"}, \"colorscale\": [[0.0, \"#0d0887\"], [0.1111111111111111, \"#46039f\"], [0.2222222222222222, \"#7201a8\"], [0.3333333333333333, \"#9c179e\"], [0.4444444444444444, \"#bd3786\"], [0.5555555555555556, \"#d8576b\"], [0.6666666666666666, \"#ed7953\"], [0.7777777777777778, \"#fb9f3a\"], [0.8888888888888888, \"#fdca26\"], [1.0, \"#f0f921\"]], \"type\": \"histogram2d\"}], \"histogram2dcontour\": [{\"colorbar\": {\"outlinewidth\": 0, \"ticks\": \"\"}, \"colorscale\": [[0.0, \"#0d0887\"], [0.1111111111111111, \"#46039f\"], [0.2222222222222222, \"#7201a8\"], [0.3333333333333333, \"#9c179e\"], [0.4444444444444444, \"#bd3786\"], [0.5555555555555556, \"#d8576b\"], [0.6666666666666666, \"#ed7953\"], [0.7777777777777778, \"#fb9f3a\"], [0.8888888888888888, \"#fdca26\"], [1.0, \"#f0f921\"]], \"type\": \"histogram2dcontour\"}], \"mesh3d\": [{\"colorbar\": {\"outlinewidth\": 0, \"ticks\": \"\"}, \"type\": \"mesh3d\"}], \"parcoords\": [{\"line\": {\"colorbar\": {\"outlinewidth\": 0, \"ticks\": \"\"}}, \"type\": \"parcoords\"}], \"pie\": [{\"automargin\": true, \"type\": \"pie\"}], \"scatter\": [{\"marker\": {\"colorbar\": {\"outlinewidth\": 0, \"ticks\": \"\"}}, \"type\": \"scatter\"}], \"scatter3d\": [{\"line\": {\"colorbar\": {\"outlinewidth\": 0, \"ticks\": \"\"}}, \"marker\": {\"colorbar\": {\"outlinewidth\": 0, \"ticks\": \"\"}}, \"type\": \"scatter3d\"}], \"scattercarpet\": [{\"marker\": {\"colorbar\": {\"outlinewidth\": 0, \"ticks\": \"\"}}, \"type\": \"scattercarpet\"}], \"scattergeo\": [{\"marker\": {\"colorbar\": {\"outlinewidth\": 0, \"ticks\": \"\"}}, \"type\": \"scattergeo\"}], \"scattergl\": [{\"marker\": {\"colorbar\": {\"outlinewidth\": 0, \"ticks\": \"\"}}, \"type\": \"scattergl\"}], \"scattermapbox\": [{\"marker\": {\"colorbar\": {\"outlinewidth\": 0, \"ticks\": \"\"}}, \"type\": \"scattermapbox\"}], \"scatterpolar\": [{\"marker\": {\"colorbar\": {\"outlinewidth\": 0, \"ticks\": \"\"}}, \"type\": \"scatterpolar\"}], \"scatterpolargl\": [{\"marker\": {\"colorbar\": {\"outlinewidth\": 0, \"ticks\": \"\"}}, \"type\": \"scatterpolargl\"}], \"scatterternary\": [{\"marker\": {\"colorbar\": {\"outlinewidth\": 0, \"ticks\": \"\"}}, \"type\": \"scatterternary\"}], \"surface\": [{\"colorbar\": {\"outlinewidth\": 0, \"ticks\": \"\"}, \"colorscale\": [[0.0, \"#0d0887\"], [0.1111111111111111, \"#46039f\"], [0.2222222222222222, \"#7201a8\"], [0.3333333333333333, \"#9c179e\"], [0.4444444444444444, \"#bd3786\"], [0.5555555555555556, \"#d8576b\"], [0.6666666666666666, \"#ed7953\"], [0.7777777777777778, \"#fb9f3a\"], [0.8888888888888888, \"#fdca26\"], [1.0, \"#f0f921\"]], \"type\": \"surface\"}], \"table\": [{\"cells\": {\"fill\": {\"color\": \"#EBF0F8\"}, \"line\": {\"color\": \"white\"}}, \"header\": {\"fill\": {\"color\": \"#C8D4E3\"}, \"line\": {\"color\": \"white\"}}, \"type\": \"table\"}]}, \"layout\": {\"annotationdefaults\": {\"arrowcolor\": \"#2a3f5f\", \"arrowhead\": 0, \"arrowwidth\": 1}, \"coloraxis\": {\"colorbar\": {\"outlinewidth\": 0, \"ticks\": \"\"}}, \"colorscale\": {\"diverging\": [[0, \"#8e0152\"], [0.1, \"#c51b7d\"], [0.2, \"#de77ae\"], [0.3, \"#f1b6da\"], [0.4, \"#fde0ef\"], [0.5, \"#f7f7f7\"], [0.6, \"#e6f5d0\"], [0.7, \"#b8e186\"], [0.8, \"#7fbc41\"], [0.9, \"#4d9221\"], [1, \"#276419\"]], \"sequential\": [[0.0, \"#0d0887\"], [0.1111111111111111, \"#46039f\"], [0.2222222222222222, \"#7201a8\"], [0.3333333333333333, \"#9c179e\"], [0.4444444444444444, \"#bd3786\"], [0.5555555555555556, \"#d8576b\"], [0.6666666666666666, \"#ed7953\"], [0.7777777777777778, \"#fb9f3a\"], [0.8888888888888888, \"#fdca26\"], [1.0, \"#f0f921\"]], \"sequentialminus\": [[0.0, \"#0d0887\"], [0.1111111111111111, \"#46039f\"], [0.2222222222222222, \"#7201a8\"], [0.3333333333333333, \"#9c179e\"], [0.4444444444444444, \"#bd3786\"], [0.5555555555555556, \"#d8576b\"], [0.6666666666666666, \"#ed7953\"], [0.7777777777777778, \"#fb9f3a\"], [0.8888888888888888, \"#fdca26\"], [1.0, \"#f0f921\"]]}, \"colorway\": [\"#636efa\", \"#EF553B\", \"#00cc96\", \"#ab63fa\", \"#FFA15A\", \"#19d3f3\", \"#FF6692\", \"#B6E880\", \"#FF97FF\", \"#FECB52\"], \"font\": {\"color\": \"#2a3f5f\"}, \"geo\": {\"bgcolor\": \"white\", \"lakecolor\": \"white\", \"landcolor\": \"#E5ECF6\", \"showlakes\": true, \"showland\": true, \"subunitcolor\": \"white\"}, \"hoverlabel\": {\"align\": \"left\"}, \"hovermode\": \"closest\", \"mapbox\": {\"style\": \"light\"}, \"paper_bgcolor\": \"white\", \"plot_bgcolor\": \"#E5ECF6\", \"polar\": {\"angularaxis\": {\"gridcolor\": \"white\", \"linecolor\": \"white\", \"ticks\": \"\"}, \"bgcolor\": \"#E5ECF6\", \"radialaxis\": {\"gridcolor\": \"white\", \"linecolor\": \"white\", \"ticks\": \"\"}}, \"scene\": {\"xaxis\": {\"backgroundcolor\": \"#E5ECF6\", \"gridcolor\": \"white\", \"gridwidth\": 2, \"linecolor\": \"white\", \"showbackground\": true, \"ticks\": \"\", \"zerolinecolor\": \"white\"}, \"yaxis\": {\"backgroundcolor\": \"#E5ECF6\", \"gridcolor\": \"white\", \"gridwidth\": 2, \"linecolor\": \"white\", \"showbackground\": true, \"ticks\": \"\", \"zerolinecolor\": \"white\"}, \"zaxis\": {\"backgroundcolor\": \"#E5ECF6\", \"gridcolor\": \"white\", \"gridwidth\": 2, \"linecolor\": \"white\", \"showbackground\": true, \"ticks\": \"\", \"zerolinecolor\": \"white\"}}, \"shapedefaults\": {\"line\": {\"color\": \"#2a3f5f\"}}, \"ternary\": {\"aaxis\": {\"gridcolor\": \"white\", \"linecolor\": \"white\", \"ticks\": \"\"}, \"baxis\": {\"gridcolor\": \"white\", \"linecolor\": \"white\", \"ticks\": \"\"}, \"bgcolor\": \"#E5ECF6\", \"caxis\": {\"gridcolor\": \"white\", \"linecolor\": \"white\", \"ticks\": \"\"}}, \"title\": {\"x\": 0.05}, \"xaxis\": {\"automargin\": true, \"gridcolor\": \"white\", \"linecolor\": \"white\", \"ticks\": \"\", \"title\": {\"standoff\": 15}, \"zerolinecolor\": \"white\", \"zerolinewidth\": 2}, \"yaxis\": {\"automargin\": true, \"gridcolor\": \"white\", \"linecolor\": \"white\", \"ticks\": \"\", \"title\": {\"standoff\": 15}, \"zerolinecolor\": \"white\", \"zerolinewidth\": 2}}}, \"title\": {\"text\": \"QTE Dimanche/Mercredi, 1020/800/50 - Le Maitre Glacier\"}},\n",
       "                        {\"responsive\": true}\n",
       "                    ).then(function(){\n",
       "                            \n",
       "var gd = document.getElementById('6f052bbc-0ec7-41b5-beb8-1ca14b8ae86a');\n",
       "var x = new MutationObserver(function (mutations, observer) {{\n",
       "        var display = window.getComputedStyle(gd).display;\n",
       "        if (!display || display === 'none') {{\n",
       "            console.log([gd, 'removed!']);\n",
       "            Plotly.purge(gd);\n",
       "            observer.disconnect();\n",
       "        }}\n",
       "}});\n",
       "\n",
       "// Listen for the removal of the full notebook cells\n",
       "var notebookContainer = gd.closest('#notebook-container');\n",
       "if (notebookContainer) {{\n",
       "    x.observe(notebookContainer, {childList: true});\n",
       "}}\n",
       "\n",
       "// Listen for the clearing of the current output cell\n",
       "var outputEl = gd.closest('.output');\n",
       "if (outputEl) {{\n",
       "    x.observe(outputEl, {childList: true});\n",
       "}}\n",
       "\n",
       "                        })\n",
       "                };\n",
       "                });\n",
       "            </script>\n",
       "        </div>"
      ]
     },
     "metadata": {},
     "output_type": "display_data"
    },
    {
     "name": "stdout",
     "output_type": "stream",
     "text": [
      "\n"
     ]
    }
   ],
   "source": [
    "Plot_QTE3(\"Dimanche/Mercredi, 1020/800/50\")"
   ]
  },
  {
   "cell_type": "code",
   "execution_count": null,
   "metadata": {},
   "outputs": [],
   "source": []
  }
 ],
 "metadata": {
  "kernelspec": {
   "display_name": "Python 3",
   "language": "python",
   "name": "python3"
  },
  "language_info": {
   "codemirror_mode": {
    "name": "ipython",
    "version": 3
   },
   "file_extension": ".py",
   "mimetype": "text/x-python",
   "name": "python",
   "nbconvert_exporter": "python",
   "pygments_lexer": "ipython3",
   "version": "3.7.6"
  }
 },
 "nbformat": 4,
 "nbformat_minor": 4
}
